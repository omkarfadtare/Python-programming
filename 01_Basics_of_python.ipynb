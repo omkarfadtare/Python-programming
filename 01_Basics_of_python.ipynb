{
 "cells": [
  {
   "cell_type": "markdown",
   "id": "4c91968a",
   "metadata": {},
   "source": [
    "## Introduction to Python:\n",
    "\n",
    "- Python was developed by __`Guido van Rossum`__, and released in 1991. Python was named after __`'Monty Python's Flying Circus'`__ a comedy series created by the comedy group Monty Python.\n",
    "- It is a general-purpose programming language that also works nicely as a scripting language.\n",
    "- It is a high level interpreted programming language, which means the source code of python does not need compilation like other languages. Source code of python directly gets converted to binary format at the time of writing code.\n",
    "- It is dynamically typed language, which means the type for a variable is decided at the run time only, we do not have to specify the type of a variable.\n",
    "\n",
    "__**Interpreter:__ Interpreter is a layer of software logic between your code and the computer hardware on your machine.\n",
    "\n",
    "__[Advantages/Features of Python]__\n",
    "- Easy to code, high level programming language, uses clear and readable syntax\n",
    "- Free & open source, with huge global community\n",
    "- Portable (works on different platforms and operating systems)\n",
    "- Extensive support libraries which provide modules suited for different tasks like automation, web scrapping, text processing, image processing, machine learning, data analytics etc.\n",
    "- Supports GUI (Graphical user interface) applications and has framework for web\n",
    "\n",
    "__[Disadvanategs of python]__\n",
    "- Poor Memory Efficiency (Python needs a lot of memory space, this can be a disadvantage when we want to develop a memory optimised applications)\n",
    "- Slow Speed (As python code, executes line by line and due to poor memory efficiency, the execution speed becomes slow)\n",
    "- Weak in mobile computing (Due to its high memory usage and slow speed, it is generally not used for frontend programming or mobile app development. It is used for backdend programming.)\n",
    "- Runtime Errors (As it is a dynamically typed language, The data types of variables in Python can change suddenly. A variable holding a string may contain an integer later, and this can lead to runtime errors.)\n",
    "\n",
    "__[Memory allocation in Python]__\n",
    "- In C or other languages, memory management is the responsibility of the programmer. A programmer has to manually allocate memory before it can be used by the program and release it when the program no longer needs it.\n",
    "- In Python, memory management or the allocation and deallocation of memory is an automatic process.\n",
    "- In C language, 'malloc' method is used to request a block of memory from the operating system at run-time, whereas 'free' method is used to free or release memory allocated to the program back to the operating system when the program no longer needs it.\n",
    "- The implementation of the Python language in C is called 'CPython'. CPython is the default and most widely used implementation of the Python language.\n",
    "- When a Python program needs memory, CPython internally calls the __`malloc`__ method to allocate it and __`free`__ method to release it when the program no longer needs the memory.\n",
    "- Everything in Python such as classes, functions, and even simple data types like integers, floats, and strings, are objects. \n",
    "- When we define an integer in a Python, CPython internally creates an object of type integer. These objects are stored in heap memory.\n",
    "- Variables in Python are just references to the actual object in memory. They are just like names or labels that point to the actual object in memory, they do not store any value.\n",
    "- There are two types of memory allocation in Python, that is static and dynamic memory allocation.\n",
    "\n",
    "__`1) Stack Memory:`__ \n",
    "- Stack memory is used for managing function calls and their local variables. It's like a temporary scratchpad that is automatically cleared when a function finishes its job. You can think of it as a small, fast-access storage area for short-lived data.\n",
    "\n",
    "__`2) Heap Memory:`__ \n",
    "- Heap memory is where Python stores more long-lasting and dynamically allocated data, like objects such as lists, dictionaries, and custom classes. It's a larger and more flexible storage space where data can persist beyond the scope of a single function.\n",
    "\n",
    "__[Garbage collection in python]__ \n",
    "- It is defined as the process of reclamation or release of allocated memory when it is no longer needed by the program.\n",
    "- The __`Python garbage collector`__ handles memory allocation and deallocation automatically. \n",
    "- The garbage collector (GC) operates in the background and is triggered when the reference count reaches zero.\n",
    "- The reference count rises when the following occur:\n",
    "  - An object is given a new name\n",
    "  - An object is placed in a container, such as a tuple or a dictionary\n",
    "- The reference count lowers when the following occurs:\n",
    "  - An object’s reference is reassigned\n",
    "  - An object’s reference moves out of scope\n",
    "  - An object is removed\n",
    "  \n",
    "__[PyObject concept in python]__ \n",
    "- It is a object data structure used to define object type\n",
    "- In python, var = 10 and temp = 10 will have same id, whereas var = 10 and var = 20 will have different id.\n",
    "- In java var = 10 and temp = 10 will have different id, whereas var = 10 and var = 20 will have same id.\n",
    "\n",
    "__[Threading & Multiprocessing]__\n",
    "- Both multiprocessing and threading in Python are ways to do multiple things at the same time, but they do it in different ways.\n",
    "\n",
    "__`1) Threading`__\n",
    "- Threading is a process of running multiple threads (smaller units of a program) concurrently, sharing the same memory space.\n",
    "- Means they can easily communicate and share data with each other and are good for tasks that involve a lot of waiting or I/O operations.\n",
    "\n",
    "__`2) Multiprocessing`__\n",
    "- In multiprocessing, each task is done by a completely separate process. These processes don't share memory space, which means they can run completely independent and in their own memory space.\n",
    "- Multiprocessing is great for tasks that can be split into independent parts and processed in parallel.\n",
    "- Think of it like having multiple workers working on different tasks simultaneously: Imagine you have a big task that needs to be done, and you have a team of people. Instead of making one person do the whole task, you divide it into smaller parts and have each person work on their part at the same time.\n",
    "\n",
    "__When to use Threading and When to use Multiprocessing?__\n",
    "- If you have tasks that can be divided into independent parts and can benefit from parallel processing, use multiprocessing.\n",
    "- If you have tasks that involve I/O operations and can run concurrently, use threading.\n",
    "\n",
    "__[Shortkeys in python's Jupyter notebook]__\n",
    "- (ctrl+a, ctrl+c/ctrl+x, ctrl+v): select all, copy, paste\n",
    "- (esc+z, esc+a): undo, redo\n",
    "- (shift+enter): run cell and enter below\n",
    "- (ctrl+enter): run the cell\n",
    "- (esc+a): insert cell above\n",
    "- (esc+b): insert cell below\n",
    "- (esc+y: change cell to code\n",
    "- (esc+m): change cell to markdown\n",
    "- (tab): auto-complete\n",
    "- (shift+tab): for showing documentation of command "
   ]
  },
  {
   "cell_type": "code",
   "execution_count": 2,
   "id": "e23e4e28",
   "metadata": {},
   "outputs": [
    {
     "name": "stdout",
     "output_type": "stream",
     "text": [
      "10\n"
     ]
    }
   ],
   "source": [
    "# Stack memory example:\n",
    "\n",
    "def foo(x):\n",
    "    y = x * 2\n",
    "    return y\n",
    "\n",
    "result = foo(5)\n",
    "print(result)"
   ]
  },
  {
   "cell_type": "code",
   "execution_count": 3,
   "id": "6fae1c3e",
   "metadata": {},
   "outputs": [],
   "source": [
    "# Heap memory example:\n",
    "\n",
    "class Person:\n",
    "    def __init__(self, name):\n",
    "        self.name = name\n",
    "\n",
    "person1 = Person(\"Alice\")\n",
    "person2 = Person(\"Bob\")"
   ]
  },
  {
   "cell_type": "code",
   "execution_count": 25,
   "id": "6bfbf75f",
   "metadata": {},
   "outputs": [
    {
     "name": "stdout",
     "output_type": "stream",
     "text": [
      "1830412970576\n",
      "1830412970576\n"
     ]
    }
   ],
   "source": [
    "# PyObject example:\n",
    "\n",
    "var =10\n",
    "temp = 10\n",
    "\n",
    "print(id(var))\n",
    "print(id(temp))"
   ]
  },
  {
   "cell_type": "code",
   "execution_count": 26,
   "id": "246450fa",
   "metadata": {},
   "outputs": [
    {
     "name": "stdout",
     "output_type": "stream",
     "text": [
      "1830412970576\n"
     ]
    }
   ],
   "source": [
    "var1 =10\n",
    "\n",
    "print(id(var1))"
   ]
  },
  {
   "cell_type": "code",
   "execution_count": 27,
   "id": "747ea2a1",
   "metadata": {},
   "outputs": [
    {
     "name": "stdout",
     "output_type": "stream",
     "text": [
      "1830412970896\n"
     ]
    }
   ],
   "source": [
    "var1 = 20\n",
    "\n",
    "print(id(var1))"
   ]
  },
  {
   "cell_type": "code",
   "execution_count": 35,
   "id": "653ea5ba",
   "metadata": {},
   "outputs": [
    {
     "name": "stdout",
     "output_type": "stream",
     "text": [
      "Number: 1\n",
      "Number: 2\n",
      "Number: 3\n",
      "Number: 4\n",
      "Number: 5\n",
      "Letter: a\n",
      "Letter: b\n",
      "Letter: c\n",
      "Letter: d\n",
      "Letter: e\n",
      "Both threads have finished.\n"
     ]
    }
   ],
   "source": [
    "# Threading example:\n",
    "\n",
    "import threading\n",
    "\n",
    "def print_numbers():\n",
    "    for i in range(1, 6):\n",
    "        print(\"Number:\", i)\n",
    "def print_letters():\n",
    "    for letter in 'abcde':\n",
    "        print(\"Letter:\", letter)\n",
    "\n",
    "# Creating two threads\n",
    "numbers_thread = threading.Thread(target=print_numbers)\n",
    "letters_thread = threading.Thread(target=print_letters)\n",
    "\n",
    "# Starting the threads\n",
    "numbers_thread.start()\n",
    "letters_thread.start()\n",
    "\n",
    "# Waiting for both threads to finish\n",
    "numbers_thread.join()\n",
    "letters_thread.join()\n",
    "\n",
    "print(\"Both threads have finished.\")"
   ]
  },
  {
   "cell_type": "code",
   "execution_count": 34,
   "id": "4c924d53",
   "metadata": {},
   "outputs": [
    {
     "name": "stdout",
     "output_type": "stream",
     "text": [
      "All processes have finished.\n"
     ]
    }
   ],
   "source": [
    "# Multiprocessing example:\n",
    "\n",
    "import multiprocessing\n",
    "\n",
    "def worker_function(number):\n",
    "    result = number * 2\n",
    "    print(\"Result:\", result)\n",
    "\n",
    "if __name__ == \"__main__\":\n",
    "    numbers = [1, 2, 3, 4, 5]\n",
    "\n",
    "    # Creating a process for each number\n",
    "    processes = []\n",
    "    for num in numbers:\n",
    "        process = multiprocessing.Process(target=worker_function, args=(num,))\n",
    "        processes.append(process)\n",
    "        process.start()\n",
    "\n",
    "    # Waiting for all processes to finish\n",
    "    for process in processes:\n",
    "        process.join()\n",
    "\n",
    "    print(\"All processes have finished.\")"
   ]
  },
  {
   "cell_type": "markdown",
   "id": "89aee100",
   "metadata": {},
   "source": [
    "__[Indentation]__ \n",
    "- Indentation refers to an empty space at the beginning of line. Helps to understand interpreter the block of code for a specific function."
   ]
  },
  {
   "cell_type": "code",
   "execution_count": 1,
   "id": "e5de502f",
   "metadata": {},
   "outputs": [
    {
     "data": {
      "text/plain": [
       "40"
      ]
     },
     "execution_count": 1,
     "metadata": {},
     "output_type": "execute_result"
    }
   ],
   "source": [
    "# Indentation example:\n",
    "\n",
    "def addition(a,b):\n",
    "    addition = a + b\n",
    "    return addition\n",
    "addition(10,30)"
   ]
  },
  {
   "cell_type": "markdown",
   "id": "0cb60792",
   "metadata": {},
   "source": [
    "__[Comments]__\n",
    "- Comments are the lines in the code that are ignored by the compiler/interpreter during the execution of the program/code. We use comments or markdown for the better understanding of our code."
   ]
  },
  {
   "cell_type": "code",
   "execution_count": 2,
   "id": "a38f15fb",
   "metadata": {},
   "outputs": [
    {
     "data": {
      "text/plain": [
       "\" Artificial intelligence (AI) is a wide-ranging tool that enables people to rethink how we integrate information,\\nanalyze data, and use the resulting insights to improve decision making—and already it is transforming every walk of life.\\nIn this report, Darrell West and John Allen discuss AI's application across a variety of sectors,\\naddress issues in its development, and offer recommendations for getting the most out of AI\\nwhile still protecting important human values. \""
      ]
     },
     "execution_count": 2,
     "metadata": {},
     "output_type": "execute_result"
    }
   ],
   "source": [
    "# Comment- '#' Key- (ctrl+?/)\n",
    "\n",
    "# In a professional way it is used to add below details to the code:\n",
    "# to add name of project\n",
    "# to add developer name\n",
    "# to add date of start\n",
    "# to add purpose\n",
    "# to additional requirements\n",
    "# to add dates\n",
    "\n",
    "# There are two ways to use comments:\n",
    "# 1) Single line comments: use # key\n",
    "# 2) Multi-line comments: select the number of lines you want as comments and press(ctrl+?/)\n",
    "\n",
    "# There is also another way for multi-line comments (You can use single single quote or double quote as well)\n",
    "# For example-\n",
    "# '''\n",
    "\n",
    "# '''\n",
    "\n",
    "# Multi-line comments:\n",
    "\n",
    "''' Artificial intelligence (AI) is a wide-ranging tool that enables people to rethink how we integrate information,\n",
    "analyze data, and use the resulting insights to improve decision making—and already it is transforming every walk of life.\n",
    "In this report, Darrell West and John Allen discuss AI's application across a variety of sectors,\n",
    "address issues in its development, and offer recommendations for getting the most out of AI\n",
    "while still protecting important human values.'''\n",
    "\n",
    "\"\"\" Artificial intelligence (AI) is a wide-ranging tool that enables people to rethink how we integrate information,\n",
    "analyze data, and use the resulting insights to improve decision making—and already it is transforming every walk of life.\n",
    "In this report, Darrell West and John Allen discuss AI's application across a variety of sectors,\n",
    "address issues in its development, and offer recommendations for getting the most out of AI\n",
    "while still protecting important human values. \"\"\""
   ]
  },
  {
   "cell_type": "markdown",
   "id": "00e70191",
   "metadata": {},
   "source": [
    "__[Variables in Python]__\n",
    "- Variables are something which stores data."
   ]
  },
  {
   "cell_type": "code",
   "execution_count": 4,
   "id": "ed8bbce6",
   "metadata": {},
   "outputs": [],
   "source": [
    "# Things to remember while using variable names:\n",
    "\n",
    "# 1) meaningful name should be given as variable's name.\n",
    "# 2) predefined keywords should not be used as variable's name.\n",
    "# 3) variable's name should not start with numbers.\n",
    "# 4) variables name should not start with uppercase character.\n",
    "# 5) variable's name should not contain special characters.\n",
    "# 6) variable's name should not contain spaces.\n",
    "# 7) uppercase characters, lowercase characters, under-score, using numbers in between the variable name is OK."
   ]
  },
  {
   "cell_type": "code",
   "execution_count": 5,
   "id": "3378e223",
   "metadata": {
    "scrolled": true
   },
   "outputs": [
    {
     "name": "stdout",
     "output_type": "stream",
     "text": [
      "\n",
      "Here is a list of the Python keywords.  Enter any keyword to get more help.\n",
      "\n",
      "False               break               for                 not\n",
      "None                class               from                or\n",
      "True                continue            global              pass\n",
      "__peg_parser__      def                 if                  raise\n",
      "and                 del                 import              return\n",
      "as                  elif                in                  try\n",
      "assert              else                is                  while\n",
      "async               except              lambda              with\n",
      "await               finally             nonlocal            yield\n",
      "\n"
     ]
    }
   ],
   "source": [
    "# Pre-defined keywords in python-\n",
    "\n",
    "help('keywords')"
   ]
  },
  {
   "cell_type": "code",
   "execution_count": 2,
   "id": "b6d4b941",
   "metadata": {},
   "outputs": [],
   "source": [
    "# Python is a case sensitive language; All these below three variable have same spelling but they are different from each other\n",
    "\n",
    "Omkar = 'python'\n",
    "oMkar = 'data science'\n",
    "omkaR = 'machine learning'"
   ]
  },
  {
   "cell_type": "code",
   "execution_count": 6,
   "id": "ec04d073",
   "metadata": {},
   "outputs": [
    {
     "name": "stdout",
     "output_type": "stream",
     "text": [
      "python\n",
      "data science\n",
      "machine learning\n"
     ]
    }
   ],
   "source": [
    "print(Omkar)\n",
    "print(oMkar)\n",
    "print(omkaR)"
   ]
  },
  {
   "cell_type": "markdown",
   "id": "1586e33c",
   "metadata": {},
   "source": [
    "__[Types of variables in Python]__"
   ]
  },
  {
   "cell_type": "code",
   "execution_count": 1,
   "id": "77817cd4",
   "metadata": {},
   "outputs": [],
   "source": [
    "# 1) Global Variables : Variables which are defined outside the function and can be used throughout the main program and user defined function as well.\n",
    "# 2) Local Variables : Variables which are defined inside the function and can only be used within user defined function only.\n",
    "# **Although we can make local variable to act as a global variable, by using `global` keyword, but it is not recommended."
   ]
  },
  {
   "cell_type": "code",
   "execution_count": 2,
   "id": "a37ff598",
   "metadata": {},
   "outputs": [
    {
     "name": "stdout",
     "output_type": "stream",
     "text": [
      "Inside user defined function 20\n",
      "Outside user defined function 20\n"
     ]
    }
   ],
   "source": [
    "a = 20 # global variable\n",
    "\n",
    "def display():\n",
    "    print('Inside user defined function', a)\n",
    "display()\n",
    "\n",
    "print('Outside user defined function', a)"
   ]
  },
  {
   "cell_type": "code",
   "execution_count": 3,
   "id": "f7674dfd",
   "metadata": {},
   "outputs": [
    {
     "name": "stdout",
     "output_type": "stream",
     "text": [
      "Inside user defined function 20\n",
      "Local variable 30\n",
      "Outside user defined function 20\n"
     ]
    }
   ],
   "source": [
    "a = 20 # global variable\n",
    "\n",
    "def display():\n",
    "    b = 30 # local variable\n",
    "    print('Inside user defined function', a)\n",
    "    print('Local variable', b) \n",
    "display()\n",
    "\n",
    "print('Outside user defined function', a)\n",
    "# print(b) # this will raise an error since b is not a global variable."
   ]
  },
  {
   "cell_type": "code",
   "execution_count": 4,
   "id": "c681cca2",
   "metadata": {},
   "outputs": [
    {
     "name": "stdout",
     "output_type": "stream",
     "text": [
      "global 10\n",
      "local 20\n",
      "local 40\n",
      "global 10\n"
     ]
    }
   ],
   "source": [
    "a = 10\n",
    "def display():\n",
    "    b = 20\n",
    "    print('global',a)\n",
    "    print('local',b)\n",
    "display()\n",
    "c = 40\n",
    "print('local',c)\n",
    "print('global',a)"
   ]
  },
  {
   "cell_type": "code",
   "execution_count": 5,
   "id": "de60918b",
   "metadata": {},
   "outputs": [
    {
     "name": "stdout",
     "output_type": "stream",
     "text": [
      "20\n",
      "global 10\n"
     ]
    }
   ],
   "source": [
    "a = 10\n",
    "def display():\n",
    "    a = 20 \n",
    "    print(a) # a will be printed as 20, because if local and global variables have same name, first preference will be given to local variable.\n",
    "display()\n",
    "# c = 40\n",
    "# print(c) # this will raise an error\n",
    "print('global',a) # we are not calling any function here that's why.."
   ]
  },
  {
   "cell_type": "code",
   "execution_count": 7,
   "id": "1831f2c6",
   "metadata": {},
   "outputs": [
    {
     "name": "stdout",
     "output_type": "stream",
     "text": [
      "20\n",
      "40\n",
      "60\n"
     ]
    }
   ],
   "source": [
    "a = 10 \n",
    "c = 20\n",
    "def display():\n",
    "    a = 20 # values defined within the function will be limited to that function only.\n",
    "    print(a)\n",
    "display()\n",
    "a = 40 # latest value of a is considered \n",
    "print(a)\n",
    "d = a+c # 40+20 both local variables\n",
    "print(d)"
   ]
  },
  {
   "cell_type": "code",
   "execution_count": 8,
   "id": "0e415884",
   "metadata": {},
   "outputs": [
    {
     "name": "stdout",
     "output_type": "stream",
     "text": [
      "20\n",
      "10\n"
     ]
    }
   ],
   "source": [
    "# we can make a local variable to act as a global variable using below method.\n",
    "\n",
    "def multiplication():\n",
    "    global a\n",
    "    a = 10\n",
    "    z = 2\n",
    "    multiplication = a*z\n",
    "    print(multiplication)\n",
    "multiplication() # output will be 20 since both 'a' and 'b' acted as a local variable\n",
    "\n",
    "# to cross check whether a is working as a global variable also\n",
    "print(a) # Yup! It works\n",
    "# print(z) # Nope! It isn't acting as a global variable since we didnt make it globle variable."
   ]
  },
  {
   "cell_type": "markdown",
   "id": "a93153af",
   "metadata": {},
   "source": [
    "__[Assigning multiple values to a variable, assigning same value to the multiple variable]__"
   ]
  },
  {
   "cell_type": "code",
   "execution_count": 28,
   "id": "66c6ecc0",
   "metadata": {},
   "outputs": [
    {
     "name": "stdout",
     "output_type": "stream",
     "text": [
      "python\n",
      "10\n",
      "10.2\n"
     ]
    }
   ],
   "source": [
    "a,b,c = 'python', 10, 10.2\n",
    "\n",
    "print(a)\n",
    "print(b)\n",
    "print(c)"
   ]
  },
  {
   "cell_type": "code",
   "execution_count": 29,
   "id": "ad665374",
   "metadata": {},
   "outputs": [
    {
     "name": "stdout",
     "output_type": "stream",
     "text": [
      "a == 10, b == 10, c == 10\n"
     ]
    }
   ],
   "source": [
    "a = 10 ; b = 10 ; c = 10\n",
    "\n",
    "print(f\"a == {a}, b == {b}, c == {c}\")"
   ]
  },
  {
   "cell_type": "code",
   "execution_count": 30,
   "id": "79e5aa60",
   "metadata": {},
   "outputs": [
    {
     "name": "stdout",
     "output_type": "stream",
     "text": [
      "10\n",
      "20\n"
     ]
    }
   ],
   "source": [
    "num1, num2 = 10,20\n",
    "\n",
    "print(num1)\n",
    "print(num2)"
   ]
  },
  {
   "cell_type": "code",
   "execution_count": 31,
   "id": "b18bb71e",
   "metadata": {},
   "outputs": [
    {
     "name": "stdout",
     "output_type": "stream",
     "text": [
      "20\n",
      "10\n"
     ]
    }
   ],
   "source": [
    "# Swaping variable values\n",
    "\n",
    "num1, num2 = num2, num1\n",
    "print(num1)\n",
    "print(num2)"
   ]
  },
  {
   "cell_type": "code",
   "execution_count": 32,
   "id": "7e0e348e",
   "metadata": {},
   "outputs": [
    {
     "name": "stdout",
     "output_type": "stream",
     "text": [
      "50\n",
      "50\n",
      "50\n"
     ]
    }
   ],
   "source": [
    "a = b = c = 50\n",
    "\n",
    "print(a)\n",
    "print(b)\n",
    "print(c)"
   ]
  },
  {
   "cell_type": "code",
   "execution_count": 33,
   "id": "b5262d4e",
   "metadata": {},
   "outputs": [
    {
     "name": "stdout",
     "output_type": "stream",
     "text": [
      "apple\n",
      "banana\n",
      "cherry\n"
     ]
    }
   ],
   "source": [
    "fruits = [\"apple\", \"banana\", \"cherry\"]\n",
    "x, y, z = fruits\n",
    "\n",
    "print(x)\n",
    "print(y)\n",
    "print(z)"
   ]
  },
  {
   "cell_type": "markdown",
   "id": "c0e09c16",
   "metadata": {},
   "source": [
    "__[Deleting variable in Python]__ \n",
    "- It delets the variable from the memory space."
   ]
  },
  {
   "cell_type": "code",
   "execution_count": 51,
   "id": "d9fa4727",
   "metadata": {},
   "outputs": [],
   "source": [
    "a = b = c = 30"
   ]
  },
  {
   "cell_type": "code",
   "execution_count": 52,
   "id": "917497c7",
   "metadata": {},
   "outputs": [],
   "source": [
    "del b"
   ]
  },
  {
   "cell_type": "code",
   "execution_count": 53,
   "id": "983c6e6f",
   "metadata": {},
   "outputs": [
    {
     "data": {
      "text/plain": [
       "(30, 30)"
      ]
     },
     "execution_count": 53,
     "metadata": {},
     "output_type": "execute_result"
    }
   ],
   "source": [
    "a,c # b is not there in memory"
   ]
  },
  {
   "cell_type": "markdown",
   "id": "b0d71258",
   "metadata": {},
   "source": [
    "__[Data types in Python]__"
   ]
  },
  {
   "cell_type": "code",
   "execution_count": 9,
   "id": "3ad12bed",
   "metadata": {},
   "outputs": [],
   "source": [
    "# There are mainly 4 datatypes in python\n",
    "\n",
    "# 1) String (str)- \"Omkar\"\n",
    "# 2) Integer (int)- 10,2,23,4\n",
    "# 3) Float (float)- 10.2,23.2,4.5,4.0\n",
    "# 4) Complex numbers (complex)- 2+3j, 10+ 4j (0) ----> (real + imaginary), Can be +ve, -ve\n",
    "# 5) Boolean datatype (bool)- True, False"
   ]
  },
  {
   "cell_type": "code",
   "execution_count": 7,
   "id": "45b61255",
   "metadata": {},
   "outputs": [],
   "source": [
    "# Sequential Data types (Collection of one or more elements)\n",
    "\n",
    "# 1) List- denoted by square brackets []\n",
    "# 2) Tuple- denoted by round brackets ()\n",
    "# 3) Set- denoted by curly brackets {}\n",
    "# 4) Dictionary- also denoted by curly brackets {keys:values}"
   ]
  },
  {
   "cell_type": "code",
   "execution_count": 10,
   "id": "265a68be",
   "metadata": {},
   "outputs": [],
   "source": [
    "# Doubt??\n",
    "# Why 'j' instead of 'i' is used in complex datatype?\n",
    "\n",
    "# reason- This 'i' letter convention is already used\n",
    "# 1) In electrical, the leter i is used to denote current.\n",
    "# 2) In computing, the letter i is often used for the indexing variable in loops.\n",
    "# 3) The letter i can be easily confused with l or 1 in source code."
   ]
  },
  {
   "cell_type": "markdown",
   "id": "169bfac4",
   "metadata": {},
   "source": [
    "__[Duck-typing in Python]__\n",
    "- It returns the type of the variable"
   ]
  },
  {
   "cell_type": "code",
   "execution_count": 11,
   "id": "219b69cd",
   "metadata": {},
   "outputs": [
    {
     "data": {
      "text/plain": [
       "str"
      ]
     },
     "execution_count": 11,
     "metadata": {},
     "output_type": "execute_result"
    }
   ],
   "source": [
    "# String\n",
    "\n",
    "a = \"Omkar\"\n",
    "type(a)"
   ]
  },
  {
   "cell_type": "code",
   "execution_count": 12,
   "id": "bf52421d",
   "metadata": {},
   "outputs": [
    {
     "data": {
      "text/plain": [
       "int"
      ]
     },
     "execution_count": 12,
     "metadata": {},
     "output_type": "execute_result"
    }
   ],
   "source": [
    "# Integer\n",
    "\n",
    "b = 10\n",
    "type(b)"
   ]
  },
  {
   "cell_type": "code",
   "execution_count": 13,
   "id": "2d81f165",
   "metadata": {},
   "outputs": [
    {
     "data": {
      "text/plain": [
       "float"
      ]
     },
     "execution_count": 13,
     "metadata": {},
     "output_type": "execute_result"
    }
   ],
   "source": [
    "# Float\n",
    "\n",
    "c = 10.2\n",
    "type(c)"
   ]
  },
  {
   "cell_type": "code",
   "execution_count": 5,
   "id": "10a78d61",
   "metadata": {},
   "outputs": [
    {
     "data": {
      "text/plain": [
       "3.142857142857143"
      ]
     },
     "execution_count": 5,
     "metadata": {},
     "output_type": "execute_result"
    }
   ],
   "source": [
    "j = 22/7\n",
    "j"
   ]
  },
  {
   "cell_type": "code",
   "execution_count": 6,
   "id": "d38ddba3",
   "metadata": {},
   "outputs": [],
   "source": [
    "# round-off function\n",
    "\n",
    "j = round(j,3)"
   ]
  },
  {
   "cell_type": "code",
   "execution_count": 7,
   "id": "3a925cfa",
   "metadata": {},
   "outputs": [
    {
     "data": {
      "text/plain": [
       "3.143"
      ]
     },
     "execution_count": 7,
     "metadata": {},
     "output_type": "execute_result"
    }
   ],
   "source": [
    "j"
   ]
  },
  {
   "cell_type": "code",
   "execution_count": 14,
   "id": "54901348",
   "metadata": {},
   "outputs": [
    {
     "data": {
      "text/plain": [
       "complex"
      ]
     },
     "execution_count": 14,
     "metadata": {},
     "output_type": "execute_result"
    }
   ],
   "source": [
    "# Complex number\n",
    "\n",
    "d = 2+3j\n",
    "type(d)"
   ]
  },
  {
   "cell_type": "code",
   "execution_count": 3,
   "id": "01dcda90",
   "metadata": {},
   "outputs": [
    {
     "data": {
      "text/plain": [
       "(2+3j)"
      ]
     },
     "execution_count": 3,
     "metadata": {},
     "output_type": "execute_result"
    }
   ],
   "source": [
    "p = complex(2,3)\n",
    "p"
   ]
  },
  {
   "cell_type": "code",
   "execution_count": 15,
   "id": "9eddf7d5",
   "metadata": {},
   "outputs": [
    {
     "data": {
      "text/plain": [
       "bool"
      ]
     },
     "execution_count": 15,
     "metadata": {},
     "output_type": "execute_result"
    }
   ],
   "source": [
    "# Boolean\n",
    "\n",
    "e = True\n",
    "type(e)"
   ]
  },
  {
   "cell_type": "markdown",
   "id": "745961d5",
   "metadata": {},
   "source": [
    "__[Typecasting in Python]__ \n",
    "- It refers to changing the datatype of variables."
   ]
  },
  {
   "cell_type": "code",
   "execution_count": 16,
   "id": "96e84dd4",
   "metadata": {},
   "outputs": [
    {
     "data": {
      "text/plain": [
       "int"
      ]
     },
     "execution_count": 16,
     "metadata": {},
     "output_type": "execute_result"
    }
   ],
   "source": [
    "# int to float and string\n",
    "\n",
    "var_int = 10\n",
    "type(var_int)"
   ]
  },
  {
   "cell_type": "code",
   "execution_count": 17,
   "id": "e7dd28f6",
   "metadata": {},
   "outputs": [
    {
     "data": {
      "text/plain": [
       "float"
      ]
     },
     "execution_count": 17,
     "metadata": {},
     "output_type": "execute_result"
    }
   ],
   "source": [
    "var_float = float(var_int)\n",
    "type(var_float)"
   ]
  },
  {
   "cell_type": "code",
   "execution_count": 18,
   "id": "4c7e83bd",
   "metadata": {},
   "outputs": [
    {
     "data": {
      "text/plain": [
       "str"
      ]
     },
     "execution_count": 18,
     "metadata": {},
     "output_type": "execute_result"
    }
   ],
   "source": [
    "var_str = str(var_int)\n",
    "type(var_str)"
   ]
  },
  {
   "cell_type": "code",
   "execution_count": 19,
   "id": "d4c5e92b",
   "metadata": {},
   "outputs": [
    {
     "data": {
      "text/plain": [
       "float"
      ]
     },
     "execution_count": 19,
     "metadata": {},
     "output_type": "execute_result"
    }
   ],
   "source": [
    "# float to int and string \n",
    "\n",
    "var_float = 10.999 \n",
    "type(var_float)"
   ]
  },
  {
   "cell_type": "code",
   "execution_count": 20,
   "id": "ff749720",
   "metadata": {},
   "outputs": [
    {
     "name": "stdout",
     "output_type": "stream",
     "text": [
      "10\n"
     ]
    },
    {
     "data": {
      "text/plain": [
       "int"
      ]
     },
     "execution_count": 20,
     "metadata": {},
     "output_type": "execute_result"
    }
   ],
   "source": [
    "var_int = int(var_float) # when we try to convert float to int type then it will only take the whole number value.\n",
    "print(var_int)\n",
    "type(var_int)"
   ]
  },
  {
   "cell_type": "code",
   "execution_count": 21,
   "id": "dcfd5a38",
   "metadata": {},
   "outputs": [
    {
     "data": {
      "text/plain": [
       "str"
      ]
     },
     "execution_count": 21,
     "metadata": {},
     "output_type": "execute_result"
    }
   ],
   "source": [
    "var_str = str(var_float)\n",
    "type(var_str)"
   ]
  },
  {
   "cell_type": "code",
   "execution_count": 22,
   "id": "81e26366",
   "metadata": {},
   "outputs": [
    {
     "data": {
      "text/plain": [
       "str"
      ]
     },
     "execution_count": 22,
     "metadata": {},
     "output_type": "execute_result"
    }
   ],
   "source": [
    "# string to integer and float\n",
    "\n",
    "var_str = \"10\"\n",
    "type(var_str)"
   ]
  },
  {
   "cell_type": "code",
   "execution_count": 23,
   "id": "6bdef696",
   "metadata": {},
   "outputs": [
    {
     "name": "stdout",
     "output_type": "stream",
     "text": [
      "10\n"
     ]
    },
    {
     "data": {
      "text/plain": [
       "int"
      ]
     },
     "execution_count": 23,
     "metadata": {},
     "output_type": "execute_result"
    }
   ],
   "source": [
    "var_int = int(var_str)\n",
    "print(var_str)\n",
    "type(var_int)"
   ]
  },
  {
   "cell_type": "code",
   "execution_count": 24,
   "id": "37515a9b",
   "metadata": {},
   "outputs": [
    {
     "name": "stdout",
     "output_type": "stream",
     "text": [
      "10.0\n"
     ]
    },
    {
     "data": {
      "text/plain": [
       "float"
      ]
     },
     "execution_count": 24,
     "metadata": {},
     "output_type": "execute_result"
    }
   ],
   "source": [
    "var_float = float(var_str)\n",
    "print(var_float)\n",
    "type(var_float)"
   ]
  },
  {
   "cell_type": "code",
   "execution_count": 13,
   "id": "fbfd7ebf",
   "metadata": {},
   "outputs": [],
   "source": [
    "# int and float to complex"
   ]
  },
  {
   "cell_type": "code",
   "execution_count": 14,
   "id": "10245f04",
   "metadata": {},
   "outputs": [
    {
     "data": {
      "text/plain": [
       "(20+0j)"
      ]
     },
     "execution_count": 14,
     "metadata": {},
     "output_type": "execute_result"
    }
   ],
   "source": [
    "m = 20\n",
    "n = complex(m)\n",
    "n"
   ]
  },
  {
   "cell_type": "code",
   "execution_count": 15,
   "id": "9d97016c",
   "metadata": {},
   "outputs": [
    {
     "data": {
      "text/plain": [
       "(3.14+0j)"
      ]
     },
     "execution_count": 15,
     "metadata": {},
     "output_type": "execute_result"
    }
   ],
   "source": [
    "r = 3.14\n",
    "s = complex(r)\n",
    "s"
   ]
  },
  {
   "cell_type": "code",
   "execution_count": 25,
   "id": "134883a3",
   "metadata": {},
   "outputs": [],
   "source": [
    "# Things to remember-\n",
    "\n",
    "# 1) while converting strings to integer and float datatype, it will only gets converted if we have integer as a string initially.\n",
    "# 2) if we use string as a word then it will not get converted to integer or float type.\n",
    "# 3) if we have a decimal integer as a string, it will get converted to float type but not into integer datatype directly we have to convert it into float type and then into integer type.\n",
    "# 4) we can not convert complex to integer and float."
   ]
  },
  {
   "cell_type": "markdown",
   "id": "85762b80",
   "metadata": {},
   "source": [
    "__[Printing methods of a string in Python]__\n",
    "- __`1) f'string method:`__ is introduced in Python 2.6 version\n",
    "- __`2) format string method`__"
   ]
  },
  {
   "cell_type": "code",
   "execution_count": 46,
   "id": "0d6b1eb9",
   "metadata": {},
   "outputs": [
    {
     "name": "stdout",
     "output_type": "stream",
     "text": [
      "Addition of 10 and 2 is : 12\n"
     ]
    }
   ],
   "source": [
    "a = 10\n",
    "b = 2\n",
    "addition = a+b\n",
    "print(\"Addition of\",a,\"and\",b,\"is :\",addition)"
   ]
  },
  {
   "cell_type": "code",
   "execution_count": 47,
   "id": "3928a567",
   "metadata": {},
   "outputs": [
    {
     "name": "stdout",
     "output_type": "stream",
     "text": [
      "Addition of total marks obtained in 40 and 46 is 86\n"
     ]
    }
   ],
   "source": [
    "# 1) f' string-\n",
    "\n",
    "English = 40\n",
    "Math = 46\n",
    "add = English + Math\n",
    "print(f'Addition of total marks obtained in {English} and {Math} is {add}')"
   ]
  },
  {
   "cell_type": "code",
   "execution_count": 48,
   "id": "c5989080",
   "metadata": {},
   "outputs": [
    {
     "name": "stdout",
     "output_type": "stream",
     "text": [
      "Addition of total marks obtained in 40 and 46 is 86\n"
     ]
    }
   ],
   "source": [
    "# 2) format string-\n",
    "\n",
    "English = 40\n",
    "Math = 46\n",
    "add = English + Math\n",
    "print('Addition of total marks obtained in {} and {} is {}'.format(English,Math,add))"
   ]
  },
  {
   "cell_type": "code",
   "execution_count": 49,
   "id": "94afd29e",
   "metadata": {},
   "outputs": [
    {
     "name": "stdout",
     "output_type": "stream",
     "text": [
      "Addition of 40 and 46 is 86\n"
     ]
    }
   ],
   "source": [
    "print('Addition of {0} and {1} is {2}'.format(English,Math,add))"
   ]
  },
  {
   "cell_type": "code",
   "execution_count": 50,
   "id": "d4089f0c",
   "metadata": {},
   "outputs": [],
   "source": [
    "# Things to remember:\n",
    "# Order of arguments should be correct else it will print wrong statement.\n",
    "# Number of arguments should be equal to curly brackets used."
   ]
  },
  {
   "cell_type": "markdown",
   "id": "3939f8d8",
   "metadata": {},
   "source": [
    "__[Taking input from user]__"
   ]
  },
  {
   "cell_type": "code",
   "execution_count": 44,
   "id": "4be68aa3",
   "metadata": {},
   "outputs": [
    {
     "name": "stdout",
     "output_type": "stream",
     "text": [
      "enter your first number:12\n",
      "enter your second number:12\n",
      "24\n"
     ]
    }
   ],
   "source": [
    "num1 = int(input('enter your first number:'))\n",
    "num2 = int(input('enter your second number:'))\n",
    "\n",
    "result = num1 + num2\n",
    "print(result)"
   ]
  },
  {
   "cell_type": "code",
   "execution_count": 45,
   "id": "02fe9b89",
   "metadata": {},
   "outputs": [
    {
     "name": "stdout",
     "output_type": "stream",
     "text": [
      "enter your first number:10.2\n",
      "enter your second number:11.3\n",
      "21.5\n"
     ]
    }
   ],
   "source": [
    "num1 = float(input('enter your first number:'))\n",
    "num2 = float(input('enter your second number:'))\n",
    "\n",
    "result = num1 + num2\n",
    "print(result)"
   ]
  },
  {
   "cell_type": "code",
   "execution_count": 43,
   "id": "a20e3fef",
   "metadata": {},
   "outputs": [
    {
     "name": "stdout",
     "output_type": "stream",
     "text": [
      "enter your string: Data science\n",
      "enter your string: Class\n",
      "Data science Class\n"
     ]
    }
   ],
   "source": [
    "str1 = str(input('enter your string: '))\n",
    "str2 = str(input('enter your string: '))\n",
    "\n",
    "concat = str1 + \" \" + str2\n",
    "print(concat)"
   ]
  },
  {
   "cell_type": "markdown",
   "id": "3da4dbc0",
   "metadata": {},
   "source": [
    "__[,end ='  ' parameter in Python]__ \n",
    "- In Python by default python’s print() function ends with a newline, So as to move the cursor at the end we use this function."
   ]
  },
  {
   "cell_type": "code",
   "execution_count": 42,
   "id": "f62458ac",
   "metadata": {},
   "outputs": [
    {
     "name": "stdout",
     "output_type": "stream",
     "text": [
      "Welcome to the world of, AI!!\n"
     ]
    }
   ],
   "source": [
    "# using end parameter\n",
    "\n",
    "print('Welcome to the',end=' ')\n",
    "print('world of,',end= ' ')\n",
    "print('AI!!')\n",
    "\n",
    "# if we don't use end, cursor will go to next line and if we use end then it will not go to next line directly\n",
    "# but if you want space in two words then use space in between ' ' like this"
   ]
  },
  {
   "cell_type": "code",
   "execution_count": 41,
   "id": "ef0b4e19",
   "metadata": {},
   "outputs": [
    {
     "name": "stdout",
     "output_type": "stream",
     "text": [
      "Welcome to the\n",
      "world of,\n",
      "AI!!\n"
     ]
    }
   ],
   "source": [
    "# without using end parameter\n",
    "\n",
    "print('Welcome to the')\n",
    "print('world of,')\n",
    "print('AI!!')"
   ]
  },
  {
   "cell_type": "markdown",
   "id": "82fec132",
   "metadata": {},
   "source": [
    "__[Escape characters in Python]__\n",
    "#### 1) \\ \n",
    "It removes the functionality of preceding character."
   ]
  },
  {
   "cell_type": "code",
   "execution_count": 12,
   "id": "e984acad",
   "metadata": {},
   "outputs": [],
   "source": [
    "# If we want to use apostrophe in our sentence then there are basically two methods\n",
    "# 1) Use of double quotes for string\n",
    "# 2) Use of escape characters"
   ]
  },
  {
   "cell_type": "code",
   "execution_count": 13,
   "id": "b1d3449c",
   "metadata": {},
   "outputs": [
    {
     "name": "stdout",
     "output_type": "stream",
     "text": [
      "World's population is increasing day by day\n"
     ]
    }
   ],
   "source": [
    "# 1) Use of double quotes for string\n",
    "\n",
    "str1 = \"World's population is increasing day by day\"\n",
    "print(str1)"
   ]
  },
  {
   "cell_type": "code",
   "execution_count": 14,
   "id": "cf0a8ebc",
   "metadata": {},
   "outputs": [
    {
     "name": "stdout",
     "output_type": "stream",
     "text": [
      "India's Taj Mahal\n"
     ]
    }
   ],
   "source": [
    "# 2) Use of escape character\n",
    "\n",
    "str2 = 'India\\'s Taj Mahal'\n",
    "print(str2)"
   ]
  },
  {
   "cell_type": "code",
   "execution_count": 15,
   "id": "dbea9363",
   "metadata": {},
   "outputs": [
    {
     "name": "stdout",
     "output_type": "stream",
     "text": [
      "python\"s cla\\ss\n",
      "15\n"
     ]
    }
   ],
   "source": [
    "s1 = \"python\\\"s cla\\ss\"\n",
    "print(s1)\n",
    "print(len(s1))"
   ]
  },
  {
   "cell_type": "code",
   "execution_count": 16,
   "id": "434dfee5",
   "metadata": {},
   "outputs": [
    {
     "ename": "SyntaxError",
     "evalue": "invalid syntax (684468206.py, line 3)",
     "output_type": "error",
     "traceback": [
      "\u001b[1;36m  Input \u001b[1;32mIn [16]\u001b[1;36m\u001b[0m\n\u001b[1;33m    s1 = \"python\\\\\"s cla\\ss\"\u001b[0m\n\u001b[1;37m                   ^\u001b[0m\n\u001b[1;31mSyntaxError\u001b[0m\u001b[1;31m:\u001b[0m invalid syntax\n"
     ]
    }
   ],
   "source": [
    "# Below code will not get printed since first escape character is removing functionality of second escape character\n",
    "\n",
    "s1 = \"python\\\\\"s cla\\ss\"\n",
    "print(s1)\n",
    "print(len(s1))"
   ]
  },
  {
   "cell_type": "code",
   "execution_count": 17,
   "id": "32716456",
   "metadata": {},
   "outputs": [
    {
     "name": "stdout",
     "output_type": "stream",
     "text": [
      "Python and \"Data science\" class\n"
     ]
    }
   ],
   "source": [
    "s1 = \"Python and \\\"Data science\\\" class\"\n",
    "print(s1)"
   ]
  },
  {
   "cell_type": "markdown",
   "id": "c3c26922",
   "metadata": {},
   "source": [
    "#### 2) \\n\n",
    "It indicates end of line of text (enters into the next line) or simply we can say it is used to print in a new line."
   ]
  },
  {
   "cell_type": "code",
   "execution_count": 18,
   "id": "5a42994e",
   "metadata": {},
   "outputs": [
    {
     "name": "stdout",
     "output_type": "stream",
     "text": [
      "Hello\n",
      "World\n"
     ]
    }
   ],
   "source": [
    "str3 = 'Hello\\nWorld'\n",
    "print(str3)"
   ]
  },
  {
   "cell_type": "markdown",
   "id": "ec9b7017",
   "metadata": {},
   "source": [
    "#### 3) \\t\n",
    "It inserts tab (space) in between words "
   ]
  },
  {
   "cell_type": "code",
   "execution_count": 19,
   "id": "dcbe727e",
   "metadata": {},
   "outputs": [
    {
     "name": "stdout",
     "output_type": "stream",
     "text": [
      "Hello\tWorld\n"
     ]
    }
   ],
   "source": [
    "str4 = 'Hello\\tWorld' # Doubt?? how many spaces it is gonna print? For that reffer to string function .expandtabs() function.\n",
    "print(str4)"
   ]
  },
  {
   "cell_type": "code",
   "execution_count": 20,
   "id": "3f07e60d",
   "metadata": {},
   "outputs": [
    {
     "name": "stdout",
     "output_type": "stream",
     "text": [
      "Hello\n",
      "\tWorld\n"
     ]
    }
   ],
   "source": [
    "str5 = 'Hello\\n\\tWorld'\n",
    "print(str5)"
   ]
  },
  {
   "cell_type": "code",
   "execution_count": 21,
   "id": "4abd73d6",
   "metadata": {},
   "outputs": [
    {
     "name": "stdout",
     "output_type": "stream",
     "text": [
      "This will insert one \\ (backslash).\n"
     ]
    }
   ],
   "source": [
    "str1 = \"This will insert one \\\\ (backslash).\"\n",
    "print(str1) "
   ]
  },
  {
   "cell_type": "code",
   "execution_count": 22,
   "id": "be0db247",
   "metadata": {},
   "outputs": [
    {
     "name": "stdout",
     "output_type": "stream",
     "text": [
      "Python's programming\n",
      "Pyth\n",
      "on's programming\n",
      "Pyhton's\t\n",
      " programming\n",
      "Pyhton's\n",
      "\t programming\n"
     ]
    }
   ],
   "source": [
    "print(f'Python\\'s programming')\n",
    "print(f'Pyth\\non\\'s programming')\n",
    "print(f'Pyhton\\'s\\t\\n programming')\n",
    "print(f'Pyhton\\'s\\n\\t programming')"
   ]
  },
  {
   "cell_type": "markdown",
   "id": "74f2b83d",
   "metadata": {},
   "source": [
    "#### 4) \\\\\\ & Raw string concept\n",
    "- Raw strings are the strings which treat backslash (`\\`) as a literal characters\n",
    "- In general, raw strings are used to define folder path.\n",
    "- Instead of defining a string as a raw string we can use double backslash also."
   ]
  },
  {
   "cell_type": "code",
   "execution_count": 23,
   "id": "99101d5d",
   "metadata": {},
   "outputs": [
    {
     "name": "stdout",
     "output_type": "stream",
     "text": [
      "C:\\Windows\\System32\\cmd.exe\n"
     ]
    }
   ],
   "source": [
    "# Use of double backslash\n",
    "\n",
    "path = 'C:\\\\Windows\\\\System32\\\\cmd.exe'\n",
    "print(path)"
   ]
  },
  {
   "cell_type": "code",
   "execution_count": 24,
   "id": "3695c164",
   "metadata": {},
   "outputs": [
    {
     "name": "stdout",
     "output_type": "stream",
     "text": [
      "C:\\Windows\\System32\\cmd.exe\n"
     ]
    }
   ],
   "source": [
    "# Use of raw string\n",
    "\n",
    "path = r'C:\\Windows\\System32\\cmd.exe'\n",
    "print(path)"
   ]
  },
  {
   "cell_type": "code",
   "execution_count": 1,
   "id": "e3017290",
   "metadata": {},
   "outputs": [
    {
     "name": "stdout",
     "output_type": "stream",
     "text": [
      "a\tb\n",
      "A\tb\n",
      "\n",
      "a\\tb\\nA\\tb\n",
      "\n",
      "a\\tb\\nA\\tb\n",
      "\n",
      "a\\\\tb\\\\nA\\\\tb\n"
     ]
    }
   ],
   "source": [
    "# Raw string concept: See the difference\n",
    "\n",
    "s = 'a\\tb\\nA\\tb'\n",
    "print(s)\n",
    "print()\n",
    "\n",
    "rs = r'a\\tb\\nA\\tb'\n",
    "print(rs)\n",
    "print()\n",
    "\n",
    "rs = 'a\\\\tb\\\\nA\\\\tb'\n",
    "print(rs)\n",
    "print()\n",
    "\n",
    "rs = r'a\\\\tb\\\\nA\\\\tb'\n",
    "print(rs)"
   ]
  },
  {
   "cell_type": "markdown",
   "id": "a979b703",
   "metadata": {},
   "source": [
    "__[Indexing in Python]__ \n",
    "- indexing starts from '0' whereas length starts from '1'\n",
    "- start_index : default = 0\n",
    "- end_index : len(string)\n",
    "- step_size : default = 1\n",
    "- __`Syntax: [start index (included): end index (excluded): step size]`__"
   ]
  },
  {
   "cell_type": "markdown",
   "id": "8f74cd08",
   "metadata": {},
   "source": [
    "string  = 'python'\n",
    " \n",
    " `p   y   t   h   o   n`\n",
    "\n",
    " `0   1   2   3   4   5   >> positive indexing`\n",
    "\n",
    "`-6  -5  -4  -3  -2  -1  >> negative indexing`"
   ]
  },
  {
   "cell_type": "code",
   "execution_count": 25,
   "id": "3b1f75e5",
   "metadata": {},
   "outputs": [
    {
     "name": "stdout",
     "output_type": "stream",
     "text": [
      "data science\n",
      "data science\n",
      "data science\n",
      "data science\n"
     ]
    }
   ],
   "source": [
    "# Positive indexing\n",
    "\n",
    "str1 = 'data science'\n",
    "print(str1[::])\n",
    "print(str1[::1])\n",
    "print(str1[0::1])\n",
    "print(str1[0:len(str1):1])"
   ]
  },
  {
   "cell_type": "code",
   "execution_count": 26,
   "id": "d51d4a56",
   "metadata": {},
   "outputs": [
    {
     "name": "stdout",
     "output_type": "stream",
     "text": [
      "nohtyp\n",
      "nohtyp\n"
     ]
    }
   ],
   "source": [
    "# Negative indexing\n",
    "\n",
    "str1 = 'python'\n",
    "print(str1[::-1])\n",
    "print(str1[-1:-7:-1])"
   ]
  },
  {
   "cell_type": "code",
   "execution_count": 27,
   "id": "d5e13299",
   "metadata": {},
   "outputs": [
    {
     "name": "stdout",
     "output_type": "stream",
     "text": [
      "Python programming\n",
      "Python programming\n",
      "Python programming\n",
      "Python\n",
      "Pto rgamn\n",
      "gnimmargorp nohtyP\n",
      "gimropnhy\n",
      "gnimmargorp nohtyP\n"
     ]
    }
   ],
   "source": [
    "str2 = 'Python programming'\n",
    "\n",
    "print(str2[::])\n",
    "print(str2[:])\n",
    "print(str2[0:len(str2)])\n",
    "print(str2[0:6])\n",
    "print(str2[::2])\n",
    "print(str2[::-1])\n",
    "print(str2[::-2])\n",
    "print(str2[-1:-20:-1])"
   ]
  },
  {
   "cell_type": "markdown",
   "id": "cacea5de",
   "metadata": {},
   "source": [
    "__[Length function in Python]__ \n",
    "- It returns the length of the function"
   ]
  },
  {
   "cell_type": "code",
   "execution_count": 55,
   "id": "655015f9",
   "metadata": {},
   "outputs": [
    {
     "name": "stdout",
     "output_type": "stream",
     "text": [
      "22\n"
     ]
    }
   ],
   "source": [
    "str6 = 'Hello my name is omkar'\n",
    "print(len(str6))"
   ]
  }
 ],
 "metadata": {
  "kernelspec": {
   "display_name": "Python 3 (ipykernel)",
   "language": "python",
   "name": "python3"
  },
  "language_info": {
   "codemirror_mode": {
    "name": "ipython",
    "version": 3
   },
   "file_extension": ".py",
   "mimetype": "text/x-python",
   "name": "python",
   "nbconvert_exporter": "python",
   "pygments_lexer": "ipython3",
   "version": "3.11.5"
  }
 },
 "nbformat": 4,
 "nbformat_minor": 5
}
