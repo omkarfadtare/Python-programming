{
 "cells": [
  {
   "cell_type": "markdown",
   "id": "22effcce",
   "metadata": {},
   "source": [
    "## Operators in Python:\n",
    "- Operators are special symbols in Python that carry out arithmetic or logical computation. \n",
    "- The value that the operator operates on is called the operand. \n",
    "- For example: >>> 2+3 = 5. Here, + is the operator that performs addition and 2 & 3 are operands."
   ]
  },
  {
   "cell_type": "code",
   "execution_count": 1,
   "id": "96d5e1a0",
   "metadata": {},
   "outputs": [],
   "source": [
    "# There are 7 types of operators as follows-\n",
    "\n",
    "# 1) Arithmetic operators:\n",
    "# Addition (+)\n",
    "# Subtraction (-)\n",
    "# Multiplication (*)\n",
    "# Division (/)- result will be in class float\n",
    "# Exponentiation (**); raise to the power\n",
    "# Floor division (//); returns quotient value\n",
    "# Modulus (%); returns reminder value\n",
    "\n",
    "# 2) Assignment operators:\n",
    "# Assign (=)\n",
    "# Add and assign (+=)\n",
    "# Subtract and assign (-=)\n",
    "# Multiply and assign (*=)\n",
    "# Divide and assign (/=)\n",
    "# Modulus and assign (%=)\n",
    "# Exponentiation and assign (**=)\n",
    "# Floor-divide and assign (//=)\n",
    "\n",
    "# 3) Comparison operators:\n",
    "# Greater than (>)\n",
    "# Less than (<)\n",
    "# Equal to (==)\n",
    "# Not equal to (!=)\n",
    "# Greater than or equal to (>=)\n",
    "# Less than or equal to (<=)\n",
    "\n",
    "# 4) Logical operators:\n",
    "# and- Both conditions must be True/False\n",
    "# or- Any of the conditions must be True/False\n",
    "# not- used as if not\n",
    "\n",
    "# 5) Membership operators:\n",
    "# in- returns true if value is present\n",
    "# not in- returns true if value is not present\n",
    "\n",
    "# 6) Identity operator-\n",
    "# is- returns True if the first value is the same as the second\n",
    "# is not- returns True if the first value is not the same as the second\n",
    "\n",
    "\n",
    "# 7) Bitwise operator-\n",
    "# AND- revise the table (&)\n",
    "# OR- revise the table (|)\n",
    "# XOR- revise the table (^)\n",
    "# right shift- >> (trick)\n",
    "# left shift- << (trick)"
   ]
  },
  {
   "cell_type": "markdown",
   "id": "f505a81d",
   "metadata": {},
   "source": [
    "__[Associativity of operators rule]__\n",
    "- PEMDAS: Paranthesis, Exponentiation, Multiplication, Division/Floor division/Modulus, Addition, Substraction\n",
    "\n",
    "__1) Arithmatic Operators__"
   ]
  },
  {
   "cell_type": "code",
   "execution_count": 3,
   "id": "314a7eae",
   "metadata": {},
   "outputs": [
    {
     "name": "stdout",
     "output_type": "stream",
     "text": [
      "30\n"
     ]
    }
   ],
   "source": [
    "# Addition (+)\n",
    "\n",
    "a = 10\n",
    "b = 20\n",
    "c = a+b\n",
    "print(c)"
   ]
  },
  {
   "cell_type": "code",
   "execution_count": 4,
   "id": "b8b16802",
   "metadata": {},
   "outputs": [
    {
     "name": "stdout",
     "output_type": "stream",
     "text": [
      "-10\n"
     ]
    }
   ],
   "source": [
    "# Substraction (-)\n",
    "\n",
    "a = 20\n",
    "b = 30\n",
    "c = a-b\n",
    "print(c)"
   ]
  },
  {
   "cell_type": "code",
   "execution_count": 5,
   "id": "b42e1772",
   "metadata": {},
   "outputs": [
    {
     "name": "stdout",
     "output_type": "stream",
     "text": [
      "600\n"
     ]
    }
   ],
   "source": [
    "# Multiplication (*)\n",
    "\n",
    "a = 20\n",
    "b = 30\n",
    "c = a*b\n",
    "print(c)"
   ]
  },
  {
   "cell_type": "code",
   "execution_count": 6,
   "id": "94ee741c",
   "metadata": {},
   "outputs": [
    {
     "name": "stdout",
     "output_type": "stream",
     "text": [
      "10.0\n"
     ]
    }
   ],
   "source": [
    "# Division (/)\n",
    "\n",
    "a = 20\n",
    "b = 2\n",
    "c = a/b\n",
    "print(c)\n",
    "\n",
    "# Thing to remember: In case of division operator output will always be a float data type."
   ]
  },
  {
   "cell_type": "code",
   "execution_count": 69,
   "id": "c368ae22",
   "metadata": {},
   "outputs": [
    {
     "name": "stdout",
     "output_type": "stream",
     "text": [
      "6\n"
     ]
    }
   ],
   "source": [
    "# Floor division (//) - returns quotient\n",
    "\n",
    "a = 34\n",
    "b = 8\n",
    "c = a//b\n",
    "print(c)"
   ]
  },
  {
   "cell_type": "code",
   "execution_count": 70,
   "id": "82234885",
   "metadata": {},
   "outputs": [
    {
     "name": "stdout",
     "output_type": "stream",
     "text": [
      "9\n"
     ]
    }
   ],
   "source": [
    "# Exponentiation (**) - raise to the power\n",
    "\n",
    "a = 3**2 # --> 2*2*2\n",
    "print(a)"
   ]
  },
  {
   "cell_type": "code",
   "execution_count": 71,
   "id": "14b72fd4",
   "metadata": {},
   "outputs": [
    {
     "name": "stdout",
     "output_type": "stream",
     "text": [
      "2\n"
     ]
    }
   ],
   "source": [
    "# Modulus (%) - returns reminder\n",
    "\n",
    "a = 32\n",
    "b = 3\n",
    "c = a%b\n",
    "print(c)"
   ]
  },
  {
   "cell_type": "markdown",
   "id": "6ccc4e83",
   "metadata": {},
   "source": [
    "__2) Assignment Operators__"
   ]
  },
  {
   "cell_type": "code",
   "execution_count": 26,
   "id": "c80cd94a",
   "metadata": {},
   "outputs": [
    {
     "data": {
      "text/plain": [
       "10"
      ]
     },
     "execution_count": 26,
     "metadata": {},
     "output_type": "execute_result"
    }
   ],
   "source": [
    "# Assign (=)\n",
    "\n",
    "a = 10\n",
    "a"
   ]
  },
  {
   "cell_type": "code",
   "execution_count": 17,
   "id": "4e234586",
   "metadata": {},
   "outputs": [
    {
     "data": {
      "text/plain": [
       "3"
      ]
     },
     "execution_count": 17,
     "metadata": {},
     "output_type": "execute_result"
    }
   ],
   "source": [
    "# Add and assign (+=)\n",
    "\n",
    "num1 = 2\n",
    "num1 += 1 # num1 = num1 + 1\n",
    "num1"
   ]
  },
  {
   "cell_type": "code",
   "execution_count": 18,
   "id": "55a89b93",
   "metadata": {},
   "outputs": [
    {
     "data": {
      "text/plain": [
       "1"
      ]
     },
     "execution_count": 18,
     "metadata": {},
     "output_type": "execute_result"
    }
   ],
   "source": [
    "# Subtract and assign (-=)\n",
    "\n",
    "num1 = 2\n",
    "num1 -= 1 # num1 = num1 - 1\n",
    "num1"
   ]
  },
  {
   "cell_type": "code",
   "execution_count": 23,
   "id": "d67643de",
   "metadata": {},
   "outputs": [
    {
     "data": {
      "text/plain": [
       "4"
      ]
     },
     "execution_count": 23,
     "metadata": {},
     "output_type": "execute_result"
    }
   ],
   "source": [
    "# Multiply and assign (*=)\n",
    "\n",
    "num1 = 2\n",
    "num1 *= 2 # num1 = num1 * 2\n",
    "num1"
   ]
  },
  {
   "cell_type": "code",
   "execution_count": 19,
   "id": "495eedc3",
   "metadata": {},
   "outputs": [
    {
     "data": {
      "text/plain": [
       "10.0"
      ]
     },
     "execution_count": 19,
     "metadata": {},
     "output_type": "execute_result"
    }
   ],
   "source": [
    "# Divide and assign (/=)\n",
    "\n",
    "num1 = 20\n",
    "num1 /= 2 # num1 = num1 / 2\n",
    "num1"
   ]
  },
  {
   "cell_type": "code",
   "execution_count": 20,
   "id": "e6edde74",
   "metadata": {},
   "outputs": [
    {
     "data": {
      "text/plain": [
       "6"
      ]
     },
     "execution_count": 20,
     "metadata": {},
     "output_type": "execute_result"
    }
   ],
   "source": [
    "# Floor-divide and assign (//=)\n",
    "\n",
    "num1 = 20\n",
    "num1 //= 3 # num1 = num1 // 3\n",
    "num1"
   ]
  },
  {
   "cell_type": "code",
   "execution_count": 22,
   "id": "fbf4da34",
   "metadata": {},
   "outputs": [
    {
     "data": {
      "text/plain": [
       "1"
      ]
     },
     "execution_count": 22,
     "metadata": {},
     "output_type": "execute_result"
    }
   ],
   "source": [
    "# Modulus and assign (%=)\n",
    "\n",
    "num1 = 27\n",
    "num1 %= 2 # num1 = num1 % 2\n",
    "num1"
   ]
  },
  {
   "cell_type": "code",
   "execution_count": 24,
   "id": "a826466f",
   "metadata": {},
   "outputs": [
    {
     "data": {
      "text/plain": [
       "1000"
      ]
     },
     "execution_count": 24,
     "metadata": {},
     "output_type": "execute_result"
    }
   ],
   "source": [
    "# Exponentiation and assign (**=)\n",
    "\n",
    "num1 = 10\n",
    "num1 **= 3 # num1 = num1 ** 3  --> 10*10*10 = 1000\n",
    "num1"
   ]
  },
  {
   "cell_type": "markdown",
   "id": "d91ebec9",
   "metadata": {},
   "source": [
    "__3) Comparison Operators__"
   ]
  },
  {
   "cell_type": "code",
   "execution_count": 35,
   "id": "af7fd7bb",
   "metadata": {},
   "outputs": [
    {
     "name": "stdout",
     "output_type": "stream",
     "text": [
      "Happy\n"
     ]
    }
   ],
   "source": [
    "# Greater than (>)\n",
    "\n",
    "a = 20\n",
    "b = 10\n",
    "\n",
    "if a>b:\n",
    "    print('Happy')\n",
    "else:\n",
    "    print('Sad')"
   ]
  },
  {
   "cell_type": "code",
   "execution_count": 36,
   "id": "a5e55c58",
   "metadata": {},
   "outputs": [
    {
     "name": "stdout",
     "output_type": "stream",
     "text": [
      "Happy\n"
     ]
    }
   ],
   "source": [
    "# Less than (<)\n",
    "\n",
    "a = 10\n",
    "b = 20\n",
    "\n",
    "if a<b:\n",
    "    print('Happy')\n",
    "else:\n",
    "    print('Sad')"
   ]
  },
  {
   "cell_type": "code",
   "execution_count": 37,
   "id": "b93a5c3d",
   "metadata": {},
   "outputs": [
    {
     "name": "stdout",
     "output_type": "stream",
     "text": [
      "Happy\n"
     ]
    }
   ],
   "source": [
    "# Equal to (==)\n",
    "\n",
    "a = 10\n",
    "b = 10\n",
    "\n",
    "if a==b:\n",
    "    print('Happy')\n",
    "else:\n",
    "    print('Sad')"
   ]
  },
  {
   "cell_type": "code",
   "execution_count": 38,
   "id": "52f7da53",
   "metadata": {},
   "outputs": [
    {
     "name": "stdout",
     "output_type": "stream",
     "text": [
      "Happy\n"
     ]
    }
   ],
   "source": [
    "# Not equal to (!=)\n",
    "\n",
    "a = 10\n",
    "b = 20\n",
    "\n",
    "if a!=b:\n",
    "    print('Happy')\n",
    "else:\n",
    "    print(f'Sad')"
   ]
  },
  {
   "cell_type": "code",
   "execution_count": 39,
   "id": "9048619d",
   "metadata": {},
   "outputs": [
    {
     "name": "stdout",
     "output_type": "stream",
     "text": [
      "Sad\n"
     ]
    }
   ],
   "source": [
    "# Greater than or equal to (>=)\n",
    "\n",
    "a = 10\n",
    "b = 20\n",
    "\n",
    "if a>=b:\n",
    "    print('Happy')\n",
    "else:\n",
    "    print(f'Sad')"
   ]
  },
  {
   "cell_type": "code",
   "execution_count": 41,
   "id": "df7e7c0d",
   "metadata": {},
   "outputs": [
    {
     "name": "stdout",
     "output_type": "stream",
     "text": [
      "Happy\n"
     ]
    }
   ],
   "source": [
    "# Less than or equal to (<=)\n",
    "\n",
    "a = 10\n",
    "b = 20\n",
    "\n",
    "if a<=b:\n",
    "    print('Happy')\n",
    "else:\n",
    "    print(f'Sad')"
   ]
  },
  {
   "cell_type": "markdown",
   "id": "ae24b01b",
   "metadata": {},
   "source": [
    "__4) Logical Operator__"
   ]
  },
  {
   "cell_type": "code",
   "execution_count": 42,
   "id": "090e120c",
   "metadata": {},
   "outputs": [
    {
     "name": "stdout",
     "output_type": "stream",
     "text": [
      "Happy\n"
     ]
    }
   ],
   "source": [
    "# and- Both conditions must be True/False\n",
    "\n",
    "a = 10\n",
    "b = 20\n",
    "if(a>5 and b>5):\n",
    "    print(\"Happy\")\n",
    "else:\n",
    "    print('Sad')"
   ]
  },
  {
   "cell_type": "code",
   "execution_count": 43,
   "id": "e4f2c284",
   "metadata": {},
   "outputs": [
    {
     "name": "stdout",
     "output_type": "stream",
     "text": [
      "Happy\n"
     ]
    }
   ],
   "source": [
    "# or- Any of the condition must be True/False\n",
    "\n",
    "a = 10\n",
    "b = 2\n",
    "if(a>5 or b>5):\n",
    "    print(\"Happy\")\n",
    "else:\n",
    "    print('Sad')"
   ]
  },
  {
   "cell_type": "code",
   "execution_count": 47,
   "id": "21eb8a22",
   "metadata": {},
   "outputs": [
    {
     "name": "stdout",
     "output_type": "stream",
     "text": [
      "Sad\n"
     ]
    }
   ],
   "source": [
    "# not- used as if not\n",
    "\n",
    "a = 10\n",
    "b = 10\n",
    "if not (a>5 and b>5):\n",
    "    print(\"Happy\")\n",
    "else:\n",
    "    print('Sad')"
   ]
  },
  {
   "cell_type": "markdown",
   "id": "8b21d94c",
   "metadata": {},
   "source": [
    "__5) Membership Operator__"
   ]
  },
  {
   "cell_type": "code",
   "execution_count": 52,
   "id": "a9d90a7e",
   "metadata": {},
   "outputs": [
    {
     "name": "stdout",
     "output_type": "stream",
     "text": [
      "Satisfied\n"
     ]
    }
   ],
   "source": [
    "# in- returns true if value is present\n",
    "\n",
    "a = 2\n",
    "b = [1,2,3,4,5,6,7,8,9]\n",
    "if a in b:\n",
    "    print('Satisfied')\n",
    "else:\n",
    "    print('Not satisfied')"
   ]
  },
  {
   "cell_type": "code",
   "execution_count": 53,
   "id": "affc1a16",
   "metadata": {},
   "outputs": [
    {
     "name": "stdout",
     "output_type": "stream",
     "text": [
      "Not satisfied\n"
     ]
    }
   ],
   "source": [
    "# not in- returns true if value is not present\n",
    "\n",
    "a = 2\n",
    "b = [1,2,3,4,5,6,7,8,9]\n",
    "if a not in b:\n",
    "    print('Satisfied')\n",
    "else:\n",
    "    print('Not satisfied')"
   ]
  },
  {
   "cell_type": "markdown",
   "id": "ab49b8ca",
   "metadata": {},
   "source": [
    "__6) Identity Operator__"
   ]
  },
  {
   "cell_type": "code",
   "execution_count": 59,
   "id": "f7e7ed87",
   "metadata": {},
   "outputs": [
    {
     "data": {
      "text/plain": [
       "140734797195344"
      ]
     },
     "execution_count": 59,
     "metadata": {},
     "output_type": "execute_result"
    }
   ],
   "source": [
    "# In Python a = 10, b = 10 has same memory location. whereas in Java a = 10, a = 20 has same memory location\n",
    "\n",
    "# id function\n",
    "a= 10\n",
    "id(a)"
   ]
  },
  {
   "cell_type": "code",
   "execution_count": 55,
   "id": "3dafdbc7",
   "metadata": {},
   "outputs": [
    {
     "name": "stdout",
     "output_type": "stream",
     "text": [
      "Hello\n"
     ]
    }
   ],
   "source": [
    "# is- returns True if the id of first variable is the same as the id of second variable\n",
    "\n",
    "a = 10\n",
    "b = 10\n",
    "\n",
    "if(id(a) == id(b)):\n",
    "    print(\"Hello\") # Since id of a and b"
   ]
  },
  {
   "cell_type": "code",
   "execution_count": 56,
   "id": "dfa6fcd3",
   "metadata": {},
   "outputs": [
    {
     "name": "stdout",
     "output_type": "stream",
     "text": [
      "Hello\n"
     ]
    }
   ],
   "source": [
    "# Using identity operator\n",
    "\n",
    "if(a is b):\n",
    "    print(\"Hello\")"
   ]
  },
  {
   "cell_type": "code",
   "execution_count": 58,
   "id": "00858258",
   "metadata": {},
   "outputs": [
    {
     "name": "stdout",
     "output_type": "stream",
     "text": [
      "Hello\n"
     ]
    }
   ],
   "source": [
    "# is not- returns True if the first value is not the same as the second\n",
    "\n",
    "a = 10\n",
    "b = 20\n",
    "\n",
    "if(a is not b):\n",
    "    print(\"Hello\")"
   ]
  },
  {
   "cell_type": "markdown",
   "id": "8042837f",
   "metadata": {},
   "source": [
    "__7) Bitwise Operator__"
   ]
  },
  {
   "attachments": {
    "AND.jpg": {
     "image/jpeg": "[encoded data removed]"
    }
   },
   "cell_type": "markdown",
   "id": "b7733f6b",
   "metadata": {},
   "source": [
    "![AND.jpg](attachment:AND.jpg)"
   ]
  },
  {
   "cell_type": "code",
   "execution_count": 63,
   "id": "93326ede",
   "metadata": {},
   "outputs": [
    {
     "name": "stdout",
     "output_type": "stream",
     "text": [
      "2\n"
     ]
    }
   ],
   "source": [
    "# AND (&)- revise the table\n",
    "\n",
    "a = 10 # binary value of 10 = 1010\n",
    "b = 7 # binary value of 7 = 0111\n",
    "c = a & b\n",
    "print(c) # output will be 0010 which is the binary value of 2 "
   ]
  },
  {
   "attachments": {
    "OR.jpg": {
     "image/jpeg": "[encoded data removed]"
    }
   },
   "cell_type": "markdown",
   "id": "9abd2abc",
   "metadata": {},
   "source": [
    "![OR.jpg](attachment:OR.jpg)"
   ]
  },
  {
   "cell_type": "code",
   "execution_count": 61,
   "id": "87f1b220",
   "metadata": {},
   "outputs": [
    {
     "name": "stdout",
     "output_type": "stream",
     "text": [
      "14\n"
     ]
    }
   ],
   "source": [
    "# OR (|)- revise the table\n",
    "\n",
    "a = 10 # binary value of 10 = 1010\n",
    "b = 4 # binary value of 4 = 0100\n",
    "c = a | b\n",
    "print(c) # output will be 1110 which is the binary value of 14"
   ]
  },
  {
   "attachments": {
    "XOR.jpg": {
     "image/jpeg": "[encoded data removed]"
    }
   },
   "cell_type": "markdown",
   "id": "ad77b55b",
   "metadata": {},
   "source": [
    "![XOR.jpg](attachment:XOR.jpg)"
   ]
  },
  {
   "cell_type": "code",
   "execution_count": 65,
   "id": "ee70350f",
   "metadata": {},
   "outputs": [
    {
     "name": "stdout",
     "output_type": "stream",
     "text": [
      "14\n"
     ]
    }
   ],
   "source": [
    "# XOR (^)- revise the table\n",
    "\n",
    "a = 10 # binary value of 10 = 1010\n",
    "b = 4 # binary value of 4 = 0100\n",
    "c = a ^ b\n",
    "print(c) # output will be 1110 which is a binary value of 14"
   ]
  },
  {
   "cell_type": "code",
   "execution_count": 66,
   "id": "5454003a",
   "metadata": {},
   "outputs": [
    {
     "name": "stdout",
     "output_type": "stream",
     "text": [
      "25\n",
      "12\n"
     ]
    }
   ],
   "source": [
    "# right shift- >> (trick)\n",
    "\n",
    "print(100 >> 2) # (2^2 = 4,100/4) Ans is 25\n",
    "print(100 >> 3) # (2^2^2 = 8,100/8) Ans is 12"
   ]
  },
  {
   "cell_type": "markdown",
   "id": "be525701",
   "metadata": {},
   "source": [
    "__`**Shortcut:`__\n",
    "Right shift --> (2^2 = 4,10/4 = 2.5 only take the whole number) Ans is 2"
   ]
  },
  {
   "cell_type": "code",
   "execution_count": 67,
   "id": "dcdab6c7",
   "metadata": {},
   "outputs": [
    {
     "name": "stdout",
     "output_type": "stream",
     "text": [
      "400\n",
      "800\n"
     ]
    }
   ],
   "source": [
    "# left shift- << (trick)\n",
    "\n",
    "print(100 << 2) # (2^2 = 4, 100*4) Ans is 400\n",
    "print(100 << 3) # (2^2^2 = 8, 100*8) Ans is 800"
   ]
  },
  {
   "cell_type": "markdown",
   "id": "4eb087dc",
   "metadata": {},
   "source": [
    "__`**Shortcut:`__\n",
    "Left shift --> (2^2 = 4,10*4 = 40) Ans is 40"
   ]
  },
  {
   "cell_type": "markdown",
   "id": "de4880f0",
   "metadata": {},
   "source": [
    "__[Some of the useful built-in functions]__"
   ]
  },
  {
   "cell_type": "markdown",
   "id": "dcc559a3",
   "metadata": {},
   "source": [
    "__1) ord():__ \n",
    "- It returns unicode of a specified character. Below is the refferance of unicode value for alphabates:\n",
    "\n",
    "{'A' : 65 , ..... 'Z' : 90}\n",
    "\n",
    "{'a' : 97 , ..... 'z' : 122}"
   ]
  },
  {
   "cell_type": "code",
   "execution_count": 1,
   "id": "e4dca2b2",
   "metadata": {},
   "outputs": [
    {
     "data": {
      "text/plain": [
       "97"
      ]
     },
     "execution_count": 1,
     "metadata": {},
     "output_type": "execute_result"
    }
   ],
   "source": [
    "ord('a') "
   ]
  },
  {
   "cell_type": "code",
   "execution_count": 2,
   "id": "8b708651",
   "metadata": {},
   "outputs": [
    {
     "data": {
      "text/plain": [
       "65"
      ]
     },
     "execution_count": 2,
     "metadata": {},
     "output_type": "execute_result"
    }
   ],
   "source": [
    "ord('A')"
   ]
  },
  {
   "cell_type": "markdown",
   "id": "b2223533",
   "metadata": {},
   "source": [
    "__2) chr():__\n",
    "- It returns the character that represents the specified unicode."
   ]
  },
  {
   "cell_type": "code",
   "execution_count": 3,
   "id": "5ad7337a",
   "metadata": {},
   "outputs": [
    {
     "data": {
      "text/plain": [
       "'a'"
      ]
     },
     "execution_count": 3,
     "metadata": {},
     "output_type": "execute_result"
    }
   ],
   "source": [
    "chr(97)"
   ]
  },
  {
   "cell_type": "code",
   "execution_count": 4,
   "id": "58d9fdb5",
   "metadata": {},
   "outputs": [
    {
     "data": {
      "text/plain": [
       "'A'"
      ]
     },
     "execution_count": 4,
     "metadata": {},
     "output_type": "execute_result"
    }
   ],
   "source": [
    "chr(65)"
   ]
  },
  {
   "cell_type": "markdown",
   "id": "1dd0cdf9",
   "metadata": {},
   "source": [
    "__3) bin():__ \n",
    "- It returns the binary version of a specified integer."
   ]
  },
  {
   "cell_type": "code",
   "execution_count": 6,
   "id": "fb348dbc",
   "metadata": {},
   "outputs": [
    {
     "data": {
      "text/plain": [
       "'0b1000'"
      ]
     },
     "execution_count": 6,
     "metadata": {},
     "output_type": "execute_result"
    }
   ],
   "source": [
    "bin(8)"
   ]
  },
  {
   "cell_type": "markdown",
   "id": "ee1cb4af",
   "metadata": {},
   "source": [
    "__4) id():__ \n",
    "- It returns a unique id for the specified object."
   ]
  },
  {
   "cell_type": "code",
   "execution_count": 10,
   "id": "07232cd6",
   "metadata": {},
   "outputs": [
    {
     "data": {
      "text/plain": [
       "140724740040624"
      ]
     },
     "execution_count": 10,
     "metadata": {},
     "output_type": "execute_result"
    }
   ],
   "source": [
    "id(5)"
   ]
  },
  {
   "cell_type": "code",
   "execution_count": 11,
   "id": "dd08b167",
   "metadata": {},
   "outputs": [
    {
     "name": "stdout",
     "output_type": "stream",
     "text": [
      "1373387730608\n"
     ]
    }
   ],
   "source": [
    "var = 'python'\n",
    "print(id(var))"
   ]
  }
 ],
 "metadata": {
  "kernelspec": {
   "display_name": "Python 3 (ipykernel)",
   "language": "python",
   "name": "python3"
  },
  "language_info": {
   "codemirror_mode": {
    "name": "ipython",
    "version": 3
   },
   "file_extension": ".py",
   "mimetype": "text/x-python",
   "name": "python",
   "nbconvert_exporter": "python",
   "pygments_lexer": "ipython3",
   "version": "3.9.12"
  }
 },
 "nbformat": 4,
 "nbformat_minor": 5
}
