{
 "cells": [
  {
   "cell_type": "markdown",
   "id": "aa62b3dc",
   "metadata": {},
   "source": [
    "## Conditinal statements in Pythons:\n",
    "\n",
    "`>> if`\n",
    "\n",
    "`>> if >> else`\n",
    "\n",
    "`>> if >> elif`\n",
    "\n",
    "`>> if >> elif >> else`\n",
    "\n",
    "`>> if >> elif >> elif  >> else`"
   ]
  },
  {
   "cell_type": "markdown",
   "id": "2b68d1f1",
   "metadata": {},
   "source": [
    "__1) if statements__"
   ]
  },
  {
   "cell_type": "code",
   "execution_count": 17,
   "id": "222467f1",
   "metadata": {},
   "outputs": [
    {
     "name": "stdout",
     "output_type": "stream",
     "text": [
      "The string in lower case\n"
     ]
    }
   ],
   "source": [
    "string = \"python\"\n",
    "if string.islower():\n",
    "    print(\"The string in lower case\")"
   ]
  },
  {
   "cell_type": "code",
   "execution_count": 18,
   "id": "994804a5",
   "metadata": {},
   "outputs": [],
   "source": [
    "string = ''\n",
    "if string: \n",
    "    print(\"The string is not empty\") # It wont print anything because it is an empty string"
   ]
  },
  {
   "cell_type": "markdown",
   "id": "adbbf1af",
   "metadata": {},
   "source": [
    "__2) Nested if statements (if inside if)__"
   ]
  },
  {
   "cell_type": "code",
   "execution_count": 19,
   "id": "ad9154b8",
   "metadata": {},
   "outputs": [
    {
     "name": "stdout",
     "output_type": "stream",
     "text": [
      "Above ten,\n",
      "and also above 20!\n"
     ]
    }
   ],
   "source": [
    "x = 41\n",
    "if x > 10:\n",
    "    print(\"Above ten,\")\n",
    "    if x > 20:\n",
    "        print(\"and also above 20!\")\n",
    "    else:\n",
    "        print(\"but not above 20.\")"
   ]
  },
  {
   "cell_type": "markdown",
   "id": "8c27df4b",
   "metadata": {},
   "source": [
    "__3) short hand if statements__"
   ]
  },
  {
   "cell_type": "code",
   "execution_count": 7,
   "id": "d268f632",
   "metadata": {},
   "outputs": [
    {
     "name": "stdout",
     "output_type": "stream",
     "text": [
      "a is less than b\n"
     ]
    }
   ],
   "source": [
    "# Without using short hand if statement\n",
    "\n",
    "a = 10 \n",
    "b = 20\n",
    "if a < b:\n",
    "    print(\"a is less than b\")"
   ]
  },
  {
   "cell_type": "code",
   "execution_count": 8,
   "id": "0e8688dc",
   "metadata": {},
   "outputs": [
    {
     "name": "stdout",
     "output_type": "stream",
     "text": [
      "a is less than b\n"
     ]
    }
   ],
   "source": [
    "# Using short hand if statement\n",
    "\n",
    "a = 10\n",
    "b = 20\n",
    "if a < b : print (\"a is less than b\")"
   ]
  },
  {
   "cell_type": "markdown",
   "id": "a231d19c",
   "metadata": {},
   "source": [
    "__4) if-else statements__"
   ]
  },
  {
   "cell_type": "code",
   "execution_count": 20,
   "id": "bb3c70e1",
   "metadata": {},
   "outputs": [
    {
     "name": "stdout",
     "output_type": "stream",
     "text": [
      "The string in lower case\n"
     ]
    }
   ],
   "source": [
    "string = \"python\"\n",
    "\n",
    "if string.islower():\n",
    "    print(\"The string in lower case\")\n",
    "else:\n",
    "    print(\"The string is not lower\")"
   ]
  },
  {
   "cell_type": "markdown",
   "id": "3e936eb5",
   "metadata": {},
   "source": [
    "__5) short hand if-else statements__\n",
    "- we can not use elif statements in short hand if-else, only else statement can be used "
   ]
  },
  {
   "cell_type": "code",
   "execution_count": 10,
   "id": "af0e480e",
   "metadata": {},
   "outputs": [
    {
     "name": "stdout",
     "output_type": "stream",
     "text": [
      "a is less than b\n"
     ]
    }
   ],
   "source": [
    "# Without using short hand if-else statement\n",
    "\n",
    "a = 50\n",
    "b = 60\n",
    "if a > b: #False\n",
    "    print(\"a is greater than b\") \n",
    "else:\n",
    "    print(\"a is less than b\")"
   ]
  },
  {
   "cell_type": "code",
   "execution_count": 4,
   "id": "797247e6",
   "metadata": {},
   "outputs": [
    {
     "name": "stdout",
     "output_type": "stream",
     "text": [
      "b is greater than a\n"
     ]
    }
   ],
   "source": [
    "# Using short hand if-else statement\n",
    "\n",
    "a = 50\n",
    "b = 60\n",
    "print(\"a is greater than b\") if a > b else print(\"b is greater than a\")"
   ]
  },
  {
   "cell_type": "markdown",
   "id": "e117d4e4",
   "metadata": {},
   "source": [
    "__6) if-elif-else statements__"
   ]
  },
  {
   "cell_type": "code",
   "execution_count": 12,
   "id": "dcb3c6c5",
   "metadata": {},
   "outputs": [
    {
     "name": "stdout",
     "output_type": "stream",
     "text": [
      "a is greater than b and c\n"
     ]
    }
   ],
   "source": [
    "a = 300\n",
    "b = 200\n",
    "c = 10\n",
    "\n",
    "if a > b and a > c:\n",
    "    print(\"a is greater than b and c\")\n",
    "elif a>b:\n",
    "    print(\"a is greater than b\")\n",
    "else:\n",
    "    print(\"c is greater than a and b\")"
   ]
  },
  {
   "cell_type": "code",
   "execution_count": 19,
   "id": "acdfde6f",
   "metadata": {},
   "outputs": [
    {
     "name": "stdout",
     "output_type": "stream",
     "text": [
      "Cibil score : 850\n",
      "Age : 45\n",
      "Salary : 65000\n",
      "850 45 65000\n"
     ]
    }
   ],
   "source": [
    "cibil_score = int(input(\"Cibil score : \"))\n",
    "age = int(input(\"Age : \"))\n",
    "salary = int(input(\"Salary : \"))\n",
    "\n",
    "print(cibil_score,age, salary)"
   ]
  },
  {
   "cell_type": "code",
   "execution_count": 20,
   "id": "83347b20",
   "metadata": {},
   "outputs": [
    {
     "name": "stdout",
     "output_type": "stream",
     "text": [
      "Cibil score is greater than 750\n",
      "Age is between 25 to 60\n",
      "Salary is greater than 40000\n",
      "Loan approved\n"
     ]
    }
   ],
   "source": [
    "if cibil_score > 750:\n",
    "    print(\"Cibil score is greater than 750\")\n",
    "    \n",
    "    if age > 25 and age < 60:\n",
    "        print(\"Age is between 25 to 60\")\n",
    "        if salary > 40000:\n",
    "            print(\"Salary is greater than 40000\")\n",
    "            print(\"Loan approved\")  \n",
    "        else:\n",
    "            print(\"Loan Declined due to less income\")    \n",
    "    else:\n",
    "        print(\"Loan is declined due to age criteria \")          \n",
    "else:\n",
    "    print(\"loan declined due to low cibil score\")"
   ]
  },
  {
   "cell_type": "markdown",
   "id": "9e14a8dc",
   "metadata": {},
   "source": [
    "__`[Pass:]`__\n",
    "- The pass statement is a no-operational statement. Used to avoid syntax errors when a block of code is empty, which is not allowed."
   ]
  },
  {
   "cell_type": "code",
   "execution_count": 7,
   "id": "96716786",
   "metadata": {},
   "outputs": [],
   "source": [
    "a = 33\n",
    "b = 200\n",
    "\n",
    "if b > a:\n",
    "    pass"
   ]
  },
  {
   "cell_type": "code",
   "execution_count": 16,
   "id": "28d77ebd",
   "metadata": {},
   "outputs": [],
   "source": [
    "string1 = 'python'\n",
    "string2 = 'python'\n",
    "\n",
    "if string1 == string2:\n",
    "    pass\n",
    "else:\n",
    "    print(\"Strings are different\")"
   ]
  },
  {
   "cell_type": "code",
   "execution_count": 18,
   "id": "5fc725d0",
   "metadata": {},
   "outputs": [
    {
     "name": "stdout",
     "output_type": "stream",
     "text": [
      "string1 >> python\n",
      "string2 >> python\n",
      "Both strings are equal\n"
     ]
    }
   ],
   "source": [
    "# dont use pass statement if it is not necessary, it's of no use\n",
    "\n",
    "string1 = 'python'\n",
    "string2 = 'python'\n",
    "\n",
    "if string1 == string2: # True\n",
    "    pass \n",
    "    print(\"string1 >>\", string1)     # here the statements are present inside the if \n",
    "    print(\"string2 >>\", string2)     # so the pass statement does not work here \n",
    "    print(\"Both strings are equal\")  # statements are executed, so no need of pass\n",
    "\n",
    "else:\n",
    "    print(\"Strings are different\")"
   ]
  },
  {
   "cell_type": "markdown",
   "id": "8c3605e7",
   "metadata": {},
   "source": [
    "__[Conditional statements (Interview questions)]__"
   ]
  },
  {
   "cell_type": "code",
   "execution_count": 21,
   "id": "1684176e",
   "metadata": {},
   "outputs": [
    {
     "name": "stdout",
     "output_type": "stream",
     "text": [
      "1\n",
      "3\n",
      "5\n",
      "7\n",
      "9\n",
      "11\n",
      "13\n",
      "15\n",
      "17\n",
      "19\n"
     ]
    }
   ],
   "source": [
    "# Odd numbers within range\n",
    "\n",
    "for i in range(20):\n",
    "    if i% 2 == 0:\n",
    "        pass\n",
    "    else:\n",
    "        print(i)"
   ]
  },
  {
   "cell_type": "code",
   "execution_count": 6,
   "id": "de56eaaa",
   "metadata": {},
   "outputs": [
    {
     "name": "stdout",
     "output_type": "stream",
     "text": [
      "0, Even number\n",
      "1, odd number\n",
      "2, Even number\n",
      "3, odd number\n",
      "4, Even number\n",
      "5, odd number\n",
      "6, Even number\n",
      "7, odd number\n",
      "8, Even number\n",
      "9, odd number\n",
      "10, Even number\n",
      "11, odd number\n",
      "12, Even number\n",
      "13, odd number\n",
      "14, Even number\n",
      "15, odd number\n",
      "16, Even number\n",
      "17, odd number\n",
      "18, Even number\n",
      "19, odd number\n"
     ]
    }
   ],
   "source": [
    "# Odd and even numbers within range using short hand if-else\n",
    "\n",
    "for i in range(20):\n",
    "    print(f'{i}, Even number') if i%2 == 0 else print(f'{i}, odd number')"
   ]
  },
  {
   "cell_type": "code",
   "execution_count": 8,
   "id": "4abb85f6",
   "metadata": {},
   "outputs": [
    {
     "name": "stdout",
     "output_type": "stream",
     "text": [
      "[4, 16, 36, 64, 100, 144, 196, 256, 324, 400]\n",
      "[1, 9, 25, 49, 81, 121, 169, 225, 289, 361]\n",
      "Below is the list of squares of even numbers given a range of 21: \n",
      "[4, 16, 36, 64, 100, 144, 196, 256, 324, 400]\n",
      "\n",
      "Below is the list of squares of odd numbers given a range of 21: \n",
      "[1, 9, 25, 49, 81, 121, 169, 225, 289, 361]\n"
     ]
    }
   ],
   "source": [
    "# Square within range using short hand if-else\n",
    "\n",
    "even_squares = []\n",
    "odd_squares = [] \n",
    "list1 = [even_squares.append(i**2) if i%2==0 else odd_squares.append(i**2) for i in range(1,21)]\n",
    "print(even_squares)\n",
    "print(odd_squares)\n",
    "\n",
    "\n",
    "def squares(num1):\n",
    "    even_squares = []\n",
    "    odd_squares = [] \n",
    "    list1 = [even_squares.append(i**2) if i%2==0 else odd_squares.append(i**2) for i in range(1,num1)]\n",
    "    print(f'Below is the list of squares of even numbers given a range of {num1}: ')\n",
    "    print(even_squares)\n",
    "    print()\n",
    "    print(f'Below is the list of squares of odd numbers given a range of {num1}: ')\n",
    "    print(odd_squares)\n",
    "#     return even_squares, odd_squares\n",
    "squares(21)"
   ]
  },
  {
   "cell_type": "code",
   "execution_count": 7,
   "id": "bed7ed81",
   "metadata": {},
   "outputs": [
    {
     "data": {
      "text/plain": [
       "'oMKARfADTARE'"
      ]
     },
     "execution_count": 7,
     "metadata": {},
     "output_type": "execute_result"
    }
   ],
   "source": [
    "# Swap case\n",
    "\n",
    "def swap_case(s):\n",
    "    swap = ''\n",
    "    for char in s:\n",
    "        if type(char) == str:\n",
    "            if char.isupper():\n",
    "                  swap+=char.lower()\n",
    "            else:\n",
    "                char.islower()\n",
    "                swap+=char.upper()\n",
    "        else:\n",
    "            swap+=char\n",
    "    return swap\n",
    "\n",
    "swap_case('OmkarFadtare')"
   ]
  }
 ],
 "metadata": {
  "kernelspec": {
   "display_name": "Python 3 (ipykernel)",
   "language": "python",
   "name": "python3"
  },
  "language_info": {
   "codemirror_mode": {
    "name": "ipython",
    "version": 3
   },
   "file_extension": ".py",
   "mimetype": "text/x-python",
   "name": "python",
   "nbconvert_exporter": "python",
   "pygments_lexer": "ipython3",
   "version": "3.9.12"
  }
 },
 "nbformat": 4,
 "nbformat_minor": 5
}
