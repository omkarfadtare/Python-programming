{
 "cells": [
  {
   "cell_type": "markdown",
   "id": "3d75c495",
   "metadata": {},
   "source": [
    "## Types of Loops in Python:\n",
    "- 1) for loop\n",
    "- 2) while loop\n",
    "\n",
    "### 1) for loop:\n",
    "- for loop is used for iterating over a sequence (that is either a list, tuple, dictionary, set or string)."
   ]
  },
  {
   "cell_type": "code",
   "execution_count": 1,
   "id": "e1bce854",
   "metadata": {},
   "outputs": [
    {
     "name": "stdout",
     "output_type": "stream",
     "text": [
      "p\n",
      "y\n",
      "t\n",
      "h\n",
      "o\n",
      "n\n"
     ]
    }
   ],
   "source": [
    "str1 = 'python'\n",
    "for i in str1:\n",
    "    print(i)"
   ]
  },
  {
   "cell_type": "code",
   "execution_count": 4,
   "id": "447a09b1",
   "metadata": {},
   "outputs": [
    {
     "name": "stdout",
     "output_type": "stream",
     "text": [
      "s-c-i-e-n-c-e-"
     ]
    }
   ],
   "source": [
    "str1 = 'science'\n",
    "for letter in str1:\n",
    "    print(letter, end='-')"
   ]
  },
  {
   "cell_type": "markdown",
   "id": "a5735fc1",
   "metadata": {},
   "source": [
    "__`enumarate():`__ \n",
    "- This method adds a counter to an iterable and returns it in a form of enumerating object."
   ]
  },
  {
   "cell_type": "code",
   "execution_count": 1,
   "id": "e1668772",
   "metadata": {},
   "outputs": [
    {
     "name": "stdout",
     "output_type": "stream",
     "text": [
      "Char is : s\n",
      "index is : 0\n",
      "Char is : c\n",
      "index is : 1\n",
      "Char is : i\n",
      "index is : 2\n",
      "Char is : e\n",
      "index is : 3\n",
      "Char is : n\n",
      "index is : 4\n",
      "Char is : c\n",
      "index is : 5\n",
      "Char is : e\n",
      "index is : 6\n"
     ]
    }
   ],
   "source": [
    "# Without using enumarate()\n",
    "\n",
    "str1 = 'science'\n",
    "index = 0\n",
    "for char in str1:\n",
    "    print(\"Char is :\", char)\n",
    "    print(\"index is :\",index)\n",
    "    index = index + 1 # 0 + 1 = 1\n",
    "                      # 1 + 1 = 2"
   ]
  },
  {
   "cell_type": "code",
   "execution_count": 2,
   "id": "2a65e6dd",
   "metadata": {},
   "outputs": [
    {
     "name": "stdout",
     "output_type": "stream",
     "text": [
      "Char at index 0 is s\n",
      "Char at index 1 is c\n",
      "Char at index 2 is i\n",
      "Char at index 3 is e\n",
      "Char at index 4 is n\n",
      "Char at index 5 is c\n",
      "Char at index 6 is e\n"
     ]
    }
   ],
   "source": [
    "# Using enumarate()\n",
    "\n",
    "str1 = 'science'\n",
    "for i, j in enumerate(str1):\n",
    "    print(f\"Char at index {i} is {j}\")"
   ]
  },
  {
   "cell_type": "code",
   "execution_count": 3,
   "id": "b11709e5",
   "metadata": {},
   "outputs": [
    {
     "name": "stdout",
     "output_type": "stream",
     "text": [
      "0P 1y 2t 3h 4o 5n 6  7p 8r 9o 10g 11r 12a 13m 14m 15i 16n 17g "
     ]
    }
   ],
   "source": [
    "str2 = 'Python programming'\n",
    "for i,j in enumerate(str2):\n",
    "    print(i,end='')\n",
    "    print(j,end=' ')"
   ]
  },
  {
   "cell_type": "code",
   "execution_count": 6,
   "id": "8a0ca828",
   "metadata": {},
   "outputs": [
    {
     "name": "stdout",
     "output_type": "stream",
     "text": [
      "0 s\n",
      "*****\n",
      "1 c\n",
      "*****\n",
      "2 i\n",
      "*****\n",
      "3 e\n",
      "*****\n",
      "4 n\n",
      "*****\n",
      "5 c\n",
      "*****\n",
      "6 e\n",
      "*****\n"
     ]
    }
   ],
   "source": [
    "str1 = 'science'\n",
    "for i,alpha in enumerate(str1):\n",
    "    print(i,alpha)\n",
    "    print(\"*****\")"
   ]
  },
  {
   "cell_type": "code",
   "execution_count": 4,
   "id": "a7d89f40",
   "metadata": {},
   "outputs": [
    {
     "name": "stdout",
     "output_type": "stream",
     "text": [
      "apple\n",
      "banana\n",
      "cherry\n"
     ]
    }
   ],
   "source": [
    "# Iterating over a list\n",
    "\n",
    "fruits = [\"apple\", \"banana\", \"cherry\"] # accessing elements from a list\n",
    "for x in fruits:\n",
    "    print(x)"
   ]
  },
  {
   "cell_type": "code",
   "execution_count": 5,
   "id": "412b4130",
   "metadata": {},
   "outputs": [
    {
     "name": "stdout",
     "output_type": "stream",
     "text": [
      "11\n",
      "12\n",
      "13\n",
      "14\n",
      "15\n",
      "16\n",
      "17\n",
      "18\n",
      "19\n",
      "20\n"
     ]
    }
   ],
   "source": [
    "# Method1\n",
    "\n",
    "list1 = [11,12,13,14,15,16,17,18,19,20]\n",
    "for var in range (0,10):\n",
    "    print(list1[var])"
   ]
  },
  {
   "cell_type": "code",
   "execution_count": 15,
   "id": "6dc7eaf7",
   "metadata": {},
   "outputs": [
    {
     "name": "stdout",
     "output_type": "stream",
     "text": [
      "11\n",
      "12\n",
      "13\n",
      "14\n",
      "15\n",
      "16\n",
      "17\n",
      "18\n",
      "19\n",
      "20\n"
     ]
    }
   ],
   "source": [
    "# Method2\n",
    "\n",
    "list1 = [11,12,13,14,15,16,17,18,19,20]\n",
    "for var in range (0,len(list1)):\n",
    "    print(list1[var])"
   ]
  },
  {
   "cell_type": "code",
   "execution_count": 13,
   "id": "a386666c",
   "metadata": {},
   "outputs": [
    {
     "name": "stdout",
     "output_type": "stream",
     "text": [
      "10\n",
      "14\n",
      "15\n",
      "7\n",
      "8\n",
      "98\n",
      "65\n",
      "27\n",
      "83\n",
      "96\n",
      "66\n",
      "43\n"
     ]
    }
   ],
   "source": [
    "# Method3\n",
    "\n",
    "list1 = [10,14,15,7,8,98,65,27,83,96,66,43]\n",
    "for var in list1:\n",
    "    print(var)"
   ]
  },
  {
   "cell_type": "code",
   "execution_count": 14,
   "id": "d87bdea7",
   "metadata": {},
   "outputs": [
    {
     "name": "stdout",
     "output_type": "stream",
     "text": [
      "0 10\n",
      "1 14\n",
      "2 15\n",
      "3 7\n",
      "4 8\n",
      "5 98\n",
      "6 65\n",
      "7 27\n",
      "8 83\n",
      "9 96\n",
      "10 66\n",
      "11 43\n"
     ]
    }
   ],
   "source": [
    "# Method4\n",
    "\n",
    "list1 = [10,14,15,7,8,98,65,27,83,96,66,43]\n",
    "for i,j in enumerate(list1):\n",
    "    print(i,j)"
   ]
  },
  {
   "cell_type": "code",
   "execution_count": 26,
   "id": "5ee1a5a4",
   "metadata": {},
   "outputs": [
    {
     "name": "stdout",
     "output_type": "stream",
     "text": [
      "0: 11\n",
      "1: 12\n",
      "2: 13\n",
      "3: 14\n",
      "4: 15\n",
      "5: 16\n",
      "6: 17\n",
      "7: 18\n",
      "8: 19\n",
      "9: 20\n"
     ]
    }
   ],
   "source": [
    "# Method5\n",
    "\n",
    "list1 = [11,12,13,14,15,16,17,18,19,20]\n",
    "for var in list1:\n",
    "    print(f'{list1.index(var)}: {var}')"
   ]
  },
  {
   "cell_type": "markdown",
   "id": "5f1288ed",
   "metadata": {},
   "source": [
    "__[Loop control statements]__\n",
    "\n",
    "__1) break:__ \n",
    "- It is used to exit the for loop, break statement stop the loop before it has looped through all the items."
   ]
  },
  {
   "cell_type": "code",
   "execution_count": 8,
   "id": "00dbb62a",
   "metadata": {},
   "outputs": [
    {
     "name": "stdout",
     "output_type": "stream",
     "text": [
      "apple\n",
      "banana\n"
     ]
    }
   ],
   "source": [
    "fruits = [\"apple\", \"banana\", \"cherry\"]\n",
    "for x in fruits:\n",
    "    print(x)\n",
    "    if x == \"banana\":\n",
    "        break"
   ]
  },
  {
   "cell_type": "code",
   "execution_count": 9,
   "id": "d498508f",
   "metadata": {},
   "outputs": [
    {
     "name": "stdout",
     "output_type": "stream",
     "text": [
      "apple\n"
     ]
    }
   ],
   "source": [
    "fruits = [\"apple\", \"banana\", \"cherry\"]\n",
    "for x in fruits:\n",
    "    if x == \"banana\":\n",
    "        break # Output changes depending upon the location of break statement\n",
    "    print(x)"
   ]
  },
  {
   "cell_type": "code",
   "execution_count": 27,
   "id": "b5d5dae3",
   "metadata": {},
   "outputs": [
    {
     "name": "stdout",
     "output_type": "stream",
     "text": [
      "1\n",
      "12.4\n"
     ]
    }
   ],
   "source": [
    "list1 = [1,12.4,'Python',6,12,'Java',43,122,13.4]\n",
    "for i in list1:\n",
    "    if type(i) == int or type(i) == float:\n",
    "        print(i)\n",
    "    else:\n",
    "        break"
   ]
  },
  {
   "cell_type": "markdown",
   "id": "c0474fbc",
   "metadata": {},
   "source": [
    "__2) continue:__ \n",
    "- It is used to stop only current iteration, and continue with next iterations."
   ]
  },
  {
   "cell_type": "code",
   "execution_count": 28,
   "id": "0cabcc41",
   "metadata": {},
   "outputs": [
    {
     "name": "stdout",
     "output_type": "stream",
     "text": [
      "1\n",
      "12.4\n",
      "6\n",
      "12\n",
      "43\n",
      "122\n",
      "13.4\n"
     ]
    }
   ],
   "source": [
    "list1 = [1,12.4,'Python',6,12,'Java',43,122,13.4]\n",
    "for i in list1:\n",
    "    if type(i) == int or type(i) == float:\n",
    "        print(i)\n",
    "    else:\n",
    "        continue"
   ]
  },
  {
   "cell_type": "code",
   "execution_count": 10,
   "id": "3b2c7d2f",
   "metadata": {},
   "outputs": [
    {
     "name": "stdout",
     "output_type": "stream",
     "text": [
      "apple\n",
      "cherry\n"
     ]
    }
   ],
   "source": [
    "fruits = [\"apple\", \"banana\", \"cherry\"]\n",
    "for x in fruits:\n",
    "    if x == \"banana\":\n",
    "        continue\n",
    "    print(x)"
   ]
  },
  {
   "cell_type": "code",
   "execution_count": 2,
   "id": "bd9cf59a",
   "metadata": {},
   "outputs": [
    {
     "name": "stdout",
     "output_type": "stream",
     "text": [
      "0\n",
      "1\n",
      "2\n",
      "3\n",
      "4\n",
      "5\n",
      "6\n",
      "7\n",
      "Required value found\n",
      "8\n",
      "9\n"
     ]
    }
   ],
   "source": [
    "for i in range(10):\n",
    "    print(i)\n",
    "    if i == 7:\n",
    "        print(\"Required value found\")\n",
    "        continue"
   ]
  },
  {
   "cell_type": "code",
   "execution_count": 3,
   "id": "4f6d7d90",
   "metadata": {},
   "outputs": [
    {
     "name": "stdout",
     "output_type": "stream",
     "text": [
      "0\n",
      "1\n",
      "2\n",
      "3\n",
      "4\n",
      "5\n",
      "6\n",
      "7\n",
      "8\n",
      "9\n"
     ]
    }
   ],
   "source": [
    "for i in range(10):  # 0 to 9\n",
    "    print(i)  # 0,1,2,3,4,5,6,7,8,9\n",
    "    if i == 7:  # i = 7 , True\n",
    "        continue\n",
    "        print(\"Required value found\")"
   ]
  },
  {
   "cell_type": "code",
   "execution_count": 22,
   "id": "123254ff",
   "metadata": {},
   "outputs": [
    {
     "name": "stdout",
     "output_type": "stream",
     "text": [
      "Python\n",
      "Java\n"
     ]
    }
   ],
   "source": [
    "list1 = [1,12.4,'Python',6,12,'Java',43,122,13.4]\n",
    "for i in list1:\n",
    "    if type(i) == str:\n",
    "        print(i)\n",
    "    else:\n",
    "        continue"
   ]
  },
  {
   "cell_type": "markdown",
   "id": "4a7945df",
   "metadata": {},
   "source": [
    "__3) range:__ \n",
    "- range() function returns a sequence of numbers, starting from 0 by default, and increments by 1 (by default), and ends at less than the specified number."
   ]
  },
  {
   "cell_type": "code",
   "execution_count": 11,
   "id": "dfacb672",
   "metadata": {},
   "outputs": [
    {
     "name": "stdout",
     "output_type": "stream",
     "text": [
      "0\n",
      "1\n",
      "2\n",
      "3\n",
      "4\n",
      "5\n"
     ]
    }
   ],
   "source": [
    "for x in range(6):\n",
    "    print(x)"
   ]
  },
  {
   "cell_type": "code",
   "execution_count": 12,
   "id": "9ef14dc9",
   "metadata": {},
   "outputs": [
    {
     "name": "stdout",
     "output_type": "stream",
     "text": [
      "2\n",
      "3\n",
      "4\n",
      "5\n"
     ]
    }
   ],
   "source": [
    "for x in range(2,6): # (include, exclude)\n",
    "    print(x)"
   ]
  },
  {
   "cell_type": "code",
   "execution_count": 13,
   "id": "5b8687ca",
   "metadata": {},
   "outputs": [
    {
     "name": "stdout",
     "output_type": "stream",
     "text": [
      "2\n",
      "5\n",
      "8\n",
      "11\n",
      "14\n",
      "17\n",
      "20\n",
      "23\n",
      "26\n",
      "29\n"
     ]
    }
   ],
   "source": [
    "for x in range(2, 30, 3): # (start,end,step)\n",
    "    print(x)"
   ]
  },
  {
   "cell_type": "code",
   "execution_count": 29,
   "id": "4044774d",
   "metadata": {},
   "outputs": [
    {
     "name": "stdout",
     "output_type": "stream",
     "text": [
      "10\n",
      "9\n",
      "8\n",
      "7\n",
      "6\n",
      "5\n",
      "4\n",
      "3\n",
      "2\n",
      "1\n"
     ]
    }
   ],
   "source": [
    "for temp in range (10,0,-1): # Reverse direction (start, stop, step)\n",
    "    print(temp)"
   ]
  },
  {
   "cell_type": "code",
   "execution_count": 17,
   "id": "32cb7bdc",
   "metadata": {},
   "outputs": [
    {
     "name": "stdout",
     "output_type": "stream",
     "text": [
      "code started\n",
      "10\n",
      "8\n",
      "6\n",
      "4\n",
      "2\n"
     ]
    }
   ],
   "source": [
    "print(\"code started\")\n",
    "for temp in range (10,0,-2):\n",
    "    print(temp)"
   ]
  },
  {
   "cell_type": "markdown",
   "id": "71d0035a",
   "metadata": {},
   "source": [
    "__4) pass:__ \n",
    "- for loops cannot be empty, but if you for some reason have a for loop with no content, put in the pass statement to avoid getting any syntax error."
   ]
  },
  {
   "cell_type": "code",
   "execution_count": 18,
   "id": "207160e0",
   "metadata": {},
   "outputs": [],
   "source": [
    "for x in [0, 1, 2]:\n",
    "    pass"
   ]
  },
  {
   "cell_type": "code",
   "execution_count": 5,
   "id": "efdf6349",
   "metadata": {},
   "outputs": [
    {
     "name": "stdout",
     "output_type": "stream",
     "text": [
      "*********\n",
      "*********\n",
      "*********\n",
      "*********\n",
      "*********\n",
      "*********\n",
      "*********\n",
      "*********\n",
      "*********\n"
     ]
    }
   ],
   "source": [
    "for i in range(10):\n",
    "    if i == 7:\n",
    "        pass\n",
    "    else:\n",
    "        print(\"*********\")"
   ]
  },
  {
   "cell_type": "markdown",
   "id": "675d3b78",
   "metadata": {},
   "source": [
    "__5) else in for loop:__ \n",
    "- else keyword in a for loop specifies a block of code to be executed when the loop is finished."
   ]
  },
  {
   "cell_type": "code",
   "execution_count": 19,
   "id": "93bd1a92",
   "metadata": {},
   "outputs": [
    {
     "name": "stdout",
     "output_type": "stream",
     "text": [
      "0\n",
      "1\n",
      "2\n",
      "3\n",
      "4\n",
      "5\n",
      "Finally finished!\n"
     ]
    }
   ],
   "source": [
    "for x in range(6):\n",
    "    print(x)\n",
    "else:\n",
    "    print(\"Finally finished!\")"
   ]
  },
  {
   "cell_type": "code",
   "execution_count": 20,
   "id": "f134b3db",
   "metadata": {},
   "outputs": [
    {
     "name": "stdout",
     "output_type": "stream",
     "text": [
      "0\n",
      "1\n",
      "2\n"
     ]
    }
   ],
   "source": [
    "for x in range(6):\n",
    "    if x == 3: break # The else block will NOT be executed if the loop is stopped by a break statement.\n",
    "    print(x)\n",
    "else:\n",
    "    print(\"Finally finished!\")"
   ]
  },
  {
   "cell_type": "code",
   "execution_count": 31,
   "id": "efe20a5b",
   "metadata": {},
   "outputs": [
    {
     "name": "stdout",
     "output_type": "stream",
     "text": [
      "i == 5\n",
      "i == 6\n",
      "i == 7\n",
      "i == 8\n"
     ]
    }
   ],
   "source": [
    "for i in range(5,11): # 5 to 10\n",
    "    print(f\"i == {i}\") # 5, 6, 7 , 8\n",
    "    if i == 8:\n",
    "        break # loop broke interpretor wnt go in next line that is why below statement wont printed\n",
    "else:      \n",
    "    print('Loop Completed')"
   ]
  },
  {
   "cell_type": "code",
   "execution_count": 30,
   "id": "2cd54e77",
   "metadata": {},
   "outputs": [
    {
     "name": "stdout",
     "output_type": "stream",
     "text": [
      "i == 5\n",
      "i == 6\n",
      "i == 7\n",
      "i == 8\n",
      "Value Found\n",
      "i == 9\n",
      "i == 10\n",
      "Loop Completed\n"
     ]
    }
   ],
   "source": [
    "for i in range(5,11): # 5 to 10\n",
    "    print(f\"i == {i}\") # 5,6,7,8,9,10\n",
    "    if i == 8:\n",
    "        print(\"Value Found\")\n",
    "else:      \n",
    "    print('Loop Completed')"
   ]
  },
  {
   "cell_type": "markdown",
   "id": "47f793c0",
   "metadata": {},
   "source": [
    "__6) Nested loop (loop inside loop):__ \n",
    "- The \"inner loop\" will be executed one time for each iteration of the \"outer loop\"."
   ]
  },
  {
   "cell_type": "code",
   "execution_count": null,
   "id": "e0cead91",
   "metadata": {},
   "outputs": [],
   "source": [
    "# Syntax:\n",
    "\n",
    "for variable1 in sequence1:\n",
    "    statement1\n",
    "    statement2\n",
    "    for variable2 in sequence:\n",
    "        statement3\n",
    "        statement4"
   ]
  },
  {
   "cell_type": "code",
   "execution_count": null,
   "id": "88507912",
   "metadata": {},
   "outputs": [],
   "source": [
    "# Syntax:\n",
    "\n",
    "for variable1 in sequence1:\n",
    "    statement1\n",
    "    statement2\n",
    "    for variable2 in sequence:\n",
    "        statement3\n",
    "        statement4\n",
    "        for variable2 in sequence:\n",
    "        statement3\n",
    "        statement4"
   ]
  },
  {
   "cell_type": "code",
   "execution_count": 21,
   "id": "25867bc8",
   "metadata": {},
   "outputs": [
    {
     "name": "stdout",
     "output_type": "stream",
     "text": [
      "red apple\n",
      "red banana\n",
      "red cherry\n",
      "big apple\n",
      "big banana\n",
      "big cherry\n",
      "tasty apple\n",
      "tasty banana\n",
      "tasty cherry\n"
     ]
    }
   ],
   "source": [
    "adj = [\"red\", \"big\", \"tasty\"]\n",
    "fruits = [\"apple\", \"banana\", \"cherry\"]\n",
    "\n",
    "for x in adj:\n",
    "    for y in fruits:\n",
    "        print(x, y)"
   ]
  },
  {
   "cell_type": "code",
   "execution_count": 32,
   "id": "a951f48f",
   "metadata": {},
   "outputs": [
    {
     "name": "stdout",
     "output_type": "stream",
     "text": [
      "i == 0\n",
      "python\n",
      "python\n",
      "i == 1\n",
      "python\n",
      "python\n",
      "i == 2\n",
      "python\n",
      "python\n",
      "i == 3\n",
      "python\n",
      "python\n",
      "i == 4\n",
      "python\n",
      "python\n"
     ]
    }
   ],
   "source": [
    "for i in range(5):\n",
    "    print(f\"i == {i}\")\n",
    "    for j in range(2):\n",
    "        print(\"python\")"
   ]
  },
  {
   "cell_type": "code",
   "execution_count": 33,
   "id": "97a83645",
   "metadata": {},
   "outputs": [
    {
     "name": "stdout",
     "output_type": "stream",
     "text": [
      "i == 0\n",
      "python\n",
      "python\n",
      "python\n",
      "\n",
      "i == 1\n",
      "python\n",
      "python\n",
      "python\n",
      "\n",
      "i == 2\n",
      "python\n",
      "python\n",
      "python\n",
      "\n",
      "i == 3\n",
      "python\n",
      "python\n",
      "python\n",
      "\n",
      "Hello\n",
      "\n",
      "Python\n"
     ]
    }
   ],
   "source": [
    "for i in range(4):\n",
    "    print(f\"i == {i}\")\n",
    "    for j in range(3):\n",
    "        print('python')\n",
    "    print()\n",
    "    \n",
    "print('Hello', end = '\\n')\n",
    "print(end = '\\n')\n",
    "print('Python')"
   ]
  },
  {
   "cell_type": "code",
   "execution_count": 4,
   "id": "0944c4e3",
   "metadata": {},
   "outputs": [
    {
     "name": "stdout",
     "output_type": "stream",
     "text": [
      "* * * * * \n",
      "* * * * * \n",
      "* * * * * \n",
      "* * * * * \n",
      "* * * * * \n"
     ]
    }
   ],
   "source": [
    "for i in range(5):\n",
    "    for j in range(5):\n",
    "        print('*',end = ' ')\n",
    "    print()"
   ]
  },
  {
   "cell_type": "markdown",
   "id": "6b8d5c19",
   "metadata": {},
   "source": [
    "__[for loop (Interview questions)]__"
   ]
  },
  {
   "cell_type": "code",
   "execution_count": 48,
   "id": "c60711b5",
   "metadata": {},
   "outputs": [
    {
     "name": "stdout",
     "output_type": "stream",
     "text": [
      "Addition of first 10 number is 55\n"
     ]
    }
   ],
   "source": [
    "# Addition of first 10 natural numbers:\n",
    "\n",
    "n = 10\n",
    "addition = 0\n",
    "for i in range(n+1):\n",
    "    addition +=i\n",
    "print(f\"Addition of first {n} number is {addition}\")"
   ]
  },
  {
   "cell_type": "code",
   "execution_count": 40,
   "id": "729c6352",
   "metadata": {},
   "outputs": [
    {
     "name": "stdout",
     "output_type": "stream",
     "text": [
      "-10 : value is negative\n",
      "14 : value is positive\n",
      "15 : value is positive\n",
      "7 : value is positive\n",
      "-1 : value is negative\n",
      "0 : value is zero\n",
      "65 : value is positive\n",
      "27 : value is positive\n",
      "83 : value is positive\n",
      "-58 : value is negative\n",
      "66 : value is positive\n",
      "43 : value is positive\n"
     ]
    }
   ],
   "source": [
    "# Predicting whether the value is positive, negative or zero using for loop:\n",
    "\n",
    "list2 = [-10,14,15,7,-1,0,65,27,83,-58,66,43]\n",
    "for var in range (0,len(list2)):\n",
    "    print(list2[var],\":\", end=' ')\n",
    "    if (list2[var] > 0):\n",
    "        print(\"value is positive\")\n",
    "    elif(list2[var] == 0):\n",
    "        print(\"value is zero\")\n",
    "    else:\n",
    "        print(\"value is negative\")"
   ]
  },
  {
   "cell_type": "code",
   "execution_count": 45,
   "id": "00511b4a",
   "metadata": {},
   "outputs": [
    {
     "name": "stdout",
     "output_type": "stream",
     "text": [
      "-10 :value is negative\n",
      "14 :value is positive\n",
      "15 :value is positive\n",
      "7 :value is positive\n",
      "-1 :value is negative\n",
      "0 :value is zero\n",
      "65 :value is positive\n",
      "27 :value is positive\n",
      "83 :value is positive\n",
      "-58 :value is negative\n",
      "66 :value is positive\n",
      "43 :value is positive\n"
     ]
    }
   ],
   "source": [
    "# Predicting whether the value is positive, negative or zero using for loop and user defined function:\n",
    "\n",
    "def predict(list1):\n",
    "    for var in range (0,len(list1)):\n",
    "        print(list1[var],\":\", end='')\n",
    "        if (list1[var] > 0):\n",
    "            print(\"value is positive\")\n",
    "        elif(list1[var] == 0):\n",
    "            print(\"value is zero\")\n",
    "        else:\n",
    "            print(\"value is negative\") \n",
    "predict([-10,14,15,7,-1,0,65,27,83,-58,66,43])"
   ]
  },
  {
   "cell_type": "code",
   "execution_count": 16,
   "id": "27eff541",
   "metadata": {},
   "outputs": [
    {
     "name": "stdout",
     "output_type": "stream",
     "text": [
      "10  : \n",
      "entered number is even\n",
      "14  : \n",
      "entered number is even\n",
      "15  : \n",
      "given number is odd\n",
      "7  : \n",
      "given number is odd\n",
      "8  : \n",
      "entered number is even\n",
      "98  : \n",
      "entered number is even\n",
      "65  : \n",
      "given number is odd\n",
      "27  : \n",
      "given number is odd\n",
      "83  : \n",
      "given number is odd\n",
      "96  : \n",
      "entered number is even\n",
      "66  : \n",
      "entered number is even\n",
      "43  : \n",
      "given number is odd\n"
     ]
    }
   ],
   "source": [
    "# Predicting whether the value is even or odd:\n",
    "\n",
    "list1 = [10,14,15,7,8,98,65,27,83,96,66,43]\n",
    "\n",
    "for var in range (0,len(list1)):\n",
    "    print(list1[var], \" : \")\n",
    "    if (list1[var] % 2 == 0):\n",
    "        print(\"entered number is even\")\n",
    "    else:\n",
    "        print(\"given number is odd\")"
   ]
  },
  {
   "cell_type": "code",
   "execution_count": 46,
   "id": "ef03ff22",
   "metadata": {},
   "outputs": [
    {
     "name": "stdout",
     "output_type": "stream",
     "text": [
      "Given number -10 is even\n",
      "Given number 14 is even\n",
      "Given number 15 is odd\n",
      "Given number 7 is odd\n",
      "Given number -1 is odd\n",
      "Given number 65 is odd\n",
      "Given number 27 is odd\n",
      "Given number 83 is odd\n",
      "Given number -58 is even\n",
      "Given number 66 is even\n",
      "Given number 43 is odd\n"
     ]
    }
   ],
   "source": [
    "# Predicting whether the value is even or odd using short hand if else and for loop:\n",
    "\n",
    "list1 = [-10,14,15,7,-1,0,65,27,83,-58,66,43]\n",
    "\n",
    "for i in list1:\n",
    "    if i!= 0:\n",
    "        print(f'Given number {i} is even') if i%2 == 0 else print(f'Given number {i} is odd')"
   ]
  },
  {
   "cell_type": "code",
   "execution_count": 25,
   "id": "587ff0cb",
   "metadata": {},
   "outputs": [
    {
     "name": "stdout",
     "output_type": "stream",
     "text": [
      "Integers : [2, 3, 20, 100, 15, 10]\n",
      "Float : [4.5, 5.14, 9.45]\n",
      "String ['python', 'data science']\n"
     ]
    }
   ],
   "source": [
    "# Sorting data-types of variables:\n",
    "\n",
    "list1 = [2,3,4.5,20,5.14,'python',100,15,10,'data science',9.45]\n",
    "\n",
    "intList = []\n",
    "floatList = []\n",
    "strList = []\n",
    "for value in list1:\n",
    "    if type(value) == int: \n",
    "        intList.append(value)\n",
    "    elif type(value) == float:\n",
    "        floatList.append(value)\n",
    "    else:\n",
    "        strList.append(value)\n",
    "        \n",
    "print(\"Integers :\",intList)\n",
    "print(\"Float :\", floatList)\n",
    "print(\"String\",strList)"
   ]
  },
  {
   "cell_type": "code",
   "execution_count": 17,
   "id": "6a5eb677",
   "metadata": {},
   "outputs": [
    {
     "name": "stdout",
     "output_type": "stream",
     "text": [
      "1)\n",
      "Mon,Morning\n",
      "Mon,Afternoon\n",
      "Mon,Evening\n",
      "\n",
      "2)\n",
      "Tue,Morning\n",
      "Tue,Afternoon\n",
      "Tue,Evening\n",
      "\n",
      "3)\n",
      "Wed,Morning\n",
      "Wed,Afternoon\n",
      "Wed,Evening\n",
      "\n",
      "4)\n",
      "Thu,Morning\n",
      "Thu,Afternoon\n",
      "Thu,Evening\n",
      "\n",
      "5)\n",
      "Fri,Morning\n",
      "Fri,Afternoon\n",
      "Fri,Evening\n",
      "\n",
      "6)\n",
      "Sat,Morning\n",
      "Sat,Afternoon\n",
      "Sat,Evening\n",
      "\n",
      "7)\n",
      "Sun,Morning\n",
      "Sun,Afternoon\n",
      "Sun,Evening\n",
      "\n"
     ]
    }
   ],
   "source": [
    "# Batch scheduling:\n",
    "\n",
    "list1 = ['Mon', 'Tue', 'Wed', 'Thu', 'Fri', 'Sat', 'Sun']\n",
    "list2 = ['Morning', 'Afternoon', 'Evening']\n",
    "\n",
    "for index, day in enumerate(list1):\n",
    "    print(f'{index+1})')\n",
    "    for schedule in list2:\n",
    "        print(f'{day},{schedule}')\n",
    "    print()"
   ]
  },
  {
   "cell_type": "code",
   "execution_count": 28,
   "id": "3917eadc",
   "metadata": {},
   "outputs": [
    {
     "name": "stdout",
     "output_type": "stream",
     "text": [
      "please enter any number: 5\n",
      "120\n"
     ]
    }
   ],
   "source": [
    "# Factorial:\n",
    "\n",
    "num1 = int(input(\"please enter any number: \")) # Define input function\n",
    "\n",
    "factorial = 1 # Define factorial\n",
    "for i in range (1,num1+1): # Define range (n+1) since we want 5*4*3*2*1 if we only write (num1) it will go only up to 4\n",
    "    factorial = factorial*i # i = 1,2,3,4,5.. # Define the equation\n",
    "print(factorial)\n",
    "\n",
    "# Equation will work like-\n",
    "# defined factorial value 1\n",
    "# 1 * 1 = 1\n",
    "# 1 * 2 = 2\n",
    "# 2 * 3 = 6\n",
    "# 6 * 4 = 24\n",
    "# 24 * 5 = 120"
   ]
  },
  {
   "cell_type": "code",
   "execution_count": 23,
   "id": "124ad54c",
   "metadata": {},
   "outputs": [
    {
     "name": "stdout",
     "output_type": "stream",
     "text": [
      "5040\n"
     ]
    }
   ],
   "source": [
    "# Factorial using for loop and user defined function:\n",
    "\n",
    "def Factorial(num1):\n",
    "    fact = 1\n",
    "    for i in range(1, num1+1):\n",
    "        fact = fact*i\n",
    "    print(fact)\n",
    "    \n",
    "Factorial(7)"
   ]
  },
  {
   "cell_type": "code",
   "execution_count": 3,
   "id": "fe31d4e8",
   "metadata": {},
   "outputs": [
    {
     "name": "stdout",
     "output_type": "stream",
     "text": [
      "please enter terms for fibonacci series: 10\n",
      "1\n",
      "1\n",
      "2\n",
      "3\n",
      "5\n",
      "8\n",
      "13\n",
      "21\n",
      "34\n",
      "55\n"
     ]
    }
   ],
   "source": [
    "# Fibonacci series:\n",
    "\n",
    "terms = int(input(\"please enter terms for fibonacci series: \")) # Define input\n",
    "n1 = 0\n",
    "n2 = 1 # Define variables n1,n2\n",
    "if (terms <= 0):\n",
    "    print(\"please enter value greater than zero\") # Define condition if terms less than or equal to zero\n",
    "else:\n",
    "    for i in range(0,terms): # Define range\n",
    "        n3 = n1 + n2 # Define fibonacci condition\n",
    "        n1 = n2\n",
    "        n2 = n3\n",
    "        print(n1)"
   ]
  },
  {
   "cell_type": "code",
   "execution_count": 24,
   "id": "c370c8d5",
   "metadata": {},
   "outputs": [
    {
     "name": "stdout",
     "output_type": "stream",
     "text": [
      "1\n",
      "1\n",
      "2\n",
      "3\n",
      "5\n",
      "8\n",
      "13\n",
      "21\n",
      "34\n",
      "55\n"
     ]
    }
   ],
   "source": [
    "# Fibbonacci series using for loop and user defined function:\n",
    "\n",
    "def Fibbonacci(num1):\n",
    "    n1 =0\n",
    "    n2 = 1\n",
    "    if num1>0:\n",
    "        for i in range(0,num1):\n",
    "            n3 = n1+n2\n",
    "            n1,n2 = n2,n3\n",
    "            print(n1)\n",
    "Fibbonacci(10)"
   ]
  },
  {
   "cell_type": "code",
   "execution_count": 47,
   "id": "096e5cbe",
   "metadata": {},
   "outputs": [
    {
     "name": "stdout",
     "output_type": "stream",
     "text": [
      "Given number 17 is prime\n"
     ]
    }
   ],
   "source": [
    "# Prime number using for loop and user defined function: for single number\n",
    "\n",
    "def Prime(num1):\n",
    "    prime = 0\n",
    "    for i in range(2, int(num1**0.5)+1):\n",
    "        if num1%i == 0:\n",
    "            prime = 1\n",
    "            break\n",
    "    if prime==0:\n",
    "        print(f'Given number {num1} is prime')\n",
    "    else:\n",
    "        print(f'Given number {num1} is not prime')\n",
    "        \n",
    "Prime(17)"
   ]
  },
  {
   "cell_type": "code",
   "execution_count": 2,
   "id": "78cb4fd8",
   "metadata": {},
   "outputs": [
    {
     "name": "stdout",
     "output_type": "stream",
     "text": [
      "53, 59, 61, 67, 71, 73, 79, 83, 89, 97, "
     ]
    }
   ],
   "source": [
    "# Prime number using for loop and user defined function: for series\n",
    "\n",
    "def Prime_series(lower, upper): # for range\n",
    "    for i in range(lower,upper):\n",
    "        prime = 0\n",
    "        for j in range(2,int(i**0.5)+1):\n",
    "            if i%j==0:\n",
    "                prime = 1\n",
    "                break\n",
    "        if prime==0:\n",
    "            print(i,end=' ')\n",
    "            \n",
    "Prime_series(50,100)"
   ]
  },
  {
   "cell_type": "markdown",
   "id": "6ce934d9",
   "metadata": {},
   "source": [
    "### 2) while loop:\n",
    "- Using while loop we can execute a set of statements as long as the condition is true.\n",
    "- The main difference between for loop and while loop is the range function, in for loop the number of iterations to be done is already known and is used to obtain a certain result whereas in while loop the command runs until a certain condition is reached and the statement is proved to be false."
   ]
  },
  {
   "cell_type": "code",
   "execution_count": null,
   "id": "a04c3828",
   "metadata": {},
   "outputs": [],
   "source": [
    "# Syntax: \n",
    "\n",
    "while condition:\n",
    "    statement 1\n",
    "    statement 2\n",
    "    increment"
   ]
  },
  {
   "cell_type": "code",
   "execution_count": 5,
   "id": "8adc4ef4",
   "metadata": {},
   "outputs": [
    {
     "name": "stdout",
     "output_type": "stream",
     "text": [
      "0\n",
      "1\n",
      "2\n",
      "3\n",
      "4\n"
     ]
    }
   ],
   "source": [
    "i = 0\n",
    "while i < 5:\n",
    "    print(i)\n",
    "    i+=1"
   ]
  },
  {
   "cell_type": "code",
   "execution_count": 6,
   "id": "d6f287fc",
   "metadata": {},
   "outputs": [
    {
     "name": "stdout",
     "output_type": "stream",
     "text": [
      "We are testing while loop\n",
      "We are testing while loop\n",
      "We are testing while loop\n",
      "We are testing while loop\n"
     ]
    }
   ],
   "source": [
    "i = 0\n",
    "while i<4:\n",
    "    print('We are testing while loop')\n",
    "    i+=1"
   ]
  },
  {
   "cell_type": "markdown",
   "id": "8b5b4777",
   "metadata": {},
   "source": [
    "__[Loop control statements]__\n",
    "\n",
    "__1) break:__\n",
    "- With the break statement we can stop the loop even if the while condition is true."
   ]
  },
  {
   "cell_type": "code",
   "execution_count": 7,
   "id": "bbe87e1d",
   "metadata": {},
   "outputs": [
    {
     "name": "stdout",
     "output_type": "stream",
     "text": [
      "5\n",
      "6\n",
      "7\n",
      "8\n",
      "Number found\n"
     ]
    }
   ],
   "source": [
    "i = 5\n",
    "while i <= 10:\n",
    "    print(i)\n",
    "    if i == 8:\n",
    "        print(\"Number found\")\n",
    "        break\n",
    "    i+=1"
   ]
  },
  {
   "cell_type": "code",
   "execution_count": 8,
   "id": "6a3d9baa",
   "metadata": {},
   "outputs": [
    {
     "name": "stdout",
     "output_type": "stream",
     "text": [
      "5\n",
      "6\n",
      "7\n",
      "8\n"
     ]
    }
   ],
   "source": [
    "i = 5\n",
    "while i <= 10:\n",
    "    print(i)\n",
    "    if i == 8:\n",
    "        break\n",
    "        print(\"Number found\")\n",
    "    i+=1"
   ]
  },
  {
   "cell_type": "markdown",
   "id": "f1b87cf1",
   "metadata": {},
   "source": [
    "__2) Continue:__ \n",
    "- With the continue statement we can stop the current iteration, and continue with the next."
   ]
  },
  {
   "cell_type": "code",
   "execution_count": 9,
   "id": "d0ff5f46",
   "metadata": {},
   "outputs": [
    {
     "name": "stdout",
     "output_type": "stream",
     "text": [
      "1\n",
      "2\n",
      "4\n",
      "5\n",
      "6\n"
     ]
    }
   ],
   "source": [
    "i = 0\n",
    "while i < 6:\n",
    "    i+=1\n",
    "    if i == 3:\n",
    "        continue\n",
    "    print(i)"
   ]
  },
  {
   "cell_type": "code",
   "execution_count": 10,
   "id": "0a5d60ac",
   "metadata": {},
   "outputs": [
    {
     "name": "stdout",
     "output_type": "stream",
     "text": [
      "i == 5\n",
      "i == 6\n",
      "i == 7\n",
      "Number found\n",
      "i == 8\n",
      "i == 9\n",
      "i == 10\n"
     ]
    }
   ],
   "source": [
    "i = 5\n",
    "while i <= 10: # 5-10\n",
    "    print(f'i == {i}') # 5,6,7,8,9,10\n",
    "    i += 1 # 5+1 = 6+1 = 7+1 = 8+1 = 9+1 = 10+1 = 11\n",
    "    if i == 8 : # False\n",
    "        print(\"Number found\")\n",
    "        continue"
   ]
  },
  {
   "cell_type": "markdown",
   "id": "0473c8f6",
   "metadata": {},
   "source": [
    "__3) else in while loop:__ \n",
    "- else keyword specifies a block of code to be executed when the loop is finished or when the condition no longer is true."
   ]
  },
  {
   "cell_type": "code",
   "execution_count": 11,
   "id": "baba1353",
   "metadata": {},
   "outputs": [
    {
     "name": "stdout",
     "output_type": "stream",
     "text": [
      "0\n",
      "1\n",
      "2\n",
      "3\n",
      "4\n",
      "Loop Completed\n"
     ]
    }
   ],
   "source": [
    "i = 0\n",
    "while i < 5: # 0 to 4\n",
    "    print(i) # 0,1,2,3,4\n",
    "    i += 1\n",
    "else:\n",
    "    print(\"Loop Completed\")"
   ]
  },
  {
   "cell_type": "code",
   "execution_count": 12,
   "id": "3049b707",
   "metadata": {},
   "outputs": [
    {
     "name": "stdout",
     "output_type": "stream",
     "text": [
      "0\n",
      "1\n",
      "2\n"
     ]
    }
   ],
   "source": [
    "i=0\n",
    "while i<5:\n",
    "    print(i)\n",
    "    i+=1\n",
    "    if i==3:\n",
    "        break\n",
    "else:\n",
    "    print(\"Loop Completed\")"
   ]
  },
  {
   "cell_type": "markdown",
   "id": "708141a3",
   "metadata": {},
   "source": [
    "__[while loop (Interview questions)]__"
   ]
  },
  {
   "cell_type": "code",
   "execution_count": 16,
   "id": "3c12595e",
   "metadata": {},
   "outputs": [
    {
     "name": "stdout",
     "output_type": "stream",
     "text": [
      "Please enter a number: 10\n",
      "Multiplication of first 10 natural numbers is 362880\n"
     ]
    }
   ],
   "source": [
    "# Multiplication of first 10 natural numbers using while loop:\n",
    "\n",
    "num = int(input('Please enter a number: '))\n",
    "i = 1\n",
    "multiplication = 1\n",
    "while i < num:\n",
    "    multiplication=multiplication*i\n",
    "    i+=1\n",
    "print(f\"Multiplication of first {num} natural numbers is {multiplication}\")"
   ]
  },
  {
   "cell_type": "code",
   "execution_count": 17,
   "id": "e3242d3d",
   "metadata": {},
   "outputs": [
    {
     "name": "stdout",
     "output_type": "stream",
     "text": [
      "Please enter how many numbers you want: 10\n",
      "1\n",
      "1\n",
      "2\n",
      "3\n",
      "5\n",
      "8\n",
      "13\n",
      "21\n",
      "34\n",
      "55\n"
     ]
    }
   ],
   "source": [
    "# Fibonacci series using while loop:\n",
    "\n",
    "n = int(input('Please enter how many numbers you want: '))\n",
    "num1 = 0\n",
    "num2 = 1\n",
    "i = 0\n",
    "while i<n:\n",
    "    num3 = num1+num2\n",
    "    num1 = num2\n",
    "    num2 = num3\n",
    "    print(num1)\n",
    "    i+=1"
   ]
  },
  {
   "cell_type": "code",
   "execution_count": 18,
   "id": "bc74dfc6",
   "metadata": {},
   "outputs": [
    {
     "name": "stdout",
     "output_type": "stream",
     "text": [
      "1\n",
      "2\n",
      "3\n",
      "5\n",
      "8\n",
      "13\n",
      "21\n",
      "34\n",
      "55\n",
      "89\n"
     ]
    }
   ],
   "source": [
    "# Fibonacci series using while loop and user defined function:\n",
    "\n",
    "def Fibonnacci(num1):\n",
    "    n1 = 0\n",
    "    n2 = 1\n",
    "    i = 1\n",
    "    while i<=num1:\n",
    "        n3 = n1 + n2\n",
    "        n1,n2 = n2,n3\n",
    "        i+=1\n",
    "        print(n3)\n",
    "Fibonnacci(10)"
   ]
  },
  {
   "cell_type": "code",
   "execution_count": 19,
   "id": "70f41dad",
   "metadata": {},
   "outputs": [
    {
     "name": "stdout",
     "output_type": "stream",
     "text": [
      "Please enter any number: 10\n",
      "3628800\n"
     ]
    }
   ],
   "source": [
    "# Factorial using while loop:\n",
    "\n",
    "num = int(input('Please enter any number: '))\n",
    "fact = 1\n",
    "i = 1\n",
    "while i<=n:\n",
    "    fact = fact*i\n",
    "    i+=1\n",
    "print(fact)"
   ]
  },
  {
   "cell_type": "code",
   "execution_count": 20,
   "id": "81cefe17",
   "metadata": {},
   "outputs": [
    {
     "data": {
      "text/plain": [
       "120"
      ]
     },
     "execution_count": 20,
     "metadata": {},
     "output_type": "execute_result"
    }
   ],
   "source": [
    "# Factorial using while loop and user defined function:\n",
    "\n",
    "def Fact(num1):\n",
    "    fact = 1\n",
    "    i = 1\n",
    "    while i<=num1:\n",
    "        fact *=i\n",
    "        i+=1\n",
    "    return fact\n",
    "Fact(5)"
   ]
  },
  {
   "cell_type": "code",
   "execution_count": 21,
   "id": "568f0662",
   "metadata": {},
   "outputs": [
    {
     "name": "stdout",
     "output_type": "stream",
     "text": [
      "Given number 34 is not prime\n"
     ]
    }
   ],
   "source": [
    "# Checking whether the the given number is prime or not using while loop and user defind function:\n",
    "\n",
    "def Prime(num1):\n",
    "    prime = 0\n",
    "    i = 2\n",
    "    while i < num1:\n",
    "        if num1%i == 0:\n",
    "            prime = 1\n",
    "            break   \n",
    "        i+=1\n",
    "    if prime==0:\n",
    "        print(f'Given number {num1} is prime')\n",
    "    else:\n",
    "        print(f'Given number {num1} is not prime')\n",
    "Prime (34)"
   ]
  },
  {
   "cell_type": "code",
   "execution_count": 22,
   "id": "74aae37b",
   "metadata": {},
   "outputs": [
    {
     "name": "stdout",
     "output_type": "stream",
     "text": [
      "11,13,17,19,23,29,"
     ]
    }
   ],
   "source": [
    "# Series of prime numbers using while loop and user defined function:\n",
    "\n",
    "def Prime_series(lower,upper):\n",
    "    i = lower\n",
    "    while i<=upper:\n",
    "        prime = 0\n",
    "        for j in range(2, int(i**0.5)+1):\n",
    "            if i%j == 0:\n",
    "                prime = 1\n",
    "                break\n",
    "        if prime==0:\n",
    "            print(i,end=',')\n",
    "        i+=1\n",
    "            \n",
    "Prime_series(10,30)"
   ]
  }
 ],
 "metadata": {
  "kernelspec": {
   "display_name": "Python 3 (ipykernel)",
   "language": "python",
   "name": "python3"
  },
  "language_info": {
   "codemirror_mode": {
    "name": "ipython",
    "version": 3
   },
   "file_extension": ".py",
   "mimetype": "text/x-python",
   "name": "python",
   "nbconvert_exporter": "python",
   "pygments_lexer": "ipython3",
   "version": "3.9.12"
  }
 },
 "nbformat": 4,
 "nbformat_minor": 5
}
