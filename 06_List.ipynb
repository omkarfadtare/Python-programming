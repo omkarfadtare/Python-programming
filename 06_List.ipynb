{
 "cells": [
  {
   "cell_type": "markdown",
   "id": "18e487eb",
   "metadata": {},
   "source": [
    "## List [ ]\n",
    "List is the collection of elements (Arrays).\n",
    "\n",
    "__[Features of list]__\n",
    "- List items are comma seprated.\n",
    "- List is enclosed by square bracket [].\n",
    "- List is ordered in nature.\n",
    "- Lists are mutable data type.\n",
    "- List is heterogeneous, can contain different data types.\n",
    "- Duplicate elements are allowed in list."
   ]
  },
  {
   "cell_type": "code",
   "execution_count": 1,
   "id": "75c73a98",
   "metadata": {},
   "outputs": [
    {
     "name": "stdout",
     "output_type": "stream",
     "text": [
      "['mango', 'apple', 'banana']\n",
      "<class 'list'>\n"
     ]
    }
   ],
   "source": [
    "list1 = [\"mango\",\"apple\",\"banana\"]\n",
    "print(list1)\n",
    "print(type(list1))"
   ]
  },
  {
   "cell_type": "code",
   "execution_count": 2,
   "id": "76c8f81e",
   "metadata": {},
   "outputs": [
    {
     "name": "stdout",
     "output_type": "stream",
     "text": [
      "[10, 11, 12, 13, 14, 15]\n",
      "<class 'list'>\n"
     ]
    }
   ],
   "source": [
    "list2 = [10,11,12,13,14,15]\n",
    "print(list2)\n",
    "print(type(list2))"
   ]
  },
  {
   "cell_type": "code",
   "execution_count": 3,
   "id": "380171cf",
   "metadata": {},
   "outputs": [
    {
     "name": "stdout",
     "output_type": "stream",
     "text": [
      "[10, 11, 12, 13, 14, 14, 15, 15]\n",
      "<class 'list'>\n"
     ]
    }
   ],
   "source": [
    "list2 = [10,11,12,13,14,14,15,15] # Duplicates are allowed in list but not in set\n",
    "print(list2)\n",
    "print(type(list2))"
   ]
  },
  {
   "cell_type": "markdown",
   "id": "412c3cc7",
   "metadata": {},
   "source": [
    "__[List constructor]__"
   ]
  },
  {
   "cell_type": "code",
   "execution_count": 4,
   "id": "f5f9938f",
   "metadata": {},
   "outputs": [
    {
     "name": "stdout",
     "output_type": "stream",
     "text": [
      "<class 'list'>\n"
     ]
    }
   ],
   "source": [
    "list3 =[] # empty list\n",
    "print(type(list3))"
   ]
  },
  {
   "cell_type": "code",
   "execution_count": 5,
   "id": "997ec8be",
   "metadata": {},
   "outputs": [
    {
     "name": "stdout",
     "output_type": "stream",
     "text": [
      "<class 'list'>\n"
     ]
    }
   ],
   "source": [
    "list1 = ([])\n",
    "print(type(list1))"
   ]
  },
  {
   "cell_type": "code",
   "execution_count": 6,
   "id": "3d4ef484",
   "metadata": {},
   "outputs": [
    {
     "name": "stdout",
     "output_type": "stream",
     "text": [
      "<class 'list'>\n"
     ]
    }
   ],
   "source": [
    "list4 = list()\n",
    "print(type(list4))"
   ]
  },
  {
   "cell_type": "markdown",
   "id": "c35e979d",
   "metadata": {},
   "source": [
    "__[Ordered in nature]__ \n",
    "- Order of items in list will remain same (order of items will change in set), use of indexing is possible and therefore slicing is also possible in list. We can access elements from list using indexing."
   ]
  },
  {
   "cell_type": "code",
   "execution_count": 7,
   "id": "019c8e41",
   "metadata": {},
   "outputs": [
    {
     "name": "stdout",
     "output_type": "stream",
     "text": [
      "10\n",
      "14\n",
      "[10, 11, 12]\n"
     ]
    }
   ],
   "source": [
    "list5 = [10,11,12,13,14]\n",
    "\n",
    "# Use of indexing\n",
    "print(list5[0])\n",
    "print(list5[-1])\n",
    "\n",
    "# Use of slicing\n",
    "print(list5[0:3:1])"
   ]
  },
  {
   "cell_type": "markdown",
   "id": "6f1dacdc",
   "metadata": {},
   "source": [
    "__[Heterogeneous in nature]__ \n",
    "- This means a list can contain any datatype of variable i.e. string, float, int, another list etc."
   ]
  },
  {
   "cell_type": "code",
   "execution_count": 8,
   "id": "45e49755",
   "metadata": {},
   "outputs": [
    {
     "name": "stdout",
     "output_type": "stream",
     "text": [
      "[10, 11, 3.4, 5.6, 'string', 'python,', [21, 22, 23, 24]]\n"
     ]
    }
   ],
   "source": [
    "list6 = [10,11,3.4,5.6,\"string\",\"python,\",[21,22,23,24]]\n",
    "print(list6)"
   ]
  },
  {
   "cell_type": "code",
   "execution_count": 9,
   "id": "64299640",
   "metadata": {},
   "outputs": [
    {
     "name": "stdout",
     "output_type": "stream",
     "text": [
      "23\n"
     ]
    }
   ],
   "source": [
    "# accessing elements from list of list using indexing\n",
    "\n",
    "list6 = [10,11,3.4,5.6,\"string\",\"python,\",[21,22,23,24]]\n",
    "print(list6[6][2])"
   ]
  },
  {
   "cell_type": "code",
   "execution_count": 10,
   "id": "4627da71",
   "metadata": {},
   "outputs": [
    {
     "name": "stdout",
     "output_type": "stream",
     "text": [
      "32\n"
     ]
    }
   ],
   "source": [
    "list6 = [10,11,3.4,5.6,\"string\",\"python,\",[21,22,23,24,[31,32,33]]]\n",
    "print(list6[6][4][1])"
   ]
  },
  {
   "cell_type": "code",
   "execution_count": 11,
   "id": "d07b871b",
   "metadata": {},
   "outputs": [
    {
     "name": "stdout",
     "output_type": "stream",
     "text": [
      "<class 'list'>\n",
      "9\n",
      "<class 'tuple'>\n",
      "<class 'dict'>\n",
      "[10, 11, 3.4, 5.6, 'string', 'python', [21, 22, 23, 24, [31, 32, 33]], ('python', 1, True), {1: 'python', 2: 'data science'}]\n"
     ]
    }
   ],
   "source": [
    "# List can contain int, float, str, list, list of list, tuple, dictionary, set.\n",
    "\n",
    "list6 = [10,11,3.4,5.6,\"string\",\"python\",[21,22,23,24,[31,32,33]],('python',1,True),{1:'python',2:'data science'}]\n",
    "print(type(list6))\n",
    "print(len(list6))\n",
    "print(type(list6[7]))\n",
    "print(type(list6[8]))\n",
    "print(list6)"
   ]
  },
  {
   "cell_type": "markdown",
   "id": "cc046eef",
   "metadata": {},
   "source": [
    "__[Mutable in nature]__ \n",
    "- This means we can add, remove, or modify elements from existing list without creating a new object.\n",
    "\n",
    "__Inserting new element in list:__"
   ]
  },
  {
   "cell_type": "code",
   "execution_count": 12,
   "id": "b5f63618",
   "metadata": {},
   "outputs": [
    {
     "name": "stdout",
     "output_type": "stream",
     "text": [
      "[10, 11, 12, 13, 14, 15]\n",
      "['hello', 11, 12, 13, 14, 15]\n",
      "['hello', 11, 12, 13, 14, 'python']\n"
     ]
    }
   ],
   "source": [
    "list7 = [10,11,12,13,14,15]\n",
    "print(list7)\n",
    "\n",
    "list7[0] = \"hello\"\n",
    "print(list7)\n",
    "\n",
    "list7[-1] = \"python\"\n",
    "print(list7)"
   ]
  },
  {
   "cell_type": "code",
   "execution_count": 13,
   "id": "fee89bf0",
   "metadata": {},
   "outputs": [
    {
     "name": "stdout",
     "output_type": "stream",
     "text": [
      "['apple', 'blackcurrant', 'watermelon', 'orange', 'kiwi', 'mango']\n"
     ]
    }
   ],
   "source": [
    "thislist = [\"apple\", \"banana\", \"cherry\", \"orange\", \"kiwi\", \"mango\"]\n",
    "thislist[1:3] = [\"blackcurrant\", \"watermelon\"]\n",
    "print(thislist)"
   ]
  },
  {
   "cell_type": "markdown",
   "id": "c4ac159a",
   "metadata": {},
   "source": [
    "__Range of index / Slicing:__"
   ]
  },
  {
   "cell_type": "code",
   "execution_count": 14,
   "id": "0e1fc495",
   "metadata": {},
   "outputs": [
    {
     "name": "stdout",
     "output_type": "stream",
     "text": [
      "['apple', 'blackcurrant', 'watermelon', 'orange', 'kiwi', 'mango']\n"
     ]
    }
   ],
   "source": [
    "print(thislist[::])"
   ]
  },
  {
   "cell_type": "code",
   "execution_count": 15,
   "id": "726eb270",
   "metadata": {},
   "outputs": [
    {
     "name": "stdout",
     "output_type": "stream",
     "text": [
      "['apple', 'blackcurrant', 'watermelon', 'orange', 'kiwi', 'mango']\n"
     ]
    }
   ],
   "source": [
    "print(thislist[::1])"
   ]
  },
  {
   "cell_type": "code",
   "execution_count": 16,
   "id": "fd857efe",
   "metadata": {},
   "outputs": [
    {
     "name": "stdout",
     "output_type": "stream",
     "text": [
      "['apple', 'blackcurrant', 'watermelon', 'orange', 'kiwi', 'mango']\n"
     ]
    }
   ],
   "source": [
    "print(thislist[:len(thislist):])"
   ]
  },
  {
   "cell_type": "code",
   "execution_count": 17,
   "id": "bc297b05",
   "metadata": {},
   "outputs": [
    {
     "name": "stdout",
     "output_type": "stream",
     "text": [
      "['mango', 'kiwi', 'orange', 'watermelon', 'blackcurrant', 'apple']\n"
     ]
    }
   ],
   "source": [
    "print(thislist[::-1]) # mango included (step size)"
   ]
  },
  {
   "cell_type": "code",
   "execution_count": 18,
   "id": "bf8c3bcf",
   "metadata": {},
   "outputs": [
    {
     "name": "stdout",
     "output_type": "stream",
     "text": [
      "['apple', 'banana', 'cherry', 'orange', 'kiwi', 'melon']\n"
     ]
    }
   ],
   "source": [
    "thislist = [\"apple\", \"banana\", \"cherry\", \"orange\", \"kiwi\", \"melon\", \"mango\"] # mango excluded\n",
    "print(thislist[:-1])"
   ]
  },
  {
   "cell_type": "code",
   "execution_count": 19,
   "id": "2cd9b14c",
   "metadata": {},
   "outputs": [
    {
     "name": "stdout",
     "output_type": "stream",
     "text": [
      "['orange', 'kiwi', 'melon']\n"
     ]
    }
   ],
   "source": [
    "thislist = [\"apple\", \"banana\", \"cherry\", \"orange\", \"kiwi\", \"melon\", \"mango\"] # mango excluded\n",
    "print(thislist[-4:-1])"
   ]
  },
  {
   "cell_type": "markdown",
   "id": "3056effc",
   "metadata": {},
   "source": [
    "__Range in list:__"
   ]
  },
  {
   "cell_type": "code",
   "execution_count": 20,
   "id": "b1881076",
   "metadata": {},
   "outputs": [
    {
     "data": {
      "text/plain": [
       "[1, 2, 3, 4]"
      ]
     },
     "execution_count": 20,
     "metadata": {},
     "output_type": "execute_result"
    }
   ],
   "source": [
    "list(range(1,5)) # exclude 5"
   ]
  },
  {
   "cell_type": "code",
   "execution_count": 21,
   "id": "4d2e9bf8",
   "metadata": {},
   "outputs": [
    {
     "data": {
      "text/plain": [
       "[4, 5, 6, 7, 8, 9, 10, 11, 12, 13, 14, 15, 16, 17, 18]"
      ]
     },
     "execution_count": 21,
     "metadata": {},
     "output_type": "execute_result"
    }
   ],
   "source": [
    "list(range(4,19))"
   ]
  },
  {
   "cell_type": "code",
   "execution_count": 22,
   "id": "5e8575f6",
   "metadata": {},
   "outputs": [
    {
     "data": {
      "text/plain": [
       "[0, 2, 4, 6, 8, 10, 12, 14, 16, 18, 20]"
      ]
     },
     "execution_count": 22,
     "metadata": {},
     "output_type": "execute_result"
    }
   ],
   "source": [
    "list(range(0,21,2))"
   ]
  },
  {
   "cell_type": "code",
   "execution_count": 23,
   "id": "80f06dd9",
   "metadata": {},
   "outputs": [
    {
     "name": "stdout",
     "output_type": "stream",
     "text": [
      "0\n",
      "1\n",
      "2\n",
      "3\n",
      "4\n"
     ]
    }
   ],
   "source": [
    "for i in range(5):\n",
    "    print(i)"
   ]
  },
  {
   "cell_type": "markdown",
   "id": "ebce1158",
   "metadata": {},
   "source": [
    "__Use of membership operator:__ \n",
    "- To check whether the item exist in list or not"
   ]
  },
  {
   "cell_type": "code",
   "execution_count": 24,
   "id": "1902763b",
   "metadata": {},
   "outputs": [
    {
     "name": "stdout",
     "output_type": "stream",
     "text": [
      "Item exist in the list\n"
     ]
    }
   ],
   "source": [
    "list7 = [\"apple\", \"banana\", \"cherry\", \"orange\", \"kiwi\", \"melon\", \"mango\"]\n",
    "if 'apple' in list7:\n",
    "    print('Item exist in the list')\n",
    "else:\n",
    "    print('Item not found')"
   ]
  },
  {
   "cell_type": "code",
   "execution_count": 25,
   "id": "61be87e9",
   "metadata": {},
   "outputs": [
    {
     "name": "stdout",
     "output_type": "stream",
     "text": [
      "you were right! Item is not present\n"
     ]
    }
   ],
   "source": [
    "list7 = [\"apple\", \"banana\", \"cherry\", \"orange\", \"kiwi\", \"melon\", \"mango\"]\n",
    "if 'papaya' not in list7:\n",
    "    print('you were right! Item is not present')\n",
    "else:\n",
    "    print('you were wrong! Item found!')"
   ]
  },
  {
   "cell_type": "markdown",
   "id": "c007c34f",
   "metadata": {},
   "source": [
    "__Accessing list elements using for loop:__"
   ]
  },
  {
   "cell_type": "code",
   "execution_count": 26,
   "id": "4c4c1e08",
   "metadata": {},
   "outputs": [
    {
     "name": "stdout",
     "output_type": "stream",
     "text": [
      "Hello : Mumbai\n",
      "Hello : Pune\n",
      "Hello : Delhi\n",
      "Hello : Chennai\n",
      "Hello : Banglore\n"
     ]
    }
   ],
   "source": [
    "city_names = [\"Mumbai\", \"Pune\", \"Delhi\", \"Chennai\",\"Banglore\"]\n",
    "for i in city_names:\n",
    "    print(f\"Hello : {i}\")"
   ]
  },
  {
   "cell_type": "code",
   "execution_count": 27,
   "id": "60918e66",
   "metadata": {},
   "outputs": [
    {
     "name": "stdout",
     "output_type": "stream",
     "text": [
      "Mumbai MUMBAI\n",
      "**************\n",
      "Pune PUNE\n",
      "**************\n",
      "Delhi DELHI\n",
      "**************\n",
      "Chennai CHENNAI\n",
      "**************\n",
      "Banglore BANGLORE\n",
      "**************\n"
     ]
    }
   ],
   "source": [
    "city_names = [\"Mumbai\", \"Pune\", \"Delhi\", \"Chennai\",\"Banglore\"]\n",
    "\n",
    "for i in city_names:\n",
    "    print(i, i.upper())  # Mumbai >> MUMBAI\n",
    "    print(\"**************\")"
   ]
  },
  {
   "cell_type": "markdown",
   "id": "645bdb38",
   "metadata": {},
   "source": [
    "__Enumarate & list:__"
   ]
  },
  {
   "cell_type": "code",
   "execution_count": 28,
   "id": "87239e2a",
   "metadata": {},
   "outputs": [
    {
     "name": "stdout",
     "output_type": "stream",
     "text": [
      "0 Mumbai\n",
      "1 Pune\n",
      "2 Delhi\n",
      "3 Chennai\n",
      "4 Banglore\n"
     ]
    }
   ],
   "source": [
    "city_names = [\"Mumbai\", \"Pune\", \"Delhi\", \"Chennai\",\"Banglore\"]\n",
    "for index, item in enumerate(city_names):\n",
    "    print(index, item)"
   ]
  },
  {
   "cell_type": "markdown",
   "id": "93cbf3c5",
   "metadata": {},
   "source": [
    "__[List functions]__\n",
    "\n",
    "- append()\n",
    "- extend()\n",
    "- insert()\n",
    "- remove()\n",
    "- pop()\n",
    "- clear()\n",
    "- sort()\n",
    "- reverse()\n",
    "- index()\n",
    "- count()\n",
    "- copy()\n",
    "\n",
    "__[Built-in list functions in list]__\n",
    "\n",
    "- sum()\n",
    "- min()\n",
    "- max()\n",
    "- sorted()\n",
    "- reversed()"
   ]
  },
  {
   "cell_type": "markdown",
   "id": "632356aa",
   "metadata": {},
   "source": [
    "__1) length()__\n",
    "- It returns length of the list.\n",
    "- __`Syntax : len(list_name)`__"
   ]
  },
  {
   "cell_type": "code",
   "execution_count": 29,
   "id": "2290a417",
   "metadata": {},
   "outputs": [
    {
     "name": "stdout",
     "output_type": "stream",
     "text": [
      "3\n"
     ]
    }
   ],
   "source": [
    "lst1 = [\"apple\", \"banana\", \"cherry\"]\n",
    "print(len(lst1))"
   ]
  },
  {
   "cell_type": "code",
   "execution_count": 30,
   "id": "a3c3b906",
   "metadata": {},
   "outputs": [
    {
     "name": "stdout",
     "output_type": "stream",
     "text": [
      "3\n"
     ]
    }
   ],
   "source": [
    "lst1 = [\"apple\", \"banana\", [1,2,3,4]]\n",
    "print(len(lst1))"
   ]
  },
  {
   "cell_type": "code",
   "execution_count": 31,
   "id": "8de04fb8",
   "metadata": {},
   "outputs": [
    {
     "name": "stdout",
     "output_type": "stream",
     "text": [
      "4\n"
     ]
    }
   ],
   "source": [
    "lst1 = [\"apple\", \"banana\", [1,2,3,4]]\n",
    "print(len(lst1[2]))"
   ]
  },
  {
   "cell_type": "markdown",
   "id": "1201c0f3",
   "metadata": {},
   "source": [
    "__2) type()__\n",
    "- It returns data type of variable/object\n",
    "- __`Syntax : type(list_name)`__"
   ]
  },
  {
   "cell_type": "code",
   "execution_count": 32,
   "id": "0c9a6598",
   "metadata": {},
   "outputs": [
    {
     "name": "stdout",
     "output_type": "stream",
     "text": [
      "<class 'list'>\n"
     ]
    }
   ],
   "source": [
    "lst1 = [\"apple\", \"banana\", \"cherry\"]\n",
    "print(type(lst1))"
   ]
  },
  {
   "cell_type": "code",
   "execution_count": 33,
   "id": "e2498da2",
   "metadata": {},
   "outputs": [
    {
     "name": "stdout",
     "output_type": "stream",
     "text": [
      "<class 'str'>\n"
     ]
    }
   ],
   "source": [
    "lst1 = [\"apple\", \"banana\", \"cherry\"]\n",
    "print(type(lst1[0]))"
   ]
  },
  {
   "cell_type": "code",
   "execution_count": 34,
   "id": "45068b4a",
   "metadata": {},
   "outputs": [
    {
     "name": "stdout",
     "output_type": "stream",
     "text": [
      "<class 'list'>\n"
     ]
    }
   ],
   "source": [
    "lst1 = [\"apple\", \"banana\", \"cherry\", [1,2,'python']]\n",
    "print(type(lst1[3]))"
   ]
  },
  {
   "cell_type": "code",
   "execution_count": 35,
   "id": "9278f015",
   "metadata": {},
   "outputs": [
    {
     "name": "stdout",
     "output_type": "stream",
     "text": [
      "<class 'str'>\n"
     ]
    }
   ],
   "source": [
    "lst1 = [\"apple\", \"banana\", \"cherry\", [1,2,'python']]\n",
    "print(type(lst1[3][2]))"
   ]
  },
  {
   "cell_type": "markdown",
   "id": "95ea84f5",
   "metadata": {},
   "source": [
    "__3) .index()__\n",
    "- It returns index number of an item from list.\n",
    "- __`Syntax : list.index(item)`__"
   ]
  },
  {
   "cell_type": "code",
   "execution_count": 36,
   "id": "1689a619",
   "metadata": {},
   "outputs": [
    {
     "data": {
      "text/plain": [
       "2"
      ]
     },
     "execution_count": 36,
     "metadata": {},
     "output_type": "execute_result"
    }
   ],
   "source": [
    "sub_names = [\"Phy\", \"Che\", \"Maths\", \"Eng\", \"Bio\"]\n",
    "sub_names.index(\"Maths\")"
   ]
  },
  {
   "cell_type": "code",
   "execution_count": 37,
   "id": "91a4255c",
   "metadata": {},
   "outputs": [
    {
     "data": {
      "text/plain": [
       "5"
      ]
     },
     "execution_count": 37,
     "metadata": {},
     "output_type": "execute_result"
    }
   ],
   "source": [
    "numbers = [3, 9.8, 6,7, 4.5, 20,30,40]\n",
    "numbers.index(20)"
   ]
  },
  {
   "cell_type": "markdown",
   "id": "ba897cb9",
   "metadata": {},
   "source": [
    "__4) .count()__\n",
    "- It returns count of an item in a list\n",
    "- __`Syntax : list.count(item)`__"
   ]
  },
  {
   "cell_type": "code",
   "execution_count": 38,
   "id": "17ab69bc",
   "metadata": {},
   "outputs": [
    {
     "data": {
      "text/plain": [
       "5"
      ]
     },
     "execution_count": 38,
     "metadata": {},
     "output_type": "execute_result"
    }
   ],
   "source": [
    "numbers = [3, 9.8, 6,7, 4.5, 20,30,40,6,6,6,6]\n",
    "numbers.count(6)"
   ]
  },
  {
   "cell_type": "code",
   "execution_count": 39,
   "id": "70350657",
   "metadata": {},
   "outputs": [
    {
     "data": {
      "text/plain": [
       "3"
      ]
     },
     "execution_count": 39,
     "metadata": {},
     "output_type": "execute_result"
    }
   ],
   "source": [
    "sub_names = [\"Phy\", \"Che\", \"Maths\", \"Eng\", \"Bio\",\"Maths\", \"Maths\",\"maths\"]\n",
    "\n",
    "sub_names.count(\"Maths\")"
   ]
  },
  {
   "cell_type": "markdown",
   "id": "d8851668",
   "metadata": {},
   "source": [
    "__5) sum()__\n",
    "- It returns sum of numbers in list\n",
    "- __`Syntax : sum(list_name)`__"
   ]
  },
  {
   "cell_type": "code",
   "execution_count": 40,
   "id": "825a0de9",
   "metadata": {},
   "outputs": [
    {
     "data": {
      "text/plain": [
       "264"
      ]
     },
     "execution_count": 40,
     "metadata": {},
     "output_type": "execute_result"
    }
   ],
   "source": [
    "numbers = [10,30,46,78,8,12,80]\n",
    "sum(numbers)"
   ]
  },
  {
   "cell_type": "markdown",
   "id": "bf14bdc7",
   "metadata": {},
   "source": [
    "__6) min()__\n",
    "- It returns minimum number in the list\n",
    "- __`Syntax : min(list_name)`__"
   ]
  },
  {
   "cell_type": "code",
   "execution_count": 41,
   "id": "f8a69540",
   "metadata": {},
   "outputs": [
    {
     "data": {
      "text/plain": [
       "-67"
      ]
     },
     "execution_count": 41,
     "metadata": {},
     "output_type": "execute_result"
    }
   ],
   "source": [
    "numbers = [10,30,46,78,8,12,80,-1,-67,20,56,4.5,9.8,-4.5,-8.9]\n",
    "min(numbers)"
   ]
  },
  {
   "cell_type": "markdown",
   "id": "c6e1e26e",
   "metadata": {},
   "source": [
    "__7) max()__\n",
    "- It returns maximum number in the list\n",
    "- __`Syntax : max(list_name)`__"
   ]
  },
  {
   "cell_type": "code",
   "execution_count": 42,
   "id": "7ff031b9",
   "metadata": {},
   "outputs": [
    {
     "data": {
      "text/plain": [
       "80"
      ]
     },
     "execution_count": 42,
     "metadata": {},
     "output_type": "execute_result"
    }
   ],
   "source": [
    "numbers = [10,30,46,78,8,12,80,-1,-67,20,56,4.5,9.8,-4.5,-8.9]\n",
    "max(numbers)"
   ]
  },
  {
   "cell_type": "markdown",
   "id": "dee6ee56",
   "metadata": {},
   "source": [
    "__8) .append()__\n",
    "- It will add an item to the end of the list\n",
    "- __`Syntax : list_var.append(item)`__"
   ]
  },
  {
   "cell_type": "code",
   "execution_count": 43,
   "id": "558161e1",
   "metadata": {},
   "outputs": [
    {
     "name": "stdout",
     "output_type": "stream",
     "text": [
      "['apple', 'banana', 'cherry', 'orange']\n"
     ]
    }
   ],
   "source": [
    "thislist = [\"apple\", \"banana\", \"cherry\"]\n",
    "thislist.append(\"orange\")\n",
    "print(thislist)"
   ]
  },
  {
   "cell_type": "code",
   "execution_count": 44,
   "id": "e207fed7",
   "metadata": {},
   "outputs": [
    {
     "name": "stdout",
     "output_type": "stream",
     "text": [
      "['apple', 'banana', 'cherry', [1, 2, 3, 4]]\n"
     ]
    }
   ],
   "source": [
    "thislist = [\"apple\", \"banana\", \"cherry\"] # you can append another list also\n",
    "thislist.append([1,2,3,4])\n",
    "print(thislist)"
   ]
  },
  {
   "cell_type": "code",
   "execution_count": 45,
   "id": "4021b698",
   "metadata": {},
   "outputs": [
    {
     "name": "stdout",
     "output_type": "stream",
     "text": [
      "[100, 200, 300]\n"
     ]
    }
   ],
   "source": [
    "numbers = []\n",
    "\n",
    "numbers.append(100)\n",
    "numbers.append(200)\n",
    "numbers.append(300)\n",
    "print(numbers)"
   ]
  },
  {
   "cell_type": "markdown",
   "id": "9a39ed84",
   "metadata": {},
   "source": [
    "__9) .insert()__\n",
    "- Inserts an item to alist of specified index. \n",
    "- Difference between insert and append is that, append adds element at the end of the list. whereas insert adds element at specified index.\n",
    "- __`Syntax : list1.insert(index, value)`__"
   ]
  },
  {
   "cell_type": "code",
   "execution_count": 46,
   "id": "57bee31c",
   "metadata": {},
   "outputs": [
    {
     "name": "stdout",
     "output_type": "stream",
     "text": [
      "['apple', 'orange', 'banana', 'cherry']\n"
     ]
    }
   ],
   "source": [
    "thislist = [\"apple\", \"banana\", \"cherry\"]\n",
    "thislist.insert(1, \"orange\")\n",
    "print(thislist)"
   ]
  },
  {
   "cell_type": "code",
   "execution_count": 47,
   "id": "d575a0cf",
   "metadata": {},
   "outputs": [
    {
     "name": "stdout",
     "output_type": "stream",
     "text": [
      "['apple', [1, 2, 'python'], 'banana', 'cherry']\n"
     ]
    }
   ],
   "source": [
    "thislist = [\"apple\", \"banana\", \"cherry\"]\n",
    "thislist.insert(1, [1,2,'python'])\n",
    "print(thislist)"
   ]
  },
  {
   "cell_type": "markdown",
   "id": "868a93be",
   "metadata": {},
   "source": [
    "__10) .remove()__\n",
    "- It removes first occurance of an element or an element of list at a specified index. By default it removes first occurance of the element. If the element is not found in the list it will raise a ValueError.\n",
    "- __`Syntax : list.remove(item)`__"
   ]
  },
  {
   "cell_type": "code",
   "execution_count": 48,
   "id": "72fb248c",
   "metadata": {},
   "outputs": [
    {
     "name": "stdout",
     "output_type": "stream",
     "text": [
      "['apple', 'cherry']\n"
     ]
    }
   ],
   "source": [
    "thislist = [\"apple\", \"banana\", \"cherry\"]\n",
    "thislist.remove(\"banana\")\n",
    "print(thislist)"
   ]
  },
  {
   "cell_type": "code",
   "execution_count": 49,
   "id": "3c68b1ff",
   "metadata": {},
   "outputs": [
    {
     "name": "stdout",
     "output_type": "stream",
     "text": [
      "['apple', 'cherry']\n"
     ]
    }
   ],
   "source": [
    "thislist = [\"apple\", \"banana\", \"cherry\"]\n",
    "thislist.remove(thislist[1])\n",
    "print(thislist)"
   ]
  },
  {
   "cell_type": "code",
   "execution_count": 50,
   "id": "255a87ab",
   "metadata": {},
   "outputs": [
    {
     "name": "stdout",
     "output_type": "stream",
     "text": [
      "Item deleted\n",
      "Updated list ['Phy', 'Che', 'Maths', 'Eng']\n"
     ]
    }
   ],
   "source": [
    "sub_names = [\"Phy\", \"Che\", \"Maths\", \"Eng\", \"Bio\"]\n",
    "value = \"Bio\"\n",
    "\n",
    "if value in sub_names: #True\n",
    "    sub_names.remove(value)\n",
    "    print(\"Item deleted\")\n",
    "else:\n",
    "    print(\"Item not present in the list\")\n",
    "    \n",
    "print(\"Updated list\", sub_names)"
   ]
  },
  {
   "cell_type": "markdown",
   "id": "8e158d6f",
   "metadata": {},
   "source": [
    "__11) .pop()__\n",
    "- It removes an element of list at a specified index. \n",
    "- If you do not specify index then it will removes last element from the list\n",
    "- If index is out of range it raise IndexError\n",
    "- __`Syntax : list.pop(index)`__"
   ]
  },
  {
   "cell_type": "code",
   "execution_count": 51,
   "id": "41b5bb2b",
   "metadata": {},
   "outputs": [
    {
     "name": "stdout",
     "output_type": "stream",
     "text": [
      "['apple', 'banana']\n"
     ]
    }
   ],
   "source": [
    "thislist = [\"apple\", \"banana\", \"cherry\"]\n",
    "thislist.pop(2)\n",
    "print(thislist)"
   ]
  },
  {
   "cell_type": "code",
   "execution_count": 52,
   "id": "4c9319f3",
   "metadata": {},
   "outputs": [
    {
     "name": "stdout",
     "output_type": "stream",
     "text": [
      "['apple', 'banana']\n"
     ]
    }
   ],
   "source": [
    "thislist = [\"apple\", \"banana\", \"cherry\"]\n",
    "thislist.pop()\n",
    "print(thislist)"
   ]
  },
  {
   "cell_type": "markdown",
   "id": "d370f3f6",
   "metadata": {},
   "source": [
    "__12) del function__\n",
    "- It is used to delete an element or elements from list using indexing or slicing.\n",
    "- __`Syntax : del list[index]`__"
   ]
  },
  {
   "cell_type": "code",
   "execution_count": 53,
   "id": "acfaccb7",
   "metadata": {},
   "outputs": [
    {
     "name": "stdout",
     "output_type": "stream",
     "text": [
      "['banana', 'cherry']\n"
     ]
    }
   ],
   "source": [
    "thislist = [\"apple\", \"banana\", \"cherry\"]\n",
    "del thislist[0]\n",
    "print(thislist)\n",
    "\n",
    "# del thislist # this will delet the entire list"
   ]
  },
  {
   "cell_type": "code",
   "execution_count": 54,
   "id": "ea5be03c",
   "metadata": {},
   "outputs": [
    {
     "name": "stdout",
     "output_type": "stream",
     "text": [
      "['cherry']\n"
     ]
    }
   ],
   "source": [
    "thislist = [\"apple\", \"banana\", \"cherry\"]\n",
    "del thislist[0:2]\n",
    "print(thislist)"
   ]
  },
  {
   "cell_type": "markdown",
   "id": "ca04e249",
   "metadata": {},
   "source": [
    "__13) .clear()__\n",
    "- This will empty list\n",
    "- __`Syntax : list.clear()`__"
   ]
  },
  {
   "cell_type": "code",
   "execution_count": 55,
   "id": "49b54f99",
   "metadata": {},
   "outputs": [
    {
     "name": "stdout",
     "output_type": "stream",
     "text": [
      "[]\n"
     ]
    }
   ],
   "source": [
    "thislist = [\"apple\", \"banana\", \"cherry\"]\n",
    "thislist.clear()\n",
    "print(thislist)"
   ]
  },
  {
   "cell_type": "markdown",
   "id": "cebc47d6",
   "metadata": {},
   "source": [
    "__14) .sort()__\n",
    "- It will sort items in list alphabetically or numers in ascending order by default\n",
    "- __`Syntax : list.sort() >> Ascending order`__\n",
    "- __`Syntax : list.sort(reverse = True) >> Descending order`__"
   ]
  },
  {
   "cell_type": "code",
   "execution_count": 56,
   "id": "0326743f",
   "metadata": {},
   "outputs": [
    {
     "name": "stdout",
     "output_type": "stream",
     "text": [
      "['banana', 'kiwi', 'mango', 'orange', 'pineapple']\n"
     ]
    }
   ],
   "source": [
    "thislist = [\"orange\", \"mango\", \"kiwi\", \"pineapple\", \"banana\"]\n",
    "thislist.sort()\n",
    "print(thislist)"
   ]
  },
  {
   "cell_type": "code",
   "execution_count": 57,
   "id": "a0c3f42d",
   "metadata": {},
   "outputs": [
    {
     "name": "stdout",
     "output_type": "stream",
     "text": [
      "[23, 50, 65, 82, 100]\n"
     ]
    }
   ],
   "source": [
    "thislist = [100, 50, 65, 82, 23]\n",
    "thislist.sort()\n",
    "print(thislist)"
   ]
  },
  {
   "cell_type": "code",
   "execution_count": 58,
   "id": "a6bf4c79",
   "metadata": {},
   "outputs": [
    {
     "name": "stdout",
     "output_type": "stream",
     "text": [
      "['pineapple', 'orange', 'mango', 'kiwi', 'banana']\n"
     ]
    }
   ],
   "source": [
    "# In a case if we want sorting in a reversed alphabetical order or in a descending order\n",
    "\n",
    "thislist = [\"orange\", \"mango\", \"kiwi\", \"pineapple\", \"banana\"]\n",
    "thislist.sort(reverse=True)\n",
    "print(thislist)"
   ]
  },
  {
   "cell_type": "code",
   "execution_count": 59,
   "id": "83070c3f",
   "metadata": {},
   "outputs": [
    {
     "name": "stdout",
     "output_type": "stream",
     "text": [
      "[100, 82, 65, 50, 23]\n"
     ]
    }
   ],
   "source": [
    "thislist = [100, 50, 65, 82, 23]\n",
    "thislist.sort(reverse=True)\n",
    "print(thislist)"
   ]
  },
  {
   "cell_type": "code",
   "execution_count": 60,
   "id": "bcd4e989",
   "metadata": {},
   "outputs": [
    {
     "name": "stdout",
     "output_type": "stream",
     "text": [
      "['Kiwi', 'Orange', 'banana', 'cherry']\n"
     ]
    }
   ],
   "source": [
    "# sort() function is a case sensitive, resulting in all uppercase characters being sorted before lower case letters.\n",
    "\n",
    "thislist = [\"banana\", \"Orange\", \"Kiwi\", \"cherry\"]\n",
    "thislist.sort()\n",
    "print(thislist)"
   ]
  },
  {
   "cell_type": "code",
   "execution_count": 61,
   "id": "b182c0ed",
   "metadata": {},
   "outputs": [
    {
     "name": "stdout",
     "output_type": "stream",
     "text": [
      "['cherry', 'banana', 'Orange', 'Kiwi']\n"
     ]
    }
   ],
   "source": [
    "thislist = [\"banana\", \"Orange\", \"Kiwi\", \"cherry\"]\n",
    "thislist.sort(reverse=True)\n",
    "print(thislist)"
   ]
  },
  {
   "cell_type": "code",
   "execution_count": 62,
   "id": "9ec55a58",
   "metadata": {},
   "outputs": [
    {
     "name": "stdout",
     "output_type": "stream",
     "text": [
      "['banana', 'cherry', 'Kiwi', 'Orange']\n"
     ]
    }
   ],
   "source": [
    "# If we want sort() function as insensitive to case\n",
    "\n",
    "thislist = [\"banana\", \"Orange\", \"Kiwi\", \"cherry\"]\n",
    "thislist.sort(key = str.lower)\n",
    "print(thislist)"
   ]
  },
  {
   "cell_type": "markdown",
   "id": "dd57997f",
   "metadata": {},
   "source": [
    "__15) sorted()__\n",
    "- It will return a new sorted list leaving the original list unchanged\n",
    "- __`Syntax : sorted(list_name)`__"
   ]
  },
  {
   "cell_type": "code",
   "execution_count": 63,
   "id": "51cf9484",
   "metadata": {},
   "outputs": [
    {
     "data": {
      "text/plain": [
       "[8, 10, 12, 30, 46, 78, 80]"
      ]
     },
     "execution_count": 63,
     "metadata": {},
     "output_type": "execute_result"
    }
   ],
   "source": [
    "numbers = [10,30,46,78,8,12,80]\n",
    "sorted(numbers)"
   ]
  },
  {
   "cell_type": "code",
   "execution_count": 64,
   "id": "c6a92637",
   "metadata": {},
   "outputs": [
    {
     "data": {
      "text/plain": [
       "[10, 30, 46, 78, 8, 12, 80]"
      ]
     },
     "execution_count": 64,
     "metadata": {},
     "output_type": "execute_result"
    }
   ],
   "source": [
    "numbers"
   ]
  },
  {
   "cell_type": "code",
   "execution_count": 65,
   "id": "bc125b7e",
   "metadata": {},
   "outputs": [
    {
     "name": "stdout",
     "output_type": "stream",
     "text": [
      "Original list [10, 30, 46, 78, 8, 12, 80]\n",
      "Sorted list [8, 10, 12, 30, 46, 78, 80]\n"
     ]
    }
   ],
   "source": [
    "numbers = [10,30,46,78,8,12,80]\n",
    "print(\"Original list\",numbers)\n",
    "sorted_numbers = sorted(numbers)\n",
    "print(\"Sorted list\", sorted_numbers)"
   ]
  },
  {
   "cell_type": "markdown",
   "id": "e703ae49",
   "metadata": {},
   "source": [
    "__16) .reverse()__\n",
    "- It reverse the order of elements in a list.\n",
    "- __`Syntax : list.reverse()`__"
   ]
  },
  {
   "cell_type": "code",
   "execution_count": 66,
   "id": "0c631660",
   "metadata": {},
   "outputs": [
    {
     "name": "stdout",
     "output_type": "stream",
     "text": [
      "['cherry', 'Kiwi', 'Orange', 'banana']\n"
     ]
    }
   ],
   "source": [
    "thislist = [\"banana\", \"Orange\", \"Kiwi\", \"cherry\"]\n",
    "thislist.reverse()\n",
    "print(thislist)"
   ]
  },
  {
   "cell_type": "code",
   "execution_count": 67,
   "id": "76a054d6",
   "metadata": {},
   "outputs": [
    {
     "name": "stdout",
     "output_type": "stream",
     "text": [
      "['fadtare', 'omkar']\n",
      "fadtare omkar\n"
     ]
    }
   ],
   "source": [
    "# Doubt: Yup! I made it.\n",
    "\n",
    "str1 = 'omkar fadtare'\n",
    "list1 = str1.split()\n",
    "list1.reverse()\n",
    "print(list1)\n",
    "print(\" \".join(list1))\n",
    "\n",
    "#list2 = (list(reversed(list1))) # another method using reversed function\n",
    "#print(\" \".join(list2))"
   ]
  },
  {
   "cell_type": "markdown",
   "id": "e4fcb34a",
   "metadata": {},
   "source": [
    "__17) resversed()__\n",
    "- It will return a new reversed list leaving the original list unchanged\n",
    "- __`Syntax : reversed(list)`__"
   ]
  },
  {
   "cell_type": "code",
   "execution_count": 68,
   "id": "1771cd96",
   "metadata": {},
   "outputs": [
    {
     "data": {
      "text/plain": [
       "[80, 12, 8, 78, 46, 30, 10]"
      ]
     },
     "execution_count": 68,
     "metadata": {},
     "output_type": "execute_result"
    }
   ],
   "source": [
    "numbers = [10,30,46,78,8,12,80]\n",
    "reversed_list = list(reversed(numbers))\n",
    "reversed_list"
   ]
  },
  {
   "cell_type": "code",
   "execution_count": 69,
   "id": "bfeec7e1",
   "metadata": {},
   "outputs": [
    {
     "data": {
      "text/plain": [
       "[10, 30, 46, 78, 8, 12, 80]"
      ]
     },
     "execution_count": 69,
     "metadata": {},
     "output_type": "execute_result"
    }
   ],
   "source": [
    "numbers"
   ]
  },
  {
   "cell_type": "code",
   "execution_count": 70,
   "id": "5d10e6ab",
   "metadata": {},
   "outputs": [
    {
     "name": "stdout",
     "output_type": "stream",
     "text": [
      "Fadtare Omkar\n"
     ]
    }
   ],
   "source": [
    "# personal mock doubt: Yup! I made it.\n",
    "\n",
    "str1 = 'Omkar Fadtare'\n",
    "list1 = str1.split()\n",
    "list2 = (list(reversed(list1)))\n",
    "print(\" \".join(list2))"
   ]
  },
  {
   "cell_type": "markdown",
   "id": "eb270dcc",
   "metadata": {},
   "source": [
    "__18) .extend()__\n",
    "- Difference between append() and extend(): The append() method is used to add a single element to the end of a list. whereas, extend() method is used to add elements from an iterable (another list, tuple, or any other iterable) to the end of the original list.\n",
    "- __`Syntax : list1_name.extend(list2_name/item)`__"
   ]
  },
  {
   "cell_type": "code",
   "execution_count": 71,
   "id": "e2b51ac0",
   "metadata": {},
   "outputs": [
    {
     "name": "stdout",
     "output_type": "stream",
     "text": [
      "[1, 2, 3, 4, 5, 6, 7, 8, 9]\n"
     ]
    }
   ],
   "source": [
    "l1 = [1,2,3,4,5]\n",
    "l2 = [6,7,8,9]\n",
    "\n",
    "l1.extend(l2)\n",
    "print(l1)"
   ]
  },
  {
   "cell_type": "code",
   "execution_count": 72,
   "id": "19a6c8a6",
   "metadata": {},
   "outputs": [
    {
     "name": "stdout",
     "output_type": "stream",
     "text": [
      "[1, 2, 3, 4, 5, 'e', 't', 'h', 'a', 'n', 's']\n"
     ]
    }
   ],
   "source": [
    "# .append() will add 'ethans' as a single element whereas extend will add characters of 'ethans' separately\n",
    "\n",
    "l1 = [1,2,3,4,5] # here lies the difference between append and extend.\n",
    "l1.extend(\"ethans\")\n",
    "print(l1)"
   ]
  },
  {
   "cell_type": "code",
   "execution_count": 73,
   "id": "a84211c3",
   "metadata": {},
   "outputs": [
    {
     "name": "stdout",
     "output_type": "stream",
     "text": [
      "[1, 2, 3, 4, 5, 1, 2, 3, 4, 5]\n"
     ]
    }
   ],
   "source": [
    "l1 = [1,2,3,4,5]\n",
    "l1.extend([1,2,3,4,5])\n",
    "print(l1)"
   ]
  },
  {
   "cell_type": "markdown",
   "id": "bd950873",
   "metadata": {},
   "source": [
    "__[Joining two lists]__"
   ]
  },
  {
   "cell_type": "code",
   "execution_count": 74,
   "id": "98d07c86",
   "metadata": {},
   "outputs": [
    {
     "name": "stdout",
     "output_type": "stream",
     "text": [
      "['a', 'b', 'c', 1, 2, 3]\n"
     ]
    }
   ],
   "source": [
    "list1 = [\"a\", \"b\", \"c\"]\n",
    "list2 = [1, 2, 3]\n",
    "\n",
    "list3 = list1 + list2\n",
    "print(list3)"
   ]
  },
  {
   "cell_type": "code",
   "execution_count": 75,
   "id": "6c4ad41f",
   "metadata": {},
   "outputs": [
    {
     "name": "stdout",
     "output_type": "stream",
     "text": [
      "['a', 'b', 'c', 1, 2, 3]\n"
     ]
    }
   ],
   "source": [
    "# using append function\n",
    "\n",
    "list1 = [\"a\", \"b\" , \"c\"]\n",
    "list2 = [1, 2, 3]\n",
    "\n",
    "for x in list2:\n",
    "    list1.append(x)\n",
    "print(list1)"
   ]
  },
  {
   "cell_type": "code",
   "execution_count": 76,
   "id": "f8d425a7",
   "metadata": {},
   "outputs": [
    {
     "name": "stdout",
     "output_type": "stream",
     "text": [
      "['a', 'b', 'c', 1, 2, 3]\n"
     ]
    }
   ],
   "source": [
    "# using extend function\n",
    "\n",
    "list1 = [\"a\", \"b\" , \"c\"]\n",
    "list2 = [1, 2, 3]\n",
    "\n",
    "list1.extend(list2)\n",
    "print(list1)"
   ]
  },
  {
   "cell_type": "markdown",
   "id": "25cb9ece",
   "metadata": {},
   "source": [
    "__[Copying a list]__\n",
    "- This will create a copy of an existing list"
   ]
  },
  {
   "cell_type": "code",
   "execution_count": 77,
   "id": "f7153212",
   "metadata": {},
   "outputs": [
    {
     "name": "stdout",
     "output_type": "stream",
     "text": [
      "Before changes\n",
      "list1 >>  [10, 20, 30, 40, 50]\n",
      "list2 >>  [10, 20, 30, 40, 50]\n",
      "\n",
      "After changes\n",
      "list1 >>  [10, 20, 30, 'data', 50]\n",
      "list2 >>  [10, 20, 30, 'data', 50]\n"
     ]
    }
   ],
   "source": [
    "# Without using copy() function:\n",
    "# When we try to change elements from copied list changes will be reverted to copied as well as original\n",
    "# or elements from list or nested list, changes will revert\n",
    "# in both orinal as well as in copied list\n",
    "\n",
    "list1 = [10,20,30,40,50]\n",
    "list2 = list1\n",
    "\n",
    "print('Before changes')\n",
    "print('list1 >> ',list1 )\n",
    "print('list2 >> ',list2 )\n",
    "print()\n",
    "print('After changes')\n",
    "list2[3] = 'data'\n",
    "print('list1 >> ',list1 )\n",
    "print('list2 >> ',list2 )"
   ]
  },
  {
   "cell_type": "code",
   "execution_count": 78,
   "id": "48790661",
   "metadata": {},
   "outputs": [
    {
     "name": "stdout",
     "output_type": "stream",
     "text": [
      "Before changes\n",
      "list1 >>  [10, 20, 30, 40, 50, [23, 32, 13, 43]]\n",
      "list2 >>  [10, 20, 30, 40, 50, [23, 32, 13, 43]]\n",
      "\n",
      "After changes\n",
      "list1 >>  [10, 20, 30, 'data', 50, [23, 32, 13, 43]]\n",
      "list2 >>  [10, 20, 30, 'data', 50, [23, 32, 13, 43]]\n"
     ]
    }
   ],
   "source": [
    "list1 = [10,20,30,40,50,[23,32,13,43]]\n",
    "list2 = list1\n",
    "\n",
    "print('Before changes')\n",
    "print('list1 >> ',list1 )\n",
    "print('list2 >> ',list2 )\n",
    "print()\n",
    "print('After changes')\n",
    "list2[3] = 'data'\n",
    "print('list1 >> ',list1 )\n",
    "print('list2 >> ',list2 )"
   ]
  },
  {
   "cell_type": "code",
   "execution_count": 79,
   "id": "70c906b3",
   "metadata": {},
   "outputs": [
    {
     "name": "stdout",
     "output_type": "stream",
     "text": [
      "Before changes\n",
      "list1 >>  [10, 20, 30, 40, 50, [23, 32, 13, 43]]\n",
      "list2 >>  [10, 20, 30, 40, 50, [23, 32, 13, 43]]\n",
      "\n",
      "After changes\n",
      "list1 >>  [10, 20, 30, 40, 50, 'data']\n",
      "list2 >>  [10, 20, 30, 40, 50, 'data']\n"
     ]
    }
   ],
   "source": [
    "list1 = [10,20,30,40,50,[23,32,13,43]]\n",
    "list2 = list1\n",
    "\n",
    "print('Before changes')\n",
    "print('list1 >> ',list1 )\n",
    "print('list2 >> ',list2 )\n",
    "print()\n",
    "print('After changes')\n",
    "list2[5] = 'data'\n",
    "print('list1 >> ',list1 )\n",
    "print('list2 >> ',list2 )"
   ]
  },
  {
   "cell_type": "code",
   "execution_count": 80,
   "id": "e7ad49a5",
   "metadata": {},
   "outputs": [
    {
     "name": "stdout",
     "output_type": "stream",
     "text": [
      "Before changes\n",
      "list1 >>  [10, 20, 30, 40, 50, [23, 32, 13, 43]]\n",
      "list2 >>  [10, 20, 30, 40, 50, [23, 32, 13, 43]]\n",
      "\n",
      "After changes\n",
      "list1 >>  [10, 20, 30, 40, 50, [23, 'data', 13, 43]]\n",
      "list2 >>  [10, 20, 30, 40, 50, [23, 'data', 13, 43]]\n"
     ]
    }
   ],
   "source": [
    "list1 = [10,20,30,40,50,[23,32,13,43]]\n",
    "list2 = list1\n",
    "\n",
    "print('Before changes')\n",
    "print('list1 >> ',list1 )\n",
    "print('list2 >> ',list2 )\n",
    "print()\n",
    "print('After changes')\n",
    "list2[5][1] = 'data'\n",
    "print('list1 >> ',list1 )\n",
    "print('list2 >> ',list2 )"
   ]
  },
  {
   "cell_type": "markdown",
   "id": "d1d67d4e",
   "metadata": {},
   "source": [
    "__[Shallow copy - Deep copy]__\n",
    "\n",
    "__`Shallow copy:`__ \n",
    "- A shallow copy creates a new object, but it only copies the references to the original elements of the object.\n",
    "- In simple words, Changes made to the elements using shallow copy will affect the original object. \n",
    "- Shallow copies can be created using the copy() function.\n",
    "\n",
    "__`Deep copy:`__ \n",
    "- A deep copy creates a new object and recursively copies all the elements and sub-elements of the original object.\n",
    "- Deep copy creates entirely independent copies of all elements, including nested elements, so any changes made to the deep copy will not affect the original object or any other copies.\n",
    "- Deep copies can be created using the deepcopy() from copy module."
   ]
  },
  {
   "cell_type": "code",
   "execution_count": 81,
   "id": "9a4bbb59",
   "metadata": {},
   "outputs": [
    {
     "name": "stdout",
     "output_type": "stream",
     "text": [
      "Before changes\n",
      "list1 >>  [10, 20, 30, 40, 50]\n",
      "list2 >>  [10, 20, 30, 40, 50]\n",
      "\n",
      "After changes\n",
      "list1 >>  [10, 20, 30, 40, 50]\n",
      "list2 >>  [10, 20, 30, 'data', 50]\n"
     ]
    }
   ],
   "source": [
    "# Shallow copy: Using copy() function\n",
    "# Changes will revert in orginal as well as in copied list\n",
    "# when we try to change elements from nested list only using\n",
    "# copy() function; Else changes will not revert\n",
    "\n",
    "list1 = [10,20,30,40,50]\n",
    "list2 = list1.copy()\n",
    "\n",
    "print('Before changes')\n",
    "print('list1 >> ',list1 )\n",
    "print('list2 >> ',list2 )\n",
    "print()\n",
    "print('After changes')\n",
    "list2[3] = 'data'\n",
    "print('list1 >> ',list1 )\n",
    "print('list2 >> ',list2 )"
   ]
  },
  {
   "cell_type": "code",
   "execution_count": 82,
   "id": "4b970db2",
   "metadata": {},
   "outputs": [
    {
     "name": "stdout",
     "output_type": "stream",
     "text": [
      "Before changes\n",
      "list1 >>  [10, 20, 30, 40, 50, [23, 32, 13, 43]]\n",
      "list2 >>  [10, 20, 30, 40, 50, [23, 32, 13, 43]]\n",
      "\n",
      "After changes\n",
      "list1 >>  [10, 20, 30, 40, 50, [23, 32, 13, 43]]\n",
      "list2 >>  [10, 20, 30, 'data', 50, [23, 32, 13, 43]]\n"
     ]
    }
   ],
   "source": [
    "list1 = [10,20,30,40,50,[23,32,13,43]]\n",
    "list2 = list1.copy()\n",
    "\n",
    "print('Before changes')\n",
    "print('list1 >> ',list1 )\n",
    "print('list2 >> ',list2 )\n",
    "print()\n",
    "print('After changes')\n",
    "list2[3] = 'data'\n",
    "print('list1 >> ',list1 )\n",
    "print('list2 >> ',list2 )"
   ]
  },
  {
   "cell_type": "code",
   "execution_count": 83,
   "id": "d4c0754e",
   "metadata": {},
   "outputs": [
    {
     "name": "stdout",
     "output_type": "stream",
     "text": [
      "Before changes\n",
      "list1 >>  [10, 20, 30, 40, 50, [23, 32, 13, 43]]\n",
      "list2 >>  [10, 20, 30, 40, 50, [23, 32, 13, 43]]\n",
      "\n",
      "After changes\n",
      "list1 >>  [10, 20, 30, 40, 50, [23, 32, 13, 43]]\n",
      "list2 >>  [10, 20, 30, 40, 50, 'data']\n"
     ]
    }
   ],
   "source": [
    "list1 = [10,20,30,40,50,[23,32,13,43]]\n",
    "list2 = list1.copy()\n",
    "\n",
    "print('Before changes')\n",
    "print('list1 >> ',list1 )\n",
    "print('list2 >> ',list2 )\n",
    "print()\n",
    "print('After changes')\n",
    "list2[5] = 'data'\n",
    "print('list1 >> ',list1 )\n",
    "print('list2 >> ',list2 )"
   ]
  },
  {
   "cell_type": "code",
   "execution_count": 84,
   "id": "4942e28a",
   "metadata": {},
   "outputs": [
    {
     "name": "stdout",
     "output_type": "stream",
     "text": [
      "Before changes\n",
      "list1 >>  [10, 20, 30, 40, 50, [23, 32, 13, 43]]\n",
      "list2 >>  [10, 20, 30, 40, 50, [23, 32, 13, 43]]\n",
      "\n",
      "After changes\n",
      "list1 >>  [10, 20, 30, 40, 50, [23, 'data', 13, 43]]\n",
      "list2 >>  [10, 20, 30, 40, 50, [23, 'data', 13, 43]]\n"
     ]
    }
   ],
   "source": [
    "# Changes into nested list \n",
    "\n",
    "list1 = [10,20,30,40,50,[23,32,13,43]]\n",
    "list2 = list1.copy()\n",
    "\n",
    "print('Before changes')\n",
    "print('list1 >> ',list1 )\n",
    "print('list2 >> ',list2 )\n",
    "print()\n",
    "print('After changes')\n",
    "list2[5][1] = 'data'\n",
    "print('list1 >> ',list1 )\n",
    "print('list2 >> ',list2 )"
   ]
  },
  {
   "cell_type": "code",
   "execution_count": 85,
   "id": "3d2dd416",
   "metadata": {},
   "outputs": [],
   "source": [
    "# Deep copy: Using deepcopy() function from copy module\n",
    "import copy"
   ]
  },
  {
   "cell_type": "code",
   "execution_count": 86,
   "id": "4e91c2e6",
   "metadata": {},
   "outputs": [
    {
     "name": "stdout",
     "output_type": "stream",
     "text": [
      "Before changes\n",
      "list1 >>  [10, 20, 30, 40, 50]\n",
      "list2 >>  [10, 20, 30, 40, 50]\n",
      "\n",
      "After changes\n",
      "list1 >>  [10, 20, 30, 40, 50]\n",
      "list2 >>  [10, 20, 30, 'data', 50]\n"
     ]
    }
   ],
   "source": [
    "list1 = [10,20,30,40,50]\n",
    "list2 = copy.deepcopy(list1)\n",
    "\n",
    "print('Before changes')\n",
    "print('list1 >> ',list1 )\n",
    "print('list2 >> ',list2 )\n",
    "print()\n",
    "print('After changes')\n",
    "list2[3] = 'data'\n",
    "print('list1 >> ',list1 )\n",
    "print('list2 >> ',list2 )"
   ]
  },
  {
   "cell_type": "code",
   "execution_count": 87,
   "id": "74bdb2d9",
   "metadata": {},
   "outputs": [
    {
     "name": "stdout",
     "output_type": "stream",
     "text": [
      "Before changes\n",
      "list1 >>  [10, 20, 30, 40, 50, [23, 32, 13, 43]]\n",
      "list2 >>  [10, 20, 30, 40, 50, [23, 32, 13, 43]]\n",
      "\n",
      "After changes\n",
      "list1 >>  [10, 20, 30, 40, 50, [23, 32, 13, 43]]\n",
      "list2 >>  [10, 20, 30, 'data', 50, [23, 32, 13, 43]]\n"
     ]
    }
   ],
   "source": [
    "list1 = [10,20,30,40,50,[23,32,13,43]]\n",
    "list2 = copy.deepcopy(list1)\n",
    "\n",
    "print('Before changes')\n",
    "print('list1 >> ',list1 )\n",
    "print('list2 >> ',list2 )\n",
    "print()\n",
    "print('After changes')\n",
    "list2[3] = 'data'\n",
    "print('list1 >> ',list1 )\n",
    "print('list2 >> ',list2 )"
   ]
  },
  {
   "cell_type": "code",
   "execution_count": 88,
   "id": "c3c91f21",
   "metadata": {},
   "outputs": [
    {
     "name": "stdout",
     "output_type": "stream",
     "text": [
      "Before changes\n",
      "list1 >>  [10, 20, 30, 40, 50, [23, 32, 13, 43]]\n",
      "list2 >>  [10, 20, 30, 40, 50, [23, 32, 13, 43]]\n",
      "\n",
      "After changes\n",
      "list1 >>  [10, 20, 30, 40, 50, [23, 32, 13, 43]]\n",
      "list2 >>  [10, 20, 30, 40, 50, 'data']\n"
     ]
    }
   ],
   "source": [
    "list1 = [10,20,30,40,50,[23,32,13,43]]\n",
    "list2 = copy.deepcopy(list1)\n",
    "\n",
    "print('Before changes')\n",
    "print('list1 >> ',list1 )\n",
    "print('list2 >> ',list2 )\n",
    "print()\n",
    "print('After changes')\n",
    "list2[5] = 'data'\n",
    "print('list1 >> ',list1 )\n",
    "print('list2 >> ',list2 )"
   ]
  },
  {
   "cell_type": "code",
   "execution_count": 89,
   "id": "cba83450",
   "metadata": {},
   "outputs": [
    {
     "name": "stdout",
     "output_type": "stream",
     "text": [
      "Before changes\n",
      "list1 >>  [10, 20, 30, 40, 50, [23, 32, 13, 43]]\n",
      "list2 >>  [10, 20, 30, 40, 50, [23, 32, 13, 43]]\n",
      "\n",
      "After changes\n",
      "list1 >>  [10, 20, 30, 40, 50, [23, 32, 13, 43]]\n",
      "list2 >>  [10, 20, 30, 40, 50, [23, 'data', 13, 43]]\n"
     ]
    }
   ],
   "source": [
    "list1 = [10,20,30,40,50,[23,32,13,43]]\n",
    "list2 = copy.deepcopy(list1)\n",
    "\n",
    "print('Before changes')\n",
    "print('list1 >> ',list1 )\n",
    "print('list2 >> ',list2 )\n",
    "print()\n",
    "print('After changes')\n",
    "list2[5][1] = 'data'\n",
    "print('list1 >> ',list1 )\n",
    "print('list2 >> ',list2 )"
   ]
  },
  {
   "cell_type": "markdown",
   "id": "05370a49",
   "metadata": {},
   "source": [
    "__[List comprehension]__\n",
    "- It is a powerful way to create lists in Python.\n",
    "- It allows you to create a new list by specifying an expression and an optional condition.\n",
    "- List comprehension is often preferred over traditional for loops when you want to generate a list based on some criteria or condition. \n",
    "- `expression:` The expression to be evaluated for each item in the iterable. This is the value that will be included in the new list.\n",
    "- `item:` A variable that represents each element in the iterable (e.g., a list, tuple, or string).\n",
    "- `iterable:` The source from which the elements are taken.\n",
    "- `condition (optional):` An optional condition that filters the elements from the iterable. \n",
    "- __`Syntax: new_list = [expression for item in iterable if condition]`__"
   ]
  },
  {
   "cell_type": "code",
   "execution_count": 97,
   "id": "3b6fa440",
   "metadata": {},
   "outputs": [
    {
     "name": "stdout",
     "output_type": "stream",
     "text": [
      "[1, 4, 9, 16, 25]\n"
     ]
    }
   ],
   "source": [
    "#  Generating a list of squares of numbers from 1 to 5.\n",
    "\n",
    "squares = [x**2 for x in range(1, 6)]\n",
    "print(squares)"
   ]
  },
  {
   "cell_type": "code",
   "execution_count": 99,
   "id": "bca276d4",
   "metadata": {},
   "outputs": [
    {
     "name": "stdout",
     "output_type": "stream",
     "text": [
      "[2, 4, 6, 8, 10]\n"
     ]
    }
   ],
   "source": [
    "# Filtering even numbers from a given list\n",
    "\n",
    "numbers = [1, 2, 3, 4, 5, 6, 7, 8, 9, 10]\n",
    "even_numbers = [x for x in numbers if x % 2 == 0]\n",
    "print(even_numbers)"
   ]
  },
  {
   "cell_type": "code",
   "execution_count": 102,
   "id": "d6a1c3bc",
   "metadata": {},
   "outputs": [
    {
     "name": "stdout",
     "output_type": "stream",
     "text": [
      "[(1, 'A'), (1, 'B'), (1, 'C'), (2, 'A'), (2, 'B'), (2, 'C'), (3, 'A'), (3, 'B'), (3, 'C')]\n"
     ]
    }
   ],
   "source": [
    "# Combining elements from two lists. (Cartesian product)\n",
    "\n",
    "list1 = [1, 2, 3]\n",
    "list2 = ['A', 'B', 'C']\n",
    "combined_list = [(x, y) for x in list1 for y in list2]\n",
    "print(combined_list)"
   ]
  },
  {
   "cell_type": "code",
   "execution_count": 101,
   "id": "f824a23a",
   "metadata": {},
   "outputs": [
    {
     "name": "stdout",
     "output_type": "stream",
     "text": [
      "There can be 16 possibilities.\n"
     ]
    },
    {
     "data": {
      "text/plain": [
       "[(1, 5),\n",
       " (1, 6),\n",
       " (1, 7),\n",
       " (1, 8),\n",
       " (2, 5),\n",
       " (2, 6),\n",
       " (2, 7),\n",
       " (2, 8),\n",
       " (3, 5),\n",
       " (3, 6),\n",
       " (3, 7),\n",
       " (3, 8),\n",
       " (4, 5),\n",
       " (4, 6),\n",
       " (4, 7),\n",
       " (4, 8)]"
      ]
     },
     "execution_count": 101,
     "metadata": {},
     "output_type": "execute_result"
    }
   ],
   "source": [
    "# Cartesian product: Number of possibilities\n",
    "\n",
    "list1 = [1,2,3,4]\n",
    "list2 = [5,6,7,8]\n",
    "list3 = [(a,b) for a in list1 for b in list2]\n",
    "print(f'There can be {len(list3)} possibilities.')\n",
    "list3"
   ]
  },
  {
   "cell_type": "code",
   "execution_count": 90,
   "id": "b0c428cc",
   "metadata": {},
   "outputs": [
    {
     "name": "stdout",
     "output_type": "stream",
     "text": [
      "even_list [2, 4, 6, 8, 10]\n",
      "odd_list [1, 3, 5, 7, 9]\n"
     ]
    }
   ],
   "source": [
    "# Basic way- Even Odd\n",
    "\n",
    "even_list = []\n",
    "odd_list = []\n",
    "for i in range(1,11):\n",
    "    if (i%2 == 0):\n",
    "        even_list.append(i)\n",
    "    else:\n",
    "        odd_list.append(i)\n",
    "        \n",
    "print('even_list',even_list)\n",
    "print('odd_list',odd_list)"
   ]
  },
  {
   "cell_type": "code",
   "execution_count": 91,
   "id": "1a98fe3c",
   "metadata": {},
   "outputs": [
    {
     "name": "stdout",
     "output_type": "stream",
     "text": [
      "[2, 4, 6, 8, 10]\n",
      "[1, 3, 5, 7, 9]\n"
     ]
    }
   ],
   "source": [
    "# Advanced way- Even Odd; using list comprehension\n",
    "\n",
    "even = []\n",
    "odd = []\n",
    "list1 = [(i,even.append(i) if i%2 == 0 else odd.append(i))for i in range(1,11)]\n",
    "print(even)\n",
    "print(odd)"
   ]
  },
  {
   "cell_type": "code",
   "execution_count": 92,
   "id": "1424556a",
   "metadata": {},
   "outputs": [
    {
     "name": "stdout",
     "output_type": "stream",
     "text": [
      "[2, 4, 6, 8]\n",
      "[3, 5, 7, 9]\n"
     ]
    }
   ],
   "source": [
    "# Even numbers from a given list\n",
    "\n",
    "list1 = [2,3,4,5,6,7,8,9]\n",
    "\n",
    "even_numbers = [num for num in list1 if num % 2 == 0]\n",
    "odd_numbers = [num for num in list1 if num % 2 != 0]\n",
    "print(even_numbers)\n",
    "print(odd_numbers)"
   ]
  },
  {
   "cell_type": "code",
   "execution_count": 93,
   "id": "da2d2ff4",
   "metadata": {},
   "outputs": [
    {
     "data": {
      "text/plain": [
       "[16, 36, 64, 100]"
      ]
     },
     "execution_count": 93,
     "metadata": {},
     "output_type": "execute_result"
    }
   ],
   "source": [
    "# Squares of even numbers from a list\n",
    "\n",
    "list1 = [4,1,3,6,7,8,10,11,34,36,20,55,77,99,100]\n",
    "\n",
    "even = [ num**2  for num in  list1   if num%2 == 0 and num<15] \n",
    "even"
   ]
  },
  {
   "cell_type": "code",
   "execution_count": 94,
   "id": "df4017b9",
   "metadata": {},
   "outputs": [
    {
     "name": "stdout",
     "output_type": "stream",
     "text": [
      "[4, 16, 36, 64, 100, 144, 196, 256, 324, 400]\n",
      "[1, 9, 25, 49, 81, 121, 169, 225, 289, 361]\n"
     ]
    }
   ],
   "source": [
    "# Even Odd squares\n",
    "\n",
    "even_squares = []\n",
    "odd_squares = []\n",
    "list1 = [even_squares.append(i**2) if i%2==0 else odd_squares.append(i**2) for i in range(1,21)]\n",
    "print(even_squares)\n",
    "print(odd_squares)"
   ]
  }
 ],
 "metadata": {
  "kernelspec": {
   "display_name": "Python 3 (ipykernel)",
   "language": "python",
   "name": "python3"
  },
  "language_info": {
   "codemirror_mode": {
    "name": "ipython",
    "version": 3
   },
   "file_extension": ".py",
   "mimetype": "text/x-python",
   "name": "python",
   "nbconvert_exporter": "python",
   "pygments_lexer": "ipython3",
   "version": "3.9.12"
  }
 },
 "nbformat": 4,
 "nbformat_minor": 5
}
