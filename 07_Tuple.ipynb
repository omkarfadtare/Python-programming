{
 "cells": [
  {
   "cell_type": "markdown",
   "id": "255209f1",
   "metadata": {},
   "source": [
    "## Tuple ( )\n",
    "Tuple is a group of elements. It is used to store multiple items in a single variable.\n",
    "\n",
    "__[Features of Tuple]__\n",
    "- Tuple items are comma  seprated.\n",
    "- Tuple is enclosed by parenthesis ().\n",
    "- Tuple is ordered in nature.\n",
    "- Tuples are immutable data type.\n",
    "- Tuple is heterogeneous, can contain different data types.\n",
    "- Duplicate values are allowed in tuple.\n",
    "\n",
    "__Why tuples are faster than list?__\n",
    "- Tuples are faster than lists because tuples are immutable, which means they cannot be changed after they are created.\n",
    "- When tuple is created, Python knows that its elements will not change, so it can allocate memory for the entire tuple in a single block. \n",
    "- This means that accessing elements in a tuple is a straight-forward process because their positions in memory are fixed.\n",
    "- On the other hand, Lists are designed as dynamic arrays, and their memory needs to be allocated and reallocated as elements are added or removed. This makes accessing elements in lists slightly slower."
   ]
  },
  {
   "cell_type": "markdown",
   "id": "01006dd6",
   "metadata": {},
   "source": [
    "__[Tuple constructor]__"
   ]
  },
  {
   "cell_type": "code",
   "execution_count": 1,
   "id": "b9f61381",
   "metadata": {},
   "outputs": [
    {
     "name": "stdout",
     "output_type": "stream",
     "text": [
      "<class 'tuple'>\n"
     ]
    }
   ],
   "source": [
    "tup = (1,2,3,4,5)\n",
    "print(type(tup))"
   ]
  },
  {
   "cell_type": "code",
   "execution_count": 2,
   "id": "5edb9591",
   "metadata": {},
   "outputs": [
    {
     "name": "stdout",
     "output_type": "stream",
     "text": [
      "<class 'tuple'>\n",
      "('hello', 'hi', 'namste')\n"
     ]
    }
   ],
   "source": [
    "tup1 =(\"hello\",\"hi\",\"namste\")\n",
    "print(type(tup1))\n",
    "print(tup1)"
   ]
  },
  {
   "cell_type": "code",
   "execution_count": 3,
   "id": "acd14f64",
   "metadata": {},
   "outputs": [
    {
     "name": "stdout",
     "output_type": "stream",
     "text": [
      "('apple', 'banana', 'cherry', 'apple', 'cherry')\n"
     ]
    }
   ],
   "source": [
    "thistuple = (\"apple\", \"banana\", \"cherry\", \"apple\", \"cherry\") # Duplicates are allowed in tuple\n",
    "print(thistuple)"
   ]
  },
  {
   "cell_type": "code",
   "execution_count": 4,
   "id": "b1e67139",
   "metadata": {},
   "outputs": [
    {
     "name": "stdout",
     "output_type": "stream",
     "text": [
      "<class 'list'>\n",
      "\n",
      "<class 'list'>\n",
      "\n",
      "<class 'tuple'>\n",
      "\n",
      "<class 'int'>\n",
      "\n",
      "<class 'tuple'>\n",
      "\n",
      "<class 'tuple'>\n",
      "\n",
      "<class 'list'>\n",
      "\n",
      "<class 'tuple'>\n",
      "\n",
      "<class 'tuple'>\n",
      "(1, 2, 3, 4)\n"
     ]
    }
   ],
   "source": [
    "# Difference between list and tuple containing only one element\n",
    "\n",
    "# List\n",
    "list1 = []\n",
    "print(type(list1))\n",
    "print()\n",
    "\n",
    "list1 = [1]\n",
    "print(type(list1))\n",
    "print()\n",
    "\n",
    "# Tuple\n",
    "tup1 = ()\n",
    "print(type(tup1))\n",
    "print()\n",
    "\n",
    "tup1 = (1)\n",
    "print(type(tup1))\n",
    "print()\n",
    "\n",
    "tup1 = tuple('python')\n",
    "print(type(tup1))\n",
    "print()\n",
    "\n",
    "# tup1 = tuple(1) # This wont work since integer is not iterable\n",
    "# print(type(tup1))\n",
    "# print()\n",
    "\n",
    "tup1 = (1,) # Comma makes the difference\n",
    "print(type(tup1))\n",
    "print()\n",
    "\n",
    "t9 =([]) # Doubt\n",
    "print(type(t9))\n",
    "print()\n",
    "\n",
    "t9 =([],)\n",
    "print(type(t9))\n",
    "print()\n",
    "\n",
    "tup = 1,2,3,4\n",
    "print(type(tup))\n",
    "print(tup)"
   ]
  },
  {
   "cell_type": "markdown",
   "id": "9dfe667d",
   "metadata": {},
   "source": [
    "__[Ordered in nature]__ \n",
    "- Use of indexing is possible and therefore slicing is also possible."
   ]
  },
  {
   "cell_type": "code",
   "execution_count": 5,
   "id": "78c9cc45",
   "metadata": {},
   "outputs": [
    {
     "name": "stdout",
     "output_type": "stream",
     "text": [
      "1\n",
      "5\n"
     ]
    }
   ],
   "source": [
    "# Indexing and range functions works same as list data type\n",
    "\n",
    "t7 = (1,2,3,4,5,6)\n",
    "print(t7[0])\n",
    "print(t7[4])"
   ]
  },
  {
   "cell_type": "code",
   "execution_count": 6,
   "id": "8fa35cdd",
   "metadata": {},
   "outputs": [
    {
     "name": "stdout",
     "output_type": "stream",
     "text": [
      "(1, 2, 3, 4, 5, 6)\n"
     ]
    }
   ],
   "source": [
    "# Slicing\n",
    "\n",
    "t7 = (1,2,3,4,5,6)\n",
    "print(t7[0:6:1])"
   ]
  },
  {
   "cell_type": "markdown",
   "id": "4f953c8f",
   "metadata": {},
   "source": [
    "__[Heterogeneous in nature]__\n",
    "- It means a tuple can contain any datatype of variable i.e. string, float, int, list, list of list, tuple, dictionary."
   ]
  },
  {
   "cell_type": "code",
   "execution_count": 7,
   "id": "eb20ceae",
   "metadata": {},
   "outputs": [
    {
     "name": "stdout",
     "output_type": "stream",
     "text": [
      "(1, 'python', 3, True, 5, 6)\n"
     ]
    }
   ],
   "source": [
    "t7 = (1,'python',3,True,5,6)\n",
    "print(t7[0:6:1])"
   ]
  },
  {
   "cell_type": "code",
   "execution_count": 8,
   "id": "0301537d",
   "metadata": {},
   "outputs": [
    {
     "name": "stdout",
     "output_type": "stream",
     "text": [
      "<class 'tuple'>\n",
      "('abc', 34, True, 40, 'male')\n"
     ]
    }
   ],
   "source": [
    "tuple1 = (\"abc\", 34, True, 40, \"male\")\n",
    "print(type(tuple1))\n",
    "print(tuple1)"
   ]
  },
  {
   "cell_type": "code",
   "execution_count": 9,
   "id": "bf06914d",
   "metadata": {},
   "outputs": [
    {
     "name": "stdout",
     "output_type": "stream",
     "text": [
      "<class 'tuple'>\n"
     ]
    }
   ],
   "source": [
    "tup6 = (12,12.3,'Python',[1,2,34],(12,'Data'),{'Fruit':'Mango'},{1,2,3})\n",
    "print(type(tup6))"
   ]
  },
  {
   "cell_type": "code",
   "execution_count": 10,
   "id": "1df52533",
   "metadata": {},
   "outputs": [
    {
     "name": "stdout",
     "output_type": "stream",
     "text": [
      "7\n"
     ]
    }
   ],
   "source": [
    "print(len(tup6))"
   ]
  },
  {
   "cell_type": "code",
   "execution_count": 11,
   "id": "f252af51",
   "metadata": {},
   "outputs": [
    {
     "name": "stdout",
     "output_type": "stream",
     "text": [
      "<class 'tuple'>\n"
     ]
    }
   ],
   "source": [
    "print(type(tup6[4]))"
   ]
  },
  {
   "cell_type": "code",
   "execution_count": 12,
   "id": "b4caae75",
   "metadata": {},
   "outputs": [
    {
     "name": "stdout",
     "output_type": "stream",
     "text": [
      "<class 'dict'>\n"
     ]
    }
   ],
   "source": [
    "print(type(tup6[5]))"
   ]
  },
  {
   "cell_type": "code",
   "execution_count": 13,
   "id": "0ab7c1d8",
   "metadata": {},
   "outputs": [
    {
     "name": "stdout",
     "output_type": "stream",
     "text": [
      "(12, 12.3, 'Python', [1, 2, 34], (12, 'Data'), {'Fruit': 'Mango'}, {1, 2, 3})\n"
     ]
    }
   ],
   "source": [
    "print(tup6)"
   ]
  },
  {
   "cell_type": "code",
   "execution_count": 14,
   "id": "07ca8329",
   "metadata": {},
   "outputs": [
    {
     "name": "stdout",
     "output_type": "stream",
     "text": [
      "dict_items([(1, 'python'), (2, 'data science')])\n"
     ]
    }
   ],
   "source": [
    "tup6 = (10,11,3.4,5.6,\"string\",\"python\",[21,22,23,24,(31,32,33)],['python',1,True],{1:'python',2:'data science'})\n",
    "print(tup6[8].items())"
   ]
  },
  {
   "cell_type": "code",
   "execution_count": 15,
   "id": "d447b7e5",
   "metadata": {},
   "outputs": [
    {
     "name": "stdout",
     "output_type": "stream",
     "text": [
      "dict_keys([1, 2])\n"
     ]
    }
   ],
   "source": [
    "print(tup6[8].keys())"
   ]
  },
  {
   "cell_type": "code",
   "execution_count": 16,
   "id": "06587b22",
   "metadata": {},
   "outputs": [
    {
     "name": "stdout",
     "output_type": "stream",
     "text": [
      "dict_values(['python', 'data science'])\n"
     ]
    }
   ],
   "source": [
    "print(tup6[8].values())"
   ]
  },
  {
   "cell_type": "markdown",
   "id": "c02b5fc2",
   "metadata": {},
   "source": [
    "__[Immutable in nature]__ \n",
    "- Tuple data type is not mutable, we can not change exixting elements from tuple. That means the elements inside tuple can not be altered.\n",
    "\n",
    "__`**Trick`__\n",
    "- Since, Tuples are immutable, the elements inside tuple can not be altered or added or removed, once the tuple is created. But it can be done by changing the data type of tuple to a list, altering the elements, and again changing the list data type back into a tuple."
   ]
  },
  {
   "cell_type": "code",
   "execution_count": 17,
   "id": "113b2814",
   "metadata": {},
   "outputs": [
    {
     "name": "stdout",
     "output_type": "stream",
     "text": [
      "Before making changes: ('apple', 'banana', 'cherry')\n",
      "After making changes: ('apple', 'banana', 'cherry', 'orange')\n"
     ]
    }
   ],
   "source": [
    "# Adding elements to tuple\n",
    "\n",
    "tuple1 = (\"apple\", \"banana\", \"cherry\")\n",
    "print(f'Before making changes: {tuple1}')\n",
    "y = list(tuple1)\n",
    "y.append(\"orange\")\n",
    "tuple1 = tuple(y)\n",
    "print(f'After making changes: {tuple1}')"
   ]
  },
  {
   "cell_type": "code",
   "execution_count": 18,
   "id": "aa93a922",
   "metadata": {},
   "outputs": [
    {
     "name": "stdout",
     "output_type": "stream",
     "text": [
      "Before making changes: ('apple', 'banana', 'cherry')\n",
      "After making changes: ('banana', 'cherry')\n"
     ]
    }
   ],
   "source": [
    "# Removing elements from tuple\n",
    "\n",
    "tuple1 = (\"apple\", \"banana\", \"cherry\")\n",
    "print(f'Before making changes: {tuple1}')\n",
    "y = list(tuple1)\n",
    "y.remove(\"apple\")\n",
    "tuple1 = tuple(y)\n",
    "print(f'After making changes: {tuple1}')"
   ]
  },
  {
   "cell_type": "markdown",
   "id": "f2674f7f",
   "metadata": {},
   "source": [
    "__Use of membership operator:__ \n",
    "- To check whether the item exist in tuple or not"
   ]
  },
  {
   "cell_type": "code",
   "execution_count": 19,
   "id": "213247ec",
   "metadata": {},
   "outputs": [
    {
     "name": "stdout",
     "output_type": "stream",
     "text": [
      "Item exist in the tuple\n"
     ]
    }
   ],
   "source": [
    "tup7 = (\"apple\", \"banana\", \"cherry\", \"orange\", \"kiwi\", \"melon\", \"mango\")\n",
    "if 'apple' in tup7:\n",
    "    print('Item exist in the tuple')\n",
    "else:\n",
    "    print('Item not found')"
   ]
  },
  {
   "cell_type": "code",
   "execution_count": 20,
   "id": "9fc29934",
   "metadata": {},
   "outputs": [
    {
     "name": "stdout",
     "output_type": "stream",
     "text": [
      "you were right! Item is not present\n"
     ]
    }
   ],
   "source": [
    "tup8 = [\"apple\", \"banana\", \"cherry\", \"orange\", \"kiwi\", \"melon\", \"mango\"]\n",
    "if 'papaya' not in tup8:\n",
    "    print('you were right! Item is not present')\n",
    "else:\n",
    "    print('you were wrong! Item found!')"
   ]
  },
  {
   "cell_type": "markdown",
   "id": "7546066c",
   "metadata": {},
   "source": [
    "__Indexing and slicing in tuple:__"
   ]
  },
  {
   "cell_type": "code",
   "execution_count": 21,
   "id": "1408c21a",
   "metadata": {},
   "outputs": [
    {
     "name": "stdout",
     "output_type": "stream",
     "text": [
      "10\n",
      "(30, 15, 25)\n",
      "(20, 15, 35, 55)\n",
      "(55, 50, 35, 25, 15, 30, 20, 10)\n",
      "(55, 50, 35)\n"
     ]
    }
   ],
   "source": [
    "tuple1 = (10,20,30,15,25,35,50,55)\n",
    "\n",
    "print(tuple1[0])\n",
    "print(tuple1[2:5])\n",
    "print(tuple1[1:len(tuple1):2])\n",
    "print(tuple1[::-1])\n",
    "print(tuple1[len(tuple1):-4:-1])"
   ]
  },
  {
   "cell_type": "markdown",
   "id": "1bbac3a0",
   "metadata": {},
   "source": [
    "__Tuple operations:__"
   ]
  },
  {
   "cell_type": "code",
   "execution_count": 22,
   "id": "8baf0ef8",
   "metadata": {},
   "outputs": [
    {
     "data": {
      "text/plain": [
       "('Mumbai', 'PUNE', 'Delhi', 'Maharashtra', 'Gujarat')"
      ]
     },
     "execution_count": 22,
     "metadata": {},
     "output_type": "execute_result"
    }
   ],
   "source": [
    "city_names = (\"Mumbai\", 'PUNE', 'Delhi')\n",
    "state_names = ('Maharashtra','Gujarat')\n",
    "\n",
    "city_names + state_names"
   ]
  },
  {
   "cell_type": "code",
   "execution_count": 23,
   "id": "1c6851ce",
   "metadata": {},
   "outputs": [
    {
     "data": {
      "text/plain": [
       "('Mumbai', 'PUNE', 'Delhi', 'Mumbai', 'PUNE', 'Delhi')"
      ]
     },
     "execution_count": 23,
     "metadata": {},
     "output_type": "execute_result"
    }
   ],
   "source": [
    "city_names = (\"Mumbai\", 'PUNE', 'Delhi')\n",
    "state_names = ('Maharashtra','Gujarat')\n",
    "\n",
    "city_names * 2"
   ]
  },
  {
   "cell_type": "code",
   "execution_count": 24,
   "id": "0b4b53db",
   "metadata": {},
   "outputs": [
    {
     "name": "stdout",
     "output_type": "stream",
     "text": [
      "(1, 2, 4, 5)\n"
     ]
    }
   ],
   "source": [
    "my_tuple = (1, 2, 3, 4, 5)\n",
    "\n",
    "# Removing element at index 2\n",
    "\n",
    "new_tuple = my_tuple[:2] + my_tuple[3:]\n",
    "print(new_tuple)"
   ]
  },
  {
   "cell_type": "code",
   "execution_count": 25,
   "id": "119236df",
   "metadata": {},
   "outputs": [
    {
     "name": "stdout",
     "output_type": "stream",
     "text": [
      "(1, 2, 3, 5)\n"
     ]
    }
   ],
   "source": [
    "my_tuple = (1, 2, 3, 4, 5)\n",
    "\n",
    "# Remove element with value 4\n",
    "\n",
    "new_tuple = tuple(x for x in my_tuple if x != 4)\n",
    "print(new_tuple)"
   ]
  },
  {
   "cell_type": "markdown",
   "id": "4925ca2b",
   "metadata": {},
   "source": [
    "__Joining two tuples:__"
   ]
  },
  {
   "cell_type": "code",
   "execution_count": 26,
   "id": "14cfbca9",
   "metadata": {},
   "outputs": [
    {
     "name": "stdout",
     "output_type": "stream",
     "text": [
      "('omkar', 'python', 'data', 'science', 1, 2, 3, 4, 5)\n"
     ]
    }
   ],
   "source": [
    "tup1 = ('omkar','python','data','science')\n",
    "tup2 = (1,2,3,4,5)\n",
    "\n",
    "tup1 += tup2\n",
    "print(tup1)"
   ]
  },
  {
   "cell_type": "markdown",
   "id": "dacfa743",
   "metadata": {},
   "source": [
    "__Accessing items using for loop:__"
   ]
  },
  {
   "cell_type": "code",
   "execution_count": 27,
   "id": "e8511710",
   "metadata": {},
   "outputs": [
    {
     "name": "stdout",
     "output_type": "stream",
     "text": [
      "Mumbai, PUNE, Delhi, Mumbai, PUNE, Delhi, "
     ]
    }
   ],
   "source": [
    "tuple1 = ('Mumbai', 'PUNE', 'Delhi', 'Mumbai', 'PUNE', 'Delhi')\n",
    "\n",
    "for item in tuple1:\n",
    "    print(item, end =\", \")"
   ]
  },
  {
   "cell_type": "code",
   "execution_count": 28,
   "id": "0b85c29c",
   "metadata": {},
   "outputs": [
    {
     "name": "stdout",
     "output_type": "stream",
     "text": [
      "0 Mumbai\n",
      "1 PUNE\n",
      "2 Delhi\n",
      "3 Mumbai\n",
      "4 PUNE\n",
      "5 Delhi\n"
     ]
    }
   ],
   "source": [
    "# Enumerate\n",
    "\n",
    "tuple1 = ('Mumbai', 'PUNE', 'Delhi', 'Mumbai', 'PUNE', 'Delhi')\n",
    "\n",
    "for index, item in enumerate(tuple1):\n",
    "    print(index,item)"
   ]
  },
  {
   "cell_type": "markdown",
   "id": "fc76a5d0",
   "metadata": {},
   "source": [
    "__Unpacking a tuple:__\n",
    "- It is process of assigning individual values from a tuple to separate variables"
   ]
  },
  {
   "cell_type": "code",
   "execution_count": 29,
   "id": "787b9799",
   "metadata": {},
   "outputs": [
    {
     "name": "stdout",
     "output_type": "stream",
     "text": [
      "apple\n",
      "banana\n",
      "cherry\n"
     ]
    }
   ],
   "source": [
    "fruits = (\"apple\", \"banana\", \"cherry\")\n",
    "(green, yellow, red) = fruits\n",
    "\n",
    "print(green)\n",
    "print(yellow)\n",
    "print(red)"
   ]
  },
  {
   "cell_type": "markdown",
   "id": "5c23f26f",
   "metadata": {},
   "source": [
    "__Asterisk* (unpacking):__ \n",
    "- While unpacking a tuple, If the number of variables is less than the number of values, you can add * to the variable name and the values will be assigned to the variable as a list."
   ]
  },
  {
   "cell_type": "code",
   "execution_count": 30,
   "id": "7afb8f09",
   "metadata": {},
   "outputs": [
    {
     "name": "stdout",
     "output_type": "stream",
     "text": [
      "apple\n",
      "banana\n",
      "['cherry', 'strawberry', 'raspberry']\n"
     ]
    }
   ],
   "source": [
    "fruits = (\"apple\", \"banana\", \"cherry\", \"strawberry\", \"raspberry\")\n",
    "(green, yellow, *red) = fruits\n",
    "print(green)\n",
    "print(yellow)\n",
    "print(red)"
   ]
  },
  {
   "cell_type": "code",
   "execution_count": 31,
   "id": "58fc199d",
   "metadata": {},
   "outputs": [
    {
     "name": "stdout",
     "output_type": "stream",
     "text": [
      "apple\n",
      "['banana', 'cherry', 'strawberry']\n",
      "raspberry\n"
     ]
    }
   ],
   "source": [
    "fruits = (\"apple\", \"banana\", \"cherry\", \"strawberry\", \"raspberry\")\n",
    "(green, *yellow, red) = fruits\n",
    "print(green)\n",
    "print(yellow)\n",
    "print(red)"
   ]
  },
  {
   "cell_type": "markdown",
   "id": "440b4591",
   "metadata": {},
   "source": [
    "__[Tuple functions]__"
   ]
  },
  {
   "cell_type": "markdown",
   "id": "e2cf80bd",
   "metadata": {},
   "source": [
    "__1) length()__\n",
    "- It returns length of the tuple"
   ]
  },
  {
   "cell_type": "code",
   "execution_count": 32,
   "id": "d78d2ea7",
   "metadata": {},
   "outputs": [
    {
     "name": "stdout",
     "output_type": "stream",
     "text": [
      "5\n"
     ]
    }
   ],
   "source": [
    "thistuple = (\"apple\", 2.4, 6, True, \"cherry\")\n",
    "print(len(thistuple))"
   ]
  },
  {
   "cell_type": "markdown",
   "id": "89f1da6a",
   "metadata": {},
   "source": [
    "__2) type()__\n",
    "- It returns data type of tuple or the elements of tuple"
   ]
  },
  {
   "cell_type": "code",
   "execution_count": 33,
   "id": "090c8283",
   "metadata": {},
   "outputs": [
    {
     "name": "stdout",
     "output_type": "stream",
     "text": [
      "<class 'tuple'>\n"
     ]
    }
   ],
   "source": [
    "tup1 = (\"apple\", \"banana\", \"cherry\")\n",
    "print(type(tup1))"
   ]
  },
  {
   "cell_type": "markdown",
   "id": "faf1ac64",
   "metadata": {},
   "source": [
    "__3) .index()__\n",
    "- It returns index number of an item\n",
    "- __`Syntax : tuple_name.index(item)`__"
   ]
  },
  {
   "cell_type": "code",
   "execution_count": 34,
   "id": "a517df27",
   "metadata": {},
   "outputs": [
    {
     "data": {
      "text/plain": [
       "2"
      ]
     },
     "execution_count": 34,
     "metadata": {},
     "output_type": "execute_result"
    }
   ],
   "source": [
    "sub_names = (\"Phy\", \"Che\", \"Maths\", \"Eng\", \"Bio\")\n",
    "sub_names.index(\"Maths\")"
   ]
  },
  {
   "cell_type": "markdown",
   "id": "34280d68",
   "metadata": {},
   "source": [
    "__4) .count()__\n",
    "- It returns the number of times a specified value occurs in a tuple\n",
    "- __`Syntax : tuple_name.count(item)`__"
   ]
  },
  {
   "cell_type": "code",
   "execution_count": 35,
   "id": "096de708",
   "metadata": {},
   "outputs": [
    {
     "data": {
      "text/plain": [
       "5"
      ]
     },
     "execution_count": 35,
     "metadata": {},
     "output_type": "execute_result"
    }
   ],
   "source": [
    "numbers = (3, 9.8, 6,7, 4.5, 20,30,40,6,6,6,6)\n",
    "numbers.count(6)"
   ]
  },
  {
   "cell_type": "markdown",
   "id": "e760190c",
   "metadata": {},
   "source": [
    "__5) sum()__\n",
    "- It returns sum of numbers in tuple\n",
    "- __`Syntax : sum(tuple_name)`__"
   ]
  },
  {
   "cell_type": "code",
   "execution_count": 36,
   "id": "95b2e4a3",
   "metadata": {},
   "outputs": [
    {
     "data": {
      "text/plain": [
       "264"
      ]
     },
     "execution_count": 36,
     "metadata": {},
     "output_type": "execute_result"
    }
   ],
   "source": [
    "numbers = (10,30,46,78,8,12,80)\n",
    "sum(numbers)"
   ]
  },
  {
   "cell_type": "markdown",
   "id": "66d2323e",
   "metadata": {},
   "source": [
    "__6) min()__\n",
    "- It returns minimum number in the tuple\n",
    "- __`Syntax : min(tuple_name)`__"
   ]
  },
  {
   "cell_type": "code",
   "execution_count": 37,
   "id": "5999e671",
   "metadata": {},
   "outputs": [
    {
     "data": {
      "text/plain": [
       "-67"
      ]
     },
     "execution_count": 37,
     "metadata": {},
     "output_type": "execute_result"
    }
   ],
   "source": [
    "numbers = (10,30,46,78,8,12,80,-1,-67,20,56,4.5,9.8,-4.5,-8.9)\n",
    "min(numbers)"
   ]
  },
  {
   "cell_type": "markdown",
   "id": "c4ea053b",
   "metadata": {},
   "source": [
    "__7) max()__\n",
    "- It returns maximum number in the tuple\n",
    "- __`Syntax : max(tuple_name)`__"
   ]
  },
  {
   "cell_type": "code",
   "execution_count": 38,
   "id": "292bbf65",
   "metadata": {},
   "outputs": [
    {
     "data": {
      "text/plain": [
       "80"
      ]
     },
     "execution_count": 38,
     "metadata": {},
     "output_type": "execute_result"
    }
   ],
   "source": [
    "numbers = (10,30,46,78,8,12,80,-1,-67,20,56,4.5,9.8,-4.5,-8.9)\n",
    "max(numbers)"
   ]
  },
  {
   "cell_type": "code",
   "execution_count": 39,
   "id": "6d1a1fae",
   "metadata": {},
   "outputs": [],
   "source": [
    "# There is no del function in tuple\n",
    "# delete function can not be used to delete particular item from tuple, but it can be used to delete complete tuple\n",
    "\n",
    "thistuple = (\"apple\", \"banana\", \"cherry\")\n",
    "del thistuple\n",
    "# print(thistuple)"
   ]
  }
 ],
 "metadata": {
  "kernelspec": {
   "display_name": "Python 3 (ipykernel)",
   "language": "python",
   "name": "python3"
  },
  "language_info": {
   "codemirror_mode": {
    "name": "ipython",
    "version": 3
   },
   "file_extension": ".py",
   "mimetype": "text/x-python",
   "name": "python",
   "nbconvert_exporter": "python",
   "pygments_lexer": "ipython3",
   "version": "3.9.12"
  }
 },
 "nbformat": 4,
 "nbformat_minor": 5
}
