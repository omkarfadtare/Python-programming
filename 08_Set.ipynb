{
 "cells": [
  {
   "cell_type": "markdown",
   "id": "01c5aaf3",
   "metadata": {},
   "source": [
    "## Set { }\n",
    "Set is a group of elements. It is used to store multiple datatype items in a single variable.\n",
    "\n",
    "__[Features of set]__\n",
    "- Set items are comma seprated.\n",
    "- Set is enclosed by curly brackets.\n",
    "- Set is unordered in nature.\n",
    "- Set is a mutable data type, but we can not insert elements in set by indexing.\n",
    "- Set is a partially heterogeneous, that means only tuples are allowed inside set. Dictionary, list datatypes are not allowed in set, since those are hashable/mutable data types.\n",
    "- In simple words, hashable are those data types which are immutable in nature.\n",
    "- Duplicate values are not allowed in sets.\n",
    "- Once a set is created, we cannot change its elements, but you can add new elements."
   ]
  },
  {
   "cell_type": "markdown",
   "id": "bfe6ceee",
   "metadata": {},
   "source": [
    "__[Set constructor]__"
   ]
  },
  {
   "cell_type": "code",
   "execution_count": 1,
   "id": "caa23014",
   "metadata": {},
   "outputs": [
    {
     "name": "stdout",
     "output_type": "stream",
     "text": [
      "<class 'set'>\n"
     ]
    }
   ],
   "source": [
    "var = {1,2,3,4,5,6}\n",
    "print(type(var))"
   ]
  },
  {
   "cell_type": "code",
   "execution_count": 2,
   "id": "4cea81df",
   "metadata": {},
   "outputs": [
    {
     "name": "stdout",
     "output_type": "stream",
     "text": [
      "<class 'set'>\n",
      "{1, 2, 3, 4, 5, 6, 33}\n"
     ]
    }
   ],
   "source": [
    "var = {1,2,3,4,5,6,6,6,6,1,2,2,33} # Duplicates are not allowed\n",
    "print(type(var))\n",
    "print(var)"
   ]
  },
  {
   "cell_type": "code",
   "execution_count": 3,
   "id": "05866257",
   "metadata": {},
   "outputs": [
    {
     "name": "stdout",
     "output_type": "stream",
     "text": [
      "<class 'dict'>\n"
     ]
    }
   ],
   "source": [
    "# Empty curly bracket: Data type of an empty curly bracket is not set, It is a dictionary\n",
    "\n",
    "var = {}\n",
    "print(type(var))"
   ]
  },
  {
   "cell_type": "code",
   "execution_count": 4,
   "id": "64304388",
   "metadata": {},
   "outputs": [
    {
     "name": "stdout",
     "output_type": "stream",
     "text": [
      "<class 'set'>\n"
     ]
    }
   ],
   "source": [
    "# Curly bracket consist of only one element is a set data type.\n",
    "\n",
    "var = {2}\n",
    "print(type(var))"
   ]
  },
  {
   "cell_type": "code",
   "execution_count": 5,
   "id": "4c6a92b6",
   "metadata": {},
   "outputs": [
    {
     "name": "stdout",
     "output_type": "stream",
     "text": [
      "<class 'set'>\n"
     ]
    }
   ],
   "source": [
    "var = set()\n",
    "print(type(var))"
   ]
  },
  {
   "cell_type": "code",
   "execution_count": 6,
   "id": "6a246e82",
   "metadata": {},
   "outputs": [
    {
     "name": "stdout",
     "output_type": "stream",
     "text": [
      "<class 'set'>\n",
      "{1, 2, 3, 4, 5}\n"
     ]
    }
   ],
   "source": [
    "# Tricky >>\n",
    "\n",
    "set1 = set([1,2,3,4,5])\n",
    "print(type(set1))\n",
    "print(set1)"
   ]
  },
  {
   "cell_type": "markdown",
   "id": "e8a1e8c5",
   "metadata": {},
   "source": [
    "__[Not ordered in nature]__\n",
    "- Set data type is not ordered in a nature, since index number and ordering of an element is not fixed."
   ]
  },
  {
   "cell_type": "code",
   "execution_count": 7,
   "id": "8940227b",
   "metadata": {},
   "outputs": [
    {
     "data": {
      "text/plain": [
       "{1, 10, 15, 2, 20, 3, 3.14, 5, 5.67, 'a', 'b'}"
      ]
     },
     "execution_count": 7,
     "metadata": {},
     "output_type": "execute_result"
    }
   ],
   "source": [
    "set1 = {2,3,'a',5,1,'b',10,20,15,3.14,5.67}  # Unordered\n",
    "set1"
   ]
  },
  {
   "cell_type": "code",
   "execution_count": 8,
   "id": "1d4eeec1",
   "metadata": {},
   "outputs": [
    {
     "name": "stdout",
     "output_type": "stream",
     "text": [
      "{2, 3, 4.5, 4.8, 4, 7, 8.9, 7.8, 'a', 'python', 56} 11\n"
     ]
    }
   ],
   "source": [
    "set1 = {2,3,4,56,2,3,7,8.9,4.5,7.8, 'a', 'python',4.8}  # Duplicates are not allowed\n",
    "print(set1, len(set1))"
   ]
  },
  {
   "cell_type": "code",
   "execution_count": 9,
   "id": "a302aac9",
   "metadata": {},
   "outputs": [],
   "source": [
    "# Set datatype treats True, 1 as same and False, 0 as same\n",
    "\n",
    "# True >> 1\n",
    "# False >> 0"
   ]
  },
  {
   "cell_type": "code",
   "execution_count": 10,
   "id": "103ed9eb",
   "metadata": {},
   "outputs": [
    {
     "name": "stdout",
     "output_type": "stream",
     "text": [
      "9\n",
      "[2, 3, 'a', 5.1, True, False, True, False, False]\n"
     ]
    }
   ],
   "source": [
    "list1 = [2,3,\"a\",5.1,True,False,True,False,False]\n",
    "print(len(list1))\n",
    "print(list1)"
   ]
  },
  {
   "cell_type": "code",
   "execution_count": 11,
   "id": "fa879c98",
   "metadata": {},
   "outputs": [
    {
     "name": "stdout",
     "output_type": "stream",
     "text": [
      "6\n",
      "{False, True, 2, 3, 'a', 5.1}\n"
     ]
    }
   ],
   "source": [
    "set1 = {2,3,\"a\",5.1,True,False,True,False,False, 1,0,1,0,1,1,0,0}\n",
    "print(len(set1))\n",
    "print(set1)"
   ]
  },
  {
   "cell_type": "markdown",
   "id": "d6538f23",
   "metadata": {},
   "source": [
    "__[Partially Heterogeneous in nature]__ \n",
    "- Set is a partially heterogeneous, since dictionary and list datatypes are not allowed in set."
   ]
  },
  {
   "cell_type": "code",
   "execution_count": 12,
   "id": "44992f9a",
   "metadata": {},
   "outputs": [
    {
     "name": "stdout",
     "output_type": "stream",
     "text": [
      "8\n",
      "{False, 1, 2, 3.3, 5.6, 'data science', 'python', (1, 2, 3, 3.4, 5.6, 'python', 'data science', True, False)}\n"
     ]
    }
   ],
   "source": [
    "# set, dictionary and list datatypes are not allowed (since those are mutable data types)\n",
    "\n",
    "set1 = {1,2,3.3,5.6,'python','data science',True,False,(1,2,3,3.4,5.6,'python','data science',True, False)}\n",
    "print(len(set1))\n",
    "print(set1)"
   ]
  },
  {
   "cell_type": "markdown",
   "id": "d42fa5c6",
   "metadata": {},
   "source": [
    "__[Immutable in nature]__\n",
    "- We can not apply indexing and slicing in set data type"
   ]
  },
  {
   "cell_type": "code",
   "execution_count": 13,
   "id": "bb9d4ca5",
   "metadata": {},
   "outputs": [
    {
     "name": "stdout",
     "output_type": "stream",
     "text": [
      "Item is:  omkar\n",
      "Item is:  python\n"
     ]
    }
   ],
   "source": [
    "# We can not access items from a set, So how do we do that?\n",
    "\n",
    "set1 = {'omkar','python'}\n",
    "for items in set1:\n",
    "    print('Item is: ',items)"
   ]
  },
  {
   "cell_type": "code",
   "execution_count": 14,
   "id": "e7547b7a",
   "metadata": {},
   "outputs": [
    {
     "name": "stdout",
     "output_type": "stream",
     "text": [
      "1\n",
      "3\n"
     ]
    }
   ],
   "source": [
    "# Converting set to list so as to access elements from set\n",
    "\n",
    "my_set = {1, 2, 3, 4, 5}\n",
    "\n",
    "my_list = list(my_set)\n",
    "print(my_list[0])\n",
    "\n",
    "my_tuple = tuple(my_set)\n",
    "print(my_tuple[2])"
   ]
  },
  {
   "cell_type": "markdown",
   "id": "5cdb6ca2",
   "metadata": {},
   "source": [
    "__Use of membership operator:__ \n",
    "- To check whether the item present in set or not"
   ]
  },
  {
   "cell_type": "code",
   "execution_count": 15,
   "id": "ebfced68",
   "metadata": {},
   "outputs": [
    {
     "name": "stdout",
     "output_type": "stream",
     "text": [
      "Item exist in the set1\n"
     ]
    }
   ],
   "source": [
    "set1 = {\"apple\", \"banana\", \"cherry\", \"orange\", \"kiwi\", \"melon\", \"mango\"}\n",
    "if 'apple' in set1:\n",
    "    print('Item exist in the set1')\n",
    "else:\n",
    "    print('Item not found')"
   ]
  },
  {
   "cell_type": "code",
   "execution_count": 16,
   "id": "fea2d3a8",
   "metadata": {},
   "outputs": [
    {
     "name": "stdout",
     "output_type": "stream",
     "text": [
      "you were right! Item is not present\n"
     ]
    }
   ],
   "source": [
    "set1 = {\"apple\", \"banana\", \"cherry\", \"orange\", \"kiwi\", \"melon\", \"mango\"}\n",
    "if 'papaya' not in set1:\n",
    "    print('you were right! Item is not present')\n",
    "else:\n",
    "    print('you were wrong! Item found!')"
   ]
  },
  {
   "cell_type": "code",
   "execution_count": 17,
   "id": "32a668d5",
   "metadata": {},
   "outputs": [
    {
     "name": "stdout",
     "output_type": "stream",
     "text": [
      "True\n",
      "False\n"
     ]
    }
   ],
   "source": [
    "my_set = {1, 2, 3, 4, 5}\n",
    "\n",
    "print(3 in my_set)\n",
    "print(6 in my_set)"
   ]
  },
  {
   "cell_type": "markdown",
   "id": "85a2b6f4",
   "metadata": {},
   "source": [
    "__[Set functions]__\n",
    "\n",
    "- add()\n",
    "- update()\n",
    "- union()\n",
    "- remove()\n",
    "- discard()\n",
    "- pop()\n",
    "- clear()\n",
    "- intersection()\n",
    "- intersection_update()\n",
    "- difference()\n",
    "- difference_update()\n",
    "- symmetric_difference()\n",
    "- symmetric_difference_update()\n",
    "- issubset()\n",
    "- issuperset()\n",
    "- isdisjoint()\n",
    "- copy()"
   ]
  },
  {
   "cell_type": "markdown",
   "id": "a30a448f",
   "metadata": {},
   "source": [
    "__1) .add()__\n",
    "- It is used to add only one item in set\n",
    "- __`Syntax : set_name.add(item)`__"
   ]
  },
  {
   "cell_type": "code",
   "execution_count": 18,
   "id": "0590beca",
   "metadata": {},
   "outputs": [
    {
     "name": "stdout",
     "output_type": "stream",
     "text": [
      "{3, 4, 5, 6, 7, 1000}\n"
     ]
    }
   ],
   "source": [
    "set1 = {3,4,5,6,7}\n",
    "set1.add(1000)\n",
    "print(set1)"
   ]
  },
  {
   "cell_type": "code",
   "execution_count": 19,
   "id": "1275a380",
   "metadata": {},
   "outputs": [
    {
     "name": "stdout",
     "output_type": "stream",
     "text": [
      "{'history', 'eng', 'bio', 'maths', 'che', 'phy'}\n"
     ]
    }
   ],
   "source": [
    "set1 = {'phy', 'che', 'bio', 'eng', 'maths'}\n",
    "set1.add('history')\n",
    "print(set1)"
   ]
  },
  {
   "cell_type": "markdown",
   "id": "4d6507eb",
   "metadata": {},
   "source": [
    "__2) .update()__\n",
    "- It is used to add items from another set into the current set\n",
    "- __`Syntax : set_name1.update(set_name2)`__"
   ]
  },
  {
   "cell_type": "code",
   "execution_count": 20,
   "id": "cc4c2a5b",
   "metadata": {},
   "outputs": [
    {
     "name": "stdout",
     "output_type": "stream",
     "text": [
      "Subject names 1 : {'che', 'maths', 'phy'}\n",
      "Subject names 2 : {'bio', 'eng'}\n",
      "Subject names 1 : {'bio', 'maths', 'eng', 'che', 'phy'}\n",
      "Subject names 2 : {'bio', 'eng'}\n"
     ]
    }
   ],
   "source": [
    "sub_names1 = {'phy','che', 'maths'}\n",
    "sub_names2 = {'bio','eng'}\n",
    "\n",
    "\n",
    "print('Subject names 1 :', sub_names1)\n",
    "print('Subject names 2 :', sub_names2)\n",
    "\n",
    "sub_names1.update(sub_names2)\n",
    "\n",
    "print('Subject names 1 :', sub_names1)\n",
    "print('Subject names 2 :', sub_names2)"
   ]
  },
  {
   "cell_type": "code",
   "execution_count": 21,
   "id": "f8506b52",
   "metadata": {},
   "outputs": [
    {
     "name": "stdout",
     "output_type": "stream",
     "text": [
      "Set1 : {50, 20, 40, 10, 60, 30}\n",
      "Set2 : {25, 35, 5, 15}\n",
      "\n",
      "Set1 length: 6\n",
      "Set2 length: 4\n",
      "\n",
      "Set1 : {35, 5, 40, 10, 15, 50, 20, 25, 60, 30}\n",
      "Set2 : {25, 35, 5, 15}\n",
      "\n",
      "Set1 length: 10\n",
      "Set2 length: 4\n"
     ]
    }
   ],
   "source": [
    "set1 = {10,20,30,40,50,60}\n",
    "set2 = {5,15,25,35}\n",
    "\n",
    "print('Set1 :', set1)\n",
    "print('Set2 :', set2)\n",
    "\n",
    "print()\n",
    "\n",
    "print('Set1 length:', len(set1))\n",
    "print('Set2 length:',len(set2))\n",
    "\n",
    "print()\n",
    "\n",
    "set1.update(set2)\n",
    "\n",
    "print('Set1 :', set1)\n",
    "print('Set2 :', set2)\n",
    "\n",
    "print()\n",
    "\n",
    "print('Set1 length:', len(set1))\n",
    "print('Set2 length:',len(set2))"
   ]
  },
  {
   "cell_type": "code",
   "execution_count": 22,
   "id": "aa463742",
   "metadata": {},
   "outputs": [
    {
     "name": "stdout",
     "output_type": "stream",
     "text": [
      "set1 >> {1, 2, 3, 4, 5, 6, 7, 8}\n",
      "set2 >> {4, 5, 6, 7, 8}\n",
      "set3 >> None\n"
     ]
    }
   ],
   "source": [
    "# It only update existing set and does not return a new set\n",
    "\n",
    "set1 = {1,2,3,4,5}\n",
    "set2 = {4,5,6,6,7,8}\n",
    "\n",
    "set3 = set1.update(set2)\n",
    "\n",
    "print(\"set1 >>\", set1)\n",
    "print(\"set2 >>\", set2)\n",
    "print(\"set3 >>\", set3)"
   ]
  },
  {
   "cell_type": "markdown",
   "id": "da64c060",
   "metadata": {},
   "source": [
    "__3) .union()__\n",
    "- It returns a new set containing a union of set\n",
    "- __`Syntax : set_name1.union(set_name2)`__"
   ]
  },
  {
   "cell_type": "code",
   "execution_count": 23,
   "id": "a6162d02",
   "metadata": {},
   "outputs": [
    {
     "name": "stdout",
     "output_type": "stream",
     "text": [
      "set1 >>  {1, 2, 3, 4, 5}\n",
      "set2 >>  {4, 5, 6, 7, 8}\n",
      "set3 >>  {1, 2, 3, 4, 5, 6, 7, 8}\n"
     ]
    }
   ],
   "source": [
    "# Union of two sets\n",
    "\n",
    "set1 = {1,2,3,4,5}\n",
    "set2 = {4,5,6,6,7,8}\n",
    "\n",
    "set3 = set1.union(set2)\n",
    "\n",
    "print(\"set1 >> \",set1)\n",
    "print(\"set2 >> \",set2)\n",
    "print(\"set3 >> \",set3)"
   ]
  },
  {
   "cell_type": "code",
   "execution_count": 24,
   "id": "1e966d9c",
   "metadata": {},
   "outputs": [
    {
     "name": "stdout",
     "output_type": "stream",
     "text": [
      "<class 'list'>\n",
      "set1 >> {1, 2, 3, 4, 5, 6}\n",
      "list1 >> [4, 5, 6, 6, 7, 8]\n",
      "set2 >> {1, 2, 3, 4, 5, 6, 7, 8}\n"
     ]
    }
   ],
   "source": [
    "# Union of a set and list is also a set\n",
    "\n",
    "set1 = {1,2,3,4,5,6} # set\n",
    "list1 = [4,5,6,6,7,8] # list\n",
    "\n",
    "print(type(list1))\n",
    "\n",
    "set2 = set1.union(list1)\n",
    "\n",
    "print(\"set1 >>\", set1)\n",
    "print(\"list1 >>\", list1)\n",
    "print(\"set2 >>\", set2)"
   ]
  },
  {
   "cell_type": "markdown",
   "id": "ec056f2e",
   "metadata": {},
   "source": [
    "__4) .remove()__\n",
    "- It removes the specified element, It will give you an error if specified item is not present in the set\n",
    "- __`Syntax : set.remove(item)`__"
   ]
  },
  {
   "cell_type": "code",
   "execution_count": 25,
   "id": "93cfb098",
   "metadata": {},
   "outputs": [
    {
     "data": {
      "text/plain": [
       "{'bio', 'che', 'eng', 'maths'}"
      ]
     },
     "execution_count": 25,
     "metadata": {},
     "output_type": "execute_result"
    }
   ],
   "source": [
    "sub_names = {'eng','phy', 'maths', 'bio', 'che'}\n",
    "sub_names.remove('phy')\n",
    "sub_names"
   ]
  },
  {
   "cell_type": "code",
   "execution_count": 26,
   "id": "e36aab7b",
   "metadata": {},
   "outputs": [
    {
     "name": "stdout",
     "output_type": "stream",
     "text": [
      "{1, 3, 4, 5} 4\n"
     ]
    }
   ],
   "source": [
    "set1 = {1,2,3,4,5,3}\n",
    "value = 2\n",
    "\n",
    "if value in set1:\n",
    "    set1.remove(value)\n",
    "    \n",
    "print(set1, len(set1))"
   ]
  },
  {
   "cell_type": "markdown",
   "id": "38039051",
   "metadata": {},
   "source": [
    "__5) .discard()__\n",
    "- It removes the specified item from the set\n",
    "- __`Syntax : set.discard(item)`__"
   ]
  },
  {
   "cell_type": "code",
   "execution_count": 27,
   "id": "6f00f107",
   "metadata": {},
   "outputs": [
    {
     "name": "stdout",
     "output_type": "stream",
     "text": [
      "{'eng', 'bio', 'maths', 'che'} 4\n"
     ]
    }
   ],
   "source": [
    "sub_names = {'eng','phy', 'maths', 'bio', 'che'} # 5\n",
    "sub_names.discard('phy')\n",
    "print(sub_names, len(sub_names))"
   ]
  },
  {
   "cell_type": "markdown",
   "id": "8bf45605",
   "metadata": {},
   "source": [
    "__**Difference between remove() and discard()__\n",
    "- The main difference between remove() and discard() is how they handle the case when the specified element is not present in the set. remove() raises a KeyError, while discard() simply ignores the non-existent element and does not raise any error."
   ]
  },
  {
   "cell_type": "markdown",
   "id": "7d28e05e",
   "metadata": {},
   "source": [
    "__6) .pop()__\n",
    "- It removes a random item from the set\n",
    "- __`Syntax : set.pop()`__"
   ]
  },
  {
   "cell_type": "code",
   "execution_count": 28,
   "id": "e80eb26a",
   "metadata": {},
   "outputs": [
    {
     "name": "stdout",
     "output_type": "stream",
     "text": [
      "Original set {'eng', 'bio', 'maths', 'che', 'phy'}\n",
      "{'bio', 'maths', 'che', 'phy'} 4\n"
     ]
    }
   ],
   "source": [
    "sub_names = {'eng','phy', 'maths', 'bio', 'che'} # 5\n",
    "print('Original set',sub_names )\n",
    "\n",
    "sub_names.pop()\n",
    "print(sub_names, len(sub_names))"
   ]
  },
  {
   "cell_type": "code",
   "execution_count": 29,
   "id": "4ea3c182",
   "metadata": {},
   "outputs": [
    {
     "name": "stdout",
     "output_type": "stream",
     "text": [
      "{2, 3, 4, 5}\n",
      "{3, 4, 5}\n"
     ]
    }
   ],
   "source": [
    "set1 = {1,2,3,4,5,3}\n",
    "set1.pop()\n",
    "print(set1)\n",
    "set1.pop()\n",
    "print(set1)"
   ]
  },
  {
   "cell_type": "markdown",
   "id": "4f328451",
   "metadata": {},
   "source": [
    "__7).clear()__\n",
    "- It clears the set\n",
    "- __`Syntax : set.clear()`__"
   ]
  },
  {
   "cell_type": "code",
   "execution_count": 30,
   "id": "cadab346",
   "metadata": {},
   "outputs": [
    {
     "name": "stdout",
     "output_type": "stream",
     "text": [
      "Set1 set()\n"
     ]
    }
   ],
   "source": [
    "set1 = {\"python\",'data','science',1,2,3,4,5,3}\n",
    "set1.clear()\n",
    "print(\"Set1\",set1)"
   ]
  },
  {
   "cell_type": "markdown",
   "id": "9e855f35",
   "metadata": {},
   "source": [
    "__8) .intersection()__\n",
    "- It return a new set z that consist common items from both set x and y.\n",
    "- __`set.intersection(set1, set2 ... etc)`__"
   ]
  },
  {
   "cell_type": "code",
   "execution_count": 31,
   "id": "22e8ff69",
   "metadata": {},
   "outputs": [
    {
     "name": "stdout",
     "output_type": "stream",
     "text": [
      "{'apple'}\n"
     ]
    }
   ],
   "source": [
    "x = {\"apple\", \"banana\", \"cherry\"}\n",
    "y = {\"google\", \"microsoft\", \"apple\"}\n",
    "\n",
    "z = x.intersection(y)\n",
    "\n",
    "print(z)"
   ]
  },
  {
   "cell_type": "code",
   "execution_count": 32,
   "id": "d942f7e3",
   "metadata": {},
   "outputs": [
    {
     "name": "stdout",
     "output_type": "stream",
     "text": [
      "{8, 4, 6}\n"
     ]
    }
   ],
   "source": [
    "set1 = {1,2,4,6,8}\n",
    "set2 = {3,4,5,6,7,8}\n",
    "\n",
    "intersected_items = set1.intersection(set2)\n",
    "print(intersected_items)"
   ]
  },
  {
   "cell_type": "markdown",
   "id": "87c61553",
   "metadata": {},
   "source": [
    "__9) .intersection_update()__\n",
    "- It updates the existing set1 with only common items from both seta and set2, without changing set2.\n",
    "- The intersection_update() method is different from the intersection() method, because the intersection() method returns a new set, with common items. Whereas, intersection_update() method removes the uncommon items and update the original set.\n",
    "- __`Syntax : set.intersection_update(set1, set2 ... etc)`__"
   ]
  },
  {
   "cell_type": "code",
   "execution_count": 33,
   "id": "0e4c18c1",
   "metadata": {},
   "outputs": [
    {
     "data": {
      "text/plain": [
       "{'Banglore', 'Chennai', 'Delhi', 'Mumbai', 'Pune'}"
      ]
     },
     "execution_count": 33,
     "metadata": {},
     "output_type": "execute_result"
    }
   ],
   "source": [
    "# Update\n",
    "\n",
    "city_names1 = {'Pune','Mumbai',\"Delhi\"}\n",
    "city_names2 = {\"Pune\",'Banglore',\"Chennai\"}\n",
    "\n",
    "city_names1.update(city_names2)\n",
    "city_names1"
   ]
  },
  {
   "cell_type": "code",
   "execution_count": 34,
   "id": "bb1b737f",
   "metadata": {},
   "outputs": [
    {
     "data": {
      "text/plain": [
       "{'Pune'}"
      ]
     },
     "execution_count": 34,
     "metadata": {},
     "output_type": "execute_result"
    }
   ],
   "source": [
    "# Intersection\n",
    "\n",
    "city_names1 = {'Pune','Mumbai',\"Delhi\"}\n",
    "city_names2 = {\"Pune\",'Banglore',\"Chennai\"}\n",
    "\n",
    "result = city_names1.intersection(city_names2)\n",
    "result"
   ]
  },
  {
   "cell_type": "code",
   "execution_count": 35,
   "id": "379ac610",
   "metadata": {},
   "outputs": [
    {
     "name": "stdout",
     "output_type": "stream",
     "text": [
      "Original City names 1 {'Delhi', 'Mumbai', 'Pune'}\n",
      "original City names 2 {'Chennai', 'Pune', 'Banglore'}\n",
      "City names 1 {'Pune'}\n",
      "City names 2 {'Chennai', 'Pune', 'Banglore'}\n"
     ]
    }
   ],
   "source": [
    "# Intersection_update\n",
    "\n",
    "city_names1 = {'Pune','Mumbai',\"Delhi\"}\n",
    "city_names2 = {\"Pune\",'Banglore',\"Chennai\"}\n",
    "\n",
    "print('Original City names 1', city_names1)\n",
    "print('original City names 2', city_names2)\n",
    "\n",
    "city_names1.intersection_update(city_names2)\n",
    "\n",
    "print('City names 1', city_names1)\n",
    "print('City names 2', city_names2)"
   ]
  },
  {
   "cell_type": "code",
   "execution_count": 36,
   "id": "eaceee14",
   "metadata": {},
   "outputs": [
    {
     "name": "stdout",
     "output_type": "stream",
     "text": [
      "Set1: {3, 4, 5}\n"
     ]
    }
   ],
   "source": [
    "set1 = {1,2,3,4,5,6}\n",
    "set2 = {3,4,5,8,9}\n",
    "# 3, 4, 5\n",
    "set1.intersection_update(set2)\n",
    "\n",
    "print('Set1:', set1)"
   ]
  },
  {
   "cell_type": "markdown",
   "id": "24751670",
   "metadata": {},
   "source": [
    "__10) .difference()__\n",
    "- Computes the difference between two sets and returns a new set containing elements that are present in the first set but not in the second set.\n",
    "- In simple words, it will only includes elements that are unique to the first set and not present in the second set.\n",
    "- __`Syntax : set.difference(set)`__"
   ]
  },
  {
   "cell_type": "code",
   "execution_count": 37,
   "id": "d09831b9",
   "metadata": {},
   "outputs": [
    {
     "data": {
      "text/plain": [
       "{'Delhi', 'Hyderabad', 'Kolkata'}"
      ]
     },
     "execution_count": 37,
     "metadata": {},
     "output_type": "execute_result"
    }
   ],
   "source": [
    "set1 = {'Pune',\"Mumbai\",'Delhi','Kolkata','Hyderabad'}\n",
    "set2 = {\"Pune\",'Banglore','Chennai','Mumbai'}\n",
    "\n",
    "result = set1.difference(set2)\n",
    "result"
   ]
  },
  {
   "cell_type": "code",
   "execution_count": 38,
   "id": "cb93bc3e",
   "metadata": {},
   "outputs": [
    {
     "data": {
      "text/plain": [
       "{'Banglore', 'Chennai'}"
      ]
     },
     "execution_count": 38,
     "metadata": {},
     "output_type": "execute_result"
    }
   ],
   "source": [
    "set1 = {'Pune',\"Mumbai\",'Delhi','Kolkata','Hyderabad'}\n",
    "set2 = {\"Pune\",'Banglore','Chennai','Mumbai'}\n",
    "\n",
    "result = set2.difference(set1)\n",
    "result"
   ]
  },
  {
   "cell_type": "code",
   "execution_count": 39,
   "id": "d97e55ee",
   "metadata": {},
   "outputs": [
    {
     "data": {
      "text/plain": [
       "{10, 20}"
      ]
     },
     "execution_count": 39,
     "metadata": {},
     "output_type": "execute_result"
    }
   ],
   "source": [
    "# Tricky\n",
    "\n",
    "list1 = [3,4,5,6,7,8]\n",
    "list2 = [5,6,7,8,10,20] # 10,20\n",
    "\n",
    "result = set(list2).difference(list1)\n",
    "result"
   ]
  },
  {
   "cell_type": "code",
   "execution_count": 40,
   "id": "003e6a72",
   "metadata": {},
   "outputs": [
    {
     "data": {
      "text/plain": [
       "[10, 20]"
      ]
     },
     "execution_count": 40,
     "metadata": {},
     "output_type": "execute_result"
    }
   ],
   "source": [
    "# without using  difference function\n",
    "\n",
    "list1 = [3,4,5,6,7,8]\n",
    "list2 = [5,6,7,8,10,20] #10,20\n",
    "\n",
    "result = []\n",
    "for items in list2:\n",
    "    if items not in list1:\n",
    "        result.append(items)\n",
    "result"
   ]
  },
  {
   "cell_type": "code",
   "execution_count": 41,
   "id": "1754e24e",
   "metadata": {},
   "outputs": [
    {
     "data": {
      "text/plain": [
       "[3, 4]"
      ]
     },
     "execution_count": 41,
     "metadata": {},
     "output_type": "execute_result"
    }
   ],
   "source": [
    "list1 = [3,4,5,6,7,8]\n",
    "list2 = [5,6,7,8,10,20] \n",
    "\n",
    "result = set(list1).difference(list2)\n",
    "result\n",
    "list(result)"
   ]
  },
  {
   "cell_type": "markdown",
   "id": "3359e9da",
   "metadata": {},
   "source": [
    "__11) .difference_update()__\n",
    "- It modifies the original set by removing elements that are also present in one or more other sets. It does not return new set.\n",
    "- __`Syntax : set.difference_update(set1, set2 ... etc)`__"
   ]
  },
  {
   "cell_type": "code",
   "execution_count": 42,
   "id": "6d3b366f",
   "metadata": {},
   "outputs": [
    {
     "data": {
      "text/plain": [
       "{'Delhi', 'Hyderabad', 'Kolkata'}"
      ]
     },
     "execution_count": 42,
     "metadata": {},
     "output_type": "execute_result"
    }
   ],
   "source": [
    "set1 = {'Pune',\"Mumbai\",'Delhi','Kolkata','Hyderabad'} # 'Delhi', 'Kolkata', 'Hyderabad'\n",
    "set2 = {\"Pune\",'Banglore','Chennai','Mumbai'}\n",
    "\n",
    "set1.difference_update(set2)\n",
    "set1"
   ]
  },
  {
   "cell_type": "code",
   "execution_count": 43,
   "id": "b69e7a01",
   "metadata": {},
   "outputs": [
    {
     "name": "stdout",
     "output_type": "stream",
     "text": [
      "Set1 {1, 2, 3, 4, 5, 6, 7, 8}\n",
      "Set2 {1, 3, 20, 6, 10, 30}\n",
      "Set3 {33, 22, 11}\n"
     ]
    }
   ],
   "source": [
    "set1 = {1,2,3,4,5,6,7,8}\n",
    "set2 = {3,6,1,10,20,30}\n",
    "set3 = {11,2,22,1,33,3} #11,22,33\n",
    "\n",
    "set3.difference_update(set1,set2)\n",
    "print('Set1', set1)\n",
    "print('Set2', set2)\n",
    "print('Set3', set3)"
   ]
  },
  {
   "cell_type": "markdown",
   "id": "d5ea63d9",
   "metadata": {},
   "source": [
    "__12) .symmetric_difference()__\n",
    "- It returns a new set containing elements that are unique to both sets.\n",
    "- __`Syntax : set.symmetric_difference(set)`__"
   ]
  },
  {
   "cell_type": "code",
   "execution_count": 44,
   "id": "65e00030",
   "metadata": {},
   "outputs": [
    {
     "name": "stdout",
     "output_type": "stream",
     "text": [
      "Set1 {'Mumbai', 'Pune', 'Kolkata', 'Delhi', 'Hyderabad'}\n",
      "Set2 {'Chennai', 'Mumbai', 'Pune', 'Banglore'}\n",
      "Result {'Kolkata', 'Banglore', 'Chennai', 'Delhi', 'Hyderabad'}\n"
     ]
    }
   ],
   "source": [
    "set1 = {'Pune',\"Mumbai\",'Delhi','Kolkata','Hyderabad'} #'Delhi','Kolkata',Hyderabad\n",
    "set2 = {\"Pune\",'Banglore','Chennai','Mumbai'} #'Banglore', 'Chennai'\n",
    "\n",
    "result = set1.symmetric_difference(set2)\n",
    "print('Set1', set1)\n",
    "print('Set2', set2)\n",
    "print('Result', result)"
   ]
  },
  {
   "cell_type": "code",
   "execution_count": 45,
   "id": "ca742187",
   "metadata": {},
   "outputs": [
    {
     "name": "stdout",
     "output_type": "stream",
     "text": [
      "Set1 {'Mumbai', 'Pune', 'Kolkata', 'Delhi', 'Hyderabad'}\n",
      "Set2 {'Chennai', 'Mumbai', 'Pune', 'Banglore'}\n",
      "Result {'Kolkata', 'Banglore', 'Chennai', 'Delhi', 'Hyderabad'}\n"
     ]
    }
   ],
   "source": [
    "set1 = {'Pune',\"Mumbai\",'Delhi','Kolkata','Hyderabad'} #'Delhi','Kolkata',Hyderabad\n",
    "set2 = {\"Pune\",'Banglore','Chennai','Mumbai'} #'Banglore', 'Chennai'\n",
    "\n",
    "result = set2.symmetric_difference(set1)\n",
    "print('Set1', set1)\n",
    "print('Set2', set2)\n",
    "print('Result', result)"
   ]
  },
  {
   "cell_type": "markdown",
   "id": "0d2f279a",
   "metadata": {},
   "source": [
    "__13) .symmetric_difference_update()__\n",
    "- It modifies the original set by keeping only elements that are unique to either of the sets.\n",
    "- __`Syntax : set.symmetric_difference_update(set)`__"
   ]
  },
  {
   "cell_type": "code",
   "execution_count": 46,
   "id": "ea7be929",
   "metadata": {},
   "outputs": [
    {
     "data": {
      "text/plain": [
       "{'Banglore', 'Chennai', 'Delhi', 'Hyderabad', 'Kolkata'}"
      ]
     },
     "execution_count": 46,
     "metadata": {},
     "output_type": "execute_result"
    }
   ],
   "source": [
    "set1 = {'Pune',\"Mumbai\",'Delhi','Kolkata','Hyderabad'} #'Delhi','Kolkata',Hyderabad\n",
    "set2 = {\"Pune\",'Banglore','Chennai','Mumbai'} #'Banglore', 'Chennai'\n",
    "\n",
    "set1.symmetric_difference_update(set2)\n",
    "set1"
   ]
  },
  {
   "cell_type": "markdown",
   "id": "10750fb4",
   "metadata": {},
   "source": [
    "__14) .issubset()__\n",
    "- It is used to check whether one set is a subset of another set. \n",
    "- A set A is considered a subset of set B if all elements of set A are also present in set B.\n",
    "- __`Syntax : set.issubset(set)`__"
   ]
  },
  {
   "cell_type": "code",
   "execution_count": 47,
   "id": "e412d030",
   "metadata": {},
   "outputs": [
    {
     "name": "stdout",
     "output_type": "stream",
     "text": [
      "True\n"
     ]
    }
   ],
   "source": [
    "x = {\"a\", \"b\", \"c\"} # subset\n",
    "y = {\"f\", \"e\", \"d\", \"c\", \"b\", \"a\"} # Superset\n",
    "\n",
    "z = x.issubset(y)\n",
    "\n",
    "print(z)"
   ]
  },
  {
   "cell_type": "code",
   "execution_count": 48,
   "id": "84d9fea6",
   "metadata": {},
   "outputs": [
    {
     "data": {
      "text/plain": [
       "True"
      ]
     },
     "execution_count": 48,
     "metadata": {},
     "output_type": "execute_result"
    }
   ],
   "source": [
    "set1 = {3,4,5,6,7,8}\n",
    "set2 = {5,6,7}\n",
    "\n",
    "set2.issubset(set1)"
   ]
  },
  {
   "cell_type": "code",
   "execution_count": 49,
   "id": "20d9d1ce",
   "metadata": {},
   "outputs": [
    {
     "data": {
      "text/plain": [
       "False"
      ]
     },
     "execution_count": 49,
     "metadata": {},
     "output_type": "execute_result"
    }
   ],
   "source": [
    "set1 = {'Pune',\"Mumbai\",'Delhi','Kolkata','Hyderabad'}\n",
    "set2 = {'Pune','Banglore','Chennai','Mumbai'}\n",
    "\n",
    "set2.issubset(set1)"
   ]
  },
  {
   "cell_type": "markdown",
   "id": "6e8fcf12",
   "metadata": {},
   "source": [
    "__15) .issuperset()__\n",
    "- It is used to check whether one set is a superset of another set. \n",
    "- A set A is considered a superset of set B if all elements of set B are also present in set A.\n",
    "- __`Syntax : set.issuperset(set)`__"
   ]
  },
  {
   "cell_type": "code",
   "execution_count": 50,
   "id": "47ae9dff",
   "metadata": {},
   "outputs": [
    {
     "data": {
      "text/plain": [
       "True"
      ]
     },
     "execution_count": 50,
     "metadata": {},
     "output_type": "execute_result"
    }
   ],
   "source": [
    "set1 = {3,4,5,6,7,8}\n",
    "set2 = {5,6,7}\n",
    "\n",
    "set1.issuperset(set2)"
   ]
  },
  {
   "cell_type": "code",
   "execution_count": 51,
   "id": "f5a49f65",
   "metadata": {},
   "outputs": [
    {
     "data": {
      "text/plain": [
       "False"
      ]
     },
     "execution_count": 51,
     "metadata": {},
     "output_type": "execute_result"
    }
   ],
   "source": [
    "set1 = {3,4,5,6,7,8}\n",
    "set2 = {5,6,7,10}\n",
    "\n",
    "set1.issuperset(set2)"
   ]
  },
  {
   "cell_type": "code",
   "execution_count": 52,
   "id": "25777c10",
   "metadata": {},
   "outputs": [
    {
     "data": {
      "text/plain": [
       "False"
      ]
     },
     "execution_count": 52,
     "metadata": {},
     "output_type": "execute_result"
    }
   ],
   "source": [
    "set1 = {'Pune',\"Mumbai\",'Delhi','Kolkata','Hyderabad'}\n",
    "set2 = {'Pune','Banglore','Chennai','Mumbai'}\n",
    "\n",
    "set1.issuperset(set2)"
   ]
  },
  {
   "cell_type": "markdown",
   "id": "9a14ee38",
   "metadata": {},
   "source": [
    "__16) .isdisjoint()__\n",
    "- It is used to check whether two sets have no elements in common\n",
    "- __`Sytnax : set.isdisjoint(set)`__"
   ]
  },
  {
   "cell_type": "code",
   "execution_count": 53,
   "id": "42f2d0b2",
   "metadata": {},
   "outputs": [
    {
     "data": {
      "text/plain": [
       "True"
      ]
     },
     "execution_count": 53,
     "metadata": {},
     "output_type": "execute_result"
    }
   ],
   "source": [
    "set1 = {'Pune',\"Mumbai\",'Delhi','Kolkata','Hyderabad'}\n",
    "set2 = {'Banglore','Chennai'}\n",
    "\n",
    "set1.isdisjoint(set2)"
   ]
  },
  {
   "cell_type": "code",
   "execution_count": 54,
   "id": "e54113af",
   "metadata": {},
   "outputs": [
    {
     "data": {
      "text/plain": [
       "False"
      ]
     },
     "execution_count": 54,
     "metadata": {},
     "output_type": "execute_result"
    }
   ],
   "source": [
    "set1 = {'Pune',\"Mumbai\",'Delhi','Kolkata','Hyderabad'}\n",
    "set2 = {'Pune','Mumbai'}\n",
    "\n",
    "set1.isdisjoint(set2)"
   ]
  },
  {
   "cell_type": "markdown",
   "id": "9907c03d",
   "metadata": {},
   "source": [
    "__17) .copy()__\n",
    "- It returns a copy of a set\n",
    "- __`Syntax : set2 = set1.copy()`__"
   ]
  },
  {
   "cell_type": "code",
   "execution_count": 55,
   "id": "edfbdc17",
   "metadata": {},
   "outputs": [
    {
     "name": "stdout",
     "output_type": "stream",
     "text": [
      "{'apple', 'banana', 'cherry'}\n"
     ]
    }
   ],
   "source": [
    "fruits = {\"apple\", \"banana\", \"cherry\"}\n",
    "x = fruits.copy()\n",
    "print(x)"
   ]
  },
  {
   "cell_type": "markdown",
   "id": "93b81c6d",
   "metadata": {},
   "source": [
    "__[FrozenSet]__\n",
    "- Frozen set is just an immutable version of a Python set object. While elements of a set can be modified at any time, elements of the frozen set remain the same after creation.\n",
    "- Frozenset is unordered in nature\n",
    "- Frozenset is immutable in nature\n",
    "- Duplicates are not allowed in frozenset"
   ]
  },
  {
   "cell_type": "code",
   "execution_count": 56,
   "id": "3368fd82",
   "metadata": {},
   "outputs": [
    {
     "name": "stdout",
     "output_type": "stream",
     "text": [
      "frozenset({2, 3, 4, 5, 6, 7})\n"
     ]
    }
   ],
   "source": [
    "fs1 = frozenset({2,3,4,5,6,7})\n",
    "print(fs1)"
   ]
  },
  {
   "cell_type": "markdown",
   "id": "cefbf801",
   "metadata": {},
   "source": [
    "__[FrozenSet functions]__"
   ]
  },
  {
   "cell_type": "markdown",
   "id": "bd7d285a",
   "metadata": {},
   "source": [
    "__1) .union()__"
   ]
  },
  {
   "cell_type": "code",
   "execution_count": 57,
   "id": "06d776d8",
   "metadata": {},
   "outputs": [
    {
     "name": "stdout",
     "output_type": "stream",
     "text": [
      "FS1 >> frozenset({3, 4, 5, 6})\n",
      "FS2 >> frozenset({8, 5, 6, 7})\n",
      "FS3 >> frozenset({3, 4, 5, 6, 7, 8})\n"
     ]
    }
   ],
   "source": [
    "fs1 = frozenset({3,4,5,6,5})\n",
    "fs2 = frozenset({5,6,6,7,8})\n",
    "\n",
    "fs3 = fs1.union(fs2)\n",
    "print('FS1 >>',fs1)\n",
    "print('FS2 >>',fs2)\n",
    "print('FS3 >>',fs3)"
   ]
  },
  {
   "cell_type": "markdown",
   "id": "f0e4679e",
   "metadata": {},
   "source": [
    "__2) .difference()__"
   ]
  },
  {
   "cell_type": "code",
   "execution_count": 58,
   "id": "eb511f03",
   "metadata": {},
   "outputs": [
    {
     "data": {
      "text/plain": [
       "frozenset({3, 4})"
      ]
     },
     "execution_count": 58,
     "metadata": {},
     "output_type": "execute_result"
    }
   ],
   "source": [
    "fs1 = frozenset({3,4,5,6,5}) # 3,4\n",
    "fs2 = frozenset({5,6,6,7,8})\n",
    "\n",
    "\n",
    "fs3 = fs1.difference(fs2)\n",
    "fs3"
   ]
  },
  {
   "cell_type": "markdown",
   "id": "c9539411",
   "metadata": {},
   "source": [
    "__3) .symmetric_difference()__"
   ]
  },
  {
   "cell_type": "code",
   "execution_count": 59,
   "id": "c88c9588",
   "metadata": {},
   "outputs": [
    {
     "data": {
      "text/plain": [
       "frozenset({3, 4, 7, 8})"
      ]
     },
     "execution_count": 59,
     "metadata": {},
     "output_type": "execute_result"
    }
   ],
   "source": [
    "fs1 = frozenset({3,4,5,6,5}) # 3,4\n",
    "fs2 = frozenset({5,6,6,7,8}) # 7,8\n",
    "\n",
    "\n",
    "fs3 = fs1.symmetric_difference(fs2)\n",
    "fs3"
   ]
  },
  {
   "cell_type": "markdown",
   "id": "b82d1be0",
   "metadata": {},
   "source": [
    "__4) .isubset()__"
   ]
  },
  {
   "cell_type": "code",
   "execution_count": 60,
   "id": "700a9b45",
   "metadata": {},
   "outputs": [
    {
     "name": "stdout",
     "output_type": "stream",
     "text": [
      "frozenset({3, 4, 5, 6})\n",
      "frozenset({5, 6})\n"
     ]
    },
    {
     "data": {
      "text/plain": [
       "True"
      ]
     },
     "execution_count": 60,
     "metadata": {},
     "output_type": "execute_result"
    }
   ],
   "source": [
    "fs1 = frozenset({3,4,5,6,5})\n",
    "print(fs1)\n",
    "fs2 = frozenset({5,6,6})\n",
    "print(fs2)\n",
    "\n",
    "result = fs2.issubset(fs1)\n",
    "result"
   ]
  },
  {
   "cell_type": "code",
   "execution_count": 61,
   "id": "8b3e713e",
   "metadata": {},
   "outputs": [
    {
     "name": "stdout",
     "output_type": "stream",
     "text": [
      "frozenset({3, 4, 5, 6})\n",
      "frozenset({5, 6, 7})\n"
     ]
    },
    {
     "data": {
      "text/plain": [
       "False"
      ]
     },
     "execution_count": 61,
     "metadata": {},
     "output_type": "execute_result"
    }
   ],
   "source": [
    "fs1 = frozenset({3,4,5,6,5})\n",
    "print(fs1)\n",
    "fs2 = frozenset({5,6,6,7})\n",
    "print(fs2)\n",
    "\n",
    "result = fs2.issubset(fs1)\n",
    "result"
   ]
  },
  {
   "cell_type": "markdown",
   "id": "1ef6f244",
   "metadata": {},
   "source": [
    "__5) .isuperset()__"
   ]
  },
  {
   "cell_type": "code",
   "execution_count": 62,
   "id": "48164df4",
   "metadata": {},
   "outputs": [
    {
     "data": {
      "text/plain": [
       "True"
      ]
     },
     "execution_count": 62,
     "metadata": {},
     "output_type": "execute_result"
    }
   ],
   "source": [
    "fs1 = frozenset({2,3,4,5,6})\n",
    "fs2 = frozenset({2,4,5})\n",
    "\n",
    "result = fs1.issuperset(fs2)\n",
    "result"
   ]
  },
  {
   "cell_type": "code",
   "execution_count": 63,
   "id": "713cfcbf",
   "metadata": {},
   "outputs": [
    {
     "data": {
      "text/plain": [
       "False"
      ]
     },
     "execution_count": 63,
     "metadata": {},
     "output_type": "execute_result"
    }
   ],
   "source": [
    "fs1 = frozenset({2,3,4,5,6})\n",
    "fs2 = frozenset({2,4,5,10})\n",
    "\n",
    "result = fs1.issuperset(fs2)\n",
    "result"
   ]
  },
  {
   "cell_type": "markdown",
   "id": "b9c13ea6",
   "metadata": {},
   "source": [
    "__6) .isdisjoint()__"
   ]
  },
  {
   "cell_type": "code",
   "execution_count": 64,
   "id": "b8670646",
   "metadata": {},
   "outputs": [
    {
     "data": {
      "text/plain": [
       "True"
      ]
     },
     "execution_count": 64,
     "metadata": {},
     "output_type": "execute_result"
    }
   ],
   "source": [
    "fs1 = frozenset({2,3,4,5})\n",
    "fs2 = frozenset({6,7,8})\n",
    "\n",
    "result = fs1.isdisjoint(fs2)\n",
    "result"
   ]
  },
  {
   "cell_type": "code",
   "execution_count": 65,
   "id": "9f1cf6e0",
   "metadata": {},
   "outputs": [
    {
     "data": {
      "text/plain": [
       "False"
      ]
     },
     "execution_count": 65,
     "metadata": {},
     "output_type": "execute_result"
    }
   ],
   "source": [
    "fs1 = frozenset({2,3,4,5})\n",
    "fs2 = frozenset({6,7,8,5})\n",
    "\n",
    "result = fs1.isdisjoint(fs2)\n",
    "result"
   ]
  }
 ],
 "metadata": {
  "kernelspec": {
   "display_name": "Python 3 (ipykernel)",
   "language": "python",
   "name": "python3"
  },
  "language_info": {
   "codemirror_mode": {
    "name": "ipython",
    "version": 3
   },
   "file_extension": ".py",
   "mimetype": "text/x-python",
   "name": "python",
   "nbconvert_exporter": "python",
   "pygments_lexer": "ipython3",
   "version": "3.9.12"
  }
 },
 "nbformat": 4,
 "nbformat_minor": 5
}
