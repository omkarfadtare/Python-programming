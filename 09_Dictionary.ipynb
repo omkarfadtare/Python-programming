{
 "cells": [
  {
   "cell_type": "markdown",
   "id": "096603a1",
   "metadata": {},
   "source": [
    "## Dictionary {key:value}\n",
    "Dictionary is a collection of items, having key and value. They are used to store data values in __`key:value`__ pairs.\n",
    "\n",
    "__[Features of dictionay]__\n",
    "- Dictionary is comma seprated.\n",
    "- Dictionary is enclosed by curly brakets.\n",
    "- From python version 3.7, dictionaries are ordered. In python 3.6 and earlier, dictionaries are unordered in nature.\n",
    "- Dictionary is a mutable datatype.\n",
    "- Duplicate keys are not allowed in dictionary, but dictionary can have duplicate values.\n",
    "- We can not access items by using index, but we can access keys using index.\n",
    "- key & values in dictionary item can have:\n",
    "- keys >> Immutable Datatypes (int, float, string, tuple, frozenset)\n",
    "- values >> Any Datatype (int,float,string,list,tuple,set,dict, etc)"
   ]
  },
  {
   "cell_type": "markdown",
   "id": "01feaa28",
   "metadata": {},
   "source": [
    "__[Dictionary constructor]__"
   ]
  },
  {
   "cell_type": "code",
   "execution_count": 1,
   "id": "a54510ba",
   "metadata": {},
   "outputs": [
    {
     "name": "stdout",
     "output_type": "stream",
     "text": [
      "<class 'dict'>\n"
     ]
    }
   ],
   "source": [
    "dict1 = {} # Empty curly bracket is dictionary\n",
    "print(type(dict1))"
   ]
  },
  {
   "cell_type": "code",
   "execution_count": 2,
   "id": "f2236b9b",
   "metadata": {},
   "outputs": [
    {
     "name": "stdout",
     "output_type": "stream",
     "text": [
      "<class 'dict'>\n"
     ]
    }
   ],
   "source": [
    "dict1 = dict()\n",
    "print(type(dict1))"
   ]
  },
  {
   "cell_type": "code",
   "execution_count": 3,
   "id": "8bd0ecd5",
   "metadata": {},
   "outputs": [
    {
     "data": {
      "text/plain": [
       "dict"
      ]
     },
     "execution_count": 3,
     "metadata": {},
     "output_type": "execute_result"
    }
   ],
   "source": [
    "dict1 = {'a' : [10,20,30,40], 'b' : 200}\n",
    "type(dict1)"
   ]
  },
  {
   "cell_type": "code",
   "execution_count": 4,
   "id": "4822bea7",
   "metadata": {},
   "outputs": [
    {
     "data": {
      "text/plain": [
       "dict"
      ]
     },
     "execution_count": 4,
     "metadata": {},
     "output_type": "execute_result"
    }
   ],
   "source": [
    "dict1 = {'a' : [10,20,30,40], 3.5 : 200}\n",
    "type(dict1)"
   ]
  },
  {
   "cell_type": "code",
   "execution_count": 5,
   "id": "af72ae2b",
   "metadata": {},
   "outputs": [
    {
     "data": {
      "text/plain": [
       "dict"
      ]
     },
     "execution_count": 5,
     "metadata": {},
     "output_type": "execute_result"
    }
   ],
   "source": [
    "dict1 = {1 : [10,20,30,40], (3.5,1,2,3,4) : 200}\n",
    "type(dict1)"
   ]
  },
  {
   "cell_type": "code",
   "execution_count": 6,
   "id": "f0a72c2c",
   "metadata": {},
   "outputs": [
    {
     "data": {
      "text/plain": [
       "{1: [10, 20, 30, 40], frozenset({1, 2, 3, 3.5, 4}): 200}"
      ]
     },
     "execution_count": 6,
     "metadata": {},
     "output_type": "execute_result"
    }
   ],
   "source": [
    "dict1 = {1 : [10,20,30,40], frozenset({3.5,1,2,3,4}) : 200}\n",
    "dict1"
   ]
  },
  {
   "cell_type": "code",
   "execution_count": 7,
   "id": "bc15f60a",
   "metadata": {},
   "outputs": [
    {
     "name": "stdout",
     "output_type": "stream",
     "text": [
      "{'name': 'John', 'age': 36, 'country': 'Norway'}\n"
     ]
    }
   ],
   "source": [
    "x = dict(name = \"John\", \n",
    "         age = 36, \n",
    "         country = \"Norway\")\n",
    "print(x)"
   ]
  },
  {
   "cell_type": "code",
   "execution_count": 8,
   "id": "d7d7e05f",
   "metadata": {},
   "outputs": [
    {
     "data": {
      "text/plain": [
       "{'Name': 'Ajay', 'Age': 15, 'Marks': 90, 'Place': 'Pune', 'Contact': 12345578}"
      ]
     },
     "execution_count": 8,
     "metadata": {},
     "output_type": "execute_result"
    }
   ],
   "source": [
    "names_dict = {'Name' : 'Rohit', # Duplicate key\n",
    "              'Age' : 15, \n",
    "              'Marks' : 90, \n",
    "              'Place' : 'Pune', \n",
    "              'Name' : 'Ajay', # Duplicate key (dictionaries dont allow duplicate keys)\n",
    "              'Contact' : 12345578}\n",
    "names_dict"
   ]
  },
  {
   "cell_type": "code",
   "execution_count": 9,
   "id": "804fa36d",
   "metadata": {},
   "outputs": [
    {
     "data": {
      "text/plain": [
       "{'Name': 'Rohit',\n",
       " 'Age': 15,\n",
       " 'Marks': 90,\n",
       " 'Place': 'Pune',\n",
       " 'Name1': 'Rohit',\n",
       " 'Contact': 12345578}"
      ]
     },
     "execution_count": 9,
     "metadata": {},
     "output_type": "execute_result"
    }
   ],
   "source": [
    "names_dict = {'Name' : 'Rohit', # Duplicate value\n",
    "              'Age' : 15, \n",
    "              'Marks' : 90, \n",
    "              'Place' : 'Pune', \n",
    "              'Name1' : 'Rohit', # Duplicate value (dictionaries allow duplicate values)\n",
    "              'Contact' : 12345578}\n",
    "names_dict"
   ]
  },
  {
   "cell_type": "markdown",
   "id": "9e284849",
   "metadata": {},
   "source": [
    "__[Creating dictionary]__"
   ]
  },
  {
   "cell_type": "code",
   "execution_count": 10,
   "id": "2a040d05",
   "metadata": {},
   "outputs": [
    {
     "name": "stdout",
     "output_type": "stream",
     "text": [
      "{'Phy': 90, 'Che': 89, 'Math': 93, 'Eng': 92, 'Bio': 85}\n"
     ]
    }
   ],
   "source": [
    "# Method1: Using update() function\n",
    "\n",
    "subject = ['Phy', 'Che', 'Math', 'Eng', 'Bio']\n",
    "marks = [90, 89, 93, 92, 85]\n",
    "\n",
    "dict1 = {}\n",
    "for i in range(len(subject)):\n",
    "    dict1.update({subject[i]: marks[i]})\n",
    "print(dict1) "
   ]
  },
  {
   "cell_type": "code",
   "execution_count": 11,
   "id": "6760dd30",
   "metadata": {},
   "outputs": [
    {
     "name": "stdout",
     "output_type": "stream",
     "text": [
      "{'Phy': 85, 'Che': 85, 'Math': 85, 'Eng': 85, 'Bio': 85}\n"
     ]
    }
   ],
   "source": [
    "# Method2: Using nested loop\n",
    "\n",
    "subject = ['Phy', 'Che', 'Math', 'Eng', 'Bio']\n",
    "marks = [90, 89, 93, 92, 85]\n",
    "\n",
    "result = {}\n",
    "for s in subject:\n",
    "    for m in marks:\n",
    "        result[s] = m        \n",
    "print(result)"
   ]
  },
  {
   "cell_type": "code",
   "execution_count": 12,
   "id": "a44ec982",
   "metadata": {},
   "outputs": [
    {
     "name": "stdout",
     "output_type": "stream",
     "text": [
      "{'Phy': 90, 'Che': 89, 'Math': 93, 'Eng': 92, 'Bio': 85}\n"
     ]
    }
   ],
   "source": [
    "# Method3: Using zip() function\n",
    "\n",
    "subject = ['Phy', 'Che', 'Math', 'Eng', 'Bio']\n",
    "marks = [90, 89, 93, 92, 85]\n",
    "\n",
    "zipf = dict(zip(subject,marks)) # The zip() function takes iterables (can be zero or more), aggregates them in a tuple, and returns it.\n",
    "print(zipf)"
   ]
  },
  {
   "cell_type": "code",
   "execution_count": 13,
   "id": "0173dbe1",
   "metadata": {},
   "outputs": [
    {
     "name": "stdout",
     "output_type": "stream",
     "text": [
      "{'Phy': 90, 'Che': 89, 'Math': 93, 'Eng': 92, 'Bio': 85}\n"
     ]
    }
   ],
   "source": [
    "# Method4: Using enumarate\n",
    "\n",
    "subject = ['Phy', 'Che', 'Math', 'Eng', 'Bio']\n",
    "marks = [90, 89, 93, 92, 85]\n",
    "\n",
    "dict1 = {}\n",
    "for index, sub in enumerate(subject):\n",
    "    dict1[sub] = marks[index]  \n",
    "print(dict1)"
   ]
  },
  {
   "cell_type": "code",
   "execution_count": 14,
   "id": "4534bf60",
   "metadata": {},
   "outputs": [
    {
     "data": {
      "text/plain": [
       "{'A': None, 'B': None, 'C': None, 'D': None}"
      ]
     },
     "execution_count": 14,
     "metadata": {},
     "output_type": "execute_result"
    }
   ],
   "source": [
    "# Method5: Using fromkeys() function\n",
    "\n",
    "result = dict.fromkeys(['A', 'B', 'C', 'D'])\n",
    "result"
   ]
  },
  {
   "cell_type": "code",
   "execution_count": 15,
   "id": "c31007da",
   "metadata": {},
   "outputs": [
    {
     "data": {
      "text/plain": [
       "{'A': 'Python', 'B': 'Python', 'C': 'Python', 'D': 'Python'}"
      ]
     },
     "execution_count": 15,
     "metadata": {},
     "output_type": "execute_result"
    }
   ],
   "source": [
    "result = dict.fromkeys(['A', 'B', 'C', 'D'],'Python')\n",
    "result"
   ]
  },
  {
   "cell_type": "code",
   "execution_count": 16,
   "id": "95864559",
   "metadata": {},
   "outputs": [
    {
     "data": {
      "text/plain": [
       "{'p': 1000, 'y': 1000, 't': 1000, 'h': 1000, 'o': 1000, 'n': 1000}"
      ]
     },
     "execution_count": 16,
     "metadata": {},
     "output_type": "execute_result"
    }
   ],
   "source": [
    "result = dict.fromkeys('python', 1000)\n",
    "result"
   ]
  },
  {
   "cell_type": "code",
   "execution_count": 17,
   "id": "b8cbbeb4",
   "metadata": {},
   "outputs": [
    {
     "data": {
      "text/plain": [
       "{'p': [1000, 2000, 3000, 4000],\n",
       " 'y': [1000, 2000, 3000, 4000],\n",
       " 't': [1000, 2000, 3000, 4000],\n",
       " 'h': [1000, 2000, 3000, 4000],\n",
       " 'o': [1000, 2000, 3000, 4000],\n",
       " 'n': [1000, 2000, 3000, 4000]}"
      ]
     },
     "execution_count": 17,
     "metadata": {},
     "output_type": "execute_result"
    }
   ],
   "source": [
    "result = dict.fromkeys('python', [1000,2000,3000,4000])\n",
    "result"
   ]
  },
  {
   "cell_type": "markdown",
   "id": "8aa47730",
   "metadata": {},
   "source": [
    "__[Nested dictionary]__"
   ]
  },
  {
   "cell_type": "code",
   "execution_count": 18,
   "id": "cecf78b1",
   "metadata": {},
   "outputs": [
    {
     "name": "stdout",
     "output_type": "stream",
     "text": [
      "{'CG0001': {'Employee_name': 'Prashant', 'Company_Name': 'Cognizant', 'Salary': 50000, 'Designation': 'Data Scientist'}, 'CG0002': {'Employee_name': 'ABC', 'Company_Name': 'Cognizant', 'Salary': 65000, 'Designation': 'ML Developer'}, 'CG0003': {'Employee_name': 'XYZ', 'Company_Name': 'Cognizant', 'Salary': 80000, 'Designation': 'Python Developer'}}\n"
     ]
    }
   ],
   "source": [
    "emp_details  = {'CG0001' : {'Employee_name' : 'Prashant',\n",
    "                            'Company_Name' : 'Cognizant',\n",
    "                            'Salary' : 50000,\n",
    "                            'Designation' : 'Data Scientist'},\n",
    "               'CG0002' : {'Employee_name' : 'ABC',\n",
    "                            'Company_Name' : 'Cognizant',\n",
    "                            'Salary' : 65000,\n",
    "                            'Designation' : 'ML Developer'},\n",
    "                'CG0003' : {'Employee_name' : 'XYZ',\n",
    "                            'Company_Name' : 'Cognizant',\n",
    "                            'Salary' : 80000,\n",
    "                            'Designation' : 'Python Developer'}}\n",
    "print(emp_details)"
   ]
  },
  {
   "cell_type": "code",
   "execution_count": 19,
   "id": "7bc3828c",
   "metadata": {},
   "outputs": [
    {
     "data": {
      "text/plain": [
       "'Data Scientist'"
      ]
     },
     "execution_count": 19,
     "metadata": {},
     "output_type": "execute_result"
    }
   ],
   "source": [
    "emp_details[\"CG0001\"][\"Designation\"]"
   ]
  },
  {
   "cell_type": "code",
   "execution_count": 20,
   "id": "a088fa4f",
   "metadata": {},
   "outputs": [
    {
     "data": {
      "text/plain": [
       "65000"
      ]
     },
     "execution_count": 20,
     "metadata": {},
     "output_type": "execute_result"
    }
   ],
   "source": [
    "emp_details[\"CG0002\"][\"Salary\"]"
   ]
  },
  {
   "cell_type": "code",
   "execution_count": 21,
   "id": "857b5329",
   "metadata": {},
   "outputs": [
    {
     "data": {
      "text/plain": [
       "[80000, 34567, 90000]"
      ]
     },
     "execution_count": 21,
     "metadata": {},
     "output_type": "execute_result"
    }
   ],
   "source": [
    "emp_details  = {'CG0001' : {'Employee_name' : 'Prashant',\n",
    "                            'Company_Name' : 'Cognizant',\n",
    "                            'Salary' : 50000,\n",
    "                            'Designation' : 'Data Scientist'},\n",
    "               'CG0002' : {'Employee_name' : 'ABC',\n",
    "                            'Company_Name' : 'Cognizant',\n",
    "                            'Salary' : 65000,\n",
    "                            'Designation' : 'ML Developer'},\n",
    "                'CG0003' : {'Employee_name' : 'XYZ',\n",
    "                            'Company_Name' : 'Cognizant',\n",
    "                            'Salary' : [80000,34567,90000],\n",
    "                            'Designation' : 'Python Developer'}}\n",
    "emp_details[\"CG0003\"][\"Salary\"]"
   ]
  },
  {
   "cell_type": "code",
   "execution_count": 22,
   "id": "8f9ca04d",
   "metadata": {},
   "outputs": [
    {
     "data": {
      "text/plain": [
       "90000"
      ]
     },
     "execution_count": 22,
     "metadata": {},
     "output_type": "execute_result"
    }
   ],
   "source": [
    "emp_details[\"CG0003\"][\"Salary\"][-1] # Accessing elements from nested dictionary"
   ]
  },
  {
   "cell_type": "code",
   "execution_count": 23,
   "id": "f50b9743",
   "metadata": {},
   "outputs": [],
   "source": [
    "emp_details[\"CG0003\"][\"Salary\"][-1] = 85000 # Changing value"
   ]
  },
  {
   "cell_type": "code",
   "execution_count": 24,
   "id": "e7586a70",
   "metadata": {},
   "outputs": [
    {
     "data": {
      "text/plain": [
       "85000"
      ]
     },
     "execution_count": 24,
     "metadata": {},
     "output_type": "execute_result"
    }
   ],
   "source": [
    "emp_details[\"CG0003\"][\"Salary\"][-1]"
   ]
  },
  {
   "cell_type": "markdown",
   "id": "1ed270b9",
   "metadata": {},
   "source": [
    "__Accessing values from dictionary__"
   ]
  },
  {
   "cell_type": "code",
   "execution_count": 25,
   "id": "b9872f07",
   "metadata": {},
   "outputs": [
    {
     "name": "stdout",
     "output_type": "stream",
     "text": [
      "Mustang\n"
     ]
    }
   ],
   "source": [
    "# Method1 \n",
    "# This method will raise an error if specified key is not present in the dictionary\n",
    "\n",
    "thisdict = {\n",
    "  \"brand\": \"Ford\",\n",
    "  \"model\": \"Mustang\",\n",
    "  \"year\": 1964\n",
    "}\n",
    "print(thisdict[\"model\"])"
   ]
  },
  {
   "cell_type": "code",
   "execution_count": 26,
   "id": "7b936d71",
   "metadata": {},
   "outputs": [
    {
     "name": "stdout",
     "output_type": "stream",
     "text": [
      "Mustang\n"
     ]
    }
   ],
   "source": [
    "# Method2\n",
    "# Using get() function: returns the value of specified key\n",
    "# The main difference is that it will not raise an error if the key is not present in the dictionary\n",
    "\n",
    "thisdict = {\n",
    "  \"brand\": \"Ford\",\n",
    "  \"model\": \"Mustang\",\n",
    "  \"year\": 1964\n",
    "}\n",
    "print(thisdict.get(\"model\"))"
   ]
  },
  {
   "cell_type": "code",
   "execution_count": 27,
   "id": "44752864",
   "metadata": {},
   "outputs": [
    {
     "name": "stdout",
     "output_type": "stream",
     "text": [
      "dict_values(['Ford', 'Mustang', 1964])\n"
     ]
    }
   ],
   "source": [
    "# Method3\n",
    "# Accessing all the values from a dictionary\n",
    "\n",
    "thisdict = {\n",
    "  \"brand\": \"Ford\",\n",
    "  \"model\": \"Mustang\",\n",
    "  \"year\": 1964\n",
    "}\n",
    "print(thisdict.values())"
   ]
  },
  {
   "cell_type": "code",
   "execution_count": 28,
   "id": "1d4c9853",
   "metadata": {},
   "outputs": [
    {
     "name": "stdout",
     "output_type": "stream",
     "text": [
      "Ford\n",
      "Mustang\n",
      "1964\n"
     ]
    }
   ],
   "source": [
    "# Accessing values from the dictionary using for loop\n",
    "\n",
    "thisdict = {\n",
    "  \"brand\": \"Ford\",\n",
    "  \"model\": \"Mustang\",\n",
    "  \"year\": 1964\n",
    "}\n",
    "\n",
    "for i in thisdict:\n",
    "    print(thisdict[i])"
   ]
  },
  {
   "cell_type": "code",
   "execution_count": 29,
   "id": "9d875eb5",
   "metadata": {},
   "outputs": [
    {
     "name": "stdout",
     "output_type": "stream",
     "text": [
      "Ford\n",
      "Mustang\n",
      "1964\n"
     ]
    }
   ],
   "source": [
    "thisdict = {\n",
    "  \"brand\": \"Ford\",\n",
    "  \"model\": \"Mustang\",\n",
    "  \"year\": 1964\n",
    "}\n",
    "\n",
    "for i in thisdict.values():\n",
    "    print(i)"
   ]
  },
  {
   "cell_type": "markdown",
   "id": "9d0a599e",
   "metadata": {},
   "source": [
    "__Accessing keys from dictionary__"
   ]
  },
  {
   "cell_type": "code",
   "execution_count": 30,
   "id": "fb79e3bc",
   "metadata": {},
   "outputs": [
    {
     "name": "stdout",
     "output_type": "stream",
     "text": [
      "dict_keys(['brand', 'model', 'year'])\n"
     ]
    }
   ],
   "source": [
    "thisdict = {\n",
    "  \"brand\": \"Ford\",\n",
    "  \"model\": \"Mustang\",\n",
    "  \"year\": 1964\n",
    "}\n",
    "print(thisdict.keys())"
   ]
  },
  {
   "cell_type": "code",
   "execution_count": 31,
   "id": "abcfef72",
   "metadata": {},
   "outputs": [
    {
     "name": "stdout",
     "output_type": "stream",
     "text": [
      "brand\n",
      "model\n",
      "year\n"
     ]
    }
   ],
   "source": [
    "# Accessing keys from the dictionary using for loop\n",
    "\n",
    "thisdict = {\n",
    "  \"brand\": \"Ford\",\n",
    "  \"model\": \"Mustang\",\n",
    "  \"year\": 1964\n",
    "}\n",
    "\n",
    "for i in thisdict:\n",
    "    print(i)"
   ]
  },
  {
   "cell_type": "code",
   "execution_count": 32,
   "id": "2d380ab6",
   "metadata": {},
   "outputs": [
    {
     "name": "stdout",
     "output_type": "stream",
     "text": [
      "brand\n",
      "model\n",
      "year\n"
     ]
    }
   ],
   "source": [
    "thisdict = {\n",
    "  \"brand\": \"Ford\",\n",
    "  \"model\": \"Mustang\",\n",
    "  \"year\": 1964\n",
    "}\n",
    "\n",
    "for i in thisdict.keys():\n",
    "    print(i)"
   ]
  },
  {
   "cell_type": "markdown",
   "id": "acdd7808",
   "metadata": {},
   "source": [
    "__Accessing items from dictionary__"
   ]
  },
  {
   "cell_type": "code",
   "execution_count": 33,
   "id": "ef7cc5cb",
   "metadata": {},
   "outputs": [
    {
     "data": {
      "text/plain": [
       "{'Employee_name': 'Prashant',\n",
       " 'Company Name': 'Zensar',\n",
       " 'Salary': 50000,\n",
       " 'Designation': 'Data Scientist'}"
      ]
     },
     "execution_count": 33,
     "metadata": {},
     "output_type": "execute_result"
    }
   ],
   "source": [
    "# Method1\n",
    "\n",
    "employee_data = {'Employee_name' : 'Prashant',\n",
    "                'Company Name' : 'Zensar',\n",
    "                'Salary' : 50000,\n",
    "                'Designation' : 'Data Scientist'}\n",
    "employee_data"
   ]
  },
  {
   "cell_type": "code",
   "execution_count": 34,
   "id": "db0af636",
   "metadata": {},
   "outputs": [
    {
     "name": "stdout",
     "output_type": "stream",
     "text": [
      "dict_items([('brand', 'Ford'), ('model', 'Mustang'), ('year', 1964)])\n"
     ]
    }
   ],
   "source": [
    "# Method2\n",
    "\n",
    "thisdict = {\n",
    "  \"brand\": \"Ford\",\n",
    "  \"model\": \"Mustang\",\n",
    "  \"year\": 1964\n",
    "}\n",
    "print(thisdict.items())"
   ]
  },
  {
   "cell_type": "code",
   "execution_count": 35,
   "id": "82881b50",
   "metadata": {},
   "outputs": [
    {
     "name": "stdout",
     "output_type": "stream",
     "text": [
      "('brand', 'Ford')\n",
      "('model', 'Mustang')\n",
      "('year', 1964)\n"
     ]
    }
   ],
   "source": [
    "# Accessing items from the dictionary using for loop\n",
    "\n",
    "thisdict = {\n",
    "  \"brand\": \"Ford\",\n",
    "  \"model\": \"Mustang\",\n",
    "  \"year\": 1964\n",
    "}\n",
    "\n",
    "for i in thisdict.items():\n",
    "    print(i)"
   ]
  },
  {
   "cell_type": "markdown",
   "id": "78848fca",
   "metadata": {},
   "source": [
    "__Changing existing values from dictionary__"
   ]
  },
  {
   "cell_type": "code",
   "execution_count": 36,
   "id": "6bc9af63",
   "metadata": {},
   "outputs": [
    {
     "name": "stdout",
     "output_type": "stream",
     "text": [
      "{'brand': 'Ford', 'model': 'Mustang', 'year': 201}\n"
     ]
    }
   ],
   "source": [
    "thisdict = {\n",
    "  \"brand\": \"Ford\",\n",
    "  \"model\": \"Mustang\",\n",
    "  \"year\": 1964\n",
    "}\n",
    "thisdict[\"year\"] = 201\n",
    "print(thisdict)"
   ]
  },
  {
   "cell_type": "code",
   "execution_count": 37,
   "id": "1a7a16f2",
   "metadata": {},
   "outputs": [
    {
     "name": "stdout",
     "output_type": "stream",
     "text": [
      "{'brand': 'Honda', 'model': 'Mustang', 'year': 1964}\n"
     ]
    }
   ],
   "source": [
    "thisdict = {\n",
    "  \"brand\": \"Ford\",\n",
    "  \"model\": \"Mustang\",\n",
    "  \"year\": 1964\n",
    "}\n",
    "thisdict[\"brand\"] = 'Honda'\n",
    "\n",
    "print(thisdict)"
   ]
  },
  {
   "cell_type": "markdown",
   "id": "4f1c9499",
   "metadata": {},
   "source": [
    "__Adding new elements in dictionary__"
   ]
  },
  {
   "cell_type": "code",
   "execution_count": 38,
   "id": "ded976ca",
   "metadata": {},
   "outputs": [
    {
     "name": "stdout",
     "output_type": "stream",
     "text": [
      "Before making changes:\n",
      "dict_items([('brand', 'Ford'), ('model', 'Mustang'), ('year', 1964)])\n",
      "\n",
      "After making changes:\n",
      "dict_items([('brand', 'Ford'), ('model', 'Mustang'), ('year', 1964), ('color', 'red')])\n"
     ]
    }
   ],
   "source": [
    "# Adding new items in dictionary\n",
    "\n",
    "car = {\n",
    "\"brand\": \"Ford\",\n",
    "\"model\": \"Mustang\",\n",
    "\"year\": 1964\n",
    "}\n",
    "x = car.items()\n",
    "print('Before making changes:')\n",
    "print(x)\n",
    "print()\n",
    "car[\"color\"] = \"red\"\n",
    "print('After making changes:')\n",
    "print(x) "
   ]
  },
  {
   "cell_type": "code",
   "execution_count": 39,
   "id": "24ddd2e8",
   "metadata": {},
   "outputs": [
    {
     "name": "stdout",
     "output_type": "stream",
     "text": [
      "{'brand': 'Ford', 'model': 'Mustang', 'year': 1964, 'color': 'White'}\n"
     ]
    }
   ],
   "source": [
    "# Using update() function\n",
    "\n",
    "car = {\n",
    "  \"brand\": \"Ford\",\n",
    "  \"model\": \"Mustang\",\n",
    "  \"year\": 1964\n",
    "}\n",
    "\n",
    "car.update({\"color\": \"White\"})\n",
    "print(car)"
   ]
  },
  {
   "cell_type": "markdown",
   "id": "9558cfe5",
   "metadata": {},
   "source": [
    "__Converting dictionary to list__"
   ]
  },
  {
   "cell_type": "code",
   "execution_count": 40,
   "id": "e8a46c0e",
   "metadata": {},
   "outputs": [
    {
     "name": "stdout",
     "output_type": "stream",
     "text": [
      "['Geeks', 10, 'for', 12, 'Geek', 31]\n"
     ]
    }
   ],
   "source": [
    "dict1 = {'Geeks': 10, 'for': 12, 'Geek': 31 }\n",
    "list1 = []\n",
    "\n",
    "for i,j in dict1.items():\n",
    "    list1.append(i)\n",
    "    list1.append(j)\n",
    "print(list1)"
   ]
  },
  {
   "cell_type": "code",
   "execution_count": 41,
   "id": "6faab6c9",
   "metadata": {},
   "outputs": [
    {
     "name": "stdout",
     "output_type": "stream",
     "text": [
      "[('Geeks', 10), ('for', 12), ('Geek', 31)]\n"
     ]
    }
   ],
   "source": [
    "# Using list comprehension\n",
    "\n",
    "dict1 = { 'Geeks': 10, 'for': 12, 'Geek': 31 }\n",
    "list1 = [(i,j) for (i,j) in dict1.items()]\n",
    "print(list1)"
   ]
  },
  {
   "cell_type": "markdown",
   "id": "60903397",
   "metadata": {},
   "source": [
    "__Use of membership operator__"
   ]
  },
  {
   "cell_type": "code",
   "execution_count": 42,
   "id": "15ef81ec",
   "metadata": {},
   "outputs": [
    {
     "name": "stdout",
     "output_type": "stream",
     "text": [
      "Yes, 'model' is one of the keys in the thisdict dictionary\n"
     ]
    }
   ],
   "source": [
    "thisdict = {\n",
    "  \"brand\": \"Ford\",\n",
    "  \"model\": \"Mustang\",\n",
    "  \"year\": 1964\n",
    "}\n",
    "if \"model\" in thisdict:\n",
    "    print(\"Yes, 'model' is one of the keys in the thisdict dictionary\")"
   ]
  },
  {
   "cell_type": "markdown",
   "id": "327ca074",
   "metadata": {},
   "source": [
    "__[Dictionary functions]__\n",
    "\n",
    "- len()\n",
    "- get()\n",
    "- update()\n",
    "- keys()\n",
    "- values()\n",
    "- items()\n",
    "- pop()\n",
    "- popitem()\n",
    "- clear()\n",
    "- setdefault()\n",
    "- fromkeys()\n",
    "- copy()"
   ]
  },
  {
   "cell_type": "markdown",
   "id": "b4df61c3",
   "metadata": {},
   "source": [
    "__1) len()__\n",
    "- It returns length of the dictionary"
   ]
  },
  {
   "cell_type": "code",
   "execution_count": 43,
   "id": "1db30997",
   "metadata": {},
   "outputs": [
    {
     "name": "stdout",
     "output_type": "stream",
     "text": [
      "5\n"
     ]
    }
   ],
   "source": [
    "names_dict = {'Name' : 'Rohit' , \n",
    "              'Age' : 15, \n",
    "              'Marks' : 90, \n",
    "              'Place' : 'Pune', \n",
    "              'Name' : 'Ajay', 'Contact' : 12345578}\n",
    "print(len(names_dict))"
   ]
  },
  {
   "cell_type": "markdown",
   "id": "2013d00e",
   "metadata": {},
   "source": [
    "__2) get()__\n",
    "- It returns value of a specified key"
   ]
  },
  {
   "cell_type": "code",
   "execution_count": 44,
   "id": "511fae45",
   "metadata": {},
   "outputs": [
    {
     "name": "stdout",
     "output_type": "stream",
     "text": [
      "Mustang\n"
     ]
    }
   ],
   "source": [
    "thisdict = {\n",
    "  \"brand\": \"Ford\",\n",
    "  \"model\": \"Mustang\",\n",
    "  \"year\": 1964\n",
    "}\n",
    "print(thisdict.get(\"model\"))"
   ]
  },
  {
   "cell_type": "markdown",
   "id": "9ed80256",
   "metadata": {},
   "source": [
    "__3) .update()__\n",
    "- It inserts the specified items to the dictionary.\n",
    "- __`Syntax : dictionary.update(iterable)`__"
   ]
  },
  {
   "cell_type": "code",
   "execution_count": 45,
   "id": "15d9c6f2",
   "metadata": {},
   "outputs": [
    {
     "name": "stdout",
     "output_type": "stream",
     "text": [
      "{'brand': 'Ford', 'model': 'Mustang', 'year': 1964, 'color': 'White'}\n"
     ]
    }
   ],
   "source": [
    "car = {\n",
    "  \"brand\": \"Ford\",\n",
    "  \"model\": \"Mustang\",\n",
    "  \"year\": 1964\n",
    "}\n",
    "\n",
    "car.update({\"color\": \"White\"})\n",
    "print(car)"
   ]
  },
  {
   "cell_type": "code",
   "execution_count": 46,
   "id": "4ac8907f",
   "metadata": {},
   "outputs": [
    {
     "name": "stdout",
     "output_type": "stream",
     "text": [
      "{'Employee_name': 'Prashant', 'Company_Name': 'Zensar', 'Salary': 50000, 'Designation': 'Data Scientist', 'Company_Location': 'Mumbai', 'Age': 30, 'Employee_ID': 'Z00011'} 7\n"
     ]
    }
   ],
   "source": [
    "employee_data = {'Employee_name' : 'Prashant',\n",
    "                'Company_Name' : 'Zensar',\n",
    "                'Salary' : 50000,\n",
    "                'Designation' : 'Data Scientist'}\n",
    "\n",
    "new_data = {'Company_Location' : 'Mumbai', 'Age' : 30, 'Employee_ID' : 'Z00011'}\n",
    "employee_data.update(new_data)\n",
    "\n",
    "print(employee_data, len(employee_data))"
   ]
  },
  {
   "cell_type": "markdown",
   "id": "0bf022a8",
   "metadata": {},
   "source": [
    "__4) .keys()__\n",
    "- It returns a list dictionary keys\n",
    "- __`Syntax : dict.keys()`__"
   ]
  },
  {
   "cell_type": "code",
   "execution_count": 47,
   "id": "61f7be22",
   "metadata": {},
   "outputs": [
    {
     "name": "stdout",
     "output_type": "stream",
     "text": [
      "dict_keys(['brand', 'model', 'year'])\n"
     ]
    }
   ],
   "source": [
    "car = {\n",
    "  \"brand\": \"Ford\",\n",
    "  \"model\": \"Mustang\",\n",
    "  \"year\": 1964\n",
    "}\n",
    "\n",
    "x = car.keys()\n",
    "print(x)"
   ]
  },
  {
   "cell_type": "markdown",
   "id": "9e56a15e",
   "metadata": {},
   "source": [
    "__5) .values()__\n",
    "- It returns a list values in the dictionary\n",
    "- __`Syntax : dict.values()`__"
   ]
  },
  {
   "cell_type": "code",
   "execution_count": 48,
   "id": "006b2791",
   "metadata": {},
   "outputs": [
    {
     "name": "stdout",
     "output_type": "stream",
     "text": [
      "dict_values(['Ford', 'Mustang', 1964])\n"
     ]
    }
   ],
   "source": [
    "car = {\n",
    "  \"brand\": \"Ford\",\n",
    "  \"model\": \"Mustang\",\n",
    "  \"year\": 1964\n",
    "}\n",
    "\n",
    "x = car.values()\n",
    "print(x)"
   ]
  },
  {
   "cell_type": "markdown",
   "id": "6368289a",
   "metadata": {},
   "source": [
    "__6) .items()__\n",
    "- It returns a list of tuple for each key value pair\n",
    "- __`Syntax : dict.items()`__"
   ]
  },
  {
   "cell_type": "code",
   "execution_count": 49,
   "id": "0f0c8228",
   "metadata": {},
   "outputs": [
    {
     "name": "stdout",
     "output_type": "stream",
     "text": [
      "dict_items([('brand', 'Ford'), ('model', 'Mustang'), ('year', 1964)])\n"
     ]
    }
   ],
   "source": [
    "car = {\n",
    "  \"brand\": \"Ford\",\n",
    "  \"model\": \"Mustang\",\n",
    "  \"year\": 1964\n",
    "}\n",
    "\n",
    "x = car.items()\n",
    "print(x)"
   ]
  },
  {
   "cell_type": "markdown",
   "id": "0221a412",
   "metadata": {},
   "source": [
    "__7) .pop()__\n",
    "- It removes the element with the specified key\n",
    "- __`Syntax : ditct.pop(key)`__"
   ]
  },
  {
   "cell_type": "code",
   "execution_count": 50,
   "id": "3e767d4e",
   "metadata": {},
   "outputs": [
    {
     "name": "stdout",
     "output_type": "stream",
     "text": [
      "Mustang\n",
      "{'brand': 'Ford', 'year': 1964}\n"
     ]
    }
   ],
   "source": [
    "car = {\n",
    "  \"brand\": \"Ford\",\n",
    "  \"model\": \"Mustang\",\n",
    "  \"year\": 1964\n",
    "}\n",
    "\n",
    "x = car.pop(\"model\")\n",
    "print(x)\n",
    "print(car)"
   ]
  },
  {
   "cell_type": "code",
   "execution_count": 51,
   "id": "74886b0d",
   "metadata": {},
   "outputs": [
    {
     "name": "stdout",
     "output_type": "stream",
     "text": [
      "{'Employee_name': 'Prashant', 'Company_Name': 'Zensar', 'Designation': 'Data Scientist'}\n"
     ]
    }
   ],
   "source": [
    "d1 = {'Employee_name' : 'Prashant',\n",
    "    'Company_Name' : 'Zensar',\n",
    "    'Salary' : 50000,\n",
    "    'Designation' : 'Data Scientist'}\n",
    "\n",
    "d1.pop('Salary')\n",
    "print(d1)"
   ]
  },
  {
   "cell_type": "markdown",
   "id": "07f6d508",
   "metadata": {},
   "source": [
    "__8) .popitem()__\n",
    "- It removes the last inserted key-value pair\n",
    "- __`Syntax : dict.popitem()`__"
   ]
  },
  {
   "cell_type": "code",
   "execution_count": 52,
   "id": "bd9c9485",
   "metadata": {},
   "outputs": [
    {
     "name": "stdout",
     "output_type": "stream",
     "text": [
      "{'brand': 'Ford', 'model': 'Mustang'}\n"
     ]
    }
   ],
   "source": [
    "car = {\n",
    "  \"brand\": \"Ford\",\n",
    "  \"model\": \"Mustang\",\n",
    "  \"year\": 1964\n",
    "}\n",
    "\n",
    "car.popitem()\n",
    "print(car)"
   ]
  },
  {
   "cell_type": "code",
   "execution_count": 53,
   "id": "76a99686",
   "metadata": {},
   "outputs": [
    {
     "data": {
      "text/plain": [
       "{'Employee_name': 'Prashant', 'Company_Name': 'Zensar', 'Salary': 50000}"
      ]
     },
     "execution_count": 53,
     "metadata": {},
     "output_type": "execute_result"
    }
   ],
   "source": [
    "d1 = {'Employee_name' : 'Prashant',\n",
    "    'Company_Name' : 'Zensar',\n",
    "    'Salary' : 50000,\n",
    "    'Designation' : 'Data Scientist'}\n",
    "d1.popitem()\n",
    "d1"
   ]
  },
  {
   "cell_type": "markdown",
   "id": "8ca5ac30",
   "metadata": {},
   "source": [
    "__9) .clear()__\n",
    "- It clears the dictionary\n",
    "- __`Syntax : dict.clear()`__"
   ]
  },
  {
   "cell_type": "code",
   "execution_count": 54,
   "id": "11c5c09d",
   "metadata": {},
   "outputs": [
    {
     "name": "stdout",
     "output_type": "stream",
     "text": [
      "{}\n"
     ]
    }
   ],
   "source": [
    "d1 = {'Employee_name' : 'Prashant',\n",
    "    'Company_Name' : 'Zensar',\n",
    "    'Salary' : 50000,\n",
    "    'Designation' : 'Data Scientist'}\n",
    "\n",
    "d1.clear()\n",
    "print(d1)"
   ]
  },
  {
   "cell_type": "markdown",
   "id": "e63dcc1e",
   "metadata": {},
   "source": [
    "__10) .del()__\n",
    "- It delets an item with specified key\n",
    "- __`Syntax : del dict[key]`__"
   ]
  },
  {
   "cell_type": "code",
   "execution_count": 55,
   "id": "7cf8f5c7",
   "metadata": {},
   "outputs": [
    {
     "name": "stdout",
     "output_type": "stream",
     "text": [
      "{'Employee_name': 'Prashant', 'Company_Name': 'Zensar', 'Salary': 50000}\n"
     ]
    }
   ],
   "source": [
    "d1 = {'Employee_name' : 'Prashant',\n",
    "    'Company_Name' : 'Zensar',\n",
    "    'Salary' : 50000,\n",
    "    'Designation' : 'Data Scientist'}\n",
    "\n",
    "del d1['Designation']\n",
    "print(d1)"
   ]
  },
  {
   "cell_type": "markdown",
   "id": "dbe56398",
   "metadata": {},
   "source": [
    "__11) .copy()__\n",
    "- You cannot copy a dictionary simply by typing dict2 = dict1, Because changes made in dict1 will revert back to the dict2.\n",
    "- __`Syntax : dict1 = dict2.copy()`__"
   ]
  },
  {
   "cell_type": "code",
   "execution_count": 56,
   "id": "68a4b092",
   "metadata": {},
   "outputs": [
    {
     "name": "stdout",
     "output_type": "stream",
     "text": [
      "{'brand': 'Ford', 'model': 'Mustang', 'year': 1964}\n"
     ]
    }
   ],
   "source": [
    "thisdict = {\n",
    "  \"brand\": \"Ford\",\n",
    "  \"model\": \"Mustang\",\n",
    "  \"year\": 1964\n",
    "}\n",
    "mydict = thisdict.copy()\n",
    "print(mydict)"
   ]
  },
  {
   "cell_type": "code",
   "execution_count": 57,
   "id": "aba14295",
   "metadata": {},
   "outputs": [
    {
     "name": "stdout",
     "output_type": "stream",
     "text": [
      "{'brand': 'Ford', 'model': 'Mustang', 'year': 1964}\n"
     ]
    }
   ],
   "source": [
    "# Or\n",
    "\n",
    "thisdict = {\n",
    "  \"brand\": \"Ford\",\n",
    "  \"model\": \"Mustang\",\n",
    "  \"year\": 1964\n",
    "}\n",
    "mydict = dict(thisdict)\n",
    "print(mydict)"
   ]
  },
  {
   "cell_type": "markdown",
   "id": "4ec73780",
   "metadata": {},
   "source": [
    "__10) .fromkeys()__\n",
    "- It returns a dictionary with the given keys and value\n",
    "- __`Syntax : dict.fromkeys([keys], value)`__"
   ]
  },
  {
   "cell_type": "code",
   "execution_count": 58,
   "id": "dc1143d5",
   "metadata": {},
   "outputs": [
    {
     "data": {
      "text/plain": [
       "{'A': None, 'B': None, 'C': None, 'D': None}"
      ]
     },
     "execution_count": 58,
     "metadata": {},
     "output_type": "execute_result"
    }
   ],
   "source": [
    "result = dict.fromkeys(['A', 'B', 'C', 'D'])\n",
    "result"
   ]
  },
  {
   "cell_type": "code",
   "execution_count": 59,
   "id": "680f46d4",
   "metadata": {},
   "outputs": [
    {
     "data": {
      "text/plain": [
       "{'A': 'Python', 'B': 'Python', 'C': 'Python', 'D': 'Python'}"
      ]
     },
     "execution_count": 59,
     "metadata": {},
     "output_type": "execute_result"
    }
   ],
   "source": [
    "result = dict.fromkeys(['A', 'B', 'C', 'D'],'Python')\n",
    "result"
   ]
  },
  {
   "cell_type": "code",
   "execution_count": 60,
   "id": "5a8fe8ce",
   "metadata": {},
   "outputs": [
    {
     "data": {
      "text/plain": [
       "{'p': 1000, 'y': 1000, 't': 1000, 'h': 1000, 'o': 1000, 'n': 1000}"
      ]
     },
     "execution_count": 60,
     "metadata": {},
     "output_type": "execute_result"
    }
   ],
   "source": [
    "result = dict.fromkeys('python', 1000)\n",
    "result"
   ]
  },
  {
   "cell_type": "code",
   "execution_count": 61,
   "id": "8073b876",
   "metadata": {},
   "outputs": [
    {
     "data": {
      "text/plain": [
       "{'p': [1000, 2000, 3000, 4000],\n",
       " 'y': [1000, 2000, 3000, 4000],\n",
       " 't': [1000, 2000, 3000, 4000],\n",
       " 'h': [1000, 2000, 3000, 4000],\n",
       " 'o': [1000, 2000, 3000, 4000],\n",
       " 'n': [1000, 2000, 3000, 4000]}"
      ]
     },
     "execution_count": 61,
     "metadata": {},
     "output_type": "execute_result"
    }
   ],
   "source": [
    "result = dict.fromkeys('python', [1000,2000,3000,4000])\n",
    "result"
   ]
  },
  {
   "cell_type": "markdown",
   "id": "8df8c0c3",
   "metadata": {},
   "source": [
    "__11) .setdefault()__\n",
    "- It returns the value of the specified key. If the key does not exist, it will insert the key with the specified value\n",
    "- __`Syntax : dict.setdefault(keyname,value)`__"
   ]
  },
  {
   "cell_type": "code",
   "execution_count": 62,
   "id": "10b5e533",
   "metadata": {},
   "outputs": [
    {
     "data": {
      "text/plain": [
       "90"
      ]
     },
     "execution_count": 62,
     "metadata": {},
     "output_type": "execute_result"
    }
   ],
   "source": [
    "result = {'Phy' : 90, 'Che':89, 'Maths' :89, 'Eng' : 92, 'Bio' : 85}\n",
    "result.setdefault('Phy')"
   ]
  },
  {
   "cell_type": "code",
   "execution_count": 63,
   "id": "7ed660fe",
   "metadata": {},
   "outputs": [
    {
     "data": {
      "text/plain": [
       "{'Phy': 90, 'Che': 89, 'Maths': 89, 'Eng': 92, 'Bio': 85, 'Physics': None}"
      ]
     },
     "execution_count": 63,
     "metadata": {},
     "output_type": "execute_result"
    }
   ],
   "source": [
    "result = {'Phy' : 90, 'Che':89, 'Maths' :89, 'Eng' : 92, 'Bio' : 85}\n",
    "result.setdefault('Physics')\n",
    "result"
   ]
  },
  {
   "cell_type": "code",
   "execution_count": 64,
   "id": "acdaae3b",
   "metadata": {},
   "outputs": [
    {
     "data": {
      "text/plain": [
       "{'Phy': 90, 'Che': 89, 'Maths': 89, 'Eng': 92, 'Bio': 85, 'Data Science': 95}"
      ]
     },
     "execution_count": 64,
     "metadata": {},
     "output_type": "execute_result"
    }
   ],
   "source": [
    "result = {'Phy' : 90, 'Che':89, 'Maths' :89, 'Eng' : 92, 'Bio' : 85}\n",
    "result.setdefault('Data Science', 95)\n",
    "result"
   ]
  },
  {
   "cell_type": "markdown",
   "id": "e42f5036",
   "metadata": {},
   "source": [
    "__[Ditionary (Interview questions)]__"
   ]
  },
  {
   "cell_type": "code",
   "execution_count": 65,
   "id": "612c506e",
   "metadata": {},
   "outputs": [
    {
     "name": "stdout",
     "output_type": "stream",
     "text": [
      "new dictionary {'Bio': 85, 'Che': 89, 'Eng': 92, 'Math': 93, 'Phy': 90}\n"
     ]
    }
   ],
   "source": [
    "# Sorting dictionary on the basis of keys\n",
    "\n",
    "dict1 = {'Phy': 90, 'Che': 89, 'Math': 93, 'Eng': 92, 'Bio': 85}\n",
    "dict2 = {}\n",
    "\n",
    "sorted_keys = sorted(dict1.keys())\n",
    "sorted_keys\n",
    "\n",
    "for sub in sorted_keys:\n",
    "    dict2.update({sub : dict1[sub]})\n",
    "print(\"new dictionary\", dict2)"
   ]
  },
  {
   "cell_type": "code",
   "execution_count": 66,
   "id": "ec3d031c",
   "metadata": {},
   "outputs": [
    {
     "name": "stdout",
     "output_type": "stream",
     "text": [
      "[85, 89, 90, 92, 93]\n",
      "\n",
      "{'Bio': 85, 'Che': 89, 'Phy': 90, 'Eng': 92}\n"
     ]
    }
   ],
   "source": [
    "# Sorting dictionary on the basis of values\n",
    "\n",
    "dict1 = {'Phy': 90, 'Che': 89, 'Math': 93, 'Eng': 92, 'Bio': 85}\n",
    "dict2 = {}\n",
    "\n",
    "sorted_values = sorted(dict1.values())\n",
    "print(sorted_values)\n",
    "print()\n",
    "for marks in sorted(result.values()): # marks == 85, 89, 90, 92, 93\n",
    "    for sub in dict1:  # sub == keys\n",
    "#         print( \"Subject name\", sub) # 'Phy', 'Che', 'Maths', 'Eng', 'Bio'\n",
    "        if dict1[sub] == marks:   # result[sub] == 85; Phy, Che, Math, Eng, 'Bio' == 85\n",
    "            dict2.update({sub : marks})\n",
    "#             print(dict2)\n",
    "            break\n",
    "print(dict2)"
   ]
  },
  {
   "cell_type": "code",
   "execution_count": 67,
   "id": "f87e61df",
   "metadata": {},
   "outputs": [
    {
     "name": "stdout",
     "output_type": "stream",
     "text": [
      "{1: 1, 2: 4, 3: 9, 4: 16, 5: 25, 6: 36, 7: 49, 8: 64, 9: 81, 10: 100}\n"
     ]
    }
   ],
   "source": [
    "# Square of first 10 numbers\n",
    "\n",
    "square = {}\n",
    "\n",
    "for i in range(1,11):\n",
    "    square[i] = i ** 2\n",
    "print(square)"
   ]
  },
  {
   "cell_type": "code",
   "execution_count": 68,
   "id": "b3b0a50d",
   "metadata": {},
   "outputs": [
    {
     "name": "stdout",
     "output_type": "stream",
     "text": [
      "{'A': 65, 'B': 66, 'C': 67, 'D': 68, 'E': 69, 'F': 70, 'G': 71, 'H': 72, 'I': 73, 'J': 74, 'K': 75, 'L': 76, 'M': 77, 'N': 78, 'O': 79, 'P': 80, 'Q': 81, 'R': 82, 'S': 83, 'T': 84, 'U': 85, 'V': 86, 'W': 87, 'X': 88, 'Y': 89, 'Z': 90}\n"
     ]
    }
   ],
   "source": [
    "# ASCII value for upper case alphabetes\n",
    "\n",
    "ascii_upper = {}\n",
    "\n",
    "for i in range(65, 91):\n",
    "    ascii_upper.update({chr(i) : i})\n",
    "print(ascii_upper)"
   ]
  },
  {
   "cell_type": "code",
   "execution_count": 69,
   "id": "38e97066",
   "metadata": {},
   "outputs": [
    {
     "name": "stdout",
     "output_type": "stream",
     "text": [
      "{'a': 97, 'b': 98, 'c': 99, 'd': 100, 'e': 101, 'f': 102, 'g': 103, 'h': 104, 'i': 105, 'j': 106, 'k': 107, 'l': 108, 'm': 109, 'n': 110, 'o': 111, 'p': 112, 'q': 113, 'r': 114, 's': 115, 't': 116, 'u': 117, 'v': 118, 'w': 119, 'x': 120, 'y': 121, 'z': 122}\n"
     ]
    }
   ],
   "source": [
    "# ASCII value for lower case alphabetes\n",
    "\n",
    "ascii_lower = {}\n",
    "\n",
    "for i in range(97,123):\n",
    "    ascii_lower.update({chr(i) : i})\n",
    "print(ascii_lower)"
   ]
  }
 ],
 "metadata": {
  "kernelspec": {
   "display_name": "Python 3 (ipykernel)",
   "language": "python",
   "name": "python3"
  },
  "language_info": {
   "codemirror_mode": {
    "name": "ipython",
    "version": 3
   },
   "file_extension": ".py",
   "mimetype": "text/x-python",
   "name": "python",
   "nbconvert_exporter": "python",
   "pygments_lexer": "ipython3",
   "version": "3.9.12"
  }
 },
 "nbformat": 4,
 "nbformat_minor": 5
}
