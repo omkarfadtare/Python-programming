{
 "cells": [
  {
   "cell_type": "markdown",
   "id": "2b9bb223",
   "metadata": {},
   "source": [
    "## Pattern Drawing (Star) made easy\n",
    "- We can create any kind of shapes and deisgn from simple triangle, for that purpose only two basic blocks are needed.\n",
    "  - __`1) Increasing triangle`__ \n",
    "  - __`2) Decreasing triangle`__\n",
    "- Using just these two we can create any kind of patterns by joining them.\n",
    "- When we print anything, we print it row by row. We always start printing from left side of screen.\n",
    "- If your star or character is printing away from the left side of the screen or there is space in between stars, this is actually done by printing spaces.\n",
    "- __`Size of pattern: number of rows you wanted`__\n",
    "- Always remember that __`Outer loop determines rows or holds row numbers which starts with 0`__ and __`Inner loop determines columns or holds numbers of columns which starts with 0`__\n",
    "- __`Empty print statement, which takes output to a new row everytime, sticks to the end of the outer loop`__ do not link it with nested loop.\n",
    "- __`Printing one less column is achieved by making range of nested loop from (i+1) to (i)`__ will make the loop print one less column.\n",
    "- __`Printing one less row is achieved by making range of outer loop from (n) to (n-1)`__ will make the loop print one less row.\n",
    "- Patterns which are double up on rows (ex Diamond) or __`For pattern below pattern such as diamond just copy paste the entire code below.`__"
   ]
  },
  {
   "cell_type": "code",
   "execution_count": null,
   "id": "2c92c9dd",
   "metadata": {},
   "outputs": [],
   "source": [
    "# first for loop refers to rows >>     i > * * * * * `i = 0\n",
    "#                                          * * * * * `i = 1\n",
    "#                                          * * * * * `i = 2\n",
    "#                                          * * * * * `i = 3\n",
    "#                                          * * * * * `i = 4\n",
    "# nested for loop refers to columns >>   j ^"
   ]
  },
  {
   "cell_type": "code",
   "execution_count": 3,
   "id": "bd37d1ff",
   "metadata": {},
   "outputs": [
    {
     "name": "stdout",
     "output_type": "stream",
     "text": [
      "Please enter how many number of rows you want: 5\n",
      "* * * * * \n",
      "* * * * * \n",
      "* * * * * \n",
      "* * * * * \n",
      "* * * * * \n"
     ]
    }
   ],
   "source": [
    "# Square (This is the basic program same number of rows and columns) \n",
    "\n",
    "n = int(input(\"Please enter how many number of rows you want: \")) # Taking user input for number of rows\n",
    "\n",
    "for i in range(n): # considering n = 5, range will be (0,n) = (0,5) # '0',1,2,3,4\n",
    "    for j in range(n):\n",
    "        print('*',end=' ')\n",
    "    print() # Do not forget to write print statement after exiting for loop"
   ]
  },
  {
   "cell_type": "markdown",
   "id": "b484c27d",
   "metadata": {},
   "source": [
    "__`We only have to remember below two triangle patterns to draw any kind of patterns`__"
   ]
  },
  {
   "cell_type": "code",
   "execution_count": 4,
   "id": "c842be7b",
   "metadata": {},
   "outputs": [
    {
     "name": "stdout",
     "output_type": "stream",
     "text": [
      "Please enter how many number of rows you want: 5\n",
      "* \n",
      "* * \n",
      "* * * \n",
      "* * * * \n",
      "* * * * * \n"
     ]
    }
   ],
   "source": [
    "# 1) Increasing triangle\n",
    "\n",
    "n = int(input(\"Please enter how many number of rows you want: \")) # Taking user input for number of rows\n",
    "\n",
    "for i in range(n): # considering n = 5, range will be (0,n) = (0,5) # '0',1,2,3,4\n",
    "    for j in range(i+1): # for inside column loop we want row number + 1 star # 0+1 = 1 range = (0,1) # inner loop runs for 0 only\n",
    "        print('*',end=' ')\n",
    "    print()"
   ]
  },
  {
   "cell_type": "code",
   "execution_count": 9,
   "id": "e0364002",
   "metadata": {},
   "outputs": [
    {
     "name": "stdout",
     "output_type": "stream",
     "text": [
      "Please enter how many number of rows you want: 5\n",
      "* * * * * \n",
      "* * * * \n",
      "* * * \n",
      "* * \n",
      "* \n"
     ]
    }
   ],
   "source": [
    "# 2) Decreasing triangle\n",
    "\n",
    "n = int(input(\"Please enter how many number of rows you want: \")) # Taking user input for number of rows\n",
    "\n",
    "for i in range(n): # considering n = 5, range will be (0,n) = (0,5) # '0',1,2,3,4\n",
    "    for j in range(i,n): # range will change as (0,5) (1,5) (2,5) (3,5) (4,5)\n",
    "        print('*',end=' ')\n",
    "    print()"
   ]
  },
  {
   "cell_type": "code",
   "execution_count": null,
   "id": "c70acad9",
   "metadata": {},
   "outputs": [],
   "source": [
    "# Right sided triangle (decreasing triangle of space + increasing triangle of star)\n",
    "\n",
    " - - - - *\n",
    " - - - * *\n",
    " - - * * *\n",
    " - * * * *\n",
    " * * * * *"
   ]
  },
  {
   "cell_type": "code",
   "execution_count": 55,
   "id": "8b9ffbb5",
   "metadata": {},
   "outputs": [
    {
     "name": "stdout",
     "output_type": "stream",
     "text": [
      "Please enter how many number of rows you want: 5\n",
      "        * \n",
      "      * * \n",
      "    * * * \n",
      "  * * * * \n",
      "* * * * * \n"
     ]
    }
   ],
   "source": [
    "n = int(input(\"Please enter how many number of rows you want: \"))\n",
    "\n",
    "for i in range(n):\n",
    "    for j in range (i+1,n): # This for loop is for decreasing space triangle # First execute this nested for loop\n",
    "        print(' ',end=' ')\n",
    "    for j in range (i+1): # This for loop is for increasing star triangle # Second execute this nested for loop\n",
    "        print('*',end=' ')    \n",
    "    print()"
   ]
  },
  {
   "cell_type": "code",
   "execution_count": null,
   "id": "4863ac10",
   "metadata": {},
   "outputs": [],
   "source": [
    "# Left triangle (increasing triangle of star + deccreasing triangle of space)\n",
    "\n",
    " * * * * *\n",
    " - * * * *\n",
    " - - * * *\n",
    " - - - * *\n",
    " - - - - *"
   ]
  },
  {
   "cell_type": "code",
   "execution_count": 2,
   "id": "e6fbd6a9",
   "metadata": {},
   "outputs": [
    {
     "name": "stdout",
     "output_type": "stream",
     "text": [
      "Please enter how many number of rows you want: 5\n",
      "  * * * * * \n",
      "    * * * * \n",
      "      * * * \n",
      "        * * \n",
      "          * \n"
     ]
    }
   ],
   "source": [
    "n = int(input(\"Please enter how many number of rows you want: \"))\n",
    "\n",
    "for i in range(n): # This will remain same since rows are '5'\n",
    "    for j in range(i+1): # If we dont want star keep it only i\n",
    "        print(' ',end=' ')\n",
    "    for j in range(i,n):\n",
    "        print('*',end=' ')\n",
    "    print()"
   ]
  },
  {
   "cell_type": "markdown",
   "id": "87ab0a3a",
   "metadata": {},
   "source": [
    "__`Things to remember:`__\n",
    "- Just imagine about the pattern you want to draw and split that pattern into no of triangles to be used or you can draw a raw pattern for your understanding.\n",
    "- Take care of range since it is the only important part in pattern drawing. You need to be clear about how many times should the loop iterate to get your desired output.\n",
    "- Empty print statement print() must linked to outer loop, never link it with nested loop.\n",
    "- Each print statement has got either star or space or character followed by an end statement\n",
    "- All of your print statements need to have the same number of characters even if it is printing space. else wrong pattern will be printed. \n",
    "- If somehow you get a wrong pattern in output, do not erase the entire sourse code, just look carefully that in which row or column you are getting wrong pattern and do the needful changes in that respective for loop only. Continue changes until you get your desired output. "
   ]
  },
  {
   "cell_type": "code",
   "execution_count": null,
   "id": "f78d0323",
   "metadata": {},
   "outputs": [],
   "source": [
    "# Pyramid (decreasing triangle of space + increasing triangle of star + increasing triangle of stars*)\n",
    "# *catch >> Third nested for loop should run from '0-1' for first iteration, look at the program.\n",
    "\n",
    "- - - - - *\n",
    "- - - - * * *\n",
    "- - - * * * * *\n",
    "- - * * * * * * *\n",
    "- * * * * * * * * *"
   ]
  },
  {
   "cell_type": "code",
   "execution_count": 35,
   "id": "88bcef05",
   "metadata": {},
   "outputs": [
    {
     "name": "stdout",
     "output_type": "stream",
     "text": [
      "Please enter how many number of rows you want: 5\n",
      "          * \n",
      "        * * * \n",
      "      * * * * * \n",
      "    * * * * * * * \n",
      "  * * * * * * * * * \n"
     ]
    }
   ],
   "source": [
    "n = int(input(\"Please enter how many number of rows you want: \"))\n",
    "\n",
    "for i in range(n):\n",
    "    for j in range(i,n):\n",
    "        print(' ',end=' ')\n",
    "    for j in range(i+1):\n",
    "        print('*',end=' ')\n",
    "    for j in range(i):\n",
    "        print('*',end=' ')\n",
    "    print()"
   ]
  },
  {
   "cell_type": "code",
   "execution_count": null,
   "id": "8d41de24",
   "metadata": {},
   "outputs": [],
   "source": [
    "# Reverse Pyramid (increasing space triangle + decreasing star triangle + decreasing star triangle*)\n",
    " - * * * * * * * * *\n",
    " - - * * * * * * *\n",
    " - - - * * * * *\n",
    " - - - - * * *\n",
    " - - - - - * "
   ]
  },
  {
   "cell_type": "code",
   "execution_count": 36,
   "id": "8b7b3deb",
   "metadata": {},
   "outputs": [
    {
     "name": "stdout",
     "output_type": "stream",
     "text": [
      "Please enter how many number of rows you want: 5\n",
      "  * * * * * * * * * \n",
      "    * * * * * * * \n",
      "      * * * * * \n",
      "        * * * \n",
      "          * \n"
     ]
    }
   ],
   "source": [
    "n = int(input(\"Please enter how many number of rows you want: \"))\n",
    "\n",
    "for i in range(n):\n",
    "    for j in range(i+1):\n",
    "        print(' ',end=' ')\n",
    "    for j in range(i,n):\n",
    "        print('*',end=' ')\n",
    "    for j in range(i+1,n): # You can write range as (i,n-1) or (i+1,n) as far as your code is giving correct output, Dont worry :)\n",
    "        print('*',end=' ')\n",
    "    print()"
   ]
  },
  {
   "cell_type": "code",
   "execution_count": 1,
   "id": "bf1f8979",
   "metadata": {},
   "outputs": [],
   "source": [
    "# Tricky* Dont get panic just use another for loop below pyramid source code and that's it!!!! \n",
    "# Or copy paste the code for pyramid below it and change first for loop range to (n-1) and second to (n)\n",
    "# Diamond (Pyramid + Reverse pyramid)"
   ]
  },
  {
   "cell_type": "code",
   "execution_count": null,
   "id": "ec5a85cf",
   "metadata": {},
   "outputs": [],
   "source": [
    "- - - - - *\n",
    "- - - - * * *\n",
    "- - - * * * * *\n",
    "- - * * * * * * *\n",
    "- * * * * * * * * *\n",
    "- - * * * * * * *\n",
    "- - - * * * * *\n",
    "- - - - * * *\n",
    "- - - - - * "
   ]
  },
  {
   "cell_type": "code",
   "execution_count": 40,
   "id": "a4193cd6",
   "metadata": {},
   "outputs": [
    {
     "name": "stdout",
     "output_type": "stream",
     "text": [
      "Please enter how many number of rows you want: 5\n",
      "          * \n",
      "        * * * \n",
      "      * * * * * \n",
      "    * * * * * * * \n",
      "  * * * * * * * * * \n",
      "    * * * * * * * \n",
      "      * * * * * \n",
      "        * * * \n",
      "          * \n"
     ]
    }
   ],
   "source": [
    "n = int(input(\"Please enter how many number of rows you want: \"))\n",
    "\n",
    "for i in range(n-1): # range should be reduced so as to print one less row\n",
    "    for j in range(i,n):\n",
    "        print(' ',end=' ')\n",
    "    for j in range(i+1):\n",
    "        print('*',end=' ')\n",
    "    for j in range(i):\n",
    "        print('*',end=' ')\n",
    "    print()\n",
    "for i in range(n):\n",
    "    for j in range(i+1):\n",
    "        print(' ',end=' ')\n",
    "    for j in range(i,n):\n",
    "        print('*',end=' ')\n",
    "    for j in range(i+1,n): # You can write range as (i,n-1) or (i+1,n) as far as your code is giving correct output, Dont worry :)\n",
    "        print('*',end=' ')\n",
    "    print()"
   ]
  },
  {
   "cell_type": "code",
   "execution_count": null,
   "id": "317b8940",
   "metadata": {},
   "outputs": [],
   "source": [
    "# Double hill\n",
    "    *         *\n",
    "   * *       * *\n",
    "  * * *     * * *  \n",
    " * * * *   * * * *\n",
    "* * * * * * * * * *"
   ]
  },
  {
   "cell_type": "code",
   "execution_count": 54,
   "id": "cc814ba0",
   "metadata": {},
   "outputs": [
    {
     "name": "stdout",
     "output_type": "stream",
     "text": [
      "Please enter how many number of rows you want: 5\n",
      "        *                 * \n",
      "      * * *             * * * \n",
      "    * * * * *         * * * * * \n",
      "  * * * * * * *     * * * * * * * \n",
      "* * * * * * * * * * * * * * * * * * \n"
     ]
    }
   ],
   "source": [
    "n = int(input(\"Please enter how many number of rows you want: \"))\n",
    "\n",
    "for i in range(n):\n",
    "    for j in range(i+1,n):\n",
    "        print(' ',end=' ')\n",
    "    for j in range(i+1):\n",
    "        print('*',end=' ')\n",
    "    for j in range(i):\n",
    "        print('*',end=' ')\n",
    "    for j in range(i+1,n):\n",
    "        print(' ',end=' ')\n",
    "    for j in range(i+1,n):\n",
    "        print(' ',end=' ') \n",
    "    for j in range(i+1):\n",
    "        print('*',end=' ')\n",
    "    for j in range(i):\n",
    "        print('*',end=' ')\n",
    "    print()"
   ]
  },
  {
   "cell_type": "code",
   "execution_count": 14,
   "id": "2febdd02",
   "metadata": {},
   "outputs": [
    {
     "name": "stdout",
     "output_type": "stream",
     "text": [
      "Please enter how many number of rows you want: 5\n",
      "*                 * \n",
      "* *             * * \n",
      "* * *         * * * \n",
      "* * * *     * * * * \n",
      "* * * * * * * * * * \n",
      "* * * *     * * * * \n",
      "* * *         * * * \n",
      "* *             * * \n",
      "*                 * \n"
     ]
    }
   ],
   "source": [
    "# Butterfly code\n",
    "\n",
    "n = int(input(\"Please enter how many number of rows you want: \")) # Taking user input for number of rows\n",
    "\n",
    "for i in range(n):\n",
    "    for j in range(i+1):\n",
    "        print('*',end=' ')\n",
    "    for j in range(i+1,n):\n",
    "        print(' ',end=' ')\n",
    "    for j in range(i+1,n):\n",
    "        print(' ',end=' ')\n",
    "    for j in range(i+1):\n",
    "        print('*',end=' ')\n",
    "    print()\n",
    "# for i in range(n): Try running this line you will get to see the magic \n",
    "for i in range(n-1): \n",
    "    for j in range(i+1,n):\n",
    "        print('*',end=' ')\n",
    "    for j in range(i+1):\n",
    "        print(' ',end= ' ')\n",
    "    for j in range(i+1):\n",
    "        print(' ',end=' ')\n",
    "    for j in range(i+1,n):\n",
    "        print('*',end = ' ')\n",
    "    print()"
   ]
  },
  {
   "cell_type": "code",
   "execution_count": 1,
   "id": "77aa181a",
   "metadata": {},
   "outputs": [
    {
     "name": "stdout",
     "output_type": "stream",
     "text": [
      "Please enter number of rows: 5\n",
      "*               * \n",
      "* *           * * \n",
      "* * *       * * * \n",
      "* * * *   * * * * \n",
      "* * * * * * * * *  \n",
      "* * * *   * * * * \n",
      "* * *       * * * \n",
      "* *           * * \n",
      "*               * \n"
     ]
    }
   ],
   "source": [
    "# Watch carefully in above and below output, you will notice the difference\n",
    "\n",
    "n = int(input('Please enter number of rows: '))\n",
    "for i in range(n):\n",
    "    for j in range(i+1):\n",
    "        print('*',end=' ')\n",
    "    for j in range(i,n-1):\n",
    "        print(' ',end=' ')\n",
    "    for j in range(i+1,n-1):\n",
    "        print(' ',end=' ')\n",
    "    for j in range(i+1):\n",
    "        if i==(n-1) and j==(n-1):\n",
    "            print('',end=' ')\n",
    "        else:\n",
    "            print('*',end=' ')\n",
    "    print()\n",
    "for i in range(n-1):\n",
    "    for j in range(i+1,n):\n",
    "        print('*',end=' ')\n",
    "    for j in range(i+1):\n",
    "        print(' ',end=' ')\n",
    "    for j in range(i):\n",
    "        print(' ',end=' ')\n",
    "    for j in range(i+1,n):\n",
    "        print('*',end=' ')\n",
    "    print()"
   ]
  },
  {
   "cell_type": "code",
   "execution_count": 13,
   "id": "394385df",
   "metadata": {},
   "outputs": [
    {
     "name": "stdout",
     "output_type": "stream",
     "text": [
      "please enter how many number of rows you want: 5\n",
      "* * * * * * * * * \n",
      "  * * * * * * * \n",
      "    * * * * * \n",
      "      * * * \n",
      "        * \n",
      "      * * * \n",
      "    * * * * * \n",
      "  * * * * * * * \n",
      "* * * * * * * * * \n"
     ]
    }
   ],
   "source": [
    "# Sand-glass/Hour glass\n",
    "\n",
    "n = int(input(\"please enter how many number of rows you want: \"))\n",
    "\n",
    "for i in range(n-1):\n",
    "    for j in range(i):\n",
    "        print(' ',end=' ')\n",
    "    for j in range (i,n):\n",
    "        print('*',end=' ')\n",
    "    for j in range(i,n-1):\n",
    "        print('*',end=' ')\n",
    "    print()\n",
    "    \n",
    "for i in range(n):\n",
    "    for j in range(i,n-1):\n",
    "        print(' ',end=' ')\n",
    "    for j in range(i+1): \n",
    "        print('*',end=' ')\n",
    "    for j in range(i):\n",
    "        print('*',end = ' ')\n",
    "    print()"
   ]
  },
  {
   "cell_type": "code",
   "execution_count": null,
   "id": "c99de8dc",
   "metadata": {},
   "outputs": [],
   "source": [
    "# 2 iter (0,2) 0,1 # * *\n",
    "# 3 iter (0,3) 0,1,2 # * * *\n",
    "# 4 iter (0,4) 0,1,2,3 # * * * *\n",
    "# 5 iter (0,5) 0,1,2,3,4 # * * * * *"
   ]
  },
  {
   "cell_type": "code",
   "execution_count": null,
   "id": "52a47506",
   "metadata": {},
   "outputs": [],
   "source": [
    "*\n",
    "* *\n",
    "* * *\n",
    "* * * *\n",
    "* * * * *\n",
    "* * * * * *\n",
    "\n",
    "\n",
    "* * * * * *\n",
    "* * * * *\n",
    "* * * *\n",
    "* * *\n",
    "* *\n",
    "*"
   ]
  },
  {
   "cell_type": "code",
   "execution_count": 157,
   "id": "b9541363",
   "metadata": {},
   "outputs": [
    {
     "name": "stdout",
     "output_type": "stream",
     "text": [
      "please enter how many number of rows you want: 6\n",
      "* \n",
      "* * \n",
      "* * * \n",
      "* * * * \n",
      "* * * * * \n",
      "* * * * * * \n",
      "\n",
      "\n",
      "* * * * * * \n",
      "* * * * * \n",
      "* * * * \n",
      "* * * \n",
      "* * \n",
      "* \n"
     ]
    }
   ],
   "source": [
    "n = int(input(\"please enter how many number of rows you want: \"))\n",
    "\n",
    "for i in range(n):\n",
    "    for j in range(i+1):\n",
    "        print('*',end=' ')\n",
    "    print()\n",
    "print()\n",
    "print()  \n",
    "for i in range(n):\n",
    "    for j in range(i,n):\n",
    "        print('*',end=' ')\n",
    "    print()\n"
   ]
  },
  {
   "cell_type": "code",
   "execution_count": 158,
   "id": "52f8e34c",
   "metadata": {},
   "outputs": [
    {
     "name": "stdout",
     "output_type": "stream",
     "text": [
      "please enter how many number of rows you want: 7\n",
      "* \n",
      "* * \n",
      "* * * \n",
      "* * * * \n",
      "* * * * * \n",
      "* * * * * * \n",
      "* * * * * * * \n",
      "* * * * * * * \n",
      "* * * * * * \n",
      "* * * * * \n",
      "* * * * \n",
      "* * * \n",
      "* * \n",
      "* \n"
     ]
    }
   ],
   "source": [
    "n = int(input(\"please enter how many number of rows you want: \"))\n",
    "\n",
    "for i in range(n):\n",
    "    for j in range(i+1):\n",
    "        print('*',end=' ')\n",
    "    print() \n",
    "for i in range(n):\n",
    "    for j in range(i,n):\n",
    "        print('*',end=' ')\n",
    "    print()\n"
   ]
  },
  {
   "cell_type": "code",
   "execution_count": 16,
   "id": "80137669",
   "metadata": {},
   "outputs": [
    {
     "name": "stdout",
     "output_type": "stream",
     "text": [
      "please enter how many number of rows you want: 6\n",
      "* \n",
      "* * \n",
      "* * * \n",
      "* * * * \n",
      "* * * * * \n",
      "* * * * * * \n",
      "* * * * * \n",
      "* * * * \n",
      "* * * \n",
      "* * \n",
      "* \n",
      "\n"
     ]
    }
   ],
   "source": [
    "# Left Pascal triangle\n",
    "\n",
    "n = int(input(\"please enter how many number of rows you want: \"))\n",
    "\n",
    "for i in range(n):\n",
    "    for j in range(i+1):\n",
    "        print('*',end=' ')\n",
    "    print() \n",
    "for i in range(n):\n",
    "    for j in range(i+1,n):\n",
    "        print('*',end=' ')\n",
    "    print()"
   ]
  },
  {
   "cell_type": "code",
   "execution_count": 13,
   "id": "37817722",
   "metadata": {},
   "outputs": [
    {
     "name": "stdout",
     "output_type": "stream",
     "text": [
      "please enter how many number of rows you want: 5\n",
      "        * \n",
      "      * * \n",
      "    * * * \n",
      "  * * * * \n",
      "* * * * * \n",
      "  * * * * \n",
      "    * * * \n",
      "      * * \n",
      "        * \n"
     ]
    }
   ],
   "source": [
    "# Left Pascal triangle\n",
    "\n",
    "n = int(input(\"please enter how many number of rows you want: \"))\n",
    "\n",
    "for i in range(n-1):\n",
    "    for j in range(i+1,n):\n",
    "        print(' ',end=' ')\n",
    "    for j in range(i+1):\n",
    "        print('*',end=' ')\n",
    "    print()\n",
    "for i in range(n):\n",
    "    for j in range(i):\n",
    "        print(' ',end=' ')\n",
    "    for j in range(i,n):\n",
    "        print('*',end=' ')\n",
    "    print()  "
   ]
  },
  {
   "cell_type": "code",
   "execution_count": 17,
   "id": "05c3c780",
   "metadata": {},
   "outputs": [
    {
     "name": "stdout",
     "output_type": "stream",
     "text": [
      "please enter how many number of rows you want: 7\n",
      "* * * * * * * * * * * * * * \n",
      "* * * * * *     * * * * * * \n",
      "* * * * *         * * * * * \n",
      "* * * *             * * * * \n",
      "* * *                 * * * \n",
      "* *                     * * \n",
      "*                         * \n"
     ]
    }
   ],
   "source": [
    "# Curtons\n",
    "\n",
    "n = int(input(\"please enter how many number of rows you want: \"))\n",
    "\n",
    "for i in range(n):\n",
    "    for j in range(i,n):\n",
    "        print('*',end=' ')\n",
    "    for j in range(i):\n",
    "        print(' ',end=' ')\n",
    "    for j in range(i):\n",
    "        print(' ',end=' ')\n",
    "    for j in range(i,n):\n",
    "        print('*',end=' ')\n",
    "    print()"
   ]
  },
  {
   "cell_type": "markdown",
   "id": "17849932",
   "metadata": {},
   "source": [
    "__`Summary for star pattern drawing:`__\n",
    "- Increasing triangle\n",
    "- Decreasing triangle\n",
    "- For loop belongs to rows\n",
    "- Nested for loop belongs to columns\n",
    "- Vertical are columns and Horizontal are rows\n",
    "- (,end=' ') >> prints output in same line\n",
    "- print() enters a new line\n",
    "- STAR PATTERN: Increasing triangle range for nested (i+1) Decreasing triangle range for nested (i,n)\n",
    "- SPACE PATTERN: Increasing triangle range for nested (i) Decreasing triangle range for nested (i+1,n)\n",
    "- One less column for increasing triangle change range of nested from (i+1) to (i)\n",
    "- One less column for decreasing triangle change range of nested from (i,n) to (i,n-1)\n",
    "- DOUBLED In ROWS: If one less row is required change range from (n) to (n-1)\n",
    "- While one less row or column is required then change range of first occurance loop only."
   ]
  }
 ],
 "metadata": {
  "kernelspec": {
   "display_name": "Python 3 (ipykernel)",
   "language": "python",
   "name": "python3"
  },
  "language_info": {
   "codemirror_mode": {
    "name": "ipython",
    "version": 3
   },
   "file_extension": ".py",
   "mimetype": "text/x-python",
   "name": "python",
   "nbconvert_exporter": "python",
   "pygments_lexer": "ipython3",
   "version": "3.9.12"
  }
 },
 "nbformat": 4,
 "nbformat_minor": 5
}
