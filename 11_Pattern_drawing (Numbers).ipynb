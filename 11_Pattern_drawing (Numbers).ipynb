{
 "cells": [
  {
   "cell_type": "markdown",
   "id": "f010fb88",
   "metadata": {},
   "source": [
    "## Pattern Drawing (Number) made easy\n",
    "- There are actually two things which actually makes the number pattern.  \n",
    "  - __`1) Pattern`__\n",
    "  - __`2) Shape numbers`__\n",
    "- Program will have two different logic one to make pattern and other to put in the numbers as per the requirement.\n",
    "- Changing range function creates confusion, So keep pattern logic and number logic seprate so as to avoid the chances of getting error.\n",
    "- For pattern logic go with star pattern drawing.\n",
    "- Increasing triangle range: (i+1) and Decreasing triangle pattern range: (i,n)\n",
    "- Do not mix indexes with pattern.\n",
    "- Initialize required number of variable.\n",
    "- Build two seprate logic one to make pattern and other to make order of numbers: __`Pattern + Order of numbers`__"
   ]
  },
  {
   "cell_type": "code",
   "execution_count": null,
   "id": "3c1fe981",
   "metadata": {},
   "outputs": [],
   "source": [
    "# Same as star pattern\n",
    "\n",
    "1\n",
    "1 1\n",
    "1 1 1\n",
    "1 1 1 1\n",
    "1 1 1 1 1"
   ]
  },
  {
   "cell_type": "code",
   "execution_count": 1,
   "id": "650c25bf",
   "metadata": {},
   "outputs": [
    {
     "name": "stdout",
     "output_type": "stream",
     "text": [
      "Please enter number of rows: 5\n",
      "1 \n",
      "1 1 \n",
      "1 1 1 \n",
      "1 1 1 1 \n",
      "1 1 1 1 1 \n"
     ]
    }
   ],
   "source": [
    "n = int(input('Please enter number of rows: '))\n",
    "for i in range(n):\n",
    "    for j in range(i+1):\n",
    "        print('1',end=' ')\n",
    "    print()"
   ]
  },
  {
   "cell_type": "markdown",
   "id": "263c7684",
   "metadata": {},
   "source": [
    "__`1) Incrementing rows:`__ Changing row values"
   ]
  },
  {
   "cell_type": "code",
   "execution_count": null,
   "id": "b01f6280",
   "metadata": {},
   "outputs": [],
   "source": [
    "# Increamenting rows: Initialize variable 'p=1' above for loop and increment with p+=1 in for loop"
   ]
  },
  {
   "cell_type": "code",
   "execution_count": null,
   "id": "f675d23b",
   "metadata": {},
   "outputs": [],
   "source": [
    "1\n",
    "2 2\n",
    "3 3 3\n",
    "4 4 4 4 \n",
    "5 5 5 5 5"
   ]
  },
  {
   "cell_type": "code",
   "execution_count": 4,
   "id": "3efb52ba",
   "metadata": {},
   "outputs": [
    {
     "name": "stdout",
     "output_type": "stream",
     "text": [
      "Please enter number of rows: 5\n",
      "1 \n",
      "2 2 \n",
      "3 3 3 \n",
      "4 4 4 4 \n",
      "5 5 5 5 5 \n"
     ]
    }
   ],
   "source": [
    "# Complex method:\n",
    "\n",
    "n = int(input('Please enter number of rows: '))\n",
    "for i in range(n):\n",
    "    for j in range(i+1):\n",
    "        print(i+1,end=' ')\n",
    "    print()"
   ]
  },
  {
   "cell_type": "code",
   "execution_count": 2,
   "id": "32f421be",
   "metadata": {},
   "outputs": [
    {
     "name": "stdout",
     "output_type": "stream",
     "text": [
      "Please enter number of rows: 5\n",
      "1 \n",
      "2 2 \n",
      "3 3 3 \n",
      "4 4 4 4 \n",
      "5 5 5 5 5 \n"
     ]
    }
   ],
   "source": [
    "# Easy way (my_way):\n",
    "\n",
    "n = int(input('Please enter number of rows: '))\n",
    "p=1\n",
    "for i in range(n): # (5) ; (0,5) ; '0',1,2,3,4\n",
    "    for j in range(i+1): # 1 ; (0,1) ; '0'\n",
    "        print(p,end=' ') # p=1\n",
    "    p+=1 # p+1 = 1+1 = 2\n",
    "    print()"
   ]
  },
  {
   "cell_type": "code",
   "execution_count": null,
   "id": "8e5da9e8",
   "metadata": {},
   "outputs": [],
   "source": [
    "1 1 1 1 1\n",
    "2 2 2 2\n",
    "3 3 3\n",
    "4 4\n",
    "5"
   ]
  },
  {
   "cell_type": "code",
   "execution_count": 6,
   "id": "cf35dad0",
   "metadata": {},
   "outputs": [
    {
     "name": "stdout",
     "output_type": "stream",
     "text": [
      "Please enter number of rows: 5\n",
      "1 1 1 1 1 \n",
      "2 2 2 2 \n",
      "3 3 3 \n",
      "4 4 \n",
      "5 \n"
     ]
    }
   ],
   "source": [
    "n = int(input('Please enter number of rows: '))\n",
    "p=1\n",
    "for i in range(n): # (5) ; (0,5) ; '0',1,2,3,4\n",
    "    for j in range(i,n): # (0,5) ; '0',1,2,3,4\n",
    "        print(p,end=' ') # p=1\n",
    "    p+=1 # p+=1 = 1+1 = 2\n",
    "    print()"
   ]
  },
  {
   "cell_type": "code",
   "execution_count": null,
   "id": "e0f36b55",
   "metadata": {},
   "outputs": [],
   "source": [
    "        1\n",
    "      2 2 2\n",
    "    3 3 3 3 3\n",
    "  4 4 4 4 4 4 4\n",
    "5 5 5 5 5 5 5 5 5"
   ]
  },
  {
   "cell_type": "code",
   "execution_count": 7,
   "id": "bfdc12bf",
   "metadata": {},
   "outputs": [
    {
     "name": "stdout",
     "output_type": "stream",
     "text": [
      "Please enter no of rows: 5\n",
      "          1 \n",
      "        2 2 2 \n",
      "      3 3 3 3 3 \n",
      "    4 4 4 4 4 4 4 \n",
      "  5 5 5 5 5 5 5 5 5 \n"
     ]
    }
   ],
   "source": [
    "n = int(input('Please enter no of rows: '))\n",
    "p=1\n",
    "for i in range(n):\n",
    "    for j in range(i,n):\n",
    "        print(' ',end=' ')\n",
    "    for j in range(i+1):\n",
    "        print(p,end=' ')\n",
    "    for j in range(i):\n",
    "        print(p,end=' ')\n",
    "    p+=1\n",
    "    print()"
   ]
  },
  {
   "cell_type": "code",
   "execution_count": null,
   "id": "e7fc8b07",
   "metadata": {},
   "outputs": [],
   "source": [
    "1 1 1 1 1 1 1 1 1\n",
    "  2 2 2 2 2 2 2\n",
    "    3 3 3 3 3\n",
    "      4 4 4 \n",
    "        5"
   ]
  },
  {
   "cell_type": "code",
   "execution_count": 9,
   "id": "88972dda",
   "metadata": {},
   "outputs": [
    {
     "name": "stdout",
     "output_type": "stream",
     "text": [
      "Please enter no of rows: 5\n",
      "1 1 1 1 1 1 1 1 1 \n",
      "  2 2 2 2 2 2 2 \n",
      "    3 3 3 3 3 \n",
      "      4 4 4 \n",
      "        5 \n"
     ]
    }
   ],
   "source": [
    "n = int(input('Please enter no of rows: '))\n",
    "p=1\n",
    "for i in range(n):\n",
    "    for j in range(i):\n",
    "        print(' ',end=' ')\n",
    "    for j in range(i,n):\n",
    "        print(p,end=' ')\n",
    "    for j in range(i+1,n):\n",
    "        print(p,end=' ')\n",
    "    p+=1\n",
    "    print()"
   ]
  },
  {
   "cell_type": "code",
   "execution_count": 1,
   "id": "13edd042",
   "metadata": {},
   "outputs": [],
   "source": [
    "# Incrementing triangle with 'p+=2'"
   ]
  },
  {
   "cell_type": "code",
   "execution_count": null,
   "id": "387636a2",
   "metadata": {},
   "outputs": [],
   "source": [
    "0\n",
    "2 2\n",
    "4 4 4\n",
    "6 6 6 6\n",
    "8 8 8 8 8"
   ]
  },
  {
   "cell_type": "code",
   "execution_count": 2,
   "id": "e6a27aab",
   "metadata": {},
   "outputs": [
    {
     "name": "stdout",
     "output_type": "stream",
     "text": [
      "Please enter number of rows: 5\n",
      "0 \n",
      "2 2 \n",
      "4 4 4 \n",
      "6 6 6 6 \n",
      "8 8 8 8 8 \n"
     ]
    }
   ],
   "source": [
    "n = int(input('Please enter number of rows: '))\n",
    "p=0\n",
    "for i in range(n):\n",
    "    for j in range(i+1):\n",
    "        print(p,end=' ')\n",
    "    p+=2\n",
    "    print()"
   ]
  },
  {
   "cell_type": "markdown",
   "id": "634a413b",
   "metadata": {},
   "source": [
    "__`2) Decrementing rows:`__"
   ]
  },
  {
   "cell_type": "code",
   "execution_count": null,
   "id": "d254488f",
   "metadata": {},
   "outputs": [],
   "source": [
    "# Decreamenting rows: Initialize variable 'p=5' above for loop and decrement with p-=1 in for loop"
   ]
  },
  {
   "cell_type": "code",
   "execution_count": null,
   "id": "95d1439b",
   "metadata": {},
   "outputs": [],
   "source": [
    "5\n",
    "4 4\n",
    "3 3 3\n",
    "2 2 2 2\n",
    "1 1 1 1 1"
   ]
  },
  {
   "cell_type": "code",
   "execution_count": 26,
   "id": "b0c752c3",
   "metadata": {},
   "outputs": [
    {
     "name": "stdout",
     "output_type": "stream",
     "text": [
      "Please enter number of rows: 5\n",
      "5 \n",
      "4 4 \n",
      "3 3 3 \n",
      "2 2 2 2 \n",
      "1 1 1 1 1 \n"
     ]
    }
   ],
   "source": [
    "n = int(input('Please enter number of rows: '))\n",
    "p=5\n",
    "for i in range(n): # (5) ; (0,5) ; '0',1,2,3,4\n",
    "    for j in range(i+1): # (1) ; (0,1) ; '0'\n",
    "        print(p,end=' ') # p=5\n",
    "    p-=1 # p-=1 ; p=4\n",
    "    print()"
   ]
  },
  {
   "cell_type": "code",
   "execution_count": 11,
   "id": "f8723860",
   "metadata": {},
   "outputs": [
    {
     "name": "stdout",
     "output_type": "stream",
     "text": [
      "Please enter number of rows: 5\n",
      "5 5 5 5 5 \n",
      "4 4 4 4 \n",
      "3 3 3 \n",
      "2 2 \n",
      "1 \n"
     ]
    }
   ],
   "source": [
    "n = int(input('Please enter number of rows: '))\n",
    "p=5\n",
    "for i in range(n):\n",
    "    for j in range(i,n):\n",
    "        print(p,end=' ')\n",
    "    p-=1\n",
    "    print()"
   ]
  },
  {
   "cell_type": "code",
   "execution_count": 1,
   "id": "304d401f",
   "metadata": {},
   "outputs": [],
   "source": [
    "# In hill pattern drawing incrementing columns, no need to increment again and again since rows belongs to for loop only"
   ]
  },
  {
   "cell_type": "code",
   "execution_count": 12,
   "id": "d0c4ae24",
   "metadata": {},
   "outputs": [
    {
     "name": "stdout",
     "output_type": "stream",
     "text": [
      "Please enter no of rows: 5\n",
      "          5 \n",
      "        4 4 4 \n",
      "      3 3 3 3 3 \n",
      "    2 2 2 2 2 2 2 \n",
      "  1 1 1 1 1 1 1 1 1 \n"
     ]
    }
   ],
   "source": [
    "n = int(input('Please enter no of rows: '))\n",
    "p=5\n",
    "for i in range(n):\n",
    "    for j in range(i,n):\n",
    "        print(' ',end=' ')\n",
    "    for j in range(i+1):\n",
    "        print(p,end=' ')\n",
    "    for j in range(i):\n",
    "        print(p,end=' ')\n",
    "    p-=1\n",
    "    print()"
   ]
  },
  {
   "cell_type": "code",
   "execution_count": 13,
   "id": "66d72f37",
   "metadata": {},
   "outputs": [
    {
     "name": "stdout",
     "output_type": "stream",
     "text": [
      "Please enter no of rows: 5\n",
      "5 5 5 5 5 5 5 5 5 \n",
      "  4 4 4 4 4 4 4 \n",
      "    3 3 3 3 3 \n",
      "      2 2 2 \n",
      "        1 \n"
     ]
    }
   ],
   "source": [
    "n = int(input('Please enter no of rows: '))\n",
    "p=5\n",
    "for i in range(n):\n",
    "    for j in range(i):\n",
    "        print(' ',end=' ')\n",
    "    for j in range(i,n):\n",
    "        print(p,end=' ')\n",
    "    for j in range(i+1,n):\n",
    "        print(p,end=' ')\n",
    "    p-=1\n",
    "    print()"
   ]
  },
  {
   "cell_type": "markdown",
   "id": "bc7c6c1f",
   "metadata": {},
   "source": [
    "__`Use of if else condition:`__"
   ]
  },
  {
   "cell_type": "code",
   "execution_count": null,
   "id": "ef6995e2",
   "metadata": {},
   "outputs": [],
   "source": [
    "1\n",
    "2 2\n",
    "1 1 1\n",
    "2 2 2 2\n",
    "1 1 1 1 1"
   ]
  },
  {
   "cell_type": "code",
   "execution_count": 15,
   "id": "c44b81d1",
   "metadata": {
    "scrolled": true
   },
   "outputs": [
    {
     "name": "stdout",
     "output_type": "stream",
     "text": [
      "Please enter number of rows: 5\n",
      "1 \n",
      "2 2 \n",
      "1 1 1 \n",
      "2 2 2 2 \n",
      "1 1 1 1 1 \n"
     ]
    }
   ],
   "source": [
    "n = int(input('Please enter number of rows: '))\n",
    "\n",
    "for i in range(n):\n",
    "    for j in range(i+1):\n",
    "        if i%2==0:\n",
    "            print(1,end=' ')\n",
    "        else:\n",
    "            print('2',end=' ')\n",
    "    print()"
   ]
  },
  {
   "cell_type": "code",
   "execution_count": 16,
   "id": "e2572c78",
   "metadata": {},
   "outputs": [
    {
     "name": "stdout",
     "output_type": "stream",
     "text": [
      "Please enter number of rows: 5\n",
      "$ \n",
      "# # \n",
      "$ $ $ \n",
      "# # # # \n",
      "$ $ $ $ $ \n"
     ]
    }
   ],
   "source": [
    "n = int(input('Please enter number of rows: '))\n",
    "\n",
    "for i in range(n):\n",
    "    for j in range(i+1):\n",
    "        if i%2==0:\n",
    "            print('$',end=' ')\n",
    "        else:\n",
    "            print('#',end=' ')\n",
    "    print()"
   ]
  },
  {
   "cell_type": "code",
   "execution_count": 17,
   "id": "054e4d79",
   "metadata": {},
   "outputs": [
    {
     "name": "stdout",
     "output_type": "stream",
     "text": [
      "Please enter number of rows: 5\n",
      "a \n",
      "b b \n",
      "a a a \n",
      "b b b b \n",
      "a a a a a \n"
     ]
    }
   ],
   "source": [
    "n = int(input('Please enter number of rows: '))\n",
    "\n",
    "for i in range(n):\n",
    "    for j in range(i+1):\n",
    "        if i%2==0:\n",
    "            print('a',end=' ')\n",
    "        else:\n",
    "            print('b',end=' ')\n",
    "    print()"
   ]
  },
  {
   "cell_type": "code",
   "execution_count": 18,
   "id": "4968102e",
   "metadata": {},
   "outputs": [
    {
     "name": "stdout",
     "output_type": "stream",
     "text": [
      "Please enter no of rows: 5\n",
      "          a \n",
      "        b b b \n",
      "      a a a a a \n",
      "    b b b b b b b \n",
      "  a a a a a a a a a \n"
     ]
    }
   ],
   "source": [
    "n = int(input('Please enter no of rows: '))\n",
    "\n",
    "for i in range(n):\n",
    "    for j in range(i,n):\n",
    "        print(' ',end=' ')\n",
    "    for j in range(i+1):\n",
    "        if i%2==0:\n",
    "            print('a',end=' ')\n",
    "        else:\n",
    "            print('b',end=' ')\n",
    "    for j in range(i):\n",
    "        if i%2==0:\n",
    "            print('a',end=' ')\n",
    "        else:\n",
    "            print('b',end=' ')\n",
    "    print()"
   ]
  },
  {
   "cell_type": "code",
   "execution_count": 26,
   "id": "c5ddb0ed",
   "metadata": {},
   "outputs": [
    {
     "name": "stdout",
     "output_type": "stream",
     "text": [
      "Please enter no of rows: 5\n",
      "        a \n",
      "      b b b \n",
      "    a a a a a \n",
      "  b b b b b b b \n",
      "a a a a a a a a a \n",
      "  b b b b b b b \n",
      "    a a a a a \n",
      "      b b b \n",
      "        a \n"
     ]
    }
   ],
   "source": [
    "# Diamond\n",
    "\n",
    "n = int(input('Please enter no of rows: '))\n",
    "for i in range(n-1):\n",
    "    for j in range(i+1,n):\n",
    "        print(' ',end=' ')\n",
    "    for j in range(i+1):\n",
    "        if i%2==0:\n",
    "            print('a',end=' ')\n",
    "        else:\n",
    "            print('b',end=' ')\n",
    "    for j in range(i):\n",
    "        if i%2==0:\n",
    "            print('a',end=' ')\n",
    "        else:\n",
    "            print('b',end=' ')\n",
    "    print()\n",
    "for i in range(n):\n",
    "    for j in range(i):\n",
    "        print(' ',end=' ')\n",
    "    for j in range(i+1,n):\n",
    "        if i%2==0:\n",
    "            print('a',end=' ')\n",
    "        else:\n",
    "            print('b',end=' ')\n",
    "    for j in range(i,n):\n",
    "        if i%2==0:\n",
    "            print('a',end=' ')\n",
    "        else:\n",
    "            print('b',end=' ')\n",
    "    print()"
   ]
  },
  {
   "cell_type": "markdown",
   "id": "f48d1b99",
   "metadata": {},
   "source": [
    "__`3) Doubled in rows:`__"
   ]
  },
  {
   "cell_type": "code",
   "execution_count": null,
   "id": "6831a87b",
   "metadata": {},
   "outputs": [],
   "source": [
    "# Intitialize p=1 above for loop only one time and increment p+=1 in both for loop\n",
    "# If p=1 intialized two times above for loop and incremented by p+=1 two times then code will start from 1 again"
   ]
  },
  {
   "cell_type": "code",
   "execution_count": 27,
   "id": "c7503912",
   "metadata": {},
   "outputs": [
    {
     "name": "stdout",
     "output_type": "stream",
     "text": [
      "Please enter no of rows: 5\n",
      "        1 \n",
      "      2 2 2 \n",
      "    3 3 3 3 3 \n",
      "  4 4 4 4 4 4 4 \n",
      "5 5 5 5 5 5 5 5 5 \n",
      "  6 6 6 6 6 6 6 \n",
      "    7 7 7 7 7 \n",
      "      8 8 8 \n",
      "        9 \n"
     ]
    }
   ],
   "source": [
    "# Increment\n",
    "\n",
    "n = int(input('Please enter no of rows: '))\n",
    "p=1\n",
    "for i in range(n-1):\n",
    "    for j in range(i+1,n):\n",
    "        print(' ',end=' ')\n",
    "    for j in range(i+1):\n",
    "        print(p,end=' ')\n",
    "    for j in range(i):\n",
    "        print(p,end=' ')\n",
    "    p+=1\n",
    "    print()\n",
    "for i in range(n):\n",
    "    for j in range(i):\n",
    "        print(' ',end=' ')\n",
    "    for j in range(i+1,n):\n",
    "        print(p,end=' ')\n",
    "    for j in range(i,n):\n",
    "        print(p,end=' ')\n",
    "    p+=1\n",
    "    print()"
   ]
  },
  {
   "cell_type": "code",
   "execution_count": 3,
   "id": "4e1783c0",
   "metadata": {},
   "outputs": [
    {
     "name": "stdout",
     "output_type": "stream",
     "text": [
      "Please enter no of rows: 5\n",
      "        1 \n",
      "      2 2 2 \n",
      "    3 3 3 3 3 \n",
      "  4 4 4 4 4 4 4 \n",
      "1 1 1 1 1 1 1 1 1 \n",
      "  2 2 2 2 2 2 2 \n",
      "    3 3 3 3 3 \n",
      "      4 4 4 \n",
      "        5 \n"
     ]
    }
   ],
   "source": [
    "# Increment + Increment\n",
    "\n",
    "n = int(input('Please enter no of rows: '))\n",
    "p=1\n",
    "for i in range(n-1):\n",
    "    for j in range(i+1,n):\n",
    "        print(' ',end=' ')\n",
    "    for j in range(i+1):\n",
    "        print(p,end=' ')\n",
    "    for j in range(i):\n",
    "        print(p,end=' ')\n",
    "    p+=1\n",
    "    print()\n",
    "p=1\n",
    "for i in range(n):\n",
    "    for j in range(i):\n",
    "        print(' ',end=' ')\n",
    "    for j in range(i+1,n):\n",
    "        print(p,end=' ')\n",
    "    for j in range(i,n):\n",
    "        print(p,end=' ')\n",
    "    p+=1\n",
    "    print()"
   ]
  },
  {
   "cell_type": "code",
   "execution_count": 28,
   "id": "ffb2184b",
   "metadata": {},
   "outputs": [
    {
     "name": "stdout",
     "output_type": "stream",
     "text": [
      "Please enter no of rows: 5\n",
      "        1 \n",
      "      2 2 2 \n",
      "    3 3 3 3 3 \n",
      "  4 4 4 4 4 4 4 \n",
      "5 5 5 5 5 5 5 5 5 \n",
      "  4 4 4 4 4 4 4 \n",
      "    3 3 3 3 3 \n",
      "      2 2 2 \n",
      "        1 \n"
     ]
    }
   ],
   "source": [
    "# Increment + Decrement (initialize p=1 above for loop  and increment p+=1 for first for loop and then decrement p-=1 for second)\n",
    "\n",
    "n = int(input('Please enter no of rows: '))\n",
    "p=1\n",
    "for i in range(n-1):\n",
    "    for j in range(i+1,n):\n",
    "        print(' ',end=' ')\n",
    "    for j in range(i+1):\n",
    "        print(p,end=' ')\n",
    "    for j in range(i):\n",
    "        print(p,end=' ')\n",
    "    p+=1\n",
    "    print()\n",
    "for i in range(n):\n",
    "    for j in range(i):\n",
    "        print(' ',end=' ')\n",
    "    for j in range(i+1,n):\n",
    "        print(p,end=' ')\n",
    "    for j in range(i,n):\n",
    "        print(p,end=' ')\n",
    "    p-=1\n",
    "    print()"
   ]
  },
  {
   "cell_type": "markdown",
   "id": "86ed233e",
   "metadata": {},
   "source": [
    "__`4) Incrementing columns:`__ Changing column values"
   ]
  },
  {
   "cell_type": "code",
   "execution_count": null,
   "id": "cf65879b",
   "metadata": {},
   "outputs": [],
   "source": [
    "# Initialize p=1 above nested and increment p+=1 in nested"
   ]
  },
  {
   "cell_type": "code",
   "execution_count": null,
   "id": "181cb64e",
   "metadata": {},
   "outputs": [],
   "source": [
    "1\n",
    "1 2\n",
    "1 2 3\n",
    "1 2 3 4\n",
    "1 2 3 4 5"
   ]
  },
  {
   "cell_type": "code",
   "execution_count": 29,
   "id": "04f1436f",
   "metadata": {},
   "outputs": [
    {
     "name": "stdout",
     "output_type": "stream",
     "text": [
      "Please enter number of rows: 5\n",
      "1 \n",
      "1 2 \n",
      "1 2 3 \n",
      "1 2 3 4 \n",
      "1 2 3 4 5 \n"
     ]
    }
   ],
   "source": [
    "n = int(input('Please enter number of rows: '))\n",
    "\n",
    "for i in range(n):\n",
    "    p=1\n",
    "    for j in range(i+1):\n",
    "        print(p,end=' ')\n",
    "        p+=1\n",
    "    print()"
   ]
  },
  {
   "cell_type": "code",
   "execution_count": 30,
   "id": "d30b1af8",
   "metadata": {},
   "outputs": [
    {
     "name": "stdout",
     "output_type": "stream",
     "text": [
      "Please enter number of rows: 5\n",
      "1 2 3 4 5 \n",
      "1 2 3 4 \n",
      "1 2 3 \n",
      "1 2 \n",
      "1 \n"
     ]
    }
   ],
   "source": [
    "n = int(input('Please enter number of rows: '))\n",
    "\n",
    "for i in range(n):\n",
    "    p=1\n",
    "    for j in range(i,n):\n",
    "        print(p,end=' ')\n",
    "        p+=1\n",
    "    print()"
   ]
  },
  {
   "cell_type": "code",
   "execution_count": 5,
   "id": "bbbbc8dd",
   "metadata": {},
   "outputs": [],
   "source": [
    "# In Hill pattern draing incrementing rows we need to increment p+=1 again and again for each nested since columns belongs to nested"
   ]
  },
  {
   "cell_type": "code",
   "execution_count": 38,
   "id": "01eead84",
   "metadata": {},
   "outputs": [
    {
     "name": "stdout",
     "output_type": "stream",
     "text": [
      "Please enter no of rows: 5\n",
      "          1 \n",
      "        1 2 3 \n",
      "      1 2 3 4 5 \n",
      "    1 2 3 4 5 6 7 \n",
      "  1 2 3 4 5 6 7 8 9 \n"
     ]
    }
   ],
   "source": [
    "n = int(input('Please enter no of rows: '))\n",
    "for i in range(n):\n",
    "    p=1\n",
    "    for j in range(i,n):\n",
    "        print(' ',end=' ')\n",
    "    for j in range(i+1):\n",
    "        print(p,end=' ')\n",
    "        p+=1\n",
    "    for j in range(i):\n",
    "        print(p,end=' ')\n",
    "        p+=1\n",
    "    print()"
   ]
  },
  {
   "cell_type": "markdown",
   "id": "bc16f001",
   "metadata": {},
   "source": [
    "__`5) Doubled in rows`__"
   ]
  },
  {
   "cell_type": "code",
   "execution_count": 6,
   "id": "1ff7886b",
   "metadata": {},
   "outputs": [],
   "source": [
    "# Initialize p=1 two times and increment p+=1 in each nested loop"
   ]
  },
  {
   "cell_type": "code",
   "execution_count": 40,
   "id": "56747701",
   "metadata": {},
   "outputs": [
    {
     "name": "stdout",
     "output_type": "stream",
     "text": [
      "Please enter no of rows: 5\n",
      "        1 \n",
      "      1 2 3 \n",
      "    1 2 3 4 5 \n",
      "  1 2 3 4 5 6 7 \n",
      "1 2 3 4 5 6 7 8 9 \n",
      "  1 2 3 4 5 6 7 \n",
      "    1 2 3 4 5 \n",
      "      1 2 3 \n",
      "        1 \n"
     ]
    }
   ],
   "source": [
    "# Increment\n",
    "\n",
    "n = int(input('Please enter no of rows: '))\n",
    "\n",
    "for i in range(n-1):\n",
    "    p=1\n",
    "    for j in range(i+1,n):\n",
    "        print(' ',end=' ')\n",
    "    for j in range(i+1):\n",
    "        print(p,end=' ')\n",
    "        p+=1\n",
    "    for j in range(i):\n",
    "        print(p,end=' ')\n",
    "        p+=1\n",
    "    print()\n",
    "for i in range(n):\n",
    "    p=1\n",
    "    for j in range(i):\n",
    "        print(' ',end=' ')\n",
    "    for j in range(i+1,n):\n",
    "        print(p,end=' ')\n",
    "        p+=1\n",
    "    for j in range(i,n):\n",
    "        print(p,end=' ')\n",
    "        p+=1\n",
    "    print()"
   ]
  },
  {
   "cell_type": "code",
   "execution_count": 45,
   "id": "94a54578",
   "metadata": {},
   "outputs": [
    {
     "name": "stdout",
     "output_type": "stream",
     "text": [
      "Please enter how many number of rows you want: 5\n",
      "1                 1 \n",
      "1 2             1 2 \n",
      "1 2 3         1 2 3 \n",
      "1 2 3 4     1 2 3 4 \n",
      "1 2 3 4 5 1 2 3 4 5 \n",
      "1 2 3 4     1 2 3 4 \n",
      "1 2 3         1 2 3 \n",
      "1 2             1 2 \n",
      "1                 1 \n"
     ]
    }
   ],
   "source": [
    "n = int(input(\"Please enter how many number of rows you want: \")) # Taking user input for number of rows\n",
    "\n",
    "for i in range(n-1):\n",
    "    p=1\n",
    "    for j in range(i+1):\n",
    "        print(p,end=' ')\n",
    "        p+=1\n",
    "    for j in range(i+1,n):\n",
    "        print(' ',end=' ')\n",
    "    p=1\n",
    "    for j in range(i+1,n):\n",
    "        print(' ',end=' ')\n",
    "    for j in range(i+1):\n",
    "        print(p,end=' ')\n",
    "        p+=1\n",
    "    print()\n",
    "for i in range(n):\n",
    "    p=1\n",
    "    for j in range(i,n):\n",
    "        print(p,end=' ')\n",
    "        p+=1\n",
    "    for j in range(i):\n",
    "        print(' ',end= ' ')\n",
    "    for j in range(i):\n",
    "        print(' ',end=' ')\n",
    "    p=1\n",
    "    for j in range(i,n):\n",
    "        print(p,end = ' ')\n",
    "        p+=1\n",
    "    print()"
   ]
  },
  {
   "cell_type": "markdown",
   "id": "15771d72",
   "metadata": {},
   "source": [
    "__`6) Decrementing columns:`__\n",
    "- Decrementing; Initialize p=5 above for loop and p=k below for loop and then decrement p-=1 in nested and decrement k-=1 in for loop."
   ]
  },
  {
   "cell_type": "code",
   "execution_count": 46,
   "id": "dca62374",
   "metadata": {},
   "outputs": [
    {
     "name": "stdout",
     "output_type": "stream",
     "text": [
      "Please enter number of rows: 5\n",
      "5 4 3 2 1 \n",
      "5 4 3 2 \n",
      "5 4 3 \n",
      "5 4 \n",
      "5 \n"
     ]
    }
   ],
   "source": [
    "n = int(input('Please enter number of rows: '))\n",
    "\n",
    "for i in range(n):\n",
    "    p=5\n",
    "    for j in range(i,n):\n",
    "        print(p,end=' ')\n",
    "        p-=1\n",
    "    print()"
   ]
  },
  {
   "cell_type": "code",
   "execution_count": 47,
   "id": "8f9fa254",
   "metadata": {},
   "outputs": [
    {
     "name": "stdout",
     "output_type": "stream",
     "text": [
      "Please enter number of rows: 5\n",
      "5 \n",
      "5 4 \n",
      "5 4 3 \n",
      "5 4 3 2 \n",
      "5 4 3 2 1 \n"
     ]
    }
   ],
   "source": [
    "n = int(input('Please enter number of rows: '))\n",
    "\n",
    "for i in range(n):\n",
    "    p=5\n",
    "    for j in range(i+1):\n",
    "        print(p,end=' ')\n",
    "        p-=1\n",
    "    print()"
   ]
  },
  {
   "cell_type": "markdown",
   "id": "ab8fba34",
   "metadata": {},
   "source": [
    "__`7) Ending with same number value:`__"
   ]
  },
  {
   "cell_type": "code",
   "execution_count": 54,
   "id": "1cb72d77",
   "metadata": {},
   "outputs": [
    {
     "name": "stdout",
     "output_type": "stream",
     "text": [
      "Please enter number of rows: 5\n",
      "  5 4 3 2 1 \n",
      "    4 3 2 1 \n",
      "      3 2 1 \n",
      "        2 1 \n",
      "          1 \n"
     ]
    }
   ],
   "source": [
    "n = int(input('Please enter number of rows: '))\n",
    "k = 5\n",
    "for i in range(n):\n",
    "    p = k\n",
    "    for j in range(i+1):\n",
    "        print(' ',end=' ')\n",
    "    for j in range(i,n):\n",
    "        print(p,end=' ')\n",
    "        p-=1\n",
    "    k-=1\n",
    "    print()"
   ]
  },
  {
   "cell_type": "code",
   "execution_count": 55,
   "id": "4f6c742c",
   "metadata": {},
   "outputs": [
    {
     "name": "stdout",
     "output_type": "stream",
     "text": [
      "Please enter number of rows: 5\n",
      "  5 4 3 2 1 \n",
      "    4 3 2 1 \n",
      "      3 2 1 \n",
      "        2 1 \n",
      "          1 \n"
     ]
    }
   ],
   "source": [
    "# another method\n",
    "\n",
    "n = int(input('Please enter number of rows: '))\n",
    "\n",
    "for i in range(n):\n",
    "    p = n-i\n",
    "    for j in range(i+1):\n",
    "        print(' ',end=' ')\n",
    "    for j in range(i,n):\n",
    "        print(p,end=' ')\n",
    "        p-=1\n",
    "    print()"
   ]
  },
  {
   "cell_type": "code",
   "execution_count": 61,
   "id": "5c199deb",
   "metadata": {},
   "outputs": [
    {
     "name": "stdout",
     "output_type": "stream",
     "text": [
      "Please enter no of rows: 5\n",
      "          1 \n",
      "        1 2 1 \n",
      "      1 2 3 2 1 \n",
      "    1 2 3 4 3 2 1 \n",
      "  1 2 3 4 5 4 3 2 1 \n"
     ]
    }
   ],
   "source": [
    "n = int(input('Please enter no of rows: '))\n",
    "\n",
    "for i in range(n):\n",
    "    p=1\n",
    "    for j in range(i,n):\n",
    "        print(' ',end=' ')\n",
    "    for j in range(i):\n",
    "        print(p,end=' ')\n",
    "        p+=1\n",
    "    for j in range(i+1):\n",
    "        print(p,end=' ')\n",
    "        p-=1\n",
    "    print()"
   ]
  },
  {
   "cell_type": "markdown",
   "id": "2c83b088",
   "metadata": {},
   "source": [
    "__`8) Changing rows and columns both:`__"
   ]
  },
  {
   "cell_type": "code",
   "execution_count": 31,
   "id": "9629e904",
   "metadata": {},
   "outputs": [],
   "source": [
    "# Floyd triangle"
   ]
  },
  {
   "cell_type": "code",
   "execution_count": null,
   "id": "64514f09",
   "metadata": {},
   "outputs": [],
   "source": [
    "1\n",
    "2 3\n",
    "4 5 6\n",
    "7 8 9 10"
   ]
  },
  {
   "cell_type": "code",
   "execution_count": 64,
   "id": "0b9c3da0",
   "metadata": {},
   "outputs": [
    {
     "name": "stdout",
     "output_type": "stream",
     "text": [
      "Please enter number of rows: 4\n",
      "1 \n",
      "2 3 \n",
      "4 5 6 \n",
      "7 8 9 10 \n"
     ]
    }
   ],
   "source": [
    "n = int(input('Please enter number of rows: '))\n",
    "p=1\n",
    "for i in range(n):\n",
    "    for j in range(i+1):\n",
    "        print(p,end=' ')\n",
    "        p+=1\n",
    "    print()"
   ]
  },
  {
   "cell_type": "markdown",
   "id": "dcdbded8",
   "metadata": {},
   "source": [
    "__`Assignment Questions:`__"
   ]
  },
  {
   "cell_type": "code",
   "execution_count": null,
   "id": "80814a2e",
   "metadata": {},
   "outputs": [],
   "source": [
    "1\n",
    "1 2\n",
    "1 2 3\n",
    "1 2 3 4\n",
    "1 2 3 4 5"
   ]
  },
  {
   "cell_type": "code",
   "execution_count": 65,
   "id": "540cf8b4",
   "metadata": {},
   "outputs": [
    {
     "name": "stdout",
     "output_type": "stream",
     "text": [
      "Please enter number of rows: 5\n",
      "1 \n",
      "1 2 \n",
      "1 2 3 \n",
      "1 2 3 4 \n",
      "1 2 3 4 5 \n"
     ]
    }
   ],
   "source": [
    "n = int(input('Please enter number of rows: '))\n",
    "\n",
    "for i in range(n):\n",
    "    p=1\n",
    "    for j in range(i+1):\n",
    "        print(p,end=' ')\n",
    "        p+=1\n",
    "    print()"
   ]
  },
  {
   "cell_type": "code",
   "execution_count": null,
   "id": "ca8a5ff3",
   "metadata": {},
   "outputs": [],
   "source": [
    "1\n",
    "2 3\n",
    "4 5 6\n",
    "7 8 9 10\n",
    "11 12 13 14 15"
   ]
  },
  {
   "cell_type": "code",
   "execution_count": 67,
   "id": "6589395a",
   "metadata": {},
   "outputs": [
    {
     "name": "stdout",
     "output_type": "stream",
     "text": [
      "Please enter number of rows: 5\n",
      "1 \n",
      "2 3 \n",
      "4 5 6 \n",
      "7 8 9 10 \n",
      "11 12 13 14 15 \n"
     ]
    }
   ],
   "source": [
    "# Floyd triangle\n",
    "\n",
    "n = int(input('Please enter number of rows: '))\n",
    "p = 1\n",
    "for i in range(n):\n",
    "    for j in range(i+1):\n",
    "        print(p,end=' ')\n",
    "        p+=1\n",
    "    print()"
   ]
  },
  {
   "cell_type": "code",
   "execution_count": null,
   "id": "528af95a",
   "metadata": {},
   "outputs": [],
   "source": [
    "1 1 1 1 1\n",
    "2 2 2 2\n",
    "3 3 3\n",
    "4 4\n",
    "5"
   ]
  },
  {
   "cell_type": "code",
   "execution_count": 68,
   "id": "20679422",
   "metadata": {},
   "outputs": [
    {
     "name": "stdout",
     "output_type": "stream",
     "text": [
      "Please enter number of rows: 5\n",
      "1 1 1 1 1 \n",
      "2 2 2 2 \n",
      "3 3 3 \n",
      "4 4 \n",
      "5 \n"
     ]
    }
   ],
   "source": [
    "n = int(input('Please enter number of rows: '))\n",
    "p=1\n",
    "for i in range(n):\n",
    "    for j in range(i,n):\n",
    "        print(p,end=' ')\n",
    "    p+=1\n",
    "    print()"
   ]
  },
  {
   "cell_type": "code",
   "execution_count": null,
   "id": "f100036d",
   "metadata": {},
   "outputs": [],
   "source": [
    "6 6 6 6 6 6\n",
    "5 5 5 5 5\n",
    "4 4 4 4\n",
    "3 3 3\n",
    "2 2\n",
    "1"
   ]
  },
  {
   "cell_type": "code",
   "execution_count": 69,
   "id": "1cb808e0",
   "metadata": {},
   "outputs": [
    {
     "name": "stdout",
     "output_type": "stream",
     "text": [
      "Please enter number of rows: 6\n",
      "6 6 6 6 6 6 \n",
      "5 5 5 5 5 \n",
      "4 4 4 4 \n",
      "3 3 3 \n",
      "2 2 \n",
      "1 \n"
     ]
    }
   ],
   "source": [
    "n = int(input('Please enter number of rows: '))\n",
    "p=6\n",
    "for i in range(n):\n",
    "    for j in range(i,n):\n",
    "        print(p,end=' ')\n",
    "    p-=1\n",
    "    print()"
   ]
  },
  {
   "cell_type": "code",
   "execution_count": null,
   "id": "d36d0ee2",
   "metadata": {},
   "outputs": [],
   "source": [
    "0 1 2 3 4 5\n",
    "0 1 2 3 4\n",
    "0 1 2 3\n",
    "0 1 2\n",
    "0 1"
   ]
  },
  {
   "cell_type": "code",
   "execution_count": 73,
   "id": "92bf812b",
   "metadata": {},
   "outputs": [
    {
     "name": "stdout",
     "output_type": "stream",
     "text": [
      "Please enter number of rows: 6\n",
      "0 1 2 3 4 5 \n",
      "0 1 2 3 4 \n",
      "0 1 2 3 \n",
      "0 1 2 \n",
      "0 1 \n"
     ]
    }
   ],
   "source": [
    "n = int(input('Please enter number of rows: '))\n",
    "for i in range(n-1):\n",
    "    p=0\n",
    "    for j in range(i,n):\n",
    "        print(p,end=' ')\n",
    "        p+=1\n",
    "    print()"
   ]
  },
  {
   "cell_type": "code",
   "execution_count": null,
   "id": "69e01aee",
   "metadata": {},
   "outputs": [],
   "source": [
    "1\n",
    "2 3 4\n",
    "5 6 7 8 9"
   ]
  },
  {
   "cell_type": "code",
   "execution_count": 12,
   "id": "60675176",
   "metadata": {},
   "outputs": [
    {
     "name": "stdout",
     "output_type": "stream",
     "text": [
      "Please enter number of rows: 5\n",
      "1 \n",
      "2 3 4 \n",
      "5 6 7 8 9 \n"
     ]
    }
   ],
   "source": [
    "n = int(input('Please enter number of rows: '))\n",
    "p = 1\n",
    "for i in range(0,n,2):\n",
    "    for j in range(i+1):\n",
    "        print(p,end=' ')\n",
    "        p+=1\n",
    "    print()\n",
    "    "
   ]
  },
  {
   "cell_type": "code",
   "execution_count": null,
   "id": "c094a959",
   "metadata": {},
   "outputs": [],
   "source": [
    "6 5 4 3 2 1\n",
    "5 4 3 2 1\n",
    "4 3 2 1\n",
    "3 2 1\n",
    "2 1\n",
    "1"
   ]
  },
  {
   "cell_type": "code",
   "execution_count": 84,
   "id": "c85c46ff",
   "metadata": {},
   "outputs": [
    {
     "name": "stdout",
     "output_type": "stream",
     "text": [
      "Please enter number of rows: 6\n",
      "6 5 4 3 2 1 \n",
      "5 4 3 2 1 \n",
      "4 3 2 1 \n",
      "3 2 1 \n",
      "2 1 \n",
      "1 \n"
     ]
    }
   ],
   "source": [
    "n = int(input('Please enter number of rows: '))\n",
    "k=6\n",
    "for i in range(n):\n",
    "    p=k\n",
    "    for j in range(i,n):\n",
    "        print(p,end=' ')  \n",
    "        p-=1\n",
    "    k-=1\n",
    "    print()"
   ]
  },
  {
   "cell_type": "code",
   "execution_count": null,
   "id": "d01dc310",
   "metadata": {},
   "outputs": [],
   "source": [
    "1\n",
    "3 3\n",
    "5 5 5\n",
    "7 7 7 7\n",
    "9 9 9 9 9"
   ]
  },
  {
   "cell_type": "code",
   "execution_count": 88,
   "id": "24be7da5",
   "metadata": {},
   "outputs": [
    {
     "name": "stdout",
     "output_type": "stream",
     "text": [
      "Please enter number of rows: 5\n",
      "1 \n",
      "3 3 \n",
      "5 5 5 \n",
      "7 7 7 7 \n",
      "9 9 9 9 9 \n"
     ]
    }
   ],
   "source": [
    "n = int(input('Please enter number of rows: '))\n",
    "p=1\n",
    "for i in range(n):\n",
    "    for j in range(i+1):\n",
    "        print(p,end=' ')\n",
    "    p+=2\n",
    "    print()"
   ]
  },
  {
   "cell_type": "code",
   "execution_count": null,
   "id": "f905340a",
   "metadata": {},
   "outputs": [],
   "source": [
    "        1\n",
    "      1 2\n",
    "    1 2 3\n",
    "  1 2 3 4\n",
    "1 2 3 4 5"
   ]
  },
  {
   "cell_type": "code",
   "execution_count": 89,
   "id": "c48c0071",
   "metadata": {},
   "outputs": [
    {
     "name": "stdout",
     "output_type": "stream",
     "text": [
      "Please enter number of rows: 5\n",
      "          1 \n",
      "        1 2 \n",
      "      1 2 3 \n",
      "    1 2 3 4 \n",
      "  1 2 3 4 5 \n"
     ]
    }
   ],
   "source": [
    "n = int(input('Please enter number of rows: '))\n",
    "\n",
    "for i in range(n):\n",
    "    p=1\n",
    "    for j in range(i,n):\n",
    "        print(' ',end=' ')\n",
    "    for j in range(i+1):\n",
    "        print(p,end=' ')\n",
    "        p+=1\n",
    "    print()"
   ]
  },
  {
   "cell_type": "code",
   "execution_count": null,
   "id": "a0ff9492",
   "metadata": {},
   "outputs": [],
   "source": [
    "1 2 3 4 5\n",
    "2 2 3 4 5\n",
    "3 3 3 4 5\n",
    "4 4 4 4 5\n",
    "5 5 5 5 5"
   ]
  },
  {
   "cell_type": "code",
   "execution_count": 99,
   "id": "3dc39a42",
   "metadata": {},
   "outputs": [
    {
     "name": "stdout",
     "output_type": "stream",
     "text": [
      "Please enter number of rows: 5\n",
      "1 2 3 4 5 \n",
      "2 2 3 4 5 \n",
      "3 3 3 4 5 \n",
      "4 4 4 4 5 \n",
      "5 5 5 5 5 \n"
     ]
    }
   ],
   "source": [
    "n = int(input('Please enter number of rows: '))\n",
    "k=1\n",
    "m=2\n",
    "for i in range(n):\n",
    "    for j in range(i+1):\n",
    "        print(k,end=' ')\n",
    "    k+=1\n",
    "    p=m\n",
    "    for j in range(i+1,n):\n",
    "        print(p,end=' ')\n",
    "        p+=1\n",
    "    m+=1\n",
    "    print()"
   ]
  },
  {
   "cell_type": "code",
   "execution_count": 102,
   "id": "fed2c148",
   "metadata": {},
   "outputs": [
    {
     "name": "stdout",
     "output_type": "stream",
     "text": [
      "1 2 3 4 5 \n",
      "2 2 3 4 5 \n",
      "3 3 3 4 5 \n",
      "4 4 4 4 5 \n",
      "5 5 5 5 5 \n"
     ]
    }
   ],
   "source": [
    "#Using i,j\n",
    "\n",
    "for i in range(1, 6):\n",
    "    for j in range(i):\n",
    "        print(i, end=' ')\n",
    "    for k in range(i+1, 6):\n",
    "        print(k, end=' ')    \n",
    "    print()"
   ]
  },
  {
   "cell_type": "code",
   "execution_count": 103,
   "id": "d3e637b3",
   "metadata": {},
   "outputs": [
    {
     "name": "stdout",
     "output_type": "stream",
     "text": [
      "1 2 3 4 5 \n",
      "2 2 3 4 5 \n",
      "3 3 3 4 5 \n",
      "4 4 4 4 5 \n",
      "5 5 5 5 5 \n"
     ]
    }
   ],
   "source": [
    "# while loop\n",
    "\n",
    "i = 1\n",
    "while i < 6:\n",
    "    j = 1\n",
    "    while j <= i:\n",
    "        print(i, end=' ')\n",
    "        j += 1\n",
    "    k = i+1\n",
    "    while k < 6:\n",
    "        print(k, end=' ')\n",
    "        k += 1 \n",
    "    print()\n",
    "    i += 1"
   ]
  },
  {
   "cell_type": "code",
   "execution_count": null,
   "id": "9d2636fc",
   "metadata": {},
   "outputs": [],
   "source": [
    "1\n",
    "2 4\n",
    "3 6 9\n",
    "4 8 12 16\n",
    "5 10 15 20 25\n",
    "6 12 18 24 30 36\n",
    "7 14 21 28 35 42 49"
   ]
  },
  {
   "cell_type": "code",
   "execution_count": 18,
   "id": "e66446ca",
   "metadata": {},
   "outputs": [
    {
     "name": "stdout",
     "output_type": "stream",
     "text": [
      "Please enter number of rows: 7\n",
      "1 \n",
      "2 4 \n",
      "3 6 9 \n",
      "4 8 12 16 \n",
      "5 10 15 20 25 \n",
      "6 12 18 24 30 36 \n",
      "7 14 21 28 35 42 49 \n"
     ]
    }
   ],
   "source": [
    "n = int(input('Please enter number of rows: '))\n",
    "p=1\n",
    "for i in range(n):\n",
    "    q=1\n",
    "    for j in range(i+1):\n",
    "        print(p*q,end=' ')\n",
    "        q+=1\n",
    "    p+=1\n",
    "    print()"
   ]
  },
  {
   "cell_type": "code",
   "execution_count": null,
   "id": "14886bc8",
   "metadata": {},
   "outputs": [],
   "source": [
    "1\n",
    "2 1\n",
    "4 2 1\n",
    "8 4 2 1\n",
    "16 8 4 2 1\n",
    "32 16 8 4 2 1\n",
    "64 32 16 8 4 2 1\n",
    "128 64 32 16 8 4 2 1"
   ]
  },
  {
   "cell_type": "code",
   "execution_count": 24,
   "id": "40783084",
   "metadata": {},
   "outputs": [
    {
     "name": "stdout",
     "output_type": "stream",
     "text": [
      "Please enter number of rows: 8\n",
      "1 \n",
      "2 1 \n",
      "4 2 1 \n",
      "8 4 2 1 \n",
      "16 8 4 2 1 \n",
      "32 16 8 4 2 1 \n",
      "64 32 16 8 4 2 1 \n",
      "128 64 32 16 8 4 2 1 \n"
     ]
    }
   ],
   "source": [
    "n = int(input('Please enter number of rows: ')) \n",
    "p=1\n",
    "for i in range(n):\n",
    "    k=1\n",
    "    for j in range(i+1):\n",
    "        print(2**(p-k),end=' ')\n",
    "        k+=1\n",
    "    p+=1\n",
    "    print()"
   ]
  }
 ],
 "metadata": {
  "kernelspec": {
   "display_name": "Python 3 (ipykernel)",
   "language": "python",
   "name": "python3"
  },
  "language_info": {
   "codemirror_mode": {
    "name": "ipython",
    "version": 3
   },
   "file_extension": ".py",
   "mimetype": "text/x-python",
   "name": "python",
   "nbconvert_exporter": "python",
   "pygments_lexer": "ipython3",
   "version": "3.9.12"
  }
 },
 "nbformat": 4,
 "nbformat_minor": 5
}
