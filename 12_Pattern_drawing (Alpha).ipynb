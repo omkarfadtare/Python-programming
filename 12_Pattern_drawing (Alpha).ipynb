{
 "cells": [
  {
   "cell_type": "markdown",
   "id": "31b6d430",
   "metadata": {},
   "source": [
    "## Pattern Drawing (Alpha) made easy\n",
    "- Build two separate logic one to make pattern and other to make order of alphabetes: __`Pattern + Order of alphabets`__\n",
    "- Use ASCII code (In computer ASCII code represents character) and __`chr()`__ function to achieve this.\n",
    "- __`(A-Z) >> (65-90), (a-z) >> (97-122)`__"
   ]
  },
  {
   "cell_type": "markdown",
   "id": "536b0c0f",
   "metadata": {},
   "source": [
    "__`1) Printing same alphabete:`__"
   ]
  },
  {
   "cell_type": "code",
   "execution_count": null,
   "id": "4e62033f",
   "metadata": {},
   "outputs": [],
   "source": [
    "A\n",
    "A A\n",
    "A A A\n",
    "A A A A\n",
    "A A A A A"
   ]
  },
  {
   "cell_type": "code",
   "execution_count": 3,
   "id": "27a1e061",
   "metadata": {},
   "outputs": [
    {
     "name": "stdout",
     "output_type": "stream",
     "text": [
      "Please enter number of rows: 5\n",
      "A \n",
      "A A \n",
      "A A A \n",
      "A A A A \n",
      "A A A A A \n"
     ]
    }
   ],
   "source": [
    "n = int(input('Please enter number of rows: '))\n",
    "for i in range(n):\n",
    "    for j in range(i+1):\n",
    "        print('A',end=' ')\n",
    "    print()"
   ]
  },
  {
   "cell_type": "code",
   "execution_count": 4,
   "id": "b67b6743",
   "metadata": {},
   "outputs": [
    {
     "name": "stdout",
     "output_type": "stream",
     "text": [
      "Please enter number of rows: 5\n",
      "A A A A A \n",
      "A A A A \n",
      "A A A \n",
      "A A \n",
      "A \n"
     ]
    }
   ],
   "source": [
    "n = int(input('Please enter number of rows: '))\n",
    "for i in range(n):\n",
    "    for j in range(i,n):\n",
    "        print('A',end=' ')\n",
    "    print()"
   ]
  },
  {
   "cell_type": "code",
   "execution_count": 6,
   "id": "25254d24",
   "metadata": {},
   "outputs": [
    {
     "name": "stdout",
     "output_type": "stream",
     "text": [
      "Please enter number of rows: 5\n",
      "        A \n",
      "      A A A \n",
      "    A A A A A \n",
      "  A A A A A A A \n",
      "A A A A A A A A A \n"
     ]
    }
   ],
   "source": [
    "n = int(input('Please enter number of rows: '))\n",
    "for i in range(n):\n",
    "    for j in range(i+1,n):\n",
    "        print(' ',end=' ')\n",
    "    for j in range(i+1):\n",
    "        print('A',end=' ')\n",
    "    for j in range(i):\n",
    "        print('A',end=' ')\n",
    "    print()"
   ]
  },
  {
   "cell_type": "code",
   "execution_count": 7,
   "id": "608af1b4",
   "metadata": {},
   "outputs": [
    {
     "name": "stdout",
     "output_type": "stream",
     "text": [
      "Please enter number of rows: 5\n",
      "A A A A A A A A A \n",
      "  A A A A A A A \n",
      "    A A A A A \n",
      "      A A A \n",
      "        A \n"
     ]
    }
   ],
   "source": [
    "n = int(input('Please enter number of rows: '))\n",
    "for i in range(n):\n",
    "    for j in range(i):\n",
    "        print(' ',end=' ')\n",
    "    for j in range(i,n):\n",
    "        print('A',end=' ')\n",
    "    for j in range(i+1,n):\n",
    "        print('A',end=' ')\n",
    "    print()"
   ]
  },
  {
   "cell_type": "code",
   "execution_count": 9,
   "id": "9c7c2751",
   "metadata": {},
   "outputs": [
    {
     "name": "stdout",
     "output_type": "stream",
     "text": [
      "Please enter number of rows: 5\n",
      "        A \n",
      "      A A A \n",
      "    A A A A A \n",
      "  A A A A A A A \n",
      "A A A A A A A A A \n",
      "  A A A A A A A \n",
      "    A A A A A \n",
      "      A A A \n",
      "        A \n"
     ]
    }
   ],
   "source": [
    "n = int(input('Please enter number of rows: '))\n",
    "for i in range(n-1):\n",
    "    for j in range(i+1,n):\n",
    "        print(' ',end=' ')\n",
    "    for j in range(i+1):\n",
    "        print('A',end=' ')\n",
    "    for j in range(i):\n",
    "        print('A',end=' ')\n",
    "    print()\n",
    "    \n",
    "for i in range(n):\n",
    "    for j in range(i):\n",
    "        print(' ',end=' ')\n",
    "    for j in range(i,n):\n",
    "        print('A',end=' ')\n",
    "    for j in range(i+1,n):\n",
    "        print('A',end=' ')\n",
    "    print()"
   ]
  },
  {
   "cell_type": "markdown",
   "id": "1d55ad85",
   "metadata": {},
   "source": [
    "__`2) Changing row alphabetes:`__ Incrementing ASCII values"
   ]
  },
  {
   "cell_type": "code",
   "execution_count": 13,
   "id": "af9fc35d",
   "metadata": {},
   "outputs": [],
   "source": [
    "# Initialize vvalue of p=65 above for loop and increment p+=1 in for loop since for loop belongs to rows.\n",
    "# Use chr() function to access characters of ASCII code"
   ]
  },
  {
   "cell_type": "code",
   "execution_count": 11,
   "id": "5ac80797",
   "metadata": {},
   "outputs": [
    {
     "name": "stdout",
     "output_type": "stream",
     "text": [
      "Please enter number of rows: 5\n",
      "A \n",
      "B B \n",
      "C C C \n",
      "D D D D \n",
      "E E E E E \n"
     ]
    }
   ],
   "source": [
    "n = int(input('Please enter number of rows: '))\n",
    "p = 65\n",
    "for i in range(n):\n",
    "    for j in range(i+1):\n",
    "        print(chr(p),end=' ')\n",
    "    p+=1\n",
    "    print()"
   ]
  },
  {
   "cell_type": "code",
   "execution_count": 12,
   "id": "84b32c30",
   "metadata": {},
   "outputs": [
    {
     "name": "stdout",
     "output_type": "stream",
     "text": [
      "Please enter number of rows: 5\n",
      "A A A A A \n",
      "B B B B \n",
      "C C C \n",
      "D D \n",
      "E \n"
     ]
    }
   ],
   "source": [
    "n = int(input('Please enter number of rows: '))\n",
    "p=65\n",
    "for i in range(n):\n",
    "    for j in range(i,n):\n",
    "        print(chr(p),end=' ')\n",
    "    p+=1\n",
    "    print()"
   ]
  },
  {
   "cell_type": "code",
   "execution_count": 13,
   "id": "03a4f05f",
   "metadata": {},
   "outputs": [
    {
     "name": "stdout",
     "output_type": "stream",
     "text": [
      "Please enter number of rows: 5\n",
      "        A \n",
      "      B B B \n",
      "    C C C C C \n",
      "  D D D D D D D \n",
      "E E E E E E E E E \n"
     ]
    }
   ],
   "source": [
    "n = int(input('Please enter number of rows: '))\n",
    "p=65\n",
    "for i in range(n):\n",
    "    for j in range(i+1,n):\n",
    "        print(' ',end=' ')\n",
    "    for j in range(i+1):\n",
    "        print(chr(p),end=' ')\n",
    "    for j in range(i):\n",
    "        print(chr(p),end=' ')\n",
    "    p+=1\n",
    "    print()"
   ]
  },
  {
   "cell_type": "code",
   "execution_count": 14,
   "id": "af23bf79",
   "metadata": {},
   "outputs": [
    {
     "name": "stdout",
     "output_type": "stream",
     "text": [
      "Please enter number of rows: 5\n",
      "A A A A A A A A A \n",
      "  B B B B B B B \n",
      "    C C C C C \n",
      "      D D D \n",
      "        E \n"
     ]
    }
   ],
   "source": [
    "n = int(input('Please enter number of rows: '))\n",
    "p=65\n",
    "for i in range(n):\n",
    "    for j in range(i):\n",
    "        print(' ',end=' ')\n",
    "    for j in range(i,n):\n",
    "        print(chr(p),end=' ')\n",
    "    for j in range(i+1,n):\n",
    "        print(chr(p),end=' ')\n",
    "    p+=1\n",
    "    print()"
   ]
  },
  {
   "cell_type": "markdown",
   "id": "c1af3ef3",
   "metadata": {},
   "source": [
    "__`3) Decrementing ASCII codes:`__"
   ]
  },
  {
   "cell_type": "code",
   "execution_count": 14,
   "id": "b8afdd1d",
   "metadata": {},
   "outputs": [],
   "source": [
    "# Initialize p=69 above for loop and decrement p-=1 in for loop"
   ]
  },
  {
   "cell_type": "code",
   "execution_count": 16,
   "id": "0f6214ae",
   "metadata": {},
   "outputs": [
    {
     "name": "stdout",
     "output_type": "stream",
     "text": [
      "Please enter number of rows: 5\n",
      "E \n",
      "D D \n",
      "C C C \n",
      "B B B B \n",
      "A A A A A \n"
     ]
    }
   ],
   "source": [
    "n = int(input('Please enter number of rows: '))\n",
    "p = 69\n",
    "for i in range(n):\n",
    "    for j in range(i+1):\n",
    "        print(chr(p),end=' ')\n",
    "    p-=1\n",
    "    print()"
   ]
  },
  {
   "cell_type": "code",
   "execution_count": 17,
   "id": "54b858bf",
   "metadata": {},
   "outputs": [
    {
     "name": "stdout",
     "output_type": "stream",
     "text": [
      "Please enter number of rows: 5\n",
      "E E E E E \n",
      "D D D D \n",
      "C C C \n",
      "B B \n",
      "A \n"
     ]
    }
   ],
   "source": [
    "n = int(input('Please enter number of rows: '))\n",
    "p=69\n",
    "for i in range(n):\n",
    "    for j in range(i,n):\n",
    "        print(chr(p),end=' ')\n",
    "    p-=1\n",
    "    print()"
   ]
  },
  {
   "cell_type": "code",
   "execution_count": 18,
   "id": "c68c1c09",
   "metadata": {},
   "outputs": [
    {
     "name": "stdout",
     "output_type": "stream",
     "text": [
      "Please enter number of rows: 5\n",
      "        E \n",
      "      D D D \n",
      "    C C C C C \n",
      "  B B B B B B B \n",
      "A A A A A A A A A \n"
     ]
    }
   ],
   "source": [
    "n = int(input('Please enter number of rows: '))\n",
    "p=69\n",
    "for i in range(n):\n",
    "    for j in range(i+1,n):\n",
    "        print(' ',end=' ')\n",
    "    for j in range(i+1):\n",
    "        print(chr(p),end=' ')\n",
    "    for j in range(i):\n",
    "        print(chr(p),end=' ')\n",
    "    p-=1\n",
    "    print()"
   ]
  },
  {
   "cell_type": "code",
   "execution_count": 19,
   "id": "f679866b",
   "metadata": {},
   "outputs": [
    {
     "name": "stdout",
     "output_type": "stream",
     "text": [
      "Please enter number of rows: 5\n",
      "E E E E E E E E E \n",
      "  D D D D D D D \n",
      "    C C C C C \n",
      "      B B B \n",
      "        A \n"
     ]
    }
   ],
   "source": [
    "n = int(input('Please enter number of rows: '))\n",
    "p=69\n",
    "for i in range(n):\n",
    "    for j in range(i):\n",
    "        print(' ',end=' ')\n",
    "    for j in range(i,n):\n",
    "        print(chr(p),end=' ')\n",
    "    for j in range(i+1,n):\n",
    "        print(chr(p),end=' ')\n",
    "    p-=1\n",
    "    print()"
   ]
  },
  {
   "cell_type": "code",
   "execution_count": 15,
   "id": "29e02538",
   "metadata": {},
   "outputs": [],
   "source": [
    "# Decrementing ASCII codes by 2"
   ]
  },
  {
   "cell_type": "code",
   "execution_count": null,
   "id": "370b6378",
   "metadata": {},
   "outputs": [],
   "source": [
    "A\n",
    "C C\n",
    "E E E\n",
    "G G G G\n",
    "I I I I I"
   ]
  },
  {
   "cell_type": "code",
   "execution_count": 20,
   "id": "f51752ec",
   "metadata": {},
   "outputs": [
    {
     "name": "stdout",
     "output_type": "stream",
     "text": [
      "Please enter number of rows: 5\n",
      "A \n",
      "C C \n",
      "E E E \n",
      "G G G G \n",
      "I I I I I \n"
     ]
    }
   ],
   "source": [
    "n = int(input('Please enter number of rows: '))\n",
    "p = 65\n",
    "for i in range(n):\n",
    "    for j in range(i+1):\n",
    "        print(chr(p),end=' ')\n",
    "    p+=2\n",
    "    print()"
   ]
  },
  {
   "cell_type": "markdown",
   "id": "7b4a7b50",
   "metadata": {},
   "source": [
    "__`4) Use of if-else condition:`__"
   ]
  },
  {
   "cell_type": "code",
   "execution_count": null,
   "id": "a4ec51c5",
   "metadata": {},
   "outputs": [],
   "source": [
    "A\n",
    "B B\n",
    "A A A\n",
    "B B B B\n",
    "A A A A A"
   ]
  },
  {
   "cell_type": "code",
   "execution_count": 22,
   "id": "aadd23e1",
   "metadata": {},
   "outputs": [
    {
     "name": "stdout",
     "output_type": "stream",
     "text": [
      "Please enter number of rows: 5\n",
      "A \n",
      "B B \n",
      "A A A \n",
      "B B B B \n",
      "A A A A A \n"
     ]
    }
   ],
   "source": [
    "n = int(input('Please enter number of rows: '))\n",
    "for i in range(n):\n",
    "    for j in range(i+1):\n",
    "        if i%2==0:\n",
    "            print('A',end=' ')\n",
    "        else:\n",
    "            print('B',end=' ')\n",
    "    print()"
   ]
  },
  {
   "cell_type": "code",
   "execution_count": null,
   "id": "b744b739",
   "metadata": {},
   "outputs": [],
   "source": [
    "Z\n",
    "O O\n",
    "Z Z Z\n",
    "O O O O\n",
    "Z Z Z Z Z"
   ]
  },
  {
   "cell_type": "code",
   "execution_count": 23,
   "id": "4f9eebb3",
   "metadata": {},
   "outputs": [
    {
     "name": "stdout",
     "output_type": "stream",
     "text": [
      "Please enter number of rows: 5\n",
      "Z \n",
      "O O \n",
      "Z Z Z \n",
      "O O O O \n",
      "Z Z Z Z Z \n"
     ]
    }
   ],
   "source": [
    "n = int(input('Please enter number of rows: '))\n",
    "for i in range(n):\n",
    "    for j in range(i+1):\n",
    "        if i%2==0:\n",
    "            print('Z',end=' ')\n",
    "        else:\n",
    "            print('O',end=' ')\n",
    "    print()"
   ]
  },
  {
   "cell_type": "code",
   "execution_count": null,
   "id": "f86d09de",
   "metadata": {},
   "outputs": [],
   "source": [
    "        A\n",
    "      # # # \n",
    "    A A A A A\n",
    "  # # # # # # #\n",
    "A A A A A A A A A"
   ]
  },
  {
   "cell_type": "code",
   "execution_count": 24,
   "id": "0581904f",
   "metadata": {},
   "outputs": [
    {
     "name": "stdout",
     "output_type": "stream",
     "text": [
      "Please enter number of rows: 5\n",
      "        A \n",
      "      # # # \n",
      "    A A A A A \n",
      "  # # # # # # # \n",
      "A A A A A A A A A \n"
     ]
    }
   ],
   "source": [
    "n = int(input('Please enter number of rows: '))\n",
    "\n",
    "for i in range(n):\n",
    "    for j in range(i+1,n):\n",
    "        print(' ',end=' ')\n",
    "    for j in range(i+1):\n",
    "        if i%2==0:\n",
    "            print('A',end=' ')\n",
    "        else:\n",
    "            print('#',end=' ')\n",
    "    for j in range(i):\n",
    "        if i%2==0:\n",
    "            print('A',end=' ')\n",
    "        else:\n",
    "            print('#',end=' ')\n",
    "    print()"
   ]
  },
  {
   "cell_type": "code",
   "execution_count": null,
   "id": "e6865138",
   "metadata": {},
   "outputs": [],
   "source": [
    "Z Z Z Z Z Z Z Z Z \n",
    "  O O O O O O O\n",
    "    Z Z Z Z Z\n",
    "      O O O\n",
    "        Z"
   ]
  },
  {
   "cell_type": "code",
   "execution_count": 25,
   "id": "1fa61db4",
   "metadata": {},
   "outputs": [
    {
     "name": "stdout",
     "output_type": "stream",
     "text": [
      "Please enter number of rows: 5\n",
      "Z Z Z Z Z Z Z Z Z \n",
      "  O O O O O O O \n",
      "    Z Z Z Z Z \n",
      "      O O O \n",
      "        Z \n"
     ]
    }
   ],
   "source": [
    "n = int(input('Please enter number of rows: '))\n",
    "\n",
    "for i in range(n):\n",
    "    for j in range(i):\n",
    "        print(' ',end=' ')\n",
    "    for j in range(i+1,n):\n",
    "        if i%2==0:\n",
    "            print('Z',end=' ')\n",
    "        else:\n",
    "            print('O',end=' ')\n",
    "    for j in range(i,n):\n",
    "        if i%2==0:\n",
    "            print('Z',end=' ')\n",
    "        else:\n",
    "            print('O',end=' ')\n",
    "    print()"
   ]
  },
  {
   "cell_type": "markdown",
   "id": "9eedb21d",
   "metadata": {},
   "source": [
    "__`5) Doubled in rows:`__"
   ]
  },
  {
   "cell_type": "code",
   "execution_count": 17,
   "id": "8b1ea641",
   "metadata": {},
   "outputs": [],
   "source": [
    "# Intitialize p=65 above for loop only one time and increment p+=1 in both for loop\n",
    "# If p=65 intialized two times above for loop and incremented by p+=1 two times then code will start from 65 again"
   ]
  },
  {
   "cell_type": "code",
   "execution_count": 26,
   "id": "b507e111",
   "metadata": {},
   "outputs": [
    {
     "name": "stdout",
     "output_type": "stream",
     "text": [
      "Please enter number of rows: 5\n",
      "        A \n",
      "      B B B \n",
      "    C C C C C \n",
      "  D D D D D D D \n",
      "E E E E E E E E E \n",
      "  F F F F F F F \n",
      "    G G G G G \n",
      "      H H H \n",
      "        I \n"
     ]
    }
   ],
   "source": [
    "# Increment \n",
    "\n",
    "n = int(input('Please enter number of rows: '))\n",
    "p=65\n",
    "for i in range(n-1):\n",
    "    for j in range(i+1,n):\n",
    "        print(' ',end=' ')\n",
    "    for j in range(i+1):\n",
    "        print(chr(p),end=' ')\n",
    "    for j in range(i):\n",
    "        print(chr(p),end=' ')\n",
    "    p+=1\n",
    "    print()\n",
    "    \n",
    "for i in range(n):\n",
    "    for j in range(i):\n",
    "        print(' ',end=' ')\n",
    "    for j in range(i,n):\n",
    "        print(chr(p),end=' ')\n",
    "    for j in range(i+1,n):\n",
    "        print(chr(p),end=' ')\n",
    "    p+=1\n",
    "    print()"
   ]
  },
  {
   "cell_type": "code",
   "execution_count": 18,
   "id": "dfc377a5",
   "metadata": {},
   "outputs": [],
   "source": [
    "# Intitialize p=65 above for loop only one time and increment p+=1 for first for loop decrement p-=1 for second"
   ]
  },
  {
   "cell_type": "code",
   "execution_count": 27,
   "id": "3981f1d1",
   "metadata": {},
   "outputs": [
    {
     "name": "stdout",
     "output_type": "stream",
     "text": [
      "Please enter number of rows: 5\n",
      "        A \n",
      "      B B B \n",
      "    C C C C C \n",
      "  D D D D D D D \n",
      "E E E E E E E E E \n",
      "  D D D D D D D \n",
      "    C C C C C \n",
      "      B B B \n",
      "        A \n"
     ]
    }
   ],
   "source": [
    "# Increment + Decrement\n",
    "\n",
    "n = int(input('Please enter number of rows: '))\n",
    "p=65\n",
    "for i in range(n-1):\n",
    "    for j in range(i+1,n):\n",
    "        print(' ',end=' ')\n",
    "    for j in range(i+1):\n",
    "        print(chr(p),end=' ')\n",
    "    for j in range(i):\n",
    "        print(chr(p),end=' ')\n",
    "    p+=1\n",
    "    print()\n",
    "    \n",
    "for i in range(n):\n",
    "    for j in range(i):\n",
    "        print(' ',end=' ')\n",
    "    for j in range(i,n):\n",
    "        print(chr(p),end=' ')\n",
    "    for j in range(i+1,n):\n",
    "        print(chr(p),end=' ')\n",
    "    p-=1\n",
    "    print()"
   ]
  },
  {
   "cell_type": "markdown",
   "id": "36604d5c",
   "metadata": {},
   "source": [
    "__`6) Changing column alphabetes:`__ Incrementing column alphabetes"
   ]
  },
  {
   "cell_type": "code",
   "execution_count": 19,
   "id": "14cb05d1",
   "metadata": {},
   "outputs": [],
   "source": [
    "# Intitialize p=65 above nested loop and increment p+=1 in nested"
   ]
  },
  {
   "cell_type": "code",
   "execution_count": 28,
   "id": "18a8c5b7",
   "metadata": {},
   "outputs": [
    {
     "name": "stdout",
     "output_type": "stream",
     "text": [
      "Please enter number of rows: 5\n",
      "A \n",
      "A B \n",
      "A B C \n",
      "A B C D \n",
      "A B C D E \n"
     ]
    }
   ],
   "source": [
    "n = int(input('Please enter number of rows: '))\n",
    "for i in range(n):\n",
    "    p=65\n",
    "    for j in range(i+1):\n",
    "        print(chr(p),end=' ')\n",
    "        p+=1\n",
    "    print()"
   ]
  },
  {
   "cell_type": "code",
   "execution_count": 29,
   "id": "11ecca2d",
   "metadata": {},
   "outputs": [
    {
     "name": "stdout",
     "output_type": "stream",
     "text": [
      "Please enter number of rows: 5\n",
      "A B C D E \n",
      "A B C D \n",
      "A B C \n",
      "A B \n",
      "A \n"
     ]
    }
   ],
   "source": [
    "n = int(input('Please enter number of rows: '))\n",
    "for i in range(n):\n",
    "    p=65\n",
    "    for j in range(i,n):\n",
    "        print(chr(p),end=' ')\n",
    "        p+=1\n",
    "    print()"
   ]
  },
  {
   "cell_type": "code",
   "execution_count": 30,
   "id": "4ee37b36",
   "metadata": {},
   "outputs": [
    {
     "name": "stdout",
     "output_type": "stream",
     "text": [
      "Please enter number of rows: 5\n",
      "A B C D E \n",
      "  A B C D \n",
      "    A B C \n",
      "      A B \n",
      "        A \n"
     ]
    }
   ],
   "source": [
    "n = int(input('Please enter number of rows: '))\n",
    "for i in range(n):\n",
    "    p=65\n",
    "    for j in range(i):\n",
    "        print(' ',end=' ')\n",
    "    for j in range(i,n):\n",
    "        print(chr(p),end=' ')\n",
    "        p+=1\n",
    "    print()"
   ]
  },
  {
   "cell_type": "code",
   "execution_count": null,
   "id": "bc1dd717",
   "metadata": {},
   "outputs": [],
   "source": [
    "# In Hill pattern drawing incrementing rows we need to increment p+=1 again and again for each nested since columns belongs to nested"
   ]
  },
  {
   "cell_type": "code",
   "execution_count": 32,
   "id": "a250e2e7",
   "metadata": {},
   "outputs": [
    {
     "name": "stdout",
     "output_type": "stream",
     "text": [
      "Please enter number of rows: 5\n",
      "        A \n",
      "      A B C \n",
      "    A B C D E \n",
      "  A B C D E F G \n",
      "A B C D E F G H I \n"
     ]
    }
   ],
   "source": [
    "n = int(input('Please enter number of rows: '))\n",
    "for i in range(n):\n",
    "    p=65\n",
    "    for j in range(i+1,n):\n",
    "        print(' ',end=' ')\n",
    "    for j in range(i+1):\n",
    "        print(chr(p),end=' ')\n",
    "        p+=1\n",
    "    for j in range(i):\n",
    "        print(chr(p),end=' ')\n",
    "        p+=1\n",
    "    print()"
   ]
  },
  {
   "cell_type": "code",
   "execution_count": 35,
   "id": "1cbcd401",
   "metadata": {},
   "outputs": [
    {
     "name": "stdout",
     "output_type": "stream",
     "text": [
      "Please enter number of rows: 5\n",
      "        A \n",
      "      A B C \n",
      "    A B C D E \n",
      "  A B C D E F G \n",
      "A B C D E F G H I \n",
      "  A B C D E F G \n",
      "    A B C D E \n",
      "      A B C \n",
      "        A \n"
     ]
    }
   ],
   "source": [
    "n = int(input('Please enter number of rows: '))\n",
    "\n",
    "for i in range(n-1):\n",
    "    p=65\n",
    "    for j in range(i+1,n):\n",
    "        print(' ',end=' ')\n",
    "    for j in range(i+1):\n",
    "        print(chr(p),end=' ')\n",
    "        p+=1\n",
    "    for j in range(i):\n",
    "        print(chr(p),end=' ')\n",
    "        p+=1\n",
    "    print()\n",
    "    \n",
    "for i in range(n):\n",
    "    p=65\n",
    "    for j in range(i):\n",
    "        print(' ',end=' ')\n",
    "    for j in range(i,n):\n",
    "        print(chr(p),end=' ')\n",
    "        p+=1\n",
    "    for j in range(i+1,n):\n",
    "        print(chr(p),end=' ')\n",
    "        p+=1\n",
    "    print()"
   ]
  },
  {
   "cell_type": "code",
   "execution_count": 95,
   "id": "21d1bb64",
   "metadata": {},
   "outputs": [
    {
     "name": "stdout",
     "output_type": "stream",
     "text": [
      "Please enter how many number of rows you want: 5\n",
      "A                 A \n",
      "A B             A B \n",
      "A B C         A B C \n",
      "A B C D     A B C D \n",
      "A B C D E A B C D E \n",
      "A B C D     A B C D \n",
      "A B C         A B C \n",
      "A B             A B \n",
      "A                 A \n"
     ]
    }
   ],
   "source": [
    "n = int(input(\"Please enter how many number of rows you want: \")) # Taking user input for number of rows\n",
    "\n",
    "for i in range(n-1):\n",
    "    p=65\n",
    "    for j in range(i+1):\n",
    "        print(chr(p),end=' ')\n",
    "        p+=1\n",
    "    for j in range(i+1,n):\n",
    "        print(' ',end=' ')\n",
    "    for j in range(i+1,n):\n",
    "        print(' ',end=' ')\n",
    "    p=65\n",
    "    for j in range(i+1):\n",
    "        print(chr(p),end=' ')\n",
    "        p+=1\n",
    "    print()\n",
    "for i in range(n):\n",
    "    p=65\n",
    "    for j in range(i,n):\n",
    "        print(chr(p),end=' ')\n",
    "        p+=1\n",
    "    for j in range(i):\n",
    "        print(' ',end= ' ')\n",
    "    for j in range(i):\n",
    "        print(' ',end=' ')\n",
    "    p=65\n",
    "    for j in range(i,n):\n",
    "        print(chr(p),end = ' ')\n",
    "        p+=1\n",
    "    print()"
   ]
  },
  {
   "cell_type": "code",
   "execution_count": null,
   "id": "91847b62",
   "metadata": {},
   "outputs": [],
   "source": [
    "# Doubt?? How do I achieve this pattern?\n",
    "\n",
    "A               A\n",
    "A B           A B\n",
    "A B C       A B C\n",
    "A B C D   A B C D\n",
    "A B C D A B C D E\n",
    "A B C D   A B C D\n",
    "A B C       A B C\n",
    "A B           A B\n",
    "A               A"
   ]
  },
  {
   "cell_type": "code",
   "execution_count": 2,
   "id": "db05821c",
   "metadata": {},
   "outputs": [
    {
     "name": "stdout",
     "output_type": "stream",
     "text": [
      "Please enter number of rows: 5\n",
      "A               A \n",
      "A B           A B \n",
      "A B C       A B C \n",
      "A B C D   A B C D \n",
      "A B C D E A B C D  \n",
      "A B C D   A B C D \n",
      "A B C       A B C \n",
      "A B           A B \n",
      "A               A \n"
     ]
    }
   ],
   "source": [
    "# Doubt solved: This is how its done bro..\n",
    "\n",
    "n = int(input('Please enter number of rows: '))\n",
    "for i in range(n):\n",
    "    p=65\n",
    "    for j in range(i+1):\n",
    "        print(chr(p),end=' ')\n",
    "        p+=1\n",
    "    for j in range(i,n-1):\n",
    "        print(' ',end=' ')\n",
    "    for j in range(i+1,n-1):\n",
    "        print(' ',end=' ')\n",
    "    p=65\n",
    "    for j in range(i+1):\n",
    "        if i==(n-1) and j==(n-1):\n",
    "            print('',end=' ')\n",
    "        else:\n",
    "            print(chr(p),end=' ')\n",
    "        p+=1\n",
    "    print()\n",
    "for i in range(n-1):\n",
    "    p=65\n",
    "    for j in range(i+1,n):\n",
    "        print(chr(p),end=' ')\n",
    "        p+=1\n",
    "    for j in range(i+1):\n",
    "        print(' ',end=' ')\n",
    "    for j in range(i):\n",
    "        print(' ',end=' ')\n",
    "    p=65\n",
    "    for j in range(i+1,n):\n",
    "        print(chr(p),end=' ')\n",
    "        p+=1\n",
    "    print()"
   ]
  },
  {
   "cell_type": "markdown",
   "id": "139fd230",
   "metadata": {},
   "source": [
    "__`7) Decrementing column alphabetes:`__"
   ]
  },
  {
   "cell_type": "code",
   "execution_count": 20,
   "id": "1dcc195b",
   "metadata": {},
   "outputs": [],
   "source": [
    "# Just initialize p=69 above nested and then decrement p-=1 in nested"
   ]
  },
  {
   "cell_type": "code",
   "execution_count": 96,
   "id": "499c7674",
   "metadata": {},
   "outputs": [
    {
     "name": "stdout",
     "output_type": "stream",
     "text": [
      "Please enter number of rows: 5\n",
      "E D C B A \n",
      "E D C B \n",
      "E D C \n",
      "E D \n",
      "E \n"
     ]
    }
   ],
   "source": [
    "n = int(input('Please enter number of rows: '))\n",
    "for i in range(n):\n",
    "    p=69\n",
    "    for j in range(i,n):\n",
    "        print(chr(p),end=' ')\n",
    "        p-=1\n",
    "    print()"
   ]
  },
  {
   "cell_type": "code",
   "execution_count": 97,
   "id": "a31d66d9",
   "metadata": {},
   "outputs": [
    {
     "name": "stdout",
     "output_type": "stream",
     "text": [
      "Please enter number of rows: 5\n",
      "E \n",
      "E D \n",
      "E D C \n",
      "E D C B \n",
      "E D C B A \n"
     ]
    }
   ],
   "source": [
    "n = int(input('Please enter number of rows: '))\n",
    "for i in range(n):\n",
    "    p=69\n",
    "    for j in range(i+1):\n",
    "        print(chr(p),end=' ')\n",
    "        p-=1\n",
    "    print()"
   ]
  },
  {
   "cell_type": "code",
   "execution_count": 106,
   "id": "444f5d6f",
   "metadata": {},
   "outputs": [
    {
     "name": "stdout",
     "output_type": "stream",
     "text": [
      "Please enter number of rows: 5\n",
      "E D C B A \n",
      "  E D C B \n",
      "    E D C \n",
      "      E D \n",
      "        E \n"
     ]
    }
   ],
   "source": [
    "n = int(input('Please enter number of rows: '))\n",
    "for i in range(n):\n",
    "    p=69\n",
    "    for j in range(i):\n",
    "        print(' ',end=' ')\n",
    "    for j in range(i,n):\n",
    "        print(chr(p),end=' ')\n",
    "        p-=1\n",
    "    print()"
   ]
  },
  {
   "cell_type": "code",
   "execution_count": 186,
   "id": "38476c2e",
   "metadata": {},
   "outputs": [
    {
     "name": "stdout",
     "output_type": "stream",
     "text": [
      "please enter number of rows: 5\n",
      "        E \n",
      "      E D \n",
      "    E D C \n",
      "  E D C B \n",
      "E D C B A \n"
     ]
    }
   ],
   "source": [
    "n = int(input(\"please enter number of rows: \"))\n",
    "for i in range(n):\n",
    "    p=69\n",
    "    for j in range(i+1,n):\n",
    "        print(' ',end=' ')\n",
    "    for j in range(i+1):\n",
    "        print(chr(p),end=' ')\n",
    "        p-=1\n",
    "    print()"
   ]
  },
  {
   "cell_type": "markdown",
   "id": "1aada9b2",
   "metadata": {},
   "source": [
    "__`8) Ending alphabete is same:`__"
   ]
  },
  {
   "cell_type": "code",
   "execution_count": 21,
   "id": "f947d085",
   "metadata": {},
   "outputs": [],
   "source": [
    "# Initialize p=69 above for loop and p=k below for loop and then decrement p-=1 in nested and decrement k-=1 in for loop."
   ]
  },
  {
   "cell_type": "code",
   "execution_count": 169,
   "id": "67961f52",
   "metadata": {},
   "outputs": [
    {
     "name": "stdout",
     "output_type": "stream",
     "text": [
      "Please enter number of rows: 5\n",
      "E D C B A \n",
      "  D C B A \n",
      "    C B A \n",
      "      B A \n",
      "        A \n"
     ]
    }
   ],
   "source": [
    "n = int(input('Please enter number of rows: '))\n",
    "k=69\n",
    "for i in range(n):\n",
    "    p=k\n",
    "    for j in range(i):\n",
    "        print(' ',end=' ')\n",
    "    for j in range(i,n):\n",
    "        print(chr(p),end=' ')\n",
    "        p-=1\n",
    "    k-=1\n",
    "    print()"
   ]
  },
  {
   "cell_type": "code",
   "execution_count": 25,
   "id": "1bd25806",
   "metadata": {},
   "outputs": [
    {
     "name": "stdout",
     "output_type": "stream",
     "text": [
      "Please enter number of rows: 5\n",
      "          E \n",
      "        F E \n",
      "      G F E \n",
      "    H G F E \n",
      "  I H G F E \n"
     ]
    }
   ],
   "source": [
    "n = int(input('Please enter number of rows: '))\n",
    "k=69\n",
    "for i in range(n):\n",
    "    p=k\n",
    "    for j in range(i,n):\n",
    "        print(' ',end=' ')\n",
    "    for j in range(i+1):\n",
    "        print(chr(p),end=' ')\n",
    "        p-=1\n",
    "    k+=1\n",
    "    print()"
   ]
  },
  {
   "cell_type": "code",
   "execution_count": 49,
   "id": "30dd883a",
   "metadata": {},
   "outputs": [],
   "source": [
    "# Below two are tricky "
   ]
  },
  {
   "cell_type": "code",
   "execution_count": 47,
   "id": "9dd8b847",
   "metadata": {},
   "outputs": [
    {
     "name": "stdout",
     "output_type": "stream",
     "text": [
      "Please enter number of rows: 5\n",
      "          E \n",
      "        F E D \n",
      "      G F E D C \n",
      "    H G F E D C B \n",
      "  I H G F E D C B A \n"
     ]
    }
   ],
   "source": [
    "n = int(input('Please enter number of rows: '))\n",
    "k=69\n",
    "for i in range(n):\n",
    "    p=k\n",
    "    for j in range(i,n):\n",
    "        print(' ',end=' ')\n",
    "    for j in range(i+1):\n",
    "        print(chr(p),end=' ')\n",
    "        p-=1\n",
    "    k+=1\n",
    "\n",
    "    for j in range(i):\n",
    "        print(chr(p),end=' ')\n",
    "        p-=1\n",
    "    print()"
   ]
  },
  {
   "cell_type": "code",
   "execution_count": 48,
   "id": "93f2ace9",
   "metadata": {},
   "outputs": [
    {
     "name": "stdout",
     "output_type": "stream",
     "text": [
      "Please enter number of rows: 5\n",
      "          E \n",
      "        F E D \n",
      "      G F E D E \n",
      "    H G F E D E F \n",
      "  I H G F E D E F G \n"
     ]
    }
   ],
   "source": [
    "n = int(input('Please enter number of rows: '))\n",
    "k=69\n",
    "for i in range(n):\n",
    "    p=k\n",
    "    for j in range(i,n):\n",
    "        print(' ',end=' ')\n",
    "    for j in range(i+1):\n",
    "        print(chr(p),end=' ')\n",
    "        p-=1\n",
    "    k+=1\n",
    "\n",
    "    for j in range(i):\n",
    "        print(chr(p),end=' ')\n",
    "        p+=1\n",
    "    print()"
   ]
  },
  {
   "cell_type": "markdown",
   "id": "c164510a",
   "metadata": {},
   "source": [
    "__`9) Changing rows and columns both (Floyd)`__"
   ]
  },
  {
   "cell_type": "code",
   "execution_count": 111,
   "id": "6481e5d2",
   "metadata": {},
   "outputs": [
    {
     "name": "stdout",
     "output_type": "stream",
     "text": [
      "Please enter number of rows: 5\n",
      "E D C B A \n",
      "  F E D C \n",
      "    G F E \n",
      "      H G \n",
      "        I \n"
     ]
    }
   ],
   "source": [
    "n = int(input('Please enter number of rows: '))\n",
    "k=69\n",
    "for i in range(n):\n",
    "    p=k\n",
    "    for j in range(i):\n",
    "        print(' ',end=' ')\n",
    "    for j in range(i,n):\n",
    "\n",
    "        print(chr(p),end=' ')\n",
    "        p-=1\n",
    "    k+=1\n",
    "    print()"
   ]
  },
  {
   "cell_type": "code",
   "execution_count": 179,
   "id": "02e56aeb",
   "metadata": {},
   "outputs": [
    {
     "name": "stdout",
     "output_type": "stream",
     "text": [
      "Please enter number of rows: 5\n",
      "          A \n",
      "        A B A \n",
      "      A B C B A \n",
      "    A B C D C B A \n",
      "  A B C D E D C B A \n"
     ]
    }
   ],
   "source": [
    "n = int(input('Please enter number of rows: '))\n",
    "for i in range(n):\n",
    "    p=65\n",
    "    for j in range(i,n):\n",
    "        print(' ',end=' ')\n",
    "    for j in range(i):\n",
    "        print(chr(p),end=' ')\n",
    "        p+=1\n",
    "    for j in range(i+1):\n",
    "        print(chr(p),end=' ')\n",
    "        p-=1\n",
    "    print()"
   ]
  },
  {
   "cell_type": "markdown",
   "id": "92dc0e63",
   "metadata": {},
   "source": [
    "__`Assignment Questions:`__"
   ]
  },
  {
   "cell_type": "code",
   "execution_count": null,
   "id": "2ea8caa5",
   "metadata": {},
   "outputs": [],
   "source": [
    "A\n",
    "B B\n",
    "C C C\n",
    "D D D D\n",
    "E E E E E"
   ]
  },
  {
   "cell_type": "code",
   "execution_count": 3,
   "id": "71232b0f",
   "metadata": {},
   "outputs": [
    {
     "name": "stdout",
     "output_type": "stream",
     "text": [
      "Please enter number of rows: 5\n",
      "A \n",
      "B B \n",
      "C C C \n",
      "D D D D \n",
      "E E E E E \n"
     ]
    }
   ],
   "source": [
    "n = int(input('Please enter number of rows: '))\n",
    "p=65\n",
    "for i in range(n):\n",
    "    for j in range(i+1):\n",
    "        print(chr(p),end=' ')\n",
    "    p+=1\n",
    "    print()"
   ]
  },
  {
   "cell_type": "code",
   "execution_count": null,
   "id": "bd02e6da",
   "metadata": {},
   "outputs": [],
   "source": [
    "A\n",
    "B C\n",
    "D E F\n",
    "G H I J\n",
    "K L M N O"
   ]
  },
  {
   "cell_type": "code",
   "execution_count": 4,
   "id": "002d81d6",
   "metadata": {},
   "outputs": [
    {
     "name": "stdout",
     "output_type": "stream",
     "text": [
      "Please enter number of rows: 5\n",
      "A \n",
      "B C \n",
      "D E F \n",
      "G H I J \n",
      "K L M N O \n"
     ]
    }
   ],
   "source": [
    "n = int(input('Please enter number of rows: '))\n",
    "p=65\n",
    "for i in range(n):\n",
    "    for j in range(i+1):\n",
    "        print(chr(p),end=' ')\n",
    "        p+=1\n",
    "    print()"
   ]
  },
  {
   "cell_type": "code",
   "execution_count": null,
   "id": "9215a6c7",
   "metadata": {},
   "outputs": [],
   "source": [
    "K\n",
    "K K\n",
    "K K K\n",
    "K K K K\n",
    "K K K K K"
   ]
  },
  {
   "cell_type": "code",
   "execution_count": 5,
   "id": "42fcdcf4",
   "metadata": {},
   "outputs": [
    {
     "name": "stdout",
     "output_type": "stream",
     "text": [
      "Please enter number of rows: 5\n",
      "K \n",
      "K K \n",
      "K K K \n",
      "K K K K \n",
      "K K K K K \n"
     ]
    }
   ],
   "source": [
    "n = int(input('Please enter number of rows: '))\n",
    "for i in range(n):\n",
    "    for j in range(i+1):\n",
    "        print('K',end=' ')\n",
    "    print()"
   ]
  },
  {
   "cell_type": "code",
   "execution_count": null,
   "id": "1d494108",
   "metadata": {},
   "outputs": [],
   "source": [
    "A\n",
    "A B\n",
    "A B C\n",
    "A B C D\n",
    "A B C D E"
   ]
  },
  {
   "cell_type": "code",
   "execution_count": 6,
   "id": "8eff629a",
   "metadata": {},
   "outputs": [
    {
     "name": "stdout",
     "output_type": "stream",
     "text": [
      "Please enter number of rows: 5\n",
      "A \n",
      "A B \n",
      "A B C \n",
      "A B C D \n",
      "A B C D E \n"
     ]
    }
   ],
   "source": [
    "n = int(input('Please enter number of rows: '))\n",
    "for i in range(n):\n",
    "    p=65\n",
    "    for j in range(i+1):\n",
    "        print(chr(p),end=' ')\n",
    "        p+=1\n",
    "    print()"
   ]
  },
  {
   "cell_type": "code",
   "execution_count": null,
   "id": "a7610ff1",
   "metadata": {},
   "outputs": [],
   "source": [
    "P\n",
    "P y\n",
    "P y t\n",
    "P y t h\n",
    "P y t h o\n",
    "P y t h o n"
   ]
  },
  {
   "cell_type": "code",
   "execution_count": 10,
   "id": "2a9d9aea",
   "metadata": {},
   "outputs": [
    {
     "name": "stdout",
     "output_type": "stream",
     "text": [
      "p \n",
      "p y \n",
      "p y t \n",
      "p y t h \n",
      "p y t h o \n",
      "p y t h o n \n"
     ]
    }
   ],
   "source": [
    "str1 = 'python'\n",
    "for i in range(len(str1)):\n",
    "    for j in range(i+1):\n",
    "        print(str1[j],end=' ')\n",
    "    print()"
   ]
  },
  {
   "cell_type": "code",
   "execution_count": 12,
   "id": "604668aa",
   "metadata": {},
   "outputs": [
    {
     "name": "stdout",
     "output_type": "stream",
     "text": [
      "p \n",
      "p y \n",
      "p y t \n",
      "p y t h \n",
      "p y t h o \n",
      "p y t h o n \n"
     ]
    }
   ],
   "source": [
    "# Another method\n",
    "\n",
    "str1 = 'python'\n",
    "for i in range(len(str1)):\n",
    "    p=0\n",
    "    for j in range(i+1):\n",
    "        print(str1[p],end=' ')\n",
    "        p+=1\n",
    "    print()"
   ]
  }
 ],
 "metadata": {
  "kernelspec": {
   "display_name": "Python 3 (ipykernel)",
   "language": "python",
   "name": "python3"
  },
  "language_info": {
   "codemirror_mode": {
    "name": "ipython",
    "version": 3
   },
   "file_extension": ".py",
   "mimetype": "text/x-python",
   "name": "python",
   "nbconvert_exporter": "python",
   "pygments_lexer": "ipython3",
   "version": "3.9.12"
  }
 },
 "nbformat": 4,
 "nbformat_minor": 5
}
