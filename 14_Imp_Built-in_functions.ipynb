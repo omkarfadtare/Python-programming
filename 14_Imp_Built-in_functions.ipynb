{
 "cells": [
  {
   "cell_type": "markdown",
   "id": "15b55c3f",
   "metadata": {},
   "source": [
    "#### Built in functions of python\n",
    "Below are some important built in functions of python taught in class:\n",
    "- zip()\n",
    "- filter()\n",
    "- map()\n",
    "- all()\n",
    "- any()\n",
    "- chr()\n",
    "- ord()\n",
    "- bin()\n",
    "- abs()\n",
    "- dir()\n",
    "- eval()\n",
    "- iter()\n",
    "- format()\n",
    "- pow()\n",
    "- divmod()\n",
    "\n",
    "Below are some important extra built in functions of python:\n",
    "- bin()\n",
    "- bool()\n",
    "- complex()\n",
    "- delattr()\n",
    "- getattr()\n",
    "- hasattr()\n",
    "- setattr()\n",
    "- enumerate()\n",
    "- exec()\n",
    "- help()\n",
    "- hex()\n",
    "- input()\n",
    "- isinstance()\n",
    "- issubclass()\n",
    "- next()\n",
    "- max()\n",
    "- min()\n",
    "- sum()\n",
    "- oct()\n",
    "- open()\n",
    "- reversed()\n",
    "- sorted()\n",
    "- round()\n",
    "- slice()\n",
    "- super()"
   ]
  },
  {
   "cell_type": "markdown",
   "id": "c060474c",
   "metadata": {},
   "source": [
    "#### zip()\n",
    "The zip() function returns a zip object, is like a handy tool that lets you combine two or more lists or sequences together, like you're zipping up the corresponding elements from each list into a single package."
   ]
  },
  {
   "cell_type": "markdown",
   "id": "9507707b",
   "metadata": {},
   "source": [
    "`Syntax: zip(iterator1, iterator2, iterator3 ...)`"
   ]
  },
  {
   "cell_type": "code",
   "execution_count": 1,
   "id": "cf0c516a",
   "metadata": {},
   "outputs": [
    {
     "name": "stdout",
     "output_type": "stream",
     "text": [
      "{'Akshay': 20, 'Akash': 30, 'Rohit': 25, 'Swapnil': 28}\n"
     ]
    }
   ],
   "source": [
    "# Normal way: using enumarate function \n",
    "\n",
    "names = [\"Akshay\", 'Akash', 'Rohit', 'Swapnil']\n",
    "age = [20,30,25, 28]\n",
    "\n",
    "name_age = {}\n",
    "\n",
    "for index,name in enumerate(names):\n",
    "    name_age.update({name : age[index]})\n",
    "    \n",
    "print(name_age)"
   ]
  },
  {
   "cell_type": "code",
   "execution_count": 2,
   "id": "35b6ceec",
   "metadata": {},
   "outputs": [
    {
     "data": {
      "text/plain": [
       "{'Akshay': 20, 'Akash': 30, 'Rohit': 25, 'Swapnil': 28}"
      ]
     },
     "execution_count": 2,
     "metadata": {},
     "output_type": "execute_result"
    }
   ],
   "source": [
    "# Using zip function (Dictionary)\n",
    "\n",
    "names = [\"Akshay\", 'Akash', 'Rohit', 'Swapnil']\n",
    "age = [20,30,25, 28]\n",
    "\n",
    "dict(zip(names, age)) # use the dict() function to display a readable version of the result"
   ]
  },
  {
   "cell_type": "code",
   "execution_count": 4,
   "id": "d6295ab1",
   "metadata": {},
   "outputs": [
    {
     "data": {
      "text/plain": [
       "[('Akshay', 20), ('Akash', 30), ('Rohit', 25), ('Swapnil', 28)]"
      ]
     },
     "execution_count": 4,
     "metadata": {},
     "output_type": "execute_result"
    }
   ],
   "source": [
    "# Using zip function (List)\n",
    "\n",
    "names = [\"Akshay\", 'Akash', 'Rohit', 'Swapnil']\n",
    "age = [20,30,25, 28]\n",
    "\n",
    "list(zip(names, age)) # use the list() function to display a readable version of the result"
   ]
  },
  {
   "cell_type": "code",
   "execution_count": 5,
   "id": "dc491ceb",
   "metadata": {},
   "outputs": [
    {
     "data": {
      "text/plain": [
       "(('Akshay', 20), ('Akash', 30), ('Rohit', 25), ('Swapnil', 28))"
      ]
     },
     "execution_count": 5,
     "metadata": {},
     "output_type": "execute_result"
    }
   ],
   "source": [
    "# Using zip function (Tuple)\n",
    "\n",
    "names = [\"Akshay\", 'Akash', 'Rohit', 'Swapnil']\n",
    "age = [20,30,25, 28]\n",
    "\n",
    "tuple(zip(names, age)) # use the tuple() function to display a readable version of the result"
   ]
  },
  {
   "cell_type": "code",
   "execution_count": 6,
   "id": "7645627e",
   "metadata": {},
   "outputs": [
    {
     "data": {
      "text/plain": [
       "{('Akash', 30), ('Akshay', 20), ('Rohit', 25), ('Swapnil', 28)}"
      ]
     },
     "execution_count": 6,
     "metadata": {},
     "output_type": "execute_result"
    }
   ],
   "source": [
    "# Using zip function (Set)\n",
    "\n",
    "names = [\"Akshay\", 'Akash', 'Rohit', 'Swapnil']\n",
    "age = [20,30,25, 28]\n",
    "\n",
    "set(zip(names, age)) # use the set() function to display a readable version of the result"
   ]
  },
  {
   "cell_type": "markdown",
   "id": "96e0565e",
   "metadata": {},
   "source": [
    "**If one tuple contains more items, these items are ignored."
   ]
  },
  {
   "cell_type": "code",
   "execution_count": 10,
   "id": "bcf0ea30",
   "metadata": {},
   "outputs": [
    {
     "name": "stdout",
     "output_type": "stream",
     "text": [
      "(('John', 'Jenny'), ('Charles', 'Christy'), ('Mike', 'Monica'))\n"
     ]
    }
   ],
   "source": [
    "a = (\"John\", \"Charles\", \"Mike\")\n",
    "b = (\"Jenny\", \"Christy\", \"Monica\", \"Vicky\")\n",
    "\n",
    "x = zip(a,b)\n",
    "\n",
    "print(tuple(x))"
   ]
  },
  {
   "cell_type": "code",
   "execution_count": 15,
   "id": "683ad2c6",
   "metadata": {},
   "outputs": [
    {
     "data": {
      "text/plain": [
       "(('Akshay', 20, 'pune'),\n",
       " ('Akash', 30, 'mumbai'),\n",
       " ('Rohit', 25, 'delhi'),\n",
       " ('Swapnil', 28, 'chennai'))"
      ]
     },
     "execution_count": 15,
     "metadata": {},
     "output_type": "execute_result"
    }
   ],
   "source": [
    "# Having more than three iterators\n",
    "\n",
    "names = [\"Akshay\", 'Akash', 'Rohit', 'Swapnil']\n",
    "age = [20,30,25, 28]\n",
    "location = ['pune', 'mumbai', 'delhi', 'chennai']\n",
    "\n",
    "tuple(zip(names,age,location))"
   ]
  },
  {
   "cell_type": "code",
   "execution_count": 1,
   "id": "af6438ec",
   "metadata": {},
   "outputs": [
    {
     "data": {
      "text/plain": [
       "{'Akshay': (20, 'pune'),\n",
       " 'Akash': (30, 'mumbai'),\n",
       " 'Rohit': (25, 'delhi'),\n",
       " 'Swapnil': (28, 'chennai')}"
      ]
     },
     "execution_count": 1,
     "metadata": {},
     "output_type": "execute_result"
    }
   ],
   "source": [
    "# Diffferent\n",
    "\n",
    "names = [\"Akshay\", 'Akash', 'Rohit', 'Swapnil']\n",
    "age = [20,30,25, 28]\n",
    "location = ['pune', 'mumbai', 'delhi', 'chennai']\n",
    "\n",
    "dict(zip(names, zip(age,location)))"
   ]
  },
  {
   "cell_type": "markdown",
   "id": "58f33b48",
   "metadata": {},
   "source": [
    "#### filter()\n",
    "The filter() function returns an iterator where the items are filtered through a function to test if the item is accepted or not. That basicaly means that filter function will iterate through the given list or any data type and returns iterators which satisfies the given condition."
   ]
  },
  {
   "cell_type": "markdown",
   "id": "a3c0d985",
   "metadata": {},
   "source": [
    "`Syntax: filter(function, iterable)`\n",
    "- function: A Function to be run for each item in the iterable\n",
    "- the iterable to be filtered"
   ]
  },
  {
   "cell_type": "code",
   "execution_count": 16,
   "id": "6d3b9e10",
   "metadata": {},
   "outputs": [
    {
     "data": {
      "text/plain": [
       "3"
      ]
     },
     "execution_count": 16,
     "metadata": {},
     "output_type": "execute_result"
    }
   ],
   "source": [
    "# Normal way\n",
    "\n",
    "def check_odd_number(a):\n",
    "    if a%2 != 0:\n",
    "        return a\n",
    "\n",
    "check_odd_number(3)"
   ]
  },
  {
   "cell_type": "code",
   "execution_count": 17,
   "id": "f83c62f8",
   "metadata": {},
   "outputs": [
    {
     "data": {
      "text/plain": [
       "[3, 5, 7]"
      ]
     },
     "execution_count": 17,
     "metadata": {},
     "output_type": "execute_result"
    }
   ],
   "source": [
    "iterables = [3,4,2,5,6,7]\n",
    "\n",
    "list(filter(check_odd_number, iterables))"
   ]
  },
  {
   "cell_type": "code",
   "execution_count": 19,
   "id": "9c49db44",
   "metadata": {},
   "outputs": [
    {
     "data": {
      "text/plain": [
       "2"
      ]
     },
     "execution_count": 19,
     "metadata": {},
     "output_type": "execute_result"
    }
   ],
   "source": [
    "def check_even_number(a):\n",
    "    if a%2 == 0:\n",
    "        return a\n",
    "\n",
    "check_even_number(2)"
   ]
  },
  {
   "cell_type": "code",
   "execution_count": 20,
   "id": "262ce70e",
   "metadata": {},
   "outputs": [
    {
     "data": {
      "text/plain": [
       "[4, 2, 6]"
      ]
     },
     "execution_count": 20,
     "metadata": {},
     "output_type": "execute_result"
    }
   ],
   "source": [
    "iterables = [3,4,2,5,6,7]\n",
    "\n",
    "list(filter(check_even_number, iterables))"
   ]
  },
  {
   "cell_type": "code",
   "execution_count": 21,
   "id": "deee6a0e",
   "metadata": {},
   "outputs": [
    {
     "data": {
      "text/plain": [
       "False"
      ]
     },
     "execution_count": 21,
     "metadata": {},
     "output_type": "execute_result"
    }
   ],
   "source": [
    "string = 'Data Science'\n",
    "result = lambda x : x.isupper()\n",
    "\n",
    "result(string)"
   ]
  },
  {
   "cell_type": "code",
   "execution_count": 23,
   "id": "b878d3ab",
   "metadata": {},
   "outputs": [
    {
     "data": {
      "text/plain": [
       "['D', 'S']"
      ]
     },
     "execution_count": 23,
     "metadata": {},
     "output_type": "execute_result"
    }
   ],
   "source": [
    "string = 'Data Science'\n",
    "\n",
    "list(filter(result, string))"
   ]
  },
  {
   "cell_type": "code",
   "execution_count": 24,
   "id": "97b8d6e4",
   "metadata": {},
   "outputs": [
    {
     "data": {
      "text/plain": [
       "['a', 't', 'a', 'c', 'i', 'e', 'n', 'c', 'e']"
      ]
     },
     "execution_count": 24,
     "metadata": {},
     "output_type": "execute_result"
    }
   ],
   "source": [
    "string = 'Data Science'\n",
    "\n",
    "list(filter(lambda x : x.islower(), string))"
   ]
  },
  {
   "cell_type": "code",
   "execution_count": 25,
   "id": "ccb69719",
   "metadata": {},
   "outputs": [
    {
     "data": {
      "text/plain": [
       "[4, 6, 8]"
      ]
     },
     "execution_count": 25,
     "metadata": {},
     "output_type": "execute_result"
    }
   ],
   "source": [
    "iterable = [3,4,5,6,7,8]\n",
    "\n",
    "list(filter(lambda x : x%2 == 0, iterable))"
   ]
  },
  {
   "cell_type": "code",
   "execution_count": 26,
   "id": "06af9d7b",
   "metadata": {},
   "outputs": [
    {
     "data": {
      "text/plain": [
       "['D', 'S']"
      ]
     },
     "execution_count": 26,
     "metadata": {},
     "output_type": "execute_result"
    }
   ],
   "source": [
    "string = 'Data Science'\n",
    "\n",
    "result = list(filter(lambda x : x.isupper(), string))\n",
    "result"
   ]
  },
  {
   "cell_type": "code",
   "execution_count": 3,
   "id": "0ec89772",
   "metadata": {},
   "outputs": [
    {
     "data": {
      "text/plain": [
       "['D', 'a', 't', 'a', ' ', 'S', 'c', 'i', 'e', 'n', 'c', 'e']"
      ]
     },
     "execution_count": 3,
     "metadata": {},
     "output_type": "execute_result"
    }
   ],
   "source": [
    "# filter function can not perform any operation it will only filters the result. To perform any operation we use map() function. \n",
    "\n",
    "string = 'Data Science'\n",
    "\n",
    "result = list(filter(lambda char : char.upper(), string)) # This wont do anything # Filter expects result in boolean\n",
    "result"
   ]
  },
  {
   "cell_type": "markdown",
   "id": "4d59c288",
   "metadata": {},
   "source": [
    "#### map()\n",
    "Returns the specified iterator with the specified function applied to each item"
   ]
  },
  {
   "cell_type": "markdown",
   "id": "b0926905",
   "metadata": {},
   "source": [
    "`Syntax: map(function, iterables)`\n",
    "- function:\t(Required) The function to execute for each item\n",
    "- iterable:\t(Required) A sequence, collection or an iterator object. You can send as many iterables as you like, just make sure the function has one parameter for each iterable."
   ]
  },
  {
   "cell_type": "code",
   "execution_count": 31,
   "id": "cbb4add0",
   "metadata": {},
   "outputs": [
    {
     "name": "stdout",
     "output_type": "stream",
     "text": [
      "[5, 6, 6]\n"
     ]
    }
   ],
   "source": [
    "def myfunc(n):\n",
    "    return len(n)\n",
    "\n",
    "x = map(myfunc, ('apple', 'banana', 'cherry'))\n",
    "print(list(x))"
   ]
  },
  {
   "cell_type": "code",
   "execution_count": 34,
   "id": "f352b58f",
   "metadata": {},
   "outputs": [
    {
     "data": {
      "text/plain": [
       "['D', 'A', 'T', 'A', ' ', 'S', 'C', 'I', 'E', 'N', 'C', 'E']"
      ]
     },
     "execution_count": 34,
     "metadata": {},
     "output_type": "execute_result"
    }
   ],
   "source": [
    "string = 'Data Science'\n",
    "\n",
    "result = list(map(lambda char : char.upper(), string))\n",
    "result"
   ]
  },
  {
   "cell_type": "code",
   "execution_count": 36,
   "id": "28106306",
   "metadata": {},
   "outputs": [
    {
     "name": "stdout",
     "output_type": "stream",
     "text": [
      "['appleorange', 'bananalemon', 'cherrypineapple']\n"
     ]
    }
   ],
   "source": [
    "def myfunc(a, b):\n",
    "    return a + b\n",
    "\n",
    "x = map(myfunc, ('apple', 'banana', 'cherry'), ('orange', 'lemon', 'pineapple'))\n",
    "print(list(x))"
   ]
  },
  {
   "cell_type": "code",
   "execution_count": 37,
   "id": "986a8663",
   "metadata": {},
   "outputs": [
    {
     "data": {
      "text/plain": [
       "[100, 400, 900]"
      ]
     },
     "execution_count": 37,
     "metadata": {},
     "output_type": "execute_result"
    }
   ],
   "source": [
    "numbers = [10,20,30]\n",
    "result = list(map(lambda num : num ** 2, numbers))\n",
    "result"
   ]
  },
  {
   "cell_type": "code",
   "execution_count": 38,
   "id": "000cdcca",
   "metadata": {},
   "outputs": [
    {
     "data": {
      "text/plain": [
       "[True, False, False, False]"
      ]
     },
     "execution_count": 38,
     "metadata": {},
     "output_type": "execute_result"
    }
   ],
   "source": [
    "string = 'Data'\n",
    "\n",
    "result = list(map(lambda char : char.isupper(), string))\n",
    "result"
   ]
  },
  {
   "cell_type": "code",
   "execution_count": 40,
   "id": "069b4e92",
   "metadata": {},
   "outputs": [
    {
     "data": {
      "text/plain": [
       "False"
      ]
     },
     "execution_count": 40,
     "metadata": {},
     "output_type": "execute_result"
    }
   ],
   "source": [
    "string = 'Data'\n",
    "string.isupper()\n",
    "\n",
    "# See the difference map function iterates through the string but normal function does not iterate through the string"
   ]
  },
  {
   "cell_type": "code",
   "execution_count": 41,
   "id": "3bf3e863",
   "metadata": {},
   "outputs": [
    {
     "data": {
      "text/plain": [
       "[13, 24, 35, 46, 57]"
      ]
     },
     "execution_count": 41,
     "metadata": {},
     "output_type": "execute_result"
    }
   ],
   "source": [
    "# Normal way\n",
    "\n",
    "list1 = [3,4,5,6,7]\n",
    "list2 = [10,20,30,40,50]\n",
    "\n",
    "result = []\n",
    "for index, value in enumerate(list1):\n",
    "    result.append(value + list2[index])\n",
    "    \n",
    "result"
   ]
  },
  {
   "cell_type": "code",
   "execution_count": 42,
   "id": "c76a07da",
   "metadata": {},
   "outputs": [
    {
     "data": {
      "text/plain": [
       "[13, 24, 35, 46, 57]"
      ]
     },
     "execution_count": 42,
     "metadata": {},
     "output_type": "execute_result"
    }
   ],
   "source": [
    "# Using lambda and map function\n",
    "\n",
    "list1 = [3,4,5,6,7]\n",
    "list2 = [10,20,30,40,50]\n",
    "\n",
    "list(map(lambda x,y : x+y, list1, list2))"
   ]
  },
  {
   "cell_type": "code",
   "execution_count": 43,
   "id": "61b8f10d",
   "metadata": {},
   "outputs": [
    {
     "data": {
      "text/plain": [
       "['pc', 'yl', 'ta', 'hs', 'os']"
      ]
     },
     "execution_count": 43,
     "metadata": {},
     "output_type": "execute_result"
    }
   ],
   "source": [
    "# def add_x_y(x,y):\n",
    "#     add = x + y\n",
    "#     return add\n",
    "\n",
    "string1 = 'python'\n",
    "string2 = 'class'\n",
    "\n",
    "list(map(lambda x,y : x+y, string1, string2))"
   ]
  },
  {
   "cell_type": "code",
   "execution_count": 44,
   "id": "8dea333f",
   "metadata": {},
   "outputs": [
    {
     "data": {
      "text/plain": [
       "['Sunday', 'Monday', 'Friday']"
      ]
     },
     "execution_count": 44,
     "metadata": {},
     "output_type": "execute_result"
    }
   ],
   "source": [
    "# Difference between filter and map is that filter function only returns the iterators which returns satisfies the condition \n",
    "# and can not perform any operation But map function returns a list of iterators performing operations.\n",
    "\n",
    "weekdays = ['Sunday', \"Monday\", \"tuesday\", \"Wednesday\", \"Thursday\", \"Friday\", \"Saturday\"]\n",
    "result = list(filter(lambda day : len(day) == 6, weekdays))\n",
    "result"
   ]
  },
  {
   "cell_type": "code",
   "execution_count": 45,
   "id": "e56ba1ee",
   "metadata": {},
   "outputs": [
    {
     "data": {
      "text/plain": [
       "['SUNDAY', 'MONDAY', 'TUESDAY', 'WEDNESDAY', 'THURSDAY', 'FRIDAY', 'SATURDAY']"
      ]
     },
     "execution_count": 45,
     "metadata": {},
     "output_type": "execute_result"
    }
   ],
   "source": [
    "weekdays = ['Sunday', \"Monday\", \"tuesday\", \"Wednesday\", \"Thursday\", \"Friday\", \"Saturday\"]\n",
    "result = list(map(lambda day : day.upper(), weekdays))\n",
    "result"
   ]
  },
  {
   "cell_type": "markdown",
   "id": "f438ffd0",
   "metadata": {},
   "source": [
    "#### all()\n",
    "The all() function returns True if all items in an iterable are true, otherwise it returns False. If the iterable object is empty, the all() function also returns True."
   ]
  },
  {
   "cell_type": "markdown",
   "id": "c29ef9b2",
   "metadata": {},
   "source": [
    "`Syntax: all(iterable)`\n",
    "\n",
    "**iterable >> list, tuple, string, set, dictionary\n",
    "- True >> If all the elements are True\n",
    "- True >> If the iterable is empty\n",
    "- False >> If any element is False or 0"
   ]
  },
  {
   "cell_type": "code",
   "execution_count": 55,
   "id": "deba767a",
   "metadata": {},
   "outputs": [
    {
     "data": {
      "text/plain": [
       "True"
      ]
     },
     "execution_count": 55,
     "metadata": {},
     "output_type": "execute_result"
    }
   ],
   "source": [
    "# Tuple\n",
    "\n",
    "tuple1 = (True,True,True)\n",
    "all(tuple1)"
   ]
  },
  {
   "cell_type": "code",
   "execution_count": 50,
   "id": "d584bf4d",
   "metadata": {},
   "outputs": [
    {
     "data": {
      "text/plain": [
       "True"
      ]
     },
     "execution_count": 50,
     "metadata": {},
     "output_type": "execute_result"
    }
   ],
   "source": [
    "# List\n",
    "\n",
    "list1 = [3,4,5,6,7]\n",
    "all(list1)"
   ]
  },
  {
   "cell_type": "code",
   "execution_count": 52,
   "id": "3a2c9a2c",
   "metadata": {},
   "outputs": [
    {
     "data": {
      "text/plain": [
       "True"
      ]
     },
     "execution_count": 52,
     "metadata": {},
     "output_type": "execute_result"
    }
   ],
   "source": [
    "# Dictionary\n",
    "\n",
    "dict1 = {3:'om',4:'omk',5:'omka',6:'omkar'}\n",
    "all(dict1)"
   ]
  },
  {
   "cell_type": "code",
   "execution_count": 53,
   "id": "75a0e677",
   "metadata": {},
   "outputs": [
    {
     "data": {
      "text/plain": [
       "False"
      ]
     },
     "execution_count": 53,
     "metadata": {},
     "output_type": "execute_result"
    }
   ],
   "source": [
    "# Set\n",
    "\n",
    "set1 = {3,4,5,6,7,0}\n",
    "all(set1)"
   ]
  },
  {
   "cell_type": "code",
   "execution_count": 59,
   "id": "bd499428",
   "metadata": {},
   "outputs": [
    {
     "data": {
      "text/plain": [
       "True"
      ]
     },
     "execution_count": 59,
     "metadata": {},
     "output_type": "execute_result"
    }
   ],
   "source": [
    "list1 = []\n",
    "all(list1)"
   ]
  },
  {
   "cell_type": "code",
   "execution_count": 63,
   "id": "f8bc9e81",
   "metadata": {},
   "outputs": [],
   "source": [
    "# This will not work since it is not iterable\n",
    "\n",
    "# list1 = (2)\n",
    "# all(list1)"
   ]
  },
  {
   "cell_type": "code",
   "execution_count": 60,
   "id": "472fd802",
   "metadata": {},
   "outputs": [
    {
     "data": {
      "text/plain": [
       "True"
      ]
     },
     "execution_count": 60,
     "metadata": {},
     "output_type": "execute_result"
    }
   ],
   "source": [
    "list1 = {}\n",
    "all(list1)"
   ]
  },
  {
   "cell_type": "code",
   "execution_count": 64,
   "id": "d7396cbb",
   "metadata": {},
   "outputs": [
    {
     "data": {
      "text/plain": [
       "False"
      ]
     },
     "execution_count": 64,
     "metadata": {},
     "output_type": "execute_result"
    }
   ],
   "source": [
    "list1 = [True,True,True,False,True]\n",
    "all(list1)"
   ]
  },
  {
   "cell_type": "code",
   "execution_count": 65,
   "id": "90512688",
   "metadata": {},
   "outputs": [
    {
     "data": {
      "text/plain": [
       "False"
      ]
     },
     "execution_count": 65,
     "metadata": {},
     "output_type": "execute_result"
    }
   ],
   "source": [
    "var = {0 : 100, 'b' : 200}\n",
    "all(var)"
   ]
  },
  {
   "cell_type": "code",
   "execution_count": 66,
   "id": "24d66387",
   "metadata": {},
   "outputs": [
    {
     "data": {
      "text/plain": [
       "False"
      ]
     },
     "execution_count": 66,
     "metadata": {},
     "output_type": "execute_result"
    }
   ],
   "source": [
    "var = {'a' : 0, 'b' : 200}\n",
    "all(var.values())"
   ]
  },
  {
   "cell_type": "code",
   "execution_count": 67,
   "id": "244864c0",
   "metadata": {},
   "outputs": [
    {
     "data": {
      "text/plain": [
       "True"
      ]
     },
     "execution_count": 67,
     "metadata": {},
     "output_type": "execute_result"
    }
   ],
   "source": [
    "var = 'string'\n",
    "all(var)"
   ]
  },
  {
   "cell_type": "code",
   "execution_count": 68,
   "id": "b138c4cb",
   "metadata": {},
   "outputs": [
    {
     "data": {
      "text/plain": [
       "True"
      ]
     },
     "execution_count": 68,
     "metadata": {},
     "output_type": "execute_result"
    }
   ],
   "source": [
    "var = ''\n",
    "all(var)"
   ]
  },
  {
   "cell_type": "code",
   "execution_count": 69,
   "id": "26f2be49",
   "metadata": {},
   "outputs": [
    {
     "data": {
      "text/plain": [
       "True"
      ]
     },
     "execution_count": 69,
     "metadata": {},
     "output_type": "execute_result"
    }
   ],
   "source": [
    "fs = frozenset({2,3,4,5,6})\n",
    "all(fs)"
   ]
  },
  {
   "cell_type": "code",
   "execution_count": 70,
   "id": "10a40fee",
   "metadata": {},
   "outputs": [
    {
     "data": {
      "text/plain": [
       "False"
      ]
     },
     "execution_count": 70,
     "metadata": {},
     "output_type": "execute_result"
    }
   ],
   "source": [
    "fs = frozenset({2,3,0,4,5,6})\n",
    "all(fs)"
   ]
  },
  {
   "cell_type": "markdown",
   "id": "458d0b23",
   "metadata": {},
   "source": [
    "#### any()\n",
    "Returns True if any item in an iterable object is true. otherwise it returns False. If the iterable object is empty, the any() function will return False."
   ]
  },
  {
   "cell_type": "markdown",
   "id": "8d348e1d",
   "metadata": {},
   "source": [
    "`Syntax: any(iterable)`\n",
    "\n",
    "**iterable >> list, tuple, string, set, dictionary\n",
    "- True >> If at least one element is True\n",
    "- False >> If the iterable is empty\n",
    "- False >> If all elements are False or 0"
   ]
  },
  {
   "cell_type": "code",
   "execution_count": null,
   "id": "63905b51",
   "metadata": {},
   "outputs": [],
   "source": [
    "**iterable >> list, tuple, string, set, dictionary\n",
    "- True >> If all the elements are True\n",
    "- True >> If the iterable is empty\n",
    "- False >> If any element is False or 0"
   ]
  },
  {
   "cell_type": "code",
   "execution_count": 72,
   "id": "595d2103",
   "metadata": {},
   "outputs": [
    {
     "data": {
      "text/plain": [
       "True"
      ]
     },
     "execution_count": 72,
     "metadata": {},
     "output_type": "execute_result"
    }
   ],
   "source": [
    "set1 = {1,2}\n",
    "any(set1)"
   ]
  },
  {
   "cell_type": "code",
   "execution_count": 73,
   "id": "03b1cf9a",
   "metadata": {},
   "outputs": [
    {
     "data": {
      "text/plain": [
       "True"
      ]
     },
     "execution_count": 73,
     "metadata": {},
     "output_type": "execute_result"
    }
   ],
   "source": [
    "list1 = ['a', 'b', '$']\n",
    "all(list1)"
   ]
  },
  {
   "cell_type": "code",
   "execution_count": 74,
   "id": "19385182",
   "metadata": {},
   "outputs": [
    {
     "data": {
      "text/plain": [
       "True"
      ]
     },
     "execution_count": 74,
     "metadata": {},
     "output_type": "execute_result"
    }
   ],
   "source": [
    "list1 = [0,2,3,4,5,6]\n",
    "all(list1) \n",
    "any(list1)"
   ]
  },
  {
   "cell_type": "code",
   "execution_count": 76,
   "id": "c34a3f81",
   "metadata": {},
   "outputs": [
    {
     "name": "stdout",
     "output_type": "stream",
     "text": [
      "False\n",
      "True\n"
     ]
    }
   ],
   "source": [
    "# Difference between false and any\n",
    "\n",
    "list1 = [True,False, True, True, False]\n",
    "print(all(list1))\n",
    "print(any(list1))"
   ]
  },
  {
   "cell_type": "code",
   "execution_count": 77,
   "id": "c2f5de39",
   "metadata": {},
   "outputs": [
    {
     "name": "stdout",
     "output_type": "stream",
     "text": [
      "True\n",
      "False\n"
     ]
    }
   ],
   "source": [
    "list1 = []\n",
    "print(all(list1))\n",
    "print(any(list1))"
   ]
  },
  {
   "cell_type": "code",
   "execution_count": 79,
   "id": "7260f165",
   "metadata": {},
   "outputs": [
    {
     "name": "stdout",
     "output_type": "stream",
     "text": [
      "True\n",
      "True\n"
     ]
    }
   ],
   "source": [
    "var = {'a' : 0, 'b' : 200}\n",
    "print(all(var)) # returning True since it is iterating keys from the dictionary\n",
    "print(any(var))"
   ]
  },
  {
   "cell_type": "code",
   "execution_count": 84,
   "id": "1ac2d94b",
   "metadata": {},
   "outputs": [
    {
     "name": "stdout",
     "output_type": "stream",
     "text": [
      "False\n",
      "True\n"
     ]
    }
   ],
   "source": [
    "var = {100 : 0, 1 : 200}\n",
    "print(all(var.values())) # # returning False since it is iterating values from the dictionary\n",
    "print(any(var))"
   ]
  },
  {
   "cell_type": "markdown",
   "id": "d081b44f",
   "metadata": {},
   "source": [
    "#### chr()\n",
    "Returns a character from the specified Unicode code.\n",
    "\n",
    "`range: A-Z >> 65-90, a-z >> 97-122`"
   ]
  },
  {
   "cell_type": "markdown",
   "id": "14f3fa5b",
   "metadata": {},
   "source": [
    "`Syntax: chr(unicode)`"
   ]
  },
  {
   "cell_type": "code",
   "execution_count": 85,
   "id": "1047c484",
   "metadata": {},
   "outputs": [
    {
     "data": {
      "text/plain": [
       "'z'"
      ]
     },
     "execution_count": 85,
     "metadata": {},
     "output_type": "execute_result"
    }
   ],
   "source": [
    "chr(122)"
   ]
  },
  {
   "cell_type": "code",
   "execution_count": 88,
   "id": "10077461",
   "metadata": {},
   "outputs": [
    {
     "data": {
      "text/plain": [
       "'D'"
      ]
     },
     "execution_count": 88,
     "metadata": {},
     "output_type": "execute_result"
    }
   ],
   "source": [
    "chr(68)"
   ]
  },
  {
   "cell_type": "code",
   "execution_count": 87,
   "id": "e427e09e",
   "metadata": {},
   "outputs": [
    {
     "data": {
      "text/plain": [
       "'Z'"
      ]
     },
     "execution_count": 87,
     "metadata": {},
     "output_type": "execute_result"
    }
   ],
   "source": [
    "chr(90)"
   ]
  },
  {
   "cell_type": "markdown",
   "id": "1e757258",
   "metadata": {},
   "source": [
    "#### ord()\n",
    "Convert an integer representing the Unicode of the specified character.\n",
    "\n",
    "`range: A-Z >> 65-90, a-z >> 97-122`"
   ]
  },
  {
   "cell_type": "markdown",
   "id": "bf96f403",
   "metadata": {},
   "source": [
    "`Syntax: ord(alphabet)`"
   ]
  },
  {
   "cell_type": "code",
   "execution_count": 90,
   "id": "1122c1ba",
   "metadata": {},
   "outputs": [
    {
     "data": {
      "text/plain": [
       "65"
      ]
     },
     "execution_count": 90,
     "metadata": {},
     "output_type": "execute_result"
    }
   ],
   "source": [
    "ord('A')"
   ]
  },
  {
   "cell_type": "code",
   "execution_count": 91,
   "id": "ee22d6c1",
   "metadata": {},
   "outputs": [
    {
     "data": {
      "text/plain": [
       "98"
      ]
     },
     "execution_count": 91,
     "metadata": {},
     "output_type": "execute_result"
    }
   ],
   "source": [
    "ord('b')"
   ]
  },
  {
   "cell_type": "code",
   "execution_count": 92,
   "id": "1f3fef3f",
   "metadata": {},
   "outputs": [
    {
     "data": {
      "text/plain": [
       "95"
      ]
     },
     "execution_count": 92,
     "metadata": {},
     "output_type": "execute_result"
    }
   ],
   "source": [
    "ord('_')"
   ]
  },
  {
   "cell_type": "markdown",
   "id": "9f9a0179",
   "metadata": {},
   "source": [
    "#### bin()\n",
    "Returns the binary version of a number"
   ]
  },
  {
   "cell_type": "markdown",
   "id": "58dec4bd",
   "metadata": {},
   "source": [
    "`Syntax: bin(number)`"
   ]
  },
  {
   "cell_type": "code",
   "execution_count": 93,
   "id": "f4b5437c",
   "metadata": {},
   "outputs": [
    {
     "data": {
      "text/plain": [
       "'0b101101'"
      ]
     },
     "execution_count": 93,
     "metadata": {},
     "output_type": "execute_result"
    }
   ],
   "source": [
    "bin(45)"
   ]
  },
  {
   "cell_type": "code",
   "execution_count": 94,
   "id": "dea9e563",
   "metadata": {},
   "outputs": [
    {
     "data": {
      "text/plain": [
       "'101101'"
      ]
     },
     "execution_count": 94,
     "metadata": {},
     "output_type": "execute_result"
    }
   ],
   "source": [
    "s1 = bin(45)\n",
    "s1 = s1.replace('0b','')\n",
    "s1"
   ]
  },
  {
   "cell_type": "code",
   "execution_count": 96,
   "id": "7463e0ff",
   "metadata": {},
   "outputs": [
    {
     "data": {
      "text/plain": [
       "'0b1000'"
      ]
     },
     "execution_count": 96,
     "metadata": {},
     "output_type": "execute_result"
    }
   ],
   "source": [
    "bin(8)"
   ]
  },
  {
   "cell_type": "code",
   "execution_count": 95,
   "id": "d9778095",
   "metadata": {},
   "outputs": [
    {
     "data": {
      "text/plain": [
       "'1000'"
      ]
     },
     "execution_count": 95,
     "metadata": {},
     "output_type": "execute_result"
    }
   ],
   "source": [
    "s1 = bin(8)\n",
    "s1 = s1.replace('0b','')\n",
    "s1"
   ]
  },
  {
   "cell_type": "markdown",
   "id": "a700b72e",
   "metadata": {},
   "source": [
    "#### abs()\n",
    "Returns the absolute value of a number"
   ]
  },
  {
   "cell_type": "markdown",
   "id": "aef00433",
   "metadata": {},
   "source": [
    "`Syntax: abs(number)`"
   ]
  },
  {
   "cell_type": "code",
   "execution_count": 103,
   "id": "aa53585a",
   "metadata": {},
   "outputs": [
    {
     "data": {
      "text/plain": [
       "5.830951894845301"
      ]
     },
     "execution_count": 103,
     "metadata": {},
     "output_type": "execute_result"
    }
   ],
   "source": [
    "abs(3+5j) # sqrt(3**2 + 5**2)\n",
    "\n",
    "# import numpy as np\n",
    "# np.sqrt(3**2 + 5**2)"
   ]
  },
  {
   "cell_type": "code",
   "execution_count": 100,
   "id": "721074bc",
   "metadata": {},
   "outputs": [
    {
     "data": {
      "text/plain": [
       "5"
      ]
     },
     "execution_count": 100,
     "metadata": {},
     "output_type": "execute_result"
    }
   ],
   "source": [
    "abs(-5)  # |-5| = 5"
   ]
  },
  {
   "cell_type": "code",
   "execution_count": 101,
   "id": "5a95445e",
   "metadata": {},
   "outputs": [
    {
     "data": {
      "text/plain": [
       "10"
      ]
     },
     "execution_count": 101,
     "metadata": {},
     "output_type": "execute_result"
    }
   ],
   "source": [
    "abs(-10)"
   ]
  },
  {
   "cell_type": "code",
   "execution_count": 102,
   "id": "e9867512",
   "metadata": {},
   "outputs": [
    {
     "data": {
      "text/plain": [
       "5"
      ]
     },
     "execution_count": 102,
     "metadata": {},
     "output_type": "execute_result"
    }
   ],
   "source": [
    "abs(5)"
   ]
  },
  {
   "cell_type": "code",
   "execution_count": 104,
   "id": "4b293ebb",
   "metadata": {},
   "outputs": [
    {
     "data": {
      "text/plain": [
       "17.0"
      ]
     },
     "execution_count": 104,
     "metadata": {},
     "output_type": "execute_result"
    }
   ],
   "source": [
    "abs(8+15j)"
   ]
  },
  {
   "cell_type": "markdown",
   "id": "2a289746",
   "metadata": {},
   "source": [
    "#### dir()\n",
    "The dir() function returns all properties and methods of the specified object, without the values. This function will return all the properties and methods, even built-in properties which are default for all object in short it displays the content of an object."
   ]
  },
  {
   "cell_type": "markdown",
   "id": "236afdcf",
   "metadata": {},
   "source": [
    "`Syntax: dir(object)`"
   ]
  },
  {
   "cell_type": "code",
   "execution_count": 105,
   "id": "1d23d4f9",
   "metadata": {},
   "outputs": [
    {
     "name": "stdout",
     "output_type": "stream",
     "text": [
      "['DirEntry', 'F_OK', 'MutableMapping', 'O_APPEND', 'O_BINARY', 'O_CREAT', 'O_EXCL', 'O_NOINHERIT', 'O_RANDOM', 'O_RDONLY', 'O_RDWR', 'O_SEQUENTIAL', 'O_SHORT_LIVED', 'O_TEMPORARY', 'O_TEXT', 'O_TRUNC', 'O_WRONLY', 'P_DETACH', 'P_NOWAIT', 'P_NOWAITO', 'P_OVERLAY', 'P_WAIT', 'PathLike', 'R_OK', 'SEEK_CUR', 'SEEK_END', 'SEEK_SET', 'TMP_MAX', 'W_OK', 'X_OK', '_AddedDllDirectory', '_Environ', '__all__', '__builtins__', '__cached__', '__doc__', '__file__', '__loader__', '__name__', '__package__', '__spec__', '_check_methods', '_execvpe', '_exists', '_exit', '_fspath', '_get_exports_list', '_putenv', '_unsetenv', '_wrap_close', 'abc', 'abort', 'access', 'add_dll_directory', 'altsep', 'chdir', 'chmod', 'close', 'closerange', 'cpu_count', 'curdir', 'defpath', 'device_encoding', 'devnull', 'dup', 'dup2', 'environ', 'error', 'execl', 'execle', 'execlp', 'execlpe', 'execv', 'execve', 'execvp', 'execvpe', 'extsep', 'fdopen', 'fsdecode', 'fsencode', 'fspath', 'fstat', 'fsync', 'ftruncate', 'get_exec_path', 'get_handle_inheritable', 'get_inheritable', 'get_terminal_size', 'getcwd', 'getcwdb', 'getenv', 'getlogin', 'getpid', 'getppid', 'isatty', 'kill', 'linesep', 'link', 'listdir', 'lseek', 'lstat', 'makedirs', 'mkdir', 'name', 'open', 'pardir', 'path', 'pathsep', 'pipe', 'popen', 'putenv', 'read', 'readlink', 'remove', 'removedirs', 'rename', 'renames', 'replace', 'rmdir', 'scandir', 'sep', 'set_handle_inheritable', 'set_inheritable', 'spawnl', 'spawnle', 'spawnv', 'spawnve', 'st', 'startfile', 'stat', 'stat_result', 'statvfs_result', 'strerror', 'supports_bytes_environ', 'supports_dir_fd', 'supports_effective_ids', 'supports_fd', 'supports_follow_symlinks', 'symlink', 'sys', 'system', 'terminal_size', 'times', 'times_result', 'truncate', 'umask', 'uname_result', 'unlink', 'urandom', 'utime', 'waitpid', 'walk', 'write']\n"
     ]
    }
   ],
   "source": [
    "import os\n",
    "\n",
    "list1 = dir(os)\n",
    "print(list1)"
   ]
  },
  {
   "cell_type": "code",
   "execution_count": 106,
   "id": "99f88bcd",
   "metadata": {},
   "outputs": [
    {
     "name": "stdout",
     "output_type": "stream",
     "text": [
      "['ALLOW_THREADS', 'AxisError', 'BUFSIZE', 'Bytes0', 'CLIP', 'ComplexWarning', 'DataSource', 'Datetime64', 'ERR_CALL', 'ERR_DEFAULT', 'ERR_IGNORE', 'ERR_LOG', 'ERR_PRINT', 'ERR_RAISE', 'ERR_WARN', 'FLOATING_POINT_SUPPORT', 'FPE_DIVIDEBYZERO', 'FPE_INVALID', 'FPE_OVERFLOW', 'FPE_UNDERFLOW', 'False_', 'Inf', 'Infinity', 'MAXDIMS', 'MAY_SHARE_BOUNDS', 'MAY_SHARE_EXACT', 'MachAr', 'ModuleDeprecationWarning', 'NAN', 'NINF', 'NZERO', 'NaN', 'PINF', 'PZERO', 'RAISE', 'RankWarning', 'SHIFT_DIVIDEBYZERO', 'SHIFT_INVALID', 'SHIFT_OVERFLOW', 'SHIFT_UNDERFLOW', 'ScalarType', 'Str0', 'Tester', 'TooHardError', 'True_', 'UFUNC_BUFSIZE_DEFAULT', 'UFUNC_PYVALS_NAME', 'Uint64', 'VisibleDeprecationWarning', 'WRAP', '_NoValue', '_UFUNC_API', '__NUMPY_SETUP__', '__all__', '__builtins__', '__cached__', '__config__', '__deprecated_attrs__', '__dir__', '__doc__', '__expired_functions__', '__file__', '__getattr__', '__git_revision__', '__loader__', '__mkl_version__', '__name__', '__package__', '__path__', '__spec__', '__version__', '_add_newdoc_ufunc', '_distributor_init', '_financial_names', '_globals', '_mat', '_pytesttester', 'abs', 'absolute', 'add', 'add_docstring', 'add_newdoc', 'add_newdoc_ufunc', 'alen', 'all', 'allclose', 'alltrue', 'amax', 'amin', 'angle', 'any', 'append', 'apply_along_axis', 'apply_over_axes', 'arange', 'arccos', 'arccosh', 'arcsin', 'arcsinh', 'arctan', 'arctan2', 'arctanh', 'argmax', 'argmin', 'argpartition', 'argsort', 'argwhere', 'around', 'array', 'array2string', 'array_equal', 'array_equiv', 'array_repr', 'array_split', 'array_str', 'asanyarray', 'asarray', 'asarray_chkfinite', 'ascontiguousarray', 'asfarray', 'asfortranarray', 'asmatrix', 'asscalar', 'atleast_1d', 'atleast_2d', 'atleast_3d', 'average', 'bartlett', 'base_repr', 'binary_repr', 'bincount', 'bitwise_and', 'bitwise_not', 'bitwise_or', 'bitwise_xor', 'blackman', 'block', 'bmat', 'bool8', 'bool_', 'broadcast', 'broadcast_arrays', 'broadcast_shapes', 'broadcast_to', 'busday_count', 'busday_offset', 'busdaycalendar', 'byte', 'byte_bounds', 'bytes0', 'bytes_', 'c_', 'can_cast', 'cast', 'cbrt', 'cdouble', 'ceil', 'cfloat', 'char', 'character', 'chararray', 'choose', 'clip', 'clongdouble', 'clongfloat', 'column_stack', 'common_type', 'compare_chararrays', 'compat', 'complex128', 'complex64', 'complex_', 'complexfloating', 'compress', 'concatenate', 'conj', 'conjugate', 'convolve', 'copy', 'copysign', 'copyto', 'core', 'corrcoef', 'correlate', 'cos', 'cosh', 'count_nonzero', 'cov', 'cross', 'csingle', 'ctypeslib', 'cumprod', 'cumproduct', 'cumsum', 'datetime64', 'datetime_as_string', 'datetime_data', 'deg2rad', 'degrees', 'delete', 'deprecate', 'deprecate_with_doc', 'diag', 'diag_indices', 'diag_indices_from', 'diagflat', 'diagonal', 'diff', 'digitize', 'disp', 'divide', 'divmod', 'dot', 'double', 'dsplit', 'dstack', 'dtype', 'e', 'ediff1d', 'einsum', 'einsum_path', 'emath', 'empty', 'empty_like', 'equal', 'errstate', 'euler_gamma', 'exp', 'exp2', 'expand_dims', 'expm1', 'extract', 'eye', 'fabs', 'fastCopyAndTranspose', 'fft', 'fill_diagonal', 'find_common_type', 'finfo', 'fix', 'flatiter', 'flatnonzero', 'flexible', 'flip', 'fliplr', 'flipud', 'float16', 'float32', 'float64', 'float_', 'float_power', 'floating', 'floor', 'floor_divide', 'fmax', 'fmin', 'fmod', 'format_float_positional', 'format_float_scientific', 'format_parser', 'frexp', 'frombuffer', 'fromfile', 'fromfunction', 'fromiter', 'frompyfunc', 'fromregex', 'fromstring', 'full', 'full_like', 'gcd', 'generic', 'genfromtxt', 'geomspace', 'get_array_wrap', 'get_include', 'get_printoptions', 'getbufsize', 'geterr', 'geterrcall', 'geterrobj', 'gradient', 'greater', 'greater_equal', 'half', 'hamming', 'hanning', 'heaviside', 'histogram', 'histogram2d', 'histogram_bin_edges', 'histogramdd', 'hsplit', 'hstack', 'hypot', 'i0', 'identity', 'iinfo', 'imag', 'in1d', 'index_exp', 'indices', 'inexact', 'inf', 'info', 'infty', 'inner', 'insert', 'int0', 'int16', 'int32', 'int64', 'int8', 'int_', 'intc', 'integer', 'interp', 'intersect1d', 'intp', 'invert', 'is_busday', 'isclose', 'iscomplex', 'iscomplexobj', 'isfinite', 'isfortran', 'isin', 'isinf', 'isnan', 'isnat', 'isneginf', 'isposinf', 'isreal', 'isrealobj', 'isscalar', 'issctype', 'issubclass_', 'issubdtype', 'issubsctype', 'iterable', 'ix_', 'kaiser', 'kron', 'lcm', 'ldexp', 'left_shift', 'less', 'less_equal', 'lexsort', 'lib', 'linalg', 'linspace', 'little_endian', 'load', 'loads', 'loadtxt', 'log', 'log10', 'log1p', 'log2', 'logaddexp', 'logaddexp2', 'logical_and', 'logical_not', 'logical_or', 'logical_xor', 'logspace', 'longcomplex', 'longdouble', 'longfloat', 'longlong', 'lookfor', 'ma', 'mafromtxt', 'mask_indices', 'mat', 'math', 'matmul', 'matrix', 'matrixlib', 'max', 'maximum', 'maximum_sctype', 'may_share_memory', 'mean', 'median', 'memmap', 'meshgrid', 'mgrid', 'min', 'min_scalar_type', 'minimum', 'mintypecode', 'mkl', 'mod', 'modf', 'moveaxis', 'msort', 'multiply', 'nan', 'nan_to_num', 'nanargmax', 'nanargmin', 'nancumprod', 'nancumsum', 'nanmax', 'nanmean', 'nanmedian', 'nanmin', 'nanpercentile', 'nanprod', 'nanquantile', 'nanstd', 'nansum', 'nanvar', 'nbytes', 'ndarray', 'ndenumerate', 'ndfromtxt', 'ndim', 'ndindex', 'nditer', 'negative', 'nested_iters', 'newaxis', 'nextafter', 'nonzero', 'not_equal', 'numarray', 'number', 'obj2sctype', 'object0', 'object_', 'ogrid', 'oldnumeric', 'ones', 'ones_like', 'os', 'outer', 'packbits', 'pad', 'partition', 'percentile', 'pi', 'piecewise', 'place', 'poly', 'poly1d', 'polyadd', 'polyder', 'polydiv', 'polyfit', 'polyint', 'polymul', 'polynomial', 'polysub', 'polyval', 'positive', 'power', 'printoptions', 'prod', 'product', 'promote_types', 'ptp', 'put', 'put_along_axis', 'putmask', 'quantile', 'r_', 'rad2deg', 'radians', 'random', 'ravel', 'ravel_multi_index', 'real', 'real_if_close', 'rec', 'recarray', 'recfromcsv', 'recfromtxt', 'reciprocal', 'record', 'remainder', 'repeat', 'require', 'reshape', 'resize', 'result_type', 'right_shift', 'rint', 'roll', 'rollaxis', 'roots', 'rot90', 'round', 'round_', 'row_stack', 's_', 'safe_eval', 'save', 'savetxt', 'savez', 'savez_compressed', 'sctype2char', 'sctypeDict', 'sctypes', 'searchsorted', 'select', 'set_numeric_ops', 'set_printoptions', 'set_string_function', 'setbufsize', 'setdiff1d', 'seterr', 'seterrcall', 'seterrobj', 'setxor1d', 'shape', 'shares_memory', 'short', 'show_config', 'sign', 'signbit', 'signedinteger', 'sin', 'sinc', 'single', 'singlecomplex', 'sinh', 'size', 'sometrue', 'sort', 'sort_complex', 'source', 'spacing', 'split', 'sqrt', 'square', 'squeeze', 'stack', 'std', 'str0', 'str_', 'string_', 'subtract', 'sum', 'swapaxes', 'sys', 'take', 'take_along_axis', 'tan', 'tanh', 'tensordot', 'test', 'testing', 'tile', 'timedelta64', 'trace', 'tracemalloc_domain', 'transpose', 'trapz', 'tri', 'tril', 'tril_indices', 'tril_indices_from', 'trim_zeros', 'triu', 'triu_indices', 'triu_indices_from', 'true_divide', 'trunc', 'typeDict', 'typecodes', 'typename', 'ubyte', 'ufunc', 'uint', 'uint0', 'uint16', 'uint32', 'uint64', 'uint8', 'uintc', 'uintp', 'ulonglong', 'unicode_', 'union1d', 'unique', 'unpackbits', 'unravel_index', 'unsignedinteger', 'unwrap', 'use_hugepage', 'ushort', 'vander', 'var', 'vdot', 'vectorize', 'version', 'void', 'void0', 'vsplit', 'vstack', 'warnings', 'where', 'who', 'zeros', 'zeros_like']\n"
     ]
    }
   ],
   "source": [
    "import numpy as np\n",
    "\n",
    "list1 = dir(np)\n",
    "print(list1)"
   ]
  },
  {
   "cell_type": "code",
   "execution_count": 107,
   "id": "4b16ad80",
   "metadata": {},
   "outputs": [
    {
     "name": "stdout",
     "output_type": "stream",
     "text": [
      "['__class__', '__delattr__', '__dict__', '__dir__', '__doc__', '__eq__', '__format__', '__ge__', '__getattribute__', '__gt__', '__hash__', '__init__', '__init_subclass__', '__le__', '__lt__', '__module__', '__ne__', '__new__', '__reduce__', '__reduce_ex__', '__repr__', '__setattr__', '__sizeof__', '__str__', '__subclasshook__', '__weakref__', 'age', 'country', 'name']\n"
     ]
    }
   ],
   "source": [
    "class Person:\n",
    "    name = \"John\"\n",
    "    age = 36\n",
    "    country = \"Norway\"\n",
    "\n",
    "print(dir(Person))"
   ]
  },
  {
   "cell_type": "markdown",
   "id": "3eec786f",
   "metadata": {},
   "source": [
    "#### eval()\n",
    "The eval() function evaluates the specified expression, if the expression is a legal Python statement, it will be executed."
   ]
  },
  {
   "cell_type": "code",
   "execution_count": 108,
   "id": "64045260",
   "metadata": {},
   "outputs": [
    {
     "name": "stdout",
     "output_type": "stream",
     "text": [
      "55\n"
     ]
    }
   ],
   "source": [
    "x = 'print(55)'\n",
    "eval(x)"
   ]
  },
  {
   "cell_type": "code",
   "execution_count": 109,
   "id": "26a00445",
   "metadata": {},
   "outputs": [
    {
     "name": "stdout",
     "output_type": "stream",
     "text": [
      "1\n",
      "1 <class 'str'>\n"
     ]
    }
   ],
   "source": [
    "# More practical use is in input statements since using this function we can determine data type of input variable by default.\n",
    "a = input()\n",
    "print(a, type(a))"
   ]
  },
  {
   "cell_type": "code",
   "execution_count": 110,
   "id": "309066a4",
   "metadata": {},
   "outputs": [
    {
     "name": "stdout",
     "output_type": "stream",
     "text": [
      "1\n",
      "1 <class 'int'>\n"
     ]
    }
   ],
   "source": [
    "# Using eval() function\n",
    "\n",
    "a = eval(input())\n",
    "print(a, type(a))"
   ]
  },
  {
   "cell_type": "code",
   "execution_count": 111,
   "id": "961c84ad",
   "metadata": {},
   "outputs": [
    {
     "name": "stdout",
     "output_type": "stream",
     "text": [
      "12.345\n",
      "12.345 <class 'float'>\n"
     ]
    }
   ],
   "source": [
    "a = eval(input())\n",
    "print(a, type(a))"
   ]
  },
  {
   "cell_type": "code",
   "execution_count": 113,
   "id": "f464edc3",
   "metadata": {},
   "outputs": [
    {
     "name": "stdout",
     "output_type": "stream",
     "text": [
      "3+5j\n",
      "(3+5j) <class 'complex'>\n"
     ]
    }
   ],
   "source": [
    "a = eval(input())\n",
    "print(a, type(a))"
   ]
  },
  {
   "cell_type": "code",
   "execution_count": 115,
   "id": "2521505a",
   "metadata": {},
   "outputs": [
    {
     "name": "stdout",
     "output_type": "stream",
     "text": [
      "'omkar'\n",
      "omkar <class 'str'>\n"
     ]
    }
   ],
   "source": [
    "# for string you have to give single quotes \n",
    "\n",
    "a = eval(input())\n",
    "print(a, type(a))"
   ]
  },
  {
   "cell_type": "markdown",
   "id": "afd96991",
   "metadata": {},
   "source": [
    "#### iter()\n",
    "The iter() function returns an iterator object.\n",
    "\n",
    "Iterator>> When an object of iterables is created then it is known as iterator. Iterables are nothing but which contains countable numbers of values. like lis, tuple, dictionary, set, string."
   ]
  },
  {
   "cell_type": "markdown",
   "id": "eaa36d95",
   "metadata": {},
   "source": [
    "`Syntax: iter(object)`"
   ]
  },
  {
   "cell_type": "code",
   "execution_count": 121,
   "id": "a4e800c9",
   "metadata": {},
   "outputs": [
    {
     "name": "stdout",
     "output_type": "stream",
     "text": [
      "2\n",
      "3\n",
      "4\n",
      "5\n",
      "6\n"
     ]
    }
   ],
   "source": [
    "list1 = [2,3,4,5,6]\n",
    "for char in list1:\n",
    "    print(char)"
   ]
  },
  {
   "cell_type": "code",
   "execution_count": 125,
   "id": "ec3cb863",
   "metadata": {},
   "outputs": [
    {
     "name": "stdout",
     "output_type": "stream",
     "text": [
      "2\n",
      "3\n",
      "4\n",
      "5\n",
      "6\n"
     ]
    }
   ],
   "source": [
    "list1 = [2,3,4,5,6]\n",
    "iterable_item = iter(list1)\n",
    "\n",
    "a1 = next(iterable_item) # 2\n",
    "a2 = next(iterable_item) # 3\n",
    "a3 = next(iterable_item) # 4\n",
    "a4 = next(iterable_item) # 5\n",
    "a5 = next(iterable_item) # 6\n",
    "print(a1)\n",
    "print(a2)\n",
    "print(a3)\n",
    "print(a4)\n",
    "print(a5)"
   ]
  },
  {
   "cell_type": "code",
   "execution_count": 126,
   "id": "562bb6c3",
   "metadata": {},
   "outputs": [
    {
     "name": "stdout",
     "output_type": "stream",
     "text": [
      "a\n",
      "e\n",
      "i\n",
      "o\n",
      "u\n"
     ]
    }
   ],
   "source": [
    "# list of vowels\n",
    "\n",
    "vowels = ['a', 'e', 'i','o','u']\n",
    "vowels_iter = iter(vowels)\n",
    "print(next(vowels_iter))\n",
    "print(next(vowels_iter))\n",
    "print(next(vowels_iter))\n",
    "print(next(vowels_iter))\n",
    "print(next(vowels_iter))"
   ]
  },
  {
   "cell_type": "code",
   "execution_count": 119,
   "id": "0cd0ccbc",
   "metadata": {},
   "outputs": [
    {
     "name": "stdout",
     "output_type": "stream",
     "text": [
      "we\n",
      "are\n",
      "discussing\n",
      "python\n",
      "in\n",
      "online\n",
      "class\n",
      "<class 'list_iterator'>\n",
      "printed all\n"
     ]
    }
   ],
   "source": [
    "# Using try and except\n",
    "\n",
    "l1 = [\"we\",\"are\",\"discussing\",\"python\",\"in\",\"online\",\"class\"] # iterables\n",
    "l1_iter = iter(l1) # iterator\n",
    "\n",
    "try:\n",
    "    print(next(l1_iter))\n",
    "    print(next(l1_iter))\n",
    "    print(next(l1_iter))\n",
    "    print(next(l1_iter))\n",
    "    print(next(l1_iter))\n",
    "    print(next(l1_iter))\n",
    "    print(next(l1_iter))\n",
    "    print(type(l1_iter))\n",
    "    print(next(l1_iter))\n",
    "\n",
    "except:\n",
    "    print(\"printed all\")"
   ]
  },
  {
   "cell_type": "code",
   "execution_count": 120,
   "id": "9f134354",
   "metadata": {},
   "outputs": [
    {
     "name": "stdout",
     "output_type": "stream",
     "text": [
      "we\n",
      "are\n",
      "discussing\n",
      "python\n",
      "in\n",
      "online\n",
      "class\n",
      "printed all\n"
     ]
    }
   ],
   "source": [
    "# Using while loop-exception handling\n",
    "\n",
    "l1 = [\"we\",\"are\",\"discussing\",\"python\",\"in\",\"online\",\"class\"]\n",
    "\n",
    "l1_iter = iter(l1)\n",
    "while(True):\n",
    "    try:\n",
    "        print(next(l1_iter))\n",
    "    except:\n",
    "        print(\"printed all\")\n",
    "        break"
   ]
  },
  {
   "cell_type": "code",
   "execution_count": 127,
   "id": "f3019882",
   "metadata": {},
   "outputs": [],
   "source": [
    "# The reversed() function returns a reversed iterator object."
   ]
  },
  {
   "cell_type": "markdown",
   "id": "f8e58f95",
   "metadata": {},
   "source": [
    "#### format()\n",
    "The format() function formats a specified value into a specified format."
   ]
  },
  {
   "cell_type": "markdown",
   "id": "d5a36db2",
   "metadata": {},
   "source": [
    "`Syntax: format(value, format)`\n",
    "\n",
    "Legal values:\n",
    "\n",
    "` '<' - Left aligns the result (within the available space)\n",
    " '>' - Right aligns the result (within the available space)\n",
    " '^' - Center aligns the result (within the available space)\n",
    " '=' - Places the sign to the left most position\n",
    " '+' - Use a plus sign to indicate if the result is positive or negative\n",
    " '-' - Use a minus sign for negative values only\n",
    " ' ' - Use a leading space for positive numbers\n",
    " ',' - Use a comma as a thousand separator\n",
    " '_' - Use a underscore as a thousand separator\n",
    " 'b' - Binary format\n",
    " 'c' - Converts the value into the corresponding unicode character\n",
    " 'd' - Decimal format\n",
    " 'e' - Scientific format, with a lower case e\n",
    " 'E' - Scientific format, with an upper case E\n",
    " 'f' - Fix point number format\n",
    " 'F' - Fix point number format, upper case\n",
    " 'g' - General format\n",
    " 'G' - General format (using a upper case E for scientific notations)\n",
    " 'o' - Octal format\n",
    " 'x' - Hex format, lower case\n",
    " 'X' - Hex format, upper case\n",
    " 'n' - Number format\n",
    " '%' - Percentage format`"
   ]
  },
  {
   "cell_type": "code",
   "execution_count": 128,
   "id": "eaa6b9df",
   "metadata": {},
   "outputs": [
    {
     "data": {
      "text/plain": [
       "'3.140000'"
      ]
     },
     "execution_count": 128,
     "metadata": {},
     "output_type": "execute_result"
    }
   ],
   "source": [
    "format(3.14, 'f') #float"
   ]
  },
  {
   "cell_type": "code",
   "execution_count": 129,
   "id": "50abd108",
   "metadata": {},
   "outputs": [
    {
     "data": {
      "text/plain": [
       "'11'"
      ]
     },
     "execution_count": 129,
     "metadata": {},
     "output_type": "execute_result"
    }
   ],
   "source": [
    "format(3, 'b') # binary"
   ]
  },
  {
   "cell_type": "markdown",
   "id": "60c37cf4",
   "metadata": {},
   "source": [
    "#### pow()\n",
    "Returns the value of x to the power of y"
   ]
  },
  {
   "cell_type": "markdown",
   "id": "9b0420f6",
   "metadata": {},
   "source": [
    "`Syntax: pow(x, y, z)`\n",
    "\n",
    "- x: A number, the base\n",
    "- y: A number, the exponent\n",
    "- z: (Optional) A number, the modulus"
   ]
  },
  {
   "cell_type": "code",
   "execution_count": 131,
   "id": "49accdcc",
   "metadata": {},
   "outputs": [
    {
     "data": {
      "text/plain": [
       "16"
      ]
     },
     "execution_count": 131,
     "metadata": {},
     "output_type": "execute_result"
    }
   ],
   "source": [
    "4 ** 2"
   ]
  },
  {
   "cell_type": "code",
   "execution_count": 132,
   "id": "9b304afa",
   "metadata": {},
   "outputs": [
    {
     "data": {
      "text/plain": [
       "16"
      ]
     },
     "execution_count": 132,
     "metadata": {},
     "output_type": "execute_result"
    }
   ],
   "source": [
    "pow(4, 2)"
   ]
  },
  {
   "cell_type": "code",
   "execution_count": 135,
   "id": "1e38ace2",
   "metadata": {},
   "outputs": [
    {
     "data": {
      "text/plain": [
       "4"
      ]
     },
     "execution_count": 135,
     "metadata": {},
     "output_type": "execute_result"
    }
   ],
   "source": [
    "pow(4, 3, 5) # (4**3)%5 ; (4*4*4)%5 ; (64)%5 ; 4 "
   ]
  },
  {
   "cell_type": "markdown",
   "id": "461e183e",
   "metadata": {},
   "source": [
    "#### divmod()\n",
    "The divmod() function returns a tuple containing the quotient  and the remainder when argument1 (dividend) is divided by argument2 (divisor)."
   ]
  },
  {
   "cell_type": "markdown",
   "id": "e6f5bb99",
   "metadata": {},
   "source": [
    "`Syntax: divmod(dividend, divisor)`\n",
    "- dividend: The number you want to divide\n",
    "- divisor: The number you want to divide with"
   ]
  },
  {
   "cell_type": "code",
   "execution_count": 137,
   "id": "a435b907",
   "metadata": {},
   "outputs": [
    {
     "data": {
      "text/plain": [
       "(71, 1)"
      ]
     },
     "execution_count": 137,
     "metadata": {},
     "output_type": "execute_result"
    }
   ],
   "source": [
    "divmod(143, 2)"
   ]
  },
  {
   "cell_type": "code",
   "execution_count": 138,
   "id": "2e8817da",
   "metadata": {},
   "outputs": [
    {
     "data": {
      "text/plain": [
       "(32, 3)"
      ]
     },
     "execution_count": 138,
     "metadata": {},
     "output_type": "execute_result"
    }
   ],
   "source": [
    "divmod(163, 5)"
   ]
  },
  {
   "cell_type": "markdown",
   "id": "1f2bad8f",
   "metadata": {},
   "source": [
    "#### Extra useful built-in functions of python:"
   ]
  },
  {
   "cell_type": "markdown",
   "id": "5d05af46",
   "metadata": {},
   "source": [
    "#### bool()\n",
    "The bool() function returns the boolean value of a specified object. \n",
    "\n",
    "The object will always return True, unless:\n",
    "- The object is empty, like [], (), {}\n",
    "- The object is False\n",
    "- The object is 0\n",
    "- The object is None"
   ]
  },
  {
   "cell_type": "markdown",
   "id": "b2946c7b",
   "metadata": {},
   "source": [
    "`Syntax: bool(object)`"
   ]
  },
  {
   "cell_type": "code",
   "execution_count": 2,
   "id": "5eb46c0c",
   "metadata": {},
   "outputs": [
    {
     "data": {
      "text/plain": [
       "False"
      ]
     },
     "execution_count": 2,
     "metadata": {},
     "output_type": "execute_result"
    }
   ],
   "source": [
    "bool(0)"
   ]
  },
  {
   "cell_type": "code",
   "execution_count": 3,
   "id": "67c169cb",
   "metadata": {},
   "outputs": [
    {
     "data": {
      "text/plain": [
       "True"
      ]
     },
     "execution_count": 3,
     "metadata": {},
     "output_type": "execute_result"
    }
   ],
   "source": [
    "bool(1)"
   ]
  },
  {
   "cell_type": "code",
   "execution_count": 4,
   "id": "ecf93a5f",
   "metadata": {},
   "outputs": [
    {
     "data": {
      "text/plain": [
       "True"
      ]
     },
     "execution_count": 4,
     "metadata": {},
     "output_type": "execute_result"
    }
   ],
   "source": [
    "bool(-1)"
   ]
  },
  {
   "cell_type": "code",
   "execution_count": 5,
   "id": "14a49993",
   "metadata": {},
   "outputs": [
    {
     "data": {
      "text/plain": [
       "False"
      ]
     },
     "execution_count": 5,
     "metadata": {},
     "output_type": "execute_result"
    }
   ],
   "source": [
    "bool(())"
   ]
  },
  {
   "cell_type": "code",
   "execution_count": 6,
   "id": "31349aaf",
   "metadata": {},
   "outputs": [
    {
     "data": {
      "text/plain": [
       "True"
      ]
     },
     "execution_count": 6,
     "metadata": {},
     "output_type": "execute_result"
    }
   ],
   "source": [
    "bool((2,))"
   ]
  },
  {
   "cell_type": "code",
   "execution_count": 7,
   "id": "45e5e2eb",
   "metadata": {},
   "outputs": [
    {
     "data": {
      "text/plain": [
       "False"
      ]
     },
     "execution_count": 7,
     "metadata": {},
     "output_type": "execute_result"
    }
   ],
   "source": [
    "bool([])"
   ]
  },
  {
   "cell_type": "code",
   "execution_count": 8,
   "id": "94e99b30",
   "metadata": {},
   "outputs": [
    {
     "data": {
      "text/plain": [
       "False"
      ]
     },
     "execution_count": 8,
     "metadata": {},
     "output_type": "execute_result"
    }
   ],
   "source": [
    "bool({})"
   ]
  },
  {
   "cell_type": "markdown",
   "id": "cc7f49b1",
   "metadata": {},
   "source": [
    "#### callable()\n",
    "The callable() function returns True if the specified object is callable, otherwise it returns False. If we just declare a variable with value, it is not callable, but if we declare a function then it becomes callable."
   ]
  },
  {
   "cell_type": "markdown",
   "id": "a164c38c",
   "metadata": {},
   "source": [
    "`Syntax: callable()`"
   ]
  },
  {
   "cell_type": "code",
   "execution_count": 9,
   "id": "3c81204e",
   "metadata": {},
   "outputs": [
    {
     "data": {
      "text/plain": [
       "False"
      ]
     },
     "execution_count": 9,
     "metadata": {},
     "output_type": "execute_result"
    }
   ],
   "source": [
    "callable(6)"
   ]
  },
  {
   "cell_type": "code",
   "execution_count": 10,
   "id": "cd3afaf7",
   "metadata": {},
   "outputs": [
    {
     "name": "stdout",
     "output_type": "stream",
     "text": [
      "True\n"
     ]
    },
    {
     "data": {
      "text/plain": [
       "15"
      ]
     },
     "execution_count": 10,
     "metadata": {},
     "output_type": "execute_result"
    }
   ],
   "source": [
    "def func_callable():\n",
    "    x = 3\n",
    "    y = 5\n",
    "    z = x*y\n",
    "    return z\n",
    "\n",
    "print(callable(func_callable))\n",
    "func_callable()"
   ]
  },
  {
   "cell_type": "markdown",
   "id": "a4c8c482",
   "metadata": {},
   "source": [
    "#### complex()\n",
    "The complex() function returns a complex number by specifying a real number and an imaginary number."
   ]
  },
  {
   "cell_type": "markdown",
   "id": "cc8b09eb",
   "metadata": {},
   "source": [
    "`Syntax: complex(real, imaginary)`"
   ]
  },
  {
   "cell_type": "code",
   "execution_count": 37,
   "id": "047fb6ca",
   "metadata": {},
   "outputs": [
    {
     "data": {
      "text/plain": [
       "(3+5j)"
      ]
     },
     "execution_count": 37,
     "metadata": {},
     "output_type": "execute_result"
    }
   ],
   "source": [
    "complex(3,5)"
   ]
  },
  {
   "cell_type": "code",
   "execution_count": 38,
   "id": "d8726534",
   "metadata": {},
   "outputs": [
    {
     "data": {
      "text/plain": [
       "(5+3j)"
      ]
     },
     "execution_count": 38,
     "metadata": {},
     "output_type": "execute_result"
    }
   ],
   "source": [
    "complex(5,3)"
   ]
  },
  {
   "cell_type": "markdown",
   "id": "232afeef",
   "metadata": {},
   "source": [
    "#### delattr()\n",
    "The delattr() function will delete the specified attribute from the specified object."
   ]
  },
  {
   "cell_type": "markdown",
   "id": "9f6a5f67",
   "metadata": {},
   "source": [
    "`Syntax: delattr(object, attribute)`\n",
    "- object: Required. An object.\n",
    "- attribute: Required. The name of the attribute you want to remove"
   ]
  },
  {
   "cell_type": "code",
   "execution_count": 42,
   "id": "1779d196",
   "metadata": {},
   "outputs": [],
   "source": [
    "class Person:\n",
    "    name = \"John\"\n",
    "    age = 36\n",
    "    country = \"Norway\"\n",
    "\n",
    "delattr(Person, 'age')\n",
    "\n",
    "# age attribute got deleted\n",
    "# print(age)"
   ]
  },
  {
   "cell_type": "markdown",
   "id": "d49661ef",
   "metadata": {},
   "source": [
    "#### getattr()\n",
    "The getattr() function returns the value of the specified attribute from the specified object."
   ]
  },
  {
   "cell_type": "markdown",
   "id": "f80c8c88",
   "metadata": {},
   "source": [
    "`Syntax: getattr(object, attribute, default)`\n",
    "- object: Required. An object.\n",
    "- attribute:\tThe name of the attribute you want to get the value from\n",
    "- default: Optional. The value to return if the attribute does not exist "
   ]
  },
  {
   "cell_type": "code",
   "execution_count": 45,
   "id": "c9908308",
   "metadata": {},
   "outputs": [
    {
     "name": "stdout",
     "output_type": "stream",
     "text": [
      "36\n"
     ]
    }
   ],
   "source": [
    "class Person:\n",
    "    name = \"John\"\n",
    "    age = 36\n",
    "    country = \"Norway\"\n",
    "\n",
    "x = getattr(Person, 'age')\n",
    "print(x)"
   ]
  },
  {
   "cell_type": "code",
   "execution_count": 48,
   "id": "3bff1eab",
   "metadata": {},
   "outputs": [
    {
     "name": "stdout",
     "output_type": "stream",
     "text": [
      "Attribute does not exists\n"
     ]
    }
   ],
   "source": [
    "# Use the \"default\" parameter to write a message when the attribute does not exist\n",
    "\n",
    "class Person:\n",
    "    name = \"John\"\n",
    "    age = 36\n",
    "    country = \"Norway\"\n",
    "\n",
    "x = getattr(Person, 'page', 'Attribute does not exists')\n",
    "print(x)"
   ]
  },
  {
   "cell_type": "markdown",
   "id": "e605620b",
   "metadata": {},
   "source": [
    "#### hasattr()\n",
    "The hasattr() function returns True if the specified object has the specified attribute, otherwise False."
   ]
  },
  {
   "cell_type": "markdown",
   "id": "6f0e9568",
   "metadata": {},
   "source": [
    "`Syntax: hasattr(object, attribute)`\n",
    "- object: Required. An object.\n",
    "- attribute: The name of the attribute you want to check if exists"
   ]
  },
  {
   "cell_type": "code",
   "execution_count": 49,
   "id": "32e6dae3",
   "metadata": {},
   "outputs": [
    {
     "data": {
      "text/plain": [
       "True"
      ]
     },
     "execution_count": 49,
     "metadata": {},
     "output_type": "execute_result"
    }
   ],
   "source": [
    "class Person:\n",
    "    name = \"John\"\n",
    "    age = 36\n",
    "    country = \"Norway\"\n",
    "\n",
    "hasattr(Person, 'age')"
   ]
  },
  {
   "cell_type": "code",
   "execution_count": 50,
   "id": "62d0d04d",
   "metadata": {},
   "outputs": [
    {
     "data": {
      "text/plain": [
       "False"
      ]
     },
     "execution_count": 50,
     "metadata": {},
     "output_type": "execute_result"
    }
   ],
   "source": [
    "class Person:\n",
    "    name = \"John\"\n",
    "    age = 36\n",
    "    country = \"Norway\"\n",
    "    \n",
    "hasattr(Person, 'page')"
   ]
  },
  {
   "cell_type": "markdown",
   "id": "da925372",
   "metadata": {},
   "source": [
    "#### setattr()\n",
    "The setattr() function sets the value of the specified attribute of the specified object."
   ]
  },
  {
   "cell_type": "markdown",
   "id": "6036cd16",
   "metadata": {},
   "source": [
    "`Syntax: setattr(object, attribute, value)`\n",
    "- object: Required. An object.\n",
    "- attribute: Required. The name of the attribute you want to set\n",
    "- value: Required. The value you want to give the specified attribute"
   ]
  },
  {
   "cell_type": "code",
   "execution_count": 54,
   "id": "36db4ece",
   "metadata": {},
   "outputs": [
    {
     "name": "stdout",
     "output_type": "stream",
     "text": [
      "40\n"
     ]
    }
   ],
   "source": [
    "class Person:\n",
    "    name = \"John\"\n",
    "    age = 36\n",
    "    country = \"Norway\"\n",
    "\n",
    "setattr(Person, 'age', 40)\n",
    "\n",
    "print(getattr(Person, 'age'))"
   ]
  },
  {
   "cell_type": "markdown",
   "id": "14765961",
   "metadata": {},
   "source": [
    "#### enumerate()\n",
    "function adds a counter as the key of the enumerate object."
   ]
  },
  {
   "cell_type": "markdown",
   "id": "9e065e5b",
   "metadata": {},
   "source": [
    "`Syntax: enumerate(iterable, start)`\n",
    "- iterable: An iterable object\n",
    "- start: A Number. Defining the start number of the enumerate object. Default 0"
   ]
  },
  {
   "cell_type": "code",
   "execution_count": 56,
   "id": "86007b04",
   "metadata": {},
   "outputs": [
    {
     "name": "stdout",
     "output_type": "stream",
     "text": [
      "[(0, 'apple'), (1, 'banana'), (2, 'cherry')]\n"
     ]
    }
   ],
   "source": [
    "x = ('apple', 'banana', 'cherry')\n",
    "y = enumerate(x)\n",
    "print(list(y))"
   ]
  },
  {
   "cell_type": "code",
   "execution_count": 57,
   "id": "feb6c219",
   "metadata": {},
   "outputs": [
    {
     "name": "stdout",
     "output_type": "stream",
     "text": [
      "[(5, 'apple'), (6, 'banana'), (7, 'cherry')]\n"
     ]
    }
   ],
   "source": [
    "x = ('apple', 'banana', 'cherry')\n",
    "y = enumerate(x,5)\n",
    "print(list(y))"
   ]
  },
  {
   "cell_type": "code",
   "execution_count": 63,
   "id": "ee94e689",
   "metadata": {},
   "outputs": [
    {
     "name": "stdout",
     "output_type": "stream",
     "text": [
      "0 apple\n",
      "1 banana\n",
      "2 cherry\n"
     ]
    }
   ],
   "source": [
    "# BY default start from 0\n",
    "\n",
    "list1 = ('apple', 'banana', 'cherry')\n",
    "for x,y in enumerate(list1):\n",
    "    print(x,y)"
   ]
  },
  {
   "cell_type": "code",
   "execution_count": 65,
   "id": "71bfcf76",
   "metadata": {},
   "outputs": [
    {
     "name": "stdout",
     "output_type": "stream",
     "text": [
      "5 apple\n",
      "6 banana\n",
      "7 cherry\n"
     ]
    }
   ],
   "source": [
    "# counting start from 5\n",
    "\n",
    "list1 = ('apple', 'banana', 'cherry')\n",
    "for x,y in enumerate(list1,5):\n",
    "    print(x,y)"
   ]
  },
  {
   "cell_type": "markdown",
   "id": "7454f0e6",
   "metadata": {},
   "source": [
    "#### exec()\n",
    "The exec() function executes the specified Python code. The exec() function accepts large blocks of code, unlike the eval() function which only accepts a single expression."
   ]
  },
  {
   "cell_type": "markdown",
   "id": "28afc864",
   "metadata": {},
   "source": [
    "`Syntax: exec(object, globals, locals)`\n",
    "- object: A String, or a code object\n",
    "- globals: Optional. A dictionary containing global parameters\n",
    "- locals: Optional. A dictionary containing local parameters"
   ]
  },
  {
   "cell_type": "code",
   "execution_count": 66,
   "id": "7d895fc7",
   "metadata": {},
   "outputs": [
    {
     "name": "stdout",
     "output_type": "stream",
     "text": [
      "John\n"
     ]
    }
   ],
   "source": [
    "x = 'name = \"John\"\\nprint(name)'\n",
    "exec(x)"
   ]
  },
  {
   "cell_type": "markdown",
   "id": "bd07a44a",
   "metadata": {},
   "source": [
    "#### help()\n",
    "Executes the built-in help system"
   ]
  },
  {
   "cell_type": "code",
   "execution_count": 69,
   "id": "d66c5a81",
   "metadata": {},
   "outputs": [
    {
     "name": "stdout",
     "output_type": "stream",
     "text": [
      "Help on class int in module builtins:\n",
      "\n",
      "class int(object)\n",
      " |  int([x]) -> integer\n",
      " |  int(x, base=10) -> integer\n",
      " |  \n",
      " |  Convert a number or string to an integer, or return 0 if no arguments\n",
      " |  are given.  If x is a number, return x.__int__().  For floating point\n",
      " |  numbers, this truncates towards zero.\n",
      " |  \n",
      " |  If x is not a number or if base is given, then x must be a string,\n",
      " |  bytes, or bytearray instance representing an integer literal in the\n",
      " |  given base.  The literal can be preceded by '+' or '-' and be surrounded\n",
      " |  by whitespace.  The base defaults to 10.  Valid bases are 0 and 2-36.\n",
      " |  Base 0 means to interpret the base from the string as an integer literal.\n",
      " |  >>> int('0b100', base=0)\n",
      " |  4\n",
      " |  \n",
      " |  Built-in subclasses:\n",
      " |      bool\n",
      " |  \n",
      " |  Methods defined here:\n",
      " |  \n",
      " |  __abs__(self, /)\n",
      " |      abs(self)\n",
      " |  \n",
      " |  __add__(self, value, /)\n",
      " |      Return self+value.\n",
      " |  \n",
      " |  __and__(self, value, /)\n",
      " |      Return self&value.\n",
      " |  \n",
      " |  __bool__(self, /)\n",
      " |      self != 0\n",
      " |  \n",
      " |  __ceil__(...)\n",
      " |      Ceiling of an Integral returns itself.\n",
      " |  \n",
      " |  __divmod__(self, value, /)\n",
      " |      Return divmod(self, value).\n",
      " |  \n",
      " |  __eq__(self, value, /)\n",
      " |      Return self==value.\n",
      " |  \n",
      " |  __float__(self, /)\n",
      " |      float(self)\n",
      " |  \n",
      " |  __floor__(...)\n",
      " |      Flooring an Integral returns itself.\n",
      " |  \n",
      " |  __floordiv__(self, value, /)\n",
      " |      Return self//value.\n",
      " |  \n",
      " |  __format__(self, format_spec, /)\n",
      " |      Default object formatter.\n",
      " |  \n",
      " |  __ge__(self, value, /)\n",
      " |      Return self>=value.\n",
      " |  \n",
      " |  __getattribute__(self, name, /)\n",
      " |      Return getattr(self, name).\n",
      " |  \n",
      " |  __getnewargs__(self, /)\n",
      " |  \n",
      " |  __gt__(self, value, /)\n",
      " |      Return self>value.\n",
      " |  \n",
      " |  __hash__(self, /)\n",
      " |      Return hash(self).\n",
      " |  \n",
      " |  __index__(self, /)\n",
      " |      Return self converted to an integer, if self is suitable for use as an index into a list.\n",
      " |  \n",
      " |  __int__(self, /)\n",
      " |      int(self)\n",
      " |  \n",
      " |  __invert__(self, /)\n",
      " |      ~self\n",
      " |  \n",
      " |  __le__(self, value, /)\n",
      " |      Return self<=value.\n",
      " |  \n",
      " |  __lshift__(self, value, /)\n",
      " |      Return self<<value.\n",
      " |  \n",
      " |  __lt__(self, value, /)\n",
      " |      Return self<value.\n",
      " |  \n",
      " |  __mod__(self, value, /)\n",
      " |      Return self%value.\n",
      " |  \n",
      " |  __mul__(self, value, /)\n",
      " |      Return self*value.\n",
      " |  \n",
      " |  __ne__(self, value, /)\n",
      " |      Return self!=value.\n",
      " |  \n",
      " |  __neg__(self, /)\n",
      " |      -self\n",
      " |  \n",
      " |  __or__(self, value, /)\n",
      " |      Return self|value.\n",
      " |  \n",
      " |  __pos__(self, /)\n",
      " |      +self\n",
      " |  \n",
      " |  __pow__(self, value, mod=None, /)\n",
      " |      Return pow(self, value, mod).\n",
      " |  \n",
      " |  __radd__(self, value, /)\n",
      " |      Return value+self.\n",
      " |  \n",
      " |  __rand__(self, value, /)\n",
      " |      Return value&self.\n",
      " |  \n",
      " |  __rdivmod__(self, value, /)\n",
      " |      Return divmod(value, self).\n",
      " |  \n",
      " |  __repr__(self, /)\n",
      " |      Return repr(self).\n",
      " |  \n",
      " |  __rfloordiv__(self, value, /)\n",
      " |      Return value//self.\n",
      " |  \n",
      " |  __rlshift__(self, value, /)\n",
      " |      Return value<<self.\n",
      " |  \n",
      " |  __rmod__(self, value, /)\n",
      " |      Return value%self.\n",
      " |  \n",
      " |  __rmul__(self, value, /)\n",
      " |      Return value*self.\n",
      " |  \n",
      " |  __ror__(self, value, /)\n",
      " |      Return value|self.\n",
      " |  \n",
      " |  __round__(...)\n",
      " |      Rounding an Integral returns itself.\n",
      " |      Rounding with an ndigits argument also returns an integer.\n",
      " |  \n",
      " |  __rpow__(self, value, mod=None, /)\n",
      " |      Return pow(value, self, mod).\n",
      " |  \n",
      " |  __rrshift__(self, value, /)\n",
      " |      Return value>>self.\n",
      " |  \n",
      " |  __rshift__(self, value, /)\n",
      " |      Return self>>value.\n",
      " |  \n",
      " |  __rsub__(self, value, /)\n",
      " |      Return value-self.\n",
      " |  \n",
      " |  __rtruediv__(self, value, /)\n",
      " |      Return value/self.\n",
      " |  \n",
      " |  __rxor__(self, value, /)\n",
      " |      Return value^self.\n",
      " |  \n",
      " |  __sizeof__(self, /)\n",
      " |      Returns size in memory, in bytes.\n",
      " |  \n",
      " |  __sub__(self, value, /)\n",
      " |      Return self-value.\n",
      " |  \n",
      " |  __truediv__(self, value, /)\n",
      " |      Return self/value.\n",
      " |  \n",
      " |  __trunc__(...)\n",
      " |      Truncating an Integral returns itself.\n",
      " |  \n",
      " |  __xor__(self, value, /)\n",
      " |      Return self^value.\n",
      " |  \n",
      " |  as_integer_ratio(self, /)\n",
      " |      Return integer ratio.\n",
      " |      \n",
      " |      Return a pair of integers, whose ratio is exactly equal to the original int\n",
      " |      and with a positive denominator.\n",
      " |      \n",
      " |      >>> (10).as_integer_ratio()\n",
      " |      (10, 1)\n",
      " |      >>> (-10).as_integer_ratio()\n",
      " |      (-10, 1)\n",
      " |      >>> (0).as_integer_ratio()\n",
      " |      (0, 1)\n",
      " |  \n",
      " |  bit_length(self, /)\n",
      " |      Number of bits necessary to represent self in binary.\n",
      " |      \n",
      " |      >>> bin(37)\n",
      " |      '0b100101'\n",
      " |      >>> (37).bit_length()\n",
      " |      6\n",
      " |  \n",
      " |  conjugate(...)\n",
      " |      Returns self, the complex conjugate of any int.\n",
      " |  \n",
      " |  to_bytes(self, /, length, byteorder, *, signed=False)\n",
      " |      Return an array of bytes representing an integer.\n",
      " |      \n",
      " |      length\n",
      " |        Length of bytes object to use.  An OverflowError is raised if the\n",
      " |        integer is not representable with the given number of bytes.\n",
      " |      byteorder\n",
      " |        The byte order used to represent the integer.  If byteorder is 'big',\n",
      " |        the most significant byte is at the beginning of the byte array.  If\n",
      " |        byteorder is 'little', the most significant byte is at the end of the\n",
      " |        byte array.  To request the native byte order of the host system, use\n",
      " |        `sys.byteorder' as the byte order value.\n",
      " |      signed\n",
      " |        Determines whether two's complement is used to represent the integer.\n",
      " |        If signed is False and a negative integer is given, an OverflowError\n",
      " |        is raised.\n",
      " |  \n",
      " |  ----------------------------------------------------------------------\n",
      " |  Class methods defined here:\n",
      " |  \n",
      " |  from_bytes(bytes, byteorder, *, signed=False) from builtins.type\n",
      " |      Return the integer represented by the given array of bytes.\n",
      " |      \n",
      " |      bytes\n",
      " |        Holds the array of bytes to convert.  The argument must either\n",
      " |        support the buffer protocol or be an iterable object producing bytes.\n",
      " |        Bytes and bytearray are examples of built-in objects that support the\n",
      " |        buffer protocol.\n",
      " |      byteorder\n",
      " |        The byte order used to represent the integer.  If byteorder is 'big',\n",
      " |        the most significant byte is at the beginning of the byte array.  If\n",
      " |        byteorder is 'little', the most significant byte is at the end of the\n",
      " |        byte array.  To request the native byte order of the host system, use\n",
      " |        `sys.byteorder' as the byte order value.\n",
      " |      signed\n",
      " |        Indicates whether two's complement is used to represent the integer.\n",
      " |  \n",
      " |  ----------------------------------------------------------------------\n",
      " |  Static methods defined here:\n",
      " |  \n",
      " |  __new__(*args, **kwargs) from builtins.type\n",
      " |      Create and return a new object.  See help(type) for accurate signature.\n",
      " |  \n",
      " |  ----------------------------------------------------------------------\n",
      " |  Data descriptors defined here:\n",
      " |  \n",
      " |  denominator\n",
      " |      the denominator of a rational number in lowest terms\n",
      " |  \n",
      " |  imag\n",
      " |      the imaginary part of a complex number\n",
      " |  \n",
      " |  numerator\n",
      " |      the numerator of a rational number in lowest terms\n",
      " |  \n",
      " |  real\n",
      " |      the real part of a complex number\n",
      "\n"
     ]
    }
   ],
   "source": [
    "help(int)"
   ]
  },
  {
   "cell_type": "code",
   "execution_count": 71,
   "id": "2f9cd0dd",
   "metadata": {},
   "outputs": [
    {
     "name": "stdout",
     "output_type": "stream",
     "text": [
      "\n",
      "Welcome to Python 3.8's help utility!\n",
      "\n",
      "If this is your first time using Python, you should definitely check out\n",
      "the tutorial on the Internet at https://docs.python.org/3.8/tutorial/.\n",
      "\n",
      "Enter the name of any module, keyword, or topic to get help on writing\n",
      "Python programs and using Python modules.  To quit this help utility and\n",
      "return to the interpreter, just type \"quit\".\n",
      "\n",
      "To get a list of available modules, keywords, symbols, or topics, type\n",
      "\"modules\", \"keywords\", \"symbols\", or \"topics\".  Each module also comes\n",
      "with a one-line summary of what it does; to list the modules whose name\n",
      "or summary contain a given string such as \"spam\", type \"modules spam\".\n",
      "\n",
      "help> lambda\n",
      "Lambdas\n",
      "*******\n",
      "\n",
      "   lambda_expr        ::= \"lambda\" [parameter_list] \":\" expression\n",
      "   lambda_expr_nocond ::= \"lambda\" [parameter_list] \":\" expression_nocond\n",
      "\n",
      "Lambda expressions (sometimes called lambda forms) are used to create\n",
      "anonymous functions. The expression \"lambda parameters: expression\"\n",
      "yields a function object.  The unnamed object behaves like a function\n",
      "object defined with:\n",
      "\n",
      "   def <lambda>(parameters):\n",
      "       return expression\n",
      "\n",
      "See section Function definitions for the syntax of parameter lists.\n",
      "Note that functions created with lambda expressions cannot contain\n",
      "statements or annotations.\n",
      "\n",
      "Related help topics: FUNCTIONS\n",
      "\n",
      "\n",
      "You are now leaving help and returning to the Python interpreter.\n",
      "If you want to ask for help on a particular object directly from the\n",
      "interpreter, you can type \"help(object)\".  Executing \"help('string')\"\n",
      "has the same effect as typing a particular string at the help> prompt.\n"
     ]
    }
   ],
   "source": [
    "help()"
   ]
  },
  {
   "cell_type": "markdown",
   "id": "06854f80",
   "metadata": {},
   "source": [
    "#### hex()\n",
    "The hex() function converts the specified number into a hexadecimal value. The returned string always starts with the prefix 0x."
   ]
  },
  {
   "cell_type": "code",
   "execution_count": 72,
   "id": "25285b6f",
   "metadata": {},
   "outputs": [
    {
     "data": {
      "text/plain": [
       "'0x17'"
      ]
     },
     "execution_count": 72,
     "metadata": {},
     "output_type": "execute_result"
    }
   ],
   "source": [
    "hex(23)"
   ]
  },
  {
   "cell_type": "markdown",
   "id": "30732f20",
   "metadata": {},
   "source": [
    "#### id()\n",
    "returns id of an object"
   ]
  },
  {
   "cell_type": "code",
   "execution_count": 73,
   "id": "0d7e7894",
   "metadata": {},
   "outputs": [
    {
     "data": {
      "text/plain": [
       "140710553003856"
      ]
     },
     "execution_count": 73,
     "metadata": {},
     "output_type": "execute_result"
    }
   ],
   "source": [
    "id(2)"
   ]
  },
  {
   "cell_type": "code",
   "execution_count": 74,
   "id": "05443b61",
   "metadata": {},
   "outputs": [
    {
     "data": {
      "text/plain": [
       "2741723199536"
      ]
     },
     "execution_count": 74,
     "metadata": {},
     "output_type": "execute_result"
    }
   ],
   "source": [
    "id('omkar')"
   ]
  },
  {
   "cell_type": "markdown",
   "id": "9d3e1f64",
   "metadata": {},
   "source": [
    "#### input()\n",
    "Takes input from user"
   ]
  },
  {
   "cell_type": "code",
   "execution_count": 80,
   "id": "bfdadc77",
   "metadata": {},
   "outputs": [
    {
     "name": "stdout",
     "output_type": "stream",
     "text": [
      "Please provide valuefor x: 5\n",
      "value for x is 5\n"
     ]
    }
   ],
   "source": [
    "x = int(input('Please provide valuefor x: '))\n",
    "print(f'value for x is {x}')"
   ]
  },
  {
   "cell_type": "markdown",
   "id": "c55782ca",
   "metadata": {},
   "source": [
    "#### isinstance()\n",
    "The isinstance() function returns True if the specified object is of the specified type, otherwise False. If the type parameter is a tuple, this function will return True if the object is one of the types in the tuple."
   ]
  },
  {
   "cell_type": "markdown",
   "id": "a90c65dc",
   "metadata": {},
   "source": [
    "`Syntax: isinstance(object, type)`\n",
    "- object: Required. An object.\n",
    "- type: A type or a class, or a tuple of types and/or classes"
   ]
  },
  {
   "cell_type": "code",
   "execution_count": 82,
   "id": "b6190ddd",
   "metadata": {},
   "outputs": [
    {
     "data": {
      "text/plain": [
       "True"
      ]
     },
     "execution_count": 82,
     "metadata": {},
     "output_type": "execute_result"
    }
   ],
   "source": [
    "# Check if \"Hello\" is one of the types described in the type parameter\n",
    "\n",
    "isinstance(\"Hello\", (float, int, str, list, dict, tuple))"
   ]
  },
  {
   "cell_type": "code",
   "execution_count": 83,
   "id": "2d5a929f",
   "metadata": {},
   "outputs": [
    {
     "data": {
      "text/plain": [
       "True"
      ]
     },
     "execution_count": 83,
     "metadata": {},
     "output_type": "execute_result"
    }
   ],
   "source": [
    "class myObj:\n",
    "    name = \"John\"\n",
    "\n",
    "y = myObj()\n",
    "isinstance(y, myObj)"
   ]
  },
  {
   "cell_type": "markdown",
   "id": "ce427734",
   "metadata": {},
   "source": [
    "#### issubclass()\n",
    "The issubclass() function returns True if the specified object is a subclass of the specified object, otherwise False."
   ]
  },
  {
   "cell_type": "markdown",
   "id": "accdca21",
   "metadata": {},
   "source": [
    "`Syntax: issubclass(object, subclass)`\n",
    "- object: Required. An object.\n",
    "- subclass: A class object, or a tuple of class objects."
   ]
  },
  {
   "cell_type": "code",
   "execution_count": 84,
   "id": "c729382e",
   "metadata": {},
   "outputs": [
    {
     "data": {
      "text/plain": [
       "True"
      ]
     },
     "execution_count": 84,
     "metadata": {},
     "output_type": "execute_result"
    }
   ],
   "source": [
    "class myAge:\n",
    "    age = 36\n",
    "\n",
    "class myObj(myAge):\n",
    "    name = \"John\"\n",
    "    age = myAge\n",
    "\n",
    "issubclass(myObj, myAge)"
   ]
  },
  {
   "cell_type": "markdown",
   "id": "64beb9e1",
   "metadata": {},
   "source": [
    "#### next()\n",
    "The next() function returns the next item in an iterator. You can add a default return value, to return if the iterable has reached to its end."
   ]
  },
  {
   "cell_type": "markdown",
   "id": "d6051eb1",
   "metadata": {},
   "source": [
    "`Syntax: next(iterable, default)`\n",
    "- iterable: Required. An iterable object.\n",
    "- default: Optional. An default value to return if the iterable has reached to its end."
   ]
  },
  {
   "cell_type": "code",
   "execution_count": 87,
   "id": "fda5fa12",
   "metadata": {},
   "outputs": [
    {
     "name": "stdout",
     "output_type": "stream",
     "text": [
      "apple\n",
      "banana\n",
      "cherry\n"
     ]
    }
   ],
   "source": [
    "mylist = iter([\"apple\", \"banana\", \"cherry\"])\n",
    "print(next(mylist))\n",
    "print(next(mylist))\n",
    "print(next(mylist))"
   ]
  },
  {
   "cell_type": "code",
   "execution_count": 88,
   "id": "0ed0d762",
   "metadata": {},
   "outputs": [
    {
     "name": "stdout",
     "output_type": "stream",
     "text": [
      "2\n",
      "3\n",
      "4\n",
      "5\n",
      "6\n"
     ]
    }
   ],
   "source": [
    "list1 = [2,3,4,5,6]\n",
    "iterable_item = iter(list1)\n",
    "\n",
    "a1 = next(iterable_item) # 2\n",
    "a2 = next(iterable_item) # 3\n",
    "a3 = next(iterable_item) # 4\n",
    "a4 = next(iterable_item) # 5\n",
    "a5 = next(iterable_item) # 6\n",
    "print(a1)\n",
    "print(a2)\n",
    "print(a3)\n",
    "print(a4)\n",
    "print(a5)"
   ]
  },
  {
   "cell_type": "markdown",
   "id": "324e79fc",
   "metadata": {},
   "source": [
    "#### max()\n",
    "The max() function returns the item with the highest value, or the item with the highest value in an iterable. If the values are strings, an alphabetically comparison is done."
   ]
  },
  {
   "cell_type": "code",
   "execution_count": 90,
   "id": "f1d1382b",
   "metadata": {},
   "outputs": [
    {
     "data": {
      "text/plain": [
       "53"
      ]
     },
     "execution_count": 90,
     "metadata": {},
     "output_type": "execute_result"
    }
   ],
   "source": [
    "list1 = [12,34,53,23]\n",
    "max(list1)"
   ]
  },
  {
   "cell_type": "code",
   "execution_count": 93,
   "id": "19b9d0fa",
   "metadata": {},
   "outputs": [
    {
     "data": {
      "text/plain": [
       "34"
      ]
     },
     "execution_count": 93,
     "metadata": {},
     "output_type": "execute_result"
    }
   ],
   "source": [
    "max(19,34)"
   ]
  },
  {
   "cell_type": "markdown",
   "id": "f7c7d10d",
   "metadata": {},
   "source": [
    "#### min()\n",
    "The min() function returns the item with the lowest value, or the item with the lowest value in an iterable. If the values are strings, an alphabetically comparison is done."
   ]
  },
  {
   "cell_type": "code",
   "execution_count": 96,
   "id": "09c97dd2",
   "metadata": {},
   "outputs": [
    {
     "data": {
      "text/plain": [
       "12"
      ]
     },
     "execution_count": 96,
     "metadata": {},
     "output_type": "execute_result"
    }
   ],
   "source": [
    "list1 = [12,34,53,23]\n",
    "min(list1)"
   ]
  },
  {
   "cell_type": "markdown",
   "id": "6a71f954",
   "metadata": {},
   "source": [
    "#### sum()\n",
    "returns sum"
   ]
  },
  {
   "cell_type": "code",
   "execution_count": 95,
   "id": "1dfab08a",
   "metadata": {},
   "outputs": [
    {
     "data": {
      "text/plain": [
       "122"
      ]
     },
     "execution_count": 95,
     "metadata": {},
     "output_type": "execute_result"
    }
   ],
   "source": [
    "list1 = [12,34,53,23]\n",
    "sum(list1)"
   ]
  },
  {
   "cell_type": "markdown",
   "id": "65dc3645",
   "metadata": {},
   "source": [
    "#### oct()\n",
    "The oct() function converts an integer into an octal string. Octal strings in Python are prefixed with 0o."
   ]
  },
  {
   "cell_type": "code",
   "execution_count": 97,
   "id": "f4ebfa0a",
   "metadata": {},
   "outputs": [
    {
     "data": {
      "text/plain": [
       "'0o22'"
      ]
     },
     "execution_count": 97,
     "metadata": {},
     "output_type": "execute_result"
    }
   ],
   "source": [
    "oct(18)"
   ]
  },
  {
   "cell_type": "code",
   "execution_count": 98,
   "id": "83b4e79b",
   "metadata": {},
   "outputs": [
    {
     "data": {
      "text/plain": [
       "'0o14'"
      ]
     },
     "execution_count": 98,
     "metadata": {},
     "output_type": "execute_result"
    }
   ],
   "source": [
    "oct(12)"
   ]
  },
  {
   "cell_type": "markdown",
   "id": "939e386f",
   "metadata": {},
   "source": [
    "#### open()\n",
    "The open() function opens a file, and returns it as a file object. Read more about file handling in our chapters about File Handling."
   ]
  },
  {
   "cell_type": "markdown",
   "id": "1216fd6c",
   "metadata": {},
   "source": [
    "`Syntax: open(file, mode)`\n",
    "- file: The path and name of the file\n",
    "- mode: A string, define which mode you want to open the file in:\n",
    "  - \"r\" - Read - Default value. Opens a file for reading, error if the file does not exist\n",
    "  - \"a\" - Append - Opens a file for appending, creates the file if it does not exist\n",
    "  - \"w\" - Write - Opens a file for writing, creates the file if it does not exist\n",
    "  - \"x\" - Create - Creates the specified file, returns an error if the file exist\n",
    "\n",
    "In addition you can specify if the file should be handled as binary or text mode\n",
    "\n",
    "  - \"t\" - Text - Default value. Text mode\n",
    "  - \"b\" - Binary - Binary mode (e.g. images)"
   ]
  },
  {
   "cell_type": "code",
   "execution_count": null,
   "id": "9ad968c2",
   "metadata": {},
   "outputs": [],
   "source": [
    "# file1 = open(\"demofile.txt\", \"r\")\n",
    "# print(file1.read())\n",
    "# file1.close()"
   ]
  },
  {
   "cell_type": "code",
   "execution_count": null,
   "id": "e95bb9e7",
   "metadata": {},
   "outputs": [],
   "source": [
    "# file1 = open('txt1.txt','w')\n",
    "# file1.write('Hello world')\n",
    "# file1.close()"
   ]
  },
  {
   "cell_type": "markdown",
   "id": "a8f8283a",
   "metadata": {},
   "source": [
    "#### reversed()\n",
    "The reversed() function returns a reversed iterator object."
   ]
  },
  {
   "cell_type": "code",
   "execution_count": 104,
   "id": "aea862a8",
   "metadata": {},
   "outputs": [
    {
     "name": "stdout",
     "output_type": "stream",
     "text": [
      "['d', 'c', 'b', 'a']\n"
     ]
    }
   ],
   "source": [
    "alph = [\"a\", \"b\", \"c\", \"d\"]\n",
    "list1= list(reversed(alph))\n",
    "print(list1)"
   ]
  },
  {
   "cell_type": "markdown",
   "id": "f9bf7369",
   "metadata": {},
   "source": [
    "#### sorted()\n",
    "The sorted() function returns a sorted list of the specified iterable object. You can specify ascending or descending order. Strings are sorted alphabetically, and numbers are sorted numerically."
   ]
  },
  {
   "cell_type": "markdown",
   "id": "421f8bf0",
   "metadata": {},
   "source": [
    "`Syntax: sorted(iterable, key=key, reverse=True/False)`\n",
    "- iterable: Required. The sequence to sort, list, dictionary, tuple etc.\n",
    "- key: Optional. A Function to execute to decide the order. Default is None\n",
    "- reverse: Optional. A Boolean. False will sort ascending, True will sort descending. Default is False."
   ]
  },
  {
   "cell_type": "code",
   "execution_count": 105,
   "id": "709c666b",
   "metadata": {},
   "outputs": [
    {
     "name": "stdout",
     "output_type": "stream",
     "text": [
      "['a', 'b', 'c', 'd', 'e', 'f', 'g', 'h']\n"
     ]
    }
   ],
   "source": [
    "a = (\"b\", \"g\", \"a\", \"d\", \"f\", \"c\", \"h\", \"e\")\n",
    "x = sorted(a)\n",
    "print(x)"
   ]
  },
  {
   "cell_type": "code",
   "execution_count": 106,
   "id": "8ab9eb62",
   "metadata": {},
   "outputs": [
    {
     "name": "stdout",
     "output_type": "stream",
     "text": [
      "['a', 'b', 'c', 'd', 'e', 'f', 'g', 'h']\n"
     ]
    }
   ],
   "source": [
    "a = (\"h\", \"b\", \"a\", \"c\", \"f\", \"d\", \"e\", \"g\")\n",
    "x = sorted(a)\n",
    "print(x)"
   ]
  },
  {
   "cell_type": "markdown",
   "id": "95d5efb2",
   "metadata": {},
   "source": [
    "#### round()\n",
    "The round() function returns a floating point number that is a rounded version of the specified number, with the specified number of decimals. The default number of decimals is 0, meaning that the function will return the nearest integer."
   ]
  },
  {
   "cell_type": "markdown",
   "id": "7aa43657",
   "metadata": {},
   "source": [
    "`Syntax: round(number, digits)`\n",
    "- number: Required. The number to be rounded\n",
    "- digits: Optional. The number of decimals to use when rounding the number. Default is 0"
   ]
  },
  {
   "cell_type": "code",
   "execution_count": 107,
   "id": "7aa85c12",
   "metadata": {},
   "outputs": [
    {
     "name": "stdout",
     "output_type": "stream",
     "text": [
      "6\n"
     ]
    }
   ],
   "source": [
    "x = round(5.76543)\n",
    "print(x)"
   ]
  },
  {
   "cell_type": "code",
   "execution_count": 108,
   "id": "443cb771",
   "metadata": {},
   "outputs": [
    {
     "name": "stdout",
     "output_type": "stream",
     "text": [
      "5.77\n"
     ]
    }
   ],
   "source": [
    "x = round(5.76543,2)\n",
    "print(x)"
   ]
  },
  {
   "cell_type": "markdown",
   "id": "9d991e22",
   "metadata": {},
   "source": [
    "#### slice()\n",
    "The slice() function returns a slice object. A slice object is used to specify how to slice a sequence. You can specify where to start the slicing, and where to end. You can also specify the step, which allows you to e.g. slice only every other item."
   ]
  },
  {
   "cell_type": "markdown",
   "id": "fdebe0b5",
   "metadata": {},
   "source": [
    "`Syntax: slice(start, end, step)`\n",
    "- start: Optional. An integer number specifying at which position to start the slicing. Default is 0\n",
    "- end: An integer number specifying at which position to end the slicing\n",
    "- step: Optional. An integer number specifying the step of the slicing. Default is 1"
   ]
  },
  {
   "cell_type": "code",
   "execution_count": 109,
   "id": "1ba16fd9",
   "metadata": {},
   "outputs": [
    {
     "name": "stdout",
     "output_type": "stream",
     "text": [
      "('d', 'e')\n"
     ]
    }
   ],
   "source": [
    "a = (\"a\", \"b\", \"c\", \"d\", \"e\", \"f\", \"g\", \"h\")\n",
    "x = slice(3, 5)\n",
    "print(a[x])"
   ]
  },
  {
   "cell_type": "code",
   "execution_count": 110,
   "id": "244ddebf",
   "metadata": {},
   "outputs": [
    {
     "name": "stdout",
     "output_type": "stream",
     "text": [
      "('a', 'b')\n"
     ]
    }
   ],
   "source": [
    "a = (\"a\", \"b\", \"c\", \"d\", \"e\", \"f\", \"g\", \"h\")\n",
    "x = slice(2)\n",
    "print(a[x])"
   ]
  },
  {
   "cell_type": "markdown",
   "id": "3feb1c44",
   "metadata": {},
   "source": [
    "#### super()\n",
    "The super() function is used to give access to methods and properties of a parent or sibling class. The super() function returns an object that represents the parent class."
   ]
  },
  {
   "cell_type": "code",
   "execution_count": 112,
   "id": "14cf0599",
   "metadata": {},
   "outputs": [
    {
     "name": "stdout",
     "output_type": "stream",
     "text": [
      "Hello, and welcome!\n"
     ]
    }
   ],
   "source": [
    "class Parent:\n",
    "    def __init__(self, txt):\n",
    "        self.message = txt\n",
    "\n",
    "    def printmessage(self):\n",
    "        print(self.message)\n",
    "\n",
    "class Child(Parent):\n",
    "    def __init__(self, txt):\n",
    "        super().__init__(txt)\n",
    "\n",
    "x = Child(\"Hello, and welcome!\")\n",
    "x.printmessage()"
   ]
  },
  {
   "cell_type": "code",
   "execution_count": 113,
   "id": "1675f85c",
   "metadata": {},
   "outputs": [],
   "source": [
    "# End of built-in functions...."
   ]
  }
 ],
 "metadata": {
  "kernelspec": {
   "display_name": "Python 3 (ipykernel)",
   "language": "python",
   "name": "python3"
  },
  "language_info": {
   "codemirror_mode": {
    "name": "ipython",
    "version": 3
   },
   "file_extension": ".py",
   "mimetype": "text/x-python",
   "name": "python",
   "nbconvert_exporter": "python",
   "pygments_lexer": "ipython3",
   "version": "3.9.12"
  }
 },
 "nbformat": 4,
 "nbformat_minor": 5
}
