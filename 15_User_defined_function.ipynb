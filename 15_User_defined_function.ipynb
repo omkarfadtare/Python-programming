{
 "cells": [
  {
   "cell_type": "markdown",
   "id": "0a10a6ab",
   "metadata": {},
   "source": [
    "## User defined functions\n",
    "- __`'def'`__ keyword is used to define a user defined function.\n",
    "- User defined function's name should follow identifier's (Variable's name) rules.\n",
    "- We can use user defined function for number of times in our code, whenever neccessary.\n",
    "\n",
    "__`What is function?`__\n",
    "- A function is a block of code which performs a specific task and only runs when it is called.\n",
    "\n",
    "__`What is user defined function?`__\n",
    "- Sometimes we require some functionality from a block of code again and again, then to avoid writing that code again and again, we declare a user defined function with some parameters. And we call that function whenever that specified functionality is required and pass desired arguments in it. \n",
    "- Simply we can say a user-defined function is a function provided by the user of a program.\n",
    "\n",
    "__`Steps to define function`__\n",
    "- Define function name; def my_func():\n",
    "- Write a block of code with desired functionality; print('Hello')\n",
    "- Call the function; my_func()\n",
    "\n",
    "__`Parameter`__\n",
    "- A parameteris a variable that acts as a placeholder for values that are passed to the function when it is called.\n",
    "\n",
    "__`Arguments(args)`__\n",
    "- An argument refers to the actual value that is passed to the function when it is called."
   ]
  },
  {
   "cell_type": "code",
   "execution_count": null,
   "id": "dd946805",
   "metadata": {},
   "outputs": [],
   "source": [
    "# Defining a function\n",
    "\n",
    "def my_func(# parameter1,# parameter2):\n",
    "    print('logic')\n",
    "\n",
    "# Calling function\n",
    "    \n",
    "my_func(# argument1,# argument2)"
   ]
  },
  {
   "cell_type": "code",
   "execution_count": 1,
   "id": "96037b69",
   "metadata": {},
   "outputs": [
    {
     "name": "stdout",
     "output_type": "stream",
     "text": [
      "Hello\n"
     ]
    }
   ],
   "source": [
    "def my_fun():\n",
    "    print(\"Hello\")\n",
    "    \n",
    "my_fun() # Calling our function"
   ]
  },
  {
   "cell_type": "code",
   "execution_count": 2,
   "id": "b990e2b7",
   "metadata": {},
   "outputs": [
    {
     "name": "stdout",
     "output_type": "stream",
     "text": [
      "Lower case >> deep learning\n",
      "list1 >> ['deep', 'learning']\n"
     ]
    }
   ],
   "source": [
    "# Normal way\n",
    "\n",
    "string = 'Deep learning'\n",
    "string = string.lower()\n",
    "print(\"Lower case >>\", string)\n",
    "list1 = string.split()\n",
    "print('list1 >>', list1)"
   ]
  },
  {
   "cell_type": "code",
   "execution_count": 47,
   "id": "7bc0f694",
   "metadata": {},
   "outputs": [
    {
     "name": "stdout",
     "output_type": "stream",
     "text": [
      "Lower case >> deep learning\n",
      "list1 >> ['deep', 'learning']\n",
      "Lower case >> python\n",
      "list1 >> ['python']\n"
     ]
    }
   ],
   "source": [
    "# Using UDF\n",
    "\n",
    "def string_list(string):\n",
    "    string = string.lower()\n",
    "    print(\"Lower case >>\", string)\n",
    "    list1 = string.split()\n",
    "    print('list1 >>', list1)\n",
    "    \n",
    "string_list(\"Deep learning\")\n",
    "\n",
    "string_list('python')"
   ]
  },
  {
   "cell_type": "code",
   "execution_count": 7,
   "id": "fd01a78f",
   "metadata": {},
   "outputs": [
    {
     "name": "stdout",
     "output_type": "stream",
     "text": [
      "Python and Data Science\n",
      "We are learning Python Functions\n",
      "We are learning Python Functions\n",
      "We are learning Python Functions\n",
      "We are learning Python Functions\n",
      "We are learning Python Functions\n"
     ]
    }
   ],
   "source": [
    "# Normal way\n",
    "\n",
    "print('Python and Data Science')\n",
    "for i in range(5):\n",
    "    print(\"We are learning Python Functions\")"
   ]
  },
  {
   "cell_type": "code",
   "execution_count": 6,
   "id": "a95c304e",
   "metadata": {},
   "outputs": [
    {
     "name": "stdout",
     "output_type": "stream",
     "text": [
      "Python and Data Science\n",
      "We are learning Python Functions\n",
      "We are learning Python Functions\n",
      "We are learning Python Functions\n",
      "We are learning Python Functions\n",
      "We are learning Python Functions\n"
     ]
    }
   ],
   "source": [
    "# Using UDF\n",
    "\n",
    "def testing_function():\n",
    "    print('Python and Data Science')\n",
    "    for i in range(5):\n",
    "        print(\"We are learning Python Functions\")\n",
    "testing_function()"
   ]
  },
  {
   "cell_type": "code",
   "execution_count": 13,
   "id": "aa50fa37",
   "metadata": {},
   "outputs": [
    {
     "name": "stdout",
     "output_type": "stream",
     "text": [
      "a = 80, b = 90, c = 100\n",
      "Average of 3 numbers is : 90.0\n"
     ]
    }
   ],
   "source": [
    "# Normal way (average of 3 numbers)\n",
    "\n",
    "a = 80\n",
    "b = 90\n",
    "c = 100\n",
    "\n",
    "print('a = {}, b = {}, c = {}'.format(a,b,c))\n",
    "avg = (a+b+c)/3\n",
    "print(\"Average of 3 numbers is :\", avg)"
   ]
  },
  {
   "cell_type": "code",
   "execution_count": 11,
   "id": "7c9a5dc3",
   "metadata": {},
   "outputs": [
    {
     "name": "stdout",
     "output_type": "stream",
     "text": [
      "a = 4, b = 6, c = 8\n",
      "Average of 3 numbers is : 6.0\n",
      "\n"
     ]
    }
   ],
   "source": [
    "# Using UDF (aveage of 3 numbers)\n",
    "\n",
    "def get_average(a,b,c):\n",
    "    print('a = {}, b = {}, c = {}'.format(a,b,c))\n",
    "    avg = (a+b+c)/3\n",
    "    print(\"Average of 3 numbers is :\", avg)\n",
    "    print()\n",
    "    \n",
    "get_average(4,6,8)"
   ]
  },
  {
   "cell_type": "code",
   "execution_count": 14,
   "id": "1f928023",
   "metadata": {},
   "outputs": [
    {
     "name": "stdout",
     "output_type": "stream",
     "text": [
      "Even Numbers : [12, 36, 96, 90, 100]\n",
      "odd Numbers : [25, 47, 83]\n"
     ]
    }
   ],
   "source": [
    "# Normal way (even_odd list); list comprehension\n",
    "\n",
    "list1 = [12,25,36,47,83,96,90,100]\n",
    "\n",
    "even_numbers = [i for i in list1 if i%2 == 0]\n",
    "odd_numbers = [i for i in list1 if i%2 != 0]\n",
    "print(\"Even Numbers :\",  even_numbers)\n",
    "print(\"odd Numbers :\",  odd_numbers)"
   ]
  },
  {
   "cell_type": "code",
   "execution_count": 16,
   "id": "c2fa778f",
   "metadata": {},
   "outputs": [
    {
     "name": "stdout",
     "output_type": "stream",
     "text": [
      "Input List is : [12, 25, 36, 47, 83, 96, 90, 100]\n",
      "Even Numbers : [12, 36, 96, 90, 100]\n",
      "odd Numbers : [25, 47, 83]\n"
     ]
    }
   ],
   "source": [
    "# Using UDF (even_odd list); list comprehension\n",
    "\n",
    "def get_even_odd_numbers(input_list):\n",
    "    print(\"Input List is :\", input_list)\n",
    "    a = 100\n",
    "    even_numbers = [i for i in input_list if i%2 == 0]\n",
    "    odd_numbers = [i for i in input_list if i%2 != 0]\n",
    "    print(\"Even Numbers :\",  even_numbers)\n",
    "    print(\"odd Numbers :\",  odd_numbers)\n",
    "    \n",
    "list1 = [12,25,36,47,83,96,90,100]\n",
    "get_even_odd_numbers(list1)"
   ]
  },
  {
   "cell_type": "code",
   "execution_count": 18,
   "id": "008634bf",
   "metadata": {},
   "outputs": [
    {
     "name": "stdout",
     "output_type": "stream",
     "text": [
      "enter starting number :1\n",
      "enter end number :30\n",
      "[1, 4, 9, 16, 25, 676, 729, 784, 841, 900]\n"
     ]
    }
   ],
   "source": [
    "# (Square of first 5 and last 5 numbers) using UDF\n",
    "\n",
    "start= int(input('enter starting number :'))\n",
    "end = int(input('enter end number :'))\n",
    "\n",
    "def sqrList(start,end):\n",
    "    first5 = [num ** 2 for num in range(start, start+5)]\n",
    "    last5  = [num ** 2 for num in range(end - 4, end+1)]\n",
    "    sqr_List = first5 + last5\n",
    "    print(sqr_List)\n",
    "    \n",
    "sqrList(start,end)"
   ]
  },
  {
   "cell_type": "markdown",
   "id": "0b585400",
   "metadata": {},
   "source": [
    "__`Difference between return and print statement:`__ \n",
    "- print() is a built-in python function used to display output. \n",
    "- When you use print(), the output is displayed , but the function itself does not return any value that can be used by the rest of the code. \n",
    "- return is a statement used in functions to send back a value as the result of the function call.\n",
    "- The returned value can be assigned to a variable or used in expressions and calculations in the rest of the code. \n",
    "- return statement allows you to get a result from a function and use that result in other parts of your program."
   ]
  },
  {
   "cell_type": "code",
   "execution_count": 1,
   "id": "9fe8528d",
   "metadata": {},
   "outputs": [
    {
     "name": "stdout",
     "output_type": "stream",
     "text": [
      "Hello, Alice!\n"
     ]
    }
   ],
   "source": [
    "# print() function:\n",
    "\n",
    "def greet(name):\n",
    "    print(\"Hello, \" + name + \"!\")\n",
    "greet(\"Alice\")"
   ]
  },
  {
   "cell_type": "code",
   "execution_count": 2,
   "id": "10a606f9",
   "metadata": {},
   "outputs": [
    {
     "name": "stdout",
     "output_type": "stream",
     "text": [
      "8\n"
     ]
    }
   ],
   "source": [
    "# return statement:\n",
    "\n",
    "def add_numbers(a, b):\n",
    "    return a + b\n",
    "result = add_numbers(3, 5)\n",
    "print(result)"
   ]
  },
  {
   "cell_type": "code",
   "execution_count": 19,
   "id": "32ae6edd",
   "metadata": {},
   "outputs": [
    {
     "name": "stdout",
     "output_type": "stream",
     "text": [
      "[1, 4, 9, 16, 25, 676, 729, 784, 841, 900]\n"
     ]
    },
    {
     "data": {
      "text/plain": [
       "[1, 4, 9, 16, 25, 676, 729, 784, 841, 900]"
      ]
     },
     "execution_count": 19,
     "metadata": {},
     "output_type": "execute_result"
    }
   ],
   "source": [
    "def sqrList(start,end):\n",
    "    first5 = [num ** 2 for num in range(start, start+5)]\n",
    "    last5  = [num ** 2 for num in range(end - 4, end+1)]\n",
    "    sqr_List = first5 + last5\n",
    "    print(sqr_List) # If you just print value, You can not use it further\n",
    "    return sqr_List # If you want to use it further then use return\n",
    "\n",
    "sqrList(1,30)"
   ]
  },
  {
   "cell_type": "code",
   "execution_count": 20,
   "id": "8f5a3bca",
   "metadata": {},
   "outputs": [
    {
     "name": "stdout",
     "output_type": "stream",
     "text": [
      "[1, 4, 9, 16, 25, 676, 729, 784, 841, 900]\n"
     ]
    },
    {
     "data": {
      "text/plain": [
       "[1, 4, 9, 16, 25, 676, 729, 784, 841, 900, 10, 20, 30]"
      ]
     },
     "execution_count": 20,
     "metadata": {},
     "output_type": "execute_result"
    }
   ],
   "source": [
    "square = sqrList(1,30) # Storing UDF output in a variable\n",
    "result = square + [10,20,30] # This will extend the existing sqrList\n",
    "result"
   ]
  },
  {
   "cell_type": "code",
   "execution_count": 21,
   "id": "2fe155df",
   "metadata": {},
   "outputs": [
    {
     "name": "stdout",
     "output_type": "stream",
     "text": [
      "[1, 4, 9, 16, 25, 676, 729, 784, 841, 900]\n"
     ]
    }
   ],
   "source": [
    "def sqrList(start,end):\n",
    "    first5 = [num ** 2 for num in range(start, start+5)]\n",
    "    last5  = [num ** 2 for num in range(end - 4, end+1)]\n",
    "    sqr_List = first5 + last5\n",
    "#     print(sqr_List)\n",
    "    return sqr_List\n",
    "\n",
    "var = sqrList(1,30)\n",
    "print(var)"
   ]
  },
  {
   "cell_type": "code",
   "execution_count": 22,
   "id": "f81704b6",
   "metadata": {},
   "outputs": [],
   "source": [
    "def sqrList(start,end):\n",
    "    first5 = [num ** 2 for num in range(start, start+5)]\n",
    "    last5  = [num ** 2 for num in range(end - 4, end+1)]\n",
    "    sqr_List = first5 + last5\n",
    "    print(sqr_List)\n",
    "    return 'python data science'"
   ]
  },
  {
   "cell_type": "code",
   "execution_count": 23,
   "id": "6e7e9851",
   "metadata": {},
   "outputs": [
    {
     "name": "stdout",
     "output_type": "stream",
     "text": [
      "[1, 4, 9, 16, 25, 676, 729, 784, 841, 900]\n",
      "python data science\n"
     ]
    }
   ],
   "source": [
    "var = sqrList(1,30)\n",
    "print(var)"
   ]
  },
  {
   "cell_type": "code",
   "execution_count": 24,
   "id": "9324bc5a",
   "metadata": {},
   "outputs": [
    {
     "name": "stdout",
     "output_type": "stream",
     "text": [
      "Addition :  60\n",
      "Multiplication :  6000\n"
     ]
    },
    {
     "data": {
      "text/plain": [
       "(60, 6000)"
      ]
     },
     "execution_count": 24,
     "metadata": {},
     "output_type": "execute_result"
    }
   ],
   "source": [
    "def calculation(a,b,c):\n",
    "    add = a + b + c\n",
    "    multiplication = a * b *c\n",
    "    print('Addition : ',add)\n",
    "    print('Multiplication : ',multiplication)\n",
    "    return add, multiplication\n",
    "\n",
    "calculation(10,20,30)"
   ]
  },
  {
   "cell_type": "code",
   "execution_count": 25,
   "id": "b210455c",
   "metadata": {},
   "outputs": [
    {
     "name": "stdout",
     "output_type": "stream",
     "text": [
      "Addition :  60\n",
      "Multiplication :  6000\n",
      "x1 >>  60\n",
      "x2 >> 6000\n"
     ]
    }
   ],
   "source": [
    "x1, x2 = calculation(10,20,30)\n",
    "print('x1 >> ',x1)\n",
    "print('x2 >>', x2)"
   ]
  },
  {
   "cell_type": "code",
   "execution_count": 57,
   "id": "c2a04bec",
   "metadata": {},
   "outputs": [
    {
     "name": "stdout",
     "output_type": "stream",
     "text": [
      "[0, 1, 1, 2, 3, 5, 8, 13, 21, 34]\n"
     ]
    }
   ],
   "source": [
    "# fibonacci 0,1,1,2,3,5,8,11\n",
    "\n",
    "def fibonacci(n):\n",
    "    num1 = 0\n",
    "    num2 = 1\n",
    "    list1 = [num1,num2]\n",
    "    for i in range(2,n):\n",
    "        addition = num1+num2\n",
    "        num1=num2\n",
    "        num2=addition\n",
    "        list1.append(addition)\n",
    "    print(list1)\n",
    "    \n",
    "fibonacci(10)"
   ]
  },
  {
   "cell_type": "code",
   "execution_count": 64,
   "id": "782b8d0b",
   "metadata": {},
   "outputs": [
    {
     "data": {
      "text/plain": [
       "120"
      ]
     },
     "execution_count": 64,
     "metadata": {},
     "output_type": "execute_result"
    }
   ],
   "source": [
    "# factorial 5! = 5*4*3*2*1\n",
    "\n",
    "def factorial(n):\n",
    "    factorial =1\n",
    "    for i in range(1,n+1):\n",
    "        factorial*=i\n",
    "    return factorial\n",
    "factorial(5)"
   ]
  },
  {
   "cell_type": "code",
   "execution_count": 84,
   "id": "65da2b07",
   "metadata": {},
   "outputs": [
    {
     "name": "stdout",
     "output_type": "stream",
     "text": [
      "Given number 12 is not a prime number\n"
     ]
    }
   ],
   "source": [
    "# prime numbers \n",
    "\n",
    "def prime(n):\n",
    "    for i in range (2,n):\n",
    "        if n%i==0:\n",
    "            print('Given number {} is not a prime number'.format(n))\n",
    "            break\n",
    "    else:\n",
    "        print('given number {} is prime'.format(n))\n",
    "            \n",
    "prime(12)"
   ]
  },
  {
   "cell_type": "code",
   "execution_count": 3,
   "id": "acd152b1",
   "metadata": {},
   "outputs": [
    {
     "name": "stdout",
     "output_type": "stream",
     "text": [
      "Iterable [2, 3, 4, 5]\n"
     ]
    },
    {
     "data": {
      "text/plain": [
       "14"
      ]
     },
     "execution_count": 3,
     "metadata": {},
     "output_type": "execute_result"
    }
   ],
   "source": [
    "def get_sum(iterables):\n",
    "    print(\"Iterable\", iterables)\n",
    "    sum1 = 0\n",
    "    for num in iterables:\n",
    "        sum1 += num\n",
    "    return sum1\n",
    "\n",
    "get_sum([2,3,4,5])"
   ]
  },
  {
   "cell_type": "markdown",
   "id": "32fd13e9",
   "metadata": {},
   "source": [
    "__`Pass statement:`__ The pass statement is used as a placeholder for future code. When the pass statement is executed, nothing happens, but you avoid getting an error when empty code is not allowed. Empty code is not allowed in loops, function definitions, class definitions, or in if statements."
   ]
  },
  {
   "cell_type": "code",
   "execution_count": 4,
   "id": "ea0cfa95",
   "metadata": {},
   "outputs": [
    {
     "name": "stdout",
     "output_type": "stream",
     "text": [
      "Iterable [2, 3, 4, 5]\n"
     ]
    }
   ],
   "source": [
    "def get_sum(iterables):\n",
    "    print(\"Iterable\", iterables)\n",
    "    pass\n",
    "\n",
    "get_sum([2,3,4,5])"
   ]
  },
  {
   "cell_type": "markdown",
   "id": "18675f49",
   "metadata": {},
   "source": [
    "### Types of Arguments\n",
    "- __`Positional Arguement`__\n",
    "- __`Default Arguement (Keyword Arguement)`__\n",
    "- __`Arbitary Positional Arguement (*)`__\n",
    "- __`Arbitary Keyword Arguement(**)`__"
   ]
  },
  {
   "cell_type": "markdown",
   "id": "01fbc829",
   "metadata": {},
   "source": [
    "__`1) Positional argument:`__\n",
    "- They are matched based on their position in the function call.\n",
    "- The order of the arguments in the function call should match the order of the parameters in the function definition.\n",
    "- When you call the function, you pass the values for the parameters in the same order they are defined in the function."
   ]
  },
  {
   "cell_type": "code",
   "execution_count": 7,
   "id": "798f045c",
   "metadata": {},
   "outputs": [
    {
     "name": "stdout",
     "output_type": "stream",
     "text": [
      "Hello, Alice. You are 25 years old.\n"
     ]
    }
   ],
   "source": [
    "def greet(name, age):\n",
    "    print(\"Hello, \" + name + \". You are \" + str(age) + \" years old.\")\n",
    "\n",
    "greet(\"Alice\", 25)"
   ]
  },
  {
   "cell_type": "code",
   "execution_count": 4,
   "id": "67f84987",
   "metadata": {},
   "outputs": [
    {
     "name": "stdout",
     "output_type": "stream",
     "text": [
      "a== 2 and b == 3\n"
     ]
    }
   ],
   "source": [
    "def my_fun(a,b): # no of parameters are 2\n",
    "    print(f\"a== {a} and b == {b}\")\n",
    "    \n",
    "my_fun(2,3) # no of arguments passed are 2"
   ]
  },
  {
   "cell_type": "code",
   "execution_count": 5,
   "id": "59ff5142",
   "metadata": {},
   "outputs": [
    {
     "name": "stdout",
     "output_type": "stream",
     "text": [
      "a== 2 and b == [2, 3, 4, 5]\n"
     ]
    }
   ],
   "source": [
    "my_fun(2,[2,3,4,5]) # no of arguments passed are 2 [int,list]"
   ]
  },
  {
   "cell_type": "code",
   "execution_count": 6,
   "id": "3a2aee2c",
   "metadata": {},
   "outputs": [
    {
     "name": "stdout",
     "output_type": "stream",
     "text": [
      "x == 10 and y == 5\n"
     ]
    },
    {
     "data": {
      "text/plain": [
       "15"
      ]
     },
     "execution_count": 6,
     "metadata": {},
     "output_type": "execute_result"
    }
   ],
   "source": [
    "def addition(x,y):\n",
    "        print(f\"x == {x} and y == {y}\")\n",
    "        add = x + y\n",
    "        return add\n",
    "x = 5\n",
    "y = 10\n",
    "addition(y,x) # x=a ; y=b (order of arguments is imp)"
   ]
  },
  {
   "cell_type": "code",
   "execution_count": 5,
   "id": "7abcfea9",
   "metadata": {},
   "outputs": [
    {
     "name": "stdout",
     "output_type": "stream",
     "text": [
      "x == 100 and y == 200\n"
     ]
    },
    {
     "data": {
      "text/plain": [
       "300"
      ]
     },
     "execution_count": 5,
     "metadata": {},
     "output_type": "execute_result"
    }
   ],
   "source": [
    "# We can write arguments in this way also\n",
    "\n",
    "a1,a2 = 100, 200\n",
    "addition(a1,a2)"
   ]
  },
  {
   "cell_type": "code",
   "execution_count": 6,
   "id": "68ec2ad6",
   "metadata": {},
   "outputs": [
    {
     "name": "stdout",
     "output_type": "stream",
     "text": [
      "x == 20 and y == 40\n"
     ]
    },
    {
     "data": {
      "text/plain": [
       "60"
      ]
     },
     "execution_count": 6,
     "metadata": {},
     "output_type": "execute_result"
    }
   ],
   "source": [
    "def addition(x,y):\n",
    "        print(f\"x == {x} and y == {y}\")\n",
    "        add = x + y\n",
    "        return add\n",
    "    \n",
    "x,y = 20,40\n",
    "addition(x,y)"
   ]
  },
  {
   "cell_type": "code",
   "execution_count": 7,
   "id": "79808d27",
   "metadata": {},
   "outputs": [
    {
     "name": "stdout",
     "output_type": "stream",
     "text": [
      "x == 40 and y == 20\n"
     ]
    },
    {
     "data": {
      "text/plain": [
       "60"
      ]
     },
     "execution_count": 7,
     "metadata": {},
     "output_type": "execute_result"
    }
   ],
   "source": [
    "addition(y,x) # x=y ; y=x (order of arguments is important)"
   ]
  },
  {
   "cell_type": "code",
   "execution_count": 11,
   "id": "f5ddc716",
   "metadata": {},
   "outputs": [
    {
     "name": "stdout",
     "output_type": "stream",
     "text": [
      "Update list [3, 4, 5, 6, 10000, 2, 3, 4, 5]\n"
     ]
    }
   ],
   "source": [
    "def update_list(input_list):\n",
    "    input_list.append(10000)\n",
    "    new_list = [2,3,4,5]\n",
    "    \n",
    "    input_list.extend(new_list)\n",
    "    \n",
    "    return input_list\n",
    "\n",
    "list1 = [3,4,5,6] # input_list\n",
    "updated_list = update_list(list1) # Calling function and stored value of udf in a new variable\n",
    "\n",
    "print(\"Update list\", updated_list) # [3,4,5,6, 10000,2,3,4,5 ]"
   ]
  },
  {
   "cell_type": "markdown",
   "id": "a78bfc64",
   "metadata": {},
   "source": [
    "__`2) Default / Keyword argument (kwargs):`__\n",
    "- Keyword arguments are identified by their parameter names in the function call.\n",
    "- Instead of relying on the order, you explicitly specify which value corresponds to which parameter using the parameter names.\n",
    "- Keyword arguments allow you to pass arguments out of order, making function calls more readable and self-explanatory."
   ]
  },
  {
   "cell_type": "code",
   "execution_count": 8,
   "id": "682b3c7d",
   "metadata": {},
   "outputs": [
    {
     "name": "stdout",
     "output_type": "stream",
     "text": [
      "Hello, Alice. You are 25 years old.\n"
     ]
    }
   ],
   "source": [
    "def greet(name, age):\n",
    "    print(\"Hello, \" + name + \". You are \" + str(age) + \" years old.\")\n",
    "\n",
    "greet(name=\"Alice\", age=25)"
   ]
  },
  {
   "cell_type": "code",
   "execution_count": 12,
   "id": "80690268",
   "metadata": {},
   "outputs": [
    {
     "name": "stdout",
     "output_type": "stream",
     "text": [
      "x >> 20 and  y >> 50\n"
     ]
    },
    {
     "data": {
      "text/plain": [
       "70"
      ]
     },
     "execution_count": 12,
     "metadata": {},
     "output_type": "execute_result"
    }
   ],
   "source": [
    "def addition(x,y):\n",
    "    print(f\"x >> {x} and  y >> {y}\")\n",
    "    add = x + y\n",
    "    return add\n",
    "\n",
    "addition(x = 20, y = 50)"
   ]
  },
  {
   "cell_type": "code",
   "execution_count": 13,
   "id": "b372c976",
   "metadata": {},
   "outputs": [
    {
     "name": "stdout",
     "output_type": "stream",
     "text": [
      "x >> 20 and  y >> 50\n"
     ]
    },
    {
     "data": {
      "text/plain": [
       "70"
      ]
     },
     "execution_count": 13,
     "metadata": {},
     "output_type": "execute_result"
    }
   ],
   "source": [
    "def addition(x,y):\n",
    "    print(f\"x >> {x} and  y >> {y}\")\n",
    "    add = x + y\n",
    "    return add\n",
    "\n",
    "addition(y = 50, x = 20) # ragrdless of order of arguments since key=value is provided"
   ]
  },
  {
   "cell_type": "code",
   "execution_count": 14,
   "id": "0f3489af",
   "metadata": {},
   "outputs": [
    {
     "name": "stdout",
     "output_type": "stream",
     "text": [
      "x >> 20 and  y >> 50 and z >> 200\n"
     ]
    },
    {
     "data": {
      "text/plain": [
       "70"
      ]
     },
     "execution_count": 14,
     "metadata": {},
     "output_type": "execute_result"
    }
   ],
   "source": [
    "def addition(x,y,z):\n",
    "    print(f\"x >> {x} and  y >> {y} and z >> {z}\")\n",
    "    add = x + y\n",
    "    return add\n",
    "\n",
    "addition( x = 20, y = 50, z = 200)"
   ]
  },
  {
   "cell_type": "code",
   "execution_count": 15,
   "id": "d262b39e",
   "metadata": {},
   "outputs": [
    {
     "name": "stdout",
     "output_type": "stream",
     "text": [
      "x >> 20 and  y >> 50 and z >> 200\n"
     ]
    },
    {
     "data": {
      "text/plain": [
       "70"
      ]
     },
     "execution_count": 15,
     "metadata": {},
     "output_type": "execute_result"
    }
   ],
   "source": [
    "def addition(x,y,z):\n",
    "    print(f\"x >> {x} and  y >> {y} and z >> {z}\")\n",
    "    add = x + y\n",
    "    return add\n",
    "\n",
    "addition(y = 50, z = 200, x = 20)"
   ]
  },
  {
   "cell_type": "code",
   "execution_count": 16,
   "id": "a3f469ee",
   "metadata": {},
   "outputs": [
    {
     "name": "stdout",
     "output_type": "stream",
     "text": [
      "x >> 10 and  y >> 30 and z >> 20\n"
     ]
    },
    {
     "data": {
      "text/plain": [
       "60"
      ]
     },
     "execution_count": 16,
     "metadata": {},
     "output_type": "execute_result"
    }
   ],
   "source": [
    "# Positional arg + Keyword argument\n",
    "\n",
    "def addition(x,y,z):\n",
    "    print(f\"x >> {x} and  y >> {y} and z >> {z}\")\n",
    "    add = x + y + z\n",
    "    return add\n",
    "\n",
    "addition(10, 30, z = 20)"
   ]
  },
  {
   "cell_type": "code",
   "execution_count": 31,
   "id": "b3403bd8",
   "metadata": {},
   "outputs": [],
   "source": [
    "# This will give you an error since default keyword arguments should be written in a order when using positional and keyword arguments in UDF\n",
    "# Default keyword arguments should be taken at last not at the begining\n",
    "# Default/Keyword argument should fllow positional argument\n",
    "\n",
    "# def addition(x,y,z):\n",
    "#     print(f\"x >> {x} and  y >> {y} and z >> {z}\")\n",
    "#     add = x + y + z\n",
    "#     return add\n",
    "\n",
    "# addition(z = 20, 10,20)"
   ]
  },
  {
   "cell_type": "code",
   "execution_count": 17,
   "id": "cab2fb23",
   "metadata": {},
   "outputs": [
    {
     "name": "stdout",
     "output_type": "stream",
     "text": [
      "x >> 10 and  y >> 20 and z >> 100\n"
     ]
    },
    {
     "data": {
      "text/plain": [
       "130"
      ]
     },
     "execution_count": 17,
     "metadata": {},
     "output_type": "execute_result"
    }
   ],
   "source": [
    "def addition(x,y,z):\n",
    "    print(f\"x >> {x} and  y >> {y} and z >> {z}\")\n",
    "    add = x + y + z\n",
    "    return add\n",
    "\n",
    "addition(10, z=100, y=20)"
   ]
  },
  {
   "cell_type": "code",
   "execution_count": 18,
   "id": "9714c5a2",
   "metadata": {},
   "outputs": [
    {
     "name": "stdout",
     "output_type": "stream",
     "text": [
      "x >> 10 and  y >> 20 and z >> 100\n"
     ]
    },
    {
     "data": {
      "text/plain": [
       "130"
      ]
     },
     "execution_count": 18,
     "metadata": {},
     "output_type": "execute_result"
    }
   ],
   "source": [
    "def addition(x,y,z):\n",
    "    print(f\"x >> {x} and  y >> {y} and z >> {z}\")\n",
    "    add = x + y + z\n",
    "    return add\n",
    "\n",
    "addition(10,20, z=100)"
   ]
  },
  {
   "cell_type": "code",
   "execution_count": 20,
   "id": "f495bcc9",
   "metadata": {},
   "outputs": [
    {
     "name": "stdout",
     "output_type": "stream",
     "text": [
      "n1==2 and n2==4 and n3 == 10\n"
     ]
    },
    {
     "data": {
      "text/plain": [
       "16"
      ]
     },
     "execution_count": 20,
     "metadata": {},
     "output_type": "execute_result"
    }
   ],
   "source": [
    "def addition(n1,n2,n3):\n",
    "    print(f'n1=={n1} and n2=={n2} and n3 == {n3}')\n",
    "    add = n1 + n2 + n3\n",
    "    return add\n",
    "\n",
    "\n",
    "addition(n2 = 4,n1 = 2, n3 = 10) # If all the arguements are defined order is not important."
   ]
  },
  {
   "cell_type": "markdown",
   "id": "43355e4a",
   "metadata": {},
   "source": [
    "__`3) Default parameter:`__ If we call the function without argument, it uses the default value of paramenter"
   ]
  },
  {
   "cell_type": "code",
   "execution_count": 50,
   "id": "ad8a4027",
   "metadata": {},
   "outputs": [
    {
     "name": "stdout",
     "output_type": "stream",
     "text": [
      "n1==30 and n2==20 and n3 == 100\n"
     ]
    },
    {
     "data": {
      "text/plain": [
       "150"
      ]
     },
     "execution_count": 50,
     "metadata": {},
     "output_type": "execute_result"
    }
   ],
   "source": [
    "def addition(n1, n2, n3=100):\n",
    "    print(f'n1=={n1} and n2=={n2} and n3 == {n3}')\n",
    "    add = n1 + n2 + n3\n",
    "    return add\n",
    "\n",
    "addition( n2 = 20, n1 = 30) # n3=100 is a default parameter, since we have only given 2 arguments."
   ]
  },
  {
   "cell_type": "code",
   "execution_count": 23,
   "id": "23ef9633",
   "metadata": {},
   "outputs": [
    {
     "name": "stdout",
     "output_type": "stream",
     "text": [
      "n1==20 and n2==30 and n3 == 100\n"
     ]
    },
    {
     "data": {
      "text/plain": [
       "150"
      ]
     },
     "execution_count": 23,
     "metadata": {},
     "output_type": "execute_result"
    }
   ],
   "source": [
    "# Positional + Keyword + Default parameter\n",
    "\n",
    "def addition(n1, n2, n3=100):\n",
    "    print(f'n1=={n1} and n2=={n2} and n3 == {n3}')\n",
    "    add = n1 + n2 + n3\n",
    "    return add\n",
    "\n",
    "addition(20, n2 = 30)"
   ]
  },
  {
   "cell_type": "code",
   "execution_count": 24,
   "id": "13c25705",
   "metadata": {},
   "outputs": [
    {
     "name": "stdout",
     "output_type": "stream",
     "text": [
      "n1==20 and n2==30 and n3 == 50\n"
     ]
    },
    {
     "data": {
      "text/plain": [
       "100"
      ]
     },
     "execution_count": 24,
     "metadata": {},
     "output_type": "execute_result"
    }
   ],
   "source": [
    "def addition(n1, n2, n3=100):\n",
    "    print(f'n1=={n1} and n2=={n2} and n3 == {n3}')\n",
    "    add = n1 + n2 + n3\n",
    "    return add\n",
    "\n",
    "addition(20,n2=30,n3=50)"
   ]
  },
  {
   "cell_type": "code",
   "execution_count": 25,
   "id": "796b5ccf",
   "metadata": {},
   "outputs": [
    {
     "name": "stdout",
     "output_type": "stream",
     "text": [
      "n1==20 and n2==50 and n3 == 100\n"
     ]
    },
    {
     "data": {
      "text/plain": [
       "170"
      ]
     },
     "execution_count": 25,
     "metadata": {},
     "output_type": "execute_result"
    }
   ],
   "source": [
    "def addition(n1, n2=50, n3=100):\n",
    "    print(f'n1=={n1} and n2=={n2} and n3 == {n3}')\n",
    "    add = n1 + n2 + n3\n",
    "    return add\n",
    "\n",
    "addition(20)"
   ]
  },
  {
   "cell_type": "code",
   "execution_count": 26,
   "id": "92df2b1c",
   "metadata": {},
   "outputs": [
    {
     "name": "stdout",
     "output_type": "stream",
     "text": [
      "n1==20 and n2==50 and n3 == 100\n"
     ]
    },
    {
     "data": {
      "text/plain": [
       "170"
      ]
     },
     "execution_count": 26,
     "metadata": {},
     "output_type": "execute_result"
    }
   ],
   "source": [
    "def addition(n1 =20, n2 = 50, n3 = 100):\n",
    "    print(f'n1=={n1} and n2=={n2} and n3 == {n3}')\n",
    "    add = n1 + n2 + n3\n",
    "    return add\n",
    "\n",
    "addition()"
   ]
  },
  {
   "cell_type": "code",
   "execution_count": 27,
   "id": "f9e0a8fc",
   "metadata": {},
   "outputs": [
    {
     "name": "stdout",
     "output_type": "stream",
     "text": [
      "n1==2 and n2==3 and n3 == 100\n"
     ]
    },
    {
     "data": {
      "text/plain": [
       "105"
      ]
     },
     "execution_count": 27,
     "metadata": {},
     "output_type": "execute_result"
    }
   ],
   "source": [
    "def addition(n1 =20, n2 = 50, n3 = 100):\n",
    "    print(f'n1=={n1} and n2=={n2} and n3 == {n3}')\n",
    "    add = n1 + n2 + n3\n",
    "    return add\n",
    "\n",
    "addition(2,3)"
   ]
  },
  {
   "cell_type": "code",
   "execution_count": 29,
   "id": "8bd77090",
   "metadata": {},
   "outputs": [
    {
     "name": "stdout",
     "output_type": "stream",
     "text": [
      "Model name KNN\n",
      "Model name Logistic Regression\n"
     ]
    }
   ],
   "source": [
    "def train_model(model_name = 'KNN'):\n",
    "    print(\"Model name\",model_name )\n",
    "    \n",
    "train_model()\n",
    "train_model(\"Logistic Regression\")"
   ]
  },
  {
   "cell_type": "markdown",
   "id": "e6d25fbb",
   "metadata": {},
   "source": [
    "__`4) Arbitary arguments (*):`__\n",
    "- You can use an asterisk (*) before the parameter name to allow the function to accept an arbitrary number of positional arguments.\n",
    "- Inside the function, the arbitrary positional arguments are treated as a tuple.\n",
    "- In simple words, If you do not know how many arguments that will be passed into your function add * before the parameter name while defining a function. \n",
    "- This way the function will receive a tuple of arguments, and can access the items accordingly.\n",
    "- Datatype of args variable will be tuple"
   ]
  },
  {
   "cell_type": "code",
   "execution_count": 9,
   "id": "f8acf4fa",
   "metadata": {},
   "outputs": [
    {
     "name": "stdout",
     "output_type": "stream",
     "text": [
      "Sum: 10\n"
     ]
    }
   ],
   "source": [
    "def sum_numbers(*numbers):\n",
    "    total = sum(numbers)\n",
    "    print(\"Sum:\", total)\n",
    "\n",
    "sum_numbers(1, 2, 3, 4)"
   ]
  },
  {
   "cell_type": "code",
   "execution_count": 5,
   "id": "aa8d5456",
   "metadata": {},
   "outputs": [
    {
     "name": "stdout",
     "output_type": "stream",
     "text": [
      "args >> (2, 3, 4, 5, 6, 7, 8)\n",
      "Multuplication 40320\n"
     ]
    },
    {
     "data": {
      "text/plain": [
       "40320"
      ]
     },
     "execution_count": 5,
     "metadata": {},
     "output_type": "execute_result"
    }
   ],
   "source": [
    "def multiplication(*args):\n",
    "    print('args >>', args)\n",
    "    mul = 1\n",
    "    for num in args:\n",
    "        mul *= num\n",
    "        \n",
    "    print(\"Multuplication\", mul)\n",
    "    return mul\n",
    "\n",
    "multiplication(2,3,4,5,6,7,8)"
   ]
  },
  {
   "cell_type": "code",
   "execution_count": 39,
   "id": "fb5ee210",
   "metadata": {},
   "outputs": [
    {
     "name": "stdout",
     "output_type": "stream",
     "text": [
      "args >> (2,)\n",
      "Multuplication 2\n"
     ]
    },
    {
     "data": {
      "text/plain": [
       "2"
      ]
     },
     "execution_count": 39,
     "metadata": {},
     "output_type": "execute_result"
    }
   ],
   "source": [
    "def multiplication(*args):\n",
    "    print('args >>', args)\n",
    "    mul = 1\n",
    "    for num in args:\n",
    "        mul *= num\n",
    "        \n",
    "    print(\"Multuplication\", mul)\n",
    "    return mul\n",
    "\n",
    "multiplication(2) # By default value of args will be (2,) since it is tuple. Recall defining an empty tuple"
   ]
  },
  {
   "cell_type": "code",
   "execution_count": 40,
   "id": "a7b0e729",
   "metadata": {},
   "outputs": [
    {
     "name": "stdout",
     "output_type": "stream",
     "text": [
      "a >> 1 and  b >> 2\n",
      "var >> (3, 2, 50, 6)\n",
      "Multuplication 1800\n"
     ]
    },
    {
     "data": {
      "text/plain": [
       "1800"
      ]
     },
     "execution_count": 40,
     "metadata": {},
     "output_type": "execute_result"
    }
   ],
   "source": [
    "# Positional + Arbitory\n",
    "\n",
    "def multiplication(a,b,*var):\n",
    "    print(f\"a >> {a} and  b >> {b}\")\n",
    "    print('var >>', var)\n",
    "    mul = 1\n",
    "    for num in var:\n",
    "        mul *= num\n",
    "        \n",
    "    print(\"Multuplication\", mul)\n",
    "    return mul\n",
    "\n",
    "multiplication(1,2,3,2,50,6)"
   ]
  },
  {
   "cell_type": "code",
   "execution_count": 43,
   "id": "aa143575",
   "metadata": {},
   "outputs": [
    {
     "name": "stdout",
     "output_type": "stream",
     "text": [
      "a >> 1 and  b >> 2\n",
      "x == 100 and y == 200\n",
      "var >> (3, 2, 50, 6)\n",
      "Multuplication 1800\n"
     ]
    },
    {
     "data": {
      "text/plain": [
       "1800"
      ]
     },
     "execution_count": 43,
     "metadata": {},
     "output_type": "execute_result"
    }
   ],
   "source": [
    "# Doubt??\n",
    "# Positional + Arbitory + Default parameter\n",
    "\n",
    "def multiplication(a,b,*var, x=100, y=200):\n",
    "    print(f\"a >> {a} and  b >> {b}\")\n",
    "    print(f\"x == {x} and y == {y}\")\n",
    "    print('var >>', var)\n",
    "    mul = 1\n",
    "    for num in var:\n",
    "        mul *= num\n",
    "        \n",
    "    print(\"Multuplication\", mul)\n",
    "    return mul\n",
    "\n",
    "multiplication(1,2,3,2,50,6)"
   ]
  },
  {
   "cell_type": "markdown",
   "id": "f683a36b",
   "metadata": {},
   "source": [
    "__`5) Arbitory keyword arguments (kwargs**):`__\n",
    "- Similar to arbitrary positional arguments, you can use a double asterisk (**) before the parameter name to allow the function to accept an arbitrary number of keyword arguments.\n",
    "- Inside the function, the arbitrary keyword arguments are treated as a dictionary.\n",
    "- In simple words, If you do not know how many keyword arguments that will be passed into your function, add two asterisk: ** before the parameter name in the function definition.\n",
    "- Data type of kwrgs variable will be dictionary"
   ]
  },
  {
   "cell_type": "code",
   "execution_count": 10,
   "id": "37d26ddf",
   "metadata": {},
   "outputs": [
    {
     "name": "stdout",
     "output_type": "stream",
     "text": [
      "name: Alice\n",
      "age: 25\n",
      "city: New York\n"
     ]
    }
   ],
   "source": [
    "def print_info(**info):\n",
    "    for key, value in info.items():\n",
    "        print(key + \": \" + value)\n",
    "\n",
    "print_info(name=\"Alice\", age=\"25\", city=\"New York\")"
   ]
  },
  {
   "cell_type": "code",
   "execution_count": 6,
   "id": "a2bdcad3",
   "metadata": {},
   "outputs": [
    {
     "name": "stdout",
     "output_type": "stream",
     "text": [
      "kwargs >> {'a': 10, 'b': 20, 'c': 30}\n"
     ]
    }
   ],
   "source": [
    "def test(**kwargs):\n",
    "    print(\"kwargs >>\",kwargs)\n",
    "    \n",
    "test(a = 10, b = 20, c = 30)"
   ]
  },
  {
   "cell_type": "code",
   "execution_count": 7,
   "id": "baa58e06",
   "metadata": {},
   "outputs": [
    {
     "name": "stdout",
     "output_type": "stream",
     "text": [
      "kwargs >> {'a': 10, 'b': 20, 'c': 30, 'd': 40, 'e': 50}\n"
     ]
    }
   ],
   "source": [
    "def test(**kwargs):\n",
    "    print(\"kwargs >>\",kwargs)\n",
    "    \n",
    "test(a = 10, b = 20, c = 30, d = 40, e = 50)"
   ]
  },
  {
   "cell_type": "code",
   "execution_count": 8,
   "id": "373992c8",
   "metadata": {},
   "outputs": [
    {
     "name": "stdout",
     "output_type": "stream",
     "text": [
      "kwargs >> {'s1': 65, 's2': 78, 's3': 90, 's': 45}\n"
     ]
    },
    {
     "data": {
      "text/plain": [
       "69.5"
      ]
     },
     "execution_count": 8,
     "metadata": {},
     "output_type": "execute_result"
    }
   ],
   "source": [
    "def average_marks(**kwargs):\n",
    "    print(\"kwargs >>\",kwargs)\n",
    "    total_marks = sum(kwargs.values())\n",
    "    \n",
    "    average = total_marks/len(kwargs.values())\n",
    "    return average\n",
    "\n",
    "average_marks(s1 = 65, s2 = 78, s3=90, s=45)"
   ]
  },
  {
   "cell_type": "code",
   "execution_count": 9,
   "id": "afec89f8",
   "metadata": {},
   "outputs": [
    {
     "name": "stdout",
     "output_type": "stream",
     "text": [
      " a == 1 , b == 2, c == 3\n",
      "args >> (4, 5, 6, 7, 8, 9, 10)\n",
      "x == 20 and  y == 50\n",
      " kwargs >> {}\n"
     ]
    }
   ],
   "source": [
    "# *args, **kwargs\n",
    "\n",
    "def test_parameters(a,b,c, *args, x = 20, y = 50, **kwargs):\n",
    "    print(f\" a == {a} , b == {b}, c == {c}\")\n",
    "    print('args >>', args)\n",
    "    print(f\"x == {x} and  y == {y}\")\n",
    "    print(' kwargs >>', kwargs)\n",
    "    \n",
    "test_parameters(1,2,3,4,5,6,7,8,9,10)"
   ]
  },
  {
   "cell_type": "code",
   "execution_count": 10,
   "id": "d24862d4",
   "metadata": {},
   "outputs": [
    {
     "name": "stdout",
     "output_type": "stream",
     "text": [
      " a == 1 , b == 2, c == 3\n",
      "args >> (4, 5, 6, 7, 8, 9, 10)\n",
      "x == 20 and  y == 50\n",
      " kwargs >> {'n1': 10, 'n2': 20}\n"
     ]
    }
   ],
   "source": [
    "def test_parameters(a,b,c, *args, x = 20, y = 50, **kwargs):\n",
    "    print(f\" a == {a} , b == {b}, c == {c}\")\n",
    "    print('args >>', args)\n",
    "    print(f\"x == {x} and  y == {y}\")\n",
    "    print(' kwargs >>', kwargs)\n",
    "    \n",
    "test_parameters(1,2,3,4,5,6,7,8,9,10, n1 = 10, n2 = 20)"
   ]
  },
  {
   "cell_type": "code",
   "execution_count": 11,
   "id": "d5a17a5e",
   "metadata": {},
   "outputs": [
    {
     "name": "stdout",
     "output_type": "stream",
     "text": [
      " a == 1 , b == 2, c == 3\n",
      "args >> (4, 5, 6, 7, 8, 9, 10)\n",
      "x == 100 and  y == 200\n",
      " kwargs >> {'n1': 10, 'n2': 20}\n"
     ]
    }
   ],
   "source": [
    "def test_parameters(a,b,c, *args, x = 20, y = 50, **kwargs):\n",
    "    print(f\" a == {a} , b == {b}, c == {c}\")\n",
    "    print('args >>', args)\n",
    "    print(f\"x == {x} and  y == {y}\")\n",
    "    print(' kwargs >>', kwargs)\n",
    "    \n",
    "test_parameters(1,2,3,4,5,6,7,8,9,10, n1 = 10, n2 = 20,x =100, y = 200) "
   ]
  },
  {
   "cell_type": "markdown",
   "id": "c964dfeb",
   "metadata": {},
   "source": [
    "__`Summary:`__\n",
    "- Positional arguments are matched based on their order in the function call.\n",
    "- Keyword arguments are identified by their parameter names in the function call.\n",
    "- Arbitrary positional arguments are specified using an asterisk (*) and treated as a tuple.\n",
    "- Arbitrary keyword arguments are specified using a double asterisk (**) and treated as a dictionary."
   ]
  }
 ],
 "metadata": {
  "kernelspec": {
   "display_name": "Python 3 (ipykernel)",
   "language": "python",
   "name": "python3"
  },
  "language_info": {
   "codemirror_mode": {
    "name": "ipython",
    "version": 3
   },
   "file_extension": ".py",
   "mimetype": "text/x-python",
   "name": "python",
   "nbconvert_exporter": "python",
   "pygments_lexer": "ipython3",
   "version": "3.9.12"
  }
 },
 "nbformat": 4,
 "nbformat_minor": 5
}
