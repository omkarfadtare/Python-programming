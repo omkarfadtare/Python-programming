{
 "cells": [
  {
   "cell_type": "markdown",
   "id": "f044b136",
   "metadata": {},
   "source": [
    "## Lambda function\n",
    "\n",
    "__`What is Lambda function?`__\n",
    "- Lambda function is a small, anonymous function that can have any number of input arguments but only one expression.\n",
    "- Lambda functions are typically used in situations where you need a simple function for a short period, and it's not worth defining a full-fledged function using def. \n",
    "- They are commonly used in conjunction with higher-order functions like map(), filter(), and reduce().\n",
    "- __`Syntax: lambda arguments : expression`__"
   ]
  },
  {
   "cell_type": "code",
   "execution_count": 1,
   "id": "89012f56",
   "metadata": {},
   "outputs": [
    {
     "name": "stdout",
     "output_type": "stream",
     "text": [
      "15\n"
     ]
    }
   ],
   "source": [
    "x = lambda a : a + 10\n",
    "print(x(5))"
   ]
  },
  {
   "cell_type": "code",
   "execution_count": 3,
   "id": "e7ce2882",
   "metadata": {},
   "outputs": [
    {
     "name": "stdout",
     "output_type": "stream",
     "text": [
      "30\n"
     ]
    }
   ],
   "source": [
    "x = lambda a, b : a * b\n",
    "print(x(5, 6))"
   ]
  },
  {
   "cell_type": "code",
   "execution_count": 5,
   "id": "740bb544",
   "metadata": {},
   "outputs": [
    {
     "data": {
      "text/plain": [
       "9"
      ]
     },
     "execution_count": 5,
     "metadata": {},
     "output_type": "execute_result"
    }
   ],
   "source": [
    "# Using Udf\n",
    "\n",
    "def calculation(a,b,c):\n",
    "    add = a + b + c\n",
    "    return add\n",
    "\n",
    "calculation(2,3,4)"
   ]
  },
  {
   "cell_type": "code",
   "execution_count": 7,
   "id": "90410922",
   "metadata": {},
   "outputs": [
    {
     "name": "stdout",
     "output_type": "stream",
     "text": [
      "9\n"
     ]
    }
   ],
   "source": [
    "# Using Lambda function\n",
    "\n",
    "calculation = lambda a, b, c : a + b + c\n",
    "print(calculation(2,3,4))"
   ]
  },
  {
   "cell_type": "code",
   "execution_count": 8,
   "id": "1a8a54ec",
   "metadata": {},
   "outputs": [
    {
     "data": {
      "text/plain": [
       "27"
      ]
     },
     "execution_count": 8,
     "metadata": {},
     "output_type": "execute_result"
    }
   ],
   "source": [
    "cube = lambda x : x ** 3\n",
    "\n",
    "cube(3)"
   ]
  },
  {
   "cell_type": "code",
   "execution_count": 9,
   "id": "38d4435c",
   "metadata": {},
   "outputs": [
    {
     "data": {
      "text/plain": [
       "20.0"
      ]
     },
     "execution_count": 9,
     "metadata": {},
     "output_type": "execute_result"
    }
   ],
   "source": [
    "average = lambda a,b,c : (a + b + c)/3\n",
    "\n",
    "average(10,20,30)"
   ]
  },
  {
   "cell_type": "code",
   "execution_count": 10,
   "id": "47fefaeb",
   "metadata": {},
   "outputs": [
    {
     "data": {
      "text/plain": [
       "13.333333333333334"
      ]
     },
     "execution_count": 10,
     "metadata": {},
     "output_type": "execute_result"
    }
   ],
   "source": [
    "# Works exactly same as User defined function, unlike udf you can use different types of arguments in lambda function\n",
    "\n",
    "average = lambda a,b,c=10 : (a + b + c)/3\n",
    "\n",
    "average(10,20)"
   ]
  },
  {
   "cell_type": "code",
   "execution_count": 11,
   "id": "326418b0",
   "metadata": {},
   "outputs": [
    {
     "data": {
      "text/plain": [
       "27"
      ]
     },
     "execution_count": 11,
     "metadata": {},
     "output_type": "execute_result"
    }
   ],
   "source": [
    "x = lambda *args : sum(args)\n",
    "\n",
    "x(2,3,4,5,6,7)"
   ]
  },
  {
   "cell_type": "code",
   "execution_count": 12,
   "id": "88c63092",
   "metadata": {},
   "outputs": [
    {
     "data": {
      "text/plain": [
       "7"
      ]
     },
     "execution_count": 12,
     "metadata": {},
     "output_type": "execute_result"
    }
   ],
   "source": [
    "x = lambda *args : max(args)\n",
    "\n",
    "x(2,3,4,5,6,7)"
   ]
  },
  {
   "cell_type": "code",
   "execution_count": 13,
   "id": "3eda982f",
   "metadata": {},
   "outputs": [
    {
     "data": {
      "text/plain": [
       "18"
      ]
     },
     "execution_count": 13,
     "metadata": {},
     "output_type": "execute_result"
    }
   ],
   "source": [
    "x = lambda **kwargs : sum(kwargs.values())\n",
    "\n",
    "x(n1 = 5, n2 = 6, n3 = 7)"
   ]
  },
  {
   "cell_type": "code",
   "execution_count": 23,
   "id": "b6c642c5",
   "metadata": {},
   "outputs": [
    {
     "name": "stdout",
     "output_type": "stream",
     "text": [
      "60\n"
     ]
    }
   ],
   "source": [
    "# Method1\n",
    "\n",
    "def multiplication(x):\n",
    "    return 20 * x\n",
    "\n",
    "print(multiplication(3))"
   ]
  },
  {
   "cell_type": "code",
   "execution_count": 24,
   "id": "6e93977a",
   "metadata": {},
   "outputs": [
    {
     "name": "stdout",
     "output_type": "stream",
     "text": [
      "60\n"
     ]
    }
   ],
   "source": [
    "# Method2\n",
    "\n",
    "def multiplication(x): return 20 * x\n",
    "print(multiplication(3))\n",
    "\n",
    "# To simplify further we use lambda function"
   ]
  },
  {
   "cell_type": "code",
   "execution_count": 25,
   "id": "15e81b8a",
   "metadata": {},
   "outputs": [
    {
     "name": "stdout",
     "output_type": "stream",
     "text": [
      "60\n"
     ]
    }
   ],
   "source": [
    "# Method 3 \n",
    "\n",
    "multiplication = lambda x: x*20\n",
    "print(multiplication(3))"
   ]
  },
  {
   "cell_type": "code",
   "execution_count": 14,
   "id": "48553cec",
   "metadata": {},
   "outputs": [
    {
     "name": "stdout",
     "output_type": "stream",
     "text": [
      "[9, 16, 25, 36, 36]\n",
      "[100, 400, 900]\n",
      "[81, 64, 49, 36]\n"
     ]
    }
   ],
   "source": [
    "# Using User defined function\n",
    "\n",
    "list1 = [3,4,5,6,6]\n",
    "list2 = [10,20,30]\n",
    "list3 = [9,8,7,6]\n",
    "\n",
    "def square(input_list):\n",
    "    sqr_list = [i**2 for i in input_list] # List comprehension\n",
    "    return sqr_list\n",
    "\n",
    "print(square(list1))\n",
    "print(square(list2))\n",
    "print(square(list3))"
   ]
  },
  {
   "cell_type": "code",
   "execution_count": 15,
   "id": "30f2259c",
   "metadata": {},
   "outputs": [
    {
     "name": "stdout",
     "output_type": "stream",
     "text": [
      "[9, 16, 25, 36, 36]\n",
      "[100, 400, 900]\n",
      "[81, 64, 49, 36]\n"
     ]
    }
   ],
   "source": [
    "# Using lambda function\n",
    "\n",
    "sqr = lambda input_list : [i**2 for i in input_list]\n",
    "\n",
    "print(sqr(list1))\n",
    "print(sqr(list2))\n",
    "print(sqr(list3))"
   ]
  },
  {
   "cell_type": "code",
   "execution_count": 16,
   "id": "eebfba08",
   "metadata": {},
   "outputs": [
    {
     "name": "stdout",
     "output_type": "stream",
     "text": [
      "a is smaller than b\n",
      "a is greater than or equal to b\n"
     ]
    }
   ],
   "source": [
    "# Using user defined function\n",
    "\n",
    "def compare_two_numbers(a,b):\n",
    "    if a < b:\n",
    "        return \"a is smaller than b\"\n",
    "    else:\n",
    "        return 'a is greater than or equal to b'\n",
    "        \n",
    "print(compare_two_numbers(10,20))\n",
    "print(compare_two_numbers(400,40))"
   ]
  },
  {
   "cell_type": "code",
   "execution_count": 17,
   "id": "aab89575",
   "metadata": {},
   "outputs": [
    {
     "name": "stdout",
     "output_type": "stream",
     "text": [
      "a is smaller than b\n"
     ]
    }
   ],
   "source": [
    "# Using lambda function \n",
    "\n",
    "x = lambda a, b : print(\"a is smaller than b\") if a < b else print('a is greater than or equal to b')\n",
    "\n",
    "x(30, 70)"
   ]
  },
  {
   "cell_type": "code",
   "execution_count": 26,
   "id": "b2e4c5ea",
   "metadata": {},
   "outputs": [
    {
     "name": "stdout",
     "output_type": "stream",
     "text": [
      "[2, 4, 6, 8]\n",
      "[1, 3, 5, 7, 9]\n",
      "[1, 4, 9, 16, 25, 36, 49, 64, 81]\n"
     ]
    }
   ],
   "source": [
    "test = [1,2,3,4,5,6,7,8,9]\n",
    "\n",
    "# To list out the even numbers in test\n",
    "print(list(filter(lambda x: x%2 == 0, test)))\n",
    "\n",
    "# To list out the odd numbers in test\n",
    "print(list(filter(lambda x: x%2 == 1, test)))\n",
    "\n",
    "# To square every number in test\n",
    "print(list(map(lambda x:x**2,test)))"
   ]
  },
  {
   "cell_type": "code",
   "execution_count": 22,
   "id": "f79cef70",
   "metadata": {},
   "outputs": [],
   "source": [
    "def myfunc(n):\n",
    "    return lambda a : a * n"
   ]
  },
  {
   "cell_type": "code",
   "execution_count": 27,
   "id": "8fda58be",
   "metadata": {},
   "outputs": [
    {
     "name": "stdout",
     "output_type": "stream",
     "text": [
      "22\n"
     ]
    }
   ],
   "source": [
    "def myfunc(n):\n",
    "    return lambda a : a * n # 11 * 2\n",
    "\n",
    "mydoubler = myfunc(2) \n",
    "print(mydoubler(11))"
   ]
  }
 ],
 "metadata": {
  "kernelspec": {
   "display_name": "Python 3 (ipykernel)",
   "language": "python",
   "name": "python3"
  },
  "language_info": {
   "codemirror_mode": {
    "name": "ipython",
    "version": 3
   },
   "file_extension": ".py",
   "mimetype": "text/x-python",
   "name": "python",
   "nbconvert_exporter": "python",
   "pygments_lexer": "ipython3",
   "version": "3.9.12"
  }
 },
 "nbformat": 4,
 "nbformat_minor": 5
}
