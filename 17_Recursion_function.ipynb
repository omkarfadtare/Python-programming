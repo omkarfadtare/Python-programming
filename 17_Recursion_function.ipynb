{
 "cells": [
  {
   "cell_type": "markdown",
   "id": "047668c5",
   "metadata": {},
   "source": [
    "## Recursion function\n",
    "\n",
    "__`What is a Recursion function?`__\n",
    "- A Recursion/Recursive functions are functions that calls itself. It is always made up of 2 portions, the base case and the recursive case.\n",
    "- The base case is the condition to stop the recursion.\n",
    "- The recursive case is the part where the function calls on itself."
   ]
  },
  {
   "cell_type": "code",
   "execution_count": 1,
   "id": "6a700236",
   "metadata": {},
   "outputs": [
    {
     "name": "stdout",
     "output_type": "stream",
     "text": [
      "24\n"
     ]
    }
   ],
   "source": [
    "# Explaination: In the below example when we we pass argument 4 in factorial function, Interpreter will go to the else block \n",
    "# i.e.(recursive case) and since If condition gets false. The else block will returns value (4 * factorial(3)), Interpreter will \n",
    "# again calls the function storing (4* ??). \n",
    "# Recursiive function will continue recursion unless and untill value of x will be 1.\n",
    "# When the value of x becomes 1, Interpreter will return (4 * 3 * 2 * 1) = 24.\n",
    "# **Interpreter or code is returning value everytime or in every recursion\n",
    "\n",
    "# Factorial\n",
    "\n",
    "def factorial(x): # define a function\n",
    "    if x == 1: # base case\n",
    "        return 1\n",
    "    else: # recursive case\n",
    "        return(x * factorial(x-1)) # return(4 * 3 * 2 * 1)\n",
    "    \n",
    "print(factorial(4)) # calling function "
   ]
  },
  {
   "cell_type": "markdown",
   "id": "6f70c190",
   "metadata": {},
   "source": [
    "__`For personal understanding:`__ Recursive function works same as while loop. Unlike while loop, recursive function will continue recursion unless and untill base condition gets satisfied. The only difference is while loop will continue to iterate for infinite time but recursion has limit."
   ]
  },
  {
   "cell_type": "code",
   "execution_count": 2,
   "id": "6eef6a52",
   "metadata": {},
   "outputs": [
    {
     "data": {
      "text/plain": [
       "3000"
      ]
     },
     "execution_count": 2,
     "metadata": {},
     "output_type": "execute_result"
    }
   ],
   "source": [
    "import sys\n",
    "\n",
    "sys.getrecursionlimit() # Returns recursion limit for jupyter notebook, It may varry upon different IDEs. For Pycharm it is 1000"
   ]
  },
  {
   "cell_type": "code",
   "execution_count": 3,
   "id": "5a42a6de",
   "metadata": {},
   "outputs": [
    {
     "name": "stdout",
     "output_type": "stream",
     "text": [
      "10\n"
     ]
    }
   ],
   "source": [
    "# Sum of 1-n numbers using recursion\n",
    "\n",
    "def summation(n): # defining function\n",
    "    if n == 1: # base case\n",
    "        return 1\n",
    "    else: # recursive case\n",
    "        return n + summation(n-1)\n",
    "\n",
    "print(summation(4)) # calling function"
   ]
  },
  {
   "cell_type": "code",
   "execution_count": 4,
   "id": "ef172fca",
   "metadata": {},
   "outputs": [
    {
     "name": "stdout",
     "output_type": "stream",
     "text": [
      "-22\n"
     ]
    }
   ],
   "source": [
    "# Function to find the smallest number in a list using recursion:\n",
    "\n",
    "def findmin(Arr,n): # defining function\n",
    "    if n == 1: # base case\n",
    "        return Arr[0]\n",
    "\n",
    "    else: # recursive case\n",
    "        return min(Arr[n-1],findmin(Arr,n-1)) \n",
    "\n",
    "A = [1, 4, 24, 17, -5, 10, -22] # arguments\n",
    "n = len(A) \n",
    "\n",
    "print(findmin(A,n)) # calling function "
   ]
  },
  {
   "cell_type": "code",
   "execution_count": 5,
   "id": "7c8362c0",
   "metadata": {},
   "outputs": [
    {
     "name": "stdout",
     "output_type": "stream",
     "text": [
      "Fibonacci series: 0 1 1 2 3 5 "
     ]
    }
   ],
   "source": [
    "# Fibonacii series using recursion:\n",
    "\n",
    "def fibo(n): # define function\n",
    "    if  n <= 1: # base case\n",
    "        return n\n",
    "    else: # recursive case\n",
    "        return fibo(n-2) + fibo(n-1)\n",
    "\n",
    "n = 6 # arguemnt/range\n",
    "print(f\"Fibonacci series:\",end = ' ')\n",
    "\n",
    "for i in range(n):\n",
    "    print(fibo(i), end = ' ')"
   ]
  }
 ],
 "metadata": {
  "kernelspec": {
   "display_name": "Python 3 (ipykernel)",
   "language": "python",
   "name": "python3"
  },
  "language_info": {
   "codemirror_mode": {
    "name": "ipython",
    "version": 3
   },
   "file_extension": ".py",
   "mimetype": "text/x-python",
   "name": "python",
   "nbconvert_exporter": "python",
   "pygments_lexer": "ipython3",
   "version": "3.9.12"
  }
 },
 "nbformat": 4,
 "nbformat_minor": 5
}
