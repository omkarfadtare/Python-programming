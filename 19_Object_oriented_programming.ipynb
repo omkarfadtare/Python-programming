{
 "cells": [
  {
   "cell_type": "markdown",
   "id": "c85f6ba4",
   "metadata": {},
   "source": [
    "## OOPs\n",
    "\n",
    "- It is a way of organizing and designing code in a more structured and modular manner. In simple words, it is a way of writing our code in more structured way so that we do not have to write a particular code again and again.\n",
    "- OOPs consist of class and object. We create a set of rules inside class and an instance of class or an object follows the rules. These rules consist of attributes and methods.\n",
    "\n",
    "__`What is mean by class?`__\n",
    "- Class is a blueprint or template of an object. Class has methods and attributes.\n",
    "- Class name should be written in pascal case.\n",
    "\n",
    "__`What is mean by object?`__\n",
    "- An object is an instance of class.\n",
    "- `Syntax: objectname = classname()`\n",
    "\n",
    "__`What is mean by method and function?`__\n",
    "- Functions defined inside class are known as methods.\n",
    "\n",
    "__`What is mean by instance variable?`__\n",
    "- It is a variable belongs to a specific object of a class.\n",
    "- An instance variable is a variable that's defined within a class and holds unique data for each object.\n",
    "- When you create an object from a class, you can set its instance variables to different values.\n",
    "- Instance varibale is a special kinda variable whose value depend on an object."
   ]
  },
  {
   "cell_type": "code",
   "execution_count": 54,
   "id": "62e13fb5",
   "metadata": {},
   "outputs": [
    {
     "name": "stdout",
     "output_type": "stream",
     "text": [
      "Woof!\n"
     ]
    }
   ],
   "source": [
    "class Dog: # ------------------------------> Class\n",
    "    def __init__(self, name, age): # ------> Consructor\n",
    "        self.name = name # ----------------> Instance variable\n",
    "        self.age = age\n",
    "    def bark(self): # ---------------------> Instance method \n",
    "        print(\"Woof!\")\n",
    "\n",
    "my_dog = Dog(\"Buddy\",3) # -----------------> Object/ Instance of class\n",
    "my_dog.bark()"
   ]
  },
  {
   "cell_type": "code",
   "execution_count": 33,
   "id": "1570f9e7",
   "metadata": {},
   "outputs": [
    {
     "name": "stdout",
     "output_type": "stream",
     "text": [
      "Omkar India\n",
      "Robert America\n"
     ]
    }
   ],
   "source": [
    "# Instance variable:\n",
    "\n",
    "class Person:\n",
    "    def __init__(self, name, country):\n",
    "        self.name = name\n",
    "        self.country = country\n",
    "        \n",
    "p1 = Person('Omkar', 'India')\n",
    "q1 = Person('Robert', 'America')\n",
    "\n",
    "print(p1.name, end=' ')\n",
    "print(p1.country)\n",
    "\n",
    "print(q1.name, end = ' ')\n",
    "print(q1.country)\n",
    "\n",
    "# See the values of instance variable name and country are different for different objects"
   ]
  },
  {
   "cell_type": "markdown",
   "id": "cafd3e29",
   "metadata": {},
   "source": [
    "__`What is mean by magic methods?`__\n",
    "- Magic methods are like hidden helpers that make your objects work more smoothly. \n",
    "- They have double underscores at the beginning and end of their names, making them look a bit magical. \n",
    "- These methods allow you to define how your objects should behave in various situations, such as addition, printing, and comparisons."
   ]
  },
  {
   "cell_type": "code",
   "execution_count": 52,
   "id": "a4ac39ca",
   "metadata": {},
   "outputs": [
    {
     "name": "stdout",
     "output_type": "stream",
     "text": [
      "3/4\n",
      "4/5\n",
      "31/20\n",
      "-1/20\n",
      "12/20\n",
      "15/16\n"
     ]
    }
   ],
   "source": [
    "# Creating our own fraction data type: \n",
    "\n",
    "class Fraction:\n",
    "    def __init__(self,x,y): # This is a constructor\n",
    "        self.num = x\n",
    "        self.den = y\n",
    "\n",
    "    def __str__(self): # These are the magic methods\n",
    "        return f'{self.num}/{self.den}' \n",
    "    \n",
    "    def __add__(self,other):\n",
    "        new_num = self.num*other.den + other.num*self.den\n",
    "        new_den = self.den * other.den\n",
    "        return f'{new_num}/{new_den}'\n",
    "    \n",
    "    def __sub__(self,other):\n",
    "        new_num = self.num*other.den - other.num*self.den\n",
    "        new_den = self.den * other.den\n",
    "        return f'{new_num}/{new_den}'\n",
    "    \n",
    "    def __mul__(self,other):\n",
    "        new_num = self.num * other.num\n",
    "        new_den = self.den*other.den\n",
    "        return f'{new_num}/{new_den}'\n",
    "    \n",
    "    def __truediv__(self,other):\n",
    "        new_num = self.num*other.den\n",
    "        new_den = self.den * other.num\n",
    "        return f'{new_num}/{new_den}'\n",
    "    \n",
    "fr1 = Fraction(3,4)\n",
    "fr2 = Fraction(4,5)\n",
    "\n",
    "print(fr1)\n",
    "print(fr2)\n",
    "\n",
    "print(fr1 + fr2)\n",
    "print(fr1 - fr2)\n",
    "print(fr1 * fr2)\n",
    "print(fr1 / fr2)"
   ]
  },
  {
   "cell_type": "markdown",
   "id": "d4b307b9",
   "metadata": {},
   "source": [
    "__Note:__\n",
    "- `print` statement is used when you want to show information or debug your code, and `return` statement is used when you want to pass values back from functions or compute results that will be used further in your program."
   ]
  },
  {
   "cell_type": "markdown",
   "id": "51350ed5",
   "metadata": {},
   "source": [
    "__`What is mean by constructor magic method?`__\n",
    "- A constructor method or a function is a magic method that gets automatically executed when we create an object for a class.\n",
    "- It is denoted by `def __init__():`\n",
    "- It is mainly used to set up the object's attributes.\n",
    "- In simple words when we want to create variables in class, we create them inside constructor.\n",
    "- It is also used to write configuration related code.\n",
    "\n",
    "__`What is Parameterized constructor:`__ \n",
    "- It is a special method that lets you create objects with specific initial values. It's like a customized blueprint that allows you to provide values when creating an object."
   ]
  },
  {
   "cell_type": "code",
   "execution_count": 55,
   "id": "5624e1fe",
   "metadata": {},
   "outputs": [
    {
     "name": "stdout",
     "output_type": "stream",
     "text": [
      "Buddy\n",
      "3\n",
      "Woof!\n"
     ]
    }
   ],
   "source": [
    "class Dog:\n",
    "    def __init__(self, name, age): # -----------> Parameterized Constructor\n",
    "        self.name = name \n",
    "        self.age = age\n",
    "    def bark(self):\n",
    "        print(\"Woof!\")\n",
    "\n",
    "my_dog = Dog(\"Buddy\", 3)\n",
    "\n",
    "print(my_dog.name)\n",
    "print(my_dog.age)\n",
    "my_dog.bark()"
   ]
  },
  {
   "cell_type": "markdown",
   "id": "ab0e307d",
   "metadata": {},
   "source": [
    "__`What is self parameter?`__\n",
    "- The self parameter is a reference to an object or an instance of the class, and is used to access variables and functions that belongs to the class.\n",
    "- It does not have to be named self , you can name it whatever you like, but it has to be the first parameter of any function in the class, But for better practice keep it as `self` only.\n",
    "- In simple words, Self is nothing but an object itself."
   ]
  },
  {
   "cell_type": "code",
   "execution_count": 49,
   "id": "1bb4af93",
   "metadata": {},
   "outputs": [
    {
     "name": "stdout",
     "output_type": "stream",
     "text": [
      "2337137953568\n",
      "2337137953568\n"
     ]
    }
   ],
   "source": [
    "# ID of self and ID of object is same\n",
    "\n",
    "class Dog:\n",
    "    def __init__(self, name, age):\n",
    "        self.name = name\n",
    "        self.age = age\n",
    "        print(id(self)) # ----------------------> ID of self\n",
    "    def bark(self):\n",
    "        print(\"Woof!\")\n",
    "\n",
    "my_dog = Dog(\"Buddy\",3)\n",
    "print(id(my_dog)) # ----------------------------> ID of an object"
   ]
  },
  {
   "cell_type": "code",
   "execution_count": 57,
   "id": "176a7468",
   "metadata": {},
   "outputs": [
    {
     "name": "stdout",
     "output_type": "stream",
     "text": [
      "<class '__main__.Atm'>\n",
      "\n",
      "        Hi, How can I help you?\n",
      "        1) Press 1 to create PIN\n",
      "        2) Press 2 to change PIN\n",
      "        3) Press 3 to check balance\n",
      "        4) press 4 to withdraw money\n",
      "        5) Press 5 to exit\n",
      "        1\n",
      "Please enter your PIN: 1234\n",
      "Please enter your balnace: 10000\n",
      "PIN created succesfully\n",
      "\n",
      "        Hi, How can I help you?\n",
      "        1) Press 1 to create PIN\n",
      "        2) Press 2 to change PIN\n",
      "        3) Press 3 to check balance\n",
      "        4) press 4 to withdraw money\n",
      "        5) Press 5 to exit\n",
      "        2\n",
      "Please enter your old PIN: 1234\n",
      "Please enter your new PIN: 2345\n",
      "PIN changed succesfuly\n",
      "\n",
      "        Hi, How can I help you?\n",
      "        1) Press 1 to create PIN\n",
      "        2) Press 2 to change PIN\n",
      "        3) Press 3 to check balance\n",
      "        4) press 4 to withdraw money\n",
      "        5) Press 5 to exit\n",
      "        3\n",
      "Please enter your PIN: 2345\n",
      "Your balnace is: 10000\n",
      "\n",
      "        Hi, How can I help you?\n",
      "        1) Press 1 to create PIN\n",
      "        2) Press 2 to change PIN\n",
      "        3) Press 3 to check balance\n",
      "        4) press 4 to withdraw money\n",
      "        5) Press 5 to exit\n",
      "        4\n",
      "Please enter your PIN: 2345\n",
      "Please enter the amount to be withdrawn: 2000\n",
      "Transaction successful! Your remaining account balance is Rs: 8000\n",
      "\n",
      "        Hi, How can I help you?\n",
      "        1) Press 1 to create PIN\n",
      "        2) Press 2 to change PIN\n",
      "        3) Press 3 to check balance\n",
      "        4) press 4 to withdraw money\n",
      "        5) Press 5 to exit\n",
      "        5\n"
     ]
    }
   ],
   "source": [
    "# Creating a class for ATM:\n",
    "\n",
    "class Atm:\n",
    "    def __init__(self):\n",
    "        self.PIN = int()\n",
    "        self.balance = int()\n",
    "        self.menu()\n",
    "        \n",
    "    def menu(self):\n",
    "        user_input = int(input('''\n",
    "        Hi, How can I help you?\n",
    "        1) Press 1 to create PIN\n",
    "        2) Press 2 to change PIN\n",
    "        3) Press 3 to check balance\n",
    "        4) press 4 to withdraw money\n",
    "        5) Press 5 to exit\n",
    "        '''))\n",
    "        \n",
    "        # Create pin\n",
    "        if user_input == 1:\n",
    "            self.create_PIN()\n",
    "        # Change pin\n",
    "        elif user_input == 2:\n",
    "            self.change_PIN()\n",
    "        # Check balance\n",
    "        elif user_input == 3:\n",
    "            self.check_balance()\n",
    "        # Withdraw money\n",
    "        elif user_input == 4:\n",
    "            self.withdrawal()\n",
    "        # Exit\n",
    "        else:\n",
    "            exit()\n",
    "            \n",
    "    def create_PIN(self):\n",
    "        user_PIN = int(input('Please enter your PIN: '))\n",
    "        self.PIN = user_PIN\n",
    "        user_balance = int(input('Please enter your balnace: '))\n",
    "        self.balance = user_balance\n",
    "        print('PIN created succesfully')\n",
    "        self.menu()\n",
    "        \n",
    "        \n",
    "    def change_PIN(self):\n",
    "        old_PIN = int(input('Please enter your old PIN: '))\n",
    "        \n",
    "        if old_PIN == self.PIN:\n",
    "            new_PIN = int(input('Please enter your new PIN: '))\n",
    "            self.PIN = new_PIN\n",
    "            print('PIN changed succesfuly')\n",
    "            self.menu()\n",
    "        else:\n",
    "            print('You have entered a wrong PIN')\n",
    "            self.menu()\n",
    "            \n",
    "    def check_balance(self):\n",
    "        user_PIN = int(input('Please enter your PIN: '))\n",
    "        if user_PIN == self.PIN:\n",
    "            print(f'Your balnace is: {self.balance}')\n",
    "            self.menu()\n",
    "        else:\n",
    "            print('You have entered a wrong PIN')\n",
    "            self.menu()\n",
    "    \n",
    "    def withdrawal(self):\n",
    "        user_PIN = int(input('Please enter your PIN: '))\n",
    "        if user_PIN == self.PIN:\n",
    "            withdrawn_amount = int(input('Please enter the amount to be withdrawn: '))\n",
    "            remaining_amount = self.balance - withdrawn_amount\n",
    "            print(f'Transaction successful! Your remaining account balance is Rs: {remaining_amount}')\n",
    "            self.menu()\n",
    "print(Atm)\n",
    "obj = Atm() # Only object can access class"
   ]
  },
  {
   "cell_type": "code",
   "execution_count": 6,
   "id": "3d520672",
   "metadata": {},
   "outputs": [
    {
     "name": "stdout",
     "output_type": "stream",
     "text": [
      "1x + 1y + 1 = 0\n",
      "<1,10>\n",
      "point does not lie on the line\n",
      "8.48528137423857\n"
     ]
    }
   ],
   "source": [
    "# Co-ordinate geometry:\n",
    "\n",
    "class Point:\n",
    "    def __init__(self,x,y):\n",
    "        self.x_cod = x\n",
    "        self.y_cod = y\n",
    "    def __str__(self):\n",
    "        return '<{},{}>'.format(self.x_cod,self.y_cod)\n",
    "    def euclidean_distance(self,other):\n",
    "        return ((self.x_cod - other.x_cod)**2 + (self.y_cod - other.y_cod)**2)**0.5\n",
    "    def distance_from_origin(self):\n",
    "        return (self.x_cod**2 + self.y_cod**2)**0.5\n",
    "\n",
    "class Line:\n",
    "    def __init__(self,A,B,C):\n",
    "        self.A = A\n",
    "        self.B = B\n",
    "        self.C = C\n",
    "    def __str__(self):\n",
    "        return '{}x + {}y + {} = 0'.format(self.A,self.B,self.C)\n",
    "    def point_on_line(line,point):\n",
    "        if line.A*point.x_cod + line.B*point.y_cod + line.C == 0:\n",
    "            return 'point lies on the line'\n",
    "        else:\n",
    "            return 'point does not lie on the line'\n",
    "    def shortest_distance(line,point):\n",
    "        return abs(line.A*point.x_cod + line.B*point.y_cod + line.C)/(line.A**2 + line.B**2)**0.5\n",
    "\n",
    "l1 = Line(1,1,1)\n",
    "p1 = Point(1,10)\n",
    "print(l1)\n",
    "print(p1)\n",
    "print(l1.point_on_line(p1))\n",
    "print(l1.shortest_distance(p1))"
   ]
  },
  {
   "cell_type": "markdown",
   "id": "736811e9",
   "metadata": {},
   "source": [
    "__`What are Referance variables`__\n",
    "- Reference varibles holds the address of an object\n",
    "- We can create objects without reference variable as well\n",
    "- An object can have multiple reference variables\n",
    "- Assigning a new reference variable to an existing object does not create a new object "
   ]
  },
  {
   "cell_type": "code",
   "execution_count": 8,
   "id": "c028c2cf",
   "metadata": {},
   "outputs": [
    {
     "name": "stdout",
     "output_type": "stream",
     "text": [
      "India\n",
      "Nitish\n",
      "Male\n",
      "Namaste Nitish\n"
     ]
    }
   ],
   "source": [
    "class Person:\n",
    "    def __init__(self, name_input, country_input):\n",
    "        self.name = name_input\n",
    "        self.country = country_input\n",
    "        \n",
    "    def greet(self):\n",
    "        if self.country == 'India':\n",
    "            print('Namaste', self.name)\n",
    "        else:\n",
    "            print(f'Hello!', self.name)\n",
    "            \n",
    "p=Person('Nitish','India')\n",
    "\n",
    "print(p.country)\n",
    "print(p.name)\n",
    "p.gender = 'Male' # This will generate a new attribute\n",
    "print(p.gender)\n",
    "p.greet()"
   ]
  },
  {
   "cell_type": "code",
   "execution_count": 10,
   "id": "d206cb92",
   "metadata": {},
   "outputs": [
    {
     "name": "stdout",
     "output_type": "stream",
     "text": [
      "<__main__.Person object at 0x0000014EF4EFB6A0>\n",
      "1438629209424\n",
      "1438629212064\n"
     ]
    }
   ],
   "source": [
    "class Person:\n",
    "    def __init__(self):\n",
    "        self.name = 'Nitish'\n",
    "        self.gender = 'Male'\n",
    "\n",
    "print(Person()) # Object will be created\n",
    "q1 = Person() # q1 is just a variable name we are storing referance of instance of class inside q1\n",
    "\n",
    "# Id will be different\n",
    "\n",
    "print(id(Person()))\n",
    "print(id(q1))"
   ]
  },
  {
   "cell_type": "code",
   "execution_count": 13,
   "id": "ade32690",
   "metadata": {},
   "outputs": [
    {
     "name": "stdout",
     "output_type": "stream",
     "text": [
      "1438629340304\n",
      "1438629343184\n",
      "Nitish\n",
      "Rohit\n"
     ]
    }
   ],
   "source": [
    "class Person:\n",
    "    def __init__(self):\n",
    "        self.name = 'Nitish'\n",
    "        self.gender = 'Male'\n",
    "\n",
    "q1 = Person()\n",
    "p1 = Person()\n",
    "\n",
    "print(id(q1))\n",
    "print(id(p1))\n",
    "p1.name = 'Rohit'\n",
    "\n",
    "print(q1.name)\n",
    "print(p1.name)"
   ]
  },
  {
   "cell_type": "code",
   "execution_count": 14,
   "id": "b7c936a3",
   "metadata": {},
   "outputs": [
    {
     "name": "stdout",
     "output_type": "stream",
     "text": [
      "1438629295920\n",
      "1438629295920\n",
      "Rohit\n",
      "Rohit\n"
     ]
    }
   ],
   "source": [
    "class Person:\n",
    "    def __init__(self):\n",
    "        self.name = 'Nitish'\n",
    "        self.gender = 'Male'\n",
    "\n",
    "q1 = Person()\n",
    "p1 = Person()\n",
    "\n",
    "p1 = q1 # Since both the objects are pointing to the same memory\n",
    "\n",
    "print(id(q1))\n",
    "print(id(p1))\n",
    "p1.name = 'Rohit'\n",
    "\n",
    "print(q1.name)\n",
    "print(p1.name)"
   ]
  },
  {
   "cell_type": "markdown",
   "id": "a0ec6ecb",
   "metadata": {},
   "source": [
    "__`What is mean by Pass by reference`__\n",
    "- Pass by reference means that when you pass an object to a function, you're actually passing a reference to that object, not a copy of the object itself.\n",
    "- Think of it as giving someone directions to your house instead of giving them a copy of your house. If they make changes to your house, you'll see those changes when you visit because it's the same house.\n",
    "- In simple words, When you pass an object to a function, the function gets a way to access and modify the actual object, not a separate copy.\n",
    "- Any changes made to the object inside the function will be reflected outside the function as well."
   ]
  },
  {
   "cell_type": "code",
   "execution_count": 15,
   "id": "f093e035",
   "metadata": {},
   "outputs": [
    {
     "name": "stdout",
     "output_type": "stream",
     "text": [
      "Hi my name is virat, and I am a male\n"
     ]
    }
   ],
   "source": [
    "# Pass by refernace: You can pass a class as a input to a function\n",
    "\n",
    "class Person:\n",
    "    def __init__(self,name, gender):\n",
    "        self.name = name\n",
    "        self.gender = gender\n",
    "        \n",
    "def greet(person):\n",
    "    print(f'Hi my name is {person.name}, and I am a {person.gender}')\n",
    "    \n",
    "p1 = Person('virat', 'male')\n",
    "greet(p1)"
   ]
  },
  {
   "cell_type": "code",
   "execution_count": 28,
   "id": "e124f377",
   "metadata": {},
   "outputs": [
    {
     "name": "stdout",
     "output_type": "stream",
     "text": [
      "1438628912912\n",
      "1438628912912\n",
      "Ankit\n",
      "Ankit\n"
     ]
    }
   ],
   "source": [
    "class Person:\n",
    "    def __init__(self,name,gender):\n",
    "        self.name = name\n",
    "        self.gender = gender\n",
    "        \n",
    "def greet(person):\n",
    "    print(id(person))\n",
    "    person.name = 'Ankit'\n",
    "    print(person.name)\n",
    "\n",
    "p = Person('virat', 'male')\n",
    "print(id(p))\n",
    "greet(p) # Pass by reference: We are actually giving the address\n",
    "print(p.name) # Changes reverted"
   ]
  },
  {
   "cell_type": "markdown",
   "id": "58505c15",
   "metadata": {},
   "source": [
    "__`What are the four Concepts of OOPs?`__\n",
    "- __`1) Encapsulation`__\n",
    "- __`2) Polymorphism`__\n",
    "- __`3) Inheritance`__\n",
    "- __`4) Abstraction`__"
   ]
  },
  {
   "attachments": {
    "image.png": {
     "image/png": "[encoded data removed]"
    }
   },
   "cell_type": "markdown",
   "id": "927561ad",
   "metadata": {},
   "source": [
    "### 1) Encapsulation:\n",
    "\n",
    "- It is like putting your code and data in a protective bubble. \n",
    "- It's a way of organizing your code so that the inner workings of a class is hidden from the outside. \n",
    "- In simple words, Encapsulation is something using which we can make variables or methods private.\n",
    "\n",
    "![image.png](attachment:image.png)"
   ]
  },
  {
   "cell_type": "code",
   "execution_count": 35,
   "id": "1126d666",
   "metadata": {},
   "outputs": [
    {
     "data": {
      "text/plain": [
       "'Ankit'"
      ]
     },
     "execution_count": 35,
     "metadata": {},
     "output_type": "execute_result"
    }
   ],
   "source": [
    "class Person:\n",
    "    def __init__(self):\n",
    "        self.name = 'Omkar'\n",
    "        \n",
    "p1 = Person()\n",
    "p1.name = 'Ankit'\n",
    "p1.name # See the variable's value has been changed from outside the class"
   ]
  },
  {
   "cell_type": "code",
   "execution_count": 41,
   "id": "f4cc329c",
   "metadata": {},
   "outputs": [
    {
     "name": "stdout",
     "output_type": "stream",
     "text": [
      "My name is Omkar.\n",
      "Ankit\n",
      "Omkar\n"
     ]
    }
   ],
   "source": [
    "class Person:\n",
    "    def __init__(self):\n",
    "        self.__name = 'Omkar' # Private variable\n",
    "        print(f'My name is {self.__name}.')\n",
    "        \n",
    "p1 = Person()\n",
    "p1.name = 'Ankit'\n",
    "print(p1.name)\n",
    "print(p1._Person__name) # Private variables updated name\n",
    "\n",
    "# When you make a variable name from public to private its name in backend will be changed\n",
    "# In above example, __name has become _Person__name__\n",
    "# Even though someone tries to change __name variable from outside using, New variable name is created instead of changing the private variable name"
   ]
  },
  {
   "cell_type": "code",
   "execution_count": 46,
   "id": "4450b95c",
   "metadata": {},
   "outputs": [
    {
     "name": "stdout",
     "output_type": "stream",
     "text": [
      "Omkar\n"
     ]
    }
   ],
   "source": [
    "class Person:\n",
    "    def __init__(self):\n",
    "        self.__name = 'Omkar'\n",
    "        \n",
    "p1 = Person()\n",
    "p1.__name = 'Ankit'\n",
    "print(p1._Person__name)\n",
    "# In this case also a new variable __name has been created instead of changing the private variable name"
   ]
  },
  {
   "cell_type": "code",
   "execution_count": 44,
   "id": "373c5a02",
   "metadata": {},
   "outputs": [
    {
     "name": "stdout",
     "output_type": "stream",
     "text": [
      "My name is Omkar.\n",
      "Ankit\n"
     ]
    }
   ],
   "source": [
    "# So in order to change a private variable from outside the class you need to write like this, This is known as name mangling\n",
    "\n",
    "class Person:\n",
    "    def __init__(self):\n",
    "        self.__name = 'Omkar' # Private variable\n",
    "        print(f'My name is {self.__name}.')\n",
    "        \n",
    "p1 = Person()\n",
    "p1._Person__name = 'Ankit'\n",
    "print(p1._Person__name)"
   ]
  },
  {
   "cell_type": "markdown",
   "id": "4d21c571",
   "metadata": {},
   "source": [
    "__`What is Getter & Setter methods`__\n",
    "- Getter and setter methods are used in object-oriented programming to control the access and modification of attributes (instance variables) of an object. \n",
    "- They allow you to provide controlled ways to get and set the values of these attributes. \n",
    "- __`Getter:`__ is used to retrieve the value of an attribute. It provides controlled read-only access to the attribute's value.\n",
    "- __`Setter:`__  is used to set the new value of an attribute. It provides controlled write access to the attribute's value.\n",
    "- For every attribute you have to create one getter and setter"
   ]
  },
  {
   "cell_type": "code",
   "execution_count": 47,
   "id": "1402d5af",
   "metadata": {},
   "outputs": [],
   "source": [
    "def get_balance(self): # to see private variable\n",
    "    return self.__balance\n",
    "\n",
    "def set_balance(self, new_value): # to change private variable\n",
    "    self.__balance = new_value"
   ]
  },
  {
   "cell_type": "markdown",
   "id": "213d5789",
   "metadata": {},
   "source": [
    "__`What is mean by collection of objects in OOPs?`__\n",
    "- It is like a group of similar things that are created from the same blueprint (class). \n",
    "- Each object has its own unique qualities and can perform actions, but they all share common attributes and behaviors defined by the class.\n",
    "- A collection of objects means having multiple instances of the same class.\n",
    "- Each object has its own distinct properties (attributes) and actions (methods)."
   ]
  },
  {
   "cell_type": "code",
   "execution_count": 48,
   "id": "8b1d3ace",
   "metadata": {},
   "outputs": [
    {
     "name": "stdout",
     "output_type": "stream",
     "text": [
      "Buddy says Woof!\n",
      "Max says Woof!\n",
      "Lucy says Woof!\n"
     ]
    }
   ],
   "source": [
    "class Dog:\n",
    "    def __init__(self, name):\n",
    "        self.name = name\n",
    "    def bark(self):\n",
    "        print(f\"{self.name} says Woof!\")\n",
    "\n",
    "dog1 = Dog(\"Buddy\")\n",
    "dog2 = Dog(\"Max\")\n",
    "dog3 = Dog(\"Lucy\")\n",
    "\n",
    "dog1.bark()\n",
    "dog2.bark()\n",
    "dog3.bark()"
   ]
  },
  {
   "cell_type": "code",
   "execution_count": 62,
   "id": "ec90cb56",
   "metadata": {},
   "outputs": [
    {
     "name": "stdout",
     "output_type": "stream",
     "text": [
      "[<__main__.Dog object at 0x0000014EF4F8AB20>, <__main__.Dog object at 0x0000014EF4F8A310>, <__main__.Dog object at 0x0000014EF4F8A430>]\n",
      "********************\n",
      "Buddy\n",
      "Max\n",
      "Lucy\n"
     ]
    }
   ],
   "source": [
    "list1 = [dog1, dog2, dog3]\n",
    "print(list1)\n",
    "print('*'* 20)\n",
    "for i in list1:\n",
    "    print(i.name)"
   ]
  },
  {
   "cell_type": "code",
   "execution_count": 64,
   "id": "083e5c86",
   "metadata": {},
   "outputs": [
    {
     "name": "stdout",
     "output_type": "stream",
     "text": [
      "[<__main__.Person object at 0x0000014EF4FC8D60>, <__main__.Person object at 0x0000014EF4F8A880>, <__main__.Person object at 0x0000014EF4F8A910>]\n"
     ]
    }
   ],
   "source": [
    "class Person:\n",
    "    def __init__(self,name,gender):\n",
    "        self.name = name\n",
    "        self.gender = gender\n",
    "        \n",
    "p1 = Person('Sakshi', 'Female')\n",
    "p2 = Person('Omkar', 'Male')\n",
    "p3 = Person('Shahrukh', 'Male')\n",
    "\n",
    "L1 = [p1,p2,p3]\n",
    "print(L1) # List of objects"
   ]
  },
  {
   "cell_type": "code",
   "execution_count": 65,
   "id": "64f535ef",
   "metadata": {},
   "outputs": [
    {
     "name": "stdout",
     "output_type": "stream",
     "text": [
      "Sakshi Female\n",
      "Omkar Male\n",
      "Shahrukh Male\n"
     ]
    }
   ],
   "source": [
    "for i in L1:\n",
    "    print(i.name, i.gender)"
   ]
  },
  {
   "cell_type": "code",
   "execution_count": 69,
   "id": "92dbf8da",
   "metadata": {},
   "outputs": [
    {
     "data": {
      "text/plain": [
       "{'p1': <__main__.Person at 0x14ef4f8a490>,\n",
       " 'p2': <__main__.Person at 0x14ef4f8a940>,\n",
       " 'p3': <__main__.Person at 0x14ef4f8a9a0>}"
      ]
     },
     "execution_count": 69,
     "metadata": {},
     "output_type": "execute_result"
    }
   ],
   "source": [
    "# Using dictionary \n",
    "\n",
    "class Person:\n",
    "    def __init__(self,name,gender):\n",
    "        self.name = name\n",
    "        self.gender = gender\n",
    "        \n",
    "p1 = Person('Sakshi', 'Female')\n",
    "p2 = Person('Omkar', 'Male')\n",
    "p3 = Person('Shahrukh', 'Male')\n",
    "\n",
    "d1 = {'p1': p1,'p2': p2,'p3': p3}\n",
    "d1"
   ]
  },
  {
   "cell_type": "code",
   "execution_count": 70,
   "id": "58dfd322",
   "metadata": {},
   "outputs": [
    {
     "name": "stdout",
     "output_type": "stream",
     "text": [
      "Sakshi\n",
      "Omkar\n",
      "Shahrukh\n"
     ]
    }
   ],
   "source": [
    "for i in d1:\n",
    "    print(d1[i].name)"
   ]
  },
  {
   "cell_type": "code",
   "execution_count": 71,
   "id": "0874e540",
   "metadata": {},
   "outputs": [
    {
     "name": "stdout",
     "output_type": "stream",
     "text": [
      "Sakshi Female\n",
      "Omkar Male\n",
      "Shahrukh Male\n"
     ]
    }
   ],
   "source": [
    "for i in d1:\n",
    "    print(d1[i].name, d1[i].gender)"
   ]
  },
  {
   "cell_type": "markdown",
   "id": "f4f7ea18",
   "metadata": {},
   "source": [
    "__`What is mean by static variables and static methods?`__\n",
    "- It is used to create counter ex: unique ID, customer ID etc.\n",
    "- Counter is created using static variable.\n",
    "- Static variable is a variable inside the class but outside all the methods.\n",
    "- You use statisc variable using class name\n",
    "- You use instance variable using object name i.e. self"
   ]
  },
  {
   "cell_type": "code",
   "execution_count": 77,
   "id": "8358ec45",
   "metadata": {},
   "outputs": [],
   "source": [
    "class Atm:\n",
    "    counter = 1 # --------------------> Static variable \n",
    "    def __init__(self):\n",
    "        self.PIN = int()\n",
    "        self.balance = int()\n",
    "#         self.menu()\n",
    "        self.cid = Atm.counter\n",
    "        Atm.counter += 1 \n",
    "        \n",
    "    def menu(self):\n",
    "        user_input = int(input('''\n",
    "        Hi, How can I help you?\n",
    "        1) Press 1 to create pin\n",
    "        2) Press 2 to change pin\n",
    "        3) Press 3 to check balance\n",
    "        4) press 4 to withdraw money\n",
    "        5) Press 5 to exit\n",
    "        '''))\n",
    "        \n",
    "        # Create pin\n",
    "        if user_input == 1:\n",
    "            self.create_PIN()\n",
    "        # Change pin\n",
    "        elif user_input == 2:\n",
    "            self.change_PIN()\n",
    "        # Check balance\n",
    "        elif user_input == 3:\n",
    "            self.check_balance()\n",
    "        # Withdraw money\n",
    "        elif user_input == 4:\n",
    "            self.withdrawal()\n",
    "        # Exit\n",
    "        else:\n",
    "            exit()\n",
    "            \n",
    "    def create_PIN(self):\n",
    "        user_PIN = int(input('Please enter your PIN: '))\n",
    "        self.PIN = user_PIN\n",
    "        user_balance = int(input('Please enter your balnace: '))\n",
    "        self.balance = user_balance\n",
    "        print('PIN created succesfully')\n",
    "        self.menu()\n",
    "        \n",
    "    def change_PIN(self):\n",
    "        old_PIN = int(input('Please enter your old PIN: '))\n",
    "        if old_PIN == self.PIN: # Let him change the pin\n",
    "            new_PIN = int(input('Please enter your new PIN: '))\n",
    "            self.PIN = new_PIN\n",
    "            print('PIN changed succesfuly')\n",
    "            self.menu()\n",
    "        else:\n",
    "            print('You have entered a wrong PIN')\n",
    "            self.menu()\n",
    "            \n",
    "    def check_balance(self):\n",
    "        user_PIN = int(input('Please enter your PIN: '))\n",
    "        if user_PIN == self.PIN:\n",
    "            print(f'Your balnace is: {self.balance}')\n",
    "        else:\n",
    "            print('You have entered a wrong PIN')\n",
    "            self.menu()\n",
    "    \n",
    "    def withdrawal(self):\n",
    "        user_PIN = int(input('Please enter your PIN: '))\n",
    "        if user_PIN == self.PIN:\n",
    "            withdrawn_amount = int(input('Please enter the amount to be withdrawn: '))\n",
    "            remaining_amount = self.balance - withdrawn_amount\n",
    "            print(f'Transaction successful! Your remaining account balance is Rs: {remaining_amount}')\n",
    "            self.menu()"
   ]
  },
  {
   "cell_type": "code",
   "execution_count": 78,
   "id": "1b853d2b",
   "metadata": {},
   "outputs": [],
   "source": [
    "c1 = Atm()\n",
    "c2 = Atm()\n",
    "c3 = Atm()"
   ]
  },
  {
   "cell_type": "code",
   "execution_count": 79,
   "id": "cdcaaaab",
   "metadata": {},
   "outputs": [
    {
     "name": "stdout",
     "output_type": "stream",
     "text": [
      "1\n",
      "2\n",
      "3\n"
     ]
    }
   ],
   "source": [
    "print(c1.cid)\n",
    "print(c2.cid)\n",
    "print(c3.cid)"
   ]
  },
  {
   "cell_type": "code",
   "execution_count": 83,
   "id": "e92b4642",
   "metadata": {},
   "outputs": [],
   "source": [
    "# Private static variable and static method\n",
    "\n",
    "class Atm:\n",
    "    __counter = 1 # Making static variable as a private \n",
    "    def __init__(self):\n",
    "        self.balance = int()\n",
    "#         self.menu()\n",
    "        self.cid = Atm.__counter\n",
    "        Atm.__counter += 1 \n",
    "        \n",
    "    @staticmethod # If we dont write this, then also it works but so as to highlight that this is a static method we write like this. And is known as decorator/utility functions\n",
    "    def get_counter(): # No need to write self since it is a static method \n",
    "        return Atm.__counter\n",
    "    \n",
    "    def menu(self):\n",
    "        user_input = int(input('''\n",
    "        Hi, How can I help you?\n",
    "        1) Press 1 to create pin\n",
    "        2) Press 2 to change pin\n",
    "        3) Press 3 to check balance\n",
    "        4) press 4 to withdraw money\n",
    "        5) Press 5 to exit\n",
    "        '''))\n",
    "        # Create pin\n",
    "        if user_input == 1:\n",
    "            self.create_PIN()\n",
    "        # Change pin\n",
    "        elif user_input == 2:\n",
    "            self.change_PIN()\n",
    "        # Check balance\n",
    "        elif user_input == 3:\n",
    "            self.check_balance()\n",
    "        # Withdraw money\n",
    "        elif user_input == 4:\n",
    "            self.withdrawal()\n",
    "        # Exit\n",
    "        else:\n",
    "            exit()\n",
    "            \n",
    "    def create_PIN(self):\n",
    "        user_PIN = int(input('Please enter your PIN: '))\n",
    "        self.PIN = user_PIN\n",
    "        user_balance = int(input('Please enter your balnace: '))\n",
    "        self.balance = user_balance\n",
    "        print('PIN created succesfully')\n",
    "        self.menu()\n",
    "        \n",
    "        \n",
    "    def change_PIN(self):\n",
    "        old_PIN = int(input('Please enter your old PIN: '))\n",
    "        \n",
    "        if old_PIN == self.PIN: # Let him change the pin\n",
    "            new_PIN = int(input('Please enter your new PIN: '))\n",
    "            self.PIN = new_PIN\n",
    "            print('PIN changed succesfuly')\n",
    "            self.menu() \n",
    "        else:\n",
    "            print('You have entered a wrong PIN')\n",
    "            self.menu()\n",
    "            \n",
    "    def check_balance(self):\n",
    "        user_PIN = int(input('Please enter your PIN: '))\n",
    "        if user_PIN == self.PIN:\n",
    "            print(f'Your balnace is: {self.balance}')\n",
    "        else:\n",
    "            print('You have entered a wrong PIN')\n",
    "            self.menu()\n",
    "    \n",
    "    def withdrawal(self):\n",
    "        user_PIN = int(input('Please enter your PIN: '))\n",
    "        if user_PIN == self.PIN:\n",
    "            withdrawn_amount = int(input('Please enter the amount to be withdrawn: '))\n",
    "            remaining_amount = self.balance - withdrawn_amount\n",
    "            print(f'Transaction successful! Your remaining account balance is Rs: {remaining_amount}')\n",
    "            self.menu()\n",
    "            \n",
    "c4 = Atm()"
   ]
  },
  {
   "cell_type": "code",
   "execution_count": 84,
   "id": "415bb04c",
   "metadata": {},
   "outputs": [
    {
     "data": {
      "text/plain": [
       "2"
      ]
     },
     "execution_count": 84,
     "metadata": {},
     "output_type": "execute_result"
    }
   ],
   "source": [
    "Atm.get_counter() # We do not need to create an object of class to access static methods"
   ]
  },
  {
   "cell_type": "markdown",
   "id": "4869f82c",
   "metadata": {},
   "source": [
    "### Class relationships:\n",
    "- __`Aggregation`__\n",
    "- __`Inheritance`__"
   ]
  },
  {
   "cell_type": "markdown",
   "id": "027c48e2",
   "metadata": {},
   "source": [
    "### Aggregation\n",
    "- An aggregation class is a way of combining multiple objects of different classes to create a more complex object.\n",
    "- An aggregation class combines objects from different classes to create a more complex object.\n",
    "- It helps represent relationships where one class is composed of multiple instances of another class.\n",
    "- In simple words, one class owns other class.\n",
    "- Giving object of class as input while creating an object of a main class object."
   ]
  },
  {
   "cell_type": "code",
   "execution_count": 89,
   "id": "8d97e8e6",
   "metadata": {},
   "outputs": [
    {
     "name": "stdout",
     "output_type": "stream",
     "text": [
      "Pune 411047 Maharashtra\n"
     ]
    }
   ],
   "source": [
    "class Customer: # 2\n",
    "    def __init__(self, name, gender, address): # 3\n",
    "        self.name = name # 4\n",
    "        self.gender = gender # 5\n",
    "        self.address = address # 11\n",
    "        \n",
    "    def print_addr(self): # 12\n",
    "        print(self.address.city,self.address.pin, self.address.state) # 13 (Two objects) \n",
    "        \n",
    "class Address: # 6\n",
    "    def __init__(self, city, pin, state): # 7\n",
    "        self.city = city # 8\n",
    "        self.pin = pin # 9\n",
    "        self.state = state # 10\n",
    "\n",
    "addr = Address('Pune', 411047, 'Maharashtra')  # 1\n",
    "cust = Customer('Virat', 'Male', addr) # 2\n",
    "\n",
    "cust.print_addr() # 1"
   ]
  },
  {
   "cell_type": "code",
   "execution_count": 119,
   "id": "13e4a565",
   "metadata": {},
   "outputs": [
    {
     "name": "stdout",
     "output_type": "stream",
     "text": [
      "Pune 411047 Maharashtra\n"
     ]
    }
   ],
   "source": [
    "class Customer:\n",
    "    def __init__(self, name, gender, address):\n",
    "        self.name = name\n",
    "        self.gender = gender\n",
    "        self.address = address \n",
    "        \n",
    "    def print_addr(self):\n",
    "        print(self.address.get_city(),self.address.pin, self.address.state)\n",
    "        \n",
    "class Address:\n",
    "    def __init__(self, city, pin, state):\n",
    "        self.__city = city\n",
    "        self.pin = pin\n",
    "        self.state = state\n",
    "        \n",
    "    def get_city(self): # Accessing private attributes (Main class can not access private variables of owned class)\n",
    "        return self.__city\n",
    "     \n",
    "\n",
    "addr = Address('Pune', 411047, 'Maharashtra')  \n",
    "cust = Customer('virat', 'male', addr) \n",
    "\n",
    "cust.print_addr()"
   ]
  },
  {
   "cell_type": "code",
   "execution_count": 93,
   "id": "a0afc6d0",
   "metadata": {},
   "outputs": [
    {
     "name": "stdout",
     "output_type": "stream",
     "text": [
      "Pune 411047 Maharashtra\n",
      "Mumbai 411099 MH\n"
     ]
    }
   ],
   "source": [
    "# Editing address\n",
    "\n",
    "class Customer:\n",
    "    def __init__(self, name, gender, address):\n",
    "        self.name = name\n",
    "        self.gender = gender\n",
    "        self.address = address\n",
    "        \n",
    "    def print_addr(self):\n",
    "        print(self.address.get_city(),self.address.pin, self.address.state)\n",
    "    \n",
    "    def edit_profile(self, new_name, new_city, new_pin, new_state):\n",
    "        self.name = new_name\n",
    "        self.address.edit_address(new_city, new_pin, new_state)\n",
    "        \n",
    "        \n",
    "class Address:\n",
    "    def __init__(self, city, pin, state):\n",
    "        self.__city = city\n",
    "        self.pin = pin\n",
    "        self.state = state\n",
    "        \n",
    "    def get_city(self):\n",
    "        return self.__city\n",
    "    \n",
    "    def edit_address(self, new_city, new_pin, new_state):\n",
    "        self.__city = new_city\n",
    "        self.pin = new_pin\n",
    "        self.state = new_state\n",
    "\n",
    "addr = Address('Pune', 411047, 'Maharashtra')  # 1\n",
    "cust = Customer('Virat', 'Male', addr) # 2\n",
    "\n",
    "cust.print_addr()\n",
    "\n",
    "cust.edit_profile('Ankit', 'Mumbai', '411099', 'MH')\n",
    "cust.print_addr()"
   ]
  },
  {
   "cell_type": "markdown",
   "id": "2966c65e",
   "metadata": {},
   "source": [
    "### 2) Inheritance:\n",
    "- It is like passing down characteristics and behaviors from one class to another.\n",
    "- It allows a new class to inherit attributes and methods from the original class.\n",
    "- Simply common functionalities/methods/attributes will be in main/parent class. "
   ]
  },
  {
   "cell_type": "code",
   "execution_count": 96,
   "id": "4820abe6",
   "metadata": {},
   "outputs": [
    {
     "name": "stdout",
     "output_type": "stream",
     "text": [
      "Woof!\n",
      "Meow!\n"
     ]
    }
   ],
   "source": [
    "class Animal:\n",
    "    def __init__(self, name):\n",
    "        self.name = name\n",
    "\n",
    "    def speak(self):\n",
    "        pass\n",
    "\n",
    "class Dog(Animal):  # Dog class inherits from Animal class\n",
    "    def speak(self):\n",
    "        return \"Woof!\"\n",
    "\n",
    "class Cat(Animal):  # Cat class inherits from Animal class\n",
    "    def speak(self):\n",
    "        return \"Meow!\"\n",
    "\n",
    "dog = Dog(\"Buddy\")\n",
    "cat = Cat(\"Whiskers\")\n",
    "\n",
    "print(dog.speak())  \n",
    "print(cat.speak()) "
   ]
  },
  {
   "cell_type": "code",
   "execution_count": null,
   "id": "87369e7c",
   "metadata": {},
   "outputs": [],
   "source": [
    "#                     Udemy\n",
    "#  Student                               Instructor\n",
    "# - 'login'                             - 'login' \n",
    "# - 'register'                          - 'register'\n",
    "# - enroll                              - create \n",
    "# - review                              - reply"
   ]
  },
  {
   "cell_type": "code",
   "execution_count": 183,
   "id": "da815229",
   "metadata": {},
   "outputs": [
    {
     "name": "stdout",
     "output_type": "stream",
     "text": [
      "Nitish\n"
     ]
    }
   ],
   "source": [
    "class User:\n",
    "    def __init__(self):\n",
    "        self.name = 'Nitish'\n",
    "    def login(self):\n",
    "        print('Logged in')\n",
    "        \n",
    "class Student(User): # making Student class as child class and User class as a parent class\n",
    "    def enroll(self):\n",
    "        print('Enrolled into the course')\n",
    "        \n",
    "u = User()\n",
    "s = Student()\n",
    "\n",
    "print(s.name)\n",
    "\n",
    "# Issue:\n",
    "# If Child class does have its own constructor then it will not go inside Parent class constructor\n",
    "# If Child class does not have its own constructor then interpreter will look for constructor inside parent class"
   ]
  },
  {
   "cell_type": "markdown",
   "id": "b5e50eb9",
   "metadata": {},
   "source": [
    "__`What gets inverted?`__\n",
    "- Constructors\n",
    "- Non private attributes\n",
    "- Non private methods"
   ]
  },
  {
   "cell_type": "code",
   "execution_count": 97,
   "id": "cd9f578e",
   "metadata": {},
   "outputs": [
    {
     "name": "stdout",
     "output_type": "stream",
     "text": [
      "Buying a phone\n"
     ]
    }
   ],
   "source": [
    "# If Child class does not have its own constructor then interpreter will look for constructor inside parent class\n",
    "\n",
    "class Phone:\n",
    "    def __init__(self, price, brand, camera):\n",
    "        self.price = price\n",
    "        self.brand = brand\n",
    "        self.camera = camera\n",
    "    def buy(self):\n",
    "        print('Buying a phone')\n",
    "        \n",
    "class Smartphone(Phone):\n",
    "    pass\n",
    "\n",
    "z = Smartphone(20000, 'Apple', 13)\n",
    "z.buy()"
   ]
  },
  {
   "cell_type": "code",
   "execution_count": 191,
   "id": "684b3b21",
   "metadata": {},
   "outputs": [
    {
     "name": "stdout",
     "output_type": "stream",
     "text": [
      "Inside smartphone constructor\n"
     ]
    }
   ],
   "source": [
    "# If Child class does have its own constructor then it will not go inside Parent class constructor\n",
    "\n",
    "class Phone:\n",
    "    def __init__(self, price, brand, camera):\n",
    "        print(\"Inside Phone constructor\")\n",
    "        self.price = price\n",
    "        self.brand = brand\n",
    "        self.camera = camera\n",
    "        \n",
    "class Smartphone(Phone):\n",
    "    def __init__(self, os,ram):\n",
    "        self.os = os\n",
    "        self.ram = ram\n",
    "        print('Inside smartphone constructor')\n",
    "\n",
    "z = Smartphone('Android', 2)"
   ]
  },
  {
   "cell_type": "code",
   "execution_count": 120,
   "id": "1c31a202",
   "metadata": {},
   "outputs": [
    {
     "name": "stdout",
     "output_type": "stream",
     "text": [
      "Inside Phone constructor\n",
      "20000\n"
     ]
    }
   ],
   "source": [
    "# Child class can not access private methods and private attributes\n",
    "\n",
    "class Phone:\n",
    "    def __init__(self, price, brand, camera):\n",
    "        print(\"Inside Phone constructor\")\n",
    "        self.__price = price\n",
    "        self.brand = brand\n",
    "        self.camera = camera\n",
    "        \n",
    "    def show(self):\n",
    "        print(self.__price)\n",
    "        \n",
    "class Smartphone(Phone):\n",
    "    def check(self):\n",
    "        print(self.__price)\n",
    "\n",
    "z = Smartphone(20000, 'Android', 12)\n",
    "# print(z.price) # Cant access this\n",
    "# z.check() # Cant access this\n",
    "z.show()"
   ]
  },
  {
   "cell_type": "code",
   "execution_count": 101,
   "id": "53c0c81b",
   "metadata": {},
   "outputs": [
    {
     "name": "stdout",
     "output_type": "stream",
     "text": [
      "class A : 100\n"
     ]
    }
   ],
   "source": [
    "# Practice\n",
    "\n",
    "class A:\n",
    "    def __init__(self): # 1\n",
    "        self.var1=100 # 2\n",
    "    def display1(self,var1): # 3\n",
    "        print(\"class A :\", self.var1) # 4\n",
    "class B(A):\n",
    "    def display2(self,var1):\n",
    "        print(\"class B :\", self.var1)\n",
    "\n",
    "obj=B()\n",
    "obj.display1(200)"
   ]
  },
  {
   "cell_type": "code",
   "execution_count": 121,
   "id": "e6adb5c1",
   "metadata": {},
   "outputs": [
    {
     "name": "stdout",
     "output_type": "stream",
     "text": [
      "Child: Val: 100\n"
     ]
    }
   ],
   "source": [
    "# Practice\n",
    "\n",
    "class Parent:\n",
    "    def __init__(self,num):\n",
    "        self.__num = num\n",
    "    def get_num(self):\n",
    "        return self.__num\n",
    "\n",
    "class Child(Parent): # 1\n",
    "    def __init__(self,val,num): # 2 val = 100 num = 10\n",
    "        self.__val = val # 3\n",
    "    def get_val(self):\n",
    "        return self.__val\n",
    "        \n",
    "son=Child(100,10)\n",
    "print(\"Child: Val:\",son.get_val())\n",
    "# print(\"Parent: Num:\",son.get_num()) #will raise an error"
   ]
  },
  {
   "cell_type": "markdown",
   "id": "d493bac2",
   "metadata": {},
   "source": [
    "__`What is mean by method overriding?`__\n",
    "- The method in the child class has the same name as the method in the parent class.\n",
    "- In this case method from a child class will be executed."
   ]
  },
  {
   "cell_type": "code",
   "execution_count": 104,
   "id": "276b1d4e",
   "metadata": {},
   "outputs": [
    {
     "name": "stdout",
     "output_type": "stream",
     "text": [
      "Inside phone constructor\n",
      "Buying a smartphone\n"
     ]
    }
   ],
   "source": [
    "class Phone:\n",
    "    def __init__(self, price, brand, camera):\n",
    "        print (\"Inside phone constructor\")\n",
    "        self.__price = price\n",
    "        self.brand = brand\n",
    "        self.camera = camera\n",
    "    def buy(self):\n",
    "        print (\"Buying a phone\")\n",
    "\n",
    "class SmartPhone(Phone):\n",
    "    def buy(self):\n",
    "        print (\"Buying a smartphone\")\n",
    "\n",
    "s=SmartPhone(20000, \"Apple\", 13)\n",
    "\n",
    "s.buy()"
   ]
  },
  {
   "cell_type": "markdown",
   "id": "0530b64b",
   "metadata": {},
   "source": [
    "__`What is super keyword?`__\n",
    "- The super keyword is like a helpful assistant that lets a child class call methods from its parent class.\n",
    "- `super` is a way to access and use methods and attributes from the parent class.\n",
    "- It helps you avoid duplicating code by reusing what the parent class already has.\n",
    "- Super keyword can only be called inside the class generally inside child class only. It can not be called outside the class. \n",
    "- Super can not access attributes."
   ]
  },
  {
   "cell_type": "code",
   "execution_count": 111,
   "id": "18956f56",
   "metadata": {},
   "outputs": [
    {
     "name": "stdout",
     "output_type": "stream",
     "text": [
      "Inside phone constructor\n",
      "Buying a smartphone\n",
      "Buying a phone\n"
     ]
    }
   ],
   "source": [
    "# Super keyword\n",
    "\n",
    "class Phone:\n",
    "    def __init__(self, price, brand, camera): # 1\n",
    "        print('Inside phone constructor')\n",
    "        self.__price = price\n",
    "        self.brand = brand\n",
    "        self.camera = camera\n",
    "    def buy(self): # 3\n",
    "        print('Buying a phone')\n",
    "        \n",
    "class Smartphone(Phone):\n",
    "    def buy(self): # 2\n",
    "        print('Buying a smartphone')\n",
    "        super().buy() # Syntax to call parent's buy method\n",
    "        \n",
    "s = Smartphone(20000, 'Apple', 13)\n",
    "s.buy()"
   ]
  },
  {
   "cell_type": "code",
   "execution_count": 112,
   "id": "d604626f",
   "metadata": {},
   "outputs": [
    {
     "name": "stdout",
     "output_type": "stream",
     "text": [
      "Inside Smartphone constructor\n",
      "Inside Phone constructor\n",
      "Inside Smartphone constructor\n",
      "Android\n",
      "Samsung\n"
     ]
    }
   ],
   "source": [
    "# When we have constructor in child as well as parent class; Using super we can access constructors of both child and parent class\n",
    "\n",
    "class Phone:\n",
    "    def __init__(self, price, brand, camera):\n",
    "        print('Inside Phone constructor') # 3\n",
    "        self.__price = price\n",
    "        self.brand = brand # 5\n",
    "        self.camera = camera\n",
    "\n",
    "class Smartphone(Phone):\n",
    "    def __init__(self, price, brand, camera, os, ram):\n",
    "        print('Inside Smartphone constructor') # 1\n",
    "        super().__init__(price, brand, camera) # 2\n",
    "        self.os = os # 4\n",
    "        self.ram = ram # 5\n",
    "        print('Inside Smartphone constructor') # 6\n",
    "\n",
    "s = Smartphone(20000, 'Samsung', 13, 'Android', 2)\n",
    "print(s.os)\n",
    "print(s.brand)"
   ]
  },
  {
   "cell_type": "markdown",
   "id": "b5f5d6b1",
   "metadata": {},
   "source": [
    "__`Summary:`__\n",
    "- A class can inherit methods and attributes from another class.\n",
    "- Inheritance improves code reusability.\n",
    "- Constructors, attributes, methods get inherrited to a child class.\n",
    "- The parent has no access to child class.\n",
    "- Child class can override the attributes or methods.\n",
    "- `super()` is an inbuilt function which is used to invoke the parent class methods and constructors."
   ]
  },
  {
   "cell_type": "code",
   "execution_count": 114,
   "id": "4f0a754a",
   "metadata": {},
   "outputs": [
    {
     "name": "stdout",
     "output_type": "stream",
     "text": [
      "100\n",
      "200\n"
     ]
    }
   ],
   "source": [
    " # Practice\n",
    "\n",
    "class Parent:\n",
    "    def __init__(self,num):\n",
    "        self.__num=num\n",
    "    def get_num(self):\n",
    "        return self.__num\n",
    "\n",
    "class Child(Parent):\n",
    "    def __init__(self,num,val):\n",
    "        super().__init__(num)\n",
    "        self.__val=val\n",
    "    def get_val(self):\n",
    "        return self.__val\n",
    "      \n",
    "son=Child(100,200)\n",
    "print(son.get_num())\n",
    "print(son.get_val())"
   ]
  },
  {
   "attachments": {
    "image.png": {
     "image/png": "[encoded data removed]"
    }
   },
   "cell_type": "markdown",
   "id": "38d1b586",
   "metadata": {},
   "source": [
    "__`What are the types of Inheritance?`__\n",
    "- __`Single Inheritance`__\n",
    "- __`Multilevel Inheritance`__\n",
    "- __`Hierarchical Inheritance`__\n",
    "- __`Multiple Inheritance(Diamond Problem)`__\n",
    "- __`Hybrid Inheritance`__\n",
    "\n",
    "![image.png](attachment:image.png)"
   ]
  },
  {
   "cell_type": "code",
   "execution_count": 115,
   "id": "71cf1aee",
   "metadata": {},
   "outputs": [
    {
     "name": "stdout",
     "output_type": "stream",
     "text": [
      "Inside Smartphone constructor\n",
      "Inside Phone constructor\n",
      "Inside Smartphone constructor\n",
      "Android\n",
      "Samsung\n"
     ]
    }
   ],
   "source": [
    "# Single inheritance\n",
    "\n",
    "class Phone:\n",
    "    def __init__(self, price, brand, camera):\n",
    "        print('Inside Phone constructor') # 3\n",
    "        self.__price = price\n",
    "        self.brand = brand # 5\n",
    "        self.camera = camera\n",
    "\n",
    "class Smartphone(Phone):\n",
    "    def __init__(self, price, brand, camera, os, ram):\n",
    "        print('Inside Smartphone constructor') # 1\n",
    "        super().__init__(price, brand, camera) # 2\n",
    "        self.os = os # 4\n",
    "        self.ram = ram # 5\n",
    "        print('Inside Smartphone constructor') # 6\n",
    "\n",
    "s = Smartphone(20000, 'Samsung', 13, 'Android', 2)\n",
    "print(s.os)\n",
    "print(s.brand)"
   ]
  },
  {
   "cell_type": "code",
   "execution_count": 215,
   "id": "44ad6a01",
   "metadata": {},
   "outputs": [
    {
     "name": "stdout",
     "output_type": "stream",
     "text": [
      "Inside phone constructor\n",
      "Buying a phone\n",
      "Product customer review\n"
     ]
    }
   ],
   "source": [
    "# Multilevel inheritance\n",
    "\n",
    "class Product:\n",
    "    def review(self):\n",
    "        print (\"Product customer review\")\n",
    "\n",
    "class Phone(Product): # 2\n",
    "    def __init__(self, price, brand, camera): # 3\n",
    "        print (\"Inside phone constructor\") # 4\n",
    "        self.__price = price\n",
    "        self.brand = brand\n",
    "        self.camera = camera\n",
    "\n",
    "    def buy(self): # 5\n",
    "        print (\"Buying a phone\")\n",
    "\n",
    "class SmartPhone(Phone): # 1\n",
    "    pass\n",
    "\n",
    "s=SmartPhone(20000, \"Apple\", 12)\n",
    "\n",
    "s.buy()\n",
    "s.review()"
   ]
  },
  {
   "cell_type": "code",
   "execution_count": 216,
   "id": "9216d9cc",
   "metadata": {},
   "outputs": [
    {
     "name": "stdout",
     "output_type": "stream",
     "text": [
      "Inside phone constructor\n",
      "Buying a phone\n",
      "Inside phone constructor\n",
      "Buying a phone\n"
     ]
    }
   ],
   "source": [
    "# Hierarchical inheritance\n",
    "\n",
    "class Phone:\n",
    "    def __init__(self, price, brand, camera):\n",
    "        print (\"Inside phone constructor\")\n",
    "        self.__price = price\n",
    "        self.brand = brand\n",
    "        self.camera = camera\n",
    "\n",
    "    def buy(self):\n",
    "        print (\"Buying a phone\")\n",
    "\n",
    "class SmartPhone(Phone):\n",
    "    pass\n",
    "\n",
    "class FeaturePhone(Phone):\n",
    "    pass\n",
    "\n",
    "SmartPhone(1000,\"Apple\",\"13px\").buy()\n",
    "FeaturePhone(10,\"Lava\",\"1px\").buy()"
   ]
  },
  {
   "cell_type": "code",
   "execution_count": 217,
   "id": "c7b5ade3",
   "metadata": {},
   "outputs": [
    {
     "name": "stdout",
     "output_type": "stream",
     "text": [
      "Inside phone constructor\n",
      "Buying a phone\n",
      "Customer review\n"
     ]
    }
   ],
   "source": [
    "# Multiple inheritance\n",
    "\n",
    "class Phone:\n",
    "    def __init__(self, price, brand, camera):\n",
    "        print (\"Inside phone constructor\")\n",
    "        self.__price = price\n",
    "        self.brand = brand\n",
    "        self.camera = camera\n",
    "\n",
    "    def buy(self):\n",
    "        print (\"Buying a phone\")\n",
    "\n",
    "class Product:\n",
    "    def review(self):\n",
    "        print (\"Customer review\")\n",
    "\n",
    "class SmartPhone(Phone, Product):\n",
    "    pass\n",
    "\n",
    "s=SmartPhone(20000, \"Apple\", 12)\n",
    "\n",
    "s.buy()\n",
    "s.review()"
   ]
  },
  {
   "cell_type": "code",
   "execution_count": 218,
   "id": "e7247c58",
   "metadata": {},
   "outputs": [
    {
     "name": "stdout",
     "output_type": "stream",
     "text": [
      "Inside phone constructor\n",
      "Buying a phone\n"
     ]
    }
   ],
   "source": [
    "# Ambiguity in oops: The diamond problem\n",
    "# https://stackoverflow.com/questions/56361048/what-is-the-diamond-problem-in-python-and-why-its-not-appear-in-python2\n",
    "\n",
    "class Phone:\n",
    "    def __init__(self, price, brand, camera):\n",
    "        print (\"Inside phone constructor\")\n",
    "        self.__price = price\n",
    "        self.brand = brand\n",
    "        self.camera = camera\n",
    "\n",
    "    def buy(self):\n",
    "        print (\"Buying a phone\")\n",
    "\n",
    "class Product:\n",
    "    def buy(self):\n",
    "        print (\"Product buy method\")\n",
    "\n",
    "# This issue is known as (Method resolution order (MRO)); First come first serve\n",
    "class SmartPhone(Phone, Product): # Phone's buy method gets executed\n",
    "    pass\n",
    "\n",
    "s=SmartPhone(20000, \"Apple\", 12)\n",
    "\n",
    "s.buy()"
   ]
  },
  {
   "cell_type": "code",
   "execution_count": 219,
   "id": "c55f0a33",
   "metadata": {},
   "outputs": [
    {
     "name": "stdout",
     "output_type": "stream",
     "text": [
      "70\n"
     ]
    }
   ],
   "source": [
    "class A:\n",
    "    def m1(self):\n",
    "        return 20\n",
    "\n",
    "class B(A):\n",
    "    def m1(self):\n",
    "        return 30\n",
    "    def m2(self):\n",
    "        return 40\n",
    "\n",
    "class C(B):\n",
    "    def m2(self):\n",
    "        return 20\n",
    "obj1=A()\n",
    "obj2=B()\n",
    "obj3=C()\n",
    "print(obj1.m1() + obj3.m1()+ obj3.m2()) # 20 + 30 + 20"
   ]
  },
  {
   "cell_type": "code",
   "execution_count": 220,
   "id": "a552ded9",
   "metadata": {},
   "outputs": [
    {
     "name": "stdout",
     "output_type": "stream",
     "text": [
      "20\n"
     ]
    }
   ],
   "source": [
    "print(obj1.m1())"
   ]
  },
  {
   "cell_type": "code",
   "execution_count": 221,
   "id": "6bf2d48c",
   "metadata": {},
   "outputs": [
    {
     "name": "stdout",
     "output_type": "stream",
     "text": [
      "30\n"
     ]
    }
   ],
   "source": [
    "print(obj3.m1())"
   ]
  },
  {
   "cell_type": "code",
   "execution_count": 222,
   "id": "43f7fd72",
   "metadata": {},
   "outputs": [
    {
     "name": "stdout",
     "output_type": "stream",
     "text": [
      "20\n"
     ]
    }
   ],
   "source": [
    "print(obj3.m2())"
   ]
  },
  {
   "cell_type": "code",
   "execution_count": null,
   "id": "37f82c39",
   "metadata": {},
   "outputs": [],
   "source": [
    "class A:\n",
    "    def m1(self):\n",
    "        return 20\n",
    "class B(A):\n",
    "    def m1(self):\n",
    "        val=super().m1()+30\n",
    "        return val\n",
    "    \n",
    "class C(B):\n",
    "    def m1(self):\n",
    "        val=self.m1()+20 # It will raise an error because of  method overiding calling itself\n",
    "        return val\n",
    "obj=C()\n",
    "print(obj.m1())"
   ]
  },
  {
   "cell_type": "markdown",
   "id": "2e68150a",
   "metadata": {},
   "source": [
    "### 3) Polymorphism\n",
    "- Polymorphism is like using a single method name to perform different actions based on the context or the specific object involved.\n",
    "- It allows objects of different classes to be used interchangeably, even if they have different implementations for the same method.\n",
    "- Polymorphism means \"many forms.\"\n",
    "- It lets you use the same method name for different classes.\n",
    "- The actual behavior of the method depends on the specific object being used.\n",
    "- Concepts of polymorphism:\n",
    "  - __`Method overridnig`__\n",
    "  - __`Method overloading`__ (When in a single class you have 2 methods having same name but having different behaviour depending on the input) This is not allowed in python.\n",
    "  - __`Operator overloading`__ (lets you define how operators work with your custom objects)"
   ]
  },
  {
   "cell_type": "code",
   "execution_count": null,
   "id": "61411471",
   "metadata": {},
   "outputs": [],
   "source": [
    "# Python does not allow method overloading (This code doesnt work)\n",
    "\n",
    "class shape:\n",
    "    def area(self, radius): # When we give only one parameters as input then this method will get executed\n",
    "        return 3.14*radius*radius\n",
    "    \n",
    "    def area(self, l, b): # When we give two parameters as input then this method will get executed\n",
    "        return l*b\n",
    "\n",
    "s = shape()\n",
    "s.area(2)"
   ]
  },
  {
   "cell_type": "code",
   "execution_count": 118,
   "id": "d9d749b1",
   "metadata": {},
   "outputs": [
    {
     "name": "stdout",
     "output_type": "stream",
     "text": [
      "12.56\n",
      "12\n"
     ]
    }
   ],
   "source": [
    "# But you can perform method overloading in python like this\n",
    "\n",
    "class Shape:\n",
    "    def area(self,a,b=0):\n",
    "        if b == 0:\n",
    "            return 3.14*a*a\n",
    "        else:\n",
    "            return a*b\n",
    "\n",
    "s = Shape()\n",
    "\n",
    "print(s.area(2))\n",
    "print(s.area(3,4))"
   ]
  },
  {
   "cell_type": "code",
   "execution_count": 122,
   "id": "335717e6",
   "metadata": {},
   "outputs": [
    {
     "name": "stdout",
     "output_type": "stream",
     "text": [
      "helloworld\n",
      "9\n",
      "[1, 2, 3, 4, 5]\n"
     ]
    }
   ],
   "source": [
    "# Operator overloading:\n",
    "\n",
    "print('hello' + 'world') # Addition ooerator performs different actions depending upon the class\n",
    "print(4 + 5)\n",
    "print([1,2,3] + [4,5])"
   ]
  },
  {
   "cell_type": "markdown",
   "id": "b8ee9535",
   "metadata": {},
   "source": [
    "### 4) Abstraction:\n",
    "- It's like showing only the essential features of an object while hiding the unnecessary details.\n",
    "- We can not create an object of abstract class\n",
    "- Abstract method: is a method which doesnt have any type of code no implementation"
   ]
  },
  {
   "cell_type": "code",
   "execution_count": null,
   "id": "e8e9500f",
   "metadata": {},
   "outputs": [],
   "source": [
    "# This wont work since Mobileapp class does not have security methd, which is a abstract method, in it\n",
    "\n",
    "from abc import ABC, abstractmethod\n",
    "\n",
    "class BankApp(ABC):\n",
    "    def database(self):\n",
    "        print('connected to database')\n",
    "    @abstractmethod\n",
    "    def security(self):\n",
    "        pass\n",
    "    \n",
    "class Mobileapp(BankApp):\n",
    "    def mobile_login(self):\n",
    "        print('login into mobile')\n",
    "        \n",
    "mob = Mobileapp()"
   ]
  },
  {
   "cell_type": "code",
   "execution_count": 127,
   "id": "45e395d4",
   "metadata": {},
   "outputs": [
    {
     "name": "stdout",
     "output_type": "stream",
     "text": [
      "connected to database\n",
      "login into mobile\n"
     ]
    }
   ],
   "source": [
    "# This will work\n",
    "\n",
    "from abc import ABC, abstractmethod\n",
    "\n",
    "class BankApp(ABC):\n",
    "    def database(self):\n",
    "        print('connected to database')\n",
    "    @abstractmethod\n",
    "    def security(self):\n",
    "        pass\n",
    "    \n",
    "class Mobileapp(BankApp):\n",
    "    def mobile_login(self):\n",
    "        print('login into mobile')\n",
    "    def security(self):\n",
    "        print('Mobile security')\n",
    "        pass \n",
    "    \n",
    "mob = Mobileapp()\n",
    "mob.database()\n",
    "mob.mobile_login()"
   ]
  }
 ],
 "metadata": {
  "kernelspec": {
   "display_name": "Python 3 (ipykernel)",
   "language": "python",
   "name": "python3"
  },
  "language_info": {
   "codemirror_mode": {
    "name": "ipython",
    "version": 3
   },
   "file_extension": ".py",
   "mimetype": "text/x-python",
   "name": "python",
   "nbconvert_exporter": "python",
   "pygments_lexer": "ipython3",
   "version": "3.9.12"
  }
 },
 "nbformat": 4,
 "nbformat_minor": 5
}
