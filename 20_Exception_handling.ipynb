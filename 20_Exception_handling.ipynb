{
 "cells": [
  {
   "cell_type": "markdown",
   "id": "a3fd8eea",
   "metadata": {},
   "source": [
    "# Exception handling:\n",
    "- Exception handling is a programming concept that deals with the occurrence of errors during the execution of a program. \n",
    "- During the program execution, when an error occurs, an exception is raised, which can be caught and handled by the program itself. \n",
    "- __`Exception:`__ An exception is an abnormal event that occurs during the execution of a program, disrupting the normal flow of instructions.\n",
    "- __`Try block:`__ A try block encloses a set of statements that might generate an exception. The code inside the try block is monitored for exceptions.\n",
    "- __`Except block:`__ An except block is used to handle the exceptions that are raised in the corresponding try block. It contains the code that is executed when a specific exception occurs. You can have multiple except blocks to handle different types of exceptions.\n",
    "- __`Else block:`__ The else block contains code that is executed if no exception occurs. block contains code that will be executed if no exception occurs.\n",
    "- __`Finally block:`__ The finally block, contains code that is always executed, regardless of whether an exception occurred or not. It's often used for cleanup tasks.\n",
    "- __`raise statement:`__ raise statement is used to explicitly raise an exception or re-raise a caught exception. \n",
    "\n",
    "Exception handling is the process of responding to unwanted or unexpected events or errors when a computer program runs. If the error occurs then it wil enter into except block.\n",
    "\n",
    "__Things to remember:__\n",
    "- Except block will only executes when we get error in try block.\n",
    "- Else block does not execute when except block executes, otherwise else block will execute when try block executes successfully\n",
    "- No matter what finally block will always executes\n",
    "- Traceback is used to print the occured error # import traceback # print(traceback.print_exc())\n",
    "- Raise is used to raise an intensional error"
   ]
  },
  {
   "cell_type": "code",
   "execution_count": 7,
   "id": "904999db",
   "metadata": {},
   "outputs": [],
   "source": [
    "import traceback"
   ]
  },
  {
   "cell_type": "markdown",
   "id": "35c73524",
   "metadata": {},
   "source": [
    "__1) try - except__"
   ]
  },
  {
   "cell_type": "code",
   "execution_count": 1,
   "id": "e0163f51",
   "metadata": {},
   "outputs": [
    {
     "name": "stdout",
     "output_type": "stream",
     "text": [
      "try block\n"
     ]
    }
   ],
   "source": [
    "try:\n",
    "    print('try block')\n",
    "    \n",
    "except:\n",
    "    print('except block')"
   ]
  },
  {
   "cell_type": "code",
   "execution_count": 6,
   "id": "88350a0a",
   "metadata": {},
   "outputs": [
    {
     "name": "stdout",
     "output_type": "stream",
     "text": [
      "Error in try block: 'tuple' object has no attribute 'append'\n"
     ]
    },
    {
     "name": "stderr",
     "output_type": "stream",
     "text": [
      "Traceback (most recent call last):\n",
      "  File \"C:\\Users\\MY\\AppData\\Local\\Temp\\ipykernel_10468\\3541610597.py\", line 6, in <cell line: 5>\n",
      "    tup1.append(100)\n",
      "AttributeError: 'tuple' object has no attribute 'append'\n"
     ]
    }
   ],
   "source": [
    "tup1 = (3, 2, 4, 5, 6)\n",
    "\n",
    "try:\n",
    "    tup1.append(100)\n",
    "\n",
    "except AttributeError as e:\n",
    "    print('Error in try block:', e)\n",
    "    traceback.print_exc()"
   ]
  },
  {
   "cell_type": "markdown",
   "id": "95c4b43e",
   "metadata": {},
   "source": [
    "__2) try - except - else__"
   ]
  },
  {
   "cell_type": "code",
   "execution_count": 8,
   "id": "3ba5ed11",
   "metadata": {},
   "outputs": [
    {
     "name": "stdout",
     "output_type": "stream",
     "text": [
      "try Block\n",
      "else Block\n"
     ]
    }
   ],
   "source": [
    "try:\n",
    "    print(\"try Block\")\n",
    "    \n",
    "except:\n",
    "    print('except Block')\n",
    "    \n",
    "else:\n",
    "    print('else Block')"
   ]
  },
  {
   "cell_type": "code",
   "execution_count": 9,
   "id": "7c329d09",
   "metadata": {},
   "outputs": [
    {
     "name": "stdout",
     "output_type": "stream",
     "text": [
      "The result of 10 divided by 2 is: 5.0\n",
      "Error: Cannot divide by zero!\n"
     ]
    }
   ],
   "source": [
    "def divide_numbers(x, y):\n",
    "    try:\n",
    "        result = x / y\n",
    "    except ZeroDivisionError:\n",
    "        print(\"Error: Cannot divide by zero!\")\n",
    "    else:\n",
    "        print(f\"The result of {x} divided by {y} is: {result}\")\n",
    "\n",
    "# Example 1: Valid division\n",
    "divide_numbers(10, 2)\n",
    "\n",
    "# Example 2: Division by zero\n",
    "divide_numbers(5, 0)"
   ]
  },
  {
   "cell_type": "markdown",
   "id": "e16edd78",
   "metadata": {},
   "source": [
    "__3) try - except - else - finally__"
   ]
  },
  {
   "cell_type": "code",
   "execution_count": 12,
   "id": "ff250974",
   "metadata": {},
   "outputs": [
    {
     "name": "stdout",
     "output_type": "stream",
     "text": [
      "try Block\n",
      "else Block\n",
      "Finally block\n"
     ]
    }
   ],
   "source": [
    "try:\n",
    "    print(\"try Block\")\n",
    "    \n",
    "except:\n",
    "    print('except Block')\n",
    "    \n",
    "else:\n",
    "    print('else Block')\n",
    "    \n",
    "finally:\n",
    "    print('Finally block')"
   ]
  },
  {
   "cell_type": "code",
   "execution_count": 9,
   "id": "864b9e43",
   "metadata": {},
   "outputs": [
    {
     "name": "stdout",
     "output_type": "stream",
     "text": [
      "try Block\n",
      "Finally Block\n"
     ]
    }
   ],
   "source": [
    "try:\n",
    "    print(\"try Block\")\n",
    "#     string = 'python' + 1234\n",
    "\n",
    "except:\n",
    "    print(traceback.print_exc())\n",
    "    print('Except Block')\n",
    "    \n",
    "finally:\n",
    "    print('Finally Block')"
   ]
  },
  {
   "cell_type": "code",
   "execution_count": 10,
   "id": "9182fb61",
   "metadata": {},
   "outputs": [
    {
     "name": "stdout",
     "output_type": "stream",
     "text": [
      "try Block\n",
      "None\n",
      "Except Block\n",
      "Finally Block\n"
     ]
    },
    {
     "name": "stderr",
     "output_type": "stream",
     "text": [
      "Traceback (most recent call last):\n",
      "  File \"C:\\Users\\MY\\AppData\\Local\\Temp\\ipykernel_12860\\1313331326.py\", line 3, in <cell line: 1>\n",
      "    string = 'python' + 1234\n",
      "TypeError: can only concatenate str (not \"int\") to str\n"
     ]
    }
   ],
   "source": [
    "try:\n",
    "    print(\"try Block\")\n",
    "    string = 'python' + 1234\n",
    "\n",
    "except:\n",
    "    print(traceback.print_exc())\n",
    "    print('Except Block')\n",
    "    \n",
    "finally:\n",
    "    print('Finally Block')"
   ]
  },
  {
   "cell_type": "markdown",
   "id": "7067796a",
   "metadata": {},
   "source": [
    "__raise__"
   ]
  },
  {
   "cell_type": "code",
   "execution_count": 26,
   "id": "b8e5cef6",
   "metadata": {},
   "outputs": [
    {
     "name": "stdout",
     "output_type": "stream",
     "text": [
      "34\n"
     ]
    },
    {
     "ename": "TypeError",
     "evalue": "Error raised",
     "output_type": "error",
     "traceback": [
      "\u001b[1;31m---------------------------------------------------------------------------\u001b[0m",
      "\u001b[1;31mTypeError\u001b[0m                                 Traceback (most recent call last)",
      "Input \u001b[1;32mIn [26]\u001b[0m, in \u001b[0;36m<cell line: 4>\u001b[1;34m()\u001b[0m\n\u001b[0;32m      6\u001b[0m     \u001b[38;5;28mprint\u001b[39m(\u001b[38;5;124mf\u001b[39m\u001b[38;5;124m'\u001b[39m\u001b[38;5;124maddition of \u001b[39m\u001b[38;5;132;01m{\u001b[39;00mx\u001b[38;5;132;01m}\u001b[39;00m\u001b[38;5;124m and \u001b[39m\u001b[38;5;132;01m{\u001b[39;00my\u001b[38;5;132;01m}\u001b[39;00m\u001b[38;5;124m is \u001b[39m\u001b[38;5;132;01m{\u001b[39;00madd\u001b[38;5;132;01m}\u001b[39;00m\u001b[38;5;124m'\u001b[39m)\n\u001b[0;32m      8\u001b[0m \u001b[38;5;28;01melse\u001b[39;00m:\n\u001b[1;32m----> 9\u001b[0m     \u001b[38;5;28;01mraise\u001b[39;00m \u001b[38;5;167;01mTypeError\u001b[39;00m(\u001b[38;5;124m'\u001b[39m\u001b[38;5;124mError raised\u001b[39m\u001b[38;5;124m'\u001b[39m)\n",
      "\u001b[1;31mTypeError\u001b[0m: Error raised"
     ]
    }
   ],
   "source": [
    "x = eval(input())\n",
    "y = '30'\n",
    "\n",
    "if type(x) == int and type(y) == int: # True and False >> False\n",
    "    add = x + y\n",
    "    print(f'addition of {x} and {y} is {add}')\n",
    "    \n",
    "else:\n",
    "    raise TypeError('Error raised')"
   ]
  },
  {
   "cell_type": "code",
   "execution_count": 27,
   "id": "ba71417a",
   "metadata": {},
   "outputs": [
    {
     "name": "stdout",
     "output_type": "stream",
     "text": [
      "90\n",
      "None\n",
      "Except Block\n"
     ]
    },
    {
     "name": "stderr",
     "output_type": "stream",
     "text": [
      "Traceback (most recent call last):\n",
      "  File \"C:\\Users\\MY\\AppData\\Local\\Temp\\ipykernel_12860\\706749428.py\", line 7, in <cell line: 4>\n",
      "    raise TypeError('Error')\n",
      "TypeError: Error\n"
     ]
    }
   ],
   "source": [
    "x = 50\n",
    "y = 40\n",
    "\n",
    "try:\n",
    "    result = x + y\n",
    "    print(result)\n",
    "    raise TypeError('Error')\n",
    "    \n",
    "except:\n",
    "    print(traceback.print_exc())\n",
    "    print('Except Block')"
   ]
  },
  {
   "cell_type": "code",
   "execution_count": 11,
   "id": "970196fe",
   "metadata": {},
   "outputs": [],
   "source": [
    "try:\n",
    "    def my_fun():\n",
    "        print('Hello')\n",
    "        \n",
    "except:\n",
    "    print('Except')"
   ]
  },
  {
   "cell_type": "code",
   "execution_count": 12,
   "id": "5c4b8025",
   "metadata": {},
   "outputs": [
    {
     "name": "stdout",
     "output_type": "stream",
     "text": [
      "Hello\n"
     ]
    }
   ],
   "source": [
    "try:\n",
    "    my_fun()\n",
    "        \n",
    "except:\n",
    "    print('Except')"
   ]
  }
 ],
 "metadata": {
  "kernelspec": {
   "display_name": "Python 3 (ipykernel)",
   "language": "python",
   "name": "python3"
  },
  "language_info": {
   "codemirror_mode": {
    "name": "ipython",
    "version": 3
   },
   "file_extension": ".py",
   "mimetype": "text/x-python",
   "name": "python",
   "nbconvert_exporter": "python",
   "pygments_lexer": "ipython3",
   "version": "3.9.12"
  }
 },
 "nbformat": 4,
 "nbformat_minor": 5
}
