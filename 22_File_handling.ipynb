{
 "cells": [
  {
   "cell_type": "markdown",
   "id": "9ad37638",
   "metadata": {},
   "source": [
    "# File handling in python:\n",
    "- File handling in Python refers to the process of working with files, which are used to store and retrieve data.\n",
    "\n",
    "__Types of files:__\n",
    "- __`Text files:`__ \n",
    "  - Store data in ASCII characters and these files are human-readable.\n",
    "  - Lines are often terminated with an EOL character, commonly represented as \\n. This character indicates the end of a line.\n",
    "- __`Binary files:`__ \n",
    "  - Store data in a binary format. They can store any type of data, including non-text data like images or executable files.\n",
    "  - There is no requirement for EOL characters, and the data is stored as a sequence of bytes without specific line breaks.\n",
    "\n",
    "__CRUD Operations & File objects:__\n",
    "- __`Create (C):`__ Creating a file or adding content to an existing file.\n",
    "- __`Read (R):`__ Reading the contents of a file.\n",
    "- __`Update (U):`__ Modifying the content of a file.\n",
    "- __`Delete (D):`__ Deleting a file.\n",
    "- A file object is an interface in Python that allows you to interact with files. It provides methods to perform CRUD operations on files.\n",
    "- You use the open() function to create a file object. The file object is then used to perform CRUD operations on the file.\n",
    "\n",
    "__Opening a file:__\n",
    "- To work with a file in Python, you need to open it using the open() function. \n",
    "- __`Syntax: file = open('filename.txt', mode)`__\n",
    "- Mode is to specify the purpose for which you are opening the file (read, write, append, etc.)\n",
    "\n",
    "__Modes:__\n",
    "- __`'r' (Read mode):`__ Default mode. Opens the file for reading. Raise error if the file does not exist.\n",
    "- __`'w' (Write mode):`__ Opens a file for writing. If the file already exists, it truncates it (existing content will be erased). If it doesn't exist, it creates a new file.\n",
    "- __`'a' (Append mode):`__ Opens the file for writing, but appends to the end of the file instead of truncating it. If the file doesn't exist, it creates a new file.\n",
    "- __`'x' (Create mode):`__ Creates the file but raise error if it already exists.\n",
    "- __`'t' (Text mode):`__ Default mode. Opens file in text mode. \n",
    "- __`'b' (Binary mode):`__ Opens the file in binary mode.\n",
    "- __`'r+' (Read & Write mode):`__ Opens a file for both reading and writing mode. Raises an error if the file does not exist. Keeps existing content intact and allows you to read and write anywhere in the file. The file cursor is positioned at the beginning of the file.\n",
    "- __`'w+' (Write & Read mode):`__ Opens a file for both writing and reading mode. Creates the file if it does not exist. Removes existing content and allows you to write and read. The file cursor is positioned at the beginning of the file.\n",
    "- __`'a+' (Append & Read mode):`__ Opens a file for both appending and reading mode. Creates the file if it does not exist. Keeps existing content intact and allows you to append and read. The file cursor is positioned at the end of the file."
   ]
  },
  {
   "cell_type": "code",
   "execution_count": 1,
   "id": "4d2e5b0c",
   "metadata": {
    "scrolled": true
   },
   "outputs": [
    {
     "data": {
      "text/plain": [
       "'E:\\\\Github\\\\Python'"
      ]
     },
     "execution_count": 1,
     "metadata": {},
     "output_type": "execute_result"
    }
   ],
   "source": [
    "import os\n",
    "os.getcwd() # current working directory"
   ]
  },
  {
   "cell_type": "markdown",
   "id": "8d1bf078",
   "metadata": {},
   "source": [
    "__1) Read__"
   ]
  },
  {
   "cell_type": "code",
   "execution_count": 4,
   "id": "e7d5292a",
   "metadata": {},
   "outputs": [
    {
     "name": "stdout",
     "output_type": "stream",
     "text": [
      "\"Hello welcome to the world of AI!!\"\n"
     ]
    }
   ],
   "source": [
    "file = open('sample.txt','r')\n",
    "content = file.read()\n",
    "print(content)\n",
    "file.close()"
   ]
  },
  {
   "cell_type": "code",
   "execution_count": 5,
   "id": "214b85d7",
   "metadata": {},
   "outputs": [
    {
     "name": "stdout",
     "output_type": "stream",
     "text": [
      "\"Hello welcome to the world of AI!!\"\n"
     ]
    }
   ],
   "source": [
    "# Using with statement: The with statement automatically close the file after the operation\n",
    "\n",
    "with open('sample.txt', 'r') as file:\n",
    "    content = file.read()\n",
    "    print(content)"
   ]
  },
  {
   "cell_type": "code",
   "execution_count": 14,
   "id": "ee8bddde",
   "metadata": {},
   "outputs": [
    {
     "name": "stdout",
     "output_type": "stream",
     "text": [
      "Machi\n"
     ]
    }
   ],
   "source": [
    "# By default the read() method returns the content in the file, but you can also specify how many characters you want to return\n",
    "\n",
    "file = open('sample1.txt','r')\n",
    "content = file.read(5)\n",
    "print(content)\n",
    "file.close()"
   ]
  },
  {
   "cell_type": "code",
   "execution_count": 15,
   "id": "80d74c0f",
   "metadata": {},
   "outputs": [
    {
     "name": "stdout",
     "output_type": "stream",
     "text": [
      "Machi\n"
     ]
    }
   ],
   "source": [
    "# Using with statement\n",
    "with open('sample1.txt', 'r') as file:\n",
    "    content = file.read(5)\n",
    "    print(content)"
   ]
  },
  {
   "cell_type": "code",
   "execution_count": 16,
   "id": "2ebe11d0",
   "metadata": {},
   "outputs": [
    {
     "name": "stdout",
     "output_type": "stream",
     "text": [
      "Machine learning is a subfield of artificial intelligence,\n",
      "\n"
     ]
    }
   ],
   "source": [
    "# readline(): Reads a single line from the file. Line will end and \\n delimeter in text file.\n",
    "\n",
    "file = open('sample1.txt','r')\n",
    "content = file.readline()\n",
    "print(content)\n",
    "file.close()"
   ]
  },
  {
   "cell_type": "code",
   "execution_count": 17,
   "id": "1f5f986b",
   "metadata": {},
   "outputs": [
    {
     "name": "stdout",
     "output_type": "stream",
     "text": [
      "Machine learning is a subfield of artificial intelligence,\n",
      "\n"
     ]
    }
   ],
   "source": [
    "# Using with statement\n",
    "\n",
    "with open('sample1.txt', 'r') as file:\n",
    "    content = file.readline()\n",
    "    print(content)"
   ]
  },
  {
   "cell_type": "code",
   "execution_count": 18,
   "id": "1c61a138",
   "metadata": {},
   "outputs": [
    {
     "name": "stdout",
     "output_type": "stream",
     "text": [
      "Machine learning is a subfield of artificial intelligence,\n",
      "\n",
      "which is broadly defined as the capability of a machine to imitate intelligent human behavior. \n",
      "\n"
     ]
    }
   ],
   "source": [
    "# By calling readline() two times, you can read the first two lines\n",
    "\n",
    "file = open('sample1.txt','r')\n",
    "print(file.readline())\n",
    "print(file.readline())\n",
    "file.close()"
   ]
  },
  {
   "cell_type": "code",
   "execution_count": 19,
   "id": "81163b00",
   "metadata": {},
   "outputs": [
    {
     "name": "stdout",
     "output_type": "stream",
     "text": [
      "Machine learning is a subfield of artificial intelligence,\n",
      "\n",
      "which is broadly defined as the capability of a machine to imitate intelligent human behavior. \n",
      "\n"
     ]
    }
   ],
   "source": [
    "# Using with statement\n",
    "\n",
    "with open('sample1.txt', 'r') as file:\n",
    "    print(file.readline())\n",
    "    print(file.readline())"
   ]
  },
  {
   "cell_type": "code",
   "execution_count": 21,
   "id": "a2b184ea",
   "metadata": {},
   "outputs": [
    {
     "name": "stdout",
     "output_type": "stream",
     "text": [
      "Mac\n",
      "hine\n"
     ]
    }
   ],
   "source": [
    "with open('sample1.txt', 'r') as file:\n",
    "    print(file.readline(3))\n",
    "    print(file.readline(4)) # See the difference"
   ]
  },
  {
   "cell_type": "code",
   "execution_count": 30,
   "id": "e045efa9",
   "metadata": {},
   "outputs": [
    {
     "name": "stdout",
     "output_type": "stream",
     "text": [
      "['Machine learning is a subfield of artificial intelligence,\\n', 'which is broadly defined as the capability of a machine to imitate intelligent human behavior. \\n', 'Artificial intelligence systems are used to perform complex tasks in a way that is similar to how humans solve problems.']\n",
      "<class 'list'>\n"
     ]
    }
   ],
   "source": [
    "# readlines(): Reads all lines from the file and returns them as a list.\n",
    "\n",
    "file = open('sample1.txt','r')\n",
    "content = file.readlines()\n",
    "print(content)\n",
    "print(type(content))\n",
    "file.close()"
   ]
  },
  {
   "cell_type": "code",
   "execution_count": 31,
   "id": "1ae4b7c6",
   "metadata": {},
   "outputs": [
    {
     "name": "stdout",
     "output_type": "stream",
     "text": [
      "['Machine learning is a subfield of artificial intelligence,\\n', 'which is broadly defined as the capability of a machine to imitate intelligent human behavior. \\n', 'Artificial intelligence systems are used to perform complex tasks in a way that is similar to how humans solve problems.']\n"
     ]
    }
   ],
   "source": [
    "# Using with statement\n",
    "\n",
    "with open('sample1.txt', 'r') as file:\n",
    "    content = file.readlines()\n",
    "    print(content)"
   ]
  },
  {
   "cell_type": "code",
   "execution_count": 32,
   "id": "4b3774cc",
   "metadata": {},
   "outputs": [
    {
     "name": "stdout",
     "output_type": "stream",
     "text": [
      "['Machine learning is a subfield of artificial intelligence,\\n', 'which is broadly defined as the capability of a machine to imitate intelligent human behavior. \\n', 'Artificial intelligence systems are used to perform complex tasks in a way that is similar to how humans solve problems.']\n",
      "[]\n"
     ]
    }
   ],
   "source": [
    "with open('sample1.txt', 'r') as file:\n",
    "    print(file.readlines())\n",
    "    print(file.readlines())"
   ]
  },
  {
   "cell_type": "code",
   "execution_count": 33,
   "id": "c74937a0",
   "metadata": {},
   "outputs": [
    {
     "name": "stdout",
     "output_type": "stream",
     "text": [
      "['Machine learning is a subfield of artificial intelligence,\\n']\n"
     ]
    }
   ],
   "source": [
    "with open('sample1.txt', 'r') as file:\n",
    "    print(file.readlines(20))"
   ]
  },
  {
   "cell_type": "code",
   "execution_count": 35,
   "id": "75e01613",
   "metadata": {},
   "outputs": [
    {
     "name": "stdout",
     "output_type": "stream",
     "text": [
      "['Machine learning is a subfield of artificial intelligence,\\n', 'which is broadly defined as the capability of a machine to imitate intelligent human behavior. \\n']\n"
     ]
    }
   ],
   "source": [
    "with open('sample1.txt', 'r') as file:\n",
    "    print(file.readlines(120)) # see the difference"
   ]
  },
  {
   "cell_type": "markdown",
   "id": "27c9820c",
   "metadata": {},
   "source": [
    "__2) Write__"
   ]
  },
  {
   "cell_type": "code",
   "execution_count": 6,
   "id": "b7b5517e",
   "metadata": {},
   "outputs": [],
   "source": [
    "file = open('sample.txt','w') # by default it's 'wt'; use 'wb' if want to write binary file\n",
    "file.write('AI consist of various domain such as ML, DL, NLP, CV') # truncates the file\n",
    "file.close()"
   ]
  },
  {
   "cell_type": "code",
   "execution_count": 7,
   "id": "6b5194ac",
   "metadata": {},
   "outputs": [
    {
     "name": "stdout",
     "output_type": "stream",
     "text": [
      "AI consist of various domain such as ML, DL, NLP, CV\n"
     ]
    }
   ],
   "source": [
    "file = open('sample.txt','r')\n",
    "content = file.read()\n",
    "print(content) # existing content will be erased\n",
    "file.close()"
   ]
  },
  {
   "cell_type": "code",
   "execution_count": 9,
   "id": "c734004e",
   "metadata": {},
   "outputs": [],
   "source": [
    "# Using with statement\n",
    "\n",
    "with open('sample.txt', 'w') as file:\n",
    "    file.write('Hello, this is a sample text.')"
   ]
  },
  {
   "cell_type": "code",
   "execution_count": 10,
   "id": "5bc32e1b",
   "metadata": {},
   "outputs": [
    {
     "name": "stdout",
     "output_type": "stream",
     "text": [
      "Hello, this is a sample text.\n"
     ]
    }
   ],
   "source": [
    "with open('sample.txt', 'r') as file:\n",
    "    content = file.read()\n",
    "    print(content)"
   ]
  },
  {
   "cell_type": "code",
   "execution_count": 12,
   "id": "8b987901",
   "metadata": {},
   "outputs": [],
   "source": [
    "# EOL delimeter \\n\n",
    "\n",
    "text = '''Machine learning is a subfield of artificial intelligence,\n",
    "which is broadly defined as the capability of a machine to imitate intelligent human behavior. \n",
    "Artificial intelligence systems are used to perform complex tasks in a way that is similar to how humans solve problems.'''\n",
    "\n",
    "with open('sample1.txt', 'w') as file:\n",
    "    file.write(text)"
   ]
  },
  {
   "cell_type": "code",
   "execution_count": 13,
   "id": "40b8ed93",
   "metadata": {},
   "outputs": [
    {
     "name": "stdout",
     "output_type": "stream",
     "text": [
      "Machine learning is a subfield of artificial intelligence,\n",
      "which is broadly defined as the capability of a machine to imitate intelligent human behavior. \n",
      "Artificial intelligence systems are used to perform complex tasks in a way that is similar to how humans solve problems.\n"
     ]
    }
   ],
   "source": [
    "with open('sample1.txt', 'r') as file:\n",
    "    content = file.read()\n",
    "    print(content)"
   ]
  },
  {
   "cell_type": "markdown",
   "id": "18803e87",
   "metadata": {},
   "source": [
    "__3) Append__"
   ]
  },
  {
   "cell_type": "code",
   "execution_count": 1,
   "id": "3ec83575",
   "metadata": {},
   "outputs": [],
   "source": [
    "file = open('sample.txt','a')\n",
    "file.write('\\nThis will be a rollar coaster ride!!')\n",
    "file.close()"
   ]
  },
  {
   "cell_type": "code",
   "execution_count": 4,
   "id": "685d708b",
   "metadata": {},
   "outputs": [
    {
     "name": "stdout",
     "output_type": "stream",
     "text": [
      "Hello, this is a sample text.\n",
      "This will be a rollar coaster ride!!\n",
      "\n"
     ]
    }
   ],
   "source": [
    "file = open('sample.txt','r')\n",
    "content = file.read()\n",
    "print(content)\n",
    "file.close()"
   ]
  },
  {
   "cell_type": "code",
   "execution_count": 5,
   "id": "629a5c9c",
   "metadata": {},
   "outputs": [],
   "source": [
    "# Using with statement\n",
    "with open('sample.txt', 'a') as file:\n",
    "    file.write('\\nSo, fasten your seatbelts!!')"
   ]
  },
  {
   "cell_type": "code",
   "execution_count": 7,
   "id": "fcf9b005",
   "metadata": {},
   "outputs": [
    {
     "name": "stdout",
     "output_type": "stream",
     "text": [
      "Hello, this is a sample text.\n",
      "This will be a rollar coaster ride!!\n",
      "So, fasten your seatbelts!!\n"
     ]
    }
   ],
   "source": [
    "with open('sample.txt', 'r') as file:\n",
    "    content = file.read()\n",
    "    print(content)"
   ]
  },
  {
   "cell_type": "markdown",
   "id": "6b5e23cd",
   "metadata": {},
   "source": [
    "__4) Create__"
   ]
  },
  {
   "cell_type": "code",
   "execution_count": 8,
   "id": "18cc2c0b",
   "metadata": {},
   "outputs": [],
   "source": [
    "file = open('sample2.txt','x')\n",
    "file.write('This is a sample text file')\n",
    "file.close()"
   ]
  },
  {
   "cell_type": "code",
   "execution_count": 9,
   "id": "c855b382",
   "metadata": {},
   "outputs": [
    {
     "name": "stdout",
     "output_type": "stream",
     "text": [
      "This is a sample text file\n"
     ]
    }
   ],
   "source": [
    "file = open('sample2.txt','r')\n",
    "content = file.read()\n",
    "print(content)\n",
    "file.close()"
   ]
  },
  {
   "cell_type": "code",
   "execution_count": 11,
   "id": "2017ac2f",
   "metadata": {},
   "outputs": [],
   "source": [
    "with open('sample3.txt', 'x') as file:\n",
    "    file.write('DO like share and subscribe')"
   ]
  },
  {
   "cell_type": "code",
   "execution_count": 13,
   "id": "646374c1",
   "metadata": {},
   "outputs": [
    {
     "name": "stdout",
     "output_type": "stream",
     "text": [
      "Do like share and subscribe\n"
     ]
    }
   ],
   "source": [
    "with open('sample3.txt', 'r') as file:\n",
    "    content = file.read()\n",
    "    print(content)"
   ]
  },
  {
   "cell_type": "markdown",
   "id": "32b1a2d1",
   "metadata": {},
   "source": [
    "__5) 'r+' (Read & Write mode)__"
   ]
  },
  {
   "cell_type": "code",
   "execution_count": 38,
   "id": "33963b36",
   "metadata": {},
   "outputs": [
    {
     "name": "stdout",
     "output_type": "stream",
     "text": [
      "Hello, this is a sample text.\n",
      "This will be a rollar coaster ride!!\n",
      "So, fasten your seatbelts!!\n"
     ]
    }
   ],
   "source": [
    "with open('sample.txt', \"r+\") as file:\n",
    "    content = file.read()  # Read existing content\n",
    "    print(content)\n",
    "    file.write(\"\\n\\nNew text added\")  # Write new content"
   ]
  },
  {
   "cell_type": "code",
   "execution_count": 39,
   "id": "faab9dee",
   "metadata": {},
   "outputs": [
    {
     "name": "stdout",
     "output_type": "stream",
     "text": [
      "Hello, this is a sample text.\n",
      "This will be a rollar coaster ride!!\n",
      "So, fasten your seatbelts!!\n",
      "\n",
      "New text added\n"
     ]
    }
   ],
   "source": [
    "with open('sample.txt', 'r') as file:\n",
    "    content = file.read()\n",
    "    print(content)"
   ]
  },
  {
   "cell_type": "markdown",
   "id": "f6f921ee",
   "metadata": {},
   "source": [
    "__6) 'w+' (Write and Read)__"
   ]
  },
  {
   "cell_type": "code",
   "execution_count": 43,
   "id": "80a436fa",
   "metadata": {},
   "outputs": [
    {
     "name": "stdout",
     "output_type": "stream",
     "text": [
      "Hello, World!\n",
      "\n"
     ]
    }
   ],
   "source": [
    "with open('sample.txt', 'w+') as file:\n",
    "    file.write(\"Hello, World!\\n\")  # Write content\n",
    "    file.seek(0)  # Move the cursor to the beginning\n",
    "    content = file.read()  # Read the content\n",
    "    print(content)"
   ]
  },
  {
   "cell_type": "code",
   "execution_count": 45,
   "id": "53d1819f",
   "metadata": {},
   "outputs": [
    {
     "name": "stdout",
     "output_type": "stream",
     "text": [
      "is is a sample file\n"
     ]
    }
   ],
   "source": [
    "# Changing the cursor position\n",
    "\n",
    "with open('sample5', 'w+') as file:\n",
    "    file.write('This is a sample file')\n",
    "    file.seek(2) # cursor moved\n",
    "    content = file.read()\n",
    "    print(content)"
   ]
  },
  {
   "cell_type": "code",
   "execution_count": 46,
   "id": "2a146d88",
   "metadata": {},
   "outputs": [
    {
     "name": "stdout",
     "output_type": "stream",
     "text": [
      "5\n",
      "is a sample file\n"
     ]
    }
   ],
   "source": [
    "# Get the cursor position\n",
    "\n",
    "with open('sample5', 'w+') as file:\n",
    "    file.write('This is a sample file')\n",
    "    file.seek(5) # cursor moved\n",
    "    print(file.tell())\n",
    "    content = file.read()\n",
    "    print(content)"
   ]
  },
  {
   "cell_type": "markdown",
   "id": "fb29acbc",
   "metadata": {},
   "source": [
    "__7) 'a+' (Append and Read)__"
   ]
  },
  {
   "cell_type": "code",
   "execution_count": 44,
   "id": "39882e91",
   "metadata": {},
   "outputs": [
    {
     "name": "stdout",
     "output_type": "stream",
     "text": [
      "Hello, World!\n",
      "New text added\n"
     ]
    }
   ],
   "source": [
    "with open('sample.txt', 'a+') as file:\n",
    "    file.write('New text added')  # Append content\n",
    "    file.seek(0)  # Move the cursor to the beginning\n",
    "    content = file.read()  # Read the content\n",
    "    print(content)"
   ]
  },
  {
   "cell_type": "markdown",
   "id": "425e3a8b",
   "metadata": {},
   "source": [
    "__Looping through the lines of the file:__"
   ]
  },
  {
   "cell_type": "code",
   "execution_count": 47,
   "id": "4cf0503c",
   "metadata": {},
   "outputs": [
    {
     "name": "stdout",
     "output_type": "stream",
     "text": [
      "Machine learning is a subfield of artificial intelligence,\n",
      "which is broadly defined as the capability of a machine to imitate intelligent human behavior. \n",
      "Artificial intelligence systems are used to perform complex tasks in a way that is similar to how humans solve problems.\n"
     ]
    }
   ],
   "source": [
    "with open('sample1.txt', 'r') as file:\n",
    "    content = file.read()\n",
    "    print(content)"
   ]
  },
  {
   "cell_type": "code",
   "execution_count": 48,
   "id": "b70f363f",
   "metadata": {},
   "outputs": [
    {
     "name": "stdout",
     "output_type": "stream",
     "text": [
      "Machine learning is a subfield of artificial intelligence,\n",
      "\n",
      "which is broadly defined as the capability of a machine to imitate intelligent human behavior. \n",
      "\n",
      "Artificial intelligence systems are used to perform complex tasks in a way that is similar to how humans solve problems.\n"
     ]
    }
   ],
   "source": [
    "with open('sample1.txt', 'r') as file:\n",
    "    for line in file:\n",
    "        print(line)"
   ]
  },
  {
   "cell_type": "code",
   "execution_count": 53,
   "id": "26324d1d",
   "metadata": {},
   "outputs": [
    {
     "name": "stdout",
     "output_type": "stream",
     "text": [
      "Machine learning is a subfield of artificial intelligence,\n",
      "which is broadly defined as the capability of a machine to imitate intelligent human behavior.\n",
      "Artificial intelligence systems are used to perform complex tasks in a way that is similar to how humans solve problems.\n"
     ]
    }
   ],
   "source": [
    "with open('sample1.txt', 'r') as file:\n",
    "    while True:\n",
    "        line = file.readline()  # read a line from the file\n",
    "        if not line:  # if the line is empty, it means we've reached the end of the file\n",
    "            break\n",
    "        print(line.strip())  # strip any newline characters and print the line"
   ]
  },
  {
   "cell_type": "code",
   "execution_count": 54,
   "id": "5ef7dee9",
   "metadata": {},
   "outputs": [],
   "source": [
    "# ** Note: We can use file path instead of file name as well"
   ]
  }
 ],
 "metadata": {
  "kernelspec": {
   "display_name": "Python 3 (ipykernel)",
   "language": "python",
   "name": "python3"
  },
  "language_info": {
   "codemirror_mode": {
    "name": "ipython",
    "version": 3
   },
   "file_extension": ".py",
   "mimetype": "text/x-python",
   "name": "python",
   "nbconvert_exporter": "python",
   "pygments_lexer": "ipython3",
   "version": "3.9.12"
  }
 },
 "nbformat": 4,
 "nbformat_minor": 5
}
