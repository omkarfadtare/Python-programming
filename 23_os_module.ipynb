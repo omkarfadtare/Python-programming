{
 "cells": [
  {
   "cell_type": "markdown",
   "id": "dfb67cef",
   "metadata": {},
   "source": [
    "# os module (Operating system module)\n",
    "- os module provides a way to interact with the operating system. It offers a range of functions for file and directory operations.\n",
    "- os comes under python’s standard utility modules.\n",
    "\n",
    "__Functions:__\n",
    "- __`os.getcwd():`__ Returns the current working directory as a string.\n",
    "- __`os.chdir():`__ Changes the current working directory to the specified path.\n",
    "- __`os.listdir():`__ Returns a list of files and directories in the specified directory.\n",
    "- __`os.mkdir():`__ Creates a new directory.\n",
    "- __`os.makedirs():`__ Creates directories recursively. That means while making leaf directories if any intermediate-level directories are missing os.makedirs() method will create them all.\n",
    "- __`os.stat():`__ Returns information about a file.\n",
    "- __`os.remove():`__ Removes a file.\n",
    "- __`os.rmdir():`__ Removes an empty directory. OSError will be raised if the directory at specified path is not empty.\n",
    "- __`os.path.exists():`__ Checks whether a given path exists.\n",
    "- __`os.path.join():`__ Joins path components into a single path.\n",
    "- __`os.rename():`__ Renames a file or directory.\n",
    "- __`os.getsize()`__ Returns the size of a file in bytes."
   ]
  },
  {
   "cell_type": "code",
   "execution_count": 1,
   "id": "6d530a12",
   "metadata": {},
   "outputs": [],
   "source": [
    "import os"
   ]
  },
  {
   "cell_type": "markdown",
   "id": "477877c7",
   "metadata": {},
   "source": [
    "__1) os.getcwd():__"
   ]
  },
  {
   "cell_type": "code",
   "execution_count": 2,
   "id": "6d13fe60",
   "metadata": {},
   "outputs": [
    {
     "data": {
      "text/plain": [
       "'E:\\\\Github\\\\Python'"
      ]
     },
     "execution_count": 2,
     "metadata": {},
     "output_type": "execute_result"
    }
   ],
   "source": [
    "os.getcwd()"
   ]
  },
  {
   "cell_type": "markdown",
   "id": "099479fc",
   "metadata": {},
   "source": [
    "__2) os.chdir(path):__"
   ]
  },
  {
   "cell_type": "code",
   "execution_count": 5,
   "id": "ad2a5886",
   "metadata": {},
   "outputs": [
    {
     "name": "stdout",
     "output_type": "stream",
     "text": [
      "E:\\Github\n"
     ]
    }
   ],
   "source": [
    "os.chdir(r'E:\\Github')\n",
    "print(os.getcwd()) # working directory changed"
   ]
  },
  {
   "cell_type": "markdown",
   "id": "f36c73d0",
   "metadata": {},
   "source": [
    "__3) os.mkdir(path):__"
   ]
  },
  {
   "cell_type": "code",
   "execution_count": 6,
   "id": "bc6269c0",
   "metadata": {},
   "outputs": [],
   "source": [
    "os.mkdir('sample') # sample named directory created"
   ]
  },
  {
   "cell_type": "markdown",
   "id": "7a8a4b68",
   "metadata": {},
   "source": [
    "__4) os.makedirs(path):__"
   ]
  },
  {
   "cell_type": "code",
   "execution_count": 7,
   "id": "8e617402",
   "metadata": {},
   "outputs": [],
   "source": [
    "os.makedirs(r'E:\\Github\\sample\\test') # intermediate directories created; os.mkdir() function will raise error"
   ]
  },
  {
   "cell_type": "markdown",
   "id": "5963a85e",
   "metadata": {},
   "source": [
    "__5) os.listdir(path):__"
   ]
  },
  {
   "cell_type": "code",
   "execution_count": 9,
   "id": "0e193db3",
   "metadata": {
    "collapsed": true
   },
   "outputs": [
    {
     "data": {
      "text/plain": [
       "['.ipynb_checkpoints',\n",
       " '01_Basics_of_python.ipynb',\n",
       " '02_Basics_of_python (Operators).ipynb',\n",
       " '03_Basic_of_python (Conditional_statement).ipynb',\n",
       " '04_Basic_of_python (Loops).ipynb',\n",
       " '05_String.ipynb',\n",
       " '06_List.ipynb',\n",
       " '07_Tuple.ipynb',\n",
       " '08_Set.ipynb',\n",
       " '09_Dictionary.ipynb',\n",
       " '10_Pattern_drawing (Star).ipynb',\n",
       " '11_Pattern_drawing (Numbers).ipynb',\n",
       " '12_Pattern_drawing (Alpha).ipynb',\n",
       " '13_Pattern_drawing (Hollow).ipynb',\n",
       " '14_Imp_Built-in_functions.ipynb',\n",
       " '15_User_defined_function.ipynb',\n",
       " '16_Lambda_function.ipynb',\n",
       " '17_Recursion_function.ipynb',\n",
       " '18_Decorator_Iterator_Generator.ipynb',\n",
       " '19_Object_oriented_programming.ipynb',\n",
       " '20_Exception_handling.ipynb',\n",
       " '21_Modules.ipynb',\n",
       " '22_OS_module.ipynb',\n",
       " '23_glob_module.ipynb',\n",
       " '24_shutil_module.ipynb',\n",
       " '25_File_handling.ipynb',\n",
       " '26_datetime_&_time_module.ipynb',\n",
       " '27_re_module.ipynb',\n",
       " '28_Optical_character_recognition (OCR)']"
      ]
     },
     "execution_count": 9,
     "metadata": {},
     "output_type": "execute_result"
    }
   ],
   "source": [
    "os.listdir(r'E:\\Github\\Python')"
   ]
  },
  {
   "cell_type": "code",
   "execution_count": 10,
   "id": "d3dabd69",
   "metadata": {
    "collapsed": true
   },
   "outputs": [
    {
     "name": "stdout",
     "output_type": "stream",
     "text": [
      ".ipynb_checkpoints\n",
      "01_Basics_of_python.ipynb\n",
      "02_Basics_of_python (Operators).ipynb\n",
      "03_Basic_of_python (Conditional_statement).ipynb\n",
      "04_Basic_of_python (Loops).ipynb\n",
      "05_String.ipynb\n",
      "06_List.ipynb\n",
      "07_Tuple.ipynb\n",
      "08_Set.ipynb\n",
      "09_Dictionary.ipynb\n",
      "10_Pattern_drawing (Star).ipynb\n",
      "11_Pattern_drawing (Numbers).ipynb\n",
      "12_Pattern_drawing (Alpha).ipynb\n",
      "13_Pattern_drawing (Hollow).ipynb\n",
      "14_Imp_Built-in_functions.ipynb\n",
      "15_User_defined_function.ipynb\n",
      "16_Lambda_function.ipynb\n",
      "17_Recursion_function.ipynb\n",
      "18_Decorator_Iterator_Generator.ipynb\n",
      "19_Object_oriented_programming.ipynb\n",
      "20_Exception_handling.ipynb\n",
      "21_Modules.ipynb\n",
      "22_OS_module.ipynb\n",
      "23_glob_module.ipynb\n",
      "24_shutil_module.ipynb\n",
      "25_File_handling.ipynb\n",
      "26_datetime_&_time_module.ipynb\n",
      "27_re_module.ipynb\n",
      "28_Optical_character_recognition (OCR)\n"
     ]
    }
   ],
   "source": [
    "# Alternate way:\n",
    "\n",
    "for file in os.listdir(r'E:\\Github\\Python'):\n",
    "    print(file)"
   ]
  },
  {
   "cell_type": "markdown",
   "id": "0ba7e328",
   "metadata": {},
   "source": [
    "__6) os.stat(path):__"
   ]
  },
  {
   "cell_type": "code",
   "execution_count": 11,
   "id": "3510a94a",
   "metadata": {},
   "outputs": [
    {
     "data": {
      "text/plain": [
       "os.stat_result(st_mode=33206, st_ino=1407374883554596, st_dev=2222763314, st_nlink=1, st_uid=0, st_gid=0, st_size=0, st_atime=1702036903, st_mtime=1702036903, st_ctime=1702036903)"
      ]
     },
     "execution_count": 11,
     "metadata": {},
     "output_type": "execute_result"
    }
   ],
   "source": [
    "os.stat(r'E:\\Github\\sample\\test\\testing.txt')"
   ]
  },
  {
   "cell_type": "markdown",
   "id": "e17f18b9",
   "metadata": {},
   "source": [
    "__7) os.remove(path):__"
   ]
  },
  {
   "cell_type": "code",
   "execution_count": 12,
   "id": "7fcc698d",
   "metadata": {},
   "outputs": [],
   "source": [
    "os.remove(r'E:\\Github\\sample\\test\\testing.txt')"
   ]
  },
  {
   "cell_type": "markdown",
   "id": "1311d337",
   "metadata": {},
   "source": [
    "__8) os.rmdir(path):__"
   ]
  },
  {
   "cell_type": "code",
   "execution_count": 14,
   "id": "3cb590fd",
   "metadata": {},
   "outputs": [],
   "source": [
    "os.rmdir(r'E:\\Github\\sample\\test')"
   ]
  },
  {
   "cell_type": "markdown",
   "id": "9537e71a",
   "metadata": {},
   "source": [
    "__9) os.path.exists(path):__"
   ]
  },
  {
   "cell_type": "code",
   "execution_count": 15,
   "id": "8744d613",
   "metadata": {},
   "outputs": [
    {
     "data": {
      "text/plain": [
       "True"
      ]
     },
     "execution_count": 15,
     "metadata": {},
     "output_type": "execute_result"
    }
   ],
   "source": [
    "os.path.exists(r'E:\\Github\\sample')"
   ]
  },
  {
   "cell_type": "code",
   "execution_count": 16,
   "id": "96694b32",
   "metadata": {},
   "outputs": [
    {
     "data": {
      "text/plain": [
       "False"
      ]
     },
     "execution_count": 16,
     "metadata": {},
     "output_type": "execute_result"
    }
   ],
   "source": [
    "os.path.exists(r'E:\\Github\\sample\\test\\testing.txt')"
   ]
  },
  {
   "cell_type": "markdown",
   "id": "c92d47c2",
   "metadata": {},
   "source": [
    "__10) os.path.join(path1, path2, ..):__"
   ]
  },
  {
   "cell_type": "code",
   "execution_count": 17,
   "id": "2db0b997",
   "metadata": {},
   "outputs": [
    {
     "data": {
      "text/plain": [
       "'E:\\\\Github'"
      ]
     },
     "execution_count": 17,
     "metadata": {},
     "output_type": "execute_result"
    }
   ],
   "source": [
    "os.getcwd()"
   ]
  },
  {
   "cell_type": "code",
   "execution_count": 18,
   "id": "5ce14d46",
   "metadata": {},
   "outputs": [
    {
     "name": "stdout",
     "output_type": "stream",
     "text": [
      "E:\\Github\\sample\n"
     ]
    }
   ],
   "source": [
    "# Without using function\n",
    "\n",
    "path1 = os.getcwd()\n",
    "path2 = 'sample'\n",
    "\n",
    "file_path = path1 + '\\\\' + path2\n",
    "print(file_path)"
   ]
  },
  {
   "cell_type": "code",
   "execution_count": 19,
   "id": "a5fb65df",
   "metadata": {},
   "outputs": [
    {
     "name": "stdout",
     "output_type": "stream",
     "text": [
      "E:\\Github\\sample\n"
     ]
    }
   ],
   "source": [
    "# Using function\n",
    "\n",
    "path1 = os.getcwd()\n",
    "file_path = os.path.join(path1,'sample')\n",
    "print(file_path)"
   ]
  },
  {
   "cell_type": "markdown",
   "id": "fe350ed7",
   "metadata": {},
   "source": [
    "__11) os.rename(old, new):__"
   ]
  },
  {
   "cell_type": "code",
   "execution_count": 20,
   "id": "6af38470",
   "metadata": {},
   "outputs": [],
   "source": [
    "os.rename(r'E:\\Github\\sample',r'E:\\Github\\testing')"
   ]
  },
  {
   "cell_type": "markdown",
   "id": "4cec79c3",
   "metadata": {},
   "source": [
    "__12) os.path.getsize(path):__"
   ]
  },
  {
   "cell_type": "code",
   "execution_count": 22,
   "id": "ec39b479",
   "metadata": {},
   "outputs": [
    {
     "data": {
      "text/plain": [
       "0"
      ]
     },
     "execution_count": 22,
     "metadata": {},
     "output_type": "execute_result"
    }
   ],
   "source": [
    "os.path.getsize(r'E:\\Github\\testing')"
   ]
  }
 ],
 "metadata": {
  "kernelspec": {
   "display_name": "Python 3 (ipykernel)",
   "language": "python",
   "name": "python3"
  },
  "language_info": {
   "codemirror_mode": {
    "name": "ipython",
    "version": 3
   },
   "file_extension": ".py",
   "mimetype": "text/x-python",
   "name": "python",
   "nbconvert_exporter": "python",
   "pygments_lexer": "ipython3",
   "version": "3.9.12"
  }
 },
 "nbformat": 4,
 "nbformat_minor": 5
}
