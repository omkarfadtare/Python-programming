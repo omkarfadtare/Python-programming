{
 "cells": [
  {
   "cell_type": "markdown",
   "id": "06ba8549",
   "metadata": {},
   "source": [
    "# glob module\n",
    "- glob module is used to find all pathnames matching a specified pattern. It allows you to search for files that match a specified pattern using wildcard characters.\n",
    "- This module is part of the python's standard library, so you don't need to install it separately.\n",
    "\n",
    "__Functions:__\n",
    "- __`glob.glob():`__ Returns a list of filenames in the current directory that match the pattern\n",
    "- __`glob.iglob():`__ Returns an iterator instead of a list.\n",
    "\n",
    "__Wildcards:__\n",
    "- __`*`__ Matches zero or more characters in a filename or directory name.\n",
    "- __`?`__ Matches a single character in a filename or directory name.\n",
    "- __`[]`__ Matches any character inside the brackets."
   ]
  },
  {
   "cell_type": "markdown",
   "id": "a8eb9234",
   "metadata": {},
   "source": [
    "__1) glob.glob('\\*.txt', recursive=True) / glob.glob('\\*\\*/*.txt', recursive=True)__"
   ]
  },
  {
   "cell_type": "code",
   "execution_count": 2,
   "id": "07b30645",
   "metadata": {},
   "outputs": [
    {
     "name": "stdout",
     "output_type": "stream",
     "text": [
      "['7.jpg', '8.jpg']\n"
     ]
    }
   ],
   "source": [
    "# Without using glob module\n",
    "\n",
    "import os\n",
    "files = os.listdir(r'E:\\Github\\Python\\28_Optical_character_recognition (OCR)\\Images')\n",
    "list1 = []\n",
    "for file in files:\n",
    "    if file.endswith('.jpg'):\n",
    "        list1.append(file)\n",
    "print(list1)"
   ]
  },
  {
   "cell_type": "code",
   "execution_count": 5,
   "id": "d139bb47",
   "metadata": {},
   "outputs": [
    {
     "data": {
      "text/plain": [
       "['E:\\\\Github\\\\Python\\\\28_Optical_character_recognition (OCR)\\\\Images\\\\7.jpg',\n",
       " 'E:\\\\Github\\\\Python\\\\28_Optical_character_recognition (OCR)\\\\Images\\\\8.jpg']"
      ]
     },
     "execution_count": 5,
     "metadata": {},
     "output_type": "execute_result"
    }
   ],
   "source": [
    "# Using glob module\n",
    "\n",
    "import glob\n",
    "glob.glob(r'E:\\Github\\Python\\28_Optical_character_recognition (OCR)\\Images\\*.jpg')"
   ]
  },
  {
   "cell_type": "code",
   "execution_count": 6,
   "id": "7b2376c4",
   "metadata": {},
   "outputs": [
    {
     "data": {
      "text/plain": [
       "['E:\\\\Github\\\\Python\\\\28_Optical_character_recognition (OCR)\\\\Images\\\\7.jpg',\n",
       " 'E:\\\\Github\\\\Python\\\\28_Optical_character_recognition (OCR)\\\\Images\\\\8.jpg']"
      ]
     },
     "execution_count": 6,
     "metadata": {},
     "output_type": "execute_result"
    }
   ],
   "source": [
    "glob.glob(r'E:\\Github\\Python\\28_Optical_character_recognition (OCR)\\Images\\[0-9]*.jpg') # regex pattern"
   ]
  },
  {
   "cell_type": "markdown",
   "id": "1d9b6a42",
   "metadata": {},
   "source": [
    "__Recursive file Search using double astricks**__\n",
    "- Meaning it will match any files and directories in the specified path and its subdirectories."
   ]
  },
  {
   "cell_type": "code",
   "execution_count": 7,
   "id": "67227f81",
   "metadata": {},
   "outputs": [
    {
     "data": {
      "text/plain": [
       "['E:\\\\Github\\\\Python\\\\28_Optical_character_recognition (OCR)\\\\Images\\\\7.jpg',\n",
       " 'E:\\\\Github\\\\Python\\\\28_Optical_character_recognition (OCR)\\\\Images\\\\8.jpg']"
      ]
     },
     "execution_count": 7,
     "metadata": {},
     "output_type": "execute_result"
    }
   ],
   "source": [
    "glob.glob(r'E:\\Github\\Python\\28_Optical_character_recognition (OCR)\\Images\\**\\*.jpg',recursive=True)"
   ]
  },
  {
   "cell_type": "markdown",
   "id": "b1ffbb99",
   "metadata": {},
   "source": [
    "__2) glob.iglob('\\*.txt', recursive=True):__"
   ]
  },
  {
   "cell_type": "code",
   "execution_count": 8,
   "id": "ddae50e5",
   "metadata": {},
   "outputs": [
    {
     "name": "stdout",
     "output_type": "stream",
     "text": [
      "E:\\Github\\Python\\28_Optical_character_recognition (OCR)\\Images\\7.jpg\n",
      "E:\\Github\\Python\\28_Optical_character_recognition (OCR)\\Images\\8.jpg\n",
      "\n",
      "That's it!! printed all\n"
     ]
    }
   ],
   "source": [
    "# Using try & except\n",
    "\n",
    "file = glob.iglob(r'E:\\Github\\Python\\28_Optical_character_recognition (OCR)\\Images\\**\\*.jpg',recursive=True)\n",
    "\n",
    "try:\n",
    "    print(next(file))\n",
    "    print(next(file))\n",
    "    print(next(file))\n",
    "    print(next(file))\n",
    "    print(next(file))\n",
    "    print(next(file))\n",
    "    print(next(file))\n",
    "except:\n",
    "    print()\n",
    "    print(\"That's it!! printed all\")"
   ]
  },
  {
   "cell_type": "code",
   "execution_count": 9,
   "id": "454fe9dc",
   "metadata": {},
   "outputs": [
    {
     "name": "stdout",
     "output_type": "stream",
     "text": [
      "E:\\Github\\Python\\28_Optical_character_recognition (OCR)\\Images\\7.jpg\n",
      "E:\\Github\\Python\\28_Optical_character_recognition (OCR)\\Images\\8.jpg\n",
      "\n",
      "That's it!! printed all\n"
     ]
    }
   ],
   "source": [
    "# Using while and exception handling\n",
    "\n",
    "file = glob.iglob(r'E:\\Github\\Python\\28_Optical_character_recognition (OCR)\\Images\\**\\*.jpg',recursive=True)\n",
    "\n",
    "while True:\n",
    "    try:\n",
    "        print(next(file))\n",
    "    except:\n",
    "        print()\n",
    "        print(\"That's it!! printed all\")   \n",
    "        break"
   ]
  }
 ],
 "metadata": {
  "kernelspec": {
   "display_name": "Python 3 (ipykernel)",
   "language": "python",
   "name": "python3"
  },
  "language_info": {
   "codemirror_mode": {
    "name": "ipython",
    "version": 3
   },
   "file_extension": ".py",
   "mimetype": "text/x-python",
   "name": "python",
   "nbconvert_exporter": "python",
   "pygments_lexer": "ipython3",
   "version": "3.9.12"
  }
 },
 "nbformat": 4,
 "nbformat_minor": 5
}
