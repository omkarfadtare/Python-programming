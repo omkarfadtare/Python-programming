{
 "cells": [
  {
   "cell_type": "markdown",
   "id": "9855feba",
   "metadata": {},
   "source": [
    "# shutil module\n",
    "- The shutil module is a short form for 'shell utility'. It is built on top of the OS module and it provides higher-level, more convenient functions for common file and directory operations. \n",
    "- It is used for file and directory management tasks, such as copying, moving, and deleting files.\n",
    "\n",
    "__Functions:__\n",
    "- __`shutil.copyfileobj():`__ Copies the contents of a file-like object (src_file) to another file-like object (dst_file). This function is particularly useful for efficiently copying large files.\n",
    "- __`shutil.copy():`__ Copies a file from the source (src) to the destination (dst) without worrying about timestamps.\n",
    "- __`shutil.copy2():`__ Copies a file from the source (src) to the destination (dst) with metadata and timestamps.\n",
    "- __`shutil.copyfile():`__ Copies the contents of the source file (src) to the destination file (dst). The main difference between shutil.copy() and shutil.copyfile() is that if we do not provide a new or destination file name shutil.copy() will create a file with same name as source file but shutil.copyfile() will raise an error.\n",
    "- __`shutil.move():`__ This method is used to move or rename files and directories. It allows you to change the location or name of a file or directory on your file system.\n",
    "- __`shutil.copytree():`__ Recursively copies an entire directory tree from the source to the destination.\n",
    "- __`shutil.rmtree():`__ Removes an entire directory tree, including all its contents. os.rmdir() requires an empty folder to delete the directory, but shutil.rmtree() do not."
   ]
  },
  {
   "cell_type": "markdown",
   "id": "ebbfff58",
   "metadata": {},
   "source": [
    "__1) shutil.copyfileobj(src, dst)__"
   ]
  },
  {
   "cell_type": "code",
   "execution_count": 2,
   "id": "d5e7473a",
   "metadata": {},
   "outputs": [],
   "source": [
    "import shutil"
   ]
  },
  {
   "cell_type": "code",
   "execution_count": 3,
   "id": "622ed900",
   "metadata": {},
   "outputs": [],
   "source": [
    "f1 = open('test1.txt','r')\n",
    "f2 = open('test2.txt','w') # test2 will get created\n",
    "\n",
    "shutil.copyfileobj(f1,f2) # test1 file content copied to test2\n",
    "f1.close()\n",
    "f2.close()"
   ]
  },
  {
   "cell_type": "markdown",
   "id": "519b21ce",
   "metadata": {},
   "source": [
    "__2) shutil.copy(src, dst)__"
   ]
  },
  {
   "cell_type": "code",
   "execution_count": 5,
   "id": "9c35ad95",
   "metadata": {},
   "outputs": [
    {
     "data": {
      "text/plain": [
       "'sample1.txt'"
      ]
     },
     "execution_count": 5,
     "metadata": {},
     "output_type": "execute_result"
    }
   ],
   "source": [
    "shutil.copy('test.txt','sample1.txt') # sample1.txt will get created automatically\n",
    "\n",
    "# we can provide path as well but as long as we are working in current working directory it is not required."
   ]
  },
  {
   "cell_type": "code",
   "execution_count": 4,
   "id": "520ba422",
   "metadata": {},
   "outputs": [
    {
     "data": {
      "text/plain": [
       "'E:\\\\Github\\\\Python\\\\sample.txt'"
      ]
     },
     "execution_count": 4,
     "metadata": {},
     "output_type": "execute_result"
    }
   ],
   "source": [
    "shutil.copy('test.txt',r'E:\\Github\\Python\\sample.txt')"
   ]
  },
  {
   "cell_type": "markdown",
   "id": "49c60c7f",
   "metadata": {},
   "source": [
    "__3) shutil.copy2(src, dst)__ "
   ]
  },
  {
   "cell_type": "code",
   "execution_count": 6,
   "id": "8aea777c",
   "metadata": {},
   "outputs": [
    {
     "data": {
      "text/plain": [
       "'sample2.txt'"
      ]
     },
     "execution_count": 6,
     "metadata": {},
     "output_type": "execute_result"
    }
   ],
   "source": [
    "shutil.copy2('test2.txt','sample2.txt') "
   ]
  },
  {
   "cell_type": "markdown",
   "id": "fe0f634a",
   "metadata": {},
   "source": [
    "__4) shutil.copyfile(src, dst)__"
   ]
  },
  {
   "cell_type": "code",
   "execution_count": 5,
   "id": "6bd41391",
   "metadata": {},
   "outputs": [
    {
     "data": {
      "text/plain": [
       "'E:\\\\Github\\\\Python\\\\demo.txt'"
      ]
     },
     "execution_count": 5,
     "metadata": {},
     "output_type": "execute_result"
    }
   ],
   "source": [
    "# New file created with demo1.txt name\n",
    "\n",
    "shutil.copyfile('test.txt',r'E:\\Github\\Python\\demo.txt')"
   ]
  },
  {
   "cell_type": "markdown",
   "id": "0faf857c",
   "metadata": {},
   "source": [
    "__5) shutil.move(src, dst)__"
   ]
  },
  {
   "cell_type": "code",
   "execution_count": 6,
   "id": "a3ace2a5",
   "metadata": {},
   "outputs": [
    {
     "data": {
      "text/plain": [
       "'E:\\\\Github\\\\Python\\\\28_Optical_character_recognition (OCR)\\\\Images\\\\test.txt'"
      ]
     },
     "execution_count": 6,
     "metadata": {},
     "output_type": "execute_result"
    }
   ],
   "source": [
    "shutil.move(r'E:\\Github\\Python\\test.txt',r'E:\\Github\\Python\\28_Optical_character_recognition (OCR)\\Images')"
   ]
  },
  {
   "cell_type": "markdown",
   "id": "8215b724",
   "metadata": {},
   "source": [
    "__6) shutill.copytree(src, dst)__"
   ]
  },
  {
   "cell_type": "code",
   "execution_count": 11,
   "id": "45ce7e29",
   "metadata": {},
   "outputs": [
    {
     "data": {
      "text/plain": [
       "'E:\\\\Github\\\\Python\\\\sample1\\\\temp\\\\xyz'"
      ]
     },
     "execution_count": 11,
     "metadata": {},
     "output_type": "execute_result"
    }
   ],
   "source": [
    "shutil.copytree(r'E:\\Github\\Python\\sample\\test', r'E:\\Github\\Python\\sample1\\temp\\xyz')"
   ]
  },
  {
   "cell_type": "markdown",
   "id": "18b286c2",
   "metadata": {},
   "source": [
    "__7) shutil.rmtree(path)__"
   ]
  },
  {
   "cell_type": "code",
   "execution_count": 12,
   "id": "9fd6bdf2",
   "metadata": {},
   "outputs": [],
   "source": [
    "shutil.rmtree(r'E:\\Github\\Python\\sample\\test')"
   ]
  }
 ],
 "metadata": {
  "kernelspec": {
   "display_name": "Python 3 (ipykernel)",
   "language": "python",
   "name": "python3"
  },
  "language_info": {
   "codemirror_mode": {
    "name": "ipython",
    "version": 3
   },
   "file_extension": ".py",
   "mimetype": "text/x-python",
   "name": "python",
   "nbconvert_exporter": "python",
   "pygments_lexer": "ipython3",
   "version": "3.9.12"
  }
 },
 "nbformat": 4,
 "nbformat_minor": 5
}
