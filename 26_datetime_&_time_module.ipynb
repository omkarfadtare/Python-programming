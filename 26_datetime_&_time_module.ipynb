{
 "cells": [
  {
   "cell_type": "markdown",
   "id": "18029502",
   "metadata": {},
   "source": [
    "# time & datetime module\n",
    "- The time & datetime modules are commonly used for working with time-related tasks.\n",
    "- The time module is focused on dealing with low level operations, measuring it in seconds, and providing basic functionality like sleeping or measuring time intervals. \n",
    "- The datetime module is designed for higher-level operations, allowing the representation and manipulation of dates and times in a more human-friendly way, and supporting more complex operations involving intervals and arithmetic on dates and times.\n",
    "\n",
    "__time Functions:__\n",
    "- __`time.time():`__ Returns the current time in seconds since the epoch (January 1, 1970).\n",
    "- __`time.sleep():`__ Suspends the execution of the program for the specified number of seconds.\n",
    "- __`time.ctime():`__ Converts a time in seconds to a string in a readable format.\n",
    "- __`time.gmtime():`__ Converts a time in seconds to a struct_time in UTC.\n",
    "- __`time.localtime():`__ Converts a time in seconds to a struct_time in local time.\n",
    "- __`time.strftime():`__ Formats a struct_time into a string according to the specified format.\n",
    "- __`time.strptime():`__ Parses a string representing a date and time according to the specified format and returns a struct_time.\n",
    "\n",
    "__datetime Functions:__\n",
    "- __`datetime.now() / datetime.today():`__ Returns a datetime object representing the current date and time.\n",
    "- __`datetime.today().date():`__ It will return the today's date\n",
    "- __`datetime.today().time():`__ It will return currentt time\n",
    "- __`datetime.strptime():`__ Parses a string representing a date and time according to the specified format.\n",
    "- __`datetime.strftime():`__ Formats a datetime object as a string according to the specified format.\n",
    "- __`datetime.timedelta():`__ It allows you to perform arithmetic operations with time, such as adding or subtracting time intervals from dates and times.\n",
    "- __`datetime.replace():`__ Returns a new datetime object with the specified values replaced.\n",
    "\n",
    "__Format codes:__\n",
    "- Date format codes used in strftime and strptime functions to format and parse dates and times.\n",
    "  - __`%a:`__ Abbreviated weekday name (e.g., Mon, Tue).\n",
    "  - __`%A:`__ Full weekday name (e.g., Monday, Tuesday).\n",
    "  - __`%b:`__ Abbreviated month name (e.g., Jan, Feb).\n",
    "  - __`%B:`__ Full month name (e.g., January, February).\n",
    "  - __`%c:`__ Locale-specific date and time representation.\n",
    "  - __`%d:`__ Day of the month as a two-digit number (e.g., 01, 31).\n",
    "  - __`%H:`__ Hour (24-hour clock) as a two-digit number (e.g., 00, 23).\n",
    "  - __`%I:`__ Hour (12-hour clock) as a two-digit number (e.g., 01, 12).\n",
    "  - __`%j:`__ Day of the year as a three-digit number (e.g., 001, 366).\n",
    "  - __`%m:`__ Month as a two-digit number (e.g., 01, 12).\n",
    "  - __`%M:`__ Minute as a two-digit number (e.g., 00, 59).\n",
    "  - __`%p:`__ AM or PM.\n",
    "  - __`%S:`__ Second as a two-digit number (e.g., 00, 61).\n",
    "  - __`%U:`__ Week number (considering sunday as the first day) as a two-digit number (e.g., 00, 53). Weeks before the first Sunday are considered week 0.\n",
    "  - __`%w:`__ Weekday as a number (0 for Sunday, 6 for Saturday).\n",
    "  - __`%W:`__ Week number (Monday as the first day) as a two-digit number (e.g., 00, 53). Weeks before the first Monday are considered week 0.\n",
    "  - __`%x:`__ Locale-specific date representation.\n",
    "  - __`%X:`__ Locale-specific time representation.\n",
    "  - __`%y:`__ Year without century as a two-digit number (e.g., 00, 99).\n",
    "  - __`%Y:`__ Year with century as a four-digit number. (e.g., 2002, 2003)\n",
    "  - __`%z:`__ Time zone offset (+HHMM or -HHMM).\n",
    "  - __`%Z:`__ Time zone name (empty if none, deprecated).\n",
    "  - __`%%:`__ A literal '%' character."
   ]
  },
  {
   "cell_type": "code",
   "execution_count": 1,
   "id": "f1414ed5",
   "metadata": {},
   "outputs": [],
   "source": [
    "import time"
   ]
  },
  {
   "cell_type": "markdown",
   "id": "2b77173e",
   "metadata": {},
   "source": [
    "__1) time.time():__"
   ]
  },
  {
   "cell_type": "code",
   "execution_count": 3,
   "id": "fab96fb4",
   "metadata": {},
   "outputs": [
    {
     "name": "stdout",
     "output_type": "stream",
     "text": [
      "1701949082.9962037\n"
     ]
    }
   ],
   "source": [
    "current_time = time.time()\n",
    "print(current_time)"
   ]
  },
  {
   "cell_type": "markdown",
   "id": "60362132",
   "metadata": {},
   "source": [
    "__2) time.sleep(seconds):__"
   ]
  },
  {
   "cell_type": "code",
   "execution_count": 6,
   "id": "3fb7cf3c",
   "metadata": {},
   "outputs": [
    {
     "name": "stdout",
     "output_type": "stream",
     "text": [
      "Hello!\n",
      "Welcome\n",
      "to\n",
      "the\n",
      "world\n",
      "of\n",
      "AI.\n"
     ]
    }
   ],
   "source": [
    "str1 = 'Hello! Welcome to the world of AI.'\n",
    "\n",
    "for i in str1.split():\n",
    "    time.sleep(2)\n",
    "    print(i)"
   ]
  },
  {
   "cell_type": "markdown",
   "id": "d712d83a",
   "metadata": {},
   "source": [
    "__3) time.ctime(seconds):__"
   ]
  },
  {
   "cell_type": "code",
   "execution_count": 10,
   "id": "989c6f08",
   "metadata": {},
   "outputs": [
    {
     "name": "stdout",
     "output_type": "stream",
     "text": [
      "1701949421.0527656\n",
      "Thu Dec  7 17:13:41 2023\n"
     ]
    }
   ],
   "source": [
    "current_time = time.time()\n",
    "print(current_time)\n",
    "\n",
    "readable_time = time.ctime(current_time)\n",
    "print(readable_time)"
   ]
  },
  {
   "cell_type": "markdown",
   "id": "7faeb94c",
   "metadata": {},
   "source": [
    "__4) time.gmtime(seconds):__"
   ]
  },
  {
   "cell_type": "code",
   "execution_count": 13,
   "id": "2739ee39",
   "metadata": {},
   "outputs": [
    {
     "name": "stdout",
     "output_type": "stream",
     "text": [
      "time.struct_time(tm_year=2023, tm_mon=12, tm_mday=7, tm_hour=11, tm_min=44, tm_sec=39, tm_wday=3, tm_yday=341, tm_isdst=0)\n"
     ]
    }
   ],
   "source": [
    "current_time = time.time()\n",
    "utc_time = time.gmtime(current_time)\n",
    "print(utc_time)"
   ]
  },
  {
   "cell_type": "markdown",
   "id": "642aab4e",
   "metadata": {},
   "source": [
    "__5) time.localtime(seconds):__"
   ]
  },
  {
   "cell_type": "code",
   "execution_count": 12,
   "id": "e625fb6d",
   "metadata": {},
   "outputs": [
    {
     "name": "stdout",
     "output_type": "stream",
     "text": [
      "time.struct_time(tm_year=2023, tm_mon=12, tm_mday=7, tm_hour=17, tm_min=14, tm_sec=21, tm_wday=3, tm_yday=341, tm_isdst=0)\n"
     ]
    }
   ],
   "source": [
    "current_time = time.time()\n",
    "local_time = time.localtime(current_time)\n",
    "print(local_time)"
   ]
  },
  {
   "cell_type": "markdown",
   "id": "bd59f01f",
   "metadata": {},
   "source": [
    "__6) time.strftime(format, struct_time):__"
   ]
  },
  {
   "cell_type": "code",
   "execution_count": 34,
   "id": "29f32655",
   "metadata": {},
   "outputs": [
    {
     "name": "stdout",
     "output_type": "stream",
     "text": [
      "<class 'str'>\n",
      "2023-12-07 17:40:52\n"
     ]
    }
   ],
   "source": [
    "current_time = time.localtime()\n",
    "formatted_time = time.strftime(\"%Y-%m-%d %H:%M:%S\", current_time)\n",
    "print(type(formatted_time))\n",
    "print(formatted_time)"
   ]
  },
  {
   "cell_type": "markdown",
   "id": "ddafa667",
   "metadata": {},
   "source": [
    "__7) time.strptime(date_string, format):__\n",
    "- Parses a string representing a date and time according to the specified format and returns a struct_time."
   ]
  },
  {
   "cell_type": "code",
   "execution_count": 35,
   "id": "32e74674",
   "metadata": {},
   "outputs": [
    {
     "name": "stdout",
     "output_type": "stream",
     "text": [
      "<class 'time.struct_time'>\n",
      "time.struct_time(tm_year=2023, tm_mon=12, tm_mday=7, tm_hour=15, tm_min=30, tm_sec=0, tm_wday=3, tm_yday=341, tm_isdst=-1)\n"
     ]
    }
   ],
   "source": [
    "date_string = \"2023-12-07 15:30:00\"\n",
    "parsed_time = time.strptime(date_string, \"%Y-%m-%d %H:%M:%S\")\n",
    "print(type(parsed_time))\n",
    "print(parsed_time)"
   ]
  },
  {
   "cell_type": "code",
   "execution_count": 19,
   "id": "23002c7b",
   "metadata": {},
   "outputs": [],
   "source": [
    "from datetime import datetime"
   ]
  },
  {
   "cell_type": "markdown",
   "id": "cf870fdc",
   "metadata": {},
   "source": [
    "__1) datetime.now() / datetime.today():__"
   ]
  },
  {
   "cell_type": "code",
   "execution_count": 29,
   "id": "5631262f",
   "metadata": {},
   "outputs": [
    {
     "name": "stdout",
     "output_type": "stream",
     "text": [
      "2023-12-07 17:36:45.464682\n"
     ]
    }
   ],
   "source": [
    "current_datetime = datetime.now()\n",
    "print(current_datetime)"
   ]
  },
  {
   "cell_type": "code",
   "execution_count": 30,
   "id": "83dffd14",
   "metadata": {},
   "outputs": [
    {
     "name": "stdout",
     "output_type": "stream",
     "text": [
      "2023-12-07 17:36:46.947696\n"
     ]
    }
   ],
   "source": [
    "current_datetime = datetime.today()\n",
    "print(current_datetime)"
   ]
  },
  {
   "cell_type": "markdown",
   "id": "5d774d39",
   "metadata": {},
   "source": [
    "__2) datetime.today().date():__ "
   ]
  },
  {
   "cell_type": "code",
   "execution_count": 25,
   "id": "dab36d42",
   "metadata": {},
   "outputs": [
    {
     "name": "stdout",
     "output_type": "stream",
     "text": [
      "2023-12-07\n"
     ]
    }
   ],
   "source": [
    "current_date = datetime.today().date()\n",
    "print(current_date)"
   ]
  },
  {
   "cell_type": "markdown",
   "id": "13b010be",
   "metadata": {},
   "source": [
    "__3) datetime.today().time():__"
   ]
  },
  {
   "cell_type": "code",
   "execution_count": 26,
   "id": "d40f01cb",
   "metadata": {},
   "outputs": [
    {
     "name": "stdout",
     "output_type": "stream",
     "text": [
      "17:35:08.097731\n"
     ]
    }
   ],
   "source": [
    "current_time = datetime.today().time()\n",
    "print(current_time)"
   ]
  },
  {
   "cell_type": "markdown",
   "id": "7560a974",
   "metadata": {},
   "source": [
    "__4) datetime.strptime(date_string, format):__"
   ]
  },
  {
   "cell_type": "code",
   "execution_count": 36,
   "id": "6237f1d1",
   "metadata": {},
   "outputs": [
    {
     "name": "stdout",
     "output_type": "stream",
     "text": [
      "<class 'datetime.datetime'>\n",
      "2023-12-07 15:30:00\n"
     ]
    }
   ],
   "source": [
    "date_string = \"2023-12-07 15:30:00\"\n",
    "parsed_datetime = datetime.strptime(date_string, \"%Y-%m-%d %H:%M:%S\")\n",
    "print(type(parsed_datetime))\n",
    "print(parsed_datetime)"
   ]
  },
  {
   "cell_type": "markdown",
   "id": "b1bbf1b7",
   "metadata": {},
   "source": [
    "__5) datetime.strftime(format):__"
   ]
  },
  {
   "cell_type": "code",
   "execution_count": 38,
   "id": "3d63614d",
   "metadata": {},
   "outputs": [
    {
     "name": "stdout",
     "output_type": "stream",
     "text": [
      "<class 'str'>\n",
      "2023-12-07 17:44:02\n"
     ]
    }
   ],
   "source": [
    "current_datetime = datetime.now()\n",
    "formatted_datetime = current_datetime.strftime(\"%Y-%m-%d %H:%M:%S\")\n",
    "print(type(formatted_datetime))\n",
    "print(formatted_datetime)"
   ]
  },
  {
   "cell_type": "markdown",
   "id": "e516700d",
   "metadata": {},
   "source": [
    "__6) datetime.timedelta():__"
   ]
  },
  {
   "cell_type": "code",
   "execution_count": 6,
   "id": "df40afb0",
   "metadata": {},
   "outputs": [
    {
     "name": "stdout",
     "output_type": "stream",
     "text": [
      "2022-12-20\n"
     ]
    }
   ],
   "source": [
    "# Adding days\n",
    "\n",
    "new_date = current_date + datetime.timedelta(days = 2) # positive >> next\n",
    "print(new_date)"
   ]
  },
  {
   "cell_type": "code",
   "execution_count": 7,
   "id": "cd58a86e",
   "metadata": {},
   "outputs": [
    {
     "name": "stdout",
     "output_type": "stream",
     "text": [
      "2022-12-16\n"
     ]
    }
   ],
   "source": [
    "# Substracting days\n",
    "\n",
    "new_date = current_date + datetime.timedelta(days = -2) # negative >> previous\n",
    "print(new_date)"
   ]
  },
  {
   "cell_type": "code",
   "execution_count": 8,
   "id": "d2a336d9",
   "metadata": {},
   "outputs": [
    {
     "name": "stdout",
     "output_type": "stream",
     "text": [
      "2022-12-25\n"
     ]
    }
   ],
   "source": [
    "# Adding weeks\n",
    "\n",
    "new_date = current_date + datetime.timedelta(weeks = 1) \n",
    "print(new_date)"
   ]
  },
  {
   "cell_type": "code",
   "execution_count": 9,
   "id": "81911459",
   "metadata": {},
   "outputs": [
    {
     "name": "stdout",
     "output_type": "stream",
     "text": [
      "2022-12-11\n"
     ]
    }
   ],
   "source": [
    "# Substracting weeks\n",
    "\n",
    "new_date = current_date + datetime.timedelta(weeks = -1) \n",
    "print(new_date)"
   ]
  },
  {
   "cell_type": "code",
   "execution_count": 10,
   "id": "54dfaba1",
   "metadata": {},
   "outputs": [
    {
     "name": "stdout",
     "output_type": "stream",
     "text": [
      "2022-12-18 02:39:27.652559\n"
     ]
    }
   ],
   "source": [
    "# Adding hours\n",
    "\n",
    "current_time = datetime.datetime.today()\n",
    "new_date = current_time + datetime.timedelta(hours = 2) \n",
    "print(new_date)"
   ]
  },
  {
   "cell_type": "code",
   "execution_count": 11,
   "id": "46c78937",
   "metadata": {},
   "outputs": [
    {
     "name": "stdout",
     "output_type": "stream",
     "text": [
      "2022-12-17 22:39:27.719024\n"
     ]
    }
   ],
   "source": [
    "# Substracting hours\n",
    "\n",
    "current_time = datetime.datetime.today()\n",
    "new_date = current_time + datetime.timedelta(hours = -2) \n",
    "print(new_date)"
   ]
  },
  {
   "cell_type": "code",
   "execution_count": 12,
   "id": "937581fc",
   "metadata": {},
   "outputs": [
    {
     "name": "stdout",
     "output_type": "stream",
     "text": [
      "2022-12-18 00:39:37.786370\n"
     ]
    }
   ],
   "source": [
    "# Adding seconds\n",
    "\n",
    "current_time = datetime.datetime.today()\n",
    "new_date = current_time + datetime.timedelta(seconds = 10) \n",
    "print(new_date)"
   ]
  },
  {
   "cell_type": "code",
   "execution_count": 13,
   "id": "3a3fb735",
   "metadata": {},
   "outputs": [
    {
     "name": "stdout",
     "output_type": "stream",
     "text": [
      "2022-12-18 00:39:17.851437\n"
     ]
    }
   ],
   "source": [
    "# Substracting seconds\n",
    "\n",
    "current_time = datetime.datetime.today()\n",
    "new_date = current_time + datetime.timedelta(seconds = -10) \n",
    "print(new_date)"
   ]
  },
  {
   "cell_type": "markdown",
   "id": "4be468b1",
   "metadata": {},
   "source": [
    "__7) datetime.replace(year, month, day, hour=0, minute=0, second=0, microsecond=0):__"
   ]
  },
  {
   "cell_type": "code",
   "execution_count": 39,
   "id": "648d01e0",
   "metadata": {},
   "outputs": [
    {
     "name": "stdout",
     "output_type": "stream",
     "text": [
      "2023-12-07 12:00:00.462300\n"
     ]
    }
   ],
   "source": [
    "current_datetime = datetime.now()\n",
    "updated_datetime = current_datetime.replace(hour=12, minute=0, second=0)\n",
    "print(updated_datetime)"
   ]
  }
 ],
 "metadata": {
  "kernelspec": {
   "display_name": "Python 3 (ipykernel)",
   "language": "python",
   "name": "python3"
  },
  "language_info": {
   "codemirror_mode": {
    "name": "ipython",
    "version": 3
   },
   "file_extension": ".py",
   "mimetype": "text/x-python",
   "name": "python",
   "nbconvert_exporter": "python",
   "pygments_lexer": "ipython3",
   "version": "3.9.12"
  }
 },
 "nbformat": 4,
 "nbformat_minor": 5
}
