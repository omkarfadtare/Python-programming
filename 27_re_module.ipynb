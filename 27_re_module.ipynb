{
 "cells": [
  {
   "cell_type": "markdown",
   "id": "f0fe4094",
   "metadata": {},
   "source": [
    "# re (Regualr expression) Module\n",
    "- A RegEx, or Regular Expression, is a sequence of characters that defines a search pattern. \n",
    "- It is a tool for pattern matching and string manipulation. Regular expressions are used to search, match, and manipulate text based on a specified pattern.\n",
    "\n",
    "__Properties of RegEx module:__\n",
    "- RegEx is a sequence of characters\n",
    "- It forms a search pattern\n",
    "- It is used to find a sequence of characters within a string\n",
    "- It extracts and manipulate them\n",
    "\n",
    "__`findall >> list;` `search >> object;` `match >> object;` `sub >> str`__\n",
    "\n",
    "__Functions:__\n",
    "- __`re.findall():`__ It returns all non-overlapping matches of the regular expression pattern as a list of strings.\n",
    "- __`re.search():`__ It searches for a single occurrence of the regular expression pattern in the string and returns a match object if found. It only returns the first occurrence.\n",
    "- __`re.match():`__ It checks if the regular expression pattern matches at the beginning of the string. If there is a match, it returns a match object; otherwise, it returns None.\n",
    "- __`re.sub():`__ It replaces occurrences of the regular expression pattern with a specified replacement and returns the modified string.\n",
    "- __`re.split():`__ It splits the string based on occurrences of the regular expression pattern. The resulting substrings are returned as a list.\n",
    "- __`re.compile():`__ It compiles a regular expression pattern into a regular expression object, which can then be used for matching using its match(), search(), and other methods. Compiling the regular expression can provide performance benefits if the same pattern is used multiple times.\n",
    "\n",
    "__Brackets:__ \n",
    "- __`[]:`__ Using square brackets, we can include a variety of characters (letters, special characters, numbers, whitespace characters). The regular expression will search through and select one that matches the specified pattern. Square brackets are a way to create a custom list of characters, indicating a set of possibilities. Inside these square brackets, special characters lose their special meaning. ex. [0-9], [a-z], [a-zA-Z]\n",
    "- __`{}:`__ Curly brackets specify the quantity of a particular element, and they can also be used to denote a range. For instance, the notation {m,n} causes the resulting regular expression to match from 'm' to 'n' repetitions of the preceding pattern or character.\n",
    "- __`():`__ Parentheses are used for grouping in regular expressions. They allow you to apply quantifiers to a group of characters as a whole. \n",
    "\n",
    "__Special Escape sequence:__\n",
    "\n",
    "- __`\\d:`__ Matches any single digit. __[\\d == [0-9]]__\n",
    "- __`\\D:`__ Matches any single character that is not a digit. __[\\D == [^0-9]]__\n",
    "- __`\\s:`__ Matches any whitespace character, including spaces, tabs (\\t), newlines (\\n), and other whitespace characters. __[\\s == \\t\\n]__\n",
    "- __`\\S:`__ Matches any non-whitespace character. __[\\S == [^ \\t\\n\\r\\f\\v]]__\n",
    "- __`\\w:`__ Matches any word character, which includes letters (both uppercase and lowercase), digits, and the underscore. __[\\w == [a-zA-Z0-9_]]__\n",
    "- __`\\W:`__ Matches any non-word character, excluding letters, digits, and the underscore. __[\\W == [^a-zA-Z0-9_]]__\n",
    "- __`\\b:`__ It will check for characters at the beginning of a word or end of a word or we can say it matches word boundary. \n",
    "\n",
    "__Special characters:__\n",
    "\n",
    "- __`'+' (plus):`__ Matches one or more occurrences of the preceding regular expression..\n",
    "- __`'\\*' (star):`__ Matches zero or more occurrences of the preceding regular expression.\n",
    "- __`'.' (dot):`__ Matches any character except a newline. However, if the DOTALL flag is specified, it matches any character, including a newline.\n",
    "- __`'?' (question mark):`__ Indicates that the preceding element is optional, matching either zero or one occurrence.\n",
    "- __`'^' (caret/startswith):`__ Matches the start of the string. In MULTILINE mode, it also matches immediately after each newline.\n",
    "- __`'$' (dollar/endswith):`__  Matches the end of the string. In MULTILINE mode, it also matches just before a newline.\n",
    "- __`'|' (or):`__ Creates a RE that will match either the pattern before or after the pipe symbol."
   ]
  },
  {
   "cell_type": "code",
   "execution_count": 1,
   "id": "34f925d5",
   "metadata": {},
   "outputs": [],
   "source": [
    "import re"
   ]
  },
  {
   "cell_type": "markdown",
   "id": "5a3156cc",
   "metadata": {},
   "source": [
    "__1) re.findall(pattern, string)__"
   ]
  },
  {
   "cell_type": "code",
   "execution_count": 2,
   "id": "90256247",
   "metadata": {},
   "outputs": [
    {
     "name": "stdout",
     "output_type": "stream",
     "text": [
      "['8', '9', '8', '3', '7', '4', '3', '9', '6', '8', '1', '1', '1', '0', '3', '0', '6', '2', '0', '2', '2']\n",
      "21\n"
     ]
    }
   ],
   "source": [
    "# Accessing numbers [0-9]\n",
    "\n",
    "text1 = \"\"\" My mobile Number is 8983743968\n",
    "            My email id is: fadtareomkar111@gmail.com\n",
    "            Today's date is: 03/06/2022 \"\"\"\n",
    "\n",
    "result = re.findall('[0-9]{1}',text1) # [condition] and {count you want}\n",
    "print(result)\n",
    "print(len(result))"
   ]
  },
  {
   "cell_type": "code",
   "execution_count": 3,
   "id": "16d0b479",
   "metadata": {},
   "outputs": [
    {
     "name": "stdout",
     "output_type": "stream",
     "text": [
      "['89', '83', '74', '39', '68', '11', '03', '06', '20', '22']\n",
      "10\n"
     ]
    }
   ],
   "source": [
    "text1 = \"\"\" My mobile Number is 8983743968\n",
    "            My email id is: fadtareomkar111@gmail.com\n",
    "            Today's date is: 03/06/2022 \"\"\"\n",
    "\n",
    "result = re.findall('[0-9]{2}',text1) # [condition] and {count you want}\n",
    "print(result) # it will search for continue count\n",
    "print(len(result))"
   ]
  },
  {
   "cell_type": "code",
   "execution_count": 4,
   "id": "f2debcf6",
   "metadata": {},
   "outputs": [
    {
     "name": "stdout",
     "output_type": "stream",
     "text": [
      "['8983743968']\n",
      "1\n"
     ]
    }
   ],
   "source": [
    "text1 = \"\"\" My mobile Number is 8983743968\n",
    "            My email id is: fadtareomkar111@gmail.com\n",
    "            Today's date is: 03/06/2022 \"\"\"\n",
    "\n",
    "result = re.findall('[0-9]{10}',text1) # [condition] and {count you want}\n",
    "print(result)\n",
    "print(len(result))"
   ]
  },
  {
   "cell_type": "code",
   "execution_count": 5,
   "id": "252142e5",
   "metadata": {},
   "outputs": [
    {
     "name": "stdout",
     "output_type": "stream",
     "text": [
      "['3', '4', '3', '1', '1', '1', '0', '3', '0', '2', '0', '2', '2']\n",
      "13\n"
     ]
    }
   ],
   "source": [
    "text1 = \"\"\" My mobile Number is 8983743968\n",
    "            My email id is: fadtareomkar111@gmail.com\n",
    "            Today's date is: 03/06/2022 \"\"\"\n",
    "\n",
    "result = re.findall('[0-5]{1}',text1) # [condition] and {count you want}\n",
    "print(result)\n",
    "print(len(result))"
   ]
  },
  {
   "cell_type": "code",
   "execution_count": 6,
   "id": "f0cc8e0b",
   "metadata": {},
   "outputs": [
    {
     "name": "stdout",
     "output_type": "stream",
     "text": [
      "['3', '4', '3', '1', '1', '1', '0', '3', '0', '2', '0', '2', '2']\n",
      "13\n"
     ]
    }
   ],
   "source": [
    "text1 = \"\"\" My mobile Number is 8983743968\n",
    "            My email id is: fadtareomkar111@gmail.com\n",
    "            Today's date is: 03/06/2022 \"\"\"\n",
    "\n",
    "result = re.findall('[012345]{1}',text1) # [condition] and {count you want}\n",
    "print(result)\n",
    "print(len(result))"
   ]
  },
  {
   "cell_type": "code",
   "execution_count": 7,
   "id": "f2b801a7",
   "metadata": {},
   "outputs": [
    {
     "name": "stdout",
     "output_type": "stream",
     "text": [
      "['y', 'm', 'o', 'b', 'i', 'l', 'e', 'u', 'm', 'b', 'e', 'r', 'i', 's', 'y', 'e', 'm', 'a', 'i', 'l', 'i', 'd', 'i', 's', 'f', 'a', 'd', 't', 'a', 'r', 'e', 'o', 'm', 'k', 'a', 'r', 'g', 'm', 'a', 'i', 'l', 'c', 'o', 'm', 'o', 'd', 'a', 'y', 's', 'd', 'a', 't', 'e', 'i', 's']\n",
      "55\n"
     ]
    }
   ],
   "source": [
    "# Accessing lower characters [a-z]\n",
    "\n",
    "text1 = \"\"\" My mobile Number is 8983743968\n",
    "            My email id is: fadtareomkar111@gmail.com\n",
    "            Today's date is: 03/06/2022 \"\"\"\n",
    "\n",
    "result = re.findall('[a-z]{1}',text1) # [condition] and {count you want}\n",
    "print(result)\n",
    "print(len(result))"
   ]
  },
  {
   "cell_type": "code",
   "execution_count": 8,
   "id": "44b5b716",
   "metadata": {},
   "outputs": [
    {
     "name": "stdout",
     "output_type": "stream",
     "text": [
      "['mob', 'ile', 'umb', 'ema', 'fad', 'tar', 'eom', 'kar', 'gma', 'com', 'oda', 'dat']\n",
      "12\n"
     ]
    }
   ],
   "source": [
    "text1 = \"\"\" My mobile Number is 8983743968\n",
    "            My email id is: fadtareomkar111@gmail.com\n",
    "            Today's date is: 03/06/2022 \"\"\"\n",
    "\n",
    "result = re.findall('[a-z]{3}',text1) # [condition] and {count you want}\n",
    "print(result)\n",
    "print(len(result))"
   ]
  },
  {
   "cell_type": "code",
   "execution_count": 9,
   "id": "c4029b3d",
   "metadata": {},
   "outputs": [
    {
     "name": "stdout",
     "output_type": "stream",
     "text": [
      "['be', 'fa', 'da', 'da']\n",
      "4\n"
     ]
    }
   ],
   "source": [
    "text1 = \"\"\" My mobile Number is 8983743968\n",
    "            My email id is: fadtareomkar111@gmail.com\n",
    "            Today's date is: 03/06/2022 \"\"\"\n",
    "\n",
    "result = re.findall('[abcdefg]{2}',text1) # [condition] and {count you want}\n",
    "print(result)\n",
    "print(len(result))"
   ]
  },
  {
   "cell_type": "code",
   "execution_count": 10,
   "id": "80e6c34b",
   "metadata": {},
   "outputs": [
    {
     "name": "stdout",
     "output_type": "stream",
     "text": [
      "['fad']\n",
      "1\n"
     ]
    }
   ],
   "source": [
    "text1 = \"\"\" My mobile Number is 8983743968\n",
    "            My email id is: fadtareomkar111@gmail.com\n",
    "            Today's date is: 03/06/2022 \"\"\"\n",
    "\n",
    "result = re.findall('[abcdefg]{3}',text1) # [condition] and {count you want}\n",
    "print(result)\n",
    "print(len(result))"
   ]
  },
  {
   "cell_type": "code",
   "execution_count": 11,
   "id": "f78c8f71",
   "metadata": {},
   "outputs": [
    {
     "name": "stdout",
     "output_type": "stream",
     "text": [
      "['M', 'N', 'M', 'T']\n",
      "4\n"
     ]
    }
   ],
   "source": [
    "# Accessing upper characters [A-Z]\n",
    "\n",
    "text1 = \"\"\" My mobile Number is 8983743968\n",
    "            My email id is: fadtareomkar111@gmail.com\n",
    "            Today's date is: 03/06/2022 \"\"\"\n",
    "\n",
    "result = re.findall('[A-Z]{1}',text1) # [condition] and {count you want}\n",
    "print(result)\n",
    "print(len(result))"
   ]
  },
  {
   "cell_type": "code",
   "execution_count": 12,
   "id": "ee58de94",
   "metadata": {},
   "outputs": [
    {
     "name": "stdout",
     "output_type": "stream",
     "text": [
      "['M', 'y', 'm', 'o', 'b', 'i', 'l', 'e', 'N', 'u', 'm', 'b', 'e', 'r', 'i', 's', 'M', 'y', 'e', 'm', 'a', 'i', 'l', 'i', 'd', 'i', 's', 'f', 'a', 'd', 't', 'a', 'r', 'e', 'o', 'm', 'k', 'a', 'r', 'g', 'm', 'a', 'i', 'l', 'c', 'o', 'm', 'T', 'o', 'd', 'a', 'y', 's', 'd', 'a', 't', 'e', 'i', 's']\n",
      "59\n"
     ]
    }
   ],
   "source": [
    "# Accessing lower & upper characters [A-Za-z]\n",
    "\n",
    "text1 = \"\"\" My mobile Number is 8983743968\n",
    "            My email id is: fadtareomkar111@gmail.com\n",
    "            Today's date is: 03/06/2022 \"\"\"\n",
    "\n",
    "result = re.findall('[A-Za-z]{1}',text1) # [condition] and {count you want}\n",
    "print(result)\n",
    "print(len(result))"
   ]
  },
  {
   "cell_type": "code",
   "execution_count": 13,
   "id": "3df7bfe0",
   "metadata": {},
   "outputs": [
    {
     "name": "stdout",
     "output_type": "stream",
     "text": [
      "['M', 'y', 'm', 'o', 'b', 'i', 'l', 'e', 'N', 'u', 'm', 'b', 'e', 'r', 'i', 's', '8', '9', '8', '3', '7', '4', '3', '9', '6', '8', 'M', 'y', 'e', 'm', 'a', 'i', 'l', 'i', 'd', 'f', 'a', 'd', 't', 'a', 'r', 'e', 'o', 'm', 'k', 'a', 'r', '1', '1', '1', 'g', 'm', 'a', 'i', 'l', 'c', 'o', 'm', 'T', 'o', 'd', 'a', 'y', 's', 'd', 'a', 't', 'e', '0', '3', '0', '6', '2', '0', '2', '2']\n",
      "76\n"
     ]
    }
   ],
   "source": [
    "# Accessing lower, upper characters & numbers [A-Za-z0-9]\n",
    "\n",
    "text1 = \"\"\" My mobile Number is 8983743968\n",
    "            My email id : fadtareomkar111@gmail.com\n",
    "            Today's date : 03/06/2022 \"\"\"\n",
    "\n",
    "result = re.findall('[A-Za-z0-9]{1}',text1) # [condition] and {count you want}\n",
    "print(result)\n",
    "print(len(result))"
   ]
  },
  {
   "cell_type": "code",
   "execution_count": 14,
   "id": "46ce6724",
   "metadata": {},
   "outputs": [
    {
     "name": "stdout",
     "output_type": "stream",
     "text": [
      "['omkar111@gmail.com']\n",
      "1\n"
     ]
    }
   ],
   "source": [
    "text1 = \"\"\" My mobile Number is 8983743968\n",
    "            My email id : fadtareomkar111@gmail.com\n",
    "            Today's date : 03/06/2022 \"\"\"\n",
    "\n",
    "result = re.findall('[a-z]{5}[0-9]{0,3}[@]{1}[a-z.]{4,10}',text1) # [condition] and {count you want}\n",
    "print(result)\n",
    "print(len(result))"
   ]
  },
  {
   "cell_type": "code",
   "execution_count": 15,
   "id": "bc2c44cd",
   "metadata": {},
   "outputs": [
    {
     "name": "stdout",
     "output_type": "stream",
     "text": [
      "['fadtareomkar111@gmail.com']\n",
      "1\n"
     ]
    }
   ],
   "source": [
    "# See the differnece between above and this example\n",
    "\n",
    "text1 = \"\"\" My mobile Number is 8983743968\n",
    "            My email id is: fadtareomkar111@gmail.com\n",
    "            Today's date is: 03/06/2022 \"\"\"\n",
    "\n",
    "result = re.findall('[a-z]{,155}[0-9]{0,3}[@]{1}[a-z.]{4,10}',text1) \n",
    "print(result)\n",
    "print(len(result))"
   ]
  },
  {
   "cell_type": "code",
   "execution_count": 16,
   "id": "c2ce588e",
   "metadata": {},
   "outputs": [
    {
     "name": "stdout",
     "output_type": "stream",
     "text": [
      "['viratkohli@infosys.com', 'viratkohli123@gmail.com', 'virat_kohli123@gmail.com', 'virat.kohli@gmail.com', 'virat_kohli_123@gov.co.in', 'virat_kohli_123@coep.edu.in', 'hr@capgemini.com']\n",
      "7\n"
     ]
    }
   ],
   "source": [
    "text = \"\"\" My email id is: viratkohli@infosys.com\n",
    "                           viratkohli123@gmail.com\n",
    "                           virat_kohli123@gmail.com\n",
    "                           virat.kohli@gmail.com\n",
    "                           virat_kohli_123@gov.co.in\n",
    "                           virat_kohli_123@coep.edu.in\n",
    "                           hr@capgemini.com \"\"\"\n",
    "\n",
    "email_id = re.findall('[a-z_.]{2,20}[0-9]{0,4}[@]{1}[a-z.]{5,20}',text)\n",
    "print(email_id)\n",
    "print(len(email_id))"
   ]
  },
  {
   "cell_type": "code",
   "execution_count": 17,
   "id": "81dfc28d",
   "metadata": {},
   "outputs": [
    {
     "data": {
      "text/plain": [
       "['1234 2345 0987', '4567 2345 0987']"
      ]
     },
     "execution_count": 17,
     "metadata": {},
     "output_type": "execute_result"
    }
   ],
   "source": [
    "# Accessing aadhar card number\n",
    "\n",
    "text = \"\"\" 1234 245 0978    \n",
    "           1234 2345 0987    \n",
    "           4567 2345 0987678    \n",
    "           1234 2345 987 \"\"\"\n",
    "\n",
    "aadhar_num = re.findall('[0-9]{4}[ ][0-9]{4}[ ][0-9]{4}',text)\n",
    "aadhar_num"
   ]
  },
  {
   "cell_type": "code",
   "execution_count": 18,
   "id": "17cfc48a",
   "metadata": {},
   "outputs": [
    {
     "data": {
      "text/plain": [
       "['ASDFB0987P', 'POIUY3456T']"
      ]
     },
     "execution_count": 18,
     "metadata": {},
     "output_type": "execute_result"
    }
   ],
   "source": [
    "# Accessing pan card number\n",
    "\n",
    "text = \"\"\" ASDFB0987P\n",
    "           RTYUI65780\n",
    "           POIUY3456T \"\"\"\n",
    "pan_num = re.findall('[A-Z]{5}[0-9]{4}[A-Z]',text)\n",
    "pan_num"
   ]
  },
  {
   "cell_type": "code",
   "execution_count": 19,
   "id": "4eecc71d",
   "metadata": {},
   "outputs": [
    {
     "data": {
      "text/plain": [
       "['01/03/2022', '28/02/2022', '08-02-2022', '25/05/2022']"
      ]
     },
     "execution_count": 19,
     "metadata": {},
     "output_type": "execute_result"
    }
   ],
   "source": [
    "# Accessing dates \n",
    "\n",
    "text = \"\"\" ASDFB0987P\n",
    "           RTYUI65780\n",
    "           POIUY3456T\n",
    "           \n",
    "           Dates:\n",
    "           01/03/2022\n",
    "           28/02/2022\n",
    "           08-02-2022\n",
    "           25/05/2022 \"\"\"\n",
    "dates = re.findall('[0-9]{2}[/-][0-9]{2}[/-][0-9]{4}',text)\n",
    "dates"
   ]
  },
  {
   "cell_type": "code",
   "execution_count": 20,
   "id": "00455e49",
   "metadata": {},
   "outputs": [
    {
     "data": {
      "text/plain": [
       "['01/03/2022', '28/02/2022', '08-02-2022', '25/05/2022']"
      ]
     },
     "execution_count": 20,
     "metadata": {},
     "output_type": "execute_result"
    }
   ],
   "source": [
    "text = \"\"\" ASDFB0987P\n",
    "           RTYUI65780\n",
    "           POIUY3456T\n",
    "        \n",
    "           Dates:\n",
    "           01/03/2022\n",
    "           28/02/2022\n",
    "           08-02-2022\n",
    "           25/05/2022\n",
    "           40-08-2021 \"\"\"\n",
    "dates = re.findall('[0-3][0-9][/-][0-9]{2}[/-][0-9]{4}',text)\n",
    "dates"
   ]
  },
  {
   "cell_type": "markdown",
   "id": "a0c8dbc7",
   "metadata": {},
   "source": [
    "__\\d == [0-9]__"
   ]
  },
  {
   "cell_type": "code",
   "execution_count": 21,
   "id": "8045c8c4",
   "metadata": {},
   "outputs": [
    {
     "name": "stdout",
     "output_type": "stream",
     "text": [
      "['8983743968']\n",
      "1\n"
     ]
    }
   ],
   "source": [
    "text1 = \"\"\" My mobile Number is 8983743968\n",
    "            My email id : fadtareomkar111@gmail.com\n",
    "            Today's date : 03/06/2022 \"\"\"\n",
    "\n",
    "result = re.findall('[\\d]{10}',text1)\n",
    "print(result)\n",
    "print(len(result))"
   ]
  },
  {
   "cell_type": "markdown",
   "id": "1afb0c73",
   "metadata": {},
   "source": [
    "__\\D == [^0-9]__"
   ]
  },
  {
   "cell_type": "code",
   "execution_count": 22,
   "id": "d15c3a70",
   "metadata": {},
   "outputs": [
    {
     "name": "stdout",
     "output_type": "stream",
     "text": [
      "[' M', 'y ', 'mo', 'bi', 'le', ' N', 'um', 'be', 'r ', 'is', '\\n ', '  ', '  ', '  ', '  ', '  ', ' M', 'y ', 'em', 'ai', 'l ', 'id', ' :', ' f', 'ad', 'ta', 're', 'om', 'ka', '@g', 'ma', 'il', '.c', 'om', '\\n ', '  ', '  ', '  ', '  ', '  ', ' T', 'od', 'ay', \"'s\", ' d', 'at', 'e ', ': ']\n",
      "48\n"
     ]
    }
   ],
   "source": [
    "text1 = \"\"\" My mobile Number is 8983743968\n",
    "            My email id : fadtareomkar111@gmail.com\n",
    "            Today's date : 03/06/2022 \"\"\"\n",
    "\n",
    "result = re.findall('[\\D]{2}',text1)\n",
    "print(result)\n",
    "print(len(result))"
   ]
  },
  {
   "cell_type": "markdown",
   "id": "909d801b",
   "metadata": {},
   "source": [
    "__\\s == \\t\\n__"
   ]
  },
  {
   "cell_type": "code",
   "execution_count": 23,
   "id": "8f8ab179",
   "metadata": {},
   "outputs": [
    {
     "data": {
      "text/plain": [
       "['1234 2345 0987', '4567 2345 0987']"
      ]
     },
     "execution_count": 23,
     "metadata": {},
     "output_type": "execute_result"
    }
   ],
   "source": [
    "text = \"\"\" 1234 245 0978    \n",
    "           1234 2345 0987    \n",
    "           4567 2345 0987678    \n",
    "           1234 2345 987 \"\"\"\n",
    "aadhar = re.findall('[\\d]{4}[\\s]{1}[\\d]{4}[\\s]{1}[\\d]{4}',text)\n",
    "aadhar"
   ]
  },
  {
   "cell_type": "code",
   "execution_count": 24,
   "id": "a7f0cc82",
   "metadata": {},
   "outputs": [
    {
     "data": {
      "text/plain": [
       "['1234 2345 0987', '4567 2345 0987']"
      ]
     },
     "execution_count": 24,
     "metadata": {},
     "output_type": "execute_result"
    }
   ],
   "source": [
    "text = \"\"\" 1234 245 0978    \n",
    "           1234 2345 0987    \n",
    "           4567 2345 0987678    \n",
    "           1234 2345 987 \"\"\"\n",
    "aadhar = re.findall('\\d{4}\\s{1}\\d{4}\\s{1}\\d{4}',text) # square braket is not neccesary while using special sequence but while specifying [a-z] it is necessary\n",
    "aadhar"
   ]
  },
  {
   "cell_type": "markdown",
   "id": "95343cbb",
   "metadata": {},
   "source": [
    "__\\S == [^ \\t\\n\\r\\f\\v]__"
   ]
  },
  {
   "cell_type": "code",
   "execution_count": 25,
   "id": "41752d22",
   "metadata": {
    "scrolled": true
   },
   "outputs": [
    {
     "data": {
      "text/plain": [
       "['A',\n",
       " 'S',\n",
       " 'D',\n",
       " 'F',\n",
       " 'B',\n",
       " '0',\n",
       " '9',\n",
       " '8',\n",
       " '7',\n",
       " 'P',\n",
       " 'R',\n",
       " 'T',\n",
       " 'Y',\n",
       " 'U',\n",
       " 'I',\n",
       " '6',\n",
       " '5',\n",
       " '7',\n",
       " '8',\n",
       " '0',\n",
       " 'P',\n",
       " 'O',\n",
       " 'I',\n",
       " 'U',\n",
       " 'Y',\n",
       " '3',\n",
       " '4',\n",
       " '5',\n",
       " '6',\n",
       " 'T',\n",
       " '1',\n",
       " '2',\n",
       " '3',\n",
       " '4',\n",
       " '2',\n",
       " '3',\n",
       " '4',\n",
       " '5',\n",
       " '0',\n",
       " '9',\n",
       " '8',\n",
       " '7']"
      ]
     },
     "execution_count": 25,
     "metadata": {},
     "output_type": "execute_result"
    }
   ],
   "source": [
    "text = \"\"\" ASDFB0987P\n",
    "           RTYUI65780\n",
    "           POIUY3456T\n",
    "           1234 2345 0987 \"\"\"\n",
    "pan_num = re.findall('\\S',text)\n",
    "pan_num"
   ]
  },
  {
   "cell_type": "markdown",
   "id": "50450d6c",
   "metadata": {},
   "source": [
    "__\\w == [a-zA-Z0-9_]__"
   ]
  },
  {
   "cell_type": "code",
   "execution_count": 26,
   "id": "8171b968",
   "metadata": {},
   "outputs": [
    {
     "name": "stdout",
     "output_type": "stream",
     "text": [
      "['Data', 'science', 'is', 'the', 'domain', 'of', 'study', 'that', 'deals', 'with', 'vast', 'volumes', 'of', 'data', 'using', 'modern', 'tools', 'and', 'technique', 'to', 'find', 'unseen', 'patterns', 'derive', 'meaningfu', 'informati', 'on', 'and', 'make', 'business', 'decisions', 'Data', 'science', 'uses', 'complex', 'machine', 'learning', 'algorithm', 'to', 'build', 'predictiv', 'models', 'ASDFB0987', 'RTYUI6578', 'POIUY3456', '1234', '2345', '0987']\n"
     ]
    }
   ],
   "source": [
    "text = \"\"\" Data science is the domain of study that deals with vast volumes of data using modern tools and \n",
    "           techniques to find unseen patterns, derive meaningful information, \n",
    "           and make business decisions. Data science uses complex machine learning algorithms to build predictive models.\n",
    "           ASDFB0987P\n",
    "           RTYUI65780\n",
    "           POIUY3456T\n",
    "           1234 2345 0987 \"\"\"\n",
    "\n",
    "result = re.findall('\\w{2,9}',text)\n",
    "print(result)"
   ]
  },
  {
   "cell_type": "markdown",
   "id": "e58f507d",
   "metadata": {},
   "source": [
    "__\\W == [^a-zA-Z0-9_]__"
   ]
  },
  {
   "cell_type": "code",
   "execution_count": 27,
   "id": "21a6b690",
   "metadata": {},
   "outputs": [
    {
     "name": "stdout",
     "output_type": "stream",
     "text": [
      "[' ', ' ', ' ', ' ', ' ', ' ', ' ', ' ', ' ', ' ', ' ', ' ', ' ', ' ', '\\n', ' ', ' ', ' ', ' ', ' ', ' ', ' ', ' ', ' ', ' ', ' ', '@', '\\n', ' ', ' ', ' ', ' ', ' ', ' ', ' ', ' ', ' ', ' ', ' ', '&', '\\n', ' ', ' ', ' ', ' ', ' ', ' ', ' ', ' ', ' ', ' ', ' ', ' ', ' ', '*', ' ']\n"
     ]
    }
   ],
   "source": [
    "text = \"\"\" Data science is the domain of study that deals with vast volumes of data\n",
    "           RTYUI65780@\n",
    "           POIUY3456T&\n",
    "           1234 2345 0987* \"\"\"\n",
    "\n",
    "result = re.findall('\\W',text)\n",
    "print(result)"
   ]
  },
  {
   "cell_type": "markdown",
   "id": "9f80dca3",
   "metadata": {},
   "source": [
    "__\\b__"
   ]
  },
  {
   "cell_type": "code",
   "execution_count": 28,
   "id": "2c47b2ad",
   "metadata": {},
   "outputs": [
    {
     "data": {
      "text/plain": [
       "[]"
      ]
     },
     "execution_count": 28,
     "metadata": {},
     "output_type": "execute_result"
    }
   ],
   "source": [
    "text = \"\"\"Bank IFSC Code is :\n",
    "          HDFC0009873\n",
    "          9736467483926\n",
    "          9876543218\n",
    "          ASDFG5678PA\n",
    "          ASDSDVFHDBD5566POIUYY\n",
    "          HGHSBMHSD4567XBCBXJHCXCMX\"\"\"\n",
    "\n",
    "pan_num = re.findall(r'\\b[A-Z]{5}\\d{4}[A-Z]\\b',text)\n",
    "pan_num"
   ]
  },
  {
   "cell_type": "code",
   "execution_count": 29,
   "id": "eeafcd15",
   "metadata": {},
   "outputs": [
    {
     "data": {
      "text/plain": [
       "['9876543218']"
      ]
     },
     "execution_count": 29,
     "metadata": {},
     "output_type": "execute_result"
    }
   ],
   "source": [
    "text = \"\"\"Bank IFSC Code is :\n",
    "          HDFC0009873\n",
    "          9736467483926\n",
    "          9876543218\n",
    "          ASDFG5678PA\n",
    "          ASDSDVFHDBD5566POIUYY\n",
    "          HGHSBMHSD4567XBCBXJHCXCMX\"\"\"\n",
    "\n",
    "pan_num = re.findall(r'\\b\\d{10}\\b',text)\n",
    "pan_num"
   ]
  },
  {
   "cell_type": "code",
   "execution_count": 30,
   "id": "514f3572",
   "metadata": {},
   "outputs": [
    {
     "data": {
      "text/plain": [
       "['ne']"
      ]
     },
     "execution_count": 30,
     "metadata": {},
     "output_type": "execute_result"
    }
   ],
   "source": [
    "text = \"This is pune \"\n",
    "output = re.findall(r'ne\\b',text)\n",
    "output"
   ]
  },
  {
   "cell_type": "code",
   "execution_count": 31,
   "id": "7b3047aa",
   "metadata": {},
   "outputs": [
    {
     "data": {
      "text/plain": [
       "['9876543218']"
      ]
     },
     "execution_count": 31,
     "metadata": {},
     "output_type": "execute_result"
    }
   ],
   "source": [
    "text = \"\"\"Bank IFSC Code is :\n",
    "          HDFC0009873\n",
    "          9736467483926\n",
    "          9876543218\n",
    "          ASDFG5678P\n",
    "          ASDFG56784\n",
    "          ASDSDVFHDBD5566POIUYY\n",
    "          HGHSBMHSD4567XBCBXJHCXCMX\"\"\"\n",
    "\n",
    "mobile = re.findall(r'\\b\\d{10}\\b',text)\n",
    "mobile"
   ]
  },
  {
   "cell_type": "markdown",
   "id": "02bdf632",
   "metadata": {},
   "source": [
    "__2) re.search(pattern, string)__"
   ]
  },
  {
   "cell_type": "code",
   "execution_count": 32,
   "id": "69df6368",
   "metadata": {},
   "outputs": [
    {
     "name": "stdout",
     "output_type": "stream",
     "text": [
      "<re.Match object; span=(22, 32), match='QWERT5678A'>\n",
      "QWERT5678A\n",
      "22\n",
      "32\n"
     ]
    }
   ],
   "source": [
    "text = \"\"\" PAN CARDs\n",
    "           QWERT5678A\n",
    "           QWERT3456P\n",
    "           POIYU5678P\n",
    "           9988776655\n",
    "           1234567777\n",
    "           QWEKL9876L\n",
    "           3456 7890 1234 \"\"\"\n",
    "\n",
    "pan_num = re.search(r'\\b[A-Z]{5}\\d{4}[A-Z]',text)\n",
    "print(pan_num) # prints the match object, which includes information about the match such as the matched string, start position, and end position\n",
    "print(pan_num.group()) # prints the actual matched string\n",
    "print(pan_num.start()) # prints the start position of the match in the original text\n",
    "print(pan_num.end()) # prints the end position of the match in the original text"
   ]
  },
  {
   "cell_type": "code",
   "execution_count": 33,
   "id": "8f5d4a53",
   "metadata": {},
   "outputs": [
    {
     "name": "stdout",
     "output_type": "stream",
     "text": [
      "<re.Match object; span=(22, 32), match='QWERT5678A'>\n",
      "Match found\n",
      "QWERT5678A\n"
     ]
    }
   ],
   "source": [
    "text = \"\"\" PAN CARDs\n",
    "           QWERT5678A\n",
    "           QWERT3456P\n",
    "           POIYU5678P\n",
    "           9988776655\n",
    "           1234567777\n",
    "           QWEKL9876L\n",
    "           3456 7890 1234 \"\"\"\n",
    "\n",
    "pan_num = re.search(r'\\b[A-Z]{5}\\d{4}[A-Z]',text)\n",
    "print(pan_num)\n",
    "if pan_num:\n",
    "    print('Match found')\n",
    "    print(pan_num.group())"
   ]
  },
  {
   "cell_type": "code",
   "execution_count": 34,
   "id": "886042fe",
   "metadata": {},
   "outputs": [
    {
     "data": {
      "text/plain": [
       "'batwoman'"
      ]
     },
     "execution_count": 34,
     "metadata": {},
     "output_type": "execute_result"
    }
   ],
   "source": [
    "text = ' batwoman and batman'\n",
    "result = re.search('bat(wo)?man', text)\n",
    "result.group()"
   ]
  },
  {
   "cell_type": "markdown",
   "id": "f8c5b52c",
   "metadata": {},
   "source": [
    "__3) re.match(pattern, string)__"
   ]
  },
  {
   "cell_type": "code",
   "execution_count": 35,
   "id": "bc56af28",
   "metadata": {},
   "outputs": [
    {
     "name": "stdout",
     "output_type": "stream",
     "text": [
      "No match found\n"
     ]
    }
   ],
   "source": [
    "text = \"\"\" PAN CARDs\n",
    "           QWERT5678A\n",
    "           QWERT3456P\n",
    "           POIYU5678P\n",
    "           9988776655\n",
    "           1234567777\n",
    "           QWEKL9876L\n",
    "           3456 7890 1234 \"\"\"\n",
    "\n",
    "result = re.match(r'[A-Z]{5}\\d{4}[A-Z]',text)\n",
    "if result:\n",
    "    print('Match found')\n",
    "    print(result.group())\n",
    "    \n",
    "else:\n",
    "    print('No match found')"
   ]
  },
  {
   "cell_type": "code",
   "execution_count": 36,
   "id": "b6bb006f",
   "metadata": {},
   "outputs": [
    {
     "name": "stdout",
     "output_type": "stream",
     "text": [
      "No match found\n"
     ]
    }
   ],
   "source": [
    "text = \"\"\" PAN CARDs\n",
    "           QWERT5678A\n",
    "           QWERT3456P\n",
    "           POIYU5678P\n",
    "           9988776655\n",
    "           1234567777\n",
    "           QWEKL9876L\n",
    "           3456 7890 1234 \"\"\"\n",
    "\n",
    "result = re.match(r'[A-Z]{3}',text)\n",
    "if result:\n",
    "    print('Match found')\n",
    "    print(result.group())\n",
    "    \n",
    "else:\n",
    "    print('No match found')"
   ]
  },
  {
   "cell_type": "code",
   "execution_count": 37,
   "id": "66656064",
   "metadata": {},
   "outputs": [
    {
     "name": "stdout",
     "output_type": "stream",
     "text": [
      "Match found\n",
      " python\n"
     ]
    }
   ],
   "source": [
    "text = \"\"\" python class\n",
    "           QWERT5678A\n",
    "           QWERT3456P\n",
    "           POIYU5678P\n",
    "           9988776655\n",
    "           1234567777\n",
    "           QWEKL9876L\n",
    "           3456 7890 1234 \"\"\"\n",
    "\n",
    "result = re.match(r' python',text)\n",
    "if result:\n",
    "    print('Match found')\n",
    "    print(result.group())\n",
    "    \n",
    "else:\n",
    "    print('No match found')"
   ]
  },
  {
   "cell_type": "markdown",
   "id": "af655ea6",
   "metadata": {},
   "source": [
    "__4) re.sub(pattern, replacement, string)__"
   ]
  },
  {
   "cell_type": "code",
   "execution_count": 38,
   "id": "52e8db8f",
   "metadata": {},
   "outputs": [
    {
     "data": {
      "text/plain": [
       "'Python is an interdisciplinary field uses 45,678 scienctific methods'"
      ]
     },
     "execution_count": 38,
     "metadata": {},
     "output_type": "execute_result"
    }
   ],
   "source": [
    "string = \"\"\"Data science is an interdisciplinary field uses 45,678 scienctific methods\"\"\"\n",
    "string = string.replace('Data science', 'Python')\n",
    "string"
   ]
  },
  {
   "cell_type": "code",
   "execution_count": 39,
   "id": "f0f2b867",
   "metadata": {},
   "outputs": [
    {
     "name": "stdout",
     "output_type": "stream",
     "text": [
      "Data science is an interdisciplinary field uses +++++ scienctific methods\n"
     ]
    }
   ],
   "source": [
    "string = \"\"\"Data science is an interdisciplinary field uses 45678 scienctific methods\"\"\"\n",
    "new_string = re.sub('\\d','+', string)\n",
    "print(new_string)"
   ]
  },
  {
   "cell_type": "code",
   "execution_count": 40,
   "id": "35f79965",
   "metadata": {},
   "outputs": [
    {
     "name": "stdout",
     "output_type": "stream",
     "text": [
      "Datascienceisaninterdisciplinaryfieldusesscienctificmethods\n"
     ]
    }
   ],
   "source": [
    "string = \"\"\"Data science is an @#$%^ interdisciplinary field uses 45678 scienctific methods\"\"\"\n",
    "new_string = re.sub('[^A-Za-z]','', string)\n",
    "print(new_string)"
   ]
  },
  {
   "cell_type": "code",
   "execution_count": 41,
   "id": "164bc251",
   "metadata": {},
   "outputs": [
    {
     "name": "stdout",
     "output_type": "stream",
     "text": [
      "Data science is an       interdisciplinary field uses       scienctific methods\n"
     ]
    }
   ],
   "source": [
    "string = \"\"\"Data science is an @#$%^ interdisciplinary field uses 45678 scienctific methods\"\"\"\n",
    "new_string = re.sub('[^A-Za-z]',' ', string)\n",
    "print(new_string)"
   ]
  },
  {
   "cell_type": "markdown",
   "id": "ba906bc8",
   "metadata": {},
   "source": [
    "__'+' (plus sign)__"
   ]
  },
  {
   "cell_type": "code",
   "execution_count": 42,
   "id": "02ade616",
   "metadata": {},
   "outputs": [
    {
     "data": {
      "text/plain": [
       "'Data science is the domain of study that deals with vast volumes of data using modern tools and techniques to find unseen patterns, derive meaningful information, and make business decisions. Data science uses complex machine learning algorithms to build predictive models.'"
      ]
     },
     "execution_count": 42,
     "metadata": {},
     "output_type": "execute_result"
    }
   ],
   "source": [
    "text = \"\"\"Data         science is the domain of       study that deals with     vast volumes of data using modern tools and \n",
    "techniques to find unseen patterns, derive meaningful     information, and     make business decisions.\n",
    "Data science uses complex machine learning algorithms to build predictive models.\"\"\"\n",
    "\n",
    "result = re.sub('\\s+', ' ',text)\n",
    "result"
   ]
  },
  {
   "cell_type": "code",
   "execution_count": 43,
   "id": "adf4c2c4",
   "metadata": {},
   "outputs": [
    {
     "data": {
      "text/plain": [
       "'Data science is the domain of study that deals with vast volumes of data using modern tools and techniques to find unseen patterns derive meaningful information and make business decisions Data science uses complex machine learning algorithms to build predictive models '"
      ]
     },
     "execution_count": 43,
     "metadata": {},
     "output_type": "execute_result"
    }
   ],
   "source": [
    "text = \"\"\"Data @#$$%^  science is the domain of study that deals with vast volumes of data using modern tools and \n",
    "techniques to find unseen patterns, derive meaningful ##$%^&  information, and make business decisions.\n",
    "Data science uses complex machine learning algorithms to build predictive models.\"\"\"\n",
    "\n",
    "result = re.sub('\\W+', ' ',text)\n",
    "result"
   ]
  },
  {
   "cell_type": "code",
   "execution_count": 44,
   "id": "3bf5482e",
   "metadata": {},
   "outputs": [
    {
     "data": {
      "text/plain": [
       "'Data science is the domain of study that deals with vast volumes of data using modern tools and techniques to find unseen patterns derive meaningful information and make business decisions Data science uses complex machine learning algorithms to build predictive models '"
      ]
     },
     "execution_count": 44,
     "metadata": {},
     "output_type": "execute_result"
    }
   ],
   "source": [
    "text = \"\"\"Data @#$$%^  science is the domain of study that deals with vast volumes of data using modern tools and \n",
    "techniques to find unseen patterns, derive meaningful ##$%^&  information, and make business decisions.\n",
    "Data science uses complex machine learning algorithms to build predictive models.\"\"\"\n",
    "\n",
    "result = re.sub('[^a-zA-Z0-9]+', ' ',text)\n",
    "result"
   ]
  },
  {
   "cell_type": "code",
   "execution_count": 45,
   "id": "5bba9924",
   "metadata": {},
   "outputs": [
    {
     "data": {
      "text/plain": [
       "['python', 'python']"
      ]
     },
     "execution_count": 45,
     "metadata": {},
     "output_type": "execute_result"
    }
   ],
   "source": [
    "text = 'python and data science pythonnnn pyttthon'\n",
    "result = re.findall('python',text)\n",
    "result"
   ]
  },
  {
   "cell_type": "code",
   "execution_count": 46,
   "id": "0b4caa46",
   "metadata": {},
   "outputs": [
    {
     "data": {
      "text/plain": [
       "['python', 'python', 'pyttthon']"
      ]
     },
     "execution_count": 46,
     "metadata": {},
     "output_type": "execute_result"
    }
   ],
   "source": [
    "text = 'python and data science pythonnnn pyttthon'\n",
    "result = re.findall('pyt+hon',text)\n",
    "result"
   ]
  },
  {
   "cell_type": "code",
   "execution_count": 47,
   "id": "10614845",
   "metadata": {},
   "outputs": [
    {
     "data": {
      "text/plain": [
       "['python', 'python', 'pyttthon', 'pyttthon']"
      ]
     },
     "execution_count": 47,
     "metadata": {},
     "output_type": "execute_result"
    }
   ],
   "source": [
    "text = 'python and data science pythonnnn pyttthon pyttthonnnnn'\n",
    "result = re.findall('pyt+hon',text)\n",
    "result"
   ]
  },
  {
   "cell_type": "markdown",
   "id": "855e0089",
   "metadata": {},
   "source": [
    "__'\\*' (star sign)__"
   ]
  },
  {
   "cell_type": "code",
   "execution_count": 48,
   "id": "e1a70117",
   "metadata": {},
   "outputs": [
    {
     "data": {
      "text/plain": [
       "['python', 'pyhon', 'pyttthon']"
      ]
     },
     "execution_count": 48,
     "metadata": {},
     "output_type": "execute_result"
    }
   ],
   "source": [
    "text = 'python and data science pyhonnnn pyttthon pyttthooonnnnn'\n",
    "result = re.findall('pyt*hon',text)\n",
    "result"
   ]
  },
  {
   "cell_type": "code",
   "execution_count": 49,
   "id": "5bb9af58",
   "metadata": {},
   "outputs": [
    {
     "data": {
      "text/plain": [
       "['python', 'pyhon', 'pyttthon', 'pyttthn']"
      ]
     },
     "execution_count": 49,
     "metadata": {},
     "output_type": "execute_result"
    }
   ],
   "source": [
    "text = 'python and data science pyhonnnn pyttthon pyttthnnnnn'\n",
    "result = re.findall('pyt*ho*n',text)\n",
    "result"
   ]
  },
  {
   "cell_type": "code",
   "execution_count": 50,
   "id": "12eb23d2",
   "metadata": {},
   "outputs": [
    {
     "data": {
      "text/plain": [
       "['python', 'pyhon', 'pytthhhhon']"
      ]
     },
     "execution_count": 50,
     "metadata": {},
     "output_type": "execute_result"
    }
   ],
   "source": [
    "text = 'python and data science pyhon  pytthhhhon'\n",
    "result = re.findall('pyt*h+on',text)\n",
    "result"
   ]
  },
  {
   "cell_type": "markdown",
   "id": "7ec511cd",
   "metadata": {},
   "source": [
    "__'.' (dot sign)__"
   ]
  },
  {
   "cell_type": "code",
   "execution_count": 51,
   "id": "3a4fdad7",
   "metadata": {},
   "outputs": [
    {
     "data": {
      "text/plain": [
       "['python']"
      ]
     },
     "execution_count": 51,
     "metadata": {},
     "output_type": "execute_result"
    }
   ],
   "source": [
    "text = 'python and data science pyhon pytthhhhon'\n",
    "result = re.findall('py..on', text)\n",
    "result"
   ]
  },
  {
   "cell_type": "code",
   "execution_count": 52,
   "id": "a5824cd8",
   "metadata": {},
   "outputs": [
    {
     "data": {
      "text/plain": [
       "['science']"
      ]
     },
     "execution_count": 52,
     "metadata": {},
     "output_type": "execute_result"
    }
   ],
   "source": [
    "text = 'python and data science pyhon pytthhhhon pysuon'\n",
    "result = re.findall('sci..ce', text)\n",
    "result"
   ]
  },
  {
   "cell_type": "code",
   "execution_count": 53,
   "id": "834d9722",
   "metadata": {},
   "outputs": [
    {
     "data": {
      "text/plain": [
       "['python', 'pysuon']"
      ]
     },
     "execution_count": 53,
     "metadata": {},
     "output_type": "execute_result"
    }
   ],
   "source": [
    "text = 'python and data science pyhon pytthhhhon pysuon'\n",
    "result = re.findall('p...on', text)\n",
    "result"
   ]
  },
  {
   "cell_type": "code",
   "execution_count": 54,
   "id": "6b1ae116",
   "metadata": {},
   "outputs": [
    {
     "data": {
      "text/plain": [
       "['9812343030']"
      ]
     },
     "execution_count": 54,
     "metadata": {},
     "output_type": "execute_result"
    }
   ],
   "source": [
    "string = '8812345656 8812343030 9812343030 7812343030 8898763030 8823456700'\n",
    "result = re.findall('9.......30', string)\n",
    "result"
   ]
  },
  {
   "cell_type": "markdown",
   "id": "7585b9cd",
   "metadata": {},
   "source": [
    "__'?' (question mark sign)__"
   ]
  },
  {
   "cell_type": "code",
   "execution_count": 55,
   "id": "0842af3d",
   "metadata": {},
   "outputs": [
    {
     "data": {
      "text/plain": [
       "['python', 'pyhon']"
      ]
     },
     "execution_count": 55,
     "metadata": {},
     "output_type": "execute_result"
    }
   ],
   "source": [
    "text  = 'python and data science pyhon pytthhhhon'\n",
    "result = re.findall('pyt?hon',text)\n",
    "result"
   ]
  },
  {
   "cell_type": "code",
   "execution_count": 56,
   "id": "c852d8c1",
   "metadata": {},
   "outputs": [
    {
     "data": {
      "text/plain": [
       "['python', 'pyhon', 'pytthon']"
      ]
     },
     "execution_count": 56,
     "metadata": {},
     "output_type": "execute_result"
    }
   ],
   "source": [
    "# Difference between '*', '+' and '?'\n",
    "\n",
    "text  = 'python and data science pyhon pytthon'\n",
    "result = re.findall('pyt*hon',text)\n",
    "result"
   ]
  },
  {
   "cell_type": "code",
   "execution_count": 57,
   "id": "d16b4150",
   "metadata": {},
   "outputs": [
    {
     "data": {
      "text/plain": [
       "['python', 'pyhon']"
      ]
     },
     "execution_count": 57,
     "metadata": {},
     "output_type": "execute_result"
    }
   ],
   "source": [
    "text  = 'python and data science pyhon pytthon'\n",
    "result = re.findall('pyt?hon',text)\n",
    "result"
   ]
  },
  {
   "cell_type": "code",
   "execution_count": 58,
   "id": "56d34f14",
   "metadata": {},
   "outputs": [
    {
     "data": {
      "text/plain": [
       "['python', 'pytthon']"
      ]
     },
     "execution_count": 58,
     "metadata": {},
     "output_type": "execute_result"
    }
   ],
   "source": [
    "text  = 'python and data science pyhon pytthon'\n",
    "result = re.findall('pyt+hon',text)\n",
    "result"
   ]
  },
  {
   "cell_type": "markdown",
   "id": "a73becc5",
   "metadata": {},
   "source": [
    "__'^' (caret sign): startswith__"
   ]
  },
  {
   "cell_type": "code",
   "execution_count": 59,
   "id": "9ab801f8",
   "metadata": {},
   "outputs": [
    {
     "data": {
      "text/plain": [
       "['8']"
      ]
     },
     "execution_count": 59,
     "metadata": {},
     "output_type": "execute_result"
    }
   ],
   "source": [
    "string = '8812345656 8812343030 9812343030 7812343030 8898763030 8823456700'\n",
    "result = re.findall('^8', string)\n",
    "result"
   ]
  },
  {
   "cell_type": "code",
   "execution_count": 60,
   "id": "7dffb0fd",
   "metadata": {},
   "outputs": [
    {
     "data": {
      "text/plain": [
       "['7']"
      ]
     },
     "execution_count": 60,
     "metadata": {},
     "output_type": "execute_result"
    }
   ],
   "source": [
    "string = '7812345656 8812345656 8812343030 9812343030 7812343030 8898763030 8823456700'\n",
    "result = re.findall('^\\d', string)\n",
    "result"
   ]
  },
  {
   "cell_type": "code",
   "execution_count": 61,
   "id": "0ea9dd41",
   "metadata": {},
   "outputs": [
    {
     "data": {
      "text/plain": [
       "['7']"
      ]
     },
     "execution_count": 61,
     "metadata": {},
     "output_type": "execute_result"
    }
   ],
   "source": [
    "string = '7812345656 8812345656 8812343030 9812343030 7812343030 8898763030 8823456700'\n",
    "result = re.findall('^[987]', string) # caret is outside the square bracket; here it works as startswith 9 or 8 or 7\n",
    "result"
   ]
  },
  {
   "cell_type": "code",
   "execution_count": 62,
   "id": "998576dc",
   "metadata": {},
   "outputs": [
    {
     "data": {
      "text/plain": [
       "['1',\n",
       " '2',\n",
       " '3',\n",
       " '4',\n",
       " '5',\n",
       " '6',\n",
       " '5',\n",
       " '6',\n",
       " ' ',\n",
       " '1',\n",
       " '2',\n",
       " '3',\n",
       " '4',\n",
       " '5',\n",
       " '6',\n",
       " '5',\n",
       " '6',\n",
       " ' ',\n",
       " '1',\n",
       " '2',\n",
       " '3',\n",
       " '4',\n",
       " '3',\n",
       " '0',\n",
       " '3',\n",
       " '0',\n",
       " ' ',\n",
       " '1',\n",
       " '2',\n",
       " '3',\n",
       " '4',\n",
       " '3',\n",
       " '0',\n",
       " '3',\n",
       " '0',\n",
       " ' ',\n",
       " '1',\n",
       " '2',\n",
       " '3',\n",
       " '4',\n",
       " '3',\n",
       " '0',\n",
       " '3',\n",
       " '0',\n",
       " ' ',\n",
       " '6',\n",
       " '3',\n",
       " '0',\n",
       " '3',\n",
       " '0',\n",
       " ' ',\n",
       " '2',\n",
       " '3',\n",
       " '4',\n",
       " '5',\n",
       " '6',\n",
       " '0',\n",
       " '0']"
      ]
     },
     "execution_count": 62,
     "metadata": {},
     "output_type": "execute_result"
    }
   ],
   "source": [
    "string = '7812345656 8812345656 8812343030 9812343030 7812343030 8898763030 8823456700'\n",
    "result = re.findall('[^987]', string) # caret is inside the square bracket; here it works as except 9,8,7\n",
    "result"
   ]
  },
  {
   "cell_type": "code",
   "execution_count": 63,
   "id": "c05b645e",
   "metadata": {},
   "outputs": [
    {
     "data": {
      "text/plain": [
       "['P']"
      ]
     },
     "execution_count": 63,
     "metadata": {},
     "output_type": "execute_result"
    }
   ],
   "source": [
    "string = 'Python and data science pyton pytthon'\n",
    "result = re.findall('^[a-zA-Z]', string)\n",
    "result"
   ]
  },
  {
   "cell_type": "code",
   "execution_count": 64,
   "id": "55a5635b",
   "metadata": {},
   "outputs": [
    {
     "data": {
      "text/plain": [
       "['Python']"
      ]
     },
     "execution_count": 64,
     "metadata": {},
     "output_type": "execute_result"
    }
   ],
   "source": [
    "string = 'Python and data science pyton pytthon'\n",
    "result = re.findall('^[a-zA-Z]{6}', string)\n",
    "result"
   ]
  },
  {
   "cell_type": "markdown",
   "id": "b94a5afc",
   "metadata": {},
   "source": [
    "__'$' (dollar sign): endswith__"
   ]
  },
  {
   "cell_type": "code",
   "execution_count": 65,
   "id": "4b97e8ee",
   "metadata": {},
   "outputs": [
    {
     "data": {
      "text/plain": [
       "['n']"
      ]
     },
     "execution_count": 65,
     "metadata": {},
     "output_type": "execute_result"
    }
   ],
   "source": [
    "string = 'Python and data science pyton pytthon'\n",
    "result = re.findall('n$', string)\n",
    "result"
   ]
  },
  {
   "cell_type": "code",
   "execution_count": 66,
   "id": "6378075b",
   "metadata": {},
   "outputs": [
    {
     "data": {
      "text/plain": [
       "['n']"
      ]
     },
     "execution_count": 66,
     "metadata": {},
     "output_type": "execute_result"
    }
   ],
   "source": [
    "string = 'Python and data science pyton pytthon'\n",
    "result = re.findall('[a-z]$', string)\n",
    "result"
   ]
  },
  {
   "cell_type": "code",
   "execution_count": 67,
   "id": "ee04208f",
   "metadata": {},
   "outputs": [
    {
     "data": {
      "text/plain": [
       "[]"
      ]
     },
     "execution_count": 67,
     "metadata": {},
     "output_type": "execute_result"
    }
   ],
   "source": [
    "string = '   Python and data science pyton pytthon 12345   '\n",
    "result = re.findall('[a-z0-9]$', string) # string is ending with whitespace character.\n",
    "result"
   ]
  },
  {
   "cell_type": "code",
   "execution_count": 68,
   "id": "472fa382",
   "metadata": {},
   "outputs": [
    {
     "data": {
      "text/plain": [
       "['5']"
      ]
     },
     "execution_count": 68,
     "metadata": {},
     "output_type": "execute_result"
    }
   ],
   "source": [
    "string = '   Python and data science pyton pytthon 12345   '\n",
    "string = string.strip() # using strip function to removee leadig and trailing spaces\n",
    "result = re.findall('[a-z0-9]$', string)\n",
    "result"
   ]
  },
  {
   "cell_type": "code",
   "execution_count": 69,
   "id": "f16d4411",
   "metadata": {},
   "outputs": [
    {
     "data": {
      "text/plain": [
       "['Data sc']"
      ]
     },
     "execution_count": 69,
     "metadata": {},
     "output_type": "execute_result"
    }
   ],
   "source": [
    "text = \"\"\"Data science is the domain of study that deals with vast volumes of data using modern \n",
    "tools and techniques to find unseen patterns\"\"\"\n",
    "result = re.findall('^D......', text)\n",
    "result"
   ]
  },
  {
   "cell_type": "code",
   "execution_count": 70,
   "id": "83feb6c6",
   "metadata": {},
   "outputs": [
    {
     "data": {
      "text/plain": [
       "['Data science is the domain of study that deals with vast volumes of data using modern ']"
      ]
     },
     "execution_count": 70,
     "metadata": {},
     "output_type": "execute_result"
    }
   ],
   "source": [
    "text = \"\"\"Data science is the domain of study that deals with vast volumes of data using modern \n",
    "tools and techniques to find unseen patterns\"\"\"\n",
    "result = re.findall('^D.*', text)\n",
    "result"
   ]
  },
  {
   "cell_type": "code",
   "execution_count": 71,
   "id": "b334a282",
   "metadata": {},
   "outputs": [
    {
     "data": {
      "text/plain": [
       "['Data science is the domain of study that deals with vast volumes of data using modern ']"
      ]
     },
     "execution_count": 71,
     "metadata": {},
     "output_type": "execute_result"
    }
   ],
   "source": [
    "text = \"\"\"Data science is the domain of study that deals with vast volumes of data using modern \n",
    "tools and techniques to find unseen patterns\"\"\"\n",
    "result = re.findall('^D.+', text)\n",
    "result"
   ]
  },
  {
   "cell_type": "markdown",
   "id": "cc7b2876",
   "metadata": {},
   "source": [
    "__'|' (or sign)__"
   ]
  },
  {
   "cell_type": "code",
   "execution_count": 72,
   "id": "631c0e52",
   "metadata": {},
   "outputs": [
    {
     "data": {
      "text/plain": [
       "['Data', 'science']"
      ]
     },
     "execution_count": 72,
     "metadata": {},
     "output_type": "execute_result"
    }
   ],
   "source": [
    "text = \"\"\"Data science is the domain of study that deals with vast volumes of data using modern \n",
    "tools and techniques to find unseen patterns\"\"\"\n",
    "result = re.findall('Data|science', text) # 1 occurances\n",
    "result"
   ]
  },
  {
   "cell_type": "code",
   "execution_count": 73,
   "id": "3fce49b4",
   "metadata": {},
   "outputs": [
    {
     "data": {
      "text/plain": [
       "['Data', 'science', 'Data', 'science']"
      ]
     },
     "execution_count": 73,
     "metadata": {},
     "output_type": "execute_result"
    }
   ],
   "source": [
    "text = \"\"\"Data science is the domain of study that Data deals with vast volumes of science data using modern \n",
    "tools and techniques to find unseen patterns\"\"\"\n",
    "result = re.findall('Data|science', text) # 2 occurances\n",
    "result"
   ]
  },
  {
   "cell_type": "code",
   "execution_count": 74,
   "id": "93a08164",
   "metadata": {},
   "outputs": [
    {
     "data": {
      "text/plain": [
       "['Data', 'science', 'Data', 'science', '2345']"
      ]
     },
     "execution_count": 74,
     "metadata": {},
     "output_type": "execute_result"
    }
   ],
   "source": [
    "text = \"\"\"Data science is the domain of study that Data deals with vast volumes of science data using modern \n",
    "tools and techniques to find unseen patterns 2345\"\"\"\n",
    "result = re.findall('Data|science|2345', text)\n",
    "result"
   ]
  },
  {
   "cell_type": "code",
   "execution_count": 75,
   "id": "74f69f2d",
   "metadata": {},
   "outputs": [
    {
     "data": {
      "text/plain": [
       "['27-05-2022', '27/05/2022']"
      ]
     },
     "execution_count": 75,
     "metadata": {},
     "output_type": "execute_result"
    }
   ],
   "source": [
    "text = \"\"\"27-05-2022 and 27/05/2022\"\"\"\n",
    "result = re.findall('\\d{2}[-/]\\d{2}[-/]\\d{4}', text) # You can write in this way also\n",
    "result"
   ]
  },
  {
   "cell_type": "code",
   "execution_count": 76,
   "id": "fc5c72b7",
   "metadata": {},
   "outputs": [
    {
     "data": {
      "text/plain": [
       "['27-05-2022', '27/05/2022']"
      ]
     },
     "execution_count": 76,
     "metadata": {},
     "output_type": "execute_result"
    }
   ],
   "source": [
    "text = \"\"\"27-05-2022 and 27/05/2022\"\"\"\n",
    "result = re.findall(r'\\b\\d{2}[-]\\d{2}[-]\\d{4}\\b|\\d{2}[/]\\d{2}[/]\\d{4}', text)\n",
    "result"
   ]
  },
  {
   "cell_type": "code",
   "execution_count": 77,
   "id": "c40ff6e9",
   "metadata": {},
   "outputs": [
    {
     "data": {
      "text/plain": [
       "['27-05-2022', '27/05/2022', '27 May 2022']"
      ]
     },
     "execution_count": 77,
     "metadata": {},
     "output_type": "execute_result"
    }
   ],
   "source": [
    "text = \"\"\"27-05-2022 and 27/05/2022, '27 May 2022'\"\"\"\n",
    "result = re.findall(r'\\b\\d{2}[-/]\\d{2}[-/]\\d{4}\\b|\\d{2}[ ][A-Za-z]{3}[ ]\\d{4}', text)\n",
    "result"
   ]
  },
  {
   "cell_type": "markdown",
   "id": "3121b033",
   "metadata": {},
   "source": [
    "__5) re.split(pattern,string,maxsplit=0):__"
   ]
  },
  {
   "cell_type": "code",
   "execution_count": 78,
   "id": "5102064d",
   "metadata": {},
   "outputs": [
    {
     "name": "stdout",
     "output_type": "stream",
     "text": [
      "['Data', 'science', 'is', 'the', 'domain', 'of', 'study', 'that', 'Data', 'deals', 'with', 'vast', 'volumes', 'of', 'science', 'data', 'using', 'modern', 'tools', 'and', 'techniques', 'to', 'find', 'unseen', 'patterns', '2345', '1234']\n"
     ]
    }
   ],
   "source": [
    "text = \"\"\"Data science is the domain of study that Data deals with vast volumes of science data using modern \n",
    "tools and techniques to find unseen patterns 2345 1234\"\"\"\n",
    "list1 = text.split()\n",
    "print(list1)"
   ]
  },
  {
   "cell_type": "code",
   "execution_count": 79,
   "id": "8ec62098",
   "metadata": {},
   "outputs": [
    {
     "name": "stdout",
     "output_type": "stream",
     "text": [
      "['Data science ', ' is the domain of study that Data deals with vast volumes of science data using modern \\ntools and techniques to find unseen patterns 2345 ', '234']\n"
     ]
    }
   ],
   "source": [
    "text = \"\"\"Data science 1 is the domain of study that Data deals with vast volumes of science data using modern \n",
    "tools and techniques to find unseen patterns 2345 1234\"\"\"\n",
    "list1 = text.split('1')\n",
    "print(list1)"
   ]
  },
  {
   "cell_type": "code",
   "execution_count": 80,
   "id": "ec031850",
   "metadata": {},
   "outputs": [
    {
     "name": "stdout",
     "output_type": "stream",
     "text": [
      "['python ', ' and ', ' data science']\n"
     ]
    }
   ],
   "source": [
    "text = \"\"\"python A and B data science\"\"\"\n",
    "list1 = re.split('[A-Z]',text)\n",
    "print(list1)"
   ]
  },
  {
   "cell_type": "code",
   "execution_count": 81,
   "id": "4e140bd5",
   "metadata": {},
   "outputs": [
    {
     "name": "stdout",
     "output_type": "stream",
     "text": [
      "['99', '33', '44', '12', '34', '67', '51']\n"
     ]
    }
   ],
   "source": [
    "text = \"\"\"99,33,44,12-34-67-51\"\"\"\n",
    "list1 = re.split('[,-]',text)\n",
    "print(list1)"
   ]
  },
  {
   "cell_type": "code",
   "execution_count": 82,
   "id": "cc025e75",
   "metadata": {},
   "outputs": [
    {
     "name": "stdout",
     "output_type": "stream",
     "text": [
      "['99', '33', '44', '12', '34', '67', '51']\n"
     ]
    }
   ],
   "source": [
    "text = \"\"\"99,33,44,12-34-67-51\"\"\"\n",
    "list1 = re.split(',|-',text)\n",
    "print(list1)"
   ]
  },
  {
   "cell_type": "markdown",
   "id": "03d80f32",
   "metadata": {},
   "source": [
    "__6) re.compile(pattern):__"
   ]
  },
  {
   "cell_type": "code",
   "execution_count": 83,
   "id": "62b630bd",
   "metadata": {},
   "outputs": [
    {
     "data": {
      "text/plain": [
       "['123-456-9876']"
      ]
     },
     "execution_count": 83,
     "metadata": {},
     "output_type": "execute_result"
    }
   ],
   "source": [
    "string5 = '2123-456-9876'\n",
    "result = re.findall('\\d{3}[-]\\d{3}[-]\\d{4}',string5)\n",
    "result"
   ]
  },
  {
   "cell_type": "code",
   "execution_count": 84,
   "id": "da0f8eb4",
   "metadata": {},
   "outputs": [
    {
     "data": {
      "text/plain": [
       "'123-456-9876'"
      ]
     },
     "execution_count": 84,
     "metadata": {},
     "output_type": "execute_result"
    }
   ],
   "source": [
    "pattern = re.compile('(\\d{3}[-])?\\d{3}[-]\\d{4}')\n",
    "string1 = '123-456-9876'\n",
    "result = pattern.search(string1)\n",
    "result.group()"
   ]
  },
  {
   "cell_type": "code",
   "execution_count": 85,
   "id": "b933e666",
   "metadata": {},
   "outputs": [],
   "source": [
    "string1 = '123-456-9876'\n",
    "string2 = '456-9876'\n",
    "string3 = '123-9876'\n",
    "string4 = '567-456-9876'\n",
    "string5 = '2123-456-9876'\n",
    "string6 = '123-456-9876'"
   ]
  },
  {
   "cell_type": "code",
   "execution_count": 86,
   "id": "1c4e3730",
   "metadata": {},
   "outputs": [],
   "source": [
    "pattern = re.compile('(\\d{3}[-])?\\d{3}[-]\\d{4}')"
   ]
  },
  {
   "cell_type": "code",
   "execution_count": 87,
   "id": "5e762ec5",
   "metadata": {},
   "outputs": [
    {
     "name": "stdout",
     "output_type": "stream",
     "text": [
      "123-456-9876\n",
      "456-9876\n",
      "123-9876\n",
      "567-456-9876\n",
      "123-456-9876\n",
      "123-456-9876\n"
     ]
    }
   ],
   "source": [
    "result1 = pattern.search(string1)\n",
    "result2 = pattern.search(string2)\n",
    "result3 = pattern.search(string3)\n",
    "result4 = pattern.search(string4)\n",
    "result5 = pattern.search(string5)\n",
    "result6 = pattern.search(string6)\n",
    "\n",
    "print(result1.group())\n",
    "print(result2.group())\n",
    "print(result3.group())\n",
    "print(result4.group())\n",
    "print(result5.group())\n",
    "print(result6.group())"
   ]
  },
  {
   "cell_type": "code",
   "execution_count": 88,
   "id": "16aed9fc",
   "metadata": {},
   "outputs": [],
   "source": [
    "# For example\n",
    "\n",
    "# prog = re.compile(pattern) # We can use this again and again\n",
    "# result = prog.match(string)\n",
    "\n",
    "# Which is equivalent to\n",
    "# result = re.match(pattern, string) "
   ]
  }
 ],
 "metadata": {
  "kernelspec": {
   "display_name": "Python 3 (ipykernel)",
   "language": "python",
   "name": "python3"
  },
  "language_info": {
   "codemirror_mode": {
    "name": "ipython",
    "version": 3
   },
   "file_extension": ".py",
   "mimetype": "text/x-python",
   "name": "python",
   "nbconvert_exporter": "python",
   "pygments_lexer": "ipython3",
   "version": "3.9.12"
  }
 },
 "nbformat": 4,
 "nbformat_minor": 5
}
